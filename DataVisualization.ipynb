{
  "nbformat": 4,
  "nbformat_minor": 0,
  "metadata": {
    "colab": {
      "name": "DataVisualization.ipynb",
      "provenance": [],
      "collapsed_sections": [
        "LXiGzH3ubsQF"
      ],
      "include_colab_link": true
    },
    "kernelspec": {
      "name": "python3",
      "display_name": "Python 3"
    },
    "accelerator": "GPU"
  },
  "cells": [
    {
      "cell_type": "markdown",
      "metadata": {
        "id": "view-in-github",
        "colab_type": "text"
      },
      "source": [
        "<a href=\"https://colab.research.google.com/github/Wang-Kevin900/DataVisualization/blob/main/DataVisualization.ipynb\" target=\"_parent\"><img src=\"https://colab.research.google.com/assets/colab-badge.svg\" alt=\"Open In Colab\"/></a>"
      ]
    },
    {
      "cell_type": "markdown",
      "metadata": {
        "id": "GUDrvVDi65qA"
      },
      "source": [
        "# Setup libraries"
      ]
    },
    {
      "cell_type": "markdown",
      "metadata": {
        "id": "hI8t0qKzeCcq"
      },
      "source": [
        "Donwloading the various library needed to use the program using the console thanks to the symbol \"!\""
      ]
    },
    {
      "cell_type": "code",
      "metadata": {
        "id": "OY_oA_b-6-z4",
        "colab": {
          "base_uri": "https://localhost:8080/"
        },
        "outputId": "4a5a41c9-4556-4635-f1e7-a220096b24dd"
      },
      "source": [
        "!pip install bokeh\r\n",
        "!pip install altair\r\n",
        "!pip install plotly\r\n",
        "!pip install pandas\r\n",
        "!pip install datetime"
      ],
      "execution_count": 19,
      "outputs": [
        {
          "output_type": "stream",
          "text": [
            "Requirement already satisfied: bokeh in /usr/local/lib/python3.6/dist-packages (2.1.1)\n",
            "Requirement already satisfied: typing-extensions>=3.7.4 in /usr/local/lib/python3.6/dist-packages (from bokeh) (3.7.4.3)\n",
            "Requirement already satisfied: packaging>=16.8 in /usr/local/lib/python3.6/dist-packages (from bokeh) (20.8)\n",
            "Requirement already satisfied: tornado>=5.1 in /usr/local/lib/python3.6/dist-packages (from bokeh) (5.1.1)\n",
            "Requirement already satisfied: PyYAML>=3.10 in /usr/local/lib/python3.6/dist-packages (from bokeh) (3.13)\n",
            "Requirement already satisfied: pillow>=4.0 in /usr/local/lib/python3.6/dist-packages (from bokeh) (7.0.0)\n",
            "Requirement already satisfied: Jinja2>=2.7 in /usr/local/lib/python3.6/dist-packages (from bokeh) (2.11.2)\n",
            "Requirement already satisfied: python-dateutil>=2.1 in /usr/local/lib/python3.6/dist-packages (from bokeh) (2.8.1)\n",
            "Requirement already satisfied: numpy>=1.11.3 in /usr/local/lib/python3.6/dist-packages (from bokeh) (1.19.4)\n",
            "Requirement already satisfied: pyparsing>=2.0.2 in /usr/local/lib/python3.6/dist-packages (from packaging>=16.8->bokeh) (2.4.7)\n",
            "Requirement already satisfied: MarkupSafe>=0.23 in /usr/local/lib/python3.6/dist-packages (from Jinja2>=2.7->bokeh) (1.1.1)\n",
            "Requirement already satisfied: six>=1.5 in /usr/local/lib/python3.6/dist-packages (from python-dateutil>=2.1->bokeh) (1.15.0)\n",
            "Requirement already satisfied: altair in /usr/local/lib/python3.6/dist-packages (4.1.0)\n",
            "Requirement already satisfied: entrypoints in /usr/local/lib/python3.6/dist-packages (from altair) (0.3)\n",
            "Requirement already satisfied: jinja2 in /usr/local/lib/python3.6/dist-packages (from altair) (2.11.2)\n",
            "Requirement already satisfied: pandas>=0.18 in /usr/local/lib/python3.6/dist-packages (from altair) (1.1.5)\n",
            "Requirement already satisfied: toolz in /usr/local/lib/python3.6/dist-packages (from altair) (0.11.1)\n",
            "Requirement already satisfied: numpy in /usr/local/lib/python3.6/dist-packages (from altair) (1.19.4)\n",
            "Requirement already satisfied: jsonschema in /usr/local/lib/python3.6/dist-packages (from altair) (2.6.0)\n",
            "Requirement already satisfied: MarkupSafe>=0.23 in /usr/local/lib/python3.6/dist-packages (from jinja2->altair) (1.1.1)\n",
            "Requirement already satisfied: pytz>=2017.2 in /usr/local/lib/python3.6/dist-packages (from pandas>=0.18->altair) (2018.9)\n",
            "Requirement already satisfied: python-dateutil>=2.7.3 in /usr/local/lib/python3.6/dist-packages (from pandas>=0.18->altair) (2.8.1)\n",
            "Requirement already satisfied: six>=1.5 in /usr/local/lib/python3.6/dist-packages (from python-dateutil>=2.7.3->pandas>=0.18->altair) (1.15.0)\n",
            "Requirement already satisfied: plotly in /usr/local/lib/python3.6/dist-packages (4.4.1)\n",
            "Requirement already satisfied: six in /usr/local/lib/python3.6/dist-packages (from plotly) (1.15.0)\n",
            "Requirement already satisfied: retrying>=1.3.3 in /usr/local/lib/python3.6/dist-packages (from plotly) (1.3.3)\n",
            "Requirement already satisfied: pandas in /usr/local/lib/python3.6/dist-packages (1.1.5)\n",
            "Requirement already satisfied: python-dateutil>=2.7.3 in /usr/local/lib/python3.6/dist-packages (from pandas) (2.8.1)\n",
            "Requirement already satisfied: numpy>=1.15.4 in /usr/local/lib/python3.6/dist-packages (from pandas) (1.19.4)\n",
            "Requirement already satisfied: pytz>=2017.2 in /usr/local/lib/python3.6/dist-packages (from pandas) (2018.9)\n",
            "Requirement already satisfied: six>=1.5 in /usr/local/lib/python3.6/dist-packages (from python-dateutil>=2.7.3->pandas) (1.15.0)\n",
            "Requirement already satisfied: datetime in /usr/local/lib/python3.6/dist-packages (4.3)\n",
            "Requirement already satisfied: pytz in /usr/local/lib/python3.6/dist-packages (from datetime) (2018.9)\n",
            "Requirement already satisfied: zope.interface in /usr/local/lib/python3.6/dist-packages (from datetime) (5.2.0)\n",
            "Requirement already satisfied: setuptools in /usr/local/lib/python3.6/dist-packages (from zope.interface->datetime) (51.0.0)\n"
          ],
          "name": "stdout"
        }
      ]
    },
    {
      "cell_type": "markdown",
      "metadata": {
        "id": "PMMQ_L7Qb6Vu"
      },
      "source": [
        "# Get data and setup"
      ]
    },
    {
      "cell_type": "markdown",
      "metadata": {
        "id": "ytCkpOk9_thE"
      },
      "source": [
        "Importing the txt sheet where all the data are (format: date - hour - value) (as long there's new line to indicate that a set of value is done, the program will work no matter how the data is placed in the datasheet, it is fault resistant) and lastly creating all the needed variable"
      ]
    },
    {
      "cell_type": "code",
      "metadata": {
        "id": "p97s3MLTysk0",
        "colab": {
          "resources": {
            "http://localhost:8080/nbextensions/google.colab/files.js": {
              "data": "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",
              "ok": true,
              "headers": [
                [
                  "content-type",
                  "application/javascript"
                ]
              ],
              "status": 200,
              "status_text": ""
            }
          },
          "base_uri": "https://localhost:8080/",
          "height": 72
        },
        "outputId": "2d9308d9-9379-4bf5-a38b-f3aa30a553f9"
      },
      "source": [
        "from google.colab import files\n",
        "from datetime import datetime\n",
        "\n",
        "# get the data from the text fi le\n",
        "file_data = files.upload()\n",
        "# trasform the data got from the txt file to list, \n",
        "# so that in the next FOR cyclefor trasforming the data is easier to read letter per letter\n",
        "string_datatext_value = list(file_data.values());"
      ],
      "execution_count": 20,
      "outputs": [
        {
          "output_type": "display_data",
          "data": {
            "text/html": [
              "\n",
              "     <input type=\"file\" id=\"files-15961783-274e-493c-8212-8cfa07269d71\" name=\"files[]\" multiple disabled\n",
              "        style=\"border:none\" />\n",
              "     <output id=\"result-15961783-274e-493c-8212-8cfa07269d71\">\n",
              "      Upload widget is only available when the cell has been executed in the\n",
              "      current browser session. Please rerun this cell to enable.\n",
              "      </output>\n",
              "      <script src=\"/nbextensions/google.colab/files.js\"></script> "
            ],
            "text/plain": [
              "<IPython.core.display.HTML object>"
            ]
          },
          "metadata": {
            "tags": []
          }
        },
        {
          "output_type": "stream",
          "text": [
            "Saving Dati2Con2SerieAnalogicheEdUnaDigitale.txt to Dati2Con2SerieAnalogicheEdUnaDigitale (1).txt\n"
          ],
          "name": "stdout"
        }
      ]
    },
    {
      "cell_type": "markdown",
      "metadata": {
        "id": "cOUkzqrgdYH4"
      },
      "source": [
        "Preparing the needed variable to trasform the data read from the datasheet to usable data (in lists)"
      ]
    },
    {
      "cell_type": "code",
      "metadata": {
        "id": "6fQWTMrNdXVg"
      },
      "source": [
        "# variable that indicate the number of symbols that compose a date&time\r\n",
        "date_format = 10\r\n",
        "time_format = 8\r\n",
        "\r\n",
        "# variable that will store every symbol read from the datasheet\r\n",
        "buffer_of_data = \"\"\r\n",
        "\r\n",
        "# variable that will store the name/title of the various group of data \r\n",
        "# (it has:\"No Name\" value in case the file is missing a title for the group of data)\r\n",
        "element_name = \"No Name\"\r\n",
        "\r\n",
        "# variable that control if the line that the program is reading, is a data line or group title line\r\n",
        "control_name_line = False\r\n",
        "\r\n",
        "# variable that will store any complete data with any of the following format (date, time, float)\r\n",
        "single_string_list_of_data = []\r\n",
        "\r\n",
        "# once a single line of data (couple of data) is done being stored, \r\n",
        "# divide them (these 2 list are not really needed in the program, they are here only for code cleaness sake)\r\n",
        "list_of_datetime = []\r\n",
        "list_of_float = []\r\n",
        "\r\n",
        "# a general list where the complete data (by group) will be stored\r\n",
        "data_list = []\r\n",
        "\r\n",
        "# variable that checks if it's the first cycle inside the for loop since it started reading \r\n",
        "# (this is useful for avoiding adding data to the data list when it encounters the first title)\r\n",
        "# (since the program add to the data list before each title read)\r\n",
        "first_read = True\r\n",
        "\r\n",
        "# divide a single line of data of the datasheet in 3 section, where each section has the following meaning,\r\n",
        "# Date, Time, Float; what this variable do, is basically acting as index \r\n",
        "# to indicate wich section we are currently reading in the datasheet\r\n",
        "section_index = 0"
      ],
      "execution_count": 21,
      "outputs": []
    },
    {
      "cell_type": "markdown",
      "metadata": {
        "id": "C490lpURb-UK"
      },
      "source": [
        "# Trasform Data"
      ]
    },
    {
      "cell_type": "markdown",
      "metadata": {
        "id": "Jf69MNz7ASNJ"
      },
      "source": [
        "Rearranging all the data so that it returns a general list where all the data are stored, while also doing the casting from string to the needed type (for example string to datatime format)"
      ]
    },
    {
      "cell_type": "code",
      "metadata": {
        "id": "hpksqVJpLDG2"
      },
      "source": [
        "from datetime import datetime\r\n",
        "\r\n",
        "# go through all the data that were in the datasheet, and return a general list where are stored all the data (sorted by group)\r\n",
        "# the that reading actually works is that we divide each line of data in 3 section, and each section has different meaning\r\n",
        "# the order of meaning of each section is: data, time, value (this is useful so that we know what we are actually reading)\r\n",
        "for i in string_datatext_value[0]:\r\n",
        "  # 32 is a value ascii that means \"Space\"\r\n",
        "  # 9  is a value ascii that means \"Tab\"\r\n",
        "  # 13 is a value ascii that means \"Carriage Return\"\r\n",
        "  # 10 is a value ascii that means \"New Line\"\r\n",
        "  # Ignore all the \"special symbols\" (expect 10 since it is the last symbol before the new line is complete, \r\n",
        "  # and it is needed to know when the program is done reading a single line of data), and just get all the \"interesting\" data\r\n",
        "  if i != 32 and i != 9 and i != 13:\r\n",
        "    # read a single symbol (convert it from ASCII to string) from string of data (taken from the datasheet) and store it\r\n",
        "    buffer_of_data = buffer_of_data + chr(i);\r\n",
        "\r\n",
        "    # if we are currently in the first section (date section)...\r\n",
        "    if section_index == 0:\r\n",
        "      # if the lenght of the collected data reached the date format, that means that we are done with the date section,\r\n",
        "      # also it means that the casting mey be possible (it can fail in case the line read is a \"Title\" line)\r\n",
        "      if len(buffer_of_data) == date_format or control_name_line == True:\r\n",
        "        # if the line read is not a \"title\" line...\r\n",
        "        if control_name_line == False:\r\n",
        "          # try to do the casting (from string to datetime), and if it fail, it means that we are currently in a \"title\" line \r\n",
        "          # (since in the first section there could be only a date format or string format (that is the title))\r\n",
        "          try:\r\n",
        "            single_string_list_of_data.append(datetime.strptime(buffer_of_data, \"%d-%m-%Y\").date())\r\n",
        "\r\n",
        "            # if the read is successful, that means we are done reading the first data\r\n",
        "            first_read = False\r\n",
        "\r\n",
        "            # reset the buffer and pass to the next section\r\n",
        "            buffer_of_data = \"\"\r\n",
        "            section_index+=1\r\n",
        "          except:\r\n",
        "            # if the casting failed, that means we're in the \"title\" line\r\n",
        "            control_name_line = True\r\n",
        "\r\n",
        "        # if we're in the \"title\" line\r\n",
        "        elif control_name_line:\r\n",
        "          # wait to gather all the data of the title (we know it's done reading when we encounter the new line symbol)\r\n",
        "          if i == 10:\r\n",
        "            # if we've done the first reading, it means that we can add the data of the previous group\r\n",
        "            # the program add the data by group each time it reads a title \r\n",
        "            # (the first read variable is useful to ignore the add data during the first reading of the first title)\r\n",
        "            if first_read == False:\r\n",
        "              data_list.append([element_name, list_of_datetime.copy(), list_of_float.copy()])\r\n",
        "\r\n",
        "              # clean the 2 lists to prepare them for the upcoming data of other group of data\r\n",
        "              list_of_datetime.clear()\r\n",
        "              list_of_float.clear()\r\n",
        "\r\n",
        "            # reset all the \"support\" variable\r\n",
        "            element_name = buffer_of_data\r\n",
        "            buffer_of_data = \"\"\r\n",
        "            control_name_line = False\r\n",
        "\r\n",
        "      # if the symbol we got from the reading equals 10 (new line), that means that the line we are currently in the file, hasn't any data, so clean the buffer and go on\r\n",
        "      elif i == 10:\r\n",
        "        buffer_of_data = \"\"\r\n",
        "\r\n",
        "    # if we are currently in the second section (time section)...\r\n",
        "    elif section_index == 1:\r\n",
        "      # if the lenght of the collected data reached the time format, that means that we are done with the time section,\r\n",
        "      # also it means that the casting is possible\r\n",
        "      if len(buffer_of_data) == time_format:\r\n",
        "        single_string_list_of_data.append(datetime.strptime(buffer_of_data, \"%H:%M:%S\").time())\r\n",
        "\r\n",
        "        # reset the buffer and pass to the next section\r\n",
        "        buffer_of_data = \"\"\r\n",
        "        section_index+=1\r\n",
        "\r\n",
        "    # if we are currently in the third section (float section)...\r\n",
        "    elif section_index == 2:\r\n",
        "      # if we detect a 10 (in ASCII means \"new line\"), that means we're done reading a single line of data\r\n",
        "      # and that we are done to also reading a single couple of data\r\n",
        "      if i == 10:\r\n",
        "        # Add the string to the string of data while also,\r\n",
        "        # Converting the value from string to float and replacing the \",\" in \".\" so that the casting is possible\r\n",
        "        single_string_list_of_data.append(float(buffer_of_data.replace(\",\", \".\")))\r\n",
        "        \r\n",
        "        # divide the couple of data into 2 different lists to prepare them to be converted into pandas dataframe\r\n",
        "        list_of_datetime.append(datetime.combine(single_string_list_of_data[0], single_string_list_of_data[1]))\r\n",
        "        list_of_float.append(single_string_list_of_data[2])\r\n",
        "\r\n",
        "        # reset the buffer and the single string of data list and return to the first section to read more data of other lines\r\n",
        "        buffer_of_data = \"\"\r\n",
        "        single_string_list_of_data.clear()\r\n",
        "        section_index = 0\r\n",
        "\r\n",
        "# add items for the last time in the list if the last element in the txt file doesn't have \\n \r\n",
        "# (the consequence is that the for loop is unable to store the last couple of data)\r\n",
        "if string_datatext_value[0][len(string_datatext_value)-1] != 10 and string_datatext_value[0][len(string_datatext_value)-1] != 13:\r\n",
        "  single_string_list_of_data.append(float(buffer_of_data.replace(\",\", \".\")))\r\n",
        "  list_of_datetime.append(datetime.combine(single_string_list_of_data[0], single_string_list_of_data[1]))\r\n",
        "  list_of_float.append(single_string_list_of_data[2])\r\n",
        "\r\n",
        "# add the last group of data since the for cycle is unable to do it, because it adds to the list only when it encounters a new \"title\" \r\n",
        "# (and obviously at the end of a datasheet there can't be a title)\r\n",
        "data_list.append([element_name, list_of_datetime.copy(), list_of_float.copy()])"
      ],
      "execution_count": 22,
      "outputs": []
    },
    {
      "cell_type": "markdown",
      "metadata": {
        "id": "h0vh01Q6cv0s"
      },
      "source": [
        "# Choosing and Organizing the data\r\n"
      ]
    },
    {
      "cell_type": "code",
      "metadata": {
        "colab": {
          "base_uri": "https://localhost:8080/"
        },
        "id": "5K-HHSVZ6CXY",
        "outputId": "fcf436a5-ac1a-4fc3-9155-1e5c803db3fc"
      },
      "source": [
        "# a variable that keeps track of the cycle number of the for cycle\r\n",
        "i = 0\r\n",
        "\r\n",
        "# display to the user the possible choices\r\n",
        "print(\"Choose one of the following group of data to visualize (by inserting the number of the group):\")\r\n",
        "for data in data_list:\r\n",
        "  print(str(i)+ \") \"+ data[0])\r\n",
        "  i+=1\r\n",
        "\r\n",
        "# get from the user it's choice, and if it's valid, get the group of data selected\r\n",
        "while(True):\r\n",
        "  console_input = input()\r\n",
        "\r\n",
        "  if 0 <= int(console_input) and int(console_input) < len(data_list):\r\n",
        "    data_list = data_list[int(console_input)].copy()\r\n",
        "    break\r\n",
        "  else:\r\n",
        "    print(\"Please Insert a valid choice/number\")"
      ],
      "execution_count": 23,
      "outputs": [
        {
          "output_type": "stream",
          "text": [
            "Choose one of the following group of data to visualize (by inserting the number of the group):\n",
            "0) Grandezza1SondaSr(Sr)\n",
            "\n",
            "1) Grandezza2SondaSd(Sd)\n",
            "\n",
            "2) Grandezza3SondaDigitale\n",
            "\n",
            "1\n"
          ],
          "name": "stdout"
        }
      ]
    },
    {
      "cell_type": "markdown",
      "metadata": {
        "id": "Ul_RHsHNogdw"
      },
      "source": [
        "Convert all the lists (date list and value list) in Pandas DataFrame, then, visualize the list created"
      ]
    },
    {
      "cell_type": "code",
      "metadata": {
        "id": "sJ88MkFqoaz0",
        "colab": {
          "base_uri": "https://localhost:8080/",
          "height": 419
        },
        "outputId": "26d4dedd-0241-4c18-9ac2-b029dd7fb3c4"
      },
      "source": [
        "import pandas as pd\n",
        "\n",
        "# convert the 2 lists in a pandas dataframe (order of the list is: Title, Date, Value)\n",
        "data = pd.DataFrame({'date': data_list[1],\n",
        "                     'value': data_list[2]})\n",
        "\n",
        "# print out the datagram\n",
        "data"
      ],
      "execution_count": 24,
      "outputs": [
        {
          "output_type": "execute_result",
          "data": {
            "text/html": [
              "<div>\n",
              "<style scoped>\n",
              "    .dataframe tbody tr th:only-of-type {\n",
              "        vertical-align: middle;\n",
              "    }\n",
              "\n",
              "    .dataframe tbody tr th {\n",
              "        vertical-align: top;\n",
              "    }\n",
              "\n",
              "    .dataframe thead th {\n",
              "        text-align: right;\n",
              "    }\n",
              "</style>\n",
              "<table border=\"1\" class=\"dataframe\">\n",
              "  <thead>\n",
              "    <tr style=\"text-align: right;\">\n",
              "      <th></th>\n",
              "      <th>date</th>\n",
              "      <th>value</th>\n",
              "    </tr>\n",
              "  </thead>\n",
              "  <tbody>\n",
              "    <tr>\n",
              "      <th>0</th>\n",
              "      <td>2020-11-08 00:11:00</td>\n",
              "      <td>15.4</td>\n",
              "    </tr>\n",
              "    <tr>\n",
              "      <th>1</th>\n",
              "      <td>2020-11-08 00:31:00</td>\n",
              "      <td>-0.2</td>\n",
              "    </tr>\n",
              "    <tr>\n",
              "      <th>2</th>\n",
              "      <td>2020-11-08 00:51:00</td>\n",
              "      <td>-4.4</td>\n",
              "    </tr>\n",
              "    <tr>\n",
              "      <th>3</th>\n",
              "      <td>2020-11-08 01:11:00</td>\n",
              "      <td>-23.2</td>\n",
              "    </tr>\n",
              "    <tr>\n",
              "      <th>4</th>\n",
              "      <td>2020-11-08 01:31:00</td>\n",
              "      <td>-21.8</td>\n",
              "    </tr>\n",
              "    <tr>\n",
              "      <th>...</th>\n",
              "      <td>...</td>\n",
              "      <td>...</td>\n",
              "    </tr>\n",
              "    <tr>\n",
              "      <th>938</th>\n",
              "      <td>2020-11-20 23:51:00</td>\n",
              "      <td>0.2</td>\n",
              "    </tr>\n",
              "    <tr>\n",
              "      <th>939</th>\n",
              "      <td>2020-11-21 00:11:00</td>\n",
              "      <td>13.6</td>\n",
              "    </tr>\n",
              "    <tr>\n",
              "      <th>940</th>\n",
              "      <td>2020-11-21 00:31:00</td>\n",
              "      <td>-0.5</td>\n",
              "    </tr>\n",
              "    <tr>\n",
              "      <th>941</th>\n",
              "      <td>2020-11-21 00:51:00</td>\n",
              "      <td>-6.3</td>\n",
              "    </tr>\n",
              "    <tr>\n",
              "      <th>942</th>\n",
              "      <td>2020-11-21 01:11:00</td>\n",
              "      <td>-22.5</td>\n",
              "    </tr>\n",
              "  </tbody>\n",
              "</table>\n",
              "<p>943 rows × 2 columns</p>\n",
              "</div>"
            ],
            "text/plain": [
              "                   date  value\n",
              "0   2020-11-08 00:11:00   15.4\n",
              "1   2020-11-08 00:31:00   -0.2\n",
              "2   2020-11-08 00:51:00   -4.4\n",
              "3   2020-11-08 01:11:00  -23.2\n",
              "4   2020-11-08 01:31:00  -21.8\n",
              "..                  ...    ...\n",
              "938 2020-11-20 23:51:00    0.2\n",
              "939 2020-11-21 00:11:00   13.6\n",
              "940 2020-11-21 00:31:00   -0.5\n",
              "941 2020-11-21 00:51:00   -6.3\n",
              "942 2020-11-21 01:11:00  -22.5\n",
              "\n",
              "[943 rows x 2 columns]"
            ]
          },
          "metadata": {
            "tags": []
          },
          "execution_count": 24
        }
      ]
    },
    {
      "cell_type": "markdown",
      "metadata": {
        "id": "QdWeg8krcwVE"
      },
      "source": [
        "# Draw Chart"
      ]
    },
    {
      "cell_type": "markdown",
      "metadata": {
        "id": "ZurDLmLdckQa"
      },
      "source": [
        "Draw the Chart using the Bokeh library (the reason why i used this library is because it is easily customizable and it supports the callback event, in wich though, you have to write the code in JS; there is a method to convert some data from JS data kernel to Python data kernel by using IPython, but because of google colab enviroment, wich for some reason doesn't work, it is not possible.\r\n",
        "Also note that the Google Colab enviroment restrict a lot of interactivity possibilities (for example we are unable to create a bokeh server with the consequences of inability to use curdoc, that is important to add interactive feature to the program).\r\n",
        "(a solution is to install and use a local Jupyter Notebook))"
      ]
    },
    {
      "cell_type": "code",
      "metadata": {
        "id": "jByfhOKU01MO"
      },
      "source": [
        "from bokeh.plotting import figure, output_file, show\n",
        "from bokeh.io import output_notebook\n",
        "from bokeh.models import ColumnDataSource, CustomJS, Button\n",
        "from bokeh.models.tools import *\n",
        "from bokeh.models.widgets import DataTable, TableColumn, DateFormatter\n",
        "from bokeh.layouts import row, column\n",
        "\n",
        "\n",
        "# Configure the default output state to generate output in notebook cells when show() is called. \n",
        "output_notebook()"
      ],
      "execution_count": 25,
      "outputs": []
    },
    {
      "cell_type": "markdown",
      "metadata": {
        "id": "bQagyvbgsx-8"
      },
      "source": [
        "Create and setup the Main Plot whereas the various data will be displayed and interacted with"
      ]
    },
    {
      "cell_type": "code",
      "metadata": {
        "id": "F-ngYpkVVSZM"
      },
      "source": [
        "# ColumnDataSource is a special object, wich it is easy to share data between multiple plots and widgets\r\n",
        "# Also the same ColumnDataSource is used to drive multiple renderers, selections of the data source are also shared.\r\n",
        "main_source = ColumnDataSource(data)\r\n",
        "\r\n",
        "# select the desired tool that can be used with the chart\r\n",
        "chart_tools=\"pan, wheel_zoom, reset, hover, poly_select, box_select\"\r\n",
        "tooltip = HoverTool(\r\n",
        "    # specify wich type of info i want to show\r\n",
        "    tooltips=[\r\n",
        "        (\"index\", \"$index\"),\r\n",
        "        (\"Value\", \"@value{0.2f}\"),\r\n",
        "        (\"Date\", \"@date{%F}\"),\r\n",
        "    ],\r\n",
        "    # format the date in datetime type (the default is numerical format)\r\n",
        "    formatters={\r\n",
        "        '@date': 'datetime'\r\n",
        "    },\r\n",
        "    # display a tooltip whenever the cursor is vertically in line with a data point\r\n",
        "    mode='vline'\r\n",
        ")\r\n",
        "\r\n",
        "# add the title to the plot (order of the list: title, date, value) and also\r\n",
        "# prepare the chart with the selected options, and add the tooltip too while also activating wheel zoom tool by default\r\n",
        "main_chart = figure(title=data_list[0]+\" chart\", plot_width=1500, plot_height=400, y_axis_label='Values', x_axis_label='Date', x_axis_type='datetime',\r\n",
        "           tools=chart_tools, toolbar_location='above', tooltips=\"\", sizing_mode=\"scale_width\")\r\n",
        "main_chart.add_tools(tooltip)\r\n",
        "main_chart.toolbar.active_scroll = main_chart.select_one(WheelZoomTool)\r\n",
        "\r\n",
        "# draw in the chart both line and circle, so that the obtained effect is that of linked points\r\n",
        "symbol1 = main_chart.line(x='date', y='value', line_width=2, source=main_source)\r\n",
        "symbol2 = main_chart.circle(x='date', y='value', fill_color=\"white\", size=6, source=main_source)"
      ],
      "execution_count": 26,
      "outputs": []
    },
    {
      "cell_type": "markdown",
      "metadata": {
        "id": "b95J86wqtDZa"
      },
      "source": [
        "Create and setup the Table Plot that will display a log that keeps track of all actions (select) done by the user (while also adding extra info)"
      ]
    },
    {
      "cell_type": "code",
      "metadata": {
        "id": "Zaemh2dwVQnn"
      },
      "source": [
        "# create the source for table obj\r\n",
        "source_table = ColumnDataSource(data=dict(\r\n",
        "    Start_date=[],\r\n",
        "    End_date=[],\r\n",
        "    Max_value=[],\r\n",
        "    Average_value=[],\r\n",
        "    Area=[]\r\n",
        "))\r\n",
        "\r\n",
        "# specify the each column property of the dataTable obj\r\n",
        "columns = [\r\n",
        "    TableColumn(field=\"Start_date\", title=\"Start_date\", formatter=DateFormatter(format=\"%m/%d/%Y - %H:%M:%S\")),\r\n",
        "    TableColumn(field=\"End_date\", title=\"End_date\", formatter=DateFormatter(format=\"%m/%d/%Y - %H:%M:%S\")),\r\n",
        "    TableColumn(field=\"Max_value\", title=\"Max_value\"),\r\n",
        "    TableColumn(field=\"Average_value\", title=\"Average_value\"),\r\n",
        "    TableColumn(field=\"Area\", title=\"Area\")\r\n",
        "]\r\n",
        "\r\n",
        "data_table = DataTable(columns=columns, source=source_table, width=700, height=250)"
      ],
      "execution_count": 27,
      "outputs": []
    },
    {
      "cell_type": "markdown",
      "metadata": {
        "id": "4EWHzZfdtclm"
      },
      "source": [
        "Create and setup the Bar Plot that will display certain info (Max Value, Avarage Value, Area) whenever the user select some data from the main plot"
      ]
    },
    {
      "cell_type": "code",
      "metadata": {
        "id": "cPi1QhfaVOBV"
      },
      "source": [
        "# create the source for bar plot obj\r\n",
        "source_barplot = ColumnDataSource(data=dict(\r\n",
        "    name_bar=[\"Max Value\", \"Avarage Value\", \"Area\"],\r\n",
        "    value=[0, 0, 0]\r\n",
        "))\r\n",
        "bar_plot = figure(title=\"General Info\", y_range=source_barplot.data[\"name_bar\"], height=300, toolbar_location=None, tools=\"\")\r\n",
        "bar_plot.hbar(y=\"name_bar\", right=\"value\", source=source_barplot, width=20)\r\n",
        "bar_plot.ygrid.grid_line_color = None"
      ],
      "execution_count": 28,
      "outputs": []
    },
    {
      "cell_type": "markdown",
      "metadata": {
        "id": "aZpofamNts4G"
      },
      "source": [
        "Create and setup a button that has the job to save the log of the data table in a txt file"
      ]
    },
    {
      "cell_type": "code",
      "metadata": {
        "id": "e-0-VKo7U_MG"
      },
      "source": [
        "# create a variable that simulate the \\n function, it gets passed as parameter in the save button \r\n",
        "# because in the customJS enviroment, the kernel can't read corretly \\n because it execute its function diretly in the code\r\n",
        "# instead of passing it as value, so we just pass its value in a variable so that the kernel doesn't read \\n directly\r\n",
        "break_lines = \"\\r\\n\"\r\n",
        "save_button = Button(label=\"Save Data!\", button_type=\"success\", height=50)"
      ],
      "execution_count": 29,
      "outputs": []
    },
    {
      "cell_type": "markdown",
      "metadata": {
        "id": "wFTuAMVNuESJ"
      },
      "source": [
        "Specify how the Main Plot will behave when it gets the event that user has selected some of its data (we have to specify by writing in js code); it has to write down the selected data in the table data & bar plot for display purposes"
      ]
    },
    {
      "cell_type": "code",
      "metadata": {
        "id": "bok6o_sAU9W6"
      },
      "source": [
        "# Execute the JS code when the user select any data in the chart with the box select tool\r\n",
        "main_source.selected.js_on_change(\"indices\", CustomJS(args=dict(main_source=main_source, source_table=source_table, source_barplot=source_barplot), code=\"\"\"\r\n",
        "        // get the indices of the selectd data and sort them in ascending order\r\n",
        "        var inds = cb_obj.indices\r\n",
        "        inds.sort(function(a, b){return a-b})\r\n",
        "\r\n",
        "\r\n",
        "        // if the array is not empty (if it is empy, it means that no elements has been selected (occurs when the user select no element after having selected some element), \r\n",
        "        // with the consequence of not adding any element)\r\n",
        "        if (inds.length != 0){\r\n",
        "          // create various variable to store the data from the various sources (ColumnDataSource object)\r\n",
        "          var d1 = main_source.data\r\n",
        "          var d2 = source_table.data\r\n",
        "          var d3 = source_barplot.data\r\n",
        "\r\n",
        "\r\n",
        "          // get the first and end date (no need to any particular calculus because each data is already in order and unique)\r\n",
        "          var start_date = new Date(d1[\"date\"][inds[0]])\r\n",
        "          var end_date = new Date(d1[\"date\"][inds[inds.length-1]])\r\n",
        "\r\n",
        "\r\n",
        "          // get max value (and set it to max 2 decimals)\r\n",
        "          var max_value\r\n",
        "          for(var i = 0; i < inds.length; i++) {\r\n",
        "              if(i == 0) {\r\n",
        "                max_value = d1[\"value\"][inds[i]]\r\n",
        "              } else {\r\n",
        "                if(max_value < d1[\"value\"][inds[i]]){\r\n",
        "                  max_value = (d1[\"value\"][inds[i]]).toFixed(2)\r\n",
        "                }\r\n",
        "              }\r\n",
        "          }\r\n",
        "\r\n",
        "\r\n",
        "          // get average value (and set it to max 2 decimals)\r\n",
        "          var avarage_value = 0.00\r\n",
        "          for(var i = 0; i < inds.length; i++) {\r\n",
        "              avarage_value = avarage_value + d1[\"value\"][inds[i]]\r\n",
        "          }\r\n",
        "          avarage_value = (avarage_value/inds.length).toFixed(2)\r\n",
        "\r\n",
        "\r\n",
        "          // calculate the area of the trapezoid (the sum of the two bases (we count the value as minutes) * h (difference between the dates in minutess) / 2)\r\n",
        "          var area = 0.00\r\n",
        "          for(var i = 0; i < (inds.length-1); i++) {\r\n",
        "              var sum_bases = Math.abs(d1[\"value\"][inds[i]]) + Math.abs(d1[\"value\"][inds[i+1]])\r\n",
        "              console.log(Math.abs(d1[\"value\"][inds[i]]))\r\n",
        "              console.log(Math.abs(d1[\"value\"][inds[i+1]]))\r\n",
        "              console.log(sum_bases)\r\n",
        "              var height = ((new Date(d1[\"date\"][inds[i+1]])).getTime() - (new Date(d1[\"date\"][inds[i]])).getTime()) / 60000\r\n",
        "\r\n",
        "              area = area + (sum_bases * height) / 2\r\n",
        "          }\r\n",
        "          // set the number of decimals to 2 \r\n",
        "          area = parseFloat(area).toFixed(2);\r\n",
        "\r\n",
        "\r\n",
        "          // push all the data in the source of the data_table\r\n",
        "          d2[\"Start_date\"].push(start_date)\r\n",
        "          d2[\"End_date\"].push(end_date)\r\n",
        "          d2[\"Max_value\"].push(max_value)\r\n",
        "          d2[\"Average_value\"].push(avarage_value)\r\n",
        "          d2[\"Area\"].push(area)\r\n",
        "\r\n",
        "\r\n",
        "          // reset the values of the bar plot and update them (order of values is: Max Value, Avarage Value, Area)\r\n",
        "          d3[\"value\"] = []\r\n",
        "          d3[\"value\"].push(max_value)\r\n",
        "          d3[\"value\"].push(avarage_value)\r\n",
        "          d3[\"value\"].push(area)\r\n",
        "\r\n",
        "\r\n",
        "          // update the Table and Bar plot (this function notify that something has changed, and to immediately update the values and UI)\r\n",
        "          source_table.change.emit()\r\n",
        "          source_barplot.change.emit()\r\n",
        "        }\r\n",
        "        \"\"\"\r\n",
        "))"
      ],
      "execution_count": 30,
      "outputs": []
    },
    {
      "cell_type": "markdown",
      "metadata": {
        "id": "f_6QgRKLwRJw"
      },
      "source": [
        "Specify how the Save Button will behave when it gets pressed by the user (we have to specify by writing in js code); it has to get the data from the table data and write it down in a txt file and donwload it"
      ]
    },
    {
      "cell_type": "code",
      "metadata": {
        "id": "WgU3W1SRU7ra"
      },
      "source": [
        "save_button.js_on_click(CustomJS(args=dict(source_table=source_table, break_lines=break_lines), code=\"\"\"\r\n",
        "        // get the data from the source of the table\r\n",
        "        var data = source_table.data\r\n",
        "\r\n",
        "        // get the length of the list \r\n",
        "        var number_of_data = data[\"Start_date\"].length\r\n",
        "\r\n",
        "        // order the data\r\n",
        "        var start_date_list = data[\"Start_date\"]\r\n",
        "        var end_date_list = data[\"End_date\"]\r\n",
        "        var max_value_list = data[\"Max_value\"]\r\n",
        "        var avarage_value_list = data[\"Average_value\"]\r\n",
        "        var area_list = data[\"Area\"]\r\n",
        "\r\n",
        "        // fill the string with the data (while also modifying the data of date format of: hour,minute and seconds to 2 digit string)\r\n",
        "        var out = \"\";\r\n",
        "        for (var i = 0; i < number_of_data; i++) {\r\n",
        "          out += i+ \")\" +break_lines+ \r\n",
        "                 \"Start Date:    \"  +start_date_list[i]+ \"\" +break_lines+\r\n",
        "                 \"End Date:      \"  +end_date_list[i]+ \"\" +break_lines+\r\n",
        "                 \"Max Value:     \"  +max_value_list[i]+ \"\" +break_lines+\r\n",
        "                 \"Avarage Value: \"  +avarage_value_list[i]+ \"\" +break_lines+\r\n",
        "                 \"Area:          \"  +area_list[i]+ \"\" +break_lines+ \"\" +break_lines\r\n",
        "        }\r\n",
        "\r\n",
        "\r\n",
        "        // write the data in the file\r\n",
        "        var file = new Blob([out], {type: 'text/plain'});\r\n",
        "        var elem = window.document.createElement('a');\r\n",
        "        elem.href = window.URL.createObjectURL(file);\r\n",
        "        elem.download = 'selected_data.txt';\r\n",
        "        document.body.appendChild(elem);\r\n",
        "        elem.click();\r\n",
        "        document.body.removeChild(elem);\r\n",
        "    \"\"\"\r\n",
        "))"
      ],
      "execution_count": 31,
      "outputs": []
    },
    {
      "cell_type": "markdown",
      "metadata": {
        "id": "SYR1MSIbwyUG"
      },
      "source": [
        "And finally display all the various elements in a certain layout"
      ]
    },
    {
      "cell_type": "code",
      "metadata": {
        "colab": {
          "base_uri": "https://localhost:8080/",
          "height": 737
        },
        "id": "vDKFRKhCU5aT",
        "outputId": "c9203e3f-9ec9-4434-812e-ab4efa1be038"
      },
      "source": [
        "# visualize the chart in the output\r\n",
        "layout = column(main_chart, row(bar_plot,  column(data_table, save_button)))\r\n",
        "show(layout)"
      ],
      "execution_count": 32,
      "outputs": [
        {
          "output_type": "display_data",
          "data": {
            "application/javascript": [
              "\n",
              "(function(root) {\n",
              "  function now() {\n",
              "    return new Date();\n",
              "  }\n",
              "\n",
              "  var force = true;\n",
              "\n",
              "  if (typeof root._bokeh_onload_callbacks === \"undefined\" || force === true) {\n",
              "    root._bokeh_onload_callbacks = [];\n",
              "    root._bokeh_is_loading = undefined;\n",
              "  }\n",
              "\n",
              "  var JS_MIME_TYPE = 'application/javascript';\n",
              "  var HTML_MIME_TYPE = 'text/html';\n",
              "  var EXEC_MIME_TYPE = 'application/vnd.bokehjs_exec.v0+json';\n",
              "  var CLASS_NAME = 'output_bokeh rendered_html';\n",
              "\n",
              "  /**\n",
              "   * Render data to the DOM node\n",
              "   */\n",
              "  function render(props, node) {\n",
              "    var script = document.createElement(\"script\");\n",
              "    node.appendChild(script);\n",
              "  }\n",
              "\n",
              "  /**\n",
              "   * Handle when an output is cleared or removed\n",
              "   */\n",
              "  function handleClearOutput(event, handle) {\n",
              "    var cell = handle.cell;\n",
              "\n",
              "    var id = cell.output_area._bokeh_element_id;\n",
              "    var server_id = cell.output_area._bokeh_server_id;\n",
              "    // Clean up Bokeh references\n",
              "    if (id != null && id in Bokeh.index) {\n",
              "      Bokeh.index[id].model.document.clear();\n",
              "      delete Bokeh.index[id];\n",
              "    }\n",
              "\n",
              "    if (server_id !== undefined) {\n",
              "      // Clean up Bokeh references\n",
              "      var cmd = \"from bokeh.io.state import curstate; print(curstate().uuid_to_server['\" + server_id + \"'].get_sessions()[0].document.roots[0]._id)\";\n",
              "      cell.notebook.kernel.execute(cmd, {\n",
              "        iopub: {\n",
              "          output: function(msg) {\n",
              "            var id = msg.content.text.trim();\n",
              "            if (id in Bokeh.index) {\n",
              "              Bokeh.index[id].model.document.clear();\n",
              "              delete Bokeh.index[id];\n",
              "            }\n",
              "          }\n",
              "        }\n",
              "      });\n",
              "      // Destroy server and session\n",
              "      var cmd = \"import bokeh.io.notebook as ion; ion.destroy_server('\" + server_id + \"')\";\n",
              "      cell.notebook.kernel.execute(cmd);\n",
              "    }\n",
              "  }\n",
              "\n",
              "  /**\n",
              "   * Handle when a new output is added\n",
              "   */\n",
              "  function handleAddOutput(event, handle) {\n",
              "    var output_area = handle.output_area;\n",
              "    var output = handle.output;\n",
              "\n",
              "    // limit handleAddOutput to display_data with EXEC_MIME_TYPE content only\n",
              "    if ((output.output_type != \"display_data\") || (!output.data.hasOwnProperty(EXEC_MIME_TYPE))) {\n",
              "      return\n",
              "    }\n",
              "\n",
              "    var toinsert = output_area.element.find(\".\" + CLASS_NAME.split(' ')[0]);\n",
              "\n",
              "    if (output.metadata[EXEC_MIME_TYPE][\"id\"] !== undefined) {\n",
              "      toinsert[toinsert.length - 1].firstChild.textContent = output.data[JS_MIME_TYPE];\n",
              "      // store reference to embed id on output_area\n",
              "      output_area._bokeh_element_id = output.metadata[EXEC_MIME_TYPE][\"id\"];\n",
              "    }\n",
              "    if (output.metadata[EXEC_MIME_TYPE][\"server_id\"] !== undefined) {\n",
              "      var bk_div = document.createElement(\"div\");\n",
              "      bk_div.innerHTML = output.data[HTML_MIME_TYPE];\n",
              "      var script_attrs = bk_div.children[0].attributes;\n",
              "      for (var i = 0; i < script_attrs.length; i++) {\n",
              "        toinsert[toinsert.length - 1].firstChild.setAttribute(script_attrs[i].name, script_attrs[i].value);\n",
              "        toinsert[toinsert.length - 1].firstChild.textContent = bk_div.children[0].textContent\n",
              "      }\n",
              "      // store reference to server id on output_area\n",
              "      output_area._bokeh_server_id = output.metadata[EXEC_MIME_TYPE][\"server_id\"];\n",
              "    }\n",
              "  }\n",
              "\n",
              "  function register_renderer(events, OutputArea) {\n",
              "\n",
              "    function append_mime(data, metadata, element) {\n",
              "      // create a DOM node to render to\n",
              "      var toinsert = this.create_output_subarea(\n",
              "        metadata,\n",
              "        CLASS_NAME,\n",
              "        EXEC_MIME_TYPE\n",
              "      );\n",
              "      this.keyboard_manager.register_events(toinsert);\n",
              "      // Render to node\n",
              "      var props = {data: data, metadata: metadata[EXEC_MIME_TYPE]};\n",
              "      render(props, toinsert[toinsert.length - 1]);\n",
              "      element.append(toinsert);\n",
              "      return toinsert\n",
              "    }\n",
              "\n",
              "    /* Handle when an output is cleared or removed */\n",
              "    events.on('clear_output.CodeCell', handleClearOutput);\n",
              "    events.on('delete.Cell', handleClearOutput);\n",
              "\n",
              "    /* Handle when a new output is added */\n",
              "    events.on('output_added.OutputArea', handleAddOutput);\n",
              "\n",
              "    /**\n",
              "     * Register the mime type and append_mime function with output_area\n",
              "     */\n",
              "    OutputArea.prototype.register_mime_type(EXEC_MIME_TYPE, append_mime, {\n",
              "      /* Is output safe? */\n",
              "      safe: true,\n",
              "      /* Index of renderer in `output_area.display_order` */\n",
              "      index: 0\n",
              "    });\n",
              "  }\n",
              "\n",
              "  // register the mime type if in Jupyter Notebook environment and previously unregistered\n",
              "  if (root.Jupyter !== undefined) {\n",
              "    var events = require('base/js/events');\n",
              "    var OutputArea = require('notebook/js/outputarea').OutputArea;\n",
              "\n",
              "    if (OutputArea.prototype.mime_types().indexOf(EXEC_MIME_TYPE) == -1) {\n",
              "      register_renderer(events, OutputArea);\n",
              "    }\n",
              "  }\n",
              "\n",
              "  \n",
              "  if (typeof (root._bokeh_timeout) === \"undefined\" || force === true) {\n",
              "    root._bokeh_timeout = Date.now() + 5000;\n",
              "    root._bokeh_failed_load = false;\n",
              "  }\n",
              "\n",
              "  var NB_LOAD_WARNING = {'data': {'text/html':\n",
              "     \"<div style='background-color: #fdd'>\\n\"+\n",
              "     \"<p>\\n\"+\n",
              "     \"BokehJS does not appear to have successfully loaded. If loading BokehJS from CDN, this \\n\"+\n",
              "     \"may be due to a slow or bad network connection. Possible fixes:\\n\"+\n",
              "     \"</p>\\n\"+\n",
              "     \"<ul>\\n\"+\n",
              "     \"<li>re-rerun `output_notebook()` to attempt to load from CDN again, or</li>\\n\"+\n",
              "     \"<li>use INLINE resources instead, as so:</li>\\n\"+\n",
              "     \"</ul>\\n\"+\n",
              "     \"<code>\\n\"+\n",
              "     \"from bokeh.resources import INLINE\\n\"+\n",
              "     \"output_notebook(resources=INLINE)\\n\"+\n",
              "     \"</code>\\n\"+\n",
              "     \"</div>\"}};\n",
              "\n",
              "  function display_loaded() {\n",
              "    var el = document.getElementById(null);\n",
              "    if (el != null) {\n",
              "      el.textContent = \"BokehJS is loading...\";\n",
              "    }\n",
              "    if (root.Bokeh !== undefined) {\n",
              "      if (el != null) {\n",
              "        el.textContent = \"BokehJS \" + root.Bokeh.version + \" successfully loaded.\";\n",
              "      }\n",
              "    } else if (Date.now() < root._bokeh_timeout) {\n",
              "      setTimeout(display_loaded, 100)\n",
              "    }\n",
              "  }\n",
              "\n",
              "\n",
              "  function run_callbacks() {\n",
              "    try {\n",
              "      root._bokeh_onload_callbacks.forEach(function(callback) {\n",
              "        if (callback != null)\n",
              "          callback();\n",
              "      });\n",
              "    } finally {\n",
              "      delete root._bokeh_onload_callbacks\n",
              "    }\n",
              "    console.debug(\"Bokeh: all callbacks have finished\");\n",
              "  }\n",
              "\n",
              "  function load_libs(css_urls, js_urls, callback) {\n",
              "    if (css_urls == null) css_urls = [];\n",
              "    if (js_urls == null) js_urls = [];\n",
              "\n",
              "    root._bokeh_onload_callbacks.push(callback);\n",
              "    if (root._bokeh_is_loading > 0) {\n",
              "      console.debug(\"Bokeh: BokehJS is being loaded, scheduling callback at\", now());\n",
              "      return null;\n",
              "    }\n",
              "    if (js_urls == null || js_urls.length === 0) {\n",
              "      run_callbacks();\n",
              "      return null;\n",
              "    }\n",
              "    console.debug(\"Bokeh: BokehJS not loaded, scheduling load and callback at\", now());\n",
              "    root._bokeh_is_loading = css_urls.length + js_urls.length;\n",
              "\n",
              "    function on_load() {\n",
              "      root._bokeh_is_loading--;\n",
              "      if (root._bokeh_is_loading === 0) {\n",
              "        console.debug(\"Bokeh: all BokehJS libraries/stylesheets loaded\");\n",
              "        run_callbacks()\n",
              "      }\n",
              "    }\n",
              "\n",
              "    function on_error() {\n",
              "      console.error(\"failed to load \" + url);\n",
              "    }\n",
              "\n",
              "    for (var i = 0; i < css_urls.length; i++) {\n",
              "      var url = css_urls[i];\n",
              "      const element = document.createElement(\"link\");\n",
              "      element.onload = on_load;\n",
              "      element.onerror = on_error;\n",
              "      element.rel = \"stylesheet\";\n",
              "      element.type = \"text/css\";\n",
              "      element.href = url;\n",
              "      console.debug(\"Bokeh: injecting link tag for BokehJS stylesheet: \", url);\n",
              "      document.body.appendChild(element);\n",
              "    }\n",
              "\n",
              "    const hashes = {\"https://cdn.bokeh.org/bokeh/release/bokeh-2.1.1.min.js\": \"kLr4fYcqcSpbuI95brIH3vnnYCquzzSxHPU6XGQCIkQRGJwhg0StNbj1eegrHs12\", \"https://cdn.bokeh.org/bokeh/release/bokeh-widgets-2.1.1.min.js\": \"xIGPmVtaOm+z0BqfSOMn4lOR6ciex448GIKG4eE61LsAvmGj48XcMQZtKcE/UXZe\", \"https://cdn.bokeh.org/bokeh/release/bokeh-tables-2.1.1.min.js\": \"Dc9u1wF/0zApGIWoBbH77iWEHtdmkuYWG839Uzmv8y8yBLXebjO9ZnERsde5Ln/P\", \"https://cdn.bokeh.org/bokeh/release/bokeh-gl-2.1.1.min.js\": \"cT9JaBz7GiRXdENrJLZNSC6eMNF3nh3fa5fTF51Svp+ukxPdwcU5kGXGPBgDCa2j\"};\n",
              "\n",
              "    for (var i = 0; i < js_urls.length; i++) {\n",
              "      var url = js_urls[i];\n",
              "      var element = document.createElement('script');\n",
              "      element.onload = on_load;\n",
              "      element.onerror = on_error;\n",
              "      element.async = false;\n",
              "      element.src = url;\n",
              "      if (url in hashes) {\n",
              "        element.crossOrigin = \"anonymous\";\n",
              "        element.integrity = \"sha384-\" + hashes[url];\n",
              "      }\n",
              "      console.debug(\"Bokeh: injecting script tag for BokehJS library: \", url);\n",
              "      document.head.appendChild(element);\n",
              "    }\n",
              "  };\n",
              "\n",
              "  function inject_raw_css(css) {\n",
              "    const element = document.createElement(\"style\");\n",
              "    element.appendChild(document.createTextNode(css));\n",
              "    document.body.appendChild(element);\n",
              "  }\n",
              "\n",
              "  \n",
              "  var js_urls = [\"https://cdn.bokeh.org/bokeh/release/bokeh-2.1.1.min.js\", \"https://cdn.bokeh.org/bokeh/release/bokeh-widgets-2.1.1.min.js\", \"https://cdn.bokeh.org/bokeh/release/bokeh-tables-2.1.1.min.js\", \"https://cdn.bokeh.org/bokeh/release/bokeh-gl-2.1.1.min.js\"];\n",
              "  var css_urls = [];\n",
              "  \n",
              "\n",
              "  var inline_js = [\n",
              "    function(Bokeh) {\n",
              "      Bokeh.set_log_level(\"info\");\n",
              "    },\n",
              "    function(Bokeh) {\n",
              "    \n",
              "    \n",
              "    }\n",
              "  ];\n",
              "\n",
              "  function run_inline_js() {\n",
              "    \n",
              "    if (root.Bokeh !== undefined || force === true) {\n",
              "      \n",
              "    for (var i = 0; i < inline_js.length; i++) {\n",
              "      inline_js[i].call(root, root.Bokeh);\n",
              "    }\n",
              "    } else if (Date.now() < root._bokeh_timeout) {\n",
              "      setTimeout(run_inline_js, 100);\n",
              "    } else if (!root._bokeh_failed_load) {\n",
              "      console.log(\"Bokeh: BokehJS failed to load within specified timeout.\");\n",
              "      root._bokeh_failed_load = true;\n",
              "    } else if (force !== true) {\n",
              "      var cell = $(document.getElementById(null)).parents('.cell').data().cell;\n",
              "      cell.output_area.append_execute_result(NB_LOAD_WARNING)\n",
              "    }\n",
              "\n",
              "  }\n",
              "\n",
              "  if (root._bokeh_is_loading === 0) {\n",
              "    console.debug(\"Bokeh: BokehJS loaded, going straight to plotting\");\n",
              "    run_inline_js();\n",
              "  } else {\n",
              "    load_libs(css_urls, js_urls, function() {\n",
              "      console.debug(\"Bokeh: BokehJS plotting callback run at\", now());\n",
              "      run_inline_js();\n",
              "    });\n",
              "  }\n",
              "}(window));"
            ],
            "application/vnd.bokehjs_load.v0+json": "\n(function(root) {\n  function now() {\n    return new Date();\n  }\n\n  var force = true;\n\n  if (typeof root._bokeh_onload_callbacks === \"undefined\" || force === true) {\n    root._bokeh_onload_callbacks = [];\n    root._bokeh_is_loading = undefined;\n  }\n\n  \n\n  \n  if (typeof (root._bokeh_timeout) === \"undefined\" || force === true) {\n    root._bokeh_timeout = Date.now() + 5000;\n    root._bokeh_failed_load = false;\n  }\n\n  var NB_LOAD_WARNING = {'data': {'text/html':\n     \"<div style='background-color: #fdd'>\\n\"+\n     \"<p>\\n\"+\n     \"BokehJS does not appear to have successfully loaded. If loading BokehJS from CDN, this \\n\"+\n     \"may be due to a slow or bad network connection. Possible fixes:\\n\"+\n     \"</p>\\n\"+\n     \"<ul>\\n\"+\n     \"<li>re-rerun `output_notebook()` to attempt to load from CDN again, or</li>\\n\"+\n     \"<li>use INLINE resources instead, as so:</li>\\n\"+\n     \"</ul>\\n\"+\n     \"<code>\\n\"+\n     \"from bokeh.resources import INLINE\\n\"+\n     \"output_notebook(resources=INLINE)\\n\"+\n     \"</code>\\n\"+\n     \"</div>\"}};\n\n  function display_loaded() {\n    var el = document.getElementById(null);\n    if (el != null) {\n      el.textContent = \"BokehJS is loading...\";\n    }\n    if (root.Bokeh !== undefined) {\n      if (el != null) {\n        el.textContent = \"BokehJS \" + root.Bokeh.version + \" successfully loaded.\";\n      }\n    } else if (Date.now() < root._bokeh_timeout) {\n      setTimeout(display_loaded, 100)\n    }\n  }\n\n\n  function run_callbacks() {\n    try {\n      root._bokeh_onload_callbacks.forEach(function(callback) {\n        if (callback != null)\n          callback();\n      });\n    } finally {\n      delete root._bokeh_onload_callbacks\n    }\n    console.debug(\"Bokeh: all callbacks have finished\");\n  }\n\n  function load_libs(css_urls, js_urls, callback) {\n    if (css_urls == null) css_urls = [];\n    if (js_urls == null) js_urls = [];\n\n    root._bokeh_onload_callbacks.push(callback);\n    if (root._bokeh_is_loading > 0) {\n      console.debug(\"Bokeh: BokehJS is being loaded, scheduling callback at\", now());\n      return null;\n    }\n    if (js_urls == null || js_urls.length === 0) {\n      run_callbacks();\n      return null;\n    }\n    console.debug(\"Bokeh: BokehJS not loaded, scheduling load and callback at\", now());\n    root._bokeh_is_loading = css_urls.length + js_urls.length;\n\n    function on_load() {\n      root._bokeh_is_loading--;\n      if (root._bokeh_is_loading === 0) {\n        console.debug(\"Bokeh: all BokehJS libraries/stylesheets loaded\");\n        run_callbacks()\n      }\n    }\n\n    function on_error() {\n      console.error(\"failed to load \" + url);\n    }\n\n    for (var i = 0; i < css_urls.length; i++) {\n      var url = css_urls[i];\n      const element = document.createElement(\"link\");\n      element.onload = on_load;\n      element.onerror = on_error;\n      element.rel = \"stylesheet\";\n      element.type = \"text/css\";\n      element.href = url;\n      console.debug(\"Bokeh: injecting link tag for BokehJS stylesheet: \", url);\n      document.body.appendChild(element);\n    }\n\n    const hashes = {\"https://cdn.bokeh.org/bokeh/release/bokeh-2.1.1.min.js\": \"kLr4fYcqcSpbuI95brIH3vnnYCquzzSxHPU6XGQCIkQRGJwhg0StNbj1eegrHs12\", \"https://cdn.bokeh.org/bokeh/release/bokeh-widgets-2.1.1.min.js\": \"xIGPmVtaOm+z0BqfSOMn4lOR6ciex448GIKG4eE61LsAvmGj48XcMQZtKcE/UXZe\", \"https://cdn.bokeh.org/bokeh/release/bokeh-tables-2.1.1.min.js\": \"Dc9u1wF/0zApGIWoBbH77iWEHtdmkuYWG839Uzmv8y8yBLXebjO9ZnERsde5Ln/P\", \"https://cdn.bokeh.org/bokeh/release/bokeh-gl-2.1.1.min.js\": \"cT9JaBz7GiRXdENrJLZNSC6eMNF3nh3fa5fTF51Svp+ukxPdwcU5kGXGPBgDCa2j\"};\n\n    for (var i = 0; i < js_urls.length; i++) {\n      var url = js_urls[i];\n      var element = document.createElement('script');\n      element.onload = on_load;\n      element.onerror = on_error;\n      element.async = false;\n      element.src = url;\n      if (url in hashes) {\n        element.crossOrigin = \"anonymous\";\n        element.integrity = \"sha384-\" + hashes[url];\n      }\n      console.debug(\"Bokeh: injecting script tag for BokehJS library: \", url);\n      document.head.appendChild(element);\n    }\n  };\n\n  function inject_raw_css(css) {\n    const element = document.createElement(\"style\");\n    element.appendChild(document.createTextNode(css));\n    document.body.appendChild(element);\n  }\n\n  \n  var js_urls = [\"https://cdn.bokeh.org/bokeh/release/bokeh-2.1.1.min.js\", \"https://cdn.bokeh.org/bokeh/release/bokeh-widgets-2.1.1.min.js\", \"https://cdn.bokeh.org/bokeh/release/bokeh-tables-2.1.1.min.js\", \"https://cdn.bokeh.org/bokeh/release/bokeh-gl-2.1.1.min.js\"];\n  var css_urls = [];\n  \n\n  var inline_js = [\n    function(Bokeh) {\n      Bokeh.set_log_level(\"info\");\n    },\n    function(Bokeh) {\n    \n    \n    }\n  ];\n\n  function run_inline_js() {\n    \n    if (root.Bokeh !== undefined || force === true) {\n      \n    for (var i = 0; i < inline_js.length; i++) {\n      inline_js[i].call(root, root.Bokeh);\n    }\n    } else if (Date.now() < root._bokeh_timeout) {\n      setTimeout(run_inline_js, 100);\n    } else if (!root._bokeh_failed_load) {\n      console.log(\"Bokeh: BokehJS failed to load within specified timeout.\");\n      root._bokeh_failed_load = true;\n    } else if (force !== true) {\n      var cell = $(document.getElementById(null)).parents('.cell').data().cell;\n      cell.output_area.append_execute_result(NB_LOAD_WARNING)\n    }\n\n  }\n\n  if (root._bokeh_is_loading === 0) {\n    console.debug(\"Bokeh: BokehJS loaded, going straight to plotting\");\n    run_inline_js();\n  } else {\n    load_libs(css_urls, js_urls, function() {\n      console.debug(\"Bokeh: BokehJS plotting callback run at\", now());\n      run_inline_js();\n    });\n  }\n}(window));"
          },
          "metadata": {
            "tags": []
          }
        },
        {
          "output_type": "display_data",
          "data": {
            "text/html": [
              "\n",
              "\n",
              "\n",
              "\n",
              "\n",
              "\n",
              "  <div class=\"bk-root\" id=\"0bdda061-df91-41ac-9e08-84700a07f00d\" data-root-id=\"1482\"></div>\n"
            ]
          },
          "metadata": {
            "tags": []
          }
        },
        {
          "output_type": "display_data",
          "data": {
            "application/javascript": [
              "(function(root) {\n",
              "  function embed_document(root) {\n",
              "    \n",
              "  var docs_json = {\"06b9bf20-72ce-4b2e-9694-f1b5daac7651\":{\"roots\":{\"references\":[{\"attributes\":{\"children\":[{\"id\":\"1374\"},{\"id\":\"1481\"}]},\"id\":\"1482\",\"type\":\"Column\"},{\"attributes\":{\"children\":[{\"id\":\"1449\"},{\"id\":\"1476\"}]},\"id\":\"1480\",\"type\":\"Column\"},{\"attributes\":{},\"id\":\"1551\",\"type\":\"StringFormatter\"},{\"attributes\":{\"axis\":{\"id\":\"1467\"},\"dimension\":1,\"grid_line_color\":null,\"ticker\":null},\"id\":\"1469\",\"type\":\"Grid\"},{\"attributes\":{},\"id\":\"1557\",\"type\":\"Selection\"},{\"attributes\":{\"fill_color\":{\"value\":\"white\"},\"line_color\":{\"value\":\"#1f77b4\"},\"size\":{\"units\":\"screen\",\"value\":6},\"x\":{\"field\":\"date\"},\"y\":{\"field\":\"value\"}},\"id\":\"1435\",\"type\":\"Circle\"},{\"attributes\":{},\"id\":\"1464\",\"type\":\"BasicTicker\"},{\"attributes\":{\"active_drag\":\"auto\",\"active_inspect\":\"auto\",\"active_multi\":null,\"active_scroll\":{\"id\":\"1394\"},\"active_tap\":\"auto\",\"tools\":[{\"id\":\"1393\"},{\"id\":\"1394\"},{\"id\":\"1395\"},{\"id\":\"1396\"},{\"id\":\"1397\"},{\"id\":\"1398\"},{\"id\":\"1373\"}]},\"id\":\"1401\",\"type\":\"Toolbar\"},{\"attributes\":{\"active_drag\":\"auto\",\"active_inspect\":\"auto\",\"active_multi\":null,\"active_scroll\":\"auto\",\"active_tap\":\"auto\"},\"id\":\"1470\",\"type\":\"Toolbar\"},{\"attributes\":{},\"id\":\"1543\",\"type\":\"BasicTickFormatter\"},{\"attributes\":{\"fill_alpha\":0.5,\"fill_color\":\"lightgrey\",\"level\":\"overlay\",\"line_alpha\":1.0,\"line_color\":\"black\",\"line_dash\":[4,4],\"line_width\":2,\"xs_units\":\"screen\",\"ys_units\":\"screen\"},\"id\":\"1400\",\"type\":\"PolyAnnotation\"},{\"attributes\":{},\"id\":\"1556\",\"type\":\"StringEditor\"},{\"attributes\":{\"line_alpha\":0.1,\"line_color\":\"#1f77b4\",\"line_width\":2,\"x\":{\"field\":\"date\"},\"y\":{\"field\":\"value\"}},\"id\":\"1431\",\"type\":\"Line\"},{\"attributes\":{},\"id\":\"1410\",\"type\":\"DatetimeTickFormatter\"},{\"attributes\":{\"format\":\"%m/%d/%Y - %H:%M:%S\"},\"id\":\"1443\",\"type\":\"DateFormatter\"},{\"attributes\":{},\"id\":\"1555\",\"type\":\"StringFormatter\"},{\"attributes\":{},\"id\":\"1393\",\"type\":\"PanTool\"},{\"attributes\":{\"editor\":{\"id\":\"1552\"},\"field\":\"Max_value\",\"formatter\":{\"id\":\"1551\"},\"title\":\"Max_value\"},\"id\":\"1446\",\"type\":\"TableColumn\"},{\"attributes\":{},\"id\":\"1554\",\"type\":\"StringEditor\"},{\"attributes\":{},\"id\":\"1558\",\"type\":\"UnionRenderers\"},{\"attributes\":{\"source\":{\"id\":\"1372\"}},\"id\":\"1433\",\"type\":\"CDSView\"},{\"attributes\":{\"editor\":{\"id\":\"1554\"},\"field\":\"Average_value\",\"formatter\":{\"id\":\"1553\"},\"title\":\"Average_value\"},\"id\":\"1447\",\"type\":\"TableColumn\"},{\"attributes\":{},\"id\":\"1553\",\"type\":\"StringFormatter\"},{\"attributes\":{\"editor\":{\"id\":\"1556\"},\"field\":\"Area\",\"formatter\":{\"id\":\"1555\"},\"title\":\"Area\"},\"id\":\"1448\",\"type\":\"TableColumn\"},{\"attributes\":{\"data_source\":{\"id\":\"1451\"},\"glyph\":{\"id\":\"1472\"},\"hover_glyph\":null,\"muted_glyph\":null,\"nonselection_glyph\":{\"id\":\"1473\"},\"selection_glyph\":null,\"view\":{\"id\":\"1475\"}},\"id\":\"1474\",\"type\":\"GlyphRenderer\"},{\"attributes\":{},\"id\":\"1548\",\"type\":\"UnionRenderers\"},{\"attributes\":{\"fill_alpha\":{\"value\":0.1},\"fill_color\":{\"value\":\"#1f77b4\"},\"line_alpha\":{\"value\":0.1},\"line_color\":{\"value\":\"#1f77b4\"},\"line_width\":{\"value\":20},\"right\":{\"field\":\"value\"},\"y\":{\"field\":\"name_bar\"}},\"id\":\"1473\",\"type\":\"HBar\"},{\"attributes\":{},\"id\":\"1549\",\"type\":\"StringEditor\"},{\"attributes\":{},\"id\":\"1552\",\"type\":\"StringEditor\"},{\"attributes\":{},\"id\":\"1394\",\"type\":\"WheelZoomTool\"},{\"attributes\":{\"months\":[0,2,4,6,8,10]},\"id\":\"1424\",\"type\":\"MonthsTicker\"},{\"attributes\":{\"fill_color\":{\"value\":\"#1f77b4\"},\"line_color\":{\"value\":\"#1f77b4\"},\"line_width\":{\"value\":20},\"right\":{\"field\":\"value\"},\"y\":{\"field\":\"name_bar\"}},\"id\":\"1472\",\"type\":\"HBar\"},{\"attributes\":{\"formatter\":{\"id\":\"1545\"},\"ticker\":{\"id\":\"1468\"}},\"id\":\"1467\",\"type\":\"CategoricalAxis\"},{\"attributes\":{\"months\":[0,6]},\"id\":\"1426\",\"type\":\"MonthsTicker\"},{\"attributes\":{\"days\":[1,4,7,10,13,16,19,22,25,28]},\"id\":\"1420\",\"type\":\"DaysTicker\"},{\"attributes\":{},\"id\":\"1550\",\"type\":\"StringEditor\"},{\"attributes\":{\"editor\":{\"id\":\"1550\"},\"field\":\"End_date\",\"formatter\":{\"id\":\"1443\"},\"title\":\"End_date\"},\"id\":\"1444\",\"type\":\"TableColumn\"},{\"attributes\":{\"format\":\"%m/%d/%Y - %H:%M:%S\"},\"id\":\"1440\",\"type\":\"DateFormatter\"},{\"attributes\":{\"days\":[1,2,3,4,5,6,7,8,9,10,11,12,13,14,15,16,17,18,19,20,21,22,23,24,25,26,27,28,29,30,31]},\"id\":\"1419\",\"type\":\"DaysTicker\"},{\"attributes\":{\"data\":{\"date\":{\"__ndarray__\":\"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\",\"dtype\":\"float64\",\"order\":\"little\",\"shape\":[943]},\"index\":[0,1,2,3,4,5,6,7,8,9,10,11,12,13,14,15,16,17,18,19,20,21,22,23,24,25,26,27,28,29,30,31,32,33,34,35,36,37,38,39,40,41,42,43,44,45,46,47,48,49,50,51,52,53,54,55,56,57,58,59,60,61,62,63,64,65,66,67,68,69,70,71,72,73,74,75,76,77,78,79,80,81,82,83,84,85,86,87,88,89,90,91,92,93,94,95,96,97,98,99,100,101,102,103,104,105,106,107,108,109,110,111,112,113,114,115,116,117,118,119,120,121,122,123,124,125,126,127,128,129,130,131,132,133,134,135,136,137,138,139,140,141,142,143,144,145,146,147,148,149,150,151,152,153,154,155,156,157,158,159,160,161,162,163,164,165,166,167,168,169,170,171,172,173,174,175,176,177,178,179,180,181,182,183,184,185,186,187,188,189,190,191,192,193,194,195,196,197,198,199,200,201,202,203,204,205,206,207,208,209,210,211,212,213,214,215,216,217,218,219,220,221,222,223,224,225,226,227,228,229,230,231,232,233,234,235,236,237,238,239,240,241,242,243,244,245,246,247,248,249,250,251,252,253,254,255,256,257,258,259,260,261,262,263,264,265,266,267,268,269,270,271,272,273,274,275,276,277,278,279,280,281,282,283,284,285,286,287,288,289,290,291,292,293,294,295,296,297,298,299,300,301,302,303,304,305,306,307,308,309,310,311,312,313,314,315,316,317,318,319,320,321,322,323,324,325,326,327,328,329,330,331,332,333,334,335,336,337,338,339,340,341,342,343,344,345,346,347,348,349,350,351,352,353,354,355,356,357,358,359,360,361,362,363,364,365,366,367,368,369,370,371,372,373,374,375,376,377,378,379,380,381,382,383,384,385,386,387,388,389,390,391,392,393,394,395,396,397,398,399,400,401,402,403,404,405,406,407,408,409,410,411,412,413,414,415,416,417,418,419,420,421,422,423,424,425,426,427,428,429,430,431,432,433,434,435,436,437,438,439,440,441,442,443,444,445,446,447,448,449,450,451,452,453,454,455,456,457,458,459,460,461,462,463,464,465,466,467,468,469,470,471,472,473,474,475,476,477,478,479,480,481,482,483,484,485,486,487,488,489,490,491,492,493,494,495,496,497,498,499,500,501,502,503,504,505,506,507,508,509,510,511,512,513,514,515,516,517,518,519,520,521,522,523,524,525,526,527,528,529,530,531,532,533,534,535,536,537,538,539,540,541,542,543,544,545,546,547,548,549,550,551,552,553,554,555,556,557,558,559,560,561,562,563,564,565,566,567,568,569,570,571,572,573,574,575,576,577,578,579,580,581,582,583,584,585,586,587,588,589,590,591,592,593,594,595,596,597,598,599,600,601,602,603,604,605,606,607,608,609,610,611,612,613,614,615,616,617,618,619,620,621,622,623,624,625,626,627,628,629,630,631,632,633,634,635,636,637,638,639,640,641,642,643,644,645,646,647,648,649,650,651,652,653,654,655,656,657,658,659,660,661,662,663,664,665,666,667,668,669,670,671,672,673,674,675,676,677,678,679,680,681,682,683,684,685,686,687,688,689,690,691,692,693,694,695,696,697,698,699,700,701,702,703,704,705,706,707,708,709,710,711,712,713,714,715,716,717,718,719,720,721,722,723,724,725,726,727,728,729,730,731,732,733,734,735,736,737,738,739,740,741,742,743,744,745,746,747,748,749,750,751,752,753,754,755,756,757,758,759,760,761,762,763,764,765,766,767,768,769,770,771,772,773,774,775,776,777,778,779,780,781,782,783,784,785,786,787,788,789,790,791,792,793,794,795,796,797,798,799,800,801,802,803,804,805,806,807,808,809,810,811,812,813,814,815,816,817,818,819,820,821,822,823,824,825,826,827,828,829,830,831,832,833,834,835,836,837,838,839,840,841,842,843,844,845,846,847,848,849,850,851,852,853,854,855,856,857,858,859,860,861,862,863,864,865,866,867,868,869,870,871,872,873,874,875,876,877,878,879,880,881,882,883,884,885,886,887,888,889,890,891,892,893,894,895,896,897,898,899,900,901,902,903,904,905,906,907,908,909,910,911,912,913,914,915,916,917,918,919,920,921,922,923,924,925,926,927,928,929,930,931,932,933,934,935,936,937,938,939,940,941,942],\"value\":{\"__ndarray__\":\"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\",\"dtype\":\"float64\",\"order\":\"little\",\"shape\":[943]}},\"selected\":{\"id\":\"1477\"},\"selection_policy\":{\"id\":\"1528\"}},\"id\":\"1372\",\"type\":\"ColumnDataSource\"},{\"attributes\":{\"below\":[{\"id\":\"1385\"}],\"center\":[{\"id\":\"1388\"},{\"id\":\"1392\"}],\"left\":[{\"id\":\"1389\"}],\"plot_height\":400,\"plot_width\":1500,\"renderers\":[{\"id\":\"1432\"},{\"id\":\"1437\"}],\"sizing_mode\":\"scale_width\",\"title\":{\"id\":\"1375\"},\"toolbar\":{\"id\":\"1401\"},\"toolbar_location\":\"above\",\"x_range\":{\"id\":\"1377\"},\"x_scale\":{\"id\":\"1381\"},\"y_range\":{\"id\":\"1379\"},\"y_scale\":{\"id\":\"1383\"}},\"id\":\"1374\",\"subtype\":\"Figure\",\"type\":\"Plot\"},{\"attributes\":{\"below\":[{\"id\":\"1463\"}],\"center\":[{\"id\":\"1466\"},{\"id\":\"1469\"}],\"left\":[{\"id\":\"1467\"}],\"plot_height\":300,\"renderers\":[{\"id\":\"1474\"}],\"title\":{\"id\":\"1453\"},\"toolbar\":{\"id\":\"1470\"},\"toolbar_location\":null,\"x_range\":{\"id\":\"1455\"},\"x_scale\":{\"id\":\"1459\"},\"y_range\":{\"id\":\"1457\"},\"y_scale\":{\"id\":\"1461\"}},\"id\":\"1452\",\"subtype\":\"Figure\",\"type\":\"Plot\"},{\"attributes\":{\"fill_alpha\":{\"value\":0.1},\"fill_color\":{\"value\":\"white\"},\"line_alpha\":{\"value\":0.1},\"line_color\":{\"value\":\"#1f77b4\"},\"size\":{\"units\":\"screen\",\"value\":6},\"x\":{\"field\":\"date\"},\"y\":{\"field\":\"value\"}},\"id\":\"1436\",\"type\":\"Circle\"},{\"attributes\":{\"base\":60,\"mantissas\":[1,2,5,10,15,20,30],\"max_interval\":1800000.0,\"min_interval\":1000.0,\"num_minor_ticks\":0},\"id\":\"1417\",\"type\":\"AdaptiveTicker\"},{\"attributes\":{\"base\":24,\"mantissas\":[1,2,4,6,8,12],\"max_interval\":43200000.0,\"min_interval\":3600000.0,\"num_minor_ticks\":0},\"id\":\"1418\",\"type\":\"AdaptiveTicker\"},{\"attributes\":{\"text\":\"Grandezza2SondaSd(Sd)\\n chart\"},\"id\":\"1375\",\"type\":\"Title\"},{\"attributes\":{\"months\":[0,1,2,3,4,5,6,7,8,9,10,11]},\"id\":\"1423\",\"type\":\"MonthsTicker\"},{\"attributes\":{\"callback\":null,\"formatters\":{\"@date\":\"datetime\"},\"mode\":\"vline\",\"tooltips\":[[\"index\",\"$index\"],[\"Value\",\"@value{0.2f}\"],[\"Date\",\"@date{%F}\"]]},\"id\":\"1373\",\"type\":\"HoverTool\"},{\"attributes\":{},\"id\":\"1377\",\"type\":\"DataRange1d\"},{\"attributes\":{\"overlay\":{\"id\":\"1399\"}},\"id\":\"1398\",\"type\":\"BoxSelectTool\"},{\"attributes\":{\"button_type\":\"success\",\"height\":50,\"icon\":null,\"js_event_callbacks\":{\"button_click\":[{\"id\":\"1479\"}]},\"label\":\"Save Data!\"},\"id\":\"1476\",\"type\":\"Button\"},{\"attributes\":{\"months\":[0,4,8]},\"id\":\"1425\",\"type\":\"MonthsTicker\"},{\"attributes\":{},\"id\":\"1379\",\"type\":\"DataRange1d\"},{\"attributes\":{},\"id\":\"1528\",\"type\":\"UnionRenderers\"},{\"attributes\":{\"mantissas\":[1,2,5],\"max_interval\":500.0,\"num_minor_ticks\":0},\"id\":\"1416\",\"type\":\"AdaptiveTicker\"},{\"attributes\":{},\"id\":\"1381\",\"type\":\"LinearScale\"},{\"attributes\":{\"children\":[{\"id\":\"1452\"},{\"id\":\"1480\"}]},\"id\":\"1481\",\"type\":\"Row\"},{\"attributes\":{},\"id\":\"1383\",\"type\":\"LinearScale\"},{\"attributes\":{\"axis_label\":\"Date\",\"formatter\":{\"id\":\"1410\"},\"ticker\":{\"id\":\"1386\"}},\"id\":\"1385\",\"type\":\"DatetimeAxis\"},{\"attributes\":{\"columns\":[{\"id\":\"1441\"},{\"id\":\"1444\"},{\"id\":\"1446\"},{\"id\":\"1447\"},{\"id\":\"1448\"}],\"height\":250,\"source\":{\"id\":\"1439\"},\"view\":{\"id\":\"1450\"},\"width\":700},\"id\":\"1449\",\"type\":\"DataTable\"},{\"attributes\":{},\"id\":\"1545\",\"type\":\"CategoricalTickFormatter\"},{\"attributes\":{\"num_minor_ticks\":5,\"tickers\":[{\"id\":\"1416\"},{\"id\":\"1417\"},{\"id\":\"1418\"},{\"id\":\"1419\"},{\"id\":\"1420\"},{\"id\":\"1421\"},{\"id\":\"1422\"},{\"id\":\"1423\"},{\"id\":\"1424\"},{\"id\":\"1425\"},{\"id\":\"1426\"},{\"id\":\"1427\"}]},\"id\":\"1386\",\"type\":\"DatetimeTicker\"},{\"attributes\":{\"formatter\":{\"id\":\"1543\"},\"ticker\":{\"id\":\"1464\"}},\"id\":\"1463\",\"type\":\"LinearAxis\"},{\"attributes\":{\"args\":{\"main_source\":{\"id\":\"1372\"},\"source_barplot\":{\"id\":\"1451\"},\"source_table\":{\"id\":\"1439\"}},\"code\":\"\\n        // get the indices of the selectd data and sort them in ascending order\\n        var inds = cb_obj.indices\\n        inds.sort(function(a, b){return a-b})\\n\\n\\n        // if the array is not empty (if it is empy, it means that no elements has been selected (occurs when the user select no element after having selected some element), \\n        // with the consequence of not adding any element)\\n        if (inds.length != 0){\\n          // create various variable to store the data from the various sources (ColumnDataSource object)\\n          var d1 = main_source.data\\n          var d2 = source_table.data\\n          var d3 = source_barplot.data\\n\\n\\n          // get the first and end date (no need to any particular calculus because each data is already in order and unique)\\n          var start_date = new Date(d1[\\\"date\\\"][inds[0]])\\n          var end_date = new Date(d1[\\\"date\\\"][inds[inds.length-1]])\\n\\n\\n          // get max value (and set it to max 2 decimals)\\n          var max_value\\n          for(var i = 0; i < inds.length; i++) {\\n              if(i == 0) {\\n                max_value = d1[\\\"value\\\"][inds[i]]\\n              } else {\\n                if(max_value < d1[\\\"value\\\"][inds[i]]){\\n                  max_value = (d1[\\\"value\\\"][inds[i]]).toFixed(2)\\n                }\\n              }\\n          }\\n\\n\\n          // get average value (and set it to max 2 decimals)\\n          var avarage_value = 0.00\\n          for(var i = 0; i < inds.length; i++) {\\n              avarage_value = avarage_value + d1[\\\"value\\\"][inds[i]]\\n          }\\n          avarage_value = (avarage_value/inds.length).toFixed(2)\\n\\n\\n          // calculate the area of the trapezoid (the sum of the two bases (we count the value as minutes) * h (difference between the dates in minutess) / 2)\\n          var area = 0.00\\n          for(var i = 0; i < (inds.length-1); i++) {\\n              var sum_bases = Math.abs(d1[\\\"value\\\"][inds[i]]) + Math.abs(d1[\\\"value\\\"][inds[i+1]])\\n              console.log(Math.abs(d1[\\\"value\\\"][inds[i]]))\\n              console.log(Math.abs(d1[\\\"value\\\"][inds[i+1]]))\\n              console.log(sum_bases)\\n              var height = ((new Date(d1[\\\"date\\\"][inds[i+1]])).getTime() - (new Date(d1[\\\"date\\\"][inds[i]])).getTime()) / 60000\\n\\n              area = area + (sum_bases * height) / 2\\n          }\\n          // set the number of decimals to 2 \\n          area = parseFloat(area).toFixed(2);\\n\\n\\n          // push all the data in the source of the data_table\\n          d2[\\\"Start_date\\\"].push(start_date)\\n          d2[\\\"End_date\\\"].push(end_date)\\n          d2[\\\"Max_value\\\"].push(max_value)\\n          d2[\\\"Average_value\\\"].push(avarage_value)\\n          d2[\\\"Area\\\"].push(area)\\n\\n\\n          // reset the values of the bar plot and update them (order of values is: Max Value, Avarage Value, Area)\\n          d3[\\\"value\\\"] = []\\n          d3[\\\"value\\\"].push(max_value)\\n          d3[\\\"value\\\"].push(avarage_value)\\n          d3[\\\"value\\\"].push(area)\\n\\n\\n          // update the Table and Bar plot (this function notify that something has changed, and to immediately update the values and UI)\\n          source_table.change.emit()\\n          source_barplot.change.emit()\\n        }\\n        \"},\"id\":\"1478\",\"type\":\"CustomJS\"},{\"attributes\":{},\"id\":\"1547\",\"type\":\"Selection\"},{\"attributes\":{\"axis\":{\"id\":\"1385\"},\"ticker\":null},\"id\":\"1388\",\"type\":\"Grid\"},{\"attributes\":{},\"id\":\"1412\",\"type\":\"BasicTickFormatter\"},{\"attributes\":{\"editor\":{\"id\":\"1549\"},\"field\":\"Start_date\",\"formatter\":{\"id\":\"1440\"},\"title\":\"Start_date\"},\"id\":\"1441\",\"type\":\"TableColumn\"},{\"attributes\":{\"axis_label\":\"Values\",\"formatter\":{\"id\":\"1412\"},\"ticker\":{\"id\":\"1390\"}},\"id\":\"1389\",\"type\":\"LinearAxis\"},{\"attributes\":{\"days\":[1,8,15,22]},\"id\":\"1421\",\"type\":\"DaysTicker\"},{\"attributes\":{},\"id\":\"1468\",\"type\":\"CategoricalTicker\"},{\"attributes\":{},\"id\":\"1390\",\"type\":\"BasicTicker\"},{\"attributes\":{\"source\":{\"id\":\"1439\"}},\"id\":\"1450\",\"type\":\"CDSView\"},{\"attributes\":{\"factors\":[\"Max Value\",\"Avarage Value\",\"Area\"]},\"id\":\"1457\",\"type\":\"FactorRange\"},{\"attributes\":{\"bottom_units\":\"screen\",\"fill_alpha\":0.5,\"fill_color\":\"lightgrey\",\"left_units\":\"screen\",\"level\":\"overlay\",\"line_alpha\":1.0,\"line_color\":\"black\",\"line_dash\":[4,4],\"line_width\":2,\"right_units\":\"screen\",\"top_units\":\"screen\"},\"id\":\"1399\",\"type\":\"BoxAnnotation\"},{\"attributes\":{\"source\":{\"id\":\"1451\"}},\"id\":\"1475\",\"type\":\"CDSView\"},{\"attributes\":{},\"id\":\"1459\",\"type\":\"LinearScale\"},{\"attributes\":{\"text\":\"General Info\"},\"id\":\"1453\",\"type\":\"Title\"},{\"attributes\":{\"js_property_callbacks\":{\"change:indices\":[{\"id\":\"1478\"}]}},\"id\":\"1477\",\"type\":\"Selection\"},{\"attributes\":{},\"id\":\"1427\",\"type\":\"YearsTicker\"},{\"attributes\":{},\"id\":\"1455\",\"type\":\"DataRange1d\"},{\"attributes\":{\"data\":{\"Area\":[],\"Average_value\":[],\"End_date\":[],\"Max_value\":[],\"Start_date\":[]},\"selected\":{\"id\":\"1557\"},\"selection_policy\":{\"id\":\"1558\"}},\"id\":\"1439\",\"type\":\"ColumnDataSource\"},{\"attributes\":{\"data\":{\"name_bar\":[\"Max Value\",\"Avarage Value\",\"Area\"],\"value\":[0,0,0]},\"selected\":{\"id\":\"1547\"},\"selection_policy\":{\"id\":\"1548\"}},\"id\":\"1451\",\"type\":\"ColumnDataSource\"},{\"attributes\":{\"axis\":{\"id\":\"1463\"},\"ticker\":null},\"id\":\"1466\",\"type\":\"Grid\"},{\"attributes\":{\"days\":[1,15]},\"id\":\"1422\",\"type\":\"DaysTicker\"},{\"attributes\":{\"data_source\":{\"id\":\"1372\"},\"glyph\":{\"id\":\"1435\"},\"hover_glyph\":null,\"muted_glyph\":null,\"nonselection_glyph\":{\"id\":\"1436\"},\"selection_glyph\":null,\"view\":{\"id\":\"1438\"}},\"id\":\"1437\",\"type\":\"GlyphRenderer\"},{\"attributes\":{\"axis\":{\"id\":\"1389\"},\"dimension\":1,\"ticker\":null},\"id\":\"1392\",\"type\":\"Grid\"},{\"attributes\":{\"data_source\":{\"id\":\"1372\"},\"glyph\":{\"id\":\"1430\"},\"hover_glyph\":null,\"muted_glyph\":null,\"nonselection_glyph\":{\"id\":\"1431\"},\"selection_glyph\":null,\"view\":{\"id\":\"1433\"}},\"id\":\"1432\",\"type\":\"GlyphRenderer\"},{\"attributes\":{},\"id\":\"1461\",\"type\":\"CategoricalScale\"},{\"attributes\":{\"line_color\":\"#1f77b4\",\"line_width\":2,\"x\":{\"field\":\"date\"},\"y\":{\"field\":\"value\"}},\"id\":\"1430\",\"type\":\"Line\"},{\"attributes\":{\"args\":{\"break_lines\":\"\\r\\n\",\"source_table\":{\"id\":\"1439\"}},\"code\":\"\\n        // get the data from the source of the table\\n        var data = source_table.data\\n\\n        // get the length of the list \\n        var number_of_data = data[\\\"Start_date\\\"].length\\n\\n        // order the data\\n        var start_date_list = data[\\\"Start_date\\\"]\\n        var end_date_list = data[\\\"End_date\\\"]\\n        var max_value_list = data[\\\"Max_value\\\"]\\n        var avarage_value_list = data[\\\"Average_value\\\"]\\n        var area_list = data[\\\"Area\\\"]\\n\\n        // fill the string with the data (while also modifying the data of date format of: hour,minute and seconds to 2 digit string)\\n        var out = \\\"\\\";\\n        for (var i = 0; i < number_of_data; i++) {\\n          out += i+ \\\")\\\" +break_lines+ \\n                 \\\"Start Date:    \\\"  +start_date_list[i]+ \\\"\\\" +break_lines+\\n                 \\\"End Date:      \\\"  +end_date_list[i]+ \\\"\\\" +break_lines+\\n                 \\\"Max Value:     \\\"  +max_value_list[i]+ \\\"\\\" +break_lines+\\n                 \\\"Avarage Value: \\\"  +avarage_value_list[i]+ \\\"\\\" +break_lines+\\n                 \\\"Area:          \\\"  +area_list[i]+ \\\"\\\" +break_lines+ \\\"\\\" +break_lines\\n        }\\n\\n\\n        // write the data in the file\\n        var file = new Blob([out], {type: 'text/plain'});\\n        var elem = window.document.createElement('a');\\n        elem.href = window.URL.createObjectURL(file);\\n        elem.download = 'selected_data.txt';\\n        document.body.appendChild(elem);\\n        elem.click();\\n        document.body.removeChild(elem);\\n    \"},\"id\":\"1479\",\"type\":\"CustomJS\"},{\"attributes\":{\"source\":{\"id\":\"1372\"}},\"id\":\"1438\",\"type\":\"CDSView\"},{\"attributes\":{},\"id\":\"1395\",\"type\":\"ResetTool\"},{\"attributes\":{\"callback\":null,\"tooltips\":\"\"},\"id\":\"1396\",\"type\":\"HoverTool\"},{\"attributes\":{\"overlay\":{\"id\":\"1400\"}},\"id\":\"1397\",\"type\":\"PolySelectTool\"}],\"root_ids\":[\"1482\"]},\"title\":\"Bokeh Application\",\"version\":\"2.1.1\"}};\n",
              "  var render_items = [{\"docid\":\"06b9bf20-72ce-4b2e-9694-f1b5daac7651\",\"root_ids\":[\"1482\"],\"roots\":{\"1482\":\"0bdda061-df91-41ac-9e08-84700a07f00d\"}}];\n",
              "  root.Bokeh.embed.embed_items_notebook(docs_json, render_items);\n",
              "\n",
              "  }\n",
              "  if (root.Bokeh !== undefined) {\n",
              "    embed_document(root);\n",
              "  } else {\n",
              "    var attempts = 0;\n",
              "    var timer = setInterval(function(root) {\n",
              "      if (root.Bokeh !== undefined) {\n",
              "        clearInterval(timer);\n",
              "        embed_document(root);\n",
              "      } else {\n",
              "        attempts++;\n",
              "        if (attempts > 100) {\n",
              "          clearInterval(timer);\n",
              "          console.log(\"Bokeh: ERROR: Unable to run BokehJS code because BokehJS library is missing\");\n",
              "        }\n",
              "      }\n",
              "    }, 10, root)\n",
              "  }\n",
              "})(window);"
            ],
            "application/vnd.bokehjs_exec.v0+json": ""
          },
          "metadata": {
            "tags": [],
            "application/vnd.bokehjs_exec.v0+json": {
              "id": "1482"
            }
          }
        }
      ]
    },
    {
      "cell_type": "markdown",
      "metadata": {
        "id": "LXiGzH3ubsQF"
      },
      "source": [
        "# Other Library used to visualize data\r\n"
      ]
    },
    {
      "cell_type": "markdown",
      "metadata": {
        "id": "ZzsMtRJibjHH"
      },
      "source": [
        "Test of creating the chart using various libraries...\r\n"
      ]
    },
    {
      "cell_type": "markdown",
      "metadata": {
        "id": "MZPO-mU3cKR-"
      },
      "source": [
        "Draw everything in a chart using the altair library (i haven't used this library since it doesn't have any support for return the data selected)"
      ]
    },
    {
      "cell_type": "code",
      "metadata": {
        "id": "AIgHNcl2pJOj",
        "colab": {
          "base_uri": "https://localhost:8080/",
          "height": 0
        },
        "outputId": "487be85c-707e-4ab1-b9d5-1470b43f71ef"
      },
      "source": [
        "import altair as alt\n",
        "\n",
        "brush = alt.selection_interval(encodings=['x'])\n",
        "\n",
        "color = alt.condition(brush, alt.value('blue'), alt.value('lightgray'))\n",
        "\n",
        "chart = alt.Chart(data).mark_line(point={\n",
        "    \"filled\": False,\n",
        "    \"fill\": 'white'\n",
        "    }).encode(\n",
        "        y=alt.Y('value', sort=alt.EncodingSortField('value', order='descending')),\n",
        "        x='date',\n",
        "        color=color\n",
        ").add_selection(\n",
        "    brush\n",
        ")\n",
        "\n",
        "chart "
      ],
      "execution_count": 33,
      "outputs": [
        {
          "output_type": "execute_result",
          "data": {
            "text/plain": [
              "alt.Chart(...)"
            ],
            "text/html": [
              "\n",
              "<div id=\"altair-viz-027dc315b66c413e87e9d6b0fc014635\"></div>\n",
              "<script type=\"text/javascript\">\n",
              "  (function(spec, embedOpt){\n",
              "    let outputDiv = document.currentScript.previousElementSibling;\n",
              "    if (outputDiv.id !== \"altair-viz-027dc315b66c413e87e9d6b0fc014635\") {\n",
              "      outputDiv = document.getElementById(\"altair-viz-027dc315b66c413e87e9d6b0fc014635\");\n",
              "    }\n",
              "    const paths = {\n",
              "      \"vega\": \"https://cdn.jsdelivr.net/npm//vega@5?noext\",\n",
              "      \"vega-lib\": \"https://cdn.jsdelivr.net/npm//vega-lib?noext\",\n",
              "      \"vega-lite\": \"https://cdn.jsdelivr.net/npm//vega-lite@4.8.1?noext\",\n",
              "      \"vega-embed\": \"https://cdn.jsdelivr.net/npm//vega-embed@6?noext\",\n",
              "    };\n",
              "\n",
              "    function loadScript(lib) {\n",
              "      return new Promise(function(resolve, reject) {\n",
              "        var s = document.createElement('script');\n",
              "        s.src = paths[lib];\n",
              "        s.async = true;\n",
              "        s.onload = () => resolve(paths[lib]);\n",
              "        s.onerror = () => reject(`Error loading script: ${paths[lib]}`);\n",
              "        document.getElementsByTagName(\"head\")[0].appendChild(s);\n",
              "      });\n",
              "    }\n",
              "\n",
              "    function showError(err) {\n",
              "      outputDiv.innerHTML = `<div class=\"error\" style=\"color:red;\">${err}</div>`;\n",
              "      throw err;\n",
              "    }\n",
              "\n",
              "    function displayChart(vegaEmbed) {\n",
              "      vegaEmbed(outputDiv, spec, embedOpt)\n",
              "        .catch(err => showError(`Javascript Error: ${err.message}<br>This usually means there's a typo in your chart specification. See the javascript console for the full traceback.`));\n",
              "    }\n",
              "\n",
              "    if(typeof define === \"function\" && define.amd) {\n",
              "      requirejs.config({paths});\n",
              "      require([\"vega-embed\"], displayChart, err => showError(`Error loading script: ${err.message}`));\n",
              "    } else if (typeof vegaEmbed === \"function\") {\n",
              "      displayChart(vegaEmbed);\n",
              "    } else {\n",
              "      loadScript(\"vega\")\n",
              "        .then(() => loadScript(\"vega-lite\"))\n",
              "        .then(() => loadScript(\"vega-embed\"))\n",
              "        .catch(showError)\n",
              "        .then(() => displayChart(vegaEmbed));\n",
              "    }\n",
              "  })({\"config\": {\"view\": {\"continuousWidth\": 400, \"continuousHeight\": 300}}, \"data\": {\"name\": \"data-f4355a50b931b7b57600c8cc84fecfba\"}, \"mark\": {\"type\": \"line\", \"point\": {\"filled\": false, \"fill\": \"white\"}}, \"encoding\": {\"color\": {\"condition\": {\"value\": \"blue\", \"selection\": \"selector002\"}, \"value\": \"lightgray\"}, \"x\": {\"type\": \"temporal\", \"field\": \"date\"}, \"y\": {\"type\": \"quantitative\", \"field\": \"value\", \"sort\": {\"field\": \"value\", \"order\": \"descending\"}}}, \"selection\": {\"selector002\": {\"type\": \"interval\", \"encodings\": [\"x\"]}}, \"$schema\": \"https://vega.github.io/schema/vega-lite/v4.8.1.json\", \"datasets\": {\"data-f4355a50b931b7b57600c8cc84fecfba\": [{\"date\": \"2020-11-08T00:11:00\", \"value\": 15.4}, {\"date\": \"2020-11-08T00:31:00\", \"value\": -0.2}, {\"date\": \"2020-11-08T00:51:00\", \"value\": -4.4}, {\"date\": \"2020-11-08T01:11:00\", \"value\": -23.2}, {\"date\": \"2020-11-08T01:31:00\", \"value\": -21.8}, {\"date\": \"2020-11-08T01:51:00\", \"value\": -21.4}, {\"date\": \"2020-11-08T02:11:00\", \"value\": -22.4}, {\"date\": \"2020-11-08T02:31:00\", \"value\": -21.8}, {\"date\": \"2020-11-08T02:51:00\", \"value\": -21.8}, {\"date\": \"2020-11-08T03:11:00\", \"value\": -22.2}, {\"date\": \"2020-11-08T03:31:00\", \"value\": -22.0}, {\"date\": \"2020-11-08T03:51:00\", \"value\": -22.2}, {\"date\": \"2020-11-08T04:11:00\", \"value\": -22.2}, {\"date\": \"2020-11-08T04:31:00\", \"value\": -22.2}, {\"date\": \"2020-11-08T04:51:00\", \"value\": -22.8}, {\"date\": \"2020-11-08T05:11:00\", \"value\": -22.8}, {\"date\": \"2020-11-08T05:31:00\", \"value\": -22.2}, {\"date\": \"2020-11-08T05:51:00\", \"value\": -12.2}, {\"date\": \"2020-11-08T06:11:00\", \"value\": 1.7}, {\"date\": \"2020-11-08T06:31:00\", \"value\": -23.0}, {\"date\": \"2020-11-08T06:51:00\", \"value\": -22.2}, {\"date\": \"2020-11-08T07:11:00\", \"value\": -22.2}, {\"date\": \"2020-11-08T07:31:00\", \"value\": -21.6}, {\"date\": \"2020-11-08T07:51:00\", \"value\": -23.0}, {\"date\": \"2020-11-08T08:11:00\", \"value\": -20.2}, {\"date\": \"2020-11-08T08:31:00\", \"value\": -23.8}, {\"date\": \"2020-11-08T08:51:00\", \"value\": -22.0}, {\"date\": \"2020-11-08T09:11:00\", \"value\": -22.8}, {\"date\": \"2020-11-08T09:31:00\", \"value\": -23.2}, {\"date\": \"2020-11-08T09:51:00\", \"value\": -24.2}, {\"date\": \"2020-11-08T10:11:00\", \"value\": -21.6}, {\"date\": \"2020-11-08T10:31:00\", \"value\": -22.4}, {\"date\": \"2020-11-08T10:51:00\", \"value\": -23.2}, {\"date\": \"2020-11-08T11:11:00\", \"value\": -23.4}, {\"date\": \"2020-11-08T11:31:00\", \"value\": -22.4}, {\"date\": \"2020-11-08T11:51:00\", \"value\": -22.8}, {\"date\": \"2020-11-08T12:11:00\", \"value\": -22.0}, {\"date\": \"2020-11-08T12:31:00\", \"value\": -24.6}, {\"date\": \"2020-11-08T12:51:00\", \"value\": -24.4}, {\"date\": \"2020-11-08T13:11:00\", \"value\": -22.4}, {\"date\": \"2020-11-08T13:31:00\", \"value\": -24.2}, {\"date\": \"2020-11-08T13:51:00\", \"value\": -23.4}, {\"date\": \"2020-11-08T14:11:00\", \"value\": -24.8}, {\"date\": \"2020-11-08T14:31:00\", \"value\": -24.4}, {\"date\": \"2020-11-08T14:51:00\", \"value\": -22.2}, {\"date\": \"2020-11-08T15:11:00\", \"value\": -22.2}, {\"date\": \"2020-11-08T15:31:00\", \"value\": -23.2}, {\"date\": \"2020-11-08T15:51:00\", \"value\": -24.8}, {\"date\": \"2020-11-08T16:11:00\", \"value\": -23.8}, {\"date\": \"2020-11-08T16:31:00\", \"value\": -23.6}, {\"date\": \"2020-11-08T16:51:00\", \"value\": -22.4}, {\"date\": \"2020-11-08T17:11:00\", \"value\": -22.2}, {\"date\": \"2020-11-08T17:31:00\", \"value\": -22.2}, {\"date\": \"2020-11-08T17:51:00\", \"value\": -22.4}, {\"date\": \"2020-11-08T18:11:00\", \"value\": -22.0}, {\"date\": \"2020-11-08T18:31:00\", \"value\": -23.4}, {\"date\": \"2020-11-08T18:51:00\", \"value\": -22.8}, {\"date\": \"2020-11-08T19:11:00\", \"value\": -23.8}, {\"date\": \"2020-11-08T19:31:00\", \"value\": -24.0}, {\"date\": \"2020-11-08T19:51:00\", \"value\": -22.0}, {\"date\": \"2020-11-08T20:11:00\", \"value\": -19.6}, {\"date\": \"2020-11-08T20:31:00\", \"value\": -22.4}, {\"date\": \"2020-11-08T20:51:00\", \"value\": -24.0}, {\"date\": \"2020-11-08T21:11:00\", \"value\": -22.6}, {\"date\": \"2020-11-08T21:31:00\", \"value\": -22.2}, {\"date\": \"2020-11-08T21:51:00\", \"value\": -21.8}, {\"date\": \"2020-11-08T22:11:00\", \"value\": -23.2}, {\"date\": \"2020-11-08T22:31:00\", \"value\": -22.8}, {\"date\": \"2020-11-08T22:51:00\", \"value\": -26.0}, {\"date\": \"2020-11-08T23:11:00\", \"value\": -22.6}, {\"date\": \"2020-11-08T23:31:00\", \"value\": -24.2}, {\"date\": \"2020-11-08T23:51:00\", \"value\": 0.2}, {\"date\": \"2020-11-09T00:11:00\", \"value\": 15.5}, {\"date\": \"2020-11-09T00:31:00\", \"value\": 1.4}, {\"date\": \"2020-11-09T00:51:00\", \"value\": -1.4}, {\"date\": \"2020-11-09T01:11:00\", \"value\": -22.7}, {\"date\": \"2020-11-09T01:31:00\", \"value\": -22.1}, {\"date\": \"2020-11-09T01:51:00\", \"value\": -22.9}, {\"date\": \"2020-11-09T02:11:00\", \"value\": -22.3}, {\"date\": \"2020-11-09T02:31:00\", \"value\": -23.3}, {\"date\": \"2020-11-09T02:51:00\", \"value\": -23.1}, {\"date\": \"2020-11-09T03:11:00\", \"value\": -23.3}, {\"date\": \"2020-11-09T03:31:00\", \"value\": -22.9}, {\"date\": \"2020-11-09T03:51:00\", \"value\": -22.1}, {\"date\": \"2020-11-09T04:11:00\", \"value\": -22.9}, {\"date\": \"2020-11-09T04:31:00\", \"value\": -23.5}, {\"date\": \"2020-11-09T04:51:00\", \"value\": -22.3}, {\"date\": \"2020-11-09T05:11:00\", \"value\": -22.5}, {\"date\": \"2020-11-09T05:31:00\", \"value\": -23.5}, {\"date\": \"2020-11-09T05:51:00\", \"value\": -12.7}, {\"date\": \"2020-11-09T06:11:00\", \"value\": -1.9}, {\"date\": \"2020-11-09T06:31:00\", \"value\": -24.7}, {\"date\": \"2020-11-09T06:51:00\", \"value\": -22.9}, {\"date\": \"2020-11-09T07:11:00\", \"value\": -22.5}, {\"date\": \"2020-11-09T07:31:00\", \"value\": -22.1}, {\"date\": \"2020-11-09T07:51:00\", \"value\": -22.5}, {\"date\": \"2020-11-09T08:11:00\", \"value\": -20.5}, {\"date\": \"2020-11-09T08:31:00\", \"value\": -23.7}, {\"date\": \"2020-11-09T08:51:00\", \"value\": -22.3}, {\"date\": \"2020-11-09T09:11:00\", \"value\": -21.7}, {\"date\": \"2020-11-09T09:31:00\", \"value\": -23.1}, {\"date\": \"2020-11-09T09:51:00\", \"value\": -21.9}, {\"date\": \"2020-11-09T10:11:00\", \"value\": -21.7}, {\"date\": \"2020-11-09T10:31:00\", \"value\": -22.7}, {\"date\": \"2020-11-09T10:51:00\", \"value\": -23.3}, {\"date\": \"2020-11-09T11:11:00\", \"value\": -22.9}, {\"date\": \"2020-11-09T11:31:00\", \"value\": -23.1}, {\"date\": \"2020-11-09T11:51:00\", \"value\": -23.3}, {\"date\": \"2020-11-09T12:11:00\", \"value\": -22.3}, {\"date\": \"2020-11-09T12:31:00\", \"value\": -25.1}, {\"date\": \"2020-11-09T12:51:00\", \"value\": -22.3}, {\"date\": \"2020-11-09T13:11:00\", \"value\": -23.9}, {\"date\": \"2020-11-09T13:22:00\", \"value\": -23.5}, {\"date\": \"2020-11-09T13:31:00\", \"value\": -24.5}, {\"date\": \"2020-11-09T13:51:00\", \"value\": -22.9}, {\"date\": \"2020-11-09T14:11:00\", \"value\": -24.7}, {\"date\": \"2020-11-09T14:31:00\", \"value\": -23.7}, {\"date\": \"2020-11-09T14:51:00\", \"value\": -24.3}, {\"date\": \"2020-11-09T15:11:00\", \"value\": -24.3}, {\"date\": \"2020-11-09T15:31:00\", \"value\": -24.3}, {\"date\": \"2020-11-09T15:51:00\", \"value\": -24.5}, {\"date\": \"2020-11-09T16:11:00\", \"value\": -24.5}, {\"date\": \"2020-11-09T16:31:00\", \"value\": -23.3}, {\"date\": \"2020-11-09T16:51:00\", \"value\": -24.5}, {\"date\": \"2020-11-09T17:11:00\", \"value\": -22.7}, {\"date\": \"2020-11-09T17:31:00\", \"value\": -24.5}, {\"date\": \"2020-11-09T17:51:00\", \"value\": -22.9}, {\"date\": \"2020-11-09T18:11:00\", \"value\": -23.9}, {\"date\": \"2020-11-09T18:31:00\", \"value\": -23.1}, {\"date\": \"2020-11-09T18:51:00\", \"value\": -22.9}, {\"date\": \"2020-11-09T19:11:00\", \"value\": -22.7}, {\"date\": \"2020-11-09T19:31:00\", \"value\": -24.5}, {\"date\": \"2020-11-09T19:51:00\", \"value\": -23.7}, {\"date\": \"2020-11-09T20:11:00\", \"value\": -20.5}, {\"date\": \"2020-11-09T20:31:00\", \"value\": -25.1}, {\"date\": \"2020-11-09T20:51:00\", \"value\": -23.3}, {\"date\": \"2020-11-09T21:11:00\", \"value\": -23.7}, {\"date\": \"2020-11-09T21:31:00\", \"value\": -23.7}, {\"date\": \"2020-11-09T21:51:00\", \"value\": -22.7}, {\"date\": \"2020-11-09T22:11:00\", \"value\": -23.7}, {\"date\": \"2020-11-09T22:31:00\", \"value\": -22.5}, {\"date\": \"2020-11-09T22:51:00\", \"value\": -21.7}, {\"date\": \"2020-11-09T23:11:00\", \"value\": -23.7}, {\"date\": \"2020-11-09T23:31:00\", \"value\": -23.9}, {\"date\": \"2020-11-09T23:51:00\", \"value\": 0.1}, {\"date\": \"2020-11-10T00:11:00\", \"value\": 14.8}, {\"date\": \"2020-11-10T00:31:00\", \"value\": 0.4}, {\"date\": \"2020-11-10T00:51:00\", \"value\": -2.4}, {\"date\": \"2020-11-10T01:11:00\", \"value\": -23.8}, {\"date\": \"2020-11-10T01:31:00\", \"value\": -23.8}, {\"date\": \"2020-11-10T01:51:00\", \"value\": -24.2}, {\"date\": \"2020-11-10T02:11:00\", \"value\": -24.4}, {\"date\": \"2020-11-10T02:31:00\", \"value\": -24.6}, {\"date\": \"2020-11-10T02:51:00\", \"value\": -24.8}, {\"date\": \"2020-11-10T03:11:00\", \"value\": -22.4}, {\"date\": \"2020-11-10T03:31:00\", \"value\": -23.2}, {\"date\": \"2020-11-10T03:51:00\", \"value\": -23.8}, {\"date\": \"2020-11-10T04:11:00\", \"value\": -22.6}, {\"date\": \"2020-11-10T04:31:00\", \"value\": -22.8}, {\"date\": \"2020-11-10T04:51:00\", \"value\": -23.4}, {\"date\": \"2020-11-10T05:11:00\", \"value\": -23.0}, {\"date\": \"2020-11-10T05:31:00\", \"value\": -23.2}, {\"date\": \"2020-11-10T05:51:00\", \"value\": -14.2}, {\"date\": \"2020-11-10T06:11:00\", \"value\": 9.3}, {\"date\": \"2020-11-10T06:31:00\", \"value\": -25.0}, {\"date\": \"2020-11-10T06:51:00\", \"value\": -24.6}, {\"date\": \"2020-11-10T07:11:00\", \"value\": -22.0}, {\"date\": \"2020-11-10T07:31:00\", \"value\": -23.6}, {\"date\": \"2020-11-10T07:51:00\", \"value\": -22.0}, {\"date\": \"2020-11-10T08:11:00\", \"value\": -21.2}, {\"date\": \"2020-11-10T08:31:00\", \"value\": -23.8}, {\"date\": \"2020-11-10T08:51:00\", \"value\": -22.2}, {\"date\": \"2020-11-10T09:11:00\", \"value\": -22.2}, {\"date\": \"2020-11-10T09:31:00\", \"value\": -24.0}, {\"date\": \"2020-11-10T09:51:00\", \"value\": -22.6}, {\"date\": \"2020-11-10T10:11:00\", \"value\": -22.4}, {\"date\": \"2020-11-10T10:31:00\", \"value\": -21.6}, {\"date\": \"2020-11-10T10:51:00\", \"value\": -23.6}, {\"date\": \"2020-11-10T11:11:00\", \"value\": -22.6}, {\"date\": \"2020-11-10T11:31:00\", \"value\": -22.8}, {\"date\": \"2020-11-10T11:51:00\", \"value\": -22.0}, {\"date\": \"2020-11-10T12:11:00\", \"value\": -21.8}, {\"date\": \"2020-11-10T12:31:00\", \"value\": -25.2}, {\"date\": \"2020-11-10T12:51:00\", \"value\": -24.8}, {\"date\": \"2020-11-10T13:11:00\", \"value\": -24.7}, {\"date\": \"2020-11-10T13:31:00\", \"value\": -23.1}, {\"date\": \"2020-11-10T13:51:00\", \"value\": -22.7}, {\"date\": \"2020-11-10T14:11:00\", \"value\": -24.5}, {\"date\": \"2020-11-10T14:31:00\", \"value\": -22.9}, {\"date\": \"2020-11-10T14:51:00\", \"value\": -24.1}, {\"date\": \"2020-11-10T15:11:00\", \"value\": -24.5}, {\"date\": \"2020-11-10T15:31:00\", \"value\": -24.1}, {\"date\": \"2020-11-10T15:51:00\", \"value\": -23.5}, {\"date\": \"2020-11-10T16:11:00\", \"value\": -23.3}, {\"date\": \"2020-11-10T16:31:00\", \"value\": -22.7}, {\"date\": \"2020-11-10T16:51:00\", \"value\": -22.9}, {\"date\": \"2020-11-10T17:11:00\", \"value\": -22.5}, {\"date\": \"2020-11-10T17:31:00\", \"value\": -25.1}, {\"date\": \"2020-11-10T17:51:00\", \"value\": -24.5}, {\"date\": \"2020-11-10T18:11:00\", \"value\": -22.9}, {\"date\": \"2020-11-10T18:31:00\", \"value\": -25.5}, {\"date\": \"2020-11-10T18:51:00\", \"value\": -24.9}, {\"date\": \"2020-11-10T19:11:00\", \"value\": -23.7}, {\"date\": \"2020-11-10T19:31:00\", \"value\": -22.5}, {\"date\": \"2020-11-10T19:51:00\", \"value\": -22.9}, {\"date\": \"2020-11-10T20:11:00\", \"value\": -21.5}, {\"date\": \"2020-11-10T20:31:00\", \"value\": -23.7}, {\"date\": \"2020-11-10T20:51:00\", \"value\": -24.3}, {\"date\": \"2020-11-10T21:11:00\", \"value\": -22.1}, {\"date\": \"2020-11-10T21:31:00\", \"value\": -22.3}, {\"date\": \"2020-11-10T21:51:00\", \"value\": -22.7}, {\"date\": \"2020-11-10T22:11:00\", \"value\": -22.5}, {\"date\": \"2020-11-10T22:31:00\", \"value\": -24.5}, {\"date\": \"2020-11-10T22:51:00\", \"value\": -22.3}, {\"date\": \"2020-11-10T23:11:00\", \"value\": -23.1}, {\"date\": \"2020-11-10T23:31:00\", \"value\": -24.3}, {\"date\": \"2020-11-10T23:51:00\", \"value\": 0.3}, {\"date\": \"2020-11-11T00:11:00\", \"value\": 13.2}, {\"date\": \"2020-11-11T00:31:00\", \"value\": 0.4}, {\"date\": \"2020-11-11T00:51:00\", \"value\": -20.1}, {\"date\": \"2020-11-11T01:11:00\", \"value\": -23.9}, {\"date\": \"2020-11-11T01:31:00\", \"value\": -22.1}, {\"date\": \"2020-11-11T01:51:00\", \"value\": -22.1}, {\"date\": \"2020-11-11T02:11:00\", \"value\": -22.9}, {\"date\": \"2020-11-11T02:31:00\", \"value\": -23.3}, {\"date\": \"2020-11-11T02:51:00\", \"value\": -22.9}, {\"date\": \"2020-11-11T03:11:00\", \"value\": -23.1}, {\"date\": \"2020-11-11T03:31:00\", \"value\": -22.9}, {\"date\": \"2020-11-11T03:51:00\", \"value\": -24.1}, {\"date\": \"2020-11-11T04:11:00\", \"value\": -22.5}, {\"date\": \"2020-11-11T04:31:00\", \"value\": -22.9}, {\"date\": \"2020-11-11T04:51:00\", \"value\": -23.9}, {\"date\": \"2020-11-11T05:11:00\", \"value\": -23.5}, {\"date\": \"2020-11-11T05:31:00\", \"value\": -22.3}, {\"date\": \"2020-11-11T05:51:00\", \"value\": -11.3}, {\"date\": \"2020-11-11T06:11:00\", \"value\": -0.4}, {\"date\": \"2020-11-11T06:31:00\", \"value\": -25.0}, {\"date\": \"2020-11-11T06:51:00\", \"value\": -24.8}, {\"date\": \"2020-11-11T07:11:00\", \"value\": -24.8}, {\"date\": \"2020-11-11T07:31:00\", \"value\": -23.2}, {\"date\": \"2020-11-11T07:51:00\", \"value\": -22.8}, {\"date\": \"2020-11-11T08:11:00\", \"value\": -21.0}, {\"date\": \"2020-11-11T08:31:00\", \"value\": -23.8}, {\"date\": \"2020-11-11T08:51:00\", \"value\": -23.0}, {\"date\": \"2020-11-11T09:11:00\", \"value\": -23.2}, {\"date\": \"2020-11-11T09:31:00\", \"value\": -23.2}, {\"date\": \"2020-11-11T09:51:00\", \"value\": -22.0}, {\"date\": \"2020-11-11T10:11:00\", \"value\": -23.0}, {\"date\": \"2020-11-11T10:31:00\", \"value\": -22.8}, {\"date\": \"2020-11-11T10:51:00\", \"value\": -24.0}, {\"date\": \"2020-11-11T11:11:00\", \"value\": -23.8}, {\"date\": \"2020-11-11T11:31:00\", \"value\": -23.6}, {\"date\": \"2020-11-11T11:51:00\", \"value\": -24.6}, {\"date\": \"2020-11-11T12:11:00\", \"value\": -23.0}, {\"date\": \"2020-11-11T12:31:00\", \"value\": -26.2}, {\"date\": \"2020-11-11T12:51:00\", \"value\": -24.0}, {\"date\": \"2020-11-11T13:11:00\", \"value\": -25.2}, {\"date\": \"2020-11-11T13:31:00\", \"value\": -23.6}, {\"date\": \"2020-11-11T13:51:00\", \"value\": -24.4}, {\"date\": \"2020-11-11T14:11:00\", \"value\": -23.8}, {\"date\": \"2020-11-11T14:31:00\", \"value\": -21.8}, {\"date\": \"2020-11-11T14:51:00\", \"value\": -22.6}, {\"date\": \"2020-11-11T15:11:00\", \"value\": -22.4}, {\"date\": \"2020-11-11T15:31:00\", \"value\": -22.4}, {\"date\": \"2020-11-11T15:51:00\", \"value\": -22.4}, {\"date\": \"2020-11-11T16:11:00\", \"value\": -22.4}, {\"date\": \"2020-11-11T16:31:00\", \"value\": -22.2}, {\"date\": \"2020-11-11T16:51:00\", \"value\": -22.4}, {\"date\": \"2020-11-11T17:11:00\", \"value\": -22.4}, {\"date\": \"2020-11-11T17:31:00\", \"value\": -21.6}, {\"date\": \"2020-11-11T17:51:00\", \"value\": -22.8}, {\"date\": \"2020-11-11T18:11:00\", \"value\": -22.4}, {\"date\": \"2020-11-11T18:31:00\", \"value\": -21.8}, {\"date\": \"2020-11-11T18:51:00\", \"value\": -23.2}, {\"date\": \"2020-11-11T19:11:00\", \"value\": -22.2}, {\"date\": \"2020-11-11T19:31:00\", \"value\": -21.8}, {\"date\": \"2020-11-11T19:51:00\", \"value\": -23.0}, {\"date\": \"2020-11-11T20:11:00\", \"value\": -21.2}, {\"date\": \"2020-11-11T20:31:00\", \"value\": -23.8}, {\"date\": \"2020-11-11T20:51:00\", \"value\": -22.6}, {\"date\": \"2020-11-11T21:11:00\", \"value\": -22.4}, {\"date\": \"2020-11-11T21:31:00\", \"value\": -24.4}, {\"date\": \"2020-11-11T21:51:00\", \"value\": -22.0}, {\"date\": \"2020-11-11T22:11:00\", \"value\": -23.4}, {\"date\": \"2020-11-11T22:31:00\", \"value\": -22.4}, {\"date\": \"2020-11-11T22:51:00\", \"value\": -23.0}, {\"date\": \"2020-11-11T23:11:00\", \"value\": -24.2}, {\"date\": \"2020-11-11T23:31:00\", \"value\": -23.0}, {\"date\": \"2020-11-11T23:51:00\", \"value\": 0.2}, {\"date\": \"2020-11-12T00:11:00\", \"value\": 13.5}, {\"date\": \"2020-11-12T00:31:00\", \"value\": -1.0}, {\"date\": \"2020-11-12T00:51:00\", \"value\": -1.6}, {\"date\": \"2020-11-12T01:11:00\", \"value\": -22.8}, {\"date\": \"2020-11-12T01:31:00\", \"value\": -23.0}, {\"date\": \"2020-11-12T01:51:00\", \"value\": -22.8}, {\"date\": \"2020-11-12T02:11:00\", \"value\": -22.0}, {\"date\": \"2020-11-12T02:30:00\", \"value\": -22.8}, {\"date\": \"2020-11-12T02:31:00\", \"value\": -22.2}, {\"date\": \"2020-11-12T02:51:00\", \"value\": -23.2}, {\"date\": \"2020-11-12T03:11:00\", \"value\": -23.0}, {\"date\": \"2020-11-12T03:31:00\", \"value\": -22.8}, {\"date\": \"2020-11-12T03:51:00\", \"value\": -22.6}, {\"date\": \"2020-11-12T04:11:00\", \"value\": -22.2}, {\"date\": \"2020-11-12T04:31:00\", \"value\": -22.8}, {\"date\": \"2020-11-12T04:51:00\", \"value\": -22.6}, {\"date\": \"2020-11-12T05:11:00\", \"value\": -23.0}, {\"date\": \"2020-11-12T05:31:00\", \"value\": -22.2}, {\"date\": \"2020-11-12T05:51:00\", \"value\": -12.8}, {\"date\": \"2020-11-12T06:11:00\", \"value\": -15.1}, {\"date\": \"2020-11-12T06:31:00\", \"value\": -23.5}, {\"date\": \"2020-11-12T06:51:00\", \"value\": -22.7}, {\"date\": \"2020-11-12T07:11:00\", \"value\": -22.9}, {\"date\": \"2020-11-12T07:31:00\", \"value\": -22.3}, {\"date\": \"2020-11-12T07:51:00\", \"value\": -22.7}, {\"date\": \"2020-11-12T08:11:00\", \"value\": -21.3}, {\"date\": \"2020-11-12T08:31:00\", \"value\": -24.7}, {\"date\": \"2020-11-12T08:51:00\", \"value\": -23.9}, {\"date\": \"2020-11-12T09:11:00\", \"value\": -23.5}, {\"date\": \"2020-11-12T09:31:00\", \"value\": -24.3}, {\"date\": \"2020-11-12T09:51:00\", \"value\": -24.7}, {\"date\": \"2020-11-12T10:11:00\", \"value\": -22.1}, {\"date\": \"2020-11-12T10:31:00\", \"value\": -23.5}, {\"date\": \"2020-11-12T10:51:00\", \"value\": -26.1}, {\"date\": \"2020-11-12T11:11:00\", \"value\": -24.9}, {\"date\": \"2020-11-12T11:31:00\", \"value\": -22.5}, {\"date\": \"2020-11-12T11:51:00\", \"value\": -23.1}, {\"date\": \"2020-11-12T12:11:00\", \"value\": -22.3}, {\"date\": \"2020-11-12T12:31:00\", \"value\": -24.7}, {\"date\": \"2020-11-12T12:51:00\", \"value\": -23.7}, {\"date\": \"2020-11-12T13:11:00\", \"value\": -24.5}, {\"date\": \"2020-11-12T13:31:00\", \"value\": -22.5}, {\"date\": \"2020-11-12T13:51:00\", \"value\": -22.9}, {\"date\": \"2020-11-12T14:11:00\", \"value\": -23.3}, {\"date\": \"2020-11-12T14:31:00\", \"value\": -22.9}, {\"date\": \"2020-11-12T14:51:00\", \"value\": -23.3}, {\"date\": \"2020-11-12T15:11:00\", \"value\": -22.9}, {\"date\": \"2020-11-12T15:31:00\", \"value\": -24.9}, {\"date\": \"2020-11-12T15:51:00\", \"value\": -23.5}, {\"date\": \"2020-11-12T16:11:00\", \"value\": -22.5}, {\"date\": \"2020-11-12T16:31:00\", \"value\": -22.3}, {\"date\": \"2020-11-12T16:51:00\", \"value\": -23.3}, {\"date\": \"2020-11-12T17:11:00\", \"value\": -22.3}, {\"date\": \"2020-11-12T17:31:00\", \"value\": -22.5}, {\"date\": \"2020-11-12T17:51:00\", \"value\": -22.5}, {\"date\": \"2020-11-12T18:11:00\", \"value\": -22.1}, {\"date\": \"2020-11-12T18:31:00\", \"value\": -22.1}, {\"date\": \"2020-11-12T18:51:00\", \"value\": -23.7}, {\"date\": \"2020-11-12T19:11:00\", \"value\": -22.5}, {\"date\": \"2020-11-12T19:31:00\", \"value\": -22.7}, {\"date\": \"2020-11-12T19:51:00\", \"value\": -23.1}, {\"date\": \"2020-11-12T20:11:00\", \"value\": -20.1}, {\"date\": \"2020-11-12T20:31:00\", \"value\": -23.1}, {\"date\": \"2020-11-12T20:51:00\", \"value\": -22.7}, {\"date\": \"2020-11-12T21:11:00\", \"value\": -23.7}, {\"date\": \"2020-11-12T21:31:00\", \"value\": -22.9}, {\"date\": \"2020-11-12T21:51:00\", \"value\": -22.5}, {\"date\": \"2020-11-12T22:11:00\", \"value\": -23.1}, {\"date\": \"2020-11-12T22:31:00\", \"value\": -23.7}, {\"date\": \"2020-11-12T22:51:00\", \"value\": -26.5}, {\"date\": \"2020-11-12T23:11:00\", \"value\": -24.1}, {\"date\": \"2020-11-12T23:31:00\", \"value\": -24.9}, {\"date\": \"2020-11-12T23:51:00\", \"value\": 0.1}, {\"date\": \"2020-11-13T00:11:00\", \"value\": 13.6}, {\"date\": \"2020-11-13T00:31:00\", \"value\": -0.6}, {\"date\": \"2020-11-13T00:51:00\", \"value\": -1.2}, {\"date\": \"2020-11-13T01:11:00\", \"value\": -24.6}, {\"date\": \"2020-11-13T01:31:00\", \"value\": -23.4}, {\"date\": \"2020-11-13T01:51:00\", \"value\": -22.8}, {\"date\": \"2020-11-13T02:11:00\", \"value\": -22.8}, {\"date\": \"2020-11-13T02:31:00\", \"value\": -22.4}, {\"date\": \"2020-11-13T02:51:00\", \"value\": -23.2}, {\"date\": \"2020-11-13T03:11:00\", \"value\": -23.4}, {\"date\": \"2020-11-13T03:31:00\", \"value\": -22.8}, {\"date\": \"2020-11-13T03:51:00\", \"value\": -23.2}, {\"date\": \"2020-11-13T04:11:00\", \"value\": -22.6}, {\"date\": \"2020-11-13T04:31:00\", \"value\": -22.8}, {\"date\": \"2020-11-13T04:51:00\", \"value\": -23.4}, {\"date\": \"2020-11-13T05:11:00\", \"value\": -22.8}, {\"date\": \"2020-11-13T05:31:00\", \"value\": -23.4}, {\"date\": \"2020-11-13T05:51:00\", \"value\": -13.6}, {\"date\": \"2020-11-13T06:11:00\", \"value\": 19.4}, {\"date\": \"2020-11-13T06:31:00\", \"value\": -24.4}, {\"date\": \"2020-11-13T06:51:00\", \"value\": -22.8}, {\"date\": \"2020-11-13T07:11:00\", \"value\": -22.4}, {\"date\": \"2020-11-13T07:31:00\", \"value\": -22.8}, {\"date\": \"2020-11-13T07:51:00\", \"value\": -22.4}, {\"date\": \"2020-11-13T07:51:00\", \"value\": -22.4}, {\"date\": \"2020-11-13T08:11:00\", \"value\": -19.4}, {\"date\": \"2020-11-13T08:31:00\", \"value\": -20.6}, {\"date\": \"2020-11-13T08:51:00\", \"value\": -23.4}, {\"date\": \"2020-11-13T09:11:00\", \"value\": -22.2}, {\"date\": \"2020-11-13T09:31:00\", \"value\": -23.6}, {\"date\": \"2020-11-13T09:51:00\", \"value\": -22.4}, {\"date\": \"2020-11-13T10:11:00\", \"value\": -22.6}, {\"date\": \"2020-11-13T10:31:00\", \"value\": -22.8}, {\"date\": \"2020-11-13T10:51:00\", \"value\": -22.6}, {\"date\": \"2020-11-13T11:11:00\", \"value\": -24.4}, {\"date\": \"2020-11-13T11:31:00\", \"value\": -23.6}, {\"date\": \"2020-11-13T11:51:00\", \"value\": -23.0}, {\"date\": \"2020-11-13T12:11:00\", \"value\": -21.8}, {\"date\": \"2020-11-13T12:31:00\", \"value\": -24.6}, {\"date\": \"2020-11-13T12:51:00\", \"value\": -22.4}, {\"date\": \"2020-11-13T13:11:00\", \"value\": -23.4}, {\"date\": \"2020-11-13T13:31:00\", \"value\": -22.4}, {\"date\": \"2020-11-13T13:51:00\", \"value\": -24.4}, {\"date\": \"2020-11-13T14:11:00\", \"value\": -23.2}, {\"date\": \"2020-11-13T14:31:00\", \"value\": -22.6}, {\"date\": \"2020-11-13T14:51:00\", \"value\": -23.4}, {\"date\": \"2020-11-13T15:11:00\", \"value\": -23.4}, {\"date\": \"2020-11-13T15:31:00\", \"value\": -25.2}, {\"date\": \"2020-11-13T15:51:00\", \"value\": -23.0}, {\"date\": \"2020-11-13T16:11:00\", \"value\": -24.8}, {\"date\": \"2020-11-13T16:31:00\", \"value\": -21.6}, {\"date\": \"2020-11-13T16:51:00\", \"value\": -22.8}, {\"date\": \"2020-11-13T17:11:00\", \"value\": -22.2}, {\"date\": \"2020-11-13T17:31:00\", \"value\": -22.4}, {\"date\": \"2020-11-13T17:51:00\", \"value\": -22.6}, {\"date\": \"2020-11-13T18:11:00\", \"value\": -23.6}, {\"date\": \"2020-11-13T18:31:00\", \"value\": -22.8}, {\"date\": \"2020-11-13T18:51:00\", \"value\": -24.4}, {\"date\": \"2020-11-13T19:11:00\", \"value\": -24.4}, {\"date\": \"2020-11-13T19:31:00\", \"value\": -24.0}, {\"date\": \"2020-11-13T19:51:00\", \"value\": -23.0}, {\"date\": \"2020-11-13T20:11:00\", \"value\": -20.0}, {\"date\": \"2020-11-13T20:31:00\", \"value\": -24.0}, {\"date\": \"2020-11-13T20:51:00\", \"value\": -23.4}, {\"date\": \"2020-11-13T21:11:00\", \"value\": -23.0}, {\"date\": \"2020-11-13T21:31:00\", \"value\": -24.2}, {\"date\": \"2020-11-13T21:51:00\", \"value\": -22.2}, {\"date\": \"2020-11-13T22:11:00\", \"value\": -23.2}, {\"date\": \"2020-11-13T22:31:00\", \"value\": -23.0}, {\"date\": \"2020-11-13T22:51:00\", \"value\": -25.9}, {\"date\": \"2020-11-13T23:11:00\", \"value\": -23.1}, {\"date\": \"2020-11-13T23:31:00\", \"value\": -24.3}, {\"date\": \"2020-11-13T23:51:00\", \"value\": 0.1}, {\"date\": \"2020-11-14T00:11:00\", \"value\": 14.8}, {\"date\": \"2020-11-14T00:31:00\", \"value\": 1.4}, {\"date\": \"2020-11-14T00:51:00\", \"value\": -12.7}, {\"date\": \"2020-11-14T01:11:00\", \"value\": -24.5}, {\"date\": \"2020-11-14T01:31:00\", \"value\": -23.3}, {\"date\": \"2020-11-14T01:51:00\", \"value\": -22.9}, {\"date\": \"2020-11-14T02:11:00\", \"value\": -22.3}, {\"date\": \"2020-11-14T02:31:00\", \"value\": -22.5}, {\"date\": \"2020-11-14T02:51:00\", \"value\": -23.1}, {\"date\": \"2020-11-14T03:11:00\", \"value\": -22.9}, {\"date\": \"2020-11-14T03:31:00\", \"value\": -22.7}, {\"date\": \"2020-11-14T03:51:00\", \"value\": -22.5}, {\"date\": \"2020-11-14T04:11:00\", \"value\": -23.1}, {\"date\": \"2020-11-14T04:31:00\", \"value\": -22.3}, {\"date\": \"2020-11-14T04:51:00\", \"value\": -23.3}, {\"date\": \"2020-11-14T05:11:00\", \"value\": -22.3}, {\"date\": \"2020-11-14T05:31:00\", \"value\": -22.9}, {\"date\": \"2020-11-14T05:51:00\", \"value\": -11.3}, {\"date\": \"2020-11-14T06:11:00\", \"value\": -4.2}, {\"date\": \"2020-11-14T06:31:00\", \"value\": -23.8}, {\"date\": \"2020-11-14T06:51:00\", \"value\": -24.0}, {\"date\": \"2020-11-14T07:11:00\", \"value\": -24.8}, {\"date\": \"2020-11-14T07:31:00\", \"value\": -23.0}, {\"date\": \"2020-11-14T07:51:00\", \"value\": -23.2}, {\"date\": \"2020-11-14T08:11:00\", \"value\": -20.0}, {\"date\": \"2020-11-14T08:31:00\", \"value\": -22.6}, {\"date\": \"2020-11-14T08:51:00\", \"value\": -23.0}, {\"date\": \"2020-11-14T09:11:00\", \"value\": -23.0}, {\"date\": \"2020-11-14T09:31:00\", \"value\": -22.8}, {\"date\": \"2020-11-14T09:51:00\", \"value\": -23.4}, {\"date\": \"2020-11-14T10:11:00\", \"value\": -23.6}, {\"date\": \"2020-11-14T10:31:00\", \"value\": -23.0}, {\"date\": \"2020-11-14T10:51:00\", \"value\": -22.4}, {\"date\": \"2020-11-14T11:11:00\", \"value\": -24.4}, {\"date\": \"2020-11-14T11:31:00\", \"value\": -23.2}, {\"date\": \"2020-11-14T11:51:00\", \"value\": -22.6}, {\"date\": \"2020-11-14T12:11:00\", \"value\": -22.4}, {\"date\": \"2020-11-14T12:31:00\", \"value\": -24.6}, {\"date\": \"2020-11-14T12:51:00\", \"value\": -24.2}, {\"date\": \"2020-11-14T13:11:00\", \"value\": -24.4}, {\"date\": \"2020-11-14T13:31:00\", \"value\": -23.2}, {\"date\": \"2020-11-14T13:51:00\", \"value\": -21.4}, {\"date\": \"2020-11-14T14:11:00\", \"value\": -23.6}, {\"date\": \"2020-11-14T14:31:00\", \"value\": -22.2}, {\"date\": \"2020-11-14T14:51:00\", \"value\": -23.6}, {\"date\": \"2020-11-14T15:11:00\", \"value\": -23.4}, {\"date\": \"2020-11-14T15:31:00\", \"value\": -23.6}, {\"date\": \"2020-11-14T15:51:00\", \"value\": -23.0}, {\"date\": \"2020-11-14T16:11:00\", \"value\": -22.4}, {\"date\": \"2020-11-14T16:31:00\", \"value\": -22.2}, {\"date\": \"2020-11-14T16:51:00\", \"value\": -22.0}, {\"date\": \"2020-11-14T17:11:00\", \"value\": -22.2}, {\"date\": \"2020-11-14T17:31:00\", \"value\": -21.6}, {\"date\": \"2020-11-14T17:51:00\", \"value\": -21.8}, {\"date\": \"2020-11-14T18:11:00\", \"value\": -21.2}, {\"date\": \"2020-11-14T18:31:00\", \"value\": -24.4}, {\"date\": \"2020-11-14T18:51:00\", \"value\": -22.6}, {\"date\": \"2020-11-14T19:11:00\", \"value\": -22.6}, {\"date\": \"2020-11-14T19:31:00\", \"value\": -23.0}, {\"date\": \"2020-11-14T19:51:00\", \"value\": -22.4}, {\"date\": \"2020-11-14T20:11:00\", \"value\": -21.2}, {\"date\": \"2020-11-14T20:31:00\", \"value\": -24.6}, {\"date\": \"2020-11-14T20:51:00\", \"value\": -22.6}, {\"date\": \"2020-11-14T21:11:00\", \"value\": -23.8}, {\"date\": \"2020-11-14T21:31:00\", \"value\": -23.2}, {\"date\": \"2020-11-14T21:51:00\", \"value\": -24.2}, {\"date\": \"2020-11-14T22:11:00\", \"value\": -23.2}, {\"date\": \"2020-11-14T22:31:00\", \"value\": -22.4}, {\"date\": \"2020-11-14T22:51:00\", \"value\": -26.2}, {\"date\": \"2020-11-14T23:11:00\", \"value\": -24.0}, {\"date\": \"2020-11-14T23:31:00\", \"value\": -24.2}, {\"date\": \"2020-11-14T23:51:00\", \"value\": 0.2}, {\"date\": \"2020-11-15T00:11:00\", \"value\": 14.4}, {\"date\": \"2020-11-15T00:31:00\", \"value\": -1.1}, {\"date\": \"2020-11-15T00:51:00\", \"value\": -3.9}, {\"date\": \"2020-11-15T01:11:00\", \"value\": -22.6}, {\"date\": \"2020-11-15T01:31:00\", \"value\": -22.6}, {\"date\": \"2020-11-15T01:51:00\", \"value\": -22.8}, {\"date\": \"2020-11-15T02:11:00\", \"value\": -23.0}, {\"date\": \"2020-11-15T02:31:00\", \"value\": -23.2}, {\"date\": \"2020-11-15T02:51:00\", \"value\": -22.4}, {\"date\": \"2020-11-15T03:11:00\", \"value\": -23.2}, {\"date\": \"2020-11-15T03:31:00\", \"value\": -22.4}, {\"date\": \"2020-11-15T03:51:00\", \"value\": -23.2}, {\"date\": \"2020-11-15T04:11:00\", \"value\": -22.4}, {\"date\": \"2020-11-15T04:31:00\", \"value\": -23.6}, {\"date\": \"2020-11-15T04:51:00\", \"value\": -23.0}, {\"date\": \"2020-11-15T05:11:00\", \"value\": -23.4}, {\"date\": \"2020-11-15T05:31:00\", \"value\": -22.8}, {\"date\": \"2020-11-15T05:51:00\", \"value\": -9.2}, {\"date\": \"2020-11-15T06:11:00\", \"value\": -13.2}, {\"date\": \"2020-11-15T06:31:00\", \"value\": -24.5}, {\"date\": \"2020-11-15T06:51:00\", \"value\": -24.5}, {\"date\": \"2020-11-15T07:11:00\", \"value\": -22.5}, {\"date\": \"2020-11-15T07:31:00\", \"value\": -22.9}, {\"date\": \"2020-11-15T07:51:00\", \"value\": -23.5}, {\"date\": \"2020-11-15T08:11:00\", \"value\": -19.7}, {\"date\": \"2020-11-15T08:31:00\", \"value\": -23.7}, {\"date\": \"2020-11-15T08:51:00\", \"value\": -23.3}, {\"date\": \"2020-11-15T09:11:00\", \"value\": -23.1}, {\"date\": \"2020-11-15T09:31:00\", \"value\": -23.3}, {\"date\": \"2020-11-15T09:51:00\", \"value\": -23.5}, {\"date\": \"2020-11-15T10:11:00\", \"value\": -23.5}, {\"date\": \"2020-11-15T10:31:00\", \"value\": -23.5}, {\"date\": \"2020-11-15T10:51:00\", \"value\": -24.1}, {\"date\": \"2020-11-15T11:11:00\", \"value\": -22.3}, {\"date\": \"2020-11-15T11:31:00\", \"value\": -22.5}, {\"date\": \"2020-11-15T11:51:00\", \"value\": -22.7}, {\"date\": \"2020-11-15T12:11:00\", \"value\": -22.1}, {\"date\": \"2020-11-15T12:31:00\", \"value\": -22.7}, {\"date\": \"2020-11-15T12:51:00\", \"value\": -24.5}, {\"date\": \"2020-11-15T13:11:00\", \"value\": -24.3}, {\"date\": \"2020-11-15T13:31:00\", \"value\": -22.5}, {\"date\": \"2020-11-15T13:51:00\", \"value\": -24.1}, {\"date\": \"2020-11-15T14:11:00\", \"value\": -24.9}, {\"date\": \"2020-11-15T14:31:00\", \"value\": -23.5}, {\"date\": \"2020-11-15T14:51:00\", \"value\": -22.7}, {\"date\": \"2020-11-15T15:11:00\", \"value\": -23.9}, {\"date\": \"2020-11-15T15:31:00\", \"value\": -24.3}, {\"date\": \"2020-11-15T15:51:00\", \"value\": -24.3}, {\"date\": \"2020-11-15T16:11:00\", \"value\": -23.3}, {\"date\": \"2020-11-15T16:31:00\", \"value\": -22.7}, {\"date\": \"2020-11-15T16:51:00\", \"value\": -22.5}, {\"date\": \"2020-11-15T17:11:00\", \"value\": -22.5}, {\"date\": \"2020-11-15T17:31:00\", \"value\": -22.7}, {\"date\": \"2020-11-15T17:51:00\", \"value\": -22.9}, {\"date\": \"2020-11-15T18:11:00\", \"value\": -22.7}, {\"date\": \"2020-11-15T18:31:00\", \"value\": -22.9}, {\"date\": \"2020-11-15T18:51:00\", \"value\": -23.7}, {\"date\": \"2020-11-15T19:11:00\", \"value\": -22.5}, {\"date\": \"2020-11-15T19:31:00\", \"value\": -22.5}, {\"date\": \"2020-11-15T19:51:00\", \"value\": -22.9}, {\"date\": \"2020-11-15T20:11:00\", \"value\": -19.9}, {\"date\": \"2020-11-15T20:31:00\", \"value\": -23.9}, {\"date\": \"2020-11-15T20:51:00\", \"value\": -23.5}, {\"date\": \"2020-11-15T21:11:00\", \"value\": -23.5}, {\"date\": \"2020-11-15T21:31:00\", \"value\": -24.7}, {\"date\": \"2020-11-15T21:51:00\", \"value\": -22.9}, {\"date\": \"2020-11-15T22:11:00\", \"value\": -23.7}, {\"date\": \"2020-11-15T22:31:00\", \"value\": -23.3}, {\"date\": \"2020-11-15T22:51:00\", \"value\": -22.3}, {\"date\": \"2020-11-15T23:11:00\", \"value\": -24.1}, {\"date\": \"2020-11-15T23:31:00\", \"value\": -25.3}, {\"date\": \"2020-11-15T23:51:00\", \"value\": 0.1}, {\"date\": \"2020-11-16T00:11:00\", \"value\": 12.3}, {\"date\": \"2020-11-16T00:31:00\", \"value\": -0.2}, {\"date\": \"2020-11-16T00:51:00\", \"value\": -2.8}, {\"date\": \"2020-11-16T01:11:00\", \"value\": -22.9}, {\"date\": \"2020-11-16T01:31:00\", \"value\": -23.3}, {\"date\": \"2020-11-16T01:51:00\", \"value\": -22.9}, {\"date\": \"2020-11-16T02:11:00\", \"value\": -22.7}, {\"date\": \"2020-11-16T02:31:00\", \"value\": -23.3}, {\"date\": \"2020-11-16T02:51:00\", \"value\": -22.9}, {\"date\": \"2020-11-16T03:11:00\", \"value\": -23.7}, {\"date\": \"2020-11-16T03:31:00\", \"value\": -22.5}, {\"date\": \"2020-11-16T03:51:00\", \"value\": -23.7}, {\"date\": \"2020-11-16T04:11:00\", \"value\": -23.1}, {\"date\": \"2020-11-16T04:31:00\", \"value\": -24.1}, {\"date\": \"2020-11-16T04:51:00\", \"value\": -23.1}, {\"date\": \"2020-11-16T05:11:00\", \"value\": -23.3}, {\"date\": \"2020-11-16T05:31:00\", \"value\": -24.1}, {\"date\": \"2020-11-16T05:51:00\", \"value\": -13.7}, {\"date\": \"2020-11-16T06:11:00\", \"value\": -10.2}, {\"date\": \"2020-11-16T06:31:00\", \"value\": -22.3}, {\"date\": \"2020-11-16T06:51:00\", \"value\": -22.5}, {\"date\": \"2020-11-16T07:11:00\", \"value\": -21.7}, {\"date\": \"2020-11-16T07:31:00\", \"value\": -21.7}, {\"date\": \"2020-11-16T07:51:00\", \"value\": -22.3}, {\"date\": \"2020-11-16T08:11:00\", \"value\": -20.5}, {\"date\": \"2020-11-16T08:31:00\", \"value\": -22.7}, {\"date\": \"2020-11-16T08:51:00\", \"value\": -22.3}, {\"date\": \"2020-11-16T09:11:00\", \"value\": -22.3}, {\"date\": \"2020-11-16T09:31:00\", \"value\": -21.7}, {\"date\": \"2020-11-16T09:51:00\", \"value\": -22.9}, {\"date\": \"2020-11-16T10:11:00\", \"value\": -21.9}, {\"date\": \"2020-11-16T10:31:00\", \"value\": -21.1}, {\"date\": \"2020-11-16T10:51:00\", \"value\": -24.1}, {\"date\": \"2020-11-16T11:11:00\", \"value\": -23.7}, {\"date\": \"2020-11-16T11:31:00\", \"value\": -22.5}, {\"date\": \"2020-11-16T11:51:00\", \"value\": -22.7}, {\"date\": \"2020-11-16T12:11:00\", \"value\": -21.9}, {\"date\": \"2020-11-16T12:31:00\", \"value\": -24.5}, {\"date\": \"2020-11-16T12:51:00\", \"value\": -21.3}, {\"date\": \"2020-11-16T13:11:00\", \"value\": -23.3}, {\"date\": \"2020-11-16T13:31:00\", \"value\": -22.9}, {\"date\": \"2020-11-16T13:51:00\", \"value\": -24.3}, {\"date\": \"2020-11-16T14:11:00\", \"value\": -24.3}, {\"date\": \"2020-11-16T14:31:00\", \"value\": -22.1}, {\"date\": \"2020-11-16T14:51:00\", \"value\": -24.3}, {\"date\": \"2020-11-16T15:11:00\", \"value\": -23.9}, {\"date\": \"2020-11-16T15:31:00\", \"value\": -23.5}, {\"date\": \"2020-11-16T15:51:00\", \"value\": -24.1}, {\"date\": \"2020-11-16T16:11:00\", \"value\": -23.7}, {\"date\": \"2020-11-16T16:31:00\", \"value\": -23.1}, {\"date\": \"2020-11-16T16:51:00\", \"value\": -23.1}, {\"date\": \"2020-11-16T17:11:00\", \"value\": -21.5}, {\"date\": \"2020-11-16T17:31:00\", \"value\": -23.9}, {\"date\": \"2020-11-16T17:51:00\", \"value\": -23.7}, {\"date\": \"2020-11-16T18:11:00\", \"value\": -24.9}, {\"date\": \"2020-11-16T18:31:00\", \"value\": -24.5}, {\"date\": \"2020-11-16T18:51:00\", \"value\": -24.7}, {\"date\": \"2020-11-16T19:11:00\", \"value\": -22.3}, {\"date\": \"2020-11-16T19:31:00\", \"value\": -22.3}, {\"date\": \"2020-11-16T19:51:00\", \"value\": -23.1}, {\"date\": \"2020-11-16T20:11:00\", \"value\": -19.9}, {\"date\": \"2020-11-16T20:31:00\", \"value\": -23.1}, {\"date\": \"2020-11-16T20:51:00\", \"value\": -22.1}, {\"date\": \"2020-11-16T21:11:00\", \"value\": -23.1}, {\"date\": \"2020-11-16T21:31:00\", \"value\": -24.1}, {\"date\": \"2020-11-16T21:51:00\", \"value\": -21.9}, {\"date\": \"2020-11-16T22:11:00\", \"value\": -22.9}, {\"date\": \"2020-11-16T22:31:00\", \"value\": -22.7}, {\"date\": \"2020-11-16T22:51:00\", \"value\": -25.5}, {\"date\": \"2020-11-16T23:11:00\", \"value\": -22.9}, {\"date\": \"2020-11-16T23:31:00\", \"value\": -24.5}, {\"date\": \"2020-11-16T23:51:00\", \"value\": 0.1}, {\"date\": \"2020-11-17T00:11:00\", \"value\": 14.7}, {\"date\": \"2020-11-17T00:31:00\", \"value\": 0.3}, {\"date\": \"2020-11-17T00:51:00\", \"value\": -2.9}, {\"date\": \"2020-11-17T01:11:00\", \"value\": -24.0}, {\"date\": \"2020-11-17T01:31:00\", \"value\": -22.6}, {\"date\": \"2020-11-17T01:51:00\", \"value\": -22.2}, {\"date\": \"2020-11-17T02:11:00\", \"value\": -22.8}, {\"date\": \"2020-11-17T02:31:00\", \"value\": -23.0}, {\"date\": \"2020-11-17T02:51:00\", \"value\": -23.6}, {\"date\": \"2020-11-17T03:11:00\", \"value\": -23.4}, {\"date\": \"2020-11-17T03:31:00\", \"value\": -23.6}, {\"date\": \"2020-11-17T03:51:00\", \"value\": -23.2}, {\"date\": \"2020-11-17T04:11:00\", \"value\": -22.6}, {\"date\": \"2020-11-17T04:31:00\", \"value\": -23.2}, {\"date\": \"2020-11-17T04:51:00\", \"value\": -23.0}, {\"date\": \"2020-11-17T05:11:00\", \"value\": -22.8}, {\"date\": \"2020-11-17T05:31:00\", \"value\": -23.8}, {\"date\": \"2020-11-17T05:51:00\", \"value\": -12.0}, {\"date\": \"2020-11-17T06:11:00\", \"value\": -6.7}, {\"date\": \"2020-11-17T06:31:00\", \"value\": -24.2}, {\"date\": \"2020-11-17T06:51:00\", \"value\": -23.4}, {\"date\": \"2020-11-17T07:11:00\", \"value\": -24.0}, {\"date\": \"2020-11-17T07:31:00\", \"value\": -23.2}, {\"date\": \"2020-11-17T07:51:00\", \"value\": -25.6}, {\"date\": \"2020-11-17T08:11:00\", \"value\": -20.0}, {\"date\": \"2020-11-17T08:51:00\", \"value\": -23.2}, {\"date\": \"2020-11-17T09:11:00\", \"value\": -22.4}, {\"date\": \"2020-11-17T09:31:00\", \"value\": -22.0}, {\"date\": \"2020-11-17T09:51:00\", \"value\": -23.6}, {\"date\": \"2020-11-17T10:11:00\", \"value\": -22.0}, {\"date\": \"2020-11-17T10:31:00\", \"value\": -23.4}, {\"date\": \"2020-11-17T10:51:00\", \"value\": -23.8}, {\"date\": \"2020-11-17T11:11:00\", \"value\": -24.0}, {\"date\": \"2020-11-17T11:31:00\", \"value\": -23.0}, {\"date\": \"2020-11-17T11:51:00\", \"value\": -22.6}, {\"date\": \"2020-11-17T12:11:00\", \"value\": -22.2}, {\"date\": \"2020-11-17T12:31:00\", \"value\": -23.8}, {\"date\": \"2020-11-17T12:51:00\", \"value\": -24.6}, {\"date\": \"2020-11-17T13:11:00\", \"value\": -23.4}, {\"date\": \"2020-11-17T13:31:00\", \"value\": -24.4}, {\"date\": \"2020-11-17T13:51:00\", \"value\": -22.4}, {\"date\": \"2020-11-17T14:11:00\", \"value\": -24.4}, {\"date\": \"2020-11-17T14:31:00\", \"value\": -22.8}, {\"date\": \"2020-11-17T14:51:00\", \"value\": -24.8}, {\"date\": \"2020-11-17T15:11:00\", \"value\": -23.8}, {\"date\": \"2020-11-17T15:31:00\", \"value\": -22.4}, {\"date\": \"2020-11-17T15:51:00\", \"value\": -22.6}, {\"date\": \"2020-11-17T16:11:00\", \"value\": -22.6}, {\"date\": \"2020-11-17T16:31:00\", \"value\": -22.6}, {\"date\": \"2020-11-17T16:51:00\", \"value\": -23.4}, {\"date\": \"2020-11-17T17:11:00\", \"value\": -22.4}, {\"date\": \"2020-11-17T17:31:00\", \"value\": -22.2}, {\"date\": \"2020-11-17T17:51:00\", \"value\": -22.6}, {\"date\": \"2020-11-17T18:11:00\", \"value\": -22.2}, {\"date\": \"2020-11-17T18:31:00\", \"value\": -23.8}, {\"date\": \"2020-11-17T18:51:00\", \"value\": -24.8}, {\"date\": \"2020-11-17T19:11:00\", \"value\": -22.2}, {\"date\": \"2020-11-17T19:31:00\", \"value\": -24.0}, {\"date\": \"2020-11-17T19:51:00\", \"value\": -23.0}, {\"date\": \"2020-11-17T20:11:00\", \"value\": -19.8}, {\"date\": \"2020-11-17T20:31:00\", \"value\": -23.2}, {\"date\": \"2020-11-17T20:51:00\", \"value\": -22.4}, {\"date\": \"2020-11-17T21:11:00\", \"value\": -22.8}, {\"date\": \"2020-11-17T21:31:00\", \"value\": -23.6}, {\"date\": \"2020-11-17T21:51:00\", \"value\": -24.2}, {\"date\": \"2020-11-17T22:11:00\", \"value\": -23.6}, {\"date\": \"2020-11-17T22:31:00\", \"value\": -24.2}, {\"date\": \"2020-11-17T22:51:00\", \"value\": -23.8}, {\"date\": \"2020-11-17T23:11:00\", \"value\": -23.2}, {\"date\": \"2020-11-17T23:31:00\", \"value\": -23.6}, {\"date\": \"2020-11-17T23:51:00\", \"value\": 0.2}, {\"date\": \"2020-11-18T00:11:00\", \"value\": 13.8}, {\"date\": \"2020-11-18T00:31:00\", \"value\": 0.3}, {\"date\": \"2020-11-18T00:51:00\", \"value\": -4.1}, {\"date\": \"2020-11-18T01:11:00\", \"value\": -22.4}, {\"date\": \"2020-11-18T01:31:00\", \"value\": -23.0}, {\"date\": \"2020-11-18T01:51:00\", \"value\": -22.4}, {\"date\": \"2020-11-18T02:11:00\", \"value\": -23.4}, {\"date\": \"2020-11-18T02:31:00\", \"value\": -23.6}, {\"date\": \"2020-11-18T02:51:00\", \"value\": -23.8}, {\"date\": \"2020-11-18T03:11:00\", \"value\": -23.2}, {\"date\": \"2020-11-18T03:31:00\", \"value\": -23.8}, {\"date\": \"2020-11-18T03:51:00\", \"value\": -23.2}, {\"date\": \"2020-11-18T04:11:00\", \"value\": -24.2}, {\"date\": \"2020-11-18T04:31:00\", \"value\": -23.2}, {\"date\": \"2020-11-18T04:51:00\", \"value\": -23.8}, {\"date\": \"2020-11-18T05:11:00\", \"value\": -22.8}, {\"date\": \"2020-11-18T05:31:00\", \"value\": -23.2}, {\"date\": \"2020-11-18T05:51:00\", \"value\": -11.6}, {\"date\": \"2020-11-18T06:11:00\", \"value\": -7.7}, {\"date\": \"2020-11-18T06:31:00\", \"value\": -23.8}, {\"date\": \"2020-11-18T06:51:00\", \"value\": -22.6}, {\"date\": \"2020-11-18T07:11:00\", \"value\": -22.8}, {\"date\": \"2020-11-18T07:31:00\", \"value\": -22.0}, {\"date\": \"2020-11-18T07:51:00\", \"value\": -22.8}, {\"date\": \"2020-11-18T08:11:00\", \"value\": -20.8}, {\"date\": \"2020-11-18T08:31:00\", \"value\": -24.4}, {\"date\": \"2020-11-18T08:51:00\", \"value\": -23.8}, {\"date\": \"2020-11-18T09:11:00\", \"value\": -22.2}, {\"date\": \"2020-11-18T09:31:00\", \"value\": -23.0}, {\"date\": \"2020-11-18T09:51:00\", \"value\": -23.8}, {\"date\": \"2020-11-18T10:11:00\", \"value\": -23.4}, {\"date\": \"2020-11-18T10:31:00\", \"value\": -24.0}, {\"date\": \"2020-11-18T10:51:00\", \"value\": -22.6}, {\"date\": \"2020-11-18T11:11:00\", \"value\": -24.0}, {\"date\": \"2020-11-18T11:31:00\", \"value\": -24.2}, {\"date\": \"2020-11-18T11:51:00\", \"value\": -23.2}, {\"date\": \"2020-11-18T12:11:00\", \"value\": -22.8}, {\"date\": \"2020-11-18T12:31:00\", \"value\": -24.0}, {\"date\": \"2020-11-18T12:51:00\", \"value\": -23.0}, {\"date\": \"2020-11-18T13:11:00\", \"value\": -24.8}, {\"date\": \"2020-11-18T13:31:00\", \"value\": -24.8}, {\"date\": \"2020-11-18T13:51:00\", \"value\": -24.4}, {\"date\": \"2020-11-18T14:11:00\", \"value\": -24.4}, {\"date\": \"2020-11-18T14:31:00\", \"value\": -22.0}, {\"date\": \"2020-11-18T14:51:00\", \"value\": -24.4}, {\"date\": \"2020-11-18T15:11:00\", \"value\": -23.6}, {\"date\": \"2020-11-18T15:31:00\", \"value\": -22.2}, {\"date\": \"2020-11-18T15:51:00\", \"value\": -22.2}, {\"date\": \"2020-11-18T16:11:00\", \"value\": -22.0}, {\"date\": \"2020-11-18T16:31:00\", \"value\": -22.4}, {\"date\": \"2020-11-18T16:51:00\", \"value\": -21.8}, {\"date\": \"2020-11-18T17:11:00\", \"value\": -22.2}, {\"date\": \"2020-11-18T17:31:00\", \"value\": -22.0}, {\"date\": \"2020-11-18T17:51:00\", \"value\": -23.0}, {\"date\": \"2020-11-18T18:11:00\", \"value\": -22.2}, {\"date\": \"2020-11-18T18:31:00\", \"value\": -22.4}, {\"date\": \"2020-11-18T18:51:00\", \"value\": -23.2}, {\"date\": \"2020-11-18T19:11:00\", \"value\": -23.4}, {\"date\": \"2020-11-18T19:31:00\", \"value\": -24.2}, {\"date\": \"2020-11-18T19:51:00\", \"value\": -23.8}, {\"date\": \"2020-11-18T20:11:00\", \"value\": -21.4}, {\"date\": \"2020-11-18T20:31:00\", \"value\": -24.8}, {\"date\": \"2020-11-18T20:51:00\", \"value\": -22.8}, {\"date\": \"2020-11-18T21:11:00\", \"value\": -24.0}, {\"date\": \"2020-11-18T21:31:00\", \"value\": -24.6}, {\"date\": \"2020-11-18T21:51:00\", \"value\": -22.2}, {\"date\": \"2020-11-18T22:11:00\", \"value\": -23.6}, {\"date\": \"2020-11-18T22:31:00\", \"value\": -24.0}, {\"date\": \"2020-11-18T22:51:00\", \"value\": -25.3}, {\"date\": \"2020-11-18T23:11:00\", \"value\": -24.3}, {\"date\": \"2020-11-18T23:31:00\", \"value\": -25.3}, {\"date\": \"2020-11-18T23:51:00\", \"value\": 0.3}, {\"date\": \"2020-11-19T00:11:00\", \"value\": 13.2}, {\"date\": \"2020-11-19T00:31:00\", \"value\": -0.5}, {\"date\": \"2020-11-19T00:51:00\", \"value\": -3.5}, {\"date\": \"2020-11-19T01:11:00\", \"value\": -22.2}, {\"date\": \"2020-11-19T01:31:00\", \"value\": -22.4}, {\"date\": \"2020-11-19T01:51:00\", \"value\": -22.6}, {\"date\": \"2020-11-19T02:11:00\", \"value\": -22.4}, {\"date\": \"2020-11-19T02:31:00\", \"value\": -23.4}, {\"date\": \"2020-11-19T02:51:00\", \"value\": -23.8}, {\"date\": \"2020-11-19T03:11:00\", \"value\": -23.4}, {\"date\": \"2020-11-19T03:31:00\", \"value\": -23.2}, {\"date\": \"2020-11-19T03:51:00\", \"value\": -22.4}, {\"date\": \"2020-11-19T04:11:00\", \"value\": -23.4}, {\"date\": \"2020-11-19T04:31:00\", \"value\": -23.4}, {\"date\": \"2020-11-19T04:51:00\", \"value\": -23.0}, {\"date\": \"2020-11-19T05:11:00\", \"value\": -23.0}, {\"date\": \"2020-11-19T05:31:00\", \"value\": -22.8}, {\"date\": \"2020-11-19T05:51:00\", \"value\": -9.0}, {\"date\": \"2020-11-19T06:11:00\", \"value\": 19.9}, {\"date\": \"2020-11-19T06:31:00\", \"value\": -23.6}, {\"date\": \"2020-11-19T06:51:00\", \"value\": -24.4}, {\"date\": \"2020-11-19T07:11:00\", \"value\": -22.0}, {\"date\": \"2020-11-19T07:31:00\", \"value\": -24.0}, {\"date\": \"2020-11-19T07:51:00\", \"value\": -23.6}, {\"date\": \"2020-11-19T08:11:00\", \"value\": -21.4}, {\"date\": \"2020-11-19T08:31:00\", \"value\": -21.8}, {\"date\": \"2020-11-19T08:31:00\", \"value\": -21.8}, {\"date\": \"2020-11-19T08:51:00\", \"value\": -22.6}, {\"date\": \"2020-11-19T09:11:00\", \"value\": -22.8}, {\"date\": \"2020-11-19T09:31:00\", \"value\": -24.0}, {\"date\": \"2020-11-19T09:51:00\", \"value\": -22.2}, {\"date\": \"2020-11-19T10:11:00\", \"value\": -20.8}, {\"date\": \"2020-11-19T10:31:00\", \"value\": -22.8}, {\"date\": \"2020-11-19T10:51:00\", \"value\": -21.6}, {\"date\": \"2020-11-19T11:11:00\", \"value\": -23.4}, {\"date\": \"2020-11-19T11:31:00\", \"value\": -22.6}, {\"date\": \"2020-11-19T11:51:00\", \"value\": -23.6}, {\"date\": \"2020-11-19T12:11:00\", \"value\": -21.8}, {\"date\": \"2020-11-19T12:31:00\", \"value\": -24.8}, {\"date\": \"2020-11-19T12:51:00\", \"value\": -23.2}, {\"date\": \"2020-11-19T13:11:00\", \"value\": -23.8}, {\"date\": \"2020-11-19T13:31:00\", \"value\": -24.0}, {\"date\": \"2020-11-19T13:51:00\", \"value\": -24.4}, {\"date\": \"2020-11-19T14:11:00\", \"value\": -24.8}, {\"date\": \"2020-11-19T14:31:00\", \"value\": -23.4}, {\"date\": \"2020-11-19T14:51:00\", \"value\": -22.8}, {\"date\": \"2020-11-19T15:11:00\", \"value\": -23.6}, {\"date\": \"2020-11-19T15:31:00\", \"value\": -24.8}, {\"date\": \"2020-11-19T15:51:00\", \"value\": -24.4}, {\"date\": \"2020-11-19T16:11:00\", \"value\": -24.4}, {\"date\": \"2020-11-19T16:31:00\", \"value\": -23.2}, {\"date\": \"2020-11-19T16:51:00\", \"value\": -22.4}, {\"date\": \"2020-11-19T17:11:00\", \"value\": -22.4}, {\"date\": \"2020-11-19T17:31:00\", \"value\": -22.2}, {\"date\": \"2020-11-19T17:51:00\", \"value\": -23.2}, {\"date\": \"2020-11-19T18:11:00\", \"value\": -22.0}, {\"date\": \"2020-11-19T18:31:00\", \"value\": -24.0}, {\"date\": \"2020-11-19T18:51:00\", \"value\": -22.8}, {\"date\": \"2020-11-19T19:11:00\", \"value\": -22.0}, {\"date\": \"2020-11-19T19:31:00\", \"value\": -20.8}, {\"date\": \"2020-11-19T19:51:00\", \"value\": -23.4}, {\"date\": \"2020-11-19T20:11:00\", \"value\": -19.8}, {\"date\": \"2020-11-19T20:31:00\", \"value\": -23.6}, {\"date\": \"2020-11-19T20:51:00\", \"value\": -22.6}, {\"date\": \"2020-11-19T21:11:00\", \"value\": -23.4}, {\"date\": \"2020-11-19T21:31:00\", \"value\": -24.0}, {\"date\": \"2020-11-19T21:51:00\", \"value\": -21.8}, {\"date\": \"2020-11-19T22:11:00\", \"value\": -23.2}, {\"date\": \"2020-11-19T22:31:00\", \"value\": -23.0}, {\"date\": \"2020-11-19T22:51:00\", \"value\": -26.4}, {\"date\": \"2020-11-19T23:11:00\", \"value\": -23.8}, {\"date\": \"2020-11-19T23:31:00\", \"value\": -24.6}, {\"date\": \"2020-11-19T23:51:00\", \"value\": 0.4}, {\"date\": \"2020-11-20T00:11:00\", \"value\": 12.9}, {\"date\": \"2020-11-20T00:31:00\", \"value\": -0.1}, {\"date\": \"2020-11-20T00:51:00\", \"value\": -8.2}, {\"date\": \"2020-11-20T01:11:00\", \"value\": -22.6}, {\"date\": \"2020-11-20T01:31:00\", \"value\": -23.0}, {\"date\": \"2020-11-20T01:51:00\", \"value\": -22.6}, {\"date\": \"2020-11-20T02:11:00\", \"value\": -22.6}, {\"date\": \"2020-11-20T02:31:00\", \"value\": -23.2}, {\"date\": \"2020-11-20T02:51:00\", \"value\": -22.8}, {\"date\": \"2020-11-20T03:11:00\", \"value\": -22.6}, {\"date\": \"2020-11-20T03:31:00\", \"value\": -22.6}, {\"date\": \"2020-11-20T03:51:00\", \"value\": -23.6}, {\"date\": \"2020-11-20T04:11:00\", \"value\": -23.2}, {\"date\": \"2020-11-20T04:31:00\", \"value\": -23.0}, {\"date\": \"2020-11-20T04:51:00\", \"value\": -23.0}, {\"date\": \"2020-11-20T05:11:00\", \"value\": -23.2}, {\"date\": \"2020-11-20T05:31:00\", \"value\": -23.4}, {\"date\": \"2020-11-20T05:51:00\", \"value\": -8.2}, {\"date\": \"2020-11-20T06:11:00\", \"value\": -12.3}, {\"date\": \"2020-11-20T06:31:00\", \"value\": -24.2}, {\"date\": \"2020-11-20T06:51:00\", \"value\": -23.6}, {\"date\": \"2020-11-20T07:11:00\", \"value\": -22.0}, {\"date\": \"2020-11-20T07:31:00\", \"value\": -24.2}, {\"date\": \"2020-11-20T07:51:00\", \"value\": -23.6}, {\"date\": \"2020-11-20T08:11:00\", \"value\": -21.2}, {\"date\": \"2020-11-20T08:31:00\", \"value\": -24.8}, {\"date\": \"2020-11-20T08:51:00\", \"value\": -22.8}, {\"date\": \"2020-11-20T09:11:00\", \"value\": -23.0}, {\"date\": \"2020-11-20T09:31:00\", \"value\": -23.8}, {\"date\": \"2020-11-20T09:51:00\", \"value\": -23.4}, {\"date\": \"2020-11-20T10:11:00\", \"value\": -24.0}, {\"date\": \"2020-11-20T10:31:00\", \"value\": -21.8}, {\"date\": \"2020-11-20T10:51:00\", \"value\": -23.4}, {\"date\": \"2020-11-20T11:11:00\", \"value\": -23.4}, {\"date\": \"2020-11-20T11:31:00\", \"value\": -22.0}, {\"date\": \"2020-11-20T11:51:00\", \"value\": -23.0}, {\"date\": \"2020-11-20T12:11:00\", \"value\": -22.0}, {\"date\": \"2020-11-20T12:31:00\", \"value\": -23.8}, {\"date\": \"2020-11-20T12:51:00\", \"value\": -23.0}, {\"date\": \"2020-11-20T13:11:00\", \"value\": -24.4}, {\"date\": \"2020-11-20T13:31:00\", \"value\": -24.6}, {\"date\": \"2020-11-20T13:51:00\", \"value\": -24.2}, {\"date\": \"2020-11-20T14:11:00\", \"value\": -24.2}, {\"date\": \"2020-11-20T14:31:00\", \"value\": -22.0}, {\"date\": \"2020-11-20T14:51:00\", \"value\": -22.6}, {\"date\": \"2020-11-20T15:11:00\", \"value\": -22.8}, {\"date\": \"2020-11-20T15:31:00\", \"value\": -24.2}, {\"date\": \"2020-11-20T15:51:00\", \"value\": -25.2}, {\"date\": \"2020-11-20T16:11:00\", \"value\": -24.6}, {\"date\": \"2020-11-20T16:31:00\", \"value\": -22.4}, {\"date\": \"2020-11-20T16:51:00\", \"value\": -22.4}, {\"date\": \"2020-11-20T17:11:00\", \"value\": -21.8}, {\"date\": \"2020-11-20T17:31:00\", \"value\": -24.6}, {\"date\": \"2020-11-20T17:51:00\", \"value\": -24.2}, {\"date\": \"2020-11-20T18:11:00\", \"value\": -24.4}, {\"date\": \"2020-11-20T18:31:00\", \"value\": -24.2}, {\"date\": \"2020-11-20T18:51:00\", \"value\": -23.0}, {\"date\": \"2020-11-20T19:11:00\", \"value\": -22.0}, {\"date\": \"2020-11-20T19:31:00\", \"value\": -22.6}, {\"date\": \"2020-11-20T19:51:00\", \"value\": -23.2}, {\"date\": \"2020-11-20T20:11:00\", \"value\": -20.8}, {\"date\": \"2020-11-20T20:31:00\", \"value\": -24.0}, {\"date\": \"2020-11-20T20:51:00\", \"value\": -23.0}, {\"date\": \"2020-11-20T21:11:00\", \"value\": -22.4}, {\"date\": \"2020-11-20T21:31:00\", \"value\": -22.6}, {\"date\": \"2020-11-20T21:51:00\", \"value\": -22.0}, {\"date\": \"2020-11-20T22:11:00\", \"value\": -22.6}, {\"date\": \"2020-11-20T22:31:00\", \"value\": -22.6}, {\"date\": \"2020-11-20T22:51:00\", \"value\": -23.0}, {\"date\": \"2020-11-20T23:11:00\", \"value\": -24.2}, {\"date\": \"2020-11-20T23:31:00\", \"value\": -23.4}, {\"date\": \"2020-11-20T23:51:00\", \"value\": 0.2}, {\"date\": \"2020-11-21T00:11:00\", \"value\": 13.6}, {\"date\": \"2020-11-21T00:31:00\", \"value\": -0.5}, {\"date\": \"2020-11-21T00:51:00\", \"value\": -6.3}, {\"date\": \"2020-11-21T01:11:00\", \"value\": -22.5}]}}, {\"mode\": \"vega-lite\"});\n",
              "</script>"
            ]
          },
          "metadata": {
            "tags": []
          },
          "execution_count": 33
        }
      ]
    },
    {
      "cell_type": "markdown",
      "metadata": {
        "id": "iV5B9BQacL1b"
      },
      "source": [
        "Draw everything in a chart using the Plotly library (i haven't used this library since it doesn't have any support for return the data selected, an exemption is DASH that is the framework built-on this library, but using this, require a few tweaks)"
      ]
    },
    {
      "cell_type": "code",
      "metadata": {
        "id": "rXneVPkaGCrA",
        "colab": {
          "base_uri": "https://localhost:8080/",
          "height": 0
        },
        "outputId": "d68c10dc-dcdf-4fa8-85f8-a0881798a64d"
      },
      "source": [
        "import plotly.graph_objects as go\n",
        "\n",
        "fig = go.Figure(go.Scatter(x=data.date, y=data.value, mode=\"markers+lines\"))\n",
        "\n",
        "scatter = fig.data[0]\n",
        "\n",
        "def update_point(trace, points, selector):\n",
        "  print(\"Sleeping\")\n",
        "scatter.on_click(update_point)\n",
        "\n",
        "fig.show(renderer=\"colab\")"
      ],
      "execution_count": 34,
      "outputs": [
        {
          "output_type": "display_data",
          "data": {
            "text/html": [
              "<html>\n",
              "<head><meta charset=\"utf-8\" /></head>\n",
              "<body>\n",
              "    <div>\n",
              "            <script src=\"https://cdnjs.cloudflare.com/ajax/libs/mathjax/2.7.5/MathJax.js?config=TeX-AMS-MML_SVG\"></script><script type=\"text/javascript\">if (window.MathJax) {MathJax.Hub.Config({SVG: {font: \"STIX-Web\"}});}</script>\n",
              "                <script type=\"text/javascript\">window.PlotlyConfig = {MathJaxConfig: 'local'};</script>\n",
              "        <script src=\"https://cdn.plot.ly/plotly-latest.min.js\"></script>    \n",
              "            <div id=\"2edc3475-07d8-4707-9736-83846e66265f\" class=\"plotly-graph-div\" style=\"height:525px; width:100%;\"></div>\n",
              "            <script type=\"text/javascript\">\n",
              "                \n",
              "                    window.PLOTLYENV=window.PLOTLYENV || {};\n",
              "                    \n",
              "                if (document.getElementById(\"2edc3475-07d8-4707-9736-83846e66265f\")) {\n",
              "                    Plotly.newPlot(\n",
              "                        '2edc3475-07d8-4707-9736-83846e66265f',\n",
              "                        [{\"mode\": \"markers+lines\", \"type\": \"scatter\", \"x\": [\"2020-11-08T00:11:00\", \"2020-11-08T00:31:00\", \"2020-11-08T00:51:00\", \"2020-11-08T01:11:00\", \"2020-11-08T01:31:00\", \"2020-11-08T01:51:00\", \"2020-11-08T02:11:00\", \"2020-11-08T02:31:00\", \"2020-11-08T02:51:00\", \"2020-11-08T03:11:00\", \"2020-11-08T03:31:00\", \"2020-11-08T03:51:00\", \"2020-11-08T04:11:00\", \"2020-11-08T04:31:00\", \"2020-11-08T04:51:00\", \"2020-11-08T05:11:00\", \"2020-11-08T05:31:00\", \"2020-11-08T05:51:00\", \"2020-11-08T06:11:00\", \"2020-11-08T06:31:00\", \"2020-11-08T06:51:00\", \"2020-11-08T07:11:00\", \"2020-11-08T07:31:00\", \"2020-11-08T07:51:00\", \"2020-11-08T08:11:00\", \"2020-11-08T08:31:00\", \"2020-11-08T08:51:00\", \"2020-11-08T09:11:00\", \"2020-11-08T09:31:00\", \"2020-11-08T09:51:00\", \"2020-11-08T10:11:00\", \"2020-11-08T10:31:00\", \"2020-11-08T10:51:00\", \"2020-11-08T11:11:00\", \"2020-11-08T11:31:00\", \"2020-11-08T11:51:00\", \"2020-11-08T12:11:00\", \"2020-11-08T12:31:00\", \"2020-11-08T12:51:00\", \"2020-11-08T13:11:00\", \"2020-11-08T13:31:00\", \"2020-11-08T13:51:00\", \"2020-11-08T14:11:00\", \"2020-11-08T14:31:00\", \"2020-11-08T14:51:00\", \"2020-11-08T15:11:00\", \"2020-11-08T15:31:00\", \"2020-11-08T15:51:00\", \"2020-11-08T16:11:00\", \"2020-11-08T16:31:00\", \"2020-11-08T16:51:00\", \"2020-11-08T17:11:00\", \"2020-11-08T17:31:00\", \"2020-11-08T17:51:00\", \"2020-11-08T18:11:00\", \"2020-11-08T18:31:00\", \"2020-11-08T18:51:00\", \"2020-11-08T19:11:00\", \"2020-11-08T19:31:00\", \"2020-11-08T19:51:00\", \"2020-11-08T20:11:00\", \"2020-11-08T20:31:00\", \"2020-11-08T20:51:00\", \"2020-11-08T21:11:00\", \"2020-11-08T21:31:00\", \"2020-11-08T21:51:00\", \"2020-11-08T22:11:00\", \"2020-11-08T22:31:00\", \"2020-11-08T22:51:00\", \"2020-11-08T23:11:00\", \"2020-11-08T23:31:00\", \"2020-11-08T23:51:00\", \"2020-11-09T00:11:00\", \"2020-11-09T00:31:00\", \"2020-11-09T00:51:00\", \"2020-11-09T01:11:00\", \"2020-11-09T01:31:00\", \"2020-11-09T01:51:00\", \"2020-11-09T02:11:00\", \"2020-11-09T02:31:00\", \"2020-11-09T02:51:00\", \"2020-11-09T03:11:00\", \"2020-11-09T03:31:00\", \"2020-11-09T03:51:00\", \"2020-11-09T04:11:00\", \"2020-11-09T04:31:00\", \"2020-11-09T04:51:00\", \"2020-11-09T05:11:00\", \"2020-11-09T05:31:00\", \"2020-11-09T05:51:00\", \"2020-11-09T06:11:00\", \"2020-11-09T06:31:00\", \"2020-11-09T06:51:00\", \"2020-11-09T07:11:00\", \"2020-11-09T07:31:00\", \"2020-11-09T07:51:00\", \"2020-11-09T08:11:00\", \"2020-11-09T08:31:00\", \"2020-11-09T08:51:00\", \"2020-11-09T09:11:00\", \"2020-11-09T09:31:00\", \"2020-11-09T09:51:00\", \"2020-11-09T10:11:00\", \"2020-11-09T10:31:00\", \"2020-11-09T10:51:00\", \"2020-11-09T11:11:00\", \"2020-11-09T11:31:00\", \"2020-11-09T11:51:00\", \"2020-11-09T12:11:00\", \"2020-11-09T12:31:00\", \"2020-11-09T12:51:00\", \"2020-11-09T13:11:00\", \"2020-11-09T13:22:00\", \"2020-11-09T13:31:00\", \"2020-11-09T13:51:00\", \"2020-11-09T14:11:00\", \"2020-11-09T14:31:00\", \"2020-11-09T14:51:00\", \"2020-11-09T15:11:00\", \"2020-11-09T15:31:00\", \"2020-11-09T15:51:00\", \"2020-11-09T16:11:00\", \"2020-11-09T16:31:00\", \"2020-11-09T16:51:00\", \"2020-11-09T17:11:00\", \"2020-11-09T17:31:00\", \"2020-11-09T17:51:00\", \"2020-11-09T18:11:00\", \"2020-11-09T18:31:00\", \"2020-11-09T18:51:00\", \"2020-11-09T19:11:00\", \"2020-11-09T19:31:00\", \"2020-11-09T19:51:00\", \"2020-11-09T20:11:00\", \"2020-11-09T20:31:00\", \"2020-11-09T20:51:00\", \"2020-11-09T21:11:00\", \"2020-11-09T21:31:00\", \"2020-11-09T21:51:00\", \"2020-11-09T22:11:00\", \"2020-11-09T22:31:00\", \"2020-11-09T22:51:00\", \"2020-11-09T23:11:00\", \"2020-11-09T23:31:00\", \"2020-11-09T23:51:00\", \"2020-11-10T00:11:00\", \"2020-11-10T00:31:00\", \"2020-11-10T00:51:00\", \"2020-11-10T01:11:00\", \"2020-11-10T01:31:00\", \"2020-11-10T01:51:00\", \"2020-11-10T02:11:00\", \"2020-11-10T02:31:00\", \"2020-11-10T02:51:00\", \"2020-11-10T03:11:00\", \"2020-11-10T03:31:00\", \"2020-11-10T03:51:00\", \"2020-11-10T04:11:00\", \"2020-11-10T04:31:00\", \"2020-11-10T04:51:00\", \"2020-11-10T05:11:00\", \"2020-11-10T05:31:00\", \"2020-11-10T05:51:00\", \"2020-11-10T06:11:00\", \"2020-11-10T06:31:00\", \"2020-11-10T06:51:00\", \"2020-11-10T07:11:00\", \"2020-11-10T07:31:00\", \"2020-11-10T07:51:00\", \"2020-11-10T08:11:00\", \"2020-11-10T08:31:00\", \"2020-11-10T08:51:00\", \"2020-11-10T09:11:00\", \"2020-11-10T09:31:00\", \"2020-11-10T09:51:00\", \"2020-11-10T10:11:00\", \"2020-11-10T10:31:00\", \"2020-11-10T10:51:00\", \"2020-11-10T11:11:00\", \"2020-11-10T11:31:00\", \"2020-11-10T11:51:00\", \"2020-11-10T12:11:00\", \"2020-11-10T12:31:00\", \"2020-11-10T12:51:00\", \"2020-11-10T13:11:00\", \"2020-11-10T13:31:00\", \"2020-11-10T13:51:00\", \"2020-11-10T14:11:00\", \"2020-11-10T14:31:00\", \"2020-11-10T14:51:00\", \"2020-11-10T15:11:00\", \"2020-11-10T15:31:00\", \"2020-11-10T15:51:00\", \"2020-11-10T16:11:00\", \"2020-11-10T16:31:00\", \"2020-11-10T16:51:00\", \"2020-11-10T17:11:00\", \"2020-11-10T17:31:00\", \"2020-11-10T17:51:00\", \"2020-11-10T18:11:00\", \"2020-11-10T18:31:00\", \"2020-11-10T18:51:00\", \"2020-11-10T19:11:00\", \"2020-11-10T19:31:00\", \"2020-11-10T19:51:00\", \"2020-11-10T20:11:00\", \"2020-11-10T20:31:00\", \"2020-11-10T20:51:00\", \"2020-11-10T21:11:00\", \"2020-11-10T21:31:00\", \"2020-11-10T21:51:00\", \"2020-11-10T22:11:00\", \"2020-11-10T22:31:00\", \"2020-11-10T22:51:00\", \"2020-11-10T23:11:00\", \"2020-11-10T23:31:00\", \"2020-11-10T23:51:00\", \"2020-11-11T00:11:00\", \"2020-11-11T00:31:00\", \"2020-11-11T00:51:00\", \"2020-11-11T01:11:00\", \"2020-11-11T01:31:00\", \"2020-11-11T01:51:00\", \"2020-11-11T02:11:00\", \"2020-11-11T02:31:00\", \"2020-11-11T02:51:00\", \"2020-11-11T03:11:00\", \"2020-11-11T03:31:00\", \"2020-11-11T03:51:00\", \"2020-11-11T04:11:00\", \"2020-11-11T04:31:00\", \"2020-11-11T04:51:00\", \"2020-11-11T05:11:00\", \"2020-11-11T05:31:00\", \"2020-11-11T05:51:00\", \"2020-11-11T06:11:00\", \"2020-11-11T06:31:00\", \"2020-11-11T06:51:00\", \"2020-11-11T07:11:00\", \"2020-11-11T07:31:00\", \"2020-11-11T07:51:00\", \"2020-11-11T08:11:00\", \"2020-11-11T08:31:00\", \"2020-11-11T08:51:00\", \"2020-11-11T09:11:00\", \"2020-11-11T09:31:00\", \"2020-11-11T09:51:00\", \"2020-11-11T10:11:00\", \"2020-11-11T10:31:00\", \"2020-11-11T10:51:00\", \"2020-11-11T11:11:00\", \"2020-11-11T11:31:00\", \"2020-11-11T11:51:00\", \"2020-11-11T12:11:00\", \"2020-11-11T12:31:00\", \"2020-11-11T12:51:00\", \"2020-11-11T13:11:00\", \"2020-11-11T13:31:00\", \"2020-11-11T13:51:00\", \"2020-11-11T14:11:00\", \"2020-11-11T14:31:00\", \"2020-11-11T14:51:00\", \"2020-11-11T15:11:00\", \"2020-11-11T15:31:00\", \"2020-11-11T15:51:00\", \"2020-11-11T16:11:00\", \"2020-11-11T16:31:00\", \"2020-11-11T16:51:00\", \"2020-11-11T17:11:00\", \"2020-11-11T17:31:00\", \"2020-11-11T17:51:00\", \"2020-11-11T18:11:00\", \"2020-11-11T18:31:00\", \"2020-11-11T18:51:00\", \"2020-11-11T19:11:00\", \"2020-11-11T19:31:00\", \"2020-11-11T19:51:00\", \"2020-11-11T20:11:00\", \"2020-11-11T20:31:00\", \"2020-11-11T20:51:00\", \"2020-11-11T21:11:00\", \"2020-11-11T21:31:00\", \"2020-11-11T21:51:00\", \"2020-11-11T22:11:00\", \"2020-11-11T22:31:00\", \"2020-11-11T22:51:00\", \"2020-11-11T23:11:00\", \"2020-11-11T23:31:00\", \"2020-11-11T23:51:00\", \"2020-11-12T00:11:00\", \"2020-11-12T00:31:00\", \"2020-11-12T00:51:00\", \"2020-11-12T01:11:00\", \"2020-11-12T01:31:00\", \"2020-11-12T01:51:00\", \"2020-11-12T02:11:00\", \"2020-11-12T02:30:00\", \"2020-11-12T02:31:00\", \"2020-11-12T02:51:00\", \"2020-11-12T03:11:00\", \"2020-11-12T03:31:00\", \"2020-11-12T03:51:00\", \"2020-11-12T04:11:00\", \"2020-11-12T04:31:00\", \"2020-11-12T04:51:00\", \"2020-11-12T05:11:00\", \"2020-11-12T05:31:00\", \"2020-11-12T05:51:00\", \"2020-11-12T06:11:00\", \"2020-11-12T06:31:00\", \"2020-11-12T06:51:00\", \"2020-11-12T07:11:00\", \"2020-11-12T07:31:00\", \"2020-11-12T07:51:00\", \"2020-11-12T08:11:00\", \"2020-11-12T08:31:00\", \"2020-11-12T08:51:00\", \"2020-11-12T09:11:00\", \"2020-11-12T09:31:00\", \"2020-11-12T09:51:00\", \"2020-11-12T10:11:00\", \"2020-11-12T10:31:00\", \"2020-11-12T10:51:00\", \"2020-11-12T11:11:00\", \"2020-11-12T11:31:00\", \"2020-11-12T11:51:00\", \"2020-11-12T12:11:00\", \"2020-11-12T12:31:00\", \"2020-11-12T12:51:00\", \"2020-11-12T13:11:00\", \"2020-11-12T13:31:00\", \"2020-11-12T13:51:00\", \"2020-11-12T14:11:00\", \"2020-11-12T14:31:00\", \"2020-11-12T14:51:00\", \"2020-11-12T15:11:00\", \"2020-11-12T15:31:00\", \"2020-11-12T15:51:00\", \"2020-11-12T16:11:00\", \"2020-11-12T16:31:00\", \"2020-11-12T16:51:00\", \"2020-11-12T17:11:00\", \"2020-11-12T17:31:00\", \"2020-11-12T17:51:00\", \"2020-11-12T18:11:00\", \"2020-11-12T18:31:00\", \"2020-11-12T18:51:00\", \"2020-11-12T19:11:00\", \"2020-11-12T19:31:00\", \"2020-11-12T19:51:00\", \"2020-11-12T20:11:00\", \"2020-11-12T20:31:00\", \"2020-11-12T20:51:00\", \"2020-11-12T21:11:00\", \"2020-11-12T21:31:00\", \"2020-11-12T21:51:00\", \"2020-11-12T22:11:00\", \"2020-11-12T22:31:00\", \"2020-11-12T22:51:00\", \"2020-11-12T23:11:00\", \"2020-11-12T23:31:00\", \"2020-11-12T23:51:00\", \"2020-11-13T00:11:00\", \"2020-11-13T00:31:00\", \"2020-11-13T00:51:00\", \"2020-11-13T01:11:00\", \"2020-11-13T01:31:00\", \"2020-11-13T01:51:00\", \"2020-11-13T02:11:00\", \"2020-11-13T02:31:00\", \"2020-11-13T02:51:00\", \"2020-11-13T03:11:00\", \"2020-11-13T03:31:00\", \"2020-11-13T03:51:00\", \"2020-11-13T04:11:00\", \"2020-11-13T04:31:00\", \"2020-11-13T04:51:00\", \"2020-11-13T05:11:00\", \"2020-11-13T05:31:00\", \"2020-11-13T05:51:00\", \"2020-11-13T06:11:00\", \"2020-11-13T06:31:00\", \"2020-11-13T06:51:00\", \"2020-11-13T07:11:00\", \"2020-11-13T07:31:00\", \"2020-11-13T07:51:00\", \"2020-11-13T07:51:00\", \"2020-11-13T08:11:00\", \"2020-11-13T08:31:00\", \"2020-11-13T08:51:00\", \"2020-11-13T09:11:00\", \"2020-11-13T09:31:00\", \"2020-11-13T09:51:00\", \"2020-11-13T10:11:00\", \"2020-11-13T10:31:00\", \"2020-11-13T10:51:00\", \"2020-11-13T11:11:00\", \"2020-11-13T11:31:00\", \"2020-11-13T11:51:00\", \"2020-11-13T12:11:00\", \"2020-11-13T12:31:00\", \"2020-11-13T12:51:00\", \"2020-11-13T13:11:00\", \"2020-11-13T13:31:00\", \"2020-11-13T13:51:00\", \"2020-11-13T14:11:00\", \"2020-11-13T14:31:00\", \"2020-11-13T14:51:00\", \"2020-11-13T15:11:00\", \"2020-11-13T15:31:00\", \"2020-11-13T15:51:00\", \"2020-11-13T16:11:00\", \"2020-11-13T16:31:00\", \"2020-11-13T16:51:00\", \"2020-11-13T17:11:00\", \"2020-11-13T17:31:00\", \"2020-11-13T17:51:00\", \"2020-11-13T18:11:00\", \"2020-11-13T18:31:00\", \"2020-11-13T18:51:00\", \"2020-11-13T19:11:00\", \"2020-11-13T19:31:00\", \"2020-11-13T19:51:00\", \"2020-11-13T20:11:00\", \"2020-11-13T20:31:00\", \"2020-11-13T20:51:00\", \"2020-11-13T21:11:00\", \"2020-11-13T21:31:00\", \"2020-11-13T21:51:00\", \"2020-11-13T22:11:00\", \"2020-11-13T22:31:00\", \"2020-11-13T22:51:00\", \"2020-11-13T23:11:00\", \"2020-11-13T23:31:00\", \"2020-11-13T23:51:00\", \"2020-11-14T00:11:00\", \"2020-11-14T00:31:00\", \"2020-11-14T00:51:00\", \"2020-11-14T01:11:00\", \"2020-11-14T01:31:00\", \"2020-11-14T01:51:00\", \"2020-11-14T02:11:00\", \"2020-11-14T02:31:00\", \"2020-11-14T02:51:00\", \"2020-11-14T03:11:00\", \"2020-11-14T03:31:00\", \"2020-11-14T03:51:00\", \"2020-11-14T04:11:00\", \"2020-11-14T04:31:00\", \"2020-11-14T04:51:00\", \"2020-11-14T05:11:00\", \"2020-11-14T05:31:00\", \"2020-11-14T05:51:00\", \"2020-11-14T06:11:00\", \"2020-11-14T06:31:00\", \"2020-11-14T06:51:00\", \"2020-11-14T07:11:00\", \"2020-11-14T07:31:00\", \"2020-11-14T07:51:00\", \"2020-11-14T08:11:00\", \"2020-11-14T08:31:00\", \"2020-11-14T08:51:00\", \"2020-11-14T09:11:00\", \"2020-11-14T09:31:00\", \"2020-11-14T09:51:00\", \"2020-11-14T10:11:00\", \"2020-11-14T10:31:00\", \"2020-11-14T10:51:00\", \"2020-11-14T11:11:00\", \"2020-11-14T11:31:00\", \"2020-11-14T11:51:00\", \"2020-11-14T12:11:00\", \"2020-11-14T12:31:00\", \"2020-11-14T12:51:00\", \"2020-11-14T13:11:00\", \"2020-11-14T13:31:00\", \"2020-11-14T13:51:00\", \"2020-11-14T14:11:00\", \"2020-11-14T14:31:00\", \"2020-11-14T14:51:00\", \"2020-11-14T15:11:00\", \"2020-11-14T15:31:00\", \"2020-11-14T15:51:00\", \"2020-11-14T16:11:00\", \"2020-11-14T16:31:00\", \"2020-11-14T16:51:00\", \"2020-11-14T17:11:00\", \"2020-11-14T17:31:00\", \"2020-11-14T17:51:00\", \"2020-11-14T18:11:00\", \"2020-11-14T18:31:00\", \"2020-11-14T18:51:00\", \"2020-11-14T19:11:00\", \"2020-11-14T19:31:00\", \"2020-11-14T19:51:00\", \"2020-11-14T20:11:00\", \"2020-11-14T20:31:00\", \"2020-11-14T20:51:00\", \"2020-11-14T21:11:00\", \"2020-11-14T21:31:00\", \"2020-11-14T21:51:00\", \"2020-11-14T22:11:00\", \"2020-11-14T22:31:00\", \"2020-11-14T22:51:00\", \"2020-11-14T23:11:00\", \"2020-11-14T23:31:00\", \"2020-11-14T23:51:00\", \"2020-11-15T00:11:00\", \"2020-11-15T00:31:00\", \"2020-11-15T00:51:00\", \"2020-11-15T01:11:00\", \"2020-11-15T01:31:00\", \"2020-11-15T01:51:00\", \"2020-11-15T02:11:00\", \"2020-11-15T02:31:00\", \"2020-11-15T02:51:00\", \"2020-11-15T03:11:00\", \"2020-11-15T03:31:00\", \"2020-11-15T03:51:00\", \"2020-11-15T04:11:00\", \"2020-11-15T04:31:00\", \"2020-11-15T04:51:00\", \"2020-11-15T05:11:00\", \"2020-11-15T05:31:00\", \"2020-11-15T05:51:00\", \"2020-11-15T06:11:00\", \"2020-11-15T06:31:00\", \"2020-11-15T06:51:00\", \"2020-11-15T07:11:00\", \"2020-11-15T07:31:00\", \"2020-11-15T07:51:00\", \"2020-11-15T08:11:00\", \"2020-11-15T08:31:00\", \"2020-11-15T08:51:00\", \"2020-11-15T09:11:00\", \"2020-11-15T09:31:00\", \"2020-11-15T09:51:00\", \"2020-11-15T10:11:00\", \"2020-11-15T10:31:00\", \"2020-11-15T10:51:00\", \"2020-11-15T11:11:00\", \"2020-11-15T11:31:00\", \"2020-11-15T11:51:00\", \"2020-11-15T12:11:00\", \"2020-11-15T12:31:00\", \"2020-11-15T12:51:00\", \"2020-11-15T13:11:00\", \"2020-11-15T13:31:00\", \"2020-11-15T13:51:00\", \"2020-11-15T14:11:00\", \"2020-11-15T14:31:00\", \"2020-11-15T14:51:00\", \"2020-11-15T15:11:00\", \"2020-11-15T15:31:00\", \"2020-11-15T15:51:00\", \"2020-11-15T16:11:00\", \"2020-11-15T16:31:00\", \"2020-11-15T16:51:00\", \"2020-11-15T17:11:00\", \"2020-11-15T17:31:00\", \"2020-11-15T17:51:00\", \"2020-11-15T18:11:00\", \"2020-11-15T18:31:00\", \"2020-11-15T18:51:00\", \"2020-11-15T19:11:00\", \"2020-11-15T19:31:00\", \"2020-11-15T19:51:00\", \"2020-11-15T20:11:00\", \"2020-11-15T20:31:00\", \"2020-11-15T20:51:00\", \"2020-11-15T21:11:00\", \"2020-11-15T21:31:00\", \"2020-11-15T21:51:00\", \"2020-11-15T22:11:00\", \"2020-11-15T22:31:00\", \"2020-11-15T22:51:00\", \"2020-11-15T23:11:00\", \"2020-11-15T23:31:00\", \"2020-11-15T23:51:00\", \"2020-11-16T00:11:00\", \"2020-11-16T00:31:00\", \"2020-11-16T00:51:00\", \"2020-11-16T01:11:00\", \"2020-11-16T01:31:00\", \"2020-11-16T01:51:00\", \"2020-11-16T02:11:00\", \"2020-11-16T02:31:00\", \"2020-11-16T02:51:00\", \"2020-11-16T03:11:00\", \"2020-11-16T03:31:00\", \"2020-11-16T03:51:00\", \"2020-11-16T04:11:00\", \"2020-11-16T04:31:00\", \"2020-11-16T04:51:00\", \"2020-11-16T05:11:00\", \"2020-11-16T05:31:00\", \"2020-11-16T05:51:00\", \"2020-11-16T06:11:00\", \"2020-11-16T06:31:00\", \"2020-11-16T06:51:00\", \"2020-11-16T07:11:00\", \"2020-11-16T07:31:00\", \"2020-11-16T07:51:00\", \"2020-11-16T08:11:00\", \"2020-11-16T08:31:00\", \"2020-11-16T08:51:00\", \"2020-11-16T09:11:00\", \"2020-11-16T09:31:00\", \"2020-11-16T09:51:00\", \"2020-11-16T10:11:00\", \"2020-11-16T10:31:00\", \"2020-11-16T10:51:00\", \"2020-11-16T11:11:00\", \"2020-11-16T11:31:00\", \"2020-11-16T11:51:00\", \"2020-11-16T12:11:00\", \"2020-11-16T12:31:00\", \"2020-11-16T12:51:00\", \"2020-11-16T13:11:00\", \"2020-11-16T13:31:00\", \"2020-11-16T13:51:00\", \"2020-11-16T14:11:00\", \"2020-11-16T14:31:00\", \"2020-11-16T14:51:00\", \"2020-11-16T15:11:00\", \"2020-11-16T15:31:00\", \"2020-11-16T15:51:00\", \"2020-11-16T16:11:00\", \"2020-11-16T16:31:00\", \"2020-11-16T16:51:00\", \"2020-11-16T17:11:00\", \"2020-11-16T17:31:00\", \"2020-11-16T17:51:00\", \"2020-11-16T18:11:00\", \"2020-11-16T18:31:00\", \"2020-11-16T18:51:00\", \"2020-11-16T19:11:00\", \"2020-11-16T19:31:00\", \"2020-11-16T19:51:00\", \"2020-11-16T20:11:00\", \"2020-11-16T20:31:00\", \"2020-11-16T20:51:00\", \"2020-11-16T21:11:00\", \"2020-11-16T21:31:00\", \"2020-11-16T21:51:00\", \"2020-11-16T22:11:00\", \"2020-11-16T22:31:00\", \"2020-11-16T22:51:00\", \"2020-11-16T23:11:00\", \"2020-11-16T23:31:00\", \"2020-11-16T23:51:00\", \"2020-11-17T00:11:00\", \"2020-11-17T00:31:00\", \"2020-11-17T00:51:00\", \"2020-11-17T01:11:00\", \"2020-11-17T01:31:00\", \"2020-11-17T01:51:00\", \"2020-11-17T02:11:00\", \"2020-11-17T02:31:00\", \"2020-11-17T02:51:00\", \"2020-11-17T03:11:00\", \"2020-11-17T03:31:00\", \"2020-11-17T03:51:00\", \"2020-11-17T04:11:00\", \"2020-11-17T04:31:00\", \"2020-11-17T04:51:00\", \"2020-11-17T05:11:00\", \"2020-11-17T05:31:00\", \"2020-11-17T05:51:00\", \"2020-11-17T06:11:00\", \"2020-11-17T06:31:00\", \"2020-11-17T06:51:00\", \"2020-11-17T07:11:00\", \"2020-11-17T07:31:00\", \"2020-11-17T07:51:00\", \"2020-11-17T08:11:00\", \"2020-11-17T08:51:00\", \"2020-11-17T09:11:00\", \"2020-11-17T09:31:00\", \"2020-11-17T09:51:00\", \"2020-11-17T10:11:00\", \"2020-11-17T10:31:00\", \"2020-11-17T10:51:00\", \"2020-11-17T11:11:00\", \"2020-11-17T11:31:00\", \"2020-11-17T11:51:00\", \"2020-11-17T12:11:00\", \"2020-11-17T12:31:00\", \"2020-11-17T12:51:00\", \"2020-11-17T13:11:00\", \"2020-11-17T13:31:00\", \"2020-11-17T13:51:00\", \"2020-11-17T14:11:00\", \"2020-11-17T14:31:00\", \"2020-11-17T14:51:00\", \"2020-11-17T15:11:00\", \"2020-11-17T15:31:00\", \"2020-11-17T15:51:00\", \"2020-11-17T16:11:00\", \"2020-11-17T16:31:00\", \"2020-11-17T16:51:00\", \"2020-11-17T17:11:00\", \"2020-11-17T17:31:00\", \"2020-11-17T17:51:00\", \"2020-11-17T18:11:00\", \"2020-11-17T18:31:00\", \"2020-11-17T18:51:00\", \"2020-11-17T19:11:00\", \"2020-11-17T19:31:00\", \"2020-11-17T19:51:00\", \"2020-11-17T20:11:00\", \"2020-11-17T20:31:00\", \"2020-11-17T20:51:00\", \"2020-11-17T21:11:00\", \"2020-11-17T21:31:00\", \"2020-11-17T21:51:00\", \"2020-11-17T22:11:00\", \"2020-11-17T22:31:00\", \"2020-11-17T22:51:00\", \"2020-11-17T23:11:00\", \"2020-11-17T23:31:00\", \"2020-11-17T23:51:00\", \"2020-11-18T00:11:00\", \"2020-11-18T00:31:00\", \"2020-11-18T00:51:00\", \"2020-11-18T01:11:00\", \"2020-11-18T01:31:00\", \"2020-11-18T01:51:00\", \"2020-11-18T02:11:00\", \"2020-11-18T02:31:00\", \"2020-11-18T02:51:00\", \"2020-11-18T03:11:00\", \"2020-11-18T03:31:00\", \"2020-11-18T03:51:00\", \"2020-11-18T04:11:00\", \"2020-11-18T04:31:00\", \"2020-11-18T04:51:00\", \"2020-11-18T05:11:00\", \"2020-11-18T05:31:00\", \"2020-11-18T05:51:00\", \"2020-11-18T06:11:00\", \"2020-11-18T06:31:00\", \"2020-11-18T06:51:00\", \"2020-11-18T07:11:00\", \"2020-11-18T07:31:00\", \"2020-11-18T07:51:00\", \"2020-11-18T08:11:00\", \"2020-11-18T08:31:00\", \"2020-11-18T08:51:00\", \"2020-11-18T09:11:00\", \"2020-11-18T09:31:00\", \"2020-11-18T09:51:00\", \"2020-11-18T10:11:00\", \"2020-11-18T10:31:00\", \"2020-11-18T10:51:00\", \"2020-11-18T11:11:00\", \"2020-11-18T11:31:00\", \"2020-11-18T11:51:00\", \"2020-11-18T12:11:00\", \"2020-11-18T12:31:00\", \"2020-11-18T12:51:00\", \"2020-11-18T13:11:00\", \"2020-11-18T13:31:00\", \"2020-11-18T13:51:00\", \"2020-11-18T14:11:00\", \"2020-11-18T14:31:00\", \"2020-11-18T14:51:00\", \"2020-11-18T15:11:00\", \"2020-11-18T15:31:00\", \"2020-11-18T15:51:00\", \"2020-11-18T16:11:00\", \"2020-11-18T16:31:00\", \"2020-11-18T16:51:00\", \"2020-11-18T17:11:00\", \"2020-11-18T17:31:00\", \"2020-11-18T17:51:00\", \"2020-11-18T18:11:00\", \"2020-11-18T18:31:00\", \"2020-11-18T18:51:00\", \"2020-11-18T19:11:00\", \"2020-11-18T19:31:00\", \"2020-11-18T19:51:00\", \"2020-11-18T20:11:00\", \"2020-11-18T20:31:00\", \"2020-11-18T20:51:00\", \"2020-11-18T21:11:00\", \"2020-11-18T21:31:00\", \"2020-11-18T21:51:00\", \"2020-11-18T22:11:00\", \"2020-11-18T22:31:00\", \"2020-11-18T22:51:00\", \"2020-11-18T23:11:00\", \"2020-11-18T23:31:00\", \"2020-11-18T23:51:00\", \"2020-11-19T00:11:00\", \"2020-11-19T00:31:00\", \"2020-11-19T00:51:00\", \"2020-11-19T01:11:00\", \"2020-11-19T01:31:00\", \"2020-11-19T01:51:00\", \"2020-11-19T02:11:00\", \"2020-11-19T02:31:00\", \"2020-11-19T02:51:00\", \"2020-11-19T03:11:00\", \"2020-11-19T03:31:00\", \"2020-11-19T03:51:00\", \"2020-11-19T04:11:00\", \"2020-11-19T04:31:00\", \"2020-11-19T04:51:00\", \"2020-11-19T05:11:00\", \"2020-11-19T05:31:00\", \"2020-11-19T05:51:00\", \"2020-11-19T06:11:00\", \"2020-11-19T06:31:00\", \"2020-11-19T06:51:00\", \"2020-11-19T07:11:00\", \"2020-11-19T07:31:00\", \"2020-11-19T07:51:00\", \"2020-11-19T08:11:00\", \"2020-11-19T08:31:00\", \"2020-11-19T08:31:00\", \"2020-11-19T08:51:00\", \"2020-11-19T09:11:00\", \"2020-11-19T09:31:00\", \"2020-11-19T09:51:00\", \"2020-11-19T10:11:00\", \"2020-11-19T10:31:00\", \"2020-11-19T10:51:00\", \"2020-11-19T11:11:00\", \"2020-11-19T11:31:00\", \"2020-11-19T11:51:00\", \"2020-11-19T12:11:00\", \"2020-11-19T12:31:00\", \"2020-11-19T12:51:00\", \"2020-11-19T13:11:00\", \"2020-11-19T13:31:00\", \"2020-11-19T13:51:00\", \"2020-11-19T14:11:00\", \"2020-11-19T14:31:00\", \"2020-11-19T14:51:00\", \"2020-11-19T15:11:00\", \"2020-11-19T15:31:00\", \"2020-11-19T15:51:00\", \"2020-11-19T16:11:00\", \"2020-11-19T16:31:00\", \"2020-11-19T16:51:00\", \"2020-11-19T17:11:00\", \"2020-11-19T17:31:00\", \"2020-11-19T17:51:00\", \"2020-11-19T18:11:00\", \"2020-11-19T18:31:00\", \"2020-11-19T18:51:00\", \"2020-11-19T19:11:00\", \"2020-11-19T19:31:00\", \"2020-11-19T19:51:00\", \"2020-11-19T20:11:00\", \"2020-11-19T20:31:00\", \"2020-11-19T20:51:00\", \"2020-11-19T21:11:00\", \"2020-11-19T21:31:00\", \"2020-11-19T21:51:00\", \"2020-11-19T22:11:00\", \"2020-11-19T22:31:00\", \"2020-11-19T22:51:00\", \"2020-11-19T23:11:00\", \"2020-11-19T23:31:00\", \"2020-11-19T23:51:00\", \"2020-11-20T00:11:00\", \"2020-11-20T00:31:00\", \"2020-11-20T00:51:00\", \"2020-11-20T01:11:00\", \"2020-11-20T01:31:00\", \"2020-11-20T01:51:00\", \"2020-11-20T02:11:00\", \"2020-11-20T02:31:00\", \"2020-11-20T02:51:00\", \"2020-11-20T03:11:00\", \"2020-11-20T03:31:00\", \"2020-11-20T03:51:00\", \"2020-11-20T04:11:00\", \"2020-11-20T04:31:00\", \"2020-11-20T04:51:00\", \"2020-11-20T05:11:00\", \"2020-11-20T05:31:00\", \"2020-11-20T05:51:00\", \"2020-11-20T06:11:00\", \"2020-11-20T06:31:00\", \"2020-11-20T06:51:00\", \"2020-11-20T07:11:00\", \"2020-11-20T07:31:00\", \"2020-11-20T07:51:00\", \"2020-11-20T08:11:00\", \"2020-11-20T08:31:00\", \"2020-11-20T08:51:00\", \"2020-11-20T09:11:00\", \"2020-11-20T09:31:00\", \"2020-11-20T09:51:00\", \"2020-11-20T10:11:00\", \"2020-11-20T10:31:00\", \"2020-11-20T10:51:00\", \"2020-11-20T11:11:00\", \"2020-11-20T11:31:00\", \"2020-11-20T11:51:00\", \"2020-11-20T12:11:00\", \"2020-11-20T12:31:00\", \"2020-11-20T12:51:00\", \"2020-11-20T13:11:00\", \"2020-11-20T13:31:00\", \"2020-11-20T13:51:00\", \"2020-11-20T14:11:00\", \"2020-11-20T14:31:00\", \"2020-11-20T14:51:00\", \"2020-11-20T15:11:00\", \"2020-11-20T15:31:00\", \"2020-11-20T15:51:00\", \"2020-11-20T16:11:00\", \"2020-11-20T16:31:00\", \"2020-11-20T16:51:00\", \"2020-11-20T17:11:00\", \"2020-11-20T17:31:00\", \"2020-11-20T17:51:00\", \"2020-11-20T18:11:00\", \"2020-11-20T18:31:00\", \"2020-11-20T18:51:00\", \"2020-11-20T19:11:00\", \"2020-11-20T19:31:00\", \"2020-11-20T19:51:00\", \"2020-11-20T20:11:00\", \"2020-11-20T20:31:00\", \"2020-11-20T20:51:00\", \"2020-11-20T21:11:00\", \"2020-11-20T21:31:00\", \"2020-11-20T21:51:00\", \"2020-11-20T22:11:00\", \"2020-11-20T22:31:00\", \"2020-11-20T22:51:00\", \"2020-11-20T23:11:00\", \"2020-11-20T23:31:00\", \"2020-11-20T23:51:00\", \"2020-11-21T00:11:00\", \"2020-11-21T00:31:00\", \"2020-11-21T00:51:00\", \"2020-11-21T01:11:00\"], \"y\": [15.4, -0.2, -4.4, -23.2, -21.8, -21.4, -22.4, -21.8, -21.8, -22.2, -22.0, -22.2, -22.2, -22.2, -22.8, -22.8, -22.2, -12.2, 1.7, -23.0, -22.2, -22.2, -21.6, -23.0, -20.2, -23.8, -22.0, -22.8, -23.2, -24.2, -21.6, -22.4, -23.2, -23.4, -22.4, -22.8, -22.0, -24.6, -24.4, -22.4, -24.2, -23.4, -24.8, -24.4, -22.2, -22.2, -23.2, -24.8, -23.8, -23.6, -22.4, -22.2, -22.2, -22.4, -22.0, -23.4, -22.8, -23.8, -24.0, -22.0, -19.6, -22.4, -24.0, -22.6, -22.2, -21.8, -23.2, -22.8, -26.0, -22.6, -24.2, 0.2, 15.5, 1.4, -1.4, -22.7, -22.1, -22.9, -22.3, -23.3, -23.1, -23.3, -22.9, -22.1, -22.9, -23.5, -22.3, -22.5, -23.5, -12.7, -1.9, -24.7, -22.9, -22.5, -22.1, -22.5, -20.5, -23.7, -22.3, -21.7, -23.1, -21.9, -21.7, -22.7, -23.3, -22.9, -23.1, -23.3, -22.3, -25.1, -22.3, -23.9, -23.5, -24.5, -22.9, -24.7, -23.7, -24.3, -24.3, -24.3, -24.5, -24.5, -23.3, -24.5, -22.7, -24.5, -22.9, -23.9, -23.1, -22.9, -22.7, -24.5, -23.7, -20.5, -25.1, -23.3, -23.7, -23.7, -22.7, -23.7, -22.5, -21.7, -23.7, -23.9, 0.1, 14.8, 0.4, -2.4, -23.8, -23.8, -24.2, -24.4, -24.6, -24.8, -22.4, -23.2, -23.8, -22.6, -22.8, -23.4, -23.0, -23.2, -14.2, 9.3, -25.0, -24.6, -22.0, -23.6, -22.0, -21.2, -23.8, -22.2, -22.2, -24.0, -22.6, -22.4, -21.6, -23.6, -22.6, -22.8, -22.0, -21.8, -25.2, -24.8, -24.7, -23.1, -22.7, -24.5, -22.9, -24.1, -24.5, -24.1, -23.5, -23.3, -22.7, -22.9, -22.5, -25.1, -24.5, -22.9, -25.5, -24.9, -23.7, -22.5, -22.9, -21.5, -23.7, -24.3, -22.1, -22.3, -22.7, -22.5, -24.5, -22.3, -23.1, -24.3, 0.3, 13.2, 0.4, -20.1, -23.9, -22.1, -22.1, -22.9, -23.3, -22.9, -23.1, -22.9, -24.1, -22.5, -22.9, -23.9, -23.5, -22.3, -11.3, -0.4, -25.0, -24.8, -24.8, -23.2, -22.8, -21.0, -23.8, -23.0, -23.2, -23.2, -22.0, -23.0, -22.8, -24.0, -23.8, -23.6, -24.6, -23.0, -26.2, -24.0, -25.2, -23.6, -24.4, -23.8, -21.8, -22.6, -22.4, -22.4, -22.4, -22.4, -22.2, -22.4, -22.4, -21.6, -22.8, -22.4, -21.8, -23.2, -22.2, -21.8, -23.0, -21.2, -23.8, -22.6, -22.4, -24.4, -22.0, -23.4, -22.4, -23.0, -24.2, -23.0, 0.2, 13.5, -1.0, -1.6, -22.8, -23.0, -22.8, -22.0, -22.8, -22.2, -23.2, -23.0, -22.8, -22.6, -22.2, -22.8, -22.6, -23.0, -22.2, -12.8, -15.1, -23.5, -22.7, -22.9, -22.3, -22.7, -21.3, -24.7, -23.9, -23.5, -24.3, -24.7, -22.1, -23.5, -26.1, -24.9, -22.5, -23.1, -22.3, -24.7, -23.7, -24.5, -22.5, -22.9, -23.3, -22.9, -23.3, -22.9, -24.9, -23.5, -22.5, -22.3, -23.3, -22.3, -22.5, -22.5, -22.1, -22.1, -23.7, -22.5, -22.7, -23.1, -20.1, -23.1, -22.7, -23.7, -22.9, -22.5, -23.1, -23.7, -26.5, -24.1, -24.9, 0.1, 13.6, -0.6, -1.2, -24.6, -23.4, -22.8, -22.8, -22.4, -23.2, -23.4, -22.8, -23.2, -22.6, -22.8, -23.4, -22.8, -23.4, -13.6, 19.4, -24.4, -22.8, -22.4, -22.8, -22.4, -22.4, -19.4, -20.6, -23.4, -22.2, -23.6, -22.4, -22.6, -22.8, -22.6, -24.4, -23.6, -23.0, -21.8, -24.6, -22.4, -23.4, -22.4, -24.4, -23.2, -22.6, -23.4, -23.4, -25.2, -23.0, -24.8, -21.6, -22.8, -22.2, -22.4, -22.6, -23.6, -22.8, -24.4, -24.4, -24.0, -23.0, -20.0, -24.0, -23.4, -23.0, -24.2, -22.2, -23.2, -23.0, -25.9, -23.1, -24.3, 0.1, 14.8, 1.4, -12.7, -24.5, -23.3, -22.9, -22.3, -22.5, -23.1, -22.9, -22.7, -22.5, -23.1, -22.3, -23.3, -22.3, -22.9, -11.3, -4.2, -23.8, -24.0, -24.8, -23.0, -23.2, -20.0, -22.6, -23.0, -23.0, -22.8, -23.4, -23.6, -23.0, -22.4, -24.4, -23.2, -22.6, -22.4, -24.6, -24.2, -24.4, -23.2, -21.4, -23.6, -22.2, -23.6, -23.4, -23.6, -23.0, -22.4, -22.2, -22.0, -22.2, -21.6, -21.8, -21.2, -24.4, -22.6, -22.6, -23.0, -22.4, -21.2, -24.6, -22.6, -23.8, -23.2, -24.2, -23.2, -22.4, -26.2, -24.0, -24.2, 0.2, 14.4, -1.1, -3.9, -22.6, -22.6, -22.8, -23.0, -23.2, -22.4, -23.2, -22.4, -23.2, -22.4, -23.6, -23.0, -23.4, -22.8, -9.2, -13.2, -24.5, -24.5, -22.5, -22.9, -23.5, -19.7, -23.7, -23.3, -23.1, -23.3, -23.5, -23.5, -23.5, -24.1, -22.3, -22.5, -22.7, -22.1, -22.7, -24.5, -24.3, -22.5, -24.1, -24.9, -23.5, -22.7, -23.9, -24.3, -24.3, -23.3, -22.7, -22.5, -22.5, -22.7, -22.9, -22.7, -22.9, -23.7, -22.5, -22.5, -22.9, -19.9, -23.9, -23.5, -23.5, -24.7, -22.9, -23.7, -23.3, -22.3, -24.1, -25.3, 0.1, 12.3, -0.2, -2.8, -22.9, -23.3, -22.9, -22.7, -23.3, -22.9, -23.7, -22.5, -23.7, -23.1, -24.1, -23.1, -23.3, -24.1, -13.7, -10.2, -22.3, -22.5, -21.7, -21.7, -22.3, -20.5, -22.7, -22.3, -22.3, -21.7, -22.9, -21.9, -21.1, -24.1, -23.7, -22.5, -22.7, -21.9, -24.5, -21.3, -23.3, -22.9, -24.3, -24.3, -22.1, -24.3, -23.9, -23.5, -24.1, -23.7, -23.1, -23.1, -21.5, -23.9, -23.7, -24.9, -24.5, -24.7, -22.3, -22.3, -23.1, -19.9, -23.1, -22.1, -23.1, -24.1, -21.9, -22.9, -22.7, -25.5, -22.9, -24.5, 0.1, 14.7, 0.3, -2.9, -24.0, -22.6, -22.2, -22.8, -23.0, -23.6, -23.4, -23.6, -23.2, -22.6, -23.2, -23.0, -22.8, -23.8, -12.0, -6.7, -24.2, -23.4, -24.0, -23.2, -25.6, -20.0, -23.2, -22.4, -22.0, -23.6, -22.0, -23.4, -23.8, -24.0, -23.0, -22.6, -22.2, -23.8, -24.6, -23.4, -24.4, -22.4, -24.4, -22.8, -24.8, -23.8, -22.4, -22.6, -22.6, -22.6, -23.4, -22.4, -22.2, -22.6, -22.2, -23.8, -24.8, -22.2, -24.0, -23.0, -19.8, -23.2, -22.4, -22.8, -23.6, -24.2, -23.6, -24.2, -23.8, -23.2, -23.6, 0.2, 13.8, 0.3, -4.1, -22.4, -23.0, -22.4, -23.4, -23.6, -23.8, -23.2, -23.8, -23.2, -24.2, -23.2, -23.8, -22.8, -23.2, -11.6, -7.7, -23.8, -22.6, -22.8, -22.0, -22.8, -20.8, -24.4, -23.8, -22.2, -23.0, -23.8, -23.4, -24.0, -22.6, -24.0, -24.2, -23.2, -22.8, -24.0, -23.0, -24.8, -24.8, -24.4, -24.4, -22.0, -24.4, -23.6, -22.2, -22.2, -22.0, -22.4, -21.8, -22.2, -22.0, -23.0, -22.2, -22.4, -23.2, -23.4, -24.2, -23.8, -21.4, -24.8, -22.8, -24.0, -24.6, -22.2, -23.6, -24.0, -25.3, -24.3, -25.3, 0.3, 13.2, -0.5, -3.5, -22.2, -22.4, -22.6, -22.4, -23.4, -23.8, -23.4, -23.2, -22.4, -23.4, -23.4, -23.0, -23.0, -22.8, -9.0, 19.9, -23.6, -24.4, -22.0, -24.0, -23.6, -21.4, -21.8, -21.8, -22.6, -22.8, -24.0, -22.2, -20.8, -22.8, -21.6, -23.4, -22.6, -23.6, -21.8, -24.8, -23.2, -23.8, -24.0, -24.4, -24.8, -23.4, -22.8, -23.6, -24.8, -24.4, -24.4, -23.2, -22.4, -22.4, -22.2, -23.2, -22.0, -24.0, -22.8, -22.0, -20.8, -23.4, -19.8, -23.6, -22.6, -23.4, -24.0, -21.8, -23.2, -23.0, -26.4, -23.8, -24.6, 0.4, 12.9, -0.1, -8.2, -22.6, -23.0, -22.6, -22.6, -23.2, -22.8, -22.6, -22.6, -23.6, -23.2, -23.0, -23.0, -23.2, -23.4, -8.2, -12.3, -24.2, -23.6, -22.0, -24.2, -23.6, -21.2, -24.8, -22.8, -23.0, -23.8, -23.4, -24.0, -21.8, -23.4, -23.4, -22.0, -23.0, -22.0, -23.8, -23.0, -24.4, -24.6, -24.2, -24.2, -22.0, -22.6, -22.8, -24.2, -25.2, -24.6, -22.4, -22.4, -21.8, -24.6, -24.2, -24.4, -24.2, -23.0, -22.0, -22.6, -23.2, -20.8, -24.0, -23.0, -22.4, -22.6, -22.0, -22.6, -22.6, -23.0, -24.2, -23.4, 0.2, 13.6, -0.5, -6.3, -22.5]}],\n",
              "                        {\"template\": {\"data\": {\"bar\": [{\"error_x\": {\"color\": \"#2a3f5f\"}, \"error_y\": {\"color\": \"#2a3f5f\"}, \"marker\": {\"line\": {\"color\": \"#E5ECF6\", \"width\": 0.5}}, \"type\": \"bar\"}], \"barpolar\": [{\"marker\": {\"line\": {\"color\": \"#E5ECF6\", \"width\": 0.5}}, \"type\": \"barpolar\"}], \"carpet\": [{\"aaxis\": {\"endlinecolor\": \"#2a3f5f\", \"gridcolor\": \"white\", \"linecolor\": \"white\", \"minorgridcolor\": \"white\", \"startlinecolor\": \"#2a3f5f\"}, \"baxis\": {\"endlinecolor\": \"#2a3f5f\", \"gridcolor\": \"white\", \"linecolor\": \"white\", \"minorgridcolor\": \"white\", \"startlinecolor\": \"#2a3f5f\"}, \"type\": \"carpet\"}], \"choropleth\": [{\"colorbar\": {\"outlinewidth\": 0, \"ticks\": \"\"}, \"type\": \"choropleth\"}], \"contour\": [{\"colorbar\": {\"outlinewidth\": 0, \"ticks\": \"\"}, \"colorscale\": [[0.0, \"#0d0887\"], [0.1111111111111111, \"#46039f\"], [0.2222222222222222, \"#7201a8\"], [0.3333333333333333, \"#9c179e\"], [0.4444444444444444, \"#bd3786\"], [0.5555555555555556, \"#d8576b\"], [0.6666666666666666, \"#ed7953\"], [0.7777777777777778, \"#fb9f3a\"], [0.8888888888888888, \"#fdca26\"], [1.0, \"#f0f921\"]], \"type\": \"contour\"}], \"contourcarpet\": [{\"colorbar\": {\"outlinewidth\": 0, \"ticks\": \"\"}, \"type\": \"contourcarpet\"}], \"heatmap\": [{\"colorbar\": {\"outlinewidth\": 0, \"ticks\": \"\"}, \"colorscale\": [[0.0, \"#0d0887\"], [0.1111111111111111, \"#46039f\"], [0.2222222222222222, \"#7201a8\"], [0.3333333333333333, \"#9c179e\"], [0.4444444444444444, \"#bd3786\"], [0.5555555555555556, \"#d8576b\"], [0.6666666666666666, \"#ed7953\"], [0.7777777777777778, \"#fb9f3a\"], [0.8888888888888888, \"#fdca26\"], [1.0, \"#f0f921\"]], \"type\": \"heatmap\"}], \"heatmapgl\": [{\"colorbar\": {\"outlinewidth\": 0, \"ticks\": \"\"}, \"colorscale\": [[0.0, \"#0d0887\"], [0.1111111111111111, \"#46039f\"], [0.2222222222222222, \"#7201a8\"], [0.3333333333333333, \"#9c179e\"], [0.4444444444444444, \"#bd3786\"], [0.5555555555555556, \"#d8576b\"], [0.6666666666666666, \"#ed7953\"], [0.7777777777777778, \"#fb9f3a\"], [0.8888888888888888, \"#fdca26\"], [1.0, \"#f0f921\"]], \"type\": \"heatmapgl\"}], \"histogram\": [{\"marker\": {\"colorbar\": {\"outlinewidth\": 0, \"ticks\": \"\"}}, \"type\": \"histogram\"}], \"histogram2d\": [{\"colorbar\": {\"outlinewidth\": 0, \"ticks\": \"\"}, \"colorscale\": [[0.0, \"#0d0887\"], [0.1111111111111111, \"#46039f\"], [0.2222222222222222, \"#7201a8\"], [0.3333333333333333, \"#9c179e\"], [0.4444444444444444, \"#bd3786\"], [0.5555555555555556, \"#d8576b\"], [0.6666666666666666, \"#ed7953\"], [0.7777777777777778, \"#fb9f3a\"], [0.8888888888888888, \"#fdca26\"], [1.0, \"#f0f921\"]], \"type\": \"histogram2d\"}], \"histogram2dcontour\": [{\"colorbar\": {\"outlinewidth\": 0, \"ticks\": \"\"}, \"colorscale\": [[0.0, \"#0d0887\"], [0.1111111111111111, \"#46039f\"], [0.2222222222222222, \"#7201a8\"], [0.3333333333333333, \"#9c179e\"], [0.4444444444444444, \"#bd3786\"], [0.5555555555555556, \"#d8576b\"], [0.6666666666666666, \"#ed7953\"], [0.7777777777777778, \"#fb9f3a\"], [0.8888888888888888, \"#fdca26\"], [1.0, \"#f0f921\"]], \"type\": \"histogram2dcontour\"}], \"mesh3d\": [{\"colorbar\": {\"outlinewidth\": 0, \"ticks\": \"\"}, \"type\": \"mesh3d\"}], \"parcoords\": [{\"line\": {\"colorbar\": {\"outlinewidth\": 0, \"ticks\": \"\"}}, \"type\": \"parcoords\"}], \"pie\": [{\"automargin\": true, \"type\": \"pie\"}], \"scatter\": [{\"marker\": {\"colorbar\": {\"outlinewidth\": 0, \"ticks\": \"\"}}, \"type\": \"scatter\"}], \"scatter3d\": [{\"line\": {\"colorbar\": {\"outlinewidth\": 0, \"ticks\": \"\"}}, \"marker\": {\"colorbar\": {\"outlinewidth\": 0, \"ticks\": \"\"}}, \"type\": \"scatter3d\"}], \"scattercarpet\": [{\"marker\": {\"colorbar\": {\"outlinewidth\": 0, \"ticks\": \"\"}}, \"type\": \"scattercarpet\"}], \"scattergeo\": [{\"marker\": {\"colorbar\": {\"outlinewidth\": 0, \"ticks\": \"\"}}, \"type\": \"scattergeo\"}], \"scattergl\": [{\"marker\": {\"colorbar\": {\"outlinewidth\": 0, \"ticks\": \"\"}}, \"type\": \"scattergl\"}], \"scattermapbox\": [{\"marker\": {\"colorbar\": {\"outlinewidth\": 0, \"ticks\": \"\"}}, \"type\": \"scattermapbox\"}], \"scatterpolar\": [{\"marker\": {\"colorbar\": {\"outlinewidth\": 0, \"ticks\": \"\"}}, \"type\": \"scatterpolar\"}], \"scatterpolargl\": [{\"marker\": {\"colorbar\": {\"outlinewidth\": 0, \"ticks\": \"\"}}, \"type\": \"scatterpolargl\"}], \"scatterternary\": [{\"marker\": {\"colorbar\": {\"outlinewidth\": 0, \"ticks\": \"\"}}, \"type\": \"scatterternary\"}], \"surface\": [{\"colorbar\": {\"outlinewidth\": 0, \"ticks\": \"\"}, \"colorscale\": [[0.0, \"#0d0887\"], [0.1111111111111111, \"#46039f\"], [0.2222222222222222, \"#7201a8\"], [0.3333333333333333, \"#9c179e\"], [0.4444444444444444, \"#bd3786\"], [0.5555555555555556, \"#d8576b\"], [0.6666666666666666, \"#ed7953\"], [0.7777777777777778, \"#fb9f3a\"], [0.8888888888888888, \"#fdca26\"], [1.0, \"#f0f921\"]], \"type\": \"surface\"}], \"table\": [{\"cells\": {\"fill\": {\"color\": \"#EBF0F8\"}, \"line\": {\"color\": \"white\"}}, \"header\": {\"fill\": {\"color\": \"#C8D4E3\"}, \"line\": {\"color\": \"white\"}}, \"type\": \"table\"}]}, \"layout\": {\"annotationdefaults\": {\"arrowcolor\": \"#2a3f5f\", \"arrowhead\": 0, \"arrowwidth\": 1}, \"coloraxis\": {\"colorbar\": {\"outlinewidth\": 0, \"ticks\": \"\"}}, \"colorscale\": {\"diverging\": [[0, \"#8e0152\"], [0.1, \"#c51b7d\"], [0.2, \"#de77ae\"], [0.3, \"#f1b6da\"], [0.4, \"#fde0ef\"], [0.5, \"#f7f7f7\"], [0.6, \"#e6f5d0\"], [0.7, \"#b8e186\"], [0.8, \"#7fbc41\"], [0.9, \"#4d9221\"], [1, \"#276419\"]], \"sequential\": [[0.0, \"#0d0887\"], [0.1111111111111111, \"#46039f\"], [0.2222222222222222, \"#7201a8\"], [0.3333333333333333, \"#9c179e\"], [0.4444444444444444, \"#bd3786\"], [0.5555555555555556, \"#d8576b\"], [0.6666666666666666, \"#ed7953\"], [0.7777777777777778, \"#fb9f3a\"], [0.8888888888888888, \"#fdca26\"], [1.0, \"#f0f921\"]], \"sequentialminus\": [[0.0, \"#0d0887\"], [0.1111111111111111, \"#46039f\"], [0.2222222222222222, \"#7201a8\"], [0.3333333333333333, \"#9c179e\"], [0.4444444444444444, \"#bd3786\"], [0.5555555555555556, \"#d8576b\"], [0.6666666666666666, \"#ed7953\"], [0.7777777777777778, \"#fb9f3a\"], [0.8888888888888888, \"#fdca26\"], [1.0, \"#f0f921\"]]}, \"colorway\": [\"#636efa\", \"#EF553B\", \"#00cc96\", \"#ab63fa\", \"#FFA15A\", \"#19d3f3\", \"#FF6692\", \"#B6E880\", \"#FF97FF\", \"#FECB52\"], \"font\": {\"color\": \"#2a3f5f\"}, \"geo\": {\"bgcolor\": \"white\", \"lakecolor\": \"white\", \"landcolor\": \"#E5ECF6\", \"showlakes\": true, \"showland\": true, \"subunitcolor\": \"white\"}, \"hoverlabel\": {\"align\": \"left\"}, \"hovermode\": \"closest\", \"mapbox\": {\"style\": \"light\"}, \"paper_bgcolor\": \"white\", \"plot_bgcolor\": \"#E5ECF6\", \"polar\": {\"angularaxis\": {\"gridcolor\": \"white\", \"linecolor\": \"white\", \"ticks\": \"\"}, \"bgcolor\": \"#E5ECF6\", \"radialaxis\": {\"gridcolor\": \"white\", \"linecolor\": \"white\", \"ticks\": \"\"}}, \"scene\": {\"xaxis\": {\"backgroundcolor\": \"#E5ECF6\", \"gridcolor\": \"white\", \"gridwidth\": 2, \"linecolor\": \"white\", \"showbackground\": true, \"ticks\": \"\", \"zerolinecolor\": \"white\"}, \"yaxis\": {\"backgroundcolor\": \"#E5ECF6\", \"gridcolor\": \"white\", \"gridwidth\": 2, \"linecolor\": \"white\", \"showbackground\": true, \"ticks\": \"\", \"zerolinecolor\": \"white\"}, \"zaxis\": {\"backgroundcolor\": \"#E5ECF6\", \"gridcolor\": \"white\", \"gridwidth\": 2, \"linecolor\": \"white\", \"showbackground\": true, \"ticks\": \"\", \"zerolinecolor\": \"white\"}}, \"shapedefaults\": {\"line\": {\"color\": \"#2a3f5f\"}}, \"ternary\": {\"aaxis\": {\"gridcolor\": \"white\", \"linecolor\": \"white\", \"ticks\": \"\"}, \"baxis\": {\"gridcolor\": \"white\", \"linecolor\": \"white\", \"ticks\": \"\"}, \"bgcolor\": \"#E5ECF6\", \"caxis\": {\"gridcolor\": \"white\", \"linecolor\": \"white\", \"ticks\": \"\"}}, \"title\": {\"x\": 0.05}, \"xaxis\": {\"automargin\": true, \"gridcolor\": \"white\", \"linecolor\": \"white\", \"ticks\": \"\", \"title\": {\"standoff\": 15}, \"zerolinecolor\": \"white\", \"zerolinewidth\": 2}, \"yaxis\": {\"automargin\": true, \"gridcolor\": \"white\", \"linecolor\": \"white\", \"ticks\": \"\", \"title\": {\"standoff\": 15}, \"zerolinecolor\": \"white\", \"zerolinewidth\": 2}}}},\n",
              "                        {\"responsive\": true}\n",
              "                    ).then(function(){\n",
              "                            \n",
              "var gd = document.getElementById('2edc3475-07d8-4707-9736-83846e66265f');\n",
              "var x = new MutationObserver(function (mutations, observer) {{\n",
              "        var display = window.getComputedStyle(gd).display;\n",
              "        if (!display || display === 'none') {{\n",
              "            console.log([gd, 'removed!']);\n",
              "            Plotly.purge(gd);\n",
              "            observer.disconnect();\n",
              "        }}\n",
              "}});\n",
              "\n",
              "// Listen for the removal of the full notebook cells\n",
              "var notebookContainer = gd.closest('#notebook-container');\n",
              "if (notebookContainer) {{\n",
              "    x.observe(notebookContainer, {childList: true});\n",
              "}}\n",
              "\n",
              "// Listen for the clearing of the current output cell\n",
              "var outputEl = gd.closest('.output');\n",
              "if (outputEl) {{\n",
              "    x.observe(outputEl, {childList: true});\n",
              "}}\n",
              "\n",
              "                        })\n",
              "                };\n",
              "                \n",
              "            </script>\n",
              "        </div>\n",
              "</body>\n",
              "</html>"
            ]
          },
          "metadata": {
            "tags": []
          }
        }
      ]
    }
  ]
}