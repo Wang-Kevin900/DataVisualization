{
  "nbformat": 4,
  "nbformat_minor": 0,
  "metadata": {
    "colab": {
      "name": "DataVisualization.ipynb",
      "provenance": [],
      "collapsed_sections": [
        "LXiGzH3ubsQF"
      ],
      "include_colab_link": true
    },
    "kernelspec": {
      "name": "python3",
      "display_name": "Python 3"
    },
    "accelerator": "GPU"
  },
  "cells": [
    {
      "cell_type": "markdown",
      "metadata": {
        "id": "view-in-github",
        "colab_type": "text"
      },
      "source": [
        "<a href=\"https://colab.research.google.com/github/Wang-Kevin900/DataVisualization/blob/main/DataVisualization.ipynb\" target=\"_parent\"><img src=\"https://colab.research.google.com/assets/colab-badge.svg\" alt=\"Open In Colab\"/></a>"
      ]
    },
    {
      "cell_type": "markdown",
      "metadata": {
        "id": "GUDrvVDi65qA"
      },
      "source": [
        "# Setup libraries"
      ]
    },
    {
      "cell_type": "markdown",
      "metadata": {
        "id": "hI8t0qKzeCcq"
      },
      "source": [
        "Donwloading the various library needed to use the program using the console thanks to the symbol \"!\""
      ]
    },
    {
      "cell_type": "code",
      "metadata": {
        "id": "OY_oA_b-6-z4",
        "colab": {
          "base_uri": "https://localhost:8080/"
        },
        "outputId": "35cc9f63-a9a2-4ca7-a654-52f3b8ae87fa"
      },
      "source": [
        "!pip install bokeh\n",
        "!pip install altair\n",
        "!pip install plotly\n",
        "!pip install pandas\n",
        "!pip install datetime"
      ],
      "execution_count": 180,
      "outputs": [
        {
          "output_type": "stream",
          "text": [
            "Requirement already satisfied: bokeh in /usr/local/lib/python3.7/dist-packages (2.1.1)\n",
            "Requirement already satisfied: typing-extensions>=3.7.4 in /usr/local/lib/python3.7/dist-packages (from bokeh) (3.7.4.3)\n",
            "Requirement already satisfied: tornado>=5.1 in /usr/local/lib/python3.7/dist-packages (from bokeh) (5.1.1)\n",
            "Requirement already satisfied: numpy>=1.11.3 in /usr/local/lib/python3.7/dist-packages (from bokeh) (1.19.5)\n",
            "Requirement already satisfied: Jinja2>=2.7 in /usr/local/lib/python3.7/dist-packages (from bokeh) (2.11.3)\n",
            "Requirement already satisfied: packaging>=16.8 in /usr/local/lib/python3.7/dist-packages (from bokeh) (20.9)\n",
            "Requirement already satisfied: python-dateutil>=2.1 in /usr/local/lib/python3.7/dist-packages (from bokeh) (2.8.1)\n",
            "Requirement already satisfied: PyYAML>=3.10 in /usr/local/lib/python3.7/dist-packages (from bokeh) (3.13)\n",
            "Requirement already satisfied: pillow>=4.0 in /usr/local/lib/python3.7/dist-packages (from bokeh) (7.0.0)\n",
            "Requirement already satisfied: MarkupSafe>=0.23 in /usr/local/lib/python3.7/dist-packages (from Jinja2>=2.7->bokeh) (1.1.1)\n",
            "Requirement already satisfied: pyparsing>=2.0.2 in /usr/local/lib/python3.7/dist-packages (from packaging>=16.8->bokeh) (2.4.7)\n",
            "Requirement already satisfied: six>=1.5 in /usr/local/lib/python3.7/dist-packages (from python-dateutil>=2.1->bokeh) (1.15.0)\n",
            "Requirement already satisfied: altair in /usr/local/lib/python3.7/dist-packages (4.1.0)\n",
            "Requirement already satisfied: pandas>=0.18 in /usr/local/lib/python3.7/dist-packages (from altair) (1.1.5)\n",
            "Requirement already satisfied: numpy in /usr/local/lib/python3.7/dist-packages (from altair) (1.19.5)\n",
            "Requirement already satisfied: jsonschema in /usr/local/lib/python3.7/dist-packages (from altair) (2.6.0)\n",
            "Requirement already satisfied: jinja2 in /usr/local/lib/python3.7/dist-packages (from altair) (2.11.3)\n",
            "Requirement already satisfied: entrypoints in /usr/local/lib/python3.7/dist-packages (from altair) (0.3)\n",
            "Requirement already satisfied: toolz in /usr/local/lib/python3.7/dist-packages (from altair) (0.11.1)\n",
            "Requirement already satisfied: pytz>=2017.2 in /usr/local/lib/python3.7/dist-packages (from pandas>=0.18->altair) (2018.9)\n",
            "Requirement already satisfied: python-dateutil>=2.7.3 in /usr/local/lib/python3.7/dist-packages (from pandas>=0.18->altair) (2.8.1)\n",
            "Requirement already satisfied: MarkupSafe>=0.23 in /usr/local/lib/python3.7/dist-packages (from jinja2->altair) (1.1.1)\n",
            "Requirement already satisfied: six>=1.5 in /usr/local/lib/python3.7/dist-packages (from python-dateutil>=2.7.3->pandas>=0.18->altair) (1.15.0)\n",
            "Requirement already satisfied: plotly in /usr/local/lib/python3.7/dist-packages (4.4.1)\n",
            "Requirement already satisfied: six in /usr/local/lib/python3.7/dist-packages (from plotly) (1.15.0)\n",
            "Requirement already satisfied: retrying>=1.3.3 in /usr/local/lib/python3.7/dist-packages (from plotly) (1.3.3)\n",
            "Requirement already satisfied: pandas in /usr/local/lib/python3.7/dist-packages (1.1.5)\n",
            "Requirement already satisfied: numpy>=1.15.4 in /usr/local/lib/python3.7/dist-packages (from pandas) (1.19.5)\n",
            "Requirement already satisfied: pytz>=2017.2 in /usr/local/lib/python3.7/dist-packages (from pandas) (2018.9)\n",
            "Requirement already satisfied: python-dateutil>=2.7.3 in /usr/local/lib/python3.7/dist-packages (from pandas) (2.8.1)\n",
            "Requirement already satisfied: six>=1.5 in /usr/local/lib/python3.7/dist-packages (from python-dateutil>=2.7.3->pandas) (1.15.0)\n",
            "Requirement already satisfied: datetime in /usr/local/lib/python3.7/dist-packages (4.3)\n",
            "Requirement already satisfied: zope.interface in /usr/local/lib/python3.7/dist-packages (from datetime) (5.2.0)\n",
            "Requirement already satisfied: pytz in /usr/local/lib/python3.7/dist-packages (from datetime) (2018.9)\n",
            "Requirement already satisfied: setuptools in /usr/local/lib/python3.7/dist-packages (from zope.interface->datetime) (54.1.2)\n"
          ],
          "name": "stdout"
        }
      ]
    },
    {
      "cell_type": "markdown",
      "metadata": {
        "id": "PMMQ_L7Qb6Vu"
      },
      "source": [
        "# Get data and setup"
      ]
    },
    {
      "cell_type": "markdown",
      "metadata": {
        "id": "ytCkpOk9_thE"
      },
      "source": [
        "Importing the txt sheet where all the data are (format: date - hour - value) (as long there's new line to indicate that a set of value is done, the program will work no matter how the data is placed in the datasheet, it is fault resistant) and lastly creating all the needed variable"
      ]
    },
    {
      "cell_type": "code",
      "metadata": {
        "id": "p97s3MLTysk0",
        "colab": {
          "resources": {
            "http://localhost:8080/nbextensions/google.colab/files.js": {
              "data": "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",
              "ok": true,
              "headers": [
                [
                  "content-type",
                  "application/javascript"
                ]
              ],
              "status": 200,
              "status_text": ""
            }
          },
          "base_uri": "https://localhost:8080/",
          "height": 480
        },
        "outputId": "d709bfb2-c526-4a15-e132-0f1b0f066a89"
      },
      "source": [
        "from google.colab import files\n",
        "from datetime import datetime\n",
        "\n",
        "# get the data from the text fi le\n",
        "file_data = files.upload()\n",
        "\n",
        "# trasform the data (dictionary) got from the txt file to list, \n",
        "# so that in the next FOR cyclefor trasforming the data is easier to read letter per letter\n",
        "list_of_data_file = list(file_data.values());\n",
        "\n",
        "# get file name (the key) from the dictionary file_data\n",
        "list_file_name = list(file_data.keys())"
      ],
      "execution_count": 181,
      "outputs": [
        {
          "output_type": "display_data",
          "data": {
            "text/html": [
              "\n",
              "     <input type=\"file\" id=\"files-80584cc8-1eeb-4636-95a1-382fbb0a081f\" name=\"files[]\" multiple disabled\n",
              "        style=\"border:none\" />\n",
              "     <output id=\"result-80584cc8-1eeb-4636-95a1-382fbb0a081f\">\n",
              "      Upload widget is only available when the cell has been executed in the\n",
              "      current browser session. Please rerun this cell to enable.\n",
              "      </output>\n",
              "      <script src=\"/nbextensions/google.colab/files.js\"></script> "
            ],
            "text/plain": [
              "<IPython.core.display.HTML object>"
            ]
          },
          "metadata": {
            "tags": []
          }
        },
        {
          "output_type": "stream",
          "text": [
            "Saving ABT_004_EsempioDiPeggioramentoUltimogiorno 76 TEST.IRIOS SURGELATI.txt to ABT_004_EsempioDiPeggioramentoUltimogiorno 76 TEST.IRIOS SURGELATI (5).txt\n",
            "Saving ABT_005_SegnaleMoltoCanonico 30S VASCA SURGELATI.txt to ABT_005_SegnaleMoltoCanonico 30S VASCA SURGELATI (5).txt\n",
            "Saving ABT_006_AndamentoCheEvidenziaRipresaInSalitaSuDueSettimane BF 36B VETRINA BT.txt to ABT_006_AndamentoCheEvidenziaRipresaInSalitaSuDueSettimane BF 36B VETRINA BT (5).txt\n",
            "Saving ABT_007_AndamentoRegolareMaConAlcuneVariazioni RS1-030 15M VASCA SURGELATI.txt to ABT_007_AndamentoRegolareMaConAlcuneVariazioni RS1-030 15M VASCA SURGELATI (5).txt\n",
            "Saving ABT_008_AndamentoNonCanonicoMaACSNonCriticoBF 15 SEMIM. PESCE.txt to ABT_008_AndamentoNonCanonicoMaACSNonCriticoBF 15 SEMIM. PESCE (5).txt\n",
            "Saving ABT_009_RipetitivoRegolare71S VETRINA SURGELATI.txt to ABT_009_RipetitivoRegolare71S VETRINA SURGELATI (5).txt\n",
            "Saving ANT_001_MoltoOscilante ma non criticaIperTESTATA MURALE DLS 028.txt to ANT_001_MoltoOscilante ma non criticaIperTESTATA MURALE DLS 028 (5).txt\n",
            "Saving ANT_002_PLUG-IN SA.FO. POS. 01AndamentoRegolareCanonico5.txt to ANT_002_PLUG-IN SA.FO. POS. 01AndamentoRegolareCanonico5 (5).txt\n",
            "Saving ANT_003_NonCanoniciMaRipetitiviGRANAI Murale Dls 024.txt to ANT_003_NonCanoniciMaRipetitiviGRANAI Murale Dls 024 (6).txt\n",
            "Saving ANT_004_PAM_BF08 SEMIVERTICALE NUOVO CARNAndamentoNonCanonicoMaNonCriticoE.txt to ANT_004_PAM_BF08 SEMIVERTICALE NUOVO CARNAndamentoNonCanonicoMaNonCriticoE (8).txt\n",
            "Saving ABT_001_BT_def_estesi 85M-S VASCA SURGELATI.txt to ABT_001_BT_def_estesi 85M-S VASCA SURGELATI (5).txt\n",
            "Saving ABT_002_BS 11 VASCA SURGELATI EsempioUtilePerAndamentoRipetitivoPulitoTESTATA.txt to ABT_002_BS 11 VASCA SURGELATI EsempioUtilePerAndamentoRipetitivoPulitoTESTATA (5).txt\n",
            "Saving ABT_003_AndamentoConProblemiDiGas ma non critico  BF 32H VASCA BT.txt to ABT_003_AndamentoConProblemiDiGas ma non critico  BF 32H VASCA BT (5).txt\n"
          ],
          "name": "stdout"
        }
      ]
    },
    {
      "cell_type": "markdown",
      "metadata": {
        "id": "cOUkzqrgdYH4"
      },
      "source": [
        "Preparing the needed variable to trasform the data read from the datasheet to usable data (in lists)"
      ]
    },
    {
      "cell_type": "code",
      "metadata": {
        "id": "6fQWTMrNdXVg"
      },
      "source": [
        "# variable that indicate the number of symbols that compose a date&time\n",
        "date_format = 10\n",
        "time_format = 8\n",
        "\n",
        "# variable that will store every symbol read from the datasheet\n",
        "buffer_of_data = \"\"\n",
        "\n",
        "# variable that will store the name/title of the various group of data \n",
        "# (it has:\"No Name\" value in case the file is missing a title for the group of data)\n",
        "element_name = \"No Name\"\n",
        "\n",
        "# variable that control if the line that the program is reading, is a data line or group title line\n",
        "control_name_line = False\n",
        "\n",
        "# variable that will store any complete data with any of the following format (date, time, float)\n",
        "single_string_list_of_data = []\n",
        "\n",
        "# once a single line of data (couple of data) is done being stored, \n",
        "# divide them (these 2 list are not really needed in the program, they are here only for code cleaness sake)\n",
        "list_of_datetime = []\n",
        "list_of_float = []\n",
        "\n",
        "# a general list where the complete data (by group) will be stored\n",
        "data_list = []\n",
        "\n",
        "# variable that checks if it's the first cycle inside the for loop since it started reading \n",
        "# (this is useful for avoiding adding data to the data list when it encounters the first title)\n",
        "# (since the program add to the data list before each title read)\n",
        "first_read = True\n",
        "\n",
        "# divide a single line of data of the datasheet in 3 section, where each section has the following meaning,\n",
        "# Date, Time, Float; what this variable do, is basically acting as index \n",
        "# to indicate wich section we are currently reading in the datasheet\n",
        "section_index = 0\n",
        "\n",
        "# variable that keeps track of the file index we are currently reading from the list\n",
        "index_file = 0"
      ],
      "execution_count": 182,
      "outputs": []
    },
    {
      "cell_type": "markdown",
      "metadata": {
        "id": "C490lpURb-UK"
      },
      "source": [
        "# Trasform Data"
      ]
    },
    {
      "cell_type": "markdown",
      "metadata": {
        "id": "Jf69MNz7ASNJ"
      },
      "source": [
        "Divide the string of data of a single file in 3 section (Date, Time, Float) to easily read the data and do the casting of the type of data.\n",
        "\n",
        "Then rearrange all the data so that it returns a general list where all the data are stored with the following format: \n",
        "- Title; \n",
        "-NameOfTheFile; \n",
        "- DateTime;\n",
        "- Value.\n",
        "\n",
        "while also doing the casting from string to the needed type (for example string to datatime format)"
      ]
    },
    {
      "cell_type": "code",
      "metadata": {
        "id": "hpksqVJpLDG2"
      },
      "source": [
        "from datetime import datetime\n",
        "\n",
        "for single_data_file in list_of_data_file:\n",
        "  # go through all the data that were in the datasheet, and return a general list where are stored all the data (sorted by group)\n",
        "  # the that reading actually works is that we divide each line of data in 3 section, and each section has different meaning\n",
        "  # the order of meaning of each section is: data, time, value (this is useful so that we know what we are actually reading)\n",
        "  for i in single_data_file:\n",
        "    # 32 is a value ascii that means \"Space\"\n",
        "    # 9  is a value ascii that means \"Tab\"\n",
        "    # 13 is a value ascii that means \"Carriage Return\"\n",
        "    # 10 is a value ascii that means \"New Line\"\n",
        "    # Ignore all the \"special symbols\" (expect 10 since it is the last symbol before the new line is complete, \n",
        "    # and it is needed to know when the program is done reading a single line of data), and just get all the \"interesting\" data\n",
        "    if i != 32 and i != 9 and i != 13:\n",
        "      # read a single symbol (convert it from ASCII to string) from string of data (taken from the datasheet) and store it\n",
        "      buffer_of_data = buffer_of_data + chr(i);\n",
        "\n",
        "      # if we are currently in the first section (date section)...\n",
        "      if section_index == 0:\n",
        "        # if the lenght of the collected data reached the date format, that means that we are done with the date section,\n",
        "        # also it means that the casting mey be possible (it can fail in case the line read is a \"Title\" line)\n",
        "        if len(buffer_of_data) == date_format or control_name_line == True:\n",
        "          # if the line read is not a \"title\" line...\n",
        "          if control_name_line == False:\n",
        "            # try to do the casting (from string to datetime), and if it fail, it means that we are currently in a \"title\" line \n",
        "            # (since in the first section there could be only a date format or string format (that is the title))\n",
        "            try:\n",
        "              single_string_list_of_data.append(datetime.strptime(buffer_of_data, \"%d-%m-%Y\").date())\n",
        "\n",
        "              # if the read is successful, that means we are done reading the first data\n",
        "              first_read = False\n",
        "\n",
        "              # reset the buffer and pass to the next section\n",
        "              buffer_of_data = \"\"\n",
        "              section_index+=1\n",
        "            except:\n",
        "              # if the casting failed, that means we're in the \"title\" line\n",
        "              control_name_line = True\n",
        "\n",
        "          # if we're in the \"title\" line\n",
        "          elif control_name_line:\n",
        "            # wait to gather all the data of the title (we know it's done reading when we encounter the new line symbol)\n",
        "            if i == 10:\n",
        "              # if we've done the first reading, it means that we can add the data of the previous group \n",
        "              # (this will implicate that outside of the for, we need to add another function to add the data of the last list of data)\n",
        "              # the program add the data by group each time it reads a title \n",
        "              # (the first read variable is useful to ignore the add data during the first reading of the first title)\n",
        "              if first_read == False:\n",
        "\n",
        "                data_list.append([element_name, list_file_name[index_file], list_of_datetime.copy(), list_of_float.copy()])\n",
        "\n",
        "                # clean the 2 lists to prepare them for the upcoming data of other group of data\n",
        "                list_of_datetime.clear()\n",
        "                list_of_float.clear()\n",
        "\n",
        "              # reset all the \"support\" variable\n",
        "              element_name = buffer_of_data\n",
        "              buffer_of_data = \"\"\n",
        "              control_name_line = False\n",
        "\n",
        "        # if the symbol we got from the reading equals 10 (new line), that means that the line we are currently in the file, hasn't any data, so clean the buffer and go on\n",
        "        elif i == 10:\n",
        "          buffer_of_data = \"\"\n",
        "\n",
        "      # if we are currently in the second section (time section)...\n",
        "      elif section_index == 1:\n",
        "        # if the lenght of the collected data reached the time format, that means that we are done with the time section,\n",
        "        # also it means that the casting is possible\n",
        "        if len(buffer_of_data) == time_format:\n",
        "          single_string_list_of_data.append(datetime.strptime(buffer_of_data, \"%H:%M:%S\").time())\n",
        "\n",
        "          # reset the buffer and pass to the next section\n",
        "          buffer_of_data = \"\"\n",
        "          section_index+=1\n",
        "\n",
        "      # if we are currently in the third section (float section)...\n",
        "      elif section_index == 2:\n",
        "        # if we detect a 10 (in ASCII means \"new line\"), that means we're done reading a single line of data\n",
        "        # and that we are done to also reading a single couple of data\n",
        "        if i == 10:\n",
        "          # Add the string to the string of data while also,\n",
        "          # Converting the value from string to float and replacing the \",\" in \".\" so that the casting is possible\n",
        "          single_string_list_of_data.append(float(buffer_of_data.replace(\",\", \".\")))\n",
        "          \n",
        "          # divide the couple of data into 2 different lists to prepare them to be converted into pandas dataframe\n",
        "          list_of_datetime.append(datetime.combine(single_string_list_of_data[0], single_string_list_of_data[1]))\n",
        "          list_of_float.append(single_string_list_of_data[2])\n",
        "\n",
        "          # reset the buffer and the single string of data list and return to the first section to read more data of other lines\n",
        "          buffer_of_data = \"\"\n",
        "          single_string_list_of_data.clear()\n",
        "          section_index = 0\n",
        "\n",
        "  # add 1, to indicate that we're going to read the next file (if it exist)\n",
        "  index_file+=1\n",
        "\n",
        "# add items for the last time in the list if the last element in the txt file doesn't have \\n \n",
        "# (the consequence is that the for loop is unable to store the last couple of data)\n",
        "if single_data_file[-1] != 10 and single_data_file[-1] != 13:\n",
        "  single_string_list_of_data.append(float(buffer_of_data.replace(\",\", \".\")))\n",
        "  list_of_datetime.append(datetime.combine(single_string_list_of_data[0], single_string_list_of_data[1]))\n",
        "  list_of_float.append(single_string_list_of_data[2])\n",
        "\n",
        "# add the last group of data since the for cycle is unable to do it, because it adds to the list only when it encounters a new \"title\" \n",
        "# (and obviously at the end of a datasheet there can't be a title)\n",
        "data_list.append([element_name, list_file_name[-1], list_of_datetime.copy(), list_of_float.copy()])"
      ],
      "execution_count": 183,
      "outputs": []
    },
    {
      "cell_type": "markdown",
      "metadata": {
        "id": "h0vh01Q6cv0s"
      },
      "source": [
        "# Choosing and Organizing the data\n"
      ]
    },
    {
      "cell_type": "markdown",
      "metadata": {
        "id": "3VNAUuow5QoO"
      },
      "source": [
        "Let the user choose which type of data he/she wants to see"
      ]
    },
    {
      "cell_type": "code",
      "metadata": {
        "colab": {
          "base_uri": "https://localhost:8080/"
        },
        "id": "5K-HHSVZ6CXY",
        "outputId": "796ab874-9041-4c04-d40b-bbc268c72aee"
      },
      "source": [
        "# a variable that keeps track of the cycle number of the for cycle\n",
        "i = 0\n",
        "\n",
        "# Escape Values for highlighting the important data for the user to see\n",
        "OKBLUE = '\\033[34m'\n",
        "NormalColor = '\\033[0m'\n",
        "\n",
        "# display to the user the possible choices\n",
        "print(\"Choose one of the following group of data to visualize (by inserting the number of the group):\")\n",
        "for data in data_list:\n",
        "  print(str(i)+ \") \"+OKBLUE+ data[0] + NormalColor + \"File - \" + data[1])\n",
        "  i+=1\n",
        "\n",
        "# get from the user it's choice, and if it's valid, get the group of data selected\n",
        "while(True):\n",
        "  console_input = input()\n",
        "\n",
        "  if 0 <= int(console_input) and int(console_input) < len(data_list):\n",
        "    data_list = data_list[int(console_input)].copy()\n",
        "    break\n",
        "  else:\n",
        "    print(\"Please Insert a valid choice/number\")"
      ],
      "execution_count": 184,
      "outputs": [
        {
          "output_type": "stream",
          "text": [
            "Choose one of the following group of data to visualize (by inserting the number of the group):\n",
            "0) \u001b[34mTemperaturaripresa(Sr)\n",
            "\u001b[0mFile - ABT_004_EsempioDiPeggioramentoUltimogiorno 76 TEST.IRIOS SURGELATI.txt\n",
            "1) \u001b[34mTemperaturamandata(Sm)\n",
            "\u001b[0mFile - ABT_004_EsempioDiPeggioramentoUltimogiorno 76 TEST.IRIOS SURGELATI.txt\n",
            "2) \u001b[34mTemperaturasbrinamento(Sd)\n",
            "\u001b[0mFile - ABT_004_EsempioDiPeggioramentoUltimogiorno 76 TEST.IRIOS SURGELATI.txt\n",
            "3) \u001b[34mStatodidefrost\n",
            "\u001b[0mFile - ABT_005_SegnaleMoltoCanonico 30S VASCA SURGELATI.txt\n",
            "4) \u001b[34mTemp.Mandata\n",
            "\u001b[0mFile - ABT_005_SegnaleMoltoCanonico 30S VASCA SURGELATI.txt\n",
            "5) \u001b[34mSbrinamento1\n",
            "\u001b[0mFile - ABT_006_AndamentoCheEvidenziaRipresaInSalitaSuDueSettimane BF 36B VETRINA BT.txt\n",
            "6) \u001b[34mTemp.Ripresa\n",
            "\u001b[0mFile - ABT_006_AndamentoCheEvidenziaRipresaInSalitaSuDueSettimane BF 36B VETRINA BT.txt\n",
            "7) \u001b[34mTemp.Regolazione\n",
            "\u001b[0mFile - ABT_006_AndamentoCheEvidenziaRipresaInSalitaSuDueSettimane BF 36B VETRINA BT.txt\n",
            "8) \u001b[34mTemp.Sbrinamento\n",
            "\u001b[0mFile - ABT_006_AndamentoCheEvidenziaRipresaInSalitaSuDueSettimane BF 36B VETRINA BT.txt\n",
            "9) \u001b[34mSbrinamento1\n",
            "\u001b[0mFile - ABT_007_AndamentoRegolareMaConAlcuneVariazioni RS1-030 15M VASCA SURGELATI.txt\n",
            "10) \u001b[34mP3sondaripresa\n",
            "\u001b[0mFile - ABT_007_AndamentoRegolareMaConAlcuneVariazioni RS1-030 15M VASCA SURGELATI.txt\n",
            "11) \u001b[34mP1sondareg_aria\n",
            "\u001b[0mFile - ABT_007_AndamentoRegolareMaConAlcuneVariazioni RS1-030 15M VASCA SURGELATI.txt\n",
            "12) \u001b[34mP2sondaEvaporatore\n",
            "\u001b[0mFile - ABT_007_AndamentoRegolareMaConAlcuneVariazioni RS1-030 15M VASCA SURGELATI.txt\n",
            "13) \u001b[34mSbrinamento\n",
            "\u001b[0mFile - ABT_008_AndamentoNonCanonicoMaACSNonCriticoBF 15 SEMIM. PESCE.txt\n",
            "14) \u001b[34mIngressoanalogico(visualizzazione)1\n",
            "\u001b[0mFile - ABT_008_AndamentoNonCanonicoMaACSNonCriticoBF 15 SEMIM. PESCE.txt\n",
            "15) \u001b[34mSbrinamento1\n",
            "\u001b[0mFile - ABT_009_RipetitivoRegolare71S VETRINA SURGELATI.txt\n",
            "16) \u001b[34mTemperaturaripresa(Sr)\n",
            "\u001b[0mFile - ABT_009_RipetitivoRegolare71S VETRINA SURGELATI.txt\n",
            "17) \u001b[34mTemperaturasbrinamento(Sd)\n",
            "\u001b[0mFile - ABT_009_RipetitivoRegolare71S VETRINA SURGELATI.txt\n",
            "18) \u001b[34mStatodidefrost\n",
            "\u001b[0mFile - ANT_001_MoltoOscilante ma non criticaIperTESTATA MURALE DLS 028.txt\n",
            "19) \u001b[34mDisplay(Pb3)\n",
            "\u001b[0mFile - ANT_001_MoltoOscilante ma non criticaIperTESTATA MURALE DLS 028.txt\n",
            "20) \u001b[34mRoom(Pb1)\n",
            "08-11-202000:12:137,80\n",
            "\u001b[0mFile - ANT_002_PLUG-IN SA.FO. POS. 01AndamentoRegolareCanonico5.txt\n",
            "21) \u001b[34mTemperaturaMandata(S1)\n",
            "\u001b[0mFile - ANT_002_PLUG-IN SA.FO. POS. 01AndamentoRegolareCanonico5.txt\n",
            "22) \u001b[34mTemperaturaEvaporatore(S2)\n",
            "\u001b[0mFile - ANT_003_NonCanoniciMaRipetitiviGRANAI Murale Dls 024.txt\n",
            "23) \u001b[34mEvaporatore\n",
            "\u001b[0mFile - ANT_003_NonCanoniciMaRipetitiviGRANAI Murale Dls 024.txt\n",
            "24) \u001b[34mSbrinamento\n",
            "\u001b[0mFile - ANT_004_PAM_BF08 SEMIVERTICALE NUOVO CARNAndamentoNonCanonicoMaNonCriticoE.txt\n",
            "25) \u001b[34mTemperaturaripresa(Sr)\n",
            "\u001b[0mFile - ANT_004_PAM_BF08 SEMIVERTICALE NUOVO CARNAndamentoNonCanonicoMaNonCriticoE.txt\n",
            "26) \u001b[34mTemperaturamandata(Sm)\n",
            "\u001b[0mFile - ANT_004_PAM_BF08 SEMIVERTICALE NUOVO CARNAndamentoNonCanonicoMaNonCriticoE.txt\n",
            "27) \u001b[34mTemperaturasbrinamento(Sd)\n",
            "\u001b[0mFile - ANT_004_PAM_BF08 SEMIVERTICALE NUOVO CARNAndamentoNonCanonicoMaNonCriticoE.txt\n",
            "28) \u001b[34mStatodidefrost\n",
            "\u001b[0mFile - ANT_004_PAM_BF08 SEMIVERTICALE NUOVO CARNAndamentoNonCanonicoMaNonCriticoE.txt\n",
            "29) \u001b[34mStatoporta\n",
            "\u001b[0mFile - ABT_001_BT_def_estesi 85M-S VASCA SURGELATI.txt\n",
            "30) \u001b[34mSondaripresaMaster\n",
            "\u001b[0mFile - ABT_001_BT_def_estesi 85M-S VASCA SURGELATI.txt\n",
            "31) \u001b[34mSondaripresaSlave\n",
            "\u001b[0mFile - ABT_002_BS 11 VASCA SURGELATI EsempioUtilePerAndamentoRipetitivoPulitoTESTATA.txt\n",
            "32) \u001b[34mTemperaturaripresa(Sr)\n",
            "\u001b[0mFile - ABT_002_BS 11 VASCA SURGELATI EsempioUtilePerAndamentoRipetitivoPulitoTESTATA.txt\n",
            "33) \u001b[34mTemperaturamandata(Sm)\n",
            "\u001b[0mFile - ABT_002_BS 11 VASCA SURGELATI EsempioUtilePerAndamentoRipetitivoPulitoTESTATA.txt\n",
            "34) \u001b[34mTemperaturasbrinamento(Sd)\n",
            "\u001b[0mFile - ABT_002_BS 11 VASCA SURGELATI EsempioUtilePerAndamentoRipetitivoPulitoTESTATA.txt\n",
            "35) \u001b[34mStatodidefrost\n",
            "\u001b[0mFile - ABT_002_BS 11 VASCA SURGELATI EsempioUtilePerAndamentoRipetitivoPulitoTESTATA.txt\n",
            "36) \u001b[34mStatoporta\n",
            "\u001b[0mFile - ABT_003_AndamentoConProblemiDiGas ma non critico  BF 32H VASCA BT.txt\n",
            "37) \u001b[34mTemp.Ripresa\n",
            "\u001b[0mFile - ABT_003_AndamentoConProblemiDiGas ma non critico  BF 32H VASCA BT.txt\n",
            "38) \u001b[34mTemp.Regolazione\n",
            "\u001b[0mFile - ABT_003_AndamentoConProblemiDiGas ma non critico  BF 32H VASCA BT.txt\n",
            "39) \u001b[34mTemp.Sbrinamento\n",
            "\u001b[0mFile - ABT_003_AndamentoConProblemiDiGas ma non critico  BF 32H VASCA BT.txt\n",
            "40) \u001b[34mSbrinamento1\n",
            "\u001b[0mFile - ABT_003_AndamentoConProblemiDiGas ma non critico  BF 32H VASCA BT.txt\n",
            "38\n"
          ],
          "name": "stdout"
        }
      ]
    },
    {
      "cell_type": "markdown",
      "metadata": {
        "id": "Ul_RHsHNogdw"
      },
      "source": [
        "Convert all the lists (date list and value list) in Pandas DataFrame, then, visualize the list created"
      ]
    },
    {
      "cell_type": "code",
      "metadata": {
        "id": "sJ88MkFqoaz0",
        "colab": {
          "base_uri": "https://localhost:8080/",
          "height": 419
        },
        "outputId": "218c3a8b-ad91-4f65-cfd7-96b16d99ac1f"
      },
      "source": [
        "import pandas as pd\n",
        "\n",
        "# convert the 2 lists in a pandas dataframe (order of the list is: Title, Date, Value)\n",
        "data = pd.DataFrame({'date': data_list[2],\n",
        "                     'value': data_list[3]})\n",
        "\n",
        "# print out the datagram\n",
        "data"
      ],
      "execution_count": 185,
      "outputs": [
        {
          "output_type": "execute_result",
          "data": {
            "text/html": [
              "<div>\n",
              "<style scoped>\n",
              "    .dataframe tbody tr th:only-of-type {\n",
              "        vertical-align: middle;\n",
              "    }\n",
              "\n",
              "    .dataframe tbody tr th {\n",
              "        vertical-align: top;\n",
              "    }\n",
              "\n",
              "    .dataframe thead th {\n",
              "        text-align: right;\n",
              "    }\n",
              "</style>\n",
              "<table border=\"1\" class=\"dataframe\">\n",
              "  <thead>\n",
              "    <tr style=\"text-align: right;\">\n",
              "      <th></th>\n",
              "      <th>date</th>\n",
              "      <th>value</th>\n",
              "    </tr>\n",
              "  </thead>\n",
              "  <tbody>\n",
              "    <tr>\n",
              "      <th>0</th>\n",
              "      <td>2020-11-08 00:17:06</td>\n",
              "      <td>-23.9</td>\n",
              "    </tr>\n",
              "    <tr>\n",
              "      <th>1</th>\n",
              "      <td>2020-11-08 00:37:04</td>\n",
              "      <td>-23.8</td>\n",
              "    </tr>\n",
              "    <tr>\n",
              "      <th>2</th>\n",
              "      <td>2020-11-08 00:56:20</td>\n",
              "      <td>-22.7</td>\n",
              "    </tr>\n",
              "    <tr>\n",
              "      <th>3</th>\n",
              "      <td>2020-11-08 01:17:05</td>\n",
              "      <td>-23.2</td>\n",
              "    </tr>\n",
              "    <tr>\n",
              "      <th>4</th>\n",
              "      <td>2020-11-08 01:37:03</td>\n",
              "      <td>-22.1</td>\n",
              "    </tr>\n",
              "    <tr>\n",
              "      <th>...</th>\n",
              "      <td>...</td>\n",
              "      <td>...</td>\n",
              "    </tr>\n",
              "    <tr>\n",
              "      <th>940</th>\n",
              "      <td>2020-11-21 03:37:03</td>\n",
              "      <td>-24.0</td>\n",
              "    </tr>\n",
              "    <tr>\n",
              "      <th>941</th>\n",
              "      <td>2020-11-21 03:56:23</td>\n",
              "      <td>-23.4</td>\n",
              "    </tr>\n",
              "    <tr>\n",
              "      <th>942</th>\n",
              "      <td>2020-11-21 04:16:49</td>\n",
              "      <td>-22.9</td>\n",
              "    </tr>\n",
              "    <tr>\n",
              "      <th>943</th>\n",
              "      <td>2020-11-21 04:36:44</td>\n",
              "      <td>-23.9</td>\n",
              "    </tr>\n",
              "    <tr>\n",
              "      <th>944</th>\n",
              "      <td>2020-11-21 04:56:23</td>\n",
              "      <td>-22.8</td>\n",
              "    </tr>\n",
              "  </tbody>\n",
              "</table>\n",
              "<p>945 rows × 2 columns</p>\n",
              "</div>"
            ],
            "text/plain": [
              "                   date  value\n",
              "0   2020-11-08 00:17:06  -23.9\n",
              "1   2020-11-08 00:37:04  -23.8\n",
              "2   2020-11-08 00:56:20  -22.7\n",
              "3   2020-11-08 01:17:05  -23.2\n",
              "4   2020-11-08 01:37:03  -22.1\n",
              "..                  ...    ...\n",
              "940 2020-11-21 03:37:03  -24.0\n",
              "941 2020-11-21 03:56:23  -23.4\n",
              "942 2020-11-21 04:16:49  -22.9\n",
              "943 2020-11-21 04:36:44  -23.9\n",
              "944 2020-11-21 04:56:23  -22.8\n",
              "\n",
              "[945 rows x 2 columns]"
            ]
          },
          "metadata": {
            "tags": []
          },
          "execution_count": 185
        }
      ]
    },
    {
      "cell_type": "markdown",
      "metadata": {
        "id": "QdWeg8krcwVE"
      },
      "source": [
        "# Draw Chart"
      ]
    },
    {
      "cell_type": "markdown",
      "metadata": {
        "id": "ZurDLmLdckQa"
      },
      "source": [
        "Draw the Chart using the Bokeh library (the reason why i used this library is because it is easily customizable and it supports the callback event, in wich though, you have to write the code in JS; there is a method to convert some data from JS data kernel to Python data kernel by using IPython, but because of google colab enviroment (which do not support the Jupyter Notebook enviroment very well), it is not possible.\n",
        "Also note that the Google Colab enviroment restrict a lot of interactivity possibilities (for example we are unable to create a bokeh server with the consequences of inability to use curdoc, that is important to add interactive feature to the program).\n",
        "(a solution is to install and use a local Jupyter Notebook))"
      ]
    },
    {
      "cell_type": "code",
      "metadata": {
        "id": "jByfhOKU01MO"
      },
      "source": [
        "from bokeh.plotting import figure, output_file, show\n",
        "from bokeh.io import output_notebook\n",
        "from bokeh.models import ColumnDataSource, CustomJS, Button\n",
        "from bokeh.models.tools import *\n",
        "from bokeh.models.widgets import DataTable, TableColumn, DateFormatter\n",
        "from bokeh.layouts import row, column\n",
        "\n",
        "\n",
        "# Configure the default output state to generate output in notebook cells when show() is called. \n",
        "output_notebook()"
      ],
      "execution_count": 186,
      "outputs": []
    },
    {
      "cell_type": "markdown",
      "metadata": {
        "id": "bQagyvbgsx-8"
      },
      "source": [
        "Create and setup the Main Plot whereas the various data will be displayed and interacted with"
      ]
    },
    {
      "cell_type": "code",
      "metadata": {
        "id": "F-ngYpkVVSZM"
      },
      "source": [
        "# ColumnDataSource is a special object, wich it is easy to share data between multiple plots and widgets\n",
        "# Also the same ColumnDataSource is used to drive multiple renderers, selections of the data source are also shared.\n",
        "main_source = ColumnDataSource(data)\n",
        "\n",
        "# select the desired tool that can be used with the chart\n",
        "chart_tools=\"pan, wheel_zoom, reset, hover, poly_select, box_select\"\n",
        "tooltip = HoverTool(\n",
        "    # specify wich type of info i want to show\n",
        "    tooltips=[\n",
        "        (\"index\", \"$index\"),\n",
        "        (\"Value\", \"@value{0.2f}\"),\n",
        "        (\"Date\", \"@date{%F}\"),\n",
        "    ],\n",
        "    # format the date in datetime type (the default is numerical format)\n",
        "    formatters={\n",
        "        '@date': 'datetime'\n",
        "    },\n",
        "    # display a tooltip whenever the cursor is vertically in line with a data point\n",
        "    mode='vline'\n",
        ")\n",
        "\n",
        "# add the title to the plot (order of the list: title, date, value) and also\n",
        "# prepare the chart with the selected options, and add the tooltip too while also activating wheel zoom tool by default\n",
        "main_chart = figure(title=data_list[0]+\" chart\", plot_width=1500, plot_height=400, y_axis_label='Values', x_axis_label='Date', x_axis_type='datetime',\n",
        "           tools=chart_tools, toolbar_location='above', tooltips=\"\", sizing_mode=\"scale_width\")\n",
        "main_chart.add_tools(tooltip)\n",
        "main_chart.toolbar.active_scroll = main_chart.select_one(WheelZoomTool)\n",
        "\n",
        "# draw in the chart both line and circle, so that the obtained effect is that of linked points\n",
        "symbol1 = main_chart.line(x='date', y='value', line_width=2, source=main_source)\n",
        "symbol2 = main_chart.circle(x='date', y='value', fill_color=\"white\", size=6, source=main_source)"
      ],
      "execution_count": 187,
      "outputs": []
    },
    {
      "cell_type": "markdown",
      "metadata": {
        "id": "b95J86wqtDZa"
      },
      "source": [
        "Create and setup the Table Plot that will display a log that keeps track of all actions (select) done by the user (while also adding extra info)"
      ]
    },
    {
      "cell_type": "code",
      "metadata": {
        "id": "Zaemh2dwVQnn"
      },
      "source": [
        "# create the source for table obj\n",
        "source_table = ColumnDataSource(data=dict(\n",
        "    Start_date=[],\n",
        "    End_date=[],\n",
        "    Max_value=[],\n",
        "    Average_value=[],\n",
        "    Area=[]\n",
        "))\n",
        "\n",
        "# specify the each column property of the dataTable obj\n",
        "columns = [\n",
        "    TableColumn(field=\"Start_date\", title=\"Start_date\", formatter=DateFormatter(format=\"%m/%d/%Y - %H:%M:%S\")),\n",
        "    TableColumn(field=\"End_date\", title=\"End_date\", formatter=DateFormatter(format=\"%m/%d/%Y - %H:%M:%S\")),\n",
        "    TableColumn(field=\"Max_value\", title=\"Max_value\"),\n",
        "    TableColumn(field=\"Average_value\", title=\"Average_value\"),\n",
        "    TableColumn(field=\"Area\", title=\"Area\")\n",
        "]\n",
        "\n",
        "data_table = DataTable(columns=columns, source=source_table, width=700, height=250)"
      ],
      "execution_count": 188,
      "outputs": []
    },
    {
      "cell_type": "markdown",
      "metadata": {
        "id": "4EWHzZfdtclm"
      },
      "source": [
        "Create and setup the Bar Plot that will display certain info (Max Value, Average Value, Area) whenever the user select some data from the main plot"
      ]
    },
    {
      "cell_type": "code",
      "metadata": {
        "id": "cPi1QhfaVOBV"
      },
      "source": [
        "# create the source for bar plot obj\n",
        "source_barplot = ColumnDataSource(data=dict(\n",
        "    name_bar=[\"Max Value\", \"Average Value\", \"Area\"],\n",
        "    value=[0, 0, 0]\n",
        "))\n",
        "bar_plot = figure(title=\"General Info\", y_range=source_barplot.data[\"name_bar\"], height=300, toolbar_location=None, tools=\"\")\n",
        "bar_plot.hbar(y=\"name_bar\", right=\"value\", source=source_barplot, width=20)\n",
        "bar_plot.ygrid.grid_line_color = None"
      ],
      "execution_count": 189,
      "outputs": []
    },
    {
      "cell_type": "markdown",
      "metadata": {
        "id": "aZpofamNts4G"
      },
      "source": [
        "Create and setup a button that has the job to save the log of the data table in a txt file"
      ]
    },
    {
      "cell_type": "code",
      "metadata": {
        "id": "e-0-VKo7U_MG"
      },
      "source": [
        "# create a variable that simulate the \\n function, it gets passed as parameter in the save button \n",
        "# because in the customJS enviroment, the kernel can't read corretly \\n because it execute its function diretly in the code\n",
        "# instead of passing it as value, so we just pass its value in a variable so that the kernel doesn't read \\n directly\n",
        "break_lines = \"\\r\\n\"\n",
        "save_button = Button(label=\"Save Data!\", button_type=\"success\", height=50)"
      ],
      "execution_count": 190,
      "outputs": []
    },
    {
      "cell_type": "markdown",
      "metadata": {
        "id": "wFTuAMVNuESJ"
      },
      "source": [
        "Specify how the Main Plot will behave when it gets the event that user has selected some of its data (we have to specify by writing in js code); it has to write down the selected data in the table data & bar plot for display purposes"
      ]
    },
    {
      "cell_type": "code",
      "metadata": {
        "id": "bok6o_sAU9W6"
      },
      "source": [
        "# Execute the JS code when the user select any data in the chart with the box select tool\n",
        "main_source.selected.js_on_change(\"indices\", CustomJS(args=dict(main_source=main_source, source_table=source_table, source_barplot=source_barplot), code=\"\"\"\n",
        "        // get the indices of the selectd data and sort them in ascending order\n",
        "        var inds = cb_obj.indices\n",
        "        inds.sort(function(a, b){return a-b})\n",
        "\n",
        "\n",
        "        // if the array is not empty (if it is empy, it means that no elements has been selected (occurs when the user select no element after having selected some element), \n",
        "        // with the consequence of not adding any element)\n",
        "        if (inds.length != 0){\n",
        "          // create various variable to store the data from the various sources (ColumnDataSource object)\n",
        "          var d1 = main_source.data\n",
        "          var d2 = source_table.data\n",
        "          var d3 = source_barplot.data\n",
        "\n",
        "\n",
        "          // get the first and end date (no need to any particular calculus because each data is already in order and unique)\n",
        "          var start_date = new Date(d1[\"date\"][inds[0]])\n",
        "          var end_date = new Date(d1[\"date\"][inds[inds.length-1]])\n",
        "\n",
        "\n",
        "          // get max value (and set it to max 2 decimals)\n",
        "          var max_value\n",
        "          for(var i = 0; i < inds.length; i++) {\n",
        "              if(i == 0) {\n",
        "                max_value = d1[\"value\"][inds[i]]\n",
        "              } else {\n",
        "                if(max_value < d1[\"value\"][inds[i]]){\n",
        "                  max_value = (d1[\"value\"][inds[i]]).toFixed(2)\n",
        "                }\n",
        "              }\n",
        "          }\n",
        "\n",
        "\n",
        "          // get average value (and set it to max 2 decimals)\n",
        "          var average_value = 0.00\n",
        "          for(var i = 0; i < inds.length; i++) {\n",
        "              average_value = average_value + d1[\"value\"][inds[i]]\n",
        "          }\n",
        "          average_value = (average_value/inds.length).toFixed(2)\n",
        "\n",
        "\n",
        "          // calculate the area of the trapezoid (the sum of the two bases (we count the value as minutes) * h (difference between the dates in minutess) / 2)\n",
        "          var area = 0.00\n",
        "          for(var i = 0; i < (inds.length-1); i++) {\n",
        "              var sum_bases = Math.abs(d1[\"value\"][inds[i]]) + Math.abs(d1[\"value\"][inds[i+1]])\n",
        "              console.log(Math.abs(d1[\"value\"][inds[i]]))\n",
        "              console.log(Math.abs(d1[\"value\"][inds[i+1]]))\n",
        "              console.log(sum_bases)\n",
        "              var height = ((new Date(d1[\"date\"][inds[i+1]])).getTime() - (new Date(d1[\"date\"][inds[i]])).getTime()) / 60000\n",
        "\n",
        "              area = area + (sum_bases * height) / 2\n",
        "          }\n",
        "          // set the number of decimals to 2 \n",
        "          area = parseFloat(area).toFixed(2);\n",
        "\n",
        "\n",
        "          // push all the data in the source of the data_table\n",
        "          d2[\"Start_date\"].push(start_date)\n",
        "          d2[\"End_date\"].push(end_date)\n",
        "          d2[\"Max_value\"].push(max_value)\n",
        "          d2[\"Average_value\"].push(average_value)\n",
        "          d2[\"Area\"].push(area)\n",
        "\n",
        "\n",
        "          // reset the values of the bar plot and update them (order of values is: Max Value, Average Value, Area)\n",
        "          d3[\"value\"] = []\n",
        "          d3[\"value\"].push(max_value)\n",
        "          d3[\"value\"].push(average_value)\n",
        "          d3[\"value\"].push(area)\n",
        "\n",
        "\n",
        "          // update the Table and Bar plot (this function notify that something has changed, and to immediately update the values and UI)\n",
        "          source_table.change.emit()\n",
        "          source_barplot.change.emit()\n",
        "        }\n",
        "        \"\"\"\n",
        "))"
      ],
      "execution_count": 191,
      "outputs": []
    },
    {
      "cell_type": "markdown",
      "metadata": {
        "id": "f_6QgRKLwRJw"
      },
      "source": [
        "Specify how the Save Button will behave when it gets pressed by the user (we have to specify by writing in js code); it has to get the data from the table data and write it down in a txt file and donwload it"
      ]
    },
    {
      "cell_type": "code",
      "metadata": {
        "id": "WgU3W1SRU7ra"
      },
      "source": [
        "save_button.js_on_click(CustomJS(args=dict(source_table=source_table, break_lines=break_lines), code=\"\"\"\n",
        "        // get the data from the source of the table\n",
        "        var data = source_table.data\n",
        "\n",
        "        // get the length of the list \n",
        "        var number_of_data = data[\"Start_date\"].length\n",
        "\n",
        "        // order the data\n",
        "        var start_date_list = data[\"Start_date\"]\n",
        "        var end_date_list = data[\"End_date\"]\n",
        "        var max_value_list = data[\"Max_value\"]\n",
        "        var average_value_list = data[\"Average_value\"]\n",
        "        var area_list = data[\"Area\"]\n",
        "\n",
        "        // fill the string with the data (while also modifying the data of date format of: hour,minute and seconds to 2 digit string)\n",
        "        var out = \"\";\n",
        "        for (var i = 0; i < number_of_data; i++) {\n",
        "          out += i+ \")\" +break_lines+ \n",
        "                 \"Start Date:    \"  +start_date_list[i]+ \"\" +break_lines+\n",
        "                 \"End Date:      \"  +end_date_list[i]+ \"\" +break_lines+\n",
        "                 \"Max Value:     \"  +max_value_list[i]+ \"\" +break_lines+\n",
        "                 \"Average Value: \"  +average_value_list[i]+ \"\" +break_lines+\n",
        "                 \"Area:          \"  +area_list[i]+ \"\" +break_lines+ \"\" +break_lines\n",
        "        }\n",
        "\n",
        "\n",
        "        // write the data in the file\n",
        "        var file = new Blob([out], {type: 'text/plain'});\n",
        "        var elem = window.document.createElement('a');\n",
        "        elem.href = window.URL.createObjectURL(file);\n",
        "        elem.download = 'selected_data.txt';\n",
        "        document.body.appendChild(elem);\n",
        "        elem.click();\n",
        "        document.body.removeChild(elem);\n",
        "    \"\"\"\n",
        "))"
      ],
      "execution_count": 192,
      "outputs": []
    },
    {
      "cell_type": "markdown",
      "metadata": {
        "id": "SYR1MSIbwyUG"
      },
      "source": [
        "And finally display all the various elements in a certain layout"
      ]
    },
    {
      "cell_type": "code",
      "metadata": {
        "colab": {
          "base_uri": "https://localhost:8080/",
          "height": 737
        },
        "id": "vDKFRKhCU5aT",
        "outputId": "45f241d6-7bc4-43fa-d403-09b87c0d3dd1"
      },
      "source": [
        "# visualize the chart in the output\n",
        "layout = column(main_chart, row(bar_plot,  column(data_table, save_button)))\n",
        "show(layout)"
      ],
      "execution_count": 193,
      "outputs": [
        {
          "output_type": "display_data",
          "data": {
            "application/javascript": [
              "\n",
              "(function(root) {\n",
              "  function now() {\n",
              "    return new Date();\n",
              "  }\n",
              "\n",
              "  var force = true;\n",
              "\n",
              "  if (typeof root._bokeh_onload_callbacks === \"undefined\" || force === true) {\n",
              "    root._bokeh_onload_callbacks = [];\n",
              "    root._bokeh_is_loading = undefined;\n",
              "  }\n",
              "\n",
              "  var JS_MIME_TYPE = 'application/javascript';\n",
              "  var HTML_MIME_TYPE = 'text/html';\n",
              "  var EXEC_MIME_TYPE = 'application/vnd.bokehjs_exec.v0+json';\n",
              "  var CLASS_NAME = 'output_bokeh rendered_html';\n",
              "\n",
              "  /**\n",
              "   * Render data to the DOM node\n",
              "   */\n",
              "  function render(props, node) {\n",
              "    var script = document.createElement(\"script\");\n",
              "    node.appendChild(script);\n",
              "  }\n",
              "\n",
              "  /**\n",
              "   * Handle when an output is cleared or removed\n",
              "   */\n",
              "  function handleClearOutput(event, handle) {\n",
              "    var cell = handle.cell;\n",
              "\n",
              "    var id = cell.output_area._bokeh_element_id;\n",
              "    var server_id = cell.output_area._bokeh_server_id;\n",
              "    // Clean up Bokeh references\n",
              "    if (id != null && id in Bokeh.index) {\n",
              "      Bokeh.index[id].model.document.clear();\n",
              "      delete Bokeh.index[id];\n",
              "    }\n",
              "\n",
              "    if (server_id !== undefined) {\n",
              "      // Clean up Bokeh references\n",
              "      var cmd = \"from bokeh.io.state import curstate; print(curstate().uuid_to_server['\" + server_id + \"'].get_sessions()[0].document.roots[0]._id)\";\n",
              "      cell.notebook.kernel.execute(cmd, {\n",
              "        iopub: {\n",
              "          output: function(msg) {\n",
              "            var id = msg.content.text.trim();\n",
              "            if (id in Bokeh.index) {\n",
              "              Bokeh.index[id].model.document.clear();\n",
              "              delete Bokeh.index[id];\n",
              "            }\n",
              "          }\n",
              "        }\n",
              "      });\n",
              "      // Destroy server and session\n",
              "      var cmd = \"import bokeh.io.notebook as ion; ion.destroy_server('\" + server_id + \"')\";\n",
              "      cell.notebook.kernel.execute(cmd);\n",
              "    }\n",
              "  }\n",
              "\n",
              "  /**\n",
              "   * Handle when a new output is added\n",
              "   */\n",
              "  function handleAddOutput(event, handle) {\n",
              "    var output_area = handle.output_area;\n",
              "    var output = handle.output;\n",
              "\n",
              "    // limit handleAddOutput to display_data with EXEC_MIME_TYPE content only\n",
              "    if ((output.output_type != \"display_data\") || (!output.data.hasOwnProperty(EXEC_MIME_TYPE))) {\n",
              "      return\n",
              "    }\n",
              "\n",
              "    var toinsert = output_area.element.find(\".\" + CLASS_NAME.split(' ')[0]);\n",
              "\n",
              "    if (output.metadata[EXEC_MIME_TYPE][\"id\"] !== undefined) {\n",
              "      toinsert[toinsert.length - 1].firstChild.textContent = output.data[JS_MIME_TYPE];\n",
              "      // store reference to embed id on output_area\n",
              "      output_area._bokeh_element_id = output.metadata[EXEC_MIME_TYPE][\"id\"];\n",
              "    }\n",
              "    if (output.metadata[EXEC_MIME_TYPE][\"server_id\"] !== undefined) {\n",
              "      var bk_div = document.createElement(\"div\");\n",
              "      bk_div.innerHTML = output.data[HTML_MIME_TYPE];\n",
              "      var script_attrs = bk_div.children[0].attributes;\n",
              "      for (var i = 0; i < script_attrs.length; i++) {\n",
              "        toinsert[toinsert.length - 1].firstChild.setAttribute(script_attrs[i].name, script_attrs[i].value);\n",
              "        toinsert[toinsert.length - 1].firstChild.textContent = bk_div.children[0].textContent\n",
              "      }\n",
              "      // store reference to server id on output_area\n",
              "      output_area._bokeh_server_id = output.metadata[EXEC_MIME_TYPE][\"server_id\"];\n",
              "    }\n",
              "  }\n",
              "\n",
              "  function register_renderer(events, OutputArea) {\n",
              "\n",
              "    function append_mime(data, metadata, element) {\n",
              "      // create a DOM node to render to\n",
              "      var toinsert = this.create_output_subarea(\n",
              "        metadata,\n",
              "        CLASS_NAME,\n",
              "        EXEC_MIME_TYPE\n",
              "      );\n",
              "      this.keyboard_manager.register_events(toinsert);\n",
              "      // Render to node\n",
              "      var props = {data: data, metadata: metadata[EXEC_MIME_TYPE]};\n",
              "      render(props, toinsert[toinsert.length - 1]);\n",
              "      element.append(toinsert);\n",
              "      return toinsert\n",
              "    }\n",
              "\n",
              "    /* Handle when an output is cleared or removed */\n",
              "    events.on('clear_output.CodeCell', handleClearOutput);\n",
              "    events.on('delete.Cell', handleClearOutput);\n",
              "\n",
              "    /* Handle when a new output is added */\n",
              "    events.on('output_added.OutputArea', handleAddOutput);\n",
              "\n",
              "    /**\n",
              "     * Register the mime type and append_mime function with output_area\n",
              "     */\n",
              "    OutputArea.prototype.register_mime_type(EXEC_MIME_TYPE, append_mime, {\n",
              "      /* Is output safe? */\n",
              "      safe: true,\n",
              "      /* Index of renderer in `output_area.display_order` */\n",
              "      index: 0\n",
              "    });\n",
              "  }\n",
              "\n",
              "  // register the mime type if in Jupyter Notebook environment and previously unregistered\n",
              "  if (root.Jupyter !== undefined) {\n",
              "    var events = require('base/js/events');\n",
              "    var OutputArea = require('notebook/js/outputarea').OutputArea;\n",
              "\n",
              "    if (OutputArea.prototype.mime_types().indexOf(EXEC_MIME_TYPE) == -1) {\n",
              "      register_renderer(events, OutputArea);\n",
              "    }\n",
              "  }\n",
              "\n",
              "  \n",
              "  if (typeof (root._bokeh_timeout) === \"undefined\" || force === true) {\n",
              "    root._bokeh_timeout = Date.now() + 5000;\n",
              "    root._bokeh_failed_load = false;\n",
              "  }\n",
              "\n",
              "  var NB_LOAD_WARNING = {'data': {'text/html':\n",
              "     \"<div style='background-color: #fdd'>\\n\"+\n",
              "     \"<p>\\n\"+\n",
              "     \"BokehJS does not appear to have successfully loaded. If loading BokehJS from CDN, this \\n\"+\n",
              "     \"may be due to a slow or bad network connection. Possible fixes:\\n\"+\n",
              "     \"</p>\\n\"+\n",
              "     \"<ul>\\n\"+\n",
              "     \"<li>re-rerun `output_notebook()` to attempt to load from CDN again, or</li>\\n\"+\n",
              "     \"<li>use INLINE resources instead, as so:</li>\\n\"+\n",
              "     \"</ul>\\n\"+\n",
              "     \"<code>\\n\"+\n",
              "     \"from bokeh.resources import INLINE\\n\"+\n",
              "     \"output_notebook(resources=INLINE)\\n\"+\n",
              "     \"</code>\\n\"+\n",
              "     \"</div>\"}};\n",
              "\n",
              "  function display_loaded() {\n",
              "    var el = document.getElementById(null);\n",
              "    if (el != null) {\n",
              "      el.textContent = \"BokehJS is loading...\";\n",
              "    }\n",
              "    if (root.Bokeh !== undefined) {\n",
              "      if (el != null) {\n",
              "        el.textContent = \"BokehJS \" + root.Bokeh.version + \" successfully loaded.\";\n",
              "      }\n",
              "    } else if (Date.now() < root._bokeh_timeout) {\n",
              "      setTimeout(display_loaded, 100)\n",
              "    }\n",
              "  }\n",
              "\n",
              "\n",
              "  function run_callbacks() {\n",
              "    try {\n",
              "      root._bokeh_onload_callbacks.forEach(function(callback) {\n",
              "        if (callback != null)\n",
              "          callback();\n",
              "      });\n",
              "    } finally {\n",
              "      delete root._bokeh_onload_callbacks\n",
              "    }\n",
              "    console.debug(\"Bokeh: all callbacks have finished\");\n",
              "  }\n",
              "\n",
              "  function load_libs(css_urls, js_urls, callback) {\n",
              "    if (css_urls == null) css_urls = [];\n",
              "    if (js_urls == null) js_urls = [];\n",
              "\n",
              "    root._bokeh_onload_callbacks.push(callback);\n",
              "    if (root._bokeh_is_loading > 0) {\n",
              "      console.debug(\"Bokeh: BokehJS is being loaded, scheduling callback at\", now());\n",
              "      return null;\n",
              "    }\n",
              "    if (js_urls == null || js_urls.length === 0) {\n",
              "      run_callbacks();\n",
              "      return null;\n",
              "    }\n",
              "    console.debug(\"Bokeh: BokehJS not loaded, scheduling load and callback at\", now());\n",
              "    root._bokeh_is_loading = css_urls.length + js_urls.length;\n",
              "\n",
              "    function on_load() {\n",
              "      root._bokeh_is_loading--;\n",
              "      if (root._bokeh_is_loading === 0) {\n",
              "        console.debug(\"Bokeh: all BokehJS libraries/stylesheets loaded\");\n",
              "        run_callbacks()\n",
              "      }\n",
              "    }\n",
              "\n",
              "    function on_error() {\n",
              "      console.error(\"failed to load \" + url);\n",
              "    }\n",
              "\n",
              "    for (var i = 0; i < css_urls.length; i++) {\n",
              "      var url = css_urls[i];\n",
              "      const element = document.createElement(\"link\");\n",
              "      element.onload = on_load;\n",
              "      element.onerror = on_error;\n",
              "      element.rel = \"stylesheet\";\n",
              "      element.type = \"text/css\";\n",
              "      element.href = url;\n",
              "      console.debug(\"Bokeh: injecting link tag for BokehJS stylesheet: \", url);\n",
              "      document.body.appendChild(element);\n",
              "    }\n",
              "\n",
              "    const hashes = {\"https://cdn.bokeh.org/bokeh/release/bokeh-2.1.1.min.js\": \"kLr4fYcqcSpbuI95brIH3vnnYCquzzSxHPU6XGQCIkQRGJwhg0StNbj1eegrHs12\", \"https://cdn.bokeh.org/bokeh/release/bokeh-widgets-2.1.1.min.js\": \"xIGPmVtaOm+z0BqfSOMn4lOR6ciex448GIKG4eE61LsAvmGj48XcMQZtKcE/UXZe\", \"https://cdn.bokeh.org/bokeh/release/bokeh-tables-2.1.1.min.js\": \"Dc9u1wF/0zApGIWoBbH77iWEHtdmkuYWG839Uzmv8y8yBLXebjO9ZnERsde5Ln/P\", \"https://cdn.bokeh.org/bokeh/release/bokeh-gl-2.1.1.min.js\": \"cT9JaBz7GiRXdENrJLZNSC6eMNF3nh3fa5fTF51Svp+ukxPdwcU5kGXGPBgDCa2j\"};\n",
              "\n",
              "    for (var i = 0; i < js_urls.length; i++) {\n",
              "      var url = js_urls[i];\n",
              "      var element = document.createElement('script');\n",
              "      element.onload = on_load;\n",
              "      element.onerror = on_error;\n",
              "      element.async = false;\n",
              "      element.src = url;\n",
              "      if (url in hashes) {\n",
              "        element.crossOrigin = \"anonymous\";\n",
              "        element.integrity = \"sha384-\" + hashes[url];\n",
              "      }\n",
              "      console.debug(\"Bokeh: injecting script tag for BokehJS library: \", url);\n",
              "      document.head.appendChild(element);\n",
              "    }\n",
              "  };\n",
              "\n",
              "  function inject_raw_css(css) {\n",
              "    const element = document.createElement(\"style\");\n",
              "    element.appendChild(document.createTextNode(css));\n",
              "    document.body.appendChild(element);\n",
              "  }\n",
              "\n",
              "  \n",
              "  var js_urls = [\"https://cdn.bokeh.org/bokeh/release/bokeh-2.1.1.min.js\", \"https://cdn.bokeh.org/bokeh/release/bokeh-widgets-2.1.1.min.js\", \"https://cdn.bokeh.org/bokeh/release/bokeh-tables-2.1.1.min.js\", \"https://cdn.bokeh.org/bokeh/release/bokeh-gl-2.1.1.min.js\"];\n",
              "  var css_urls = [];\n",
              "  \n",
              "\n",
              "  var inline_js = [\n",
              "    function(Bokeh) {\n",
              "      Bokeh.set_log_level(\"info\");\n",
              "    },\n",
              "    function(Bokeh) {\n",
              "    \n",
              "    \n",
              "    }\n",
              "  ];\n",
              "\n",
              "  function run_inline_js() {\n",
              "    \n",
              "    if (root.Bokeh !== undefined || force === true) {\n",
              "      \n",
              "    for (var i = 0; i < inline_js.length; i++) {\n",
              "      inline_js[i].call(root, root.Bokeh);\n",
              "    }\n",
              "    } else if (Date.now() < root._bokeh_timeout) {\n",
              "      setTimeout(run_inline_js, 100);\n",
              "    } else if (!root._bokeh_failed_load) {\n",
              "      console.log(\"Bokeh: BokehJS failed to load within specified timeout.\");\n",
              "      root._bokeh_failed_load = true;\n",
              "    } else if (force !== true) {\n",
              "      var cell = $(document.getElementById(null)).parents('.cell').data().cell;\n",
              "      cell.output_area.append_execute_result(NB_LOAD_WARNING)\n",
              "    }\n",
              "\n",
              "  }\n",
              "\n",
              "  if (root._bokeh_is_loading === 0) {\n",
              "    console.debug(\"Bokeh: BokehJS loaded, going straight to plotting\");\n",
              "    run_inline_js();\n",
              "  } else {\n",
              "    load_libs(css_urls, js_urls, function() {\n",
              "      console.debug(\"Bokeh: BokehJS plotting callback run at\", now());\n",
              "      run_inline_js();\n",
              "    });\n",
              "  }\n",
              "}(window));"
            ],
            "application/vnd.bokehjs_load.v0+json": "\n(function(root) {\n  function now() {\n    return new Date();\n  }\n\n  var force = true;\n\n  if (typeof root._bokeh_onload_callbacks === \"undefined\" || force === true) {\n    root._bokeh_onload_callbacks = [];\n    root._bokeh_is_loading = undefined;\n  }\n\n  \n\n  \n  if (typeof (root._bokeh_timeout) === \"undefined\" || force === true) {\n    root._bokeh_timeout = Date.now() + 5000;\n    root._bokeh_failed_load = false;\n  }\n\n  var NB_LOAD_WARNING = {'data': {'text/html':\n     \"<div style='background-color: #fdd'>\\n\"+\n     \"<p>\\n\"+\n     \"BokehJS does not appear to have successfully loaded. If loading BokehJS from CDN, this \\n\"+\n     \"may be due to a slow or bad network connection. Possible fixes:\\n\"+\n     \"</p>\\n\"+\n     \"<ul>\\n\"+\n     \"<li>re-rerun `output_notebook()` to attempt to load from CDN again, or</li>\\n\"+\n     \"<li>use INLINE resources instead, as so:</li>\\n\"+\n     \"</ul>\\n\"+\n     \"<code>\\n\"+\n     \"from bokeh.resources import INLINE\\n\"+\n     \"output_notebook(resources=INLINE)\\n\"+\n     \"</code>\\n\"+\n     \"</div>\"}};\n\n  function display_loaded() {\n    var el = document.getElementById(null);\n    if (el != null) {\n      el.textContent = \"BokehJS is loading...\";\n    }\n    if (root.Bokeh !== undefined) {\n      if (el != null) {\n        el.textContent = \"BokehJS \" + root.Bokeh.version + \" successfully loaded.\";\n      }\n    } else if (Date.now() < root._bokeh_timeout) {\n      setTimeout(display_loaded, 100)\n    }\n  }\n\n\n  function run_callbacks() {\n    try {\n      root._bokeh_onload_callbacks.forEach(function(callback) {\n        if (callback != null)\n          callback();\n      });\n    } finally {\n      delete root._bokeh_onload_callbacks\n    }\n    console.debug(\"Bokeh: all callbacks have finished\");\n  }\n\n  function load_libs(css_urls, js_urls, callback) {\n    if (css_urls == null) css_urls = [];\n    if (js_urls == null) js_urls = [];\n\n    root._bokeh_onload_callbacks.push(callback);\n    if (root._bokeh_is_loading > 0) {\n      console.debug(\"Bokeh: BokehJS is being loaded, scheduling callback at\", now());\n      return null;\n    }\n    if (js_urls == null || js_urls.length === 0) {\n      run_callbacks();\n      return null;\n    }\n    console.debug(\"Bokeh: BokehJS not loaded, scheduling load and callback at\", now());\n    root._bokeh_is_loading = css_urls.length + js_urls.length;\n\n    function on_load() {\n      root._bokeh_is_loading--;\n      if (root._bokeh_is_loading === 0) {\n        console.debug(\"Bokeh: all BokehJS libraries/stylesheets loaded\");\n        run_callbacks()\n      }\n    }\n\n    function on_error() {\n      console.error(\"failed to load \" + url);\n    }\n\n    for (var i = 0; i < css_urls.length; i++) {\n      var url = css_urls[i];\n      const element = document.createElement(\"link\");\n      element.onload = on_load;\n      element.onerror = on_error;\n      element.rel = \"stylesheet\";\n      element.type = \"text/css\";\n      element.href = url;\n      console.debug(\"Bokeh: injecting link tag for BokehJS stylesheet: \", url);\n      document.body.appendChild(element);\n    }\n\n    const hashes = {\"https://cdn.bokeh.org/bokeh/release/bokeh-2.1.1.min.js\": \"kLr4fYcqcSpbuI95brIH3vnnYCquzzSxHPU6XGQCIkQRGJwhg0StNbj1eegrHs12\", \"https://cdn.bokeh.org/bokeh/release/bokeh-widgets-2.1.1.min.js\": \"xIGPmVtaOm+z0BqfSOMn4lOR6ciex448GIKG4eE61LsAvmGj48XcMQZtKcE/UXZe\", \"https://cdn.bokeh.org/bokeh/release/bokeh-tables-2.1.1.min.js\": \"Dc9u1wF/0zApGIWoBbH77iWEHtdmkuYWG839Uzmv8y8yBLXebjO9ZnERsde5Ln/P\", \"https://cdn.bokeh.org/bokeh/release/bokeh-gl-2.1.1.min.js\": \"cT9JaBz7GiRXdENrJLZNSC6eMNF3nh3fa5fTF51Svp+ukxPdwcU5kGXGPBgDCa2j\"};\n\n    for (var i = 0; i < js_urls.length; i++) {\n      var url = js_urls[i];\n      var element = document.createElement('script');\n      element.onload = on_load;\n      element.onerror = on_error;\n      element.async = false;\n      element.src = url;\n      if (url in hashes) {\n        element.crossOrigin = \"anonymous\";\n        element.integrity = \"sha384-\" + hashes[url];\n      }\n      console.debug(\"Bokeh: injecting script tag for BokehJS library: \", url);\n      document.head.appendChild(element);\n    }\n  };\n\n  function inject_raw_css(css) {\n    const element = document.createElement(\"style\");\n    element.appendChild(document.createTextNode(css));\n    document.body.appendChild(element);\n  }\n\n  \n  var js_urls = [\"https://cdn.bokeh.org/bokeh/release/bokeh-2.1.1.min.js\", \"https://cdn.bokeh.org/bokeh/release/bokeh-widgets-2.1.1.min.js\", \"https://cdn.bokeh.org/bokeh/release/bokeh-tables-2.1.1.min.js\", \"https://cdn.bokeh.org/bokeh/release/bokeh-gl-2.1.1.min.js\"];\n  var css_urls = [];\n  \n\n  var inline_js = [\n    function(Bokeh) {\n      Bokeh.set_log_level(\"info\");\n    },\n    function(Bokeh) {\n    \n    \n    }\n  ];\n\n  function run_inline_js() {\n    \n    if (root.Bokeh !== undefined || force === true) {\n      \n    for (var i = 0; i < inline_js.length; i++) {\n      inline_js[i].call(root, root.Bokeh);\n    }\n    } else if (Date.now() < root._bokeh_timeout) {\n      setTimeout(run_inline_js, 100);\n    } else if (!root._bokeh_failed_load) {\n      console.log(\"Bokeh: BokehJS failed to load within specified timeout.\");\n      root._bokeh_failed_load = true;\n    } else if (force !== true) {\n      var cell = $(document.getElementById(null)).parents('.cell').data().cell;\n      cell.output_area.append_execute_result(NB_LOAD_WARNING)\n    }\n\n  }\n\n  if (root._bokeh_is_loading === 0) {\n    console.debug(\"Bokeh: BokehJS loaded, going straight to plotting\");\n    run_inline_js();\n  } else {\n    load_libs(css_urls, js_urls, function() {\n      console.debug(\"Bokeh: BokehJS plotting callback run at\", now());\n      run_inline_js();\n    });\n  }\n}(window));"
          },
          "metadata": {
            "tags": []
          }
        },
        {
          "output_type": "display_data",
          "data": {
            "text/html": [
              "\n",
              "\n",
              "\n",
              "\n",
              "\n",
              "\n",
              "  <div class=\"bk-root\" id=\"0527b4ba-5076-4b61-a0a0-796368ac9dc6\" data-root-id=\"2977\"></div>\n"
            ]
          },
          "metadata": {
            "tags": []
          }
        },
        {
          "output_type": "display_data",
          "data": {
            "application/javascript": [
              "(function(root) {\n",
              "  function embed_document(root) {\n",
              "    \n",
              "  var docs_json = {\"c9d5307a-fb7d-4c67-b24f-ec655b058c7e\":{\"roots\":{\"references\":[{\"attributes\":{\"children\":[{\"id\":\"2869\"},{\"id\":\"2976\"}]},\"id\":\"2977\",\"type\":\"Column\"},{\"attributes\":{\"columns\":[{\"id\":\"2936\"},{\"id\":\"2939\"},{\"id\":\"2941\"},{\"id\":\"2942\"},{\"id\":\"2943\"}],\"height\":250,\"source\":{\"id\":\"2934\"},\"view\":{\"id\":\"2945\"},\"width\":700},\"id\":\"2944\",\"type\":\"DataTable\"},{\"attributes\":{\"active_drag\":\"auto\",\"active_inspect\":\"auto\",\"active_multi\":null,\"active_scroll\":{\"id\":\"2889\"},\"active_tap\":\"auto\",\"tools\":[{\"id\":\"2888\"},{\"id\":\"2889\"},{\"id\":\"2890\"},{\"id\":\"2891\"},{\"id\":\"2892\"},{\"id\":\"2893\"},{\"id\":\"2868\"}]},\"id\":\"2896\",\"type\":\"Toolbar\"},{\"attributes\":{\"children\":[{\"id\":\"2944\"},{\"id\":\"2971\"}]},\"id\":\"2975\",\"type\":\"Column\"},{\"attributes\":{\"editor\":{\"id\":\"3160\"},\"field\":\"Start_date\",\"formatter\":{\"id\":\"2935\"},\"title\":\"Start_date\"},\"id\":\"2936\",\"type\":\"TableColumn\"},{\"attributes\":{\"days\":[1,4,7,10,13,16,19,22,25,28]},\"id\":\"2915\",\"type\":\"DaysTicker\"},{\"attributes\":{\"format\":\"%m/%d/%Y - %H:%M:%S\"},\"id\":\"2938\",\"type\":\"DateFormatter\"},{\"attributes\":{\"text\":\"General Info\"},\"id\":\"2948\",\"type\":\"Title\"},{\"attributes\":{\"js_property_callbacks\":{\"change:indices\":[{\"id\":\"2973\"}]}},\"id\":\"2972\",\"type\":\"Selection\"},{\"attributes\":{\"formatter\":{\"id\":\"3155\"},\"ticker\":{\"id\":\"2959\"}},\"id\":\"2958\",\"type\":\"LinearAxis\"},{\"attributes\":{\"source\":{\"id\":\"2934\"}},\"id\":\"2945\",\"type\":\"CDSView\"},{\"attributes\":{\"below\":[{\"id\":\"2958\"}],\"center\":[{\"id\":\"2961\"},{\"id\":\"2964\"}],\"left\":[{\"id\":\"2962\"}],\"plot_height\":300,\"renderers\":[{\"id\":\"2969\"}],\"title\":{\"id\":\"2948\"},\"toolbar\":{\"id\":\"2965\"},\"toolbar_location\":null,\"x_range\":{\"id\":\"2950\"},\"x_scale\":{\"id\":\"2954\"},\"y_range\":{\"id\":\"2952\"},\"y_scale\":{\"id\":\"2956\"}},\"id\":\"2947\",\"subtype\":\"Figure\",\"type\":\"Plot\"},{\"attributes\":{\"args\":{\"main_source\":{\"id\":\"2867\"},\"source_barplot\":{\"id\":\"2946\"},\"source_table\":{\"id\":\"2934\"}},\"code\":\"\\n        // get the indices of the selectd data and sort them in ascending order\\n        var inds = cb_obj.indices\\n        inds.sort(function(a, b){return a-b})\\n\\n\\n        // if the array is not empty (if it is empy, it means that no elements has been selected (occurs when the user select no element after having selected some element), \\n        // with the consequence of not adding any element)\\n        if (inds.length != 0){\\n          // create various variable to store the data from the various sources (ColumnDataSource object)\\n          var d1 = main_source.data\\n          var d2 = source_table.data\\n          var d3 = source_barplot.data\\n\\n\\n          // get the first and end date (no need to any particular calculus because each data is already in order and unique)\\n          var start_date = new Date(d1[\\\"date\\\"][inds[0]])\\n          var end_date = new Date(d1[\\\"date\\\"][inds[inds.length-1]])\\n\\n\\n          // get max value (and set it to max 2 decimals)\\n          var max_value\\n          for(var i = 0; i < inds.length; i++) {\\n              if(i == 0) {\\n                max_value = d1[\\\"value\\\"][inds[i]]\\n              } else {\\n                if(max_value < d1[\\\"value\\\"][inds[i]]){\\n                  max_value = (d1[\\\"value\\\"][inds[i]]).toFixed(2)\\n                }\\n              }\\n          }\\n\\n\\n          // get average value (and set it to max 2 decimals)\\n          var average_value = 0.00\\n          for(var i = 0; i < inds.length; i++) {\\n              average_value = average_value + d1[\\\"value\\\"][inds[i]]\\n          }\\n          average_value = (average_value/inds.length).toFixed(2)\\n\\n\\n          // calculate the area of the trapezoid (the sum of the two bases (we count the value as minutes) * h (difference between the dates in minutess) / 2)\\n          var area = 0.00\\n          for(var i = 0; i < (inds.length-1); i++) {\\n              var sum_bases = Math.abs(d1[\\\"value\\\"][inds[i]]) + Math.abs(d1[\\\"value\\\"][inds[i+1]])\\n              console.log(Math.abs(d1[\\\"value\\\"][inds[i]]))\\n              console.log(Math.abs(d1[\\\"value\\\"][inds[i+1]]))\\n              console.log(sum_bases)\\n              var height = ((new Date(d1[\\\"date\\\"][inds[i+1]])).getTime() - (new Date(d1[\\\"date\\\"][inds[i]])).getTime()) / 60000\\n\\n              area = area + (sum_bases * height) / 2\\n          }\\n          // set the number of decimals to 2 \\n          area = parseFloat(area).toFixed(2);\\n\\n\\n          // push all the data in the source of the data_table\\n          d2[\\\"Start_date\\\"].push(start_date)\\n          d2[\\\"End_date\\\"].push(end_date)\\n          d2[\\\"Max_value\\\"].push(max_value)\\n          d2[\\\"Average_value\\\"].push(average_value)\\n          d2[\\\"Area\\\"].push(area)\\n\\n\\n          // reset the values of the bar plot and update them (order of values is: Max Value, Avarage Value, Area)\\n          d3[\\\"value\\\"] = []\\n          d3[\\\"value\\\"].push(max_value)\\n          d3[\\\"value\\\"].push(average_value)\\n          d3[\\\"value\\\"].push(area)\\n\\n\\n          // update the Table and Bar plot (this function notify that something has changed, and to immediately update the values and UI)\\n          source_table.change.emit()\\n          source_barplot.change.emit()\\n        }\\n        \"},\"id\":\"2973\",\"type\":\"CustomJS\"},{\"attributes\":{\"editor\":{\"id\":\"3161\"},\"field\":\"End_date\",\"formatter\":{\"id\":\"2938\"},\"title\":\"End_date\"},\"id\":\"2939\",\"type\":\"TableColumn\"},{\"attributes\":{\"active_drag\":\"auto\",\"active_inspect\":\"auto\",\"active_multi\":null,\"active_scroll\":\"auto\",\"active_tap\":\"auto\"},\"id\":\"2965\",\"type\":\"Toolbar\"},{\"attributes\":{\"editor\":{\"id\":\"3164\"},\"field\":\"Average_value\",\"formatter\":{\"id\":\"3165\"},\"title\":\"Average_value\"},\"id\":\"2942\",\"type\":\"TableColumn\"},{\"attributes\":{},\"id\":\"3157\",\"type\":\"UnionRenderers\"},{\"attributes\":{\"data\":{\"Area\":[],\"Average_value\":[],\"End_date\":[],\"Max_value\":[],\"Start_date\":[]},\"selected\":{\"id\":\"3158\"},\"selection_policy\":{\"id\":\"3159\"}},\"id\":\"2934\",\"type\":\"ColumnDataSource\"},{\"attributes\":{\"days\":[1,15]},\"id\":\"2917\",\"type\":\"DaysTicker\"},{\"attributes\":{},\"id\":\"3137\",\"type\":\"UnionRenderers\"},{\"attributes\":{\"editor\":{\"id\":\"3162\"},\"field\":\"Max_value\",\"formatter\":{\"id\":\"3163\"},\"title\":\"Max_value\"},\"id\":\"2941\",\"type\":\"TableColumn\"},{\"attributes\":{\"formatter\":{\"id\":\"3153\"},\"ticker\":{\"id\":\"2963\"}},\"id\":\"2962\",\"type\":\"CategoricalAxis\"},{\"attributes\":{\"months\":[0,6]},\"id\":\"2921\",\"type\":\"MonthsTicker\"},{\"attributes\":{},\"id\":\"3153\",\"type\":\"CategoricalTickFormatter\"},{\"attributes\":{},\"id\":\"2959\",\"type\":\"BasicTicker\"},{\"attributes\":{},\"id\":\"2954\",\"type\":\"LinearScale\"},{\"attributes\":{\"editor\":{\"id\":\"3166\"},\"field\":\"Area\",\"formatter\":{\"id\":\"3167\"},\"title\":\"Area\"},\"id\":\"2943\",\"type\":\"TableColumn\"},{\"attributes\":{\"bottom_units\":\"screen\",\"fill_alpha\":0.5,\"fill_color\":\"lightgrey\",\"left_units\":\"screen\",\"level\":\"overlay\",\"line_alpha\":1.0,\"line_color\":\"black\",\"line_dash\":[4,4],\"line_width\":2,\"right_units\":\"screen\",\"top_units\":\"screen\"},\"id\":\"2894\",\"type\":\"BoxAnnotation\"},{\"attributes\":{},\"id\":\"2950\",\"type\":\"DataRange1d\"},{\"attributes\":{\"months\":[0,4,8]},\"id\":\"2920\",\"type\":\"MonthsTicker\"},{\"attributes\":{\"axis\":{\"id\":\"2962\"},\"dimension\":1,\"grid_line_color\":null,\"ticker\":null},\"id\":\"2964\",\"type\":\"Grid\"},{\"attributes\":{\"factors\":[\"Max Value\",\"Average Value\",\"Area\"]},\"id\":\"2952\",\"type\":\"FactorRange\"},{\"attributes\":{\"months\":[0,1,2,3,4,5,6,7,8,9,10,11]},\"id\":\"2918\",\"type\":\"MonthsTicker\"},{\"attributes\":{\"fill_color\":{\"value\":\"#1f77b4\"},\"line_color\":{\"value\":\"#1f77b4\"},\"line_width\":{\"value\":20},\"right\":{\"field\":\"value\"},\"y\":{\"field\":\"name_bar\"}},\"id\":\"2967\",\"type\":\"HBar\"},{\"attributes\":{\"days\":[1,2,3,4,5,6,7,8,9,10,11,12,13,14,15,16,17,18,19,20,21,22,23,24,25,26,27,28,29,30,31]},\"id\":\"2914\",\"type\":\"DaysTicker\"},{\"attributes\":{\"line_alpha\":0.1,\"line_color\":\"#1f77b4\",\"line_width\":2,\"x\":{\"field\":\"date\"},\"y\":{\"field\":\"value\"}},\"id\":\"2926\",\"type\":\"Line\"},{\"attributes\":{},\"id\":\"3159\",\"type\":\"UnionRenderers\"},{\"attributes\":{},\"id\":\"2956\",\"type\":\"CategoricalScale\"},{\"attributes\":{\"base\":60,\"mantissas\":[1,2,5,10,15,20,30],\"max_interval\":1800000.0,\"min_interval\":1000.0,\"num_minor_ticks\":0},\"id\":\"2912\",\"type\":\"AdaptiveTicker\"},{\"attributes\":{\"format\":\"%m/%d/%Y - %H:%M:%S\"},\"id\":\"2935\",\"type\":\"DateFormatter\"},{\"attributes\":{},\"id\":\"2922\",\"type\":\"YearsTicker\"},{\"attributes\":{\"children\":[{\"id\":\"2947\"},{\"id\":\"2975\"}]},\"id\":\"2976\",\"type\":\"Row\"},{\"attributes\":{\"fill_color\":{\"value\":\"white\"},\"line_color\":{\"value\":\"#1f77b4\"},\"size\":{\"units\":\"screen\",\"value\":6},\"x\":{\"field\":\"date\"},\"y\":{\"field\":\"value\"}},\"id\":\"2930\",\"type\":\"Circle\"},{\"attributes\":{},\"id\":\"2963\",\"type\":\"CategoricalTicker\"},{\"attributes\":{},\"id\":\"3158\",\"type\":\"Selection\"},{\"attributes\":{\"source\":{\"id\":\"2867\"}},\"id\":\"2928\",\"type\":\"CDSView\"},{\"attributes\":{},\"id\":\"3156\",\"type\":\"Selection\"},{\"attributes\":{\"axis\":{\"id\":\"2958\"},\"ticker\":null},\"id\":\"2961\",\"type\":\"Grid\"},{\"attributes\":{\"args\":{\"break_lines\":\"\\r\\n\",\"source_table\":{\"id\":\"2934\"}},\"code\":\"\\n        // get the data from the source of the table\\n        var data = source_table.data\\n\\n        // get the length of the list \\n        var number_of_data = data[\\\"Start_date\\\"].length\\n\\n        // order the data\\n        var start_date_list = data[\\\"Start_date\\\"]\\n        var end_date_list = data[\\\"End_date\\\"]\\n        var max_value_list = data[\\\"Max_value\\\"]\\n        var average_value_list = data[\\\"Average_value\\\"]\\n        var area_list = data[\\\"Area\\\"]\\n\\n        // fill the string with the data (while also modifying the data of date format of: hour,minute and seconds to 2 digit string)\\n        var out = \\\"\\\";\\n        for (var i = 0; i < number_of_data; i++) {\\n          out += i+ \\\")\\\" +break_lines+ \\n                 \\\"Start Date:    \\\"  +start_date_list[i]+ \\\"\\\" +break_lines+\\n                 \\\"End Date:      \\\"  +end_date_list[i]+ \\\"\\\" +break_lines+\\n                 \\\"Max Value:     \\\"  +max_value_list[i]+ \\\"\\\" +break_lines+\\n                 \\\"Avarage Value: \\\"  +average_value_list[i]+ \\\"\\\" +break_lines+\\n                 \\\"Area:          \\\"  +area_list[i]+ \\\"\\\" +break_lines+ \\\"\\\" +break_lines\\n        }\\n\\n\\n        // write the data in the file\\n        var file = new Blob([out], {type: 'text/plain'});\\n        var elem = window.document.createElement('a');\\n        elem.href = window.URL.createObjectURL(file);\\n        elem.download = 'selected_data.txt';\\n        document.body.appendChild(elem);\\n        elem.click();\\n        document.body.removeChild(elem);\\n    \"},\"id\":\"2974\",\"type\":\"CustomJS\"},{\"attributes\":{\"base\":24,\"mantissas\":[1,2,4,6,8,12],\"max_interval\":43200000.0,\"min_interval\":3600000.0,\"num_minor_ticks\":0},\"id\":\"2913\",\"type\":\"AdaptiveTicker\"},{\"attributes\":{\"months\":[0,2,4,6,8,10]},\"id\":\"2919\",\"type\":\"MonthsTicker\"},{\"attributes\":{},\"id\":\"3155\",\"type\":\"BasicTickFormatter\"},{\"attributes\":{\"data\":{\"name_bar\":[\"Max Value\",\"Average Value\",\"Area\"],\"value\":[0,0,0]},\"selected\":{\"id\":\"3156\"},\"selection_policy\":{\"id\":\"3157\"}},\"id\":\"2946\",\"type\":\"ColumnDataSource\"},{\"attributes\":{\"axis_label\":\"Date\",\"formatter\":{\"id\":\"2908\"},\"ticker\":{\"id\":\"2881\"}},\"id\":\"2880\",\"type\":\"DatetimeAxis\"},{\"attributes\":{},\"id\":\"3165\",\"type\":\"StringFormatter\"},{\"attributes\":{\"button_type\":\"success\",\"height\":50,\"icon\":null,\"js_event_callbacks\":{\"button_click\":[{\"id\":\"2974\"}]},\"label\":\"Save Data!\"},\"id\":\"2971\",\"type\":\"Button\"},{\"attributes\":{},\"id\":\"3163\",\"type\":\"StringFormatter\"},{\"attributes\":{},\"id\":\"2878\",\"type\":\"LinearScale\"},{\"attributes\":{},\"id\":\"3162\",\"type\":\"StringEditor\"},{\"attributes\":{\"callback\":null,\"formatters\":{\"@date\":\"datetime\"},\"mode\":\"vline\",\"tooltips\":[[\"index\",\"$index\"],[\"Value\",\"@value{0.2f}\"],[\"Date\",\"@date{%F}\"]]},\"id\":\"2868\",\"type\":\"HoverTool\"},{\"attributes\":{\"data_source\":{\"id\":\"2867\"},\"glyph\":{\"id\":\"2930\"},\"hover_glyph\":null,\"muted_glyph\":null,\"nonselection_glyph\":{\"id\":\"2931\"},\"selection_glyph\":null,\"view\":{\"id\":\"2933\"}},\"id\":\"2932\",\"type\":\"GlyphRenderer\"},{\"attributes\":{\"data_source\":{\"id\":\"2946\"},\"glyph\":{\"id\":\"2967\"},\"hover_glyph\":null,\"muted_glyph\":null,\"nonselection_glyph\":{\"id\":\"2968\"},\"selection_glyph\":null,\"view\":{\"id\":\"2970\"}},\"id\":\"2969\",\"type\":\"GlyphRenderer\"},{\"attributes\":{\"num_minor_ticks\":5,\"tickers\":[{\"id\":\"2911\"},{\"id\":\"2912\"},{\"id\":\"2913\"},{\"id\":\"2914\"},{\"id\":\"2915\"},{\"id\":\"2916\"},{\"id\":\"2917\"},{\"id\":\"2918\"},{\"id\":\"2919\"},{\"id\":\"2920\"},{\"id\":\"2921\"},{\"id\":\"2922\"}]},\"id\":\"2881\",\"type\":\"DatetimeTicker\"},{\"attributes\":{},\"id\":\"3164\",\"type\":\"StringEditor\"},{\"attributes\":{\"callback\":null,\"tooltips\":\"\"},\"id\":\"2891\",\"type\":\"HoverTool\"},{\"attributes\":{\"fill_alpha\":0.5,\"fill_color\":\"lightgrey\",\"level\":\"overlay\",\"line_alpha\":1.0,\"line_color\":\"black\",\"line_dash\":[4,4],\"line_width\":2,\"xs_units\":\"screen\",\"ys_units\":\"screen\"},\"id\":\"2895\",\"type\":\"PolyAnnotation\"},{\"attributes\":{\"days\":[1,8,15,22]},\"id\":\"2916\",\"type\":\"DaysTicker\"},{\"attributes\":{\"axis\":{\"id\":\"2884\"},\"dimension\":1,\"ticker\":null},\"id\":\"2887\",\"type\":\"Grid\"},{\"attributes\":{},\"id\":\"3166\",\"type\":\"StringEditor\"},{\"attributes\":{\"line_color\":\"#1f77b4\",\"line_width\":2,\"x\":{\"field\":\"date\"},\"y\":{\"field\":\"value\"}},\"id\":\"2925\",\"type\":\"Line\"},{\"attributes\":{\"overlay\":{\"id\":\"2895\"}},\"id\":\"2892\",\"type\":\"PolySelectTool\"},{\"attributes\":{\"below\":[{\"id\":\"2880\"}],\"center\":[{\"id\":\"2883\"},{\"id\":\"2887\"}],\"left\":[{\"id\":\"2884\"}],\"plot_height\":400,\"plot_width\":1500,\"renderers\":[{\"id\":\"2927\"},{\"id\":\"2932\"}],\"sizing_mode\":\"scale_width\",\"title\":{\"id\":\"2870\"},\"toolbar\":{\"id\":\"2896\"},\"toolbar_location\":\"above\",\"x_range\":{\"id\":\"2872\"},\"x_scale\":{\"id\":\"2876\"},\"y_range\":{\"id\":\"2874\"},\"y_scale\":{\"id\":\"2878\"}},\"id\":\"2869\",\"subtype\":\"Figure\",\"type\":\"Plot\"},{\"attributes\":{\"data_source\":{\"id\":\"2867\"},\"glyph\":{\"id\":\"2925\"},\"hover_glyph\":null,\"muted_glyph\":null,\"nonselection_glyph\":{\"id\":\"2926\"},\"selection_glyph\":null,\"view\":{\"id\":\"2928\"}},\"id\":\"2927\",\"type\":\"GlyphRenderer\"},{\"attributes\":{\"axis\":{\"id\":\"2880\"},\"ticker\":null},\"id\":\"2883\",\"type\":\"Grid\"},{\"attributes\":{\"source\":{\"id\":\"2946\"}},\"id\":\"2970\",\"type\":\"CDSView\"},{\"attributes\":{},\"id\":\"3167\",\"type\":\"StringFormatter\"},{\"attributes\":{\"source\":{\"id\":\"2867\"}},\"id\":\"2933\",\"type\":\"CDSView\"},{\"attributes\":{},\"id\":\"3161\",\"type\":\"StringEditor\"},{\"attributes\":{},\"id\":\"2889\",\"type\":\"WheelZoomTool\"},{\"attributes\":{},\"id\":\"2906\",\"type\":\"BasicTickFormatter\"},{\"attributes\":{\"overlay\":{\"id\":\"2894\"}},\"id\":\"2893\",\"type\":\"BoxSelectTool\"},{\"attributes\":{\"data\":{\"date\":{\"__ndarray__\":\"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\",\"dtype\":\"float64\",\"order\":\"little\",\"shape\":[945]},\"index\":[0,1,2,3,4,5,6,7,8,9,10,11,12,13,14,15,16,17,18,19,20,21,22,23,24,25,26,27,28,29,30,31,32,33,34,35,36,37,38,39,40,41,42,43,44,45,46,47,48,49,50,51,52,53,54,55,56,57,58,59,60,61,62,63,64,65,66,67,68,69,70,71,72,73,74,75,76,77,78,79,80,81,82,83,84,85,86,87,88,89,90,91,92,93,94,95,96,97,98,99,100,101,102,103,104,105,106,107,108,109,110,111,112,113,114,115,116,117,118,119,120,121,122,123,124,125,126,127,128,129,130,131,132,133,134,135,136,137,138,139,140,141,142,143,144,145,146,147,148,149,150,151,152,153,154,155,156,157,158,159,160,161,162,163,164,165,166,167,168,169,170,171,172,173,174,175,176,177,178,179,180,181,182,183,184,185,186,187,188,189,190,191,192,193,194,195,196,197,198,199,200,201,202,203,204,205,206,207,208,209,210,211,212,213,214,215,216,217,218,219,220,221,222,223,224,225,226,227,228,229,230,231,232,233,234,235,236,237,238,239,240,241,242,243,244,245,246,247,248,249,250,251,252,253,254,255,256,257,258,259,260,261,262,263,264,265,266,267,268,269,270,271,272,273,274,275,276,277,278,279,280,281,282,283,284,285,286,287,288,289,290,291,292,293,294,295,296,297,298,299,300,301,302,303,304,305,306,307,308,309,310,311,312,313,314,315,316,317,318,319,320,321,322,323,324,325,326,327,328,329,330,331,332,333,334,335,336,337,338,339,340,341,342,343,344,345,346,347,348,349,350,351,352,353,354,355,356,357,358,359,360,361,362,363,364,365,366,367,368,369,370,371,372,373,374,375,376,377,378,379,380,381,382,383,384,385,386,387,388,389,390,391,392,393,394,395,396,397,398,399,400,401,402,403,404,405,406,407,408,409,410,411,412,413,414,415,416,417,418,419,420,421,422,423,424,425,426,427,428,429,430,431,432,433,434,435,436,437,438,439,440,441,442,443,444,445,446,447,448,449,450,451,452,453,454,455,456,457,458,459,460,461,462,463,464,465,466,467,468,469,470,471,472,473,474,475,476,477,478,479,480,481,482,483,484,485,486,487,488,489,490,491,492,493,494,495,496,497,498,499,500,501,502,503,504,505,506,507,508,509,510,511,512,513,514,515,516,517,518,519,520,521,522,523,524,525,526,527,528,529,530,531,532,533,534,535,536,537,538,539,540,541,542,543,544,545,546,547,548,549,550,551,552,553,554,555,556,557,558,559,560,561,562,563,564,565,566,567,568,569,570,571,572,573,574,575,576,577,578,579,580,581,582,583,584,585,586,587,588,589,590,591,592,593,594,595,596,597,598,599,600,601,602,603,604,605,606,607,608,609,610,611,612,613,614,615,616,617,618,619,620,621,622,623,624,625,626,627,628,629,630,631,632,633,634,635,636,637,638,639,640,641,642,643,644,645,646,647,648,649,650,651,652,653,654,655,656,657,658,659,660,661,662,663,664,665,666,667,668,669,670,671,672,673,674,675,676,677,678,679,680,681,682,683,684,685,686,687,688,689,690,691,692,693,694,695,696,697,698,699,700,701,702,703,704,705,706,707,708,709,710,711,712,713,714,715,716,717,718,719,720,721,722,723,724,725,726,727,728,729,730,731,732,733,734,735,736,737,738,739,740,741,742,743,744,745,746,747,748,749,750,751,752,753,754,755,756,757,758,759,760,761,762,763,764,765,766,767,768,769,770,771,772,773,774,775,776,777,778,779,780,781,782,783,784,785,786,787,788,789,790,791,792,793,794,795,796,797,798,799,800,801,802,803,804,805,806,807,808,809,810,811,812,813,814,815,816,817,818,819,820,821,822,823,824,825,826,827,828,829,830,831,832,833,834,835,836,837,838,839,840,841,842,843,844,845,846,847,848,849,850,851,852,853,854,855,856,857,858,859,860,861,862,863,864,865,866,867,868,869,870,871,872,873,874,875,876,877,878,879,880,881,882,883,884,885,886,887,888,889,890,891,892,893,894,895,896,897,898,899,900,901,902,903,904,905,906,907,908,909,910,911,912,913,914,915,916,917,918,919,920,921,922,923,924,925,926,927,928,929,930,931,932,933,934,935,936,937,938,939,940,941,942,943,944],\"value\":{\"__ndarray__\":\"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\",\"dtype\":\"float64\",\"order\":\"little\",\"shape\":[945]}},\"selected\":{\"id\":\"2972\"},\"selection_policy\":{\"id\":\"3137\"}},\"id\":\"2867\",\"type\":\"ColumnDataSource\"},{\"attributes\":{},\"id\":\"2874\",\"type\":\"DataRange1d\"},{\"attributes\":{},\"id\":\"2890\",\"type\":\"ResetTool\"},{\"attributes\":{\"text\":\"Temp.Regolazione\\n chart\"},\"id\":\"2870\",\"type\":\"Title\"},{\"attributes\":{},\"id\":\"2876\",\"type\":\"LinearScale\"},{\"attributes\":{\"axis_label\":\"Values\",\"formatter\":{\"id\":\"2906\"},\"ticker\":{\"id\":\"2885\"}},\"id\":\"2884\",\"type\":\"LinearAxis\"},{\"attributes\":{},\"id\":\"2908\",\"type\":\"DatetimeTickFormatter\"},{\"attributes\":{},\"id\":\"2888\",\"type\":\"PanTool\"},{\"attributes\":{},\"id\":\"2872\",\"type\":\"DataRange1d\"},{\"attributes\":{\"mantissas\":[1,2,5],\"max_interval\":500.0,\"num_minor_ticks\":0},\"id\":\"2911\",\"type\":\"AdaptiveTicker\"},{\"attributes\":{\"fill_alpha\":{\"value\":0.1},\"fill_color\":{\"value\":\"#1f77b4\"},\"line_alpha\":{\"value\":0.1},\"line_color\":{\"value\":\"#1f77b4\"},\"line_width\":{\"value\":20},\"right\":{\"field\":\"value\"},\"y\":{\"field\":\"name_bar\"}},\"id\":\"2968\",\"type\":\"HBar\"},{\"attributes\":{},\"id\":\"3160\",\"type\":\"StringEditor\"},{\"attributes\":{\"fill_alpha\":{\"value\":0.1},\"fill_color\":{\"value\":\"white\"},\"line_alpha\":{\"value\":0.1},\"line_color\":{\"value\":\"#1f77b4\"},\"size\":{\"units\":\"screen\",\"value\":6},\"x\":{\"field\":\"date\"},\"y\":{\"field\":\"value\"}},\"id\":\"2931\",\"type\":\"Circle\"},{\"attributes\":{},\"id\":\"2885\",\"type\":\"BasicTicker\"}],\"root_ids\":[\"2977\"]},\"title\":\"Bokeh Application\",\"version\":\"2.1.1\"}};\n",
              "  var render_items = [{\"docid\":\"c9d5307a-fb7d-4c67-b24f-ec655b058c7e\",\"root_ids\":[\"2977\"],\"roots\":{\"2977\":\"0527b4ba-5076-4b61-a0a0-796368ac9dc6\"}}];\n",
              "  root.Bokeh.embed.embed_items_notebook(docs_json, render_items);\n",
              "\n",
              "  }\n",
              "  if (root.Bokeh !== undefined) {\n",
              "    embed_document(root);\n",
              "  } else {\n",
              "    var attempts = 0;\n",
              "    var timer = setInterval(function(root) {\n",
              "      if (root.Bokeh !== undefined) {\n",
              "        clearInterval(timer);\n",
              "        embed_document(root);\n",
              "      } else {\n",
              "        attempts++;\n",
              "        if (attempts > 100) {\n",
              "          clearInterval(timer);\n",
              "          console.log(\"Bokeh: ERROR: Unable to run BokehJS code because BokehJS library is missing\");\n",
              "        }\n",
              "      }\n",
              "    }, 10, root)\n",
              "  }\n",
              "})(window);"
            ],
            "application/vnd.bokehjs_exec.v0+json": ""
          },
          "metadata": {
            "tags": [],
            "application/vnd.bokehjs_exec.v0+json": {
              "id": "2977"
            }
          }
        }
      ]
    },
    {
      "cell_type": "markdown",
      "metadata": {
        "id": "LXiGzH3ubsQF"
      },
      "source": [
        "# Other Library used to visualize data\n"
      ]
    },
    {
      "cell_type": "markdown",
      "metadata": {
        "id": "ZzsMtRJibjHH"
      },
      "source": [
        "Test of creating the chart using various libraries...\n"
      ]
    },
    {
      "cell_type": "markdown",
      "metadata": {
        "id": "MZPO-mU3cKR-"
      },
      "source": [
        "Draw everything in a chart using the altair library (i haven't used this library since it doesn't have any support for return the data selected)"
      ]
    },
    {
      "cell_type": "code",
      "metadata": {
        "id": "AIgHNcl2pJOj",
        "colab": {
          "base_uri": "https://localhost:8080/",
          "height": 0
        },
        "outputId": "dc6232fb-4a71-4ab0-9ce8-ead84b19e42c"
      },
      "source": [
        "import altair as alt\n",
        "\n",
        "brush = alt.selection_interval(encodings=['x'])\n",
        "\n",
        "color = alt.condition(brush, alt.value('blue'), alt.value('lightgray'))\n",
        "\n",
        "chart = alt.Chart(data).mark_line(point={\n",
        "    \"filled\": False,\n",
        "    \"fill\": 'white'\n",
        "    }).encode(\n",
        "        y=alt.Y('value', sort=alt.EncodingSortField('value', order='descending')),\n",
        "        x='date',\n",
        "        color=color\n",
        ").add_selection(\n",
        "    brush\n",
        ")\n",
        "\n",
        "chart "
      ],
      "execution_count": 194,
      "outputs": [
        {
          "output_type": "execute_result",
          "data": {
            "text/plain": [
              "alt.Chart(...)"
            ],
            "text/html": [
              "\n",
              "<div id=\"altair-viz-36dab07f49ba485593c974b319364112\"></div>\n",
              "<script type=\"text/javascript\">\n",
              "  (function(spec, embedOpt){\n",
              "    let outputDiv = document.currentScript.previousElementSibling;\n",
              "    if (outputDiv.id !== \"altair-viz-36dab07f49ba485593c974b319364112\") {\n",
              "      outputDiv = document.getElementById(\"altair-viz-36dab07f49ba485593c974b319364112\");\n",
              "    }\n",
              "    const paths = {\n",
              "      \"vega\": \"https://cdn.jsdelivr.net/npm//vega@5?noext\",\n",
              "      \"vega-lib\": \"https://cdn.jsdelivr.net/npm//vega-lib?noext\",\n",
              "      \"vega-lite\": \"https://cdn.jsdelivr.net/npm//vega-lite@4.8.1?noext\",\n",
              "      \"vega-embed\": \"https://cdn.jsdelivr.net/npm//vega-embed@6?noext\",\n",
              "    };\n",
              "\n",
              "    function loadScript(lib) {\n",
              "      return new Promise(function(resolve, reject) {\n",
              "        var s = document.createElement('script');\n",
              "        s.src = paths[lib];\n",
              "        s.async = true;\n",
              "        s.onload = () => resolve(paths[lib]);\n",
              "        s.onerror = () => reject(`Error loading script: ${paths[lib]}`);\n",
              "        document.getElementsByTagName(\"head\")[0].appendChild(s);\n",
              "      });\n",
              "    }\n",
              "\n",
              "    function showError(err) {\n",
              "      outputDiv.innerHTML = `<div class=\"error\" style=\"color:red;\">${err}</div>`;\n",
              "      throw err;\n",
              "    }\n",
              "\n",
              "    function displayChart(vegaEmbed) {\n",
              "      vegaEmbed(outputDiv, spec, embedOpt)\n",
              "        .catch(err => showError(`Javascript Error: ${err.message}<br>This usually means there's a typo in your chart specification. See the javascript console for the full traceback.`));\n",
              "    }\n",
              "\n",
              "    if(typeof define === \"function\" && define.amd) {\n",
              "      requirejs.config({paths});\n",
              "      require([\"vega-embed\"], displayChart, err => showError(`Error loading script: ${err.message}`));\n",
              "    } else if (typeof vegaEmbed === \"function\") {\n",
              "      displayChart(vegaEmbed);\n",
              "    } else {\n",
              "      loadScript(\"vega\")\n",
              "        .then(() => loadScript(\"vega-lite\"))\n",
              "        .then(() => loadScript(\"vega-embed\"))\n",
              "        .catch(showError)\n",
              "        .then(() => displayChart(vegaEmbed));\n",
              "    }\n",
              "  })({\"config\": {\"view\": {\"continuousWidth\": 400, \"continuousHeight\": 300}}, \"data\": {\"name\": \"data-1da8e427823e0e29b3716040e031b675\"}, \"mark\": {\"type\": \"line\", \"point\": {\"filled\": false, \"fill\": \"white\"}}, \"encoding\": {\"color\": {\"condition\": {\"value\": \"blue\", \"selection\": \"selector002\"}, \"value\": \"lightgray\"}, \"x\": {\"type\": \"temporal\", \"field\": \"date\"}, \"y\": {\"type\": \"quantitative\", \"field\": \"value\", \"sort\": {\"field\": \"value\", \"order\": \"descending\"}}}, \"selection\": {\"selector002\": {\"type\": \"interval\", \"encodings\": [\"x\"]}}, \"$schema\": \"https://vega.github.io/schema/vega-lite/v4.8.1.json\", \"datasets\": {\"data-1da8e427823e0e29b3716040e031b675\": [{\"date\": \"2020-11-08T00:17:06\", \"value\": -23.9}, {\"date\": \"2020-11-08T00:37:04\", \"value\": -23.8}, {\"date\": \"2020-11-08T00:56:20\", \"value\": -22.7}, {\"date\": \"2020-11-08T01:17:05\", \"value\": -23.2}, {\"date\": \"2020-11-08T01:37:03\", \"value\": -22.1}, {\"date\": \"2020-11-08T01:56:21\", \"value\": -22.1}, {\"date\": \"2020-11-08T02:17:05\", \"value\": -6.7}, {\"date\": \"2020-11-08T02:37:02\", \"value\": -1.2}, {\"date\": \"2020-11-08T02:56:20\", \"value\": -20.8}, {\"date\": \"2020-11-08T03:17:05\", \"value\": -23.6}, {\"date\": \"2020-11-08T03:37:03\", \"value\": -24.3}, {\"date\": \"2020-11-08T03:56:25\", \"value\": -22.1}, {\"date\": \"2020-11-08T04:17:06\", \"value\": -22.2}, {\"date\": \"2020-11-08T04:37:04\", \"value\": -22.5}, {\"date\": \"2020-11-08T04:56:20\", \"value\": -24.2}, {\"date\": \"2020-11-08T05:17:06\", \"value\": -24.0}, {\"date\": \"2020-11-08T05:37:02\", \"value\": -22.9}, {\"date\": \"2020-11-08T05:56:20\", \"value\": -23.9}, {\"date\": \"2020-11-08T06:17:05\", \"value\": -22.7}, {\"date\": \"2020-11-08T06:36:59\", \"value\": -19.7}, {\"date\": \"2020-11-08T06:56:21\", \"value\": -15.7}, {\"date\": \"2020-11-08T07:17:05\", \"value\": -20.7}, {\"date\": \"2020-11-08T07:36:57\", \"value\": -24.0}, {\"date\": \"2020-11-08T07:56:22\", \"value\": -22.2}, {\"date\": \"2020-11-08T08:17:06\", \"value\": -24.2}, {\"date\": \"2020-11-08T08:37:02\", \"value\": -22.5}, {\"date\": \"2020-11-08T08:56:21\", \"value\": -23.6}, {\"date\": \"2020-11-08T09:16:46\", \"value\": -24.1}, {\"date\": \"2020-11-08T09:37:03\", \"value\": -22.3}, {\"date\": \"2020-11-08T09:56:22\", \"value\": -22.7}, {\"date\": \"2020-11-08T10:17:05\", \"value\": -23.6}, {\"date\": \"2020-11-08T10:37:01\", \"value\": -24.3}, {\"date\": \"2020-11-08T10:56:23\", \"value\": -23.9}, {\"date\": \"2020-11-08T11:17:05\", \"value\": -24.2}, {\"date\": \"2020-11-08T11:37:00\", \"value\": -24.0}, {\"date\": \"2020-11-08T11:56:22\", \"value\": -23.1}, {\"date\": \"2020-11-08T12:17:06\", \"value\": -22.2}, {\"date\": \"2020-11-08T12:37:02\", \"value\": -23.6}, {\"date\": \"2020-11-08T12:56:24\", \"value\": -24.1}, {\"date\": \"2020-11-08T13:17:05\", \"value\": -24.3}, {\"date\": \"2020-11-08T13:37:01\", \"value\": -24.1}, {\"date\": \"2020-11-08T13:56:21\", \"value\": -24.2}, {\"date\": \"2020-11-08T14:17:05\", \"value\": -23.0}, {\"date\": \"2020-11-08T14:36:50\", \"value\": -21.9}, {\"date\": \"2020-11-08T14:56:23\", \"value\": -23.0}, {\"date\": \"2020-11-08T15:17:05\", \"value\": -24.1}, {\"date\": \"2020-11-08T15:36:58\", \"value\": -23.5}, {\"date\": \"2020-11-08T15:56:22\", \"value\": -24.1}, {\"date\": \"2020-11-08T16:16:53\", \"value\": -23.8}, {\"date\": \"2020-11-08T16:37:02\", \"value\": -23.5}, {\"date\": \"2020-11-08T17:07:03\", \"value\": -23.5}, {\"date\": \"2020-11-08T17:16:57\", \"value\": -22.0}, {\"date\": \"2020-11-08T17:37:01\", \"value\": -23.7}, {\"date\": \"2020-11-08T17:56:20\", \"value\": -22.5}, {\"date\": \"2020-11-08T18:17:06\", \"value\": -23.3}, {\"date\": \"2020-11-08T18:37:03\", \"value\": -23.3}, {\"date\": \"2020-11-08T18:56:23\", \"value\": -24.2}, {\"date\": \"2020-11-08T19:17:05\", \"value\": -22.6}, {\"date\": \"2020-11-08T19:37:03\", \"value\": -23.7}, {\"date\": \"2020-11-08T19:56:23\", \"value\": -23.3}, {\"date\": \"2020-11-08T20:17:06\", \"value\": -23.3}, {\"date\": \"2020-11-08T20:37:01\", \"value\": -22.8}, {\"date\": \"2020-11-08T20:56:21\", \"value\": -23.9}, {\"date\": \"2020-11-08T21:17:06\", \"value\": -23.2}, {\"date\": \"2020-11-08T21:37:02\", \"value\": -23.7}, {\"date\": \"2020-11-08T21:56:24\", \"value\": -24.3}, {\"date\": \"2020-11-08T22:17:02\", \"value\": -22.8}, {\"date\": \"2020-11-08T22:37:02\", \"value\": -22.4}, {\"date\": \"2020-11-08T22:56:20\", \"value\": -22.7}, {\"date\": \"2020-11-08T23:17:02\", \"value\": -23.6}, {\"date\": \"2020-11-08T23:37:02\", \"value\": -24.6}, {\"date\": \"2020-11-08T23:56:25\", \"value\": -24.1}, {\"date\": \"2020-11-09T00:17:03\", \"value\": -24.4}, {\"date\": \"2020-11-09T00:37:01\", \"value\": -24.5}, {\"date\": \"2020-11-09T00:56:22\", \"value\": -24.1}, {\"date\": \"2020-11-09T01:17:05\", \"value\": -23.1}, {\"date\": \"2020-11-09T01:37:02\", \"value\": -21.9}, {\"date\": \"2020-11-09T01:56:21\", \"value\": -22.4}, {\"date\": \"2020-11-09T02:17:02\", \"value\": -6.1}, {\"date\": \"2020-11-09T02:37:02\", \"value\": -2.5}, {\"date\": \"2020-11-09T02:56:20\", \"value\": -20.8}, {\"date\": \"2020-11-09T03:17:05\", \"value\": -22.5}, {\"date\": \"2020-11-09T03:37:00\", \"value\": -23.1}, {\"date\": \"2020-11-09T03:56:24\", \"value\": -23.4}, {\"date\": \"2020-11-09T04:17:04\", \"value\": -23.7}, {\"date\": \"2020-11-09T04:37:02\", \"value\": -23.4}, {\"date\": \"2020-11-09T04:56:20\", \"value\": -24.4}, {\"date\": \"2020-11-09T05:17:05\", \"value\": -24.1}, {\"date\": \"2020-11-09T05:37:01\", \"value\": -23.0}, {\"date\": \"2020-11-09T05:56:22\", \"value\": -23.5}, {\"date\": \"2020-11-09T06:17:06\", \"value\": -23.4}, {\"date\": \"2020-11-09T06:37:03\", \"value\": -24.0}, {\"date\": \"2020-11-09T06:56:23\", \"value\": -23.2}, {\"date\": \"2020-11-09T07:17:06\", \"value\": -24.0}, {\"date\": \"2020-11-09T07:37:03\", \"value\": -23.0}, {\"date\": \"2020-11-09T07:56:22\", \"value\": -23.6}, {\"date\": \"2020-11-09T08:17:05\", \"value\": -22.4}, {\"date\": \"2020-11-09T08:37:02\", \"value\": -18.8}, {\"date\": \"2020-11-09T08:56:23\", \"value\": -15.5}, {\"date\": \"2020-11-09T09:17:01\", \"value\": -23.0}, {\"date\": \"2020-11-09T09:37:04\", \"value\": -23.3}, {\"date\": \"2020-11-09T09:56:20\", \"value\": -22.6}, {\"date\": \"2020-11-09T10:17:05\", \"value\": -22.6}, {\"date\": \"2020-11-09T10:37:01\", \"value\": -24.4}, {\"date\": \"2020-11-09T10:56:24\", \"value\": -23.7}, {\"date\": \"2020-11-09T11:17:04\", \"value\": -24.2}, {\"date\": \"2020-11-09T11:36:57\", \"value\": -24.2}, {\"date\": \"2020-11-09T11:56:23\", \"value\": -23.2}, {\"date\": \"2020-11-09T12:17:01\", \"value\": -22.2}, {\"date\": \"2020-11-09T12:37:01\", \"value\": -23.9}, {\"date\": \"2020-11-09T12:56:21\", \"value\": -23.9}, {\"date\": \"2020-11-09T13:17:06\", \"value\": -24.2}, {\"date\": \"2020-11-09T13:36:58\", \"value\": -24.2}, {\"date\": \"2020-11-09T13:56:23\", \"value\": -23.9}, {\"date\": \"2020-11-09T14:17:02\", \"value\": -24.2}, {\"date\": \"2020-11-09T14:36:39\", \"value\": -23.7}, {\"date\": \"2020-11-09T15:07:06\", \"value\": -22.8}, {\"date\": \"2020-11-09T15:57:30\", \"value\": -22.0}, {\"date\": \"2020-11-09T16:16:25\", \"value\": -22.2}, {\"date\": \"2020-11-09T16:36:14\", \"value\": -24.1}, {\"date\": \"2020-11-09T16:56:21\", \"value\": -23.5}, {\"date\": \"2020-11-09T17:16:43\", \"value\": -22.8}, {\"date\": \"2020-11-09T17:36:38\", \"value\": -23.5}, {\"date\": \"2020-11-09T17:56:23\", \"value\": -24.2}, {\"date\": \"2020-11-09T18:16:41\", \"value\": -23.4}, {\"date\": \"2020-11-09T18:36:58\", \"value\": -22.3}, {\"date\": \"2020-11-09T18:56:23\", \"value\": -24.2}, {\"date\": \"2020-11-09T19:16:47\", \"value\": -23.4}, {\"date\": \"2020-11-09T19:36:51\", \"value\": -23.0}, {\"date\": \"2020-11-09T19:56:21\", \"value\": -24.2}, {\"date\": \"2020-11-09T20:16:35\", \"value\": -22.6}, {\"date\": \"2020-11-09T20:36:43\", \"value\": -22.4}, {\"date\": \"2020-11-09T20:56:21\", \"value\": -22.5}, {\"date\": \"2020-11-09T21:16:40\", \"value\": -23.4}, {\"date\": \"2020-11-09T21:36:51\", \"value\": -24.0}, {\"date\": \"2020-11-09T21:56:22\", \"value\": -23.4}, {\"date\": \"2020-11-09T22:16:36\", \"value\": -22.5}, {\"date\": \"2020-11-09T22:36:29\", \"value\": -22.1}, {\"date\": \"2020-11-09T22:56:21\", \"value\": -22.0}, {\"date\": \"2020-11-09T23:16:54\", \"value\": -22.6}, {\"date\": \"2020-11-09T23:36:44\", \"value\": -22.5}, {\"date\": \"2020-11-09T23:56:22\", \"value\": -22.0}, {\"date\": \"2020-11-10T00:16:57\", \"value\": -22.1}, {\"date\": \"2020-11-10T00:36:29\", \"value\": -22.9}, {\"date\": \"2020-11-10T00:56:20\", \"value\": -23.7}, {\"date\": \"2020-11-10T01:17:00\", \"value\": -23.2}, {\"date\": \"2020-11-10T01:36:53\", \"value\": -22.0}, {\"date\": \"2020-11-10T01:56:22\", \"value\": -22.5}, {\"date\": \"2020-11-10T02:16:44\", \"value\": -6.6}, {\"date\": \"2020-11-10T02:36:37\", \"value\": -1.4}, {\"date\": \"2020-11-10T02:56:20\", \"value\": -20.3}, {\"date\": \"2020-11-10T03:17:05\", \"value\": -23.9}, {\"date\": \"2020-11-10T03:37:02\", \"value\": -24.1}, {\"date\": \"2020-11-10T03:56:21\", \"value\": -23.9}, {\"date\": \"2020-11-10T04:16:48\", \"value\": -21.9}, {\"date\": \"2020-11-10T04:36:23\", \"value\": -22.6}, {\"date\": \"2020-11-10T04:56:21\", \"value\": -23.4}, {\"date\": \"2020-11-10T05:16:56\", \"value\": -22.2}, {\"date\": \"2020-11-10T05:36:48\", \"value\": -23.9}, {\"date\": \"2020-11-10T05:56:21\", \"value\": -24.1}, {\"date\": \"2020-11-10T06:16:31\", \"value\": -23.1}, {\"date\": \"2020-11-10T06:36:28\", \"value\": -21.9}, {\"date\": \"2020-11-10T06:56:23\", \"value\": -22.9}, {\"date\": \"2020-11-10T07:16:46\", \"value\": -23.9}, {\"date\": \"2020-11-10T07:36:50\", \"value\": -23.9}, {\"date\": \"2020-11-10T07:56:24\", \"value\": -23.4}, {\"date\": \"2020-11-10T08:16:36\", \"value\": -23.3}, {\"date\": \"2020-11-10T08:36:42\", \"value\": -22.5}, {\"date\": \"2020-11-10T08:56:23\", \"value\": -22.2}, {\"date\": \"2020-11-10T09:16:35\", \"value\": -24.0}, {\"date\": \"2020-11-10T09:36:30\", \"value\": -23.9}, {\"date\": \"2020-11-10T09:56:22\", \"value\": -23.5}, {\"date\": \"2020-11-10T10:16:19\", \"value\": -23.0}, {\"date\": \"2020-11-10T10:36:51\", \"value\": -7.5}, {\"date\": \"2020-11-10T10:56:23\", \"value\": 0.9}, {\"date\": \"2020-11-10T11:16:46\", \"value\": -21.9}, {\"date\": \"2020-11-10T11:36:48\", \"value\": -23.6}, {\"date\": \"2020-11-10T11:56:22\", \"value\": -21.9}, {\"date\": \"2020-11-10T12:16:52\", \"value\": -24.1}, {\"date\": \"2020-11-10T12:36:43\", \"value\": -22.4}, {\"date\": \"2020-11-10T12:56:24\", \"value\": -24.1}, {\"date\": \"2020-11-10T13:16:40\", \"value\": -23.6}, {\"date\": \"2020-11-10T13:36:41\", \"value\": -23.9}, {\"date\": \"2020-11-10T13:56:23\", \"value\": -24.2}, {\"date\": \"2020-11-10T14:16:28\", \"value\": -22.8}, {\"date\": \"2020-11-10T14:36:29\", \"value\": -22.6}, {\"date\": \"2020-11-10T14:56:22\", \"value\": -24.1}, {\"date\": \"2020-11-10T15:16:30\", \"value\": -24.0}, {\"date\": \"2020-11-10T15:36:50\", \"value\": -23.9}, {\"date\": \"2020-11-10T15:56:23\", \"value\": -22.4}, {\"date\": \"2020-11-10T16:16:41\", \"value\": -24.1}, {\"date\": \"2020-11-10T16:36:42\", \"value\": -23.4}, {\"date\": \"2020-11-10T16:56:23\", \"value\": -22.0}, {\"date\": \"2020-11-10T17:16:23\", \"value\": -24.0}, {\"date\": \"2020-11-10T17:36:24\", \"value\": -22.4}, {\"date\": \"2020-11-10T17:56:23\", \"value\": -23.2}, {\"date\": \"2020-11-10T18:16:40\", \"value\": -23.7}, {\"date\": \"2020-11-10T18:36:45\", \"value\": -23.1}, {\"date\": \"2020-11-10T18:56:22\", \"value\": -24.1}, {\"date\": \"2020-11-10T19:16:39\", \"value\": -22.6}, {\"date\": \"2020-11-10T19:36:29\", \"value\": -21.9}, {\"date\": \"2020-11-10T19:56:22\", \"value\": -23.2}, {\"date\": \"2020-11-10T20:16:55\", \"value\": -23.1}, {\"date\": \"2020-11-10T20:36:53\", \"value\": -23.1}, {\"date\": \"2020-11-10T20:56:23\", \"value\": -22.9}, {\"date\": \"2020-11-10T21:16:33\", \"value\": -23.5}, {\"date\": \"2020-11-10T21:36:35\", \"value\": -24.3}, {\"date\": \"2020-11-10T21:56:20\", \"value\": -24.0}, {\"date\": \"2020-11-10T22:17:05\", \"value\": -22.4}, {\"date\": \"2020-11-10T22:36:44\", \"value\": -22.4}, {\"date\": \"2020-11-10T22:56:21\", \"value\": -22.4}, {\"date\": \"2020-11-10T23:16:53\", \"value\": -23.0}, {\"date\": \"2020-11-10T23:36:49\", \"value\": -23.6}, {\"date\": \"2020-11-10T23:56:21\", \"value\": -24.6}, {\"date\": \"2020-11-11T00:16:49\", \"value\": -24.4}, {\"date\": \"2020-11-11T00:37:04\", \"value\": -24.0}, {\"date\": \"2020-11-11T00:56:21\", \"value\": -23.9}, {\"date\": \"2020-11-11T01:16:43\", \"value\": -22.2}, {\"date\": \"2020-11-11T01:37:01\", \"value\": -22.4}, {\"date\": \"2020-11-11T01:56:20\", \"value\": -23.0}, {\"date\": \"2020-11-11T02:17:04\", \"value\": -6.8}, {\"date\": \"2020-11-11T02:36:45\", \"value\": -2.7}, {\"date\": \"2020-11-11T02:56:20\", \"value\": -21.1}, {\"date\": \"2020-11-11T03:16:57\", \"value\": -23.9}, {\"date\": \"2020-11-11T03:36:38\", \"value\": -23.7}, {\"date\": \"2020-11-11T03:56:19\", \"value\": -24.0}, {\"date\": \"2020-11-11T04:16:45\", \"value\": -24.0}, {\"date\": \"2020-11-11T04:36:50\", \"value\": -23.1}, {\"date\": \"2020-11-11T04:56:20\", \"value\": -24.2}, {\"date\": \"2020-11-11T05:16:34\", \"value\": -22.9}, {\"date\": \"2020-11-11T05:36:32\", \"value\": -24.1}, {\"date\": \"2020-11-11T05:56:21\", \"value\": -23.0}, {\"date\": \"2020-11-11T06:17:02\", \"value\": -23.4}, {\"date\": \"2020-11-11T06:36:50\", \"value\": -24.2}, {\"date\": \"2020-11-11T06:56:21\", \"value\": -23.5}, {\"date\": \"2020-11-11T07:16:55\", \"value\": -23.4}, {\"date\": \"2020-11-11T07:36:26\", \"value\": -24.1}, {\"date\": \"2020-11-11T07:56:22\", \"value\": -23.5}, {\"date\": \"2020-11-11T08:16:54\", \"value\": -22.0}, {\"date\": \"2020-11-11T08:36:44\", \"value\": -23.8}, {\"date\": \"2020-11-11T08:56:22\", \"value\": -23.6}, {\"date\": \"2020-11-11T09:16:52\", \"value\": -22.4}, {\"date\": \"2020-11-11T09:36:26\", \"value\": -24.0}, {\"date\": \"2020-11-11T09:56:22\", \"value\": -23.3}, {\"date\": \"2020-11-11T10:16:58\", \"value\": -23.2}, {\"date\": \"2020-11-11T10:36:51\", \"value\": -23.8}, {\"date\": \"2020-11-11T10:56:23\", \"value\": -23.2}, {\"date\": \"2020-11-11T11:16:36\", \"value\": -23.0}, {\"date\": \"2020-11-11T11:36:39\", \"value\": -23.9}, {\"date\": \"2020-11-11T11:56:24\", \"value\": -23.3}, {\"date\": \"2020-11-11T12:16:42\", \"value\": -16.1}, {\"date\": \"2020-11-11T12:36:58\", \"value\": 5.3}, {\"date\": \"2020-11-11T12:56:22\", \"value\": 0.6}, {\"date\": \"2020-11-11T13:17:02\", \"value\": -22.5}, {\"date\": \"2020-11-11T13:36:37\", \"value\": -23.5}, {\"date\": \"2020-11-11T13:56:21\", \"value\": -22.3}, {\"date\": \"2020-11-11T14:16:54\", \"value\": -24.1}, {\"date\": \"2020-11-11T14:36:56\", \"value\": -23.7}, {\"date\": \"2020-11-11T14:56:21\", \"value\": -22.1}, {\"date\": \"2020-11-11T15:16:38\", \"value\": -23.1}, {\"date\": \"2020-11-11T15:36:32\", \"value\": -23.0}, {\"date\": \"2020-11-11T15:56:23\", \"value\": -24.0}, {\"date\": \"2020-11-11T16:16:48\", \"value\": -23.3}, {\"date\": \"2020-11-11T16:36:55\", \"value\": -23.5}, {\"date\": \"2020-11-11T16:56:23\", \"value\": -23.4}, {\"date\": \"2020-11-11T17:17:00\", \"value\": -24.0}, {\"date\": \"2020-11-11T17:36:29\", \"value\": -22.9}, {\"date\": \"2020-11-11T17:56:21\", \"value\": -23.9}, {\"date\": \"2020-11-11T18:16:17\", \"value\": -22.4}, {\"date\": \"2020-11-11T18:36:53\", \"value\": -23.7}, {\"date\": \"2020-11-11T18:56:23\", \"value\": -22.6}, {\"date\": \"2020-11-11T19:16:46\", \"value\": -23.6}, {\"date\": \"2020-11-11T19:36:41\", \"value\": -23.6}, {\"date\": \"2020-11-11T19:56:21\", \"value\": -23.5}, {\"date\": \"2020-11-11T20:16:30\", \"value\": -23.2}, {\"date\": \"2020-11-11T20:36:28\", \"value\": -23.0}, {\"date\": \"2020-11-11T20:56:21\", \"value\": -23.1}, {\"date\": \"2020-11-11T21:16:26\", \"value\": -24.2}, {\"date\": \"2020-11-11T21:36:48\", \"value\": -23.9}, {\"date\": \"2020-11-11T21:56:22\", \"value\": -24.0}, {\"date\": \"2020-11-11T22:16:40\", \"value\": -22.1}, {\"date\": \"2020-11-11T22:36:47\", \"value\": -22.6}, {\"date\": \"2020-11-11T22:56:22\", \"value\": -23.9}, {\"date\": \"2020-11-11T23:16:56\", \"value\": -24.5}, {\"date\": \"2020-11-11T23:36:42\", \"value\": -24.3}, {\"date\": \"2020-11-11T23:56:20\", \"value\": -23.3}, {\"date\": \"2020-11-12T00:16:40\", \"value\": -22.9}, {\"date\": \"2020-11-12T00:36:38\", \"value\": -22.9}, {\"date\": \"2020-11-12T00:56:22\", \"value\": -22.7}, {\"date\": \"2020-11-12T01:16:26\", \"value\": -22.9}, {\"date\": \"2020-11-12T01:36:48\", \"value\": -22.3}, {\"date\": \"2020-11-12T01:56:21\", \"value\": -22.4}, {\"date\": \"2020-11-12T02:16:29\", \"value\": -5.6}, {\"date\": \"2020-11-12T02:36:34\", \"value\": -2.0}, {\"date\": \"2020-11-12T02:56:20\", \"value\": -21.9}, {\"date\": \"2020-11-12T03:16:49\", \"value\": -23.6}, {\"date\": \"2020-11-12T03:36:41\", \"value\": -22.3}, {\"date\": \"2020-11-12T03:56:23\", \"value\": -24.3}, {\"date\": \"2020-11-12T04:16:38\", \"value\": -23.6}, {\"date\": \"2020-11-12T04:36:31\", \"value\": -24.1}, {\"date\": \"2020-11-12T04:56:21\", \"value\": -23.2}, {\"date\": \"2020-11-12T05:16:25\", \"value\": -23.4}, {\"date\": \"2020-11-12T05:36:21\", \"value\": -24.1}, {\"date\": \"2020-11-12T05:56:21\", \"value\": -23.0}, {\"date\": \"2020-11-12T06:16:55\", \"value\": -24.1}, {\"date\": \"2020-11-12T06:36:56\", \"value\": -22.0}, {\"date\": \"2020-11-12T06:56:21\", \"value\": -23.8}, {\"date\": \"2020-11-12T07:16:43\", \"value\": -23.3}, {\"date\": \"2020-11-12T07:36:36\", \"value\": -23.6}, {\"date\": \"2020-11-12T07:56:22\", \"value\": -23.0}, {\"date\": \"2020-11-12T08:16:39\", \"value\": -23.3}, {\"date\": \"2020-11-12T08:36:28\", \"value\": -23.8}, {\"date\": \"2020-11-12T08:56:22\", \"value\": -23.4}, {\"date\": \"2020-11-12T09:16:45\", \"value\": -24.1}, {\"date\": \"2020-11-12T09:36:35\", \"value\": -21.9}, {\"date\": \"2020-11-12T09:56:24\", \"value\": -23.9}, {\"date\": \"2020-11-12T10:16:37\", \"value\": -22.4}, {\"date\": \"2020-11-12T10:36:54\", \"value\": -24.0}, {\"date\": \"2020-11-12T10:56:22\", \"value\": -23.3}, {\"date\": \"2020-11-12T11:17:00\", \"value\": -24.1}, {\"date\": \"2020-11-12T11:36:23\", \"value\": -24.2}, {\"date\": \"2020-11-12T11:56:21\", \"value\": -22.8}, {\"date\": \"2020-11-12T12:16:19\", \"value\": -22.1}, {\"date\": \"2020-11-12T12:36:31\", \"value\": -24.4}, {\"date\": \"2020-11-12T12:56:23\", \"value\": -23.2}, {\"date\": \"2020-11-12T13:16:51\", \"value\": -21.9}, {\"date\": \"2020-11-12T13:37:02\", \"value\": -22.3}, {\"date\": \"2020-11-12T13:56:23\", \"value\": -23.1}, {\"date\": \"2020-11-12T14:17:04\", \"value\": -2.1}, {\"date\": \"2020-11-12T14:36:45\", \"value\": 8.5}, {\"date\": \"2020-11-12T14:56:20\", \"value\": -10.8}, {\"date\": \"2020-11-12T15:16:27\", \"value\": -23.3}, {\"date\": \"2020-11-12T15:36:22\", \"value\": -22.5}, {\"date\": \"2020-11-12T16:06:22\", \"value\": -22.6}, {\"date\": \"2020-11-12T16:16:53\", \"value\": -22.1}, {\"date\": \"2020-11-12T16:36:56\", \"value\": -23.3}, {\"date\": \"2020-11-12T16:56:21\", \"value\": -23.4}, {\"date\": \"2020-11-12T17:16:40\", \"value\": -22.3}, {\"date\": \"2020-11-12T17:36:38\", \"value\": -23.4}, {\"date\": \"2020-11-12T17:56:22\", \"value\": -22.8}, {\"date\": \"2020-11-12T18:16:28\", \"value\": -22.6}, {\"date\": \"2020-11-12T18:36:36\", \"value\": -23.5}, {\"date\": \"2020-11-12T18:56:20\", \"value\": -22.3}, {\"date\": \"2020-11-12T19:16:36\", \"value\": -23.9}, {\"date\": \"2020-11-12T19:36:59\", \"value\": -23.6}, {\"date\": \"2020-11-12T19:56:20\", \"value\": -23.3}, {\"date\": \"2020-11-12T20:16:47\", \"value\": -22.0}, {\"date\": \"2020-11-12T20:36:46\", \"value\": -23.3}, {\"date\": \"2020-11-12T20:56:24\", \"value\": -24.4}, {\"date\": \"2020-11-12T21:16:41\", \"value\": -23.8}, {\"date\": \"2020-11-12T21:36:40\", \"value\": -22.9}, {\"date\": \"2020-11-12T21:56:20\", \"value\": -22.6}, {\"date\": \"2020-11-12T22:16:24\", \"value\": -24.4}, {\"date\": \"2020-11-12T22:36:51\", \"value\": -22.7}, {\"date\": \"2020-11-12T22:56:20\", \"value\": -22.1}, {\"date\": \"2020-11-12T23:17:04\", \"value\": -24.1}, {\"date\": \"2020-11-12T23:36:50\", \"value\": -23.9}, {\"date\": \"2020-11-12T23:56:21\", \"value\": -23.0}, {\"date\": \"2020-11-13T00:16:47\", \"value\": -23.4}, {\"date\": \"2020-11-13T00:37:06\", \"value\": -23.5}, {\"date\": \"2020-11-13T00:56:20\", \"value\": -22.0}, {\"date\": \"2020-11-13T01:16:43\", \"value\": -24.3}, {\"date\": \"2020-11-13T01:36:37\", \"value\": -23.2}, {\"date\": \"2020-11-13T01:56:21\", \"value\": -22.8}, {\"date\": \"2020-11-13T02:16:56\", \"value\": -5.8}, {\"date\": \"2020-11-13T02:36:59\", \"value\": -1.3}, {\"date\": \"2020-11-13T02:56:20\", \"value\": -21.1}, {\"date\": \"2020-11-13T03:16:30\", \"value\": -21.9}, {\"date\": \"2020-11-13T03:36:50\", \"value\": -23.7}, {\"date\": \"2020-11-13T03:56:20\", \"value\": -24.0}, {\"date\": \"2020-11-13T04:16:53\", \"value\": -23.5}, {\"date\": \"2020-11-13T04:36:47\", \"value\": -22.3}, {\"date\": \"2020-11-13T04:56:20\", \"value\": -24.2}, {\"date\": \"2020-11-13T05:16:28\", \"value\": -23.1}, {\"date\": \"2020-11-13T05:36:25\", \"value\": -22.3}, {\"date\": \"2020-11-13T05:56:20\", \"value\": -23.5}, {\"date\": \"2020-11-13T06:16:54\", \"value\": -23.1}, {\"date\": \"2020-11-13T06:36:49\", \"value\": -23.5}, {\"date\": \"2020-11-13T06:56:20\", \"value\": -24.0}, {\"date\": \"2020-11-13T07:17:05\", \"value\": -21.9}, {\"date\": \"2020-11-13T07:36:37\", \"value\": -24.0}, {\"date\": \"2020-11-13T07:56:23\", \"value\": -22.6}, {\"date\": \"2020-11-13T08:16:33\", \"value\": -24.2}, {\"date\": \"2020-11-13T08:36:51\", \"value\": -22.5}, {\"date\": \"2020-11-13T08:56:21\", \"value\": -24.2}, {\"date\": \"2020-11-13T09:16:54\", \"value\": -23.3}, {\"date\": \"2020-11-13T09:36:53\", \"value\": -24.0}, {\"date\": \"2020-11-13T09:56:23\", \"value\": -22.7}, {\"date\": \"2020-11-13T10:16:58\", \"value\": -23.6}, {\"date\": \"2020-11-13T10:37:05\", \"value\": -23.0}, {\"date\": \"2020-11-13T10:56:22\", \"value\": -22.0}, {\"date\": \"2020-11-13T11:16:50\", \"value\": -22.4}, {\"date\": \"2020-11-13T11:36:44\", \"value\": -22.2}, {\"date\": \"2020-11-13T11:56:21\", \"value\": -24.4}, {\"date\": \"2020-11-13T12:16:58\", \"value\": -22.8}, {\"date\": \"2020-11-13T12:37:02\", \"value\": -22.7}, {\"date\": \"2020-11-13T12:56:23\", \"value\": -24.4}, {\"date\": \"2020-11-13T13:16:58\", \"value\": -22.9}, {\"date\": \"2020-11-13T13:37:01\", \"value\": -23.9}, {\"date\": \"2020-11-13T13:56:24\", \"value\": -24.5}, {\"date\": \"2020-11-13T14:16:55\", \"value\": -23.6}, {\"date\": \"2020-11-13T14:36:47\", \"value\": -22.0}, {\"date\": \"2020-11-13T15:16:59\", \"value\": -22.9}, {\"date\": \"2020-11-13T15:36:41\", \"value\": -22.4}, {\"date\": \"2020-11-13T15:56:23\", \"value\": -23.9}, {\"date\": \"2020-11-13T16:16:33\", \"value\": -22.8}, {\"date\": \"2020-11-13T16:36:53\", \"value\": -17.9}, {\"date\": \"2020-11-13T16:56:24\", \"value\": -23.7}, {\"date\": \"2020-11-13T17:16:39\", \"value\": -23.8}, {\"date\": \"2020-11-13T17:36:46\", \"value\": -22.2}, {\"date\": \"2020-11-13T17:56:20\", \"value\": -24.1}, {\"date\": \"2020-11-13T18:16:41\", \"value\": -22.2}, {\"date\": \"2020-11-13T18:36:44\", \"value\": -23.4}, {\"date\": \"2020-11-13T18:56:21\", \"value\": -24.0}, {\"date\": \"2020-11-13T19:16:47\", \"value\": -22.9}, {\"date\": \"2020-11-13T19:36:41\", \"value\": -23.9}, {\"date\": \"2020-11-13T19:56:23\", \"value\": -23.8}, {\"date\": \"2020-11-13T20:16:38\", \"value\": -23.4}, {\"date\": \"2020-11-13T20:36:26\", \"value\": -22.4}, {\"date\": \"2020-11-13T20:56:22\", \"value\": -23.1}, {\"date\": \"2020-11-13T21:16:32\", \"value\": -22.8}, {\"date\": \"2020-11-13T21:36:51\", \"value\": -22.9}, {\"date\": \"2020-11-13T21:56:21\", \"value\": -23.7}, {\"date\": \"2020-11-13T22:16:49\", \"value\": -23.3}, {\"date\": \"2020-11-13T22:36:43\", \"value\": -22.0}, {\"date\": \"2020-11-13T22:56:23\", \"value\": -24.3}, {\"date\": \"2020-11-13T23:16:54\", \"value\": -24.0}, {\"date\": \"2020-11-13T23:36:26\", \"value\": -23.4}, {\"date\": \"2020-11-13T23:56:21\", \"value\": -22.2}, {\"date\": \"2020-11-14T00:16:21\", \"value\": -23.1}, {\"date\": \"2020-11-14T00:36:40\", \"value\": -24.4}, {\"date\": \"2020-11-14T00:56:20\", \"value\": -24.2}, {\"date\": \"2020-11-14T01:16:56\", \"value\": -24.3}, {\"date\": \"2020-11-14T01:36:45\", \"value\": -23.9}, {\"date\": \"2020-11-14T01:56:23\", \"value\": -23.2}, {\"date\": \"2020-11-14T02:16:41\", \"value\": -6.4}, {\"date\": \"2020-11-14T02:36:37\", \"value\": -2.4}, {\"date\": \"2020-11-14T02:56:21\", \"value\": -21.2}, {\"date\": \"2020-11-14T03:16:36\", \"value\": -23.0}, {\"date\": \"2020-11-14T03:36:49\", \"value\": -23.2}, {\"date\": \"2020-11-14T03:56:21\", \"value\": -22.5}, {\"date\": \"2020-11-14T04:16:50\", \"value\": -24.0}, {\"date\": \"2020-11-14T04:36:43\", \"value\": -23.1}, {\"date\": \"2020-11-14T04:56:22\", \"value\": -24.2}, {\"date\": \"2020-11-14T05:16:32\", \"value\": -23.6}, {\"date\": \"2020-11-14T05:36:43\", \"value\": -23.1}, {\"date\": \"2020-11-14T05:56:20\", \"value\": -23.5}, {\"date\": \"2020-11-14T06:17:02\", \"value\": -24.0}, {\"date\": \"2020-11-14T06:36:55\", \"value\": -23.4}, {\"date\": \"2020-11-14T06:56:21\", \"value\": -23.0}, {\"date\": \"2020-11-14T07:16:42\", \"value\": -23.6}, {\"date\": \"2020-11-14T07:36:42\", \"value\": -22.3}, {\"date\": \"2020-11-14T07:56:25\", \"value\": -24.1}, {\"date\": \"2020-11-14T08:16:32\", \"value\": -23.4}, {\"date\": \"2020-11-14T08:36:37\", \"value\": -22.1}, {\"date\": \"2020-11-14T08:56:23\", \"value\": -23.9}, {\"date\": \"2020-11-14T09:16:24\", \"value\": -23.7}, {\"date\": \"2020-11-14T09:36:57\", \"value\": -23.1}, {\"date\": \"2020-11-14T09:56:23\", \"value\": -24.1}, {\"date\": \"2020-11-14T10:16:46\", \"value\": -22.9}, {\"date\": \"2020-11-14T10:36:51\", \"value\": -22.9}, {\"date\": \"2020-11-14T10:56:23\", \"value\": -23.6}, {\"date\": \"2020-11-14T11:16:41\", \"value\": -23.3}, {\"date\": \"2020-11-14T11:37:02\", \"value\": -23.4}, {\"date\": \"2020-11-14T11:56:24\", \"value\": -23.5}, {\"date\": \"2020-11-14T12:16:28\", \"value\": -22.7}, {\"date\": \"2020-11-14T12:37:00\", \"value\": -23.4}, {\"date\": \"2020-11-14T12:56:22\", \"value\": -23.8}, {\"date\": \"2020-11-14T13:16:45\", \"value\": -24.4}, {\"date\": \"2020-11-14T13:36:53\", \"value\": -23.9}, {\"date\": \"2020-11-14T13:56:22\", \"value\": -22.3}, {\"date\": \"2020-11-14T14:16:49\", \"value\": -22.8}, {\"date\": \"2020-11-14T14:36:40\", \"value\": -24.1}, {\"date\": \"2020-11-14T15:16:28\", \"value\": -24.4}, {\"date\": \"2020-11-14T15:36:17\", \"value\": -24.1}, {\"date\": \"2020-11-14T15:56:24\", \"value\": -22.5}, {\"date\": \"2020-11-14T16:16:22\", \"value\": -23.5}, {\"date\": \"2020-11-14T16:36:49\", \"value\": -24.1}, {\"date\": \"2020-11-14T16:56:21\", \"value\": -21.9}, {\"date\": \"2020-11-14T17:16:54\", \"value\": -24.1}, {\"date\": \"2020-11-14T17:36:42\", \"value\": -22.4}, {\"date\": \"2020-11-14T17:56:24\", \"value\": -23.4}, {\"date\": \"2020-11-14T18:16:31\", \"value\": -23.2}, {\"date\": \"2020-11-14T18:36:34\", \"value\": -17.0}, {\"date\": \"2020-11-14T18:56:25\", \"value\": -23.7}, {\"date\": \"2020-11-14T19:16:27\", \"value\": -24.2}, {\"date\": \"2020-11-14T19:36:25\", \"value\": -23.6}, {\"date\": \"2020-11-14T19:56:20\", \"value\": -22.3}, {\"date\": \"2020-11-14T20:17:02\", \"value\": -24.1}, {\"date\": \"2020-11-14T20:36:47\", \"value\": -23.4}, {\"date\": \"2020-11-14T20:56:20\", \"value\": -23.2}, {\"date\": \"2020-11-14T21:16:59\", \"value\": -23.7}, {\"date\": \"2020-11-14T21:36:34\", \"value\": -24.3}, {\"date\": \"2020-11-14T21:56:27\", \"value\": -23.7}, {\"date\": \"2020-11-14T22:16:34\", \"value\": -22.5}, {\"date\": \"2020-11-14T22:36:44\", \"value\": -22.4}, {\"date\": \"2020-11-14T22:56:21\", \"value\": -23.8}, {\"date\": \"2020-11-14T23:16:58\", \"value\": -24.5}, {\"date\": \"2020-11-14T23:36:57\", \"value\": -24.4}, {\"date\": \"2020-11-14T23:56:21\", \"value\": -24.6}, {\"date\": \"2020-11-15T00:16:46\", \"value\": -22.0}, {\"date\": \"2020-11-15T00:36:31\", \"value\": -22.5}, {\"date\": \"2020-11-15T00:56:22\", \"value\": -22.4}, {\"date\": \"2020-11-15T01:16:24\", \"value\": -23.3}, {\"date\": \"2020-11-15T01:36:51\", \"value\": -23.5}, {\"date\": \"2020-11-15T01:56:20\", \"value\": -24.1}, {\"date\": \"2020-11-15T02:16:58\", \"value\": -6.4}, {\"date\": \"2020-11-15T02:36:48\", \"value\": -1.9}, {\"date\": \"2020-11-15T02:56:21\", \"value\": -20.9}, {\"date\": \"2020-11-15T03:16:30\", \"value\": -24.1}, {\"date\": \"2020-11-15T03:36:32\", \"value\": -23.7}, {\"date\": \"2020-11-15T03:56:25\", \"value\": -24.2}, {\"date\": \"2020-11-15T04:16:58\", \"value\": -23.0}, {\"date\": \"2020-11-15T04:36:58\", \"value\": -23.7}, {\"date\": \"2020-11-15T04:56:20\", \"value\": -24.3}, {\"date\": \"2020-11-15T05:16:54\", \"value\": -22.4}, {\"date\": \"2020-11-15T05:36:53\", \"value\": -23.7}, {\"date\": \"2020-11-15T05:56:20\", \"value\": -24.0}, {\"date\": \"2020-11-15T06:16:39\", \"value\": -24.0}, {\"date\": \"2020-11-15T06:36:32\", \"value\": -24.0}, {\"date\": \"2020-11-15T06:56:21\", \"value\": -23.8}, {\"date\": \"2020-11-15T07:16:38\", \"value\": -22.8}, {\"date\": \"2020-11-15T07:36:29\", \"value\": -23.7}, {\"date\": \"2020-11-15T07:56:22\", \"value\": -23.7}, {\"date\": \"2020-11-15T08:16:49\", \"value\": -23.0}, {\"date\": \"2020-11-15T08:36:52\", \"value\": -23.7}, {\"date\": \"2020-11-15T08:56:23\", \"value\": -23.4}, {\"date\": \"2020-11-15T09:16:52\", \"value\": -22.8}, {\"date\": \"2020-11-15T09:36:50\", \"value\": -24.0}, {\"date\": \"2020-11-15T09:56:23\", \"value\": -23.7}, {\"date\": \"2020-11-15T10:16:57\", \"value\": -23.3}, {\"date\": \"2020-11-15T10:36:37\", \"value\": -22.8}, {\"date\": \"2020-11-15T10:56:20\", \"value\": -23.2}, {\"date\": \"2020-11-15T11:16:44\", \"value\": -23.0}, {\"date\": \"2020-11-15T11:36:21\", \"value\": -23.9}, {\"date\": \"2020-11-15T11:56:22\", \"value\": -24.4}, {\"date\": \"2020-11-15T12:16:54\", \"value\": -23.1}, {\"date\": \"2020-11-15T12:36:49\", \"value\": -22.7}, {\"date\": \"2020-11-15T12:56:21\", \"value\": -23.4}, {\"date\": \"2020-11-15T13:16:43\", \"value\": -23.9}, {\"date\": \"2020-11-15T13:36:42\", \"value\": -23.3}, {\"date\": \"2020-11-15T13:56:20\", \"value\": -23.0}, {\"date\": \"2020-11-15T14:16:35\", \"value\": -23.2}, {\"date\": \"2020-11-15T14:36:20\", \"value\": -22.4}, {\"date\": \"2020-11-15T14:56:26\", \"value\": -22.5}, {\"date\": \"2020-11-15T15:16:44\", \"value\": -22.1}, {\"date\": \"2020-11-15T15:46:32\", \"value\": -24.1}, {\"date\": \"2020-11-15T15:56:21\", \"value\": -22.5}, {\"date\": \"2020-11-15T16:16:45\", \"value\": -23.8}, {\"date\": \"2020-11-15T16:36:48\", \"value\": -24.0}, {\"date\": \"2020-11-15T16:56:21\", \"value\": -23.5}, {\"date\": \"2020-11-15T17:16:36\", \"value\": -22.9}, {\"date\": \"2020-11-15T17:36:36\", \"value\": -23.1}, {\"date\": \"2020-11-15T17:56:23\", \"value\": -23.3}, {\"date\": \"2020-11-15T18:16:27\", \"value\": -24.1}, {\"date\": \"2020-11-15T18:36:32\", \"value\": -23.8}, {\"date\": \"2020-11-15T18:56:20\", \"value\": -23.8}, {\"date\": \"2020-11-15T19:16:42\", \"value\": -23.0}, {\"date\": \"2020-11-15T19:36:43\", \"value\": -22.9}, {\"date\": \"2020-11-15T19:56:20\", \"value\": -21.0}, {\"date\": \"2020-11-15T20:16:21\", \"value\": -0.2}, {\"date\": \"2020-11-15T20:36:49\", \"value\": -4.7}, {\"date\": \"2020-11-15T20:56:23\", \"value\": -23.5}, {\"date\": \"2020-11-15T21:16:47\", \"value\": -22.7}, {\"date\": \"2020-11-15T21:36:54\", \"value\": -23.7}, {\"date\": \"2020-11-15T21:56:24\", \"value\": -22.2}, {\"date\": \"2020-11-15T22:16:50\", \"value\": -23.9}, {\"date\": \"2020-11-15T22:36:35\", \"value\": -23.4}, {\"date\": \"2020-11-15T22:56:21\", \"value\": -24.0}, {\"date\": \"2020-11-15T23:16:46\", \"value\": -22.4}, {\"date\": \"2020-11-15T23:36:36\", \"value\": -24.5}, {\"date\": \"2020-11-15T23:56:21\", \"value\": -22.4}, {\"date\": \"2020-11-16T00:16:49\", \"value\": -23.7}, {\"date\": \"2020-11-16T00:36:47\", \"value\": -23.5}, {\"date\": \"2020-11-16T00:56:20\", \"value\": -23.1}, {\"date\": \"2020-11-16T01:17:04\", \"value\": -23.9}, {\"date\": \"2020-11-16T01:36:48\", \"value\": -24.3}, {\"date\": \"2020-11-16T01:56:26\", \"value\": -23.1}, {\"date\": \"2020-11-16T02:16:47\", \"value\": -5.7}, {\"date\": \"2020-11-16T02:36:49\", \"value\": -2.0}, {\"date\": \"2020-11-16T02:56:21\", \"value\": -21.2}, {\"date\": \"2020-11-16T03:16:47\", \"value\": -23.3}, {\"date\": \"2020-11-16T03:36:48\", \"value\": -24.1}, {\"date\": \"2020-11-16T03:56:21\", \"value\": -23.0}, {\"date\": \"2020-11-16T04:16:49\", \"value\": -24.0}, {\"date\": \"2020-11-16T04:36:51\", \"value\": -23.2}, {\"date\": \"2020-11-16T04:56:21\", \"value\": -23.7}, {\"date\": \"2020-11-16T05:16:48\", \"value\": -22.3}, {\"date\": \"2020-11-16T05:36:52\", \"value\": -24.1}, {\"date\": \"2020-11-16T05:56:22\", \"value\": -22.8}, {\"date\": \"2020-11-16T06:17:02\", \"value\": -22.7}, {\"date\": \"2020-11-16T06:36:56\", \"value\": -21.9}, {\"date\": \"2020-11-16T06:56:21\", \"value\": -23.9}, {\"date\": \"2020-11-16T07:16:53\", \"value\": -23.4}, {\"date\": \"2020-11-16T07:36:51\", \"value\": -22.7}, {\"date\": \"2020-11-16T07:56:24\", \"value\": -23.6}, {\"date\": \"2020-11-16T08:16:59\", \"value\": -23.5}, {\"date\": \"2020-11-16T08:36:37\", \"value\": -23.0}, {\"date\": \"2020-11-16T08:56:24\", \"value\": -23.6}, {\"date\": \"2020-11-16T09:16:41\", \"value\": -24.2}, {\"date\": \"2020-11-16T09:36:50\", \"value\": -22.2}, {\"date\": \"2020-11-16T09:56:27\", \"value\": -24.0}, {\"date\": \"2020-11-16T10:16:42\", \"value\": -23.2}, {\"date\": \"2020-11-16T10:36:44\", \"value\": -24.3}, {\"date\": \"2020-11-16T10:56:23\", \"value\": -23.5}, {\"date\": \"2020-11-16T11:16:36\", \"value\": -23.6}, {\"date\": \"2020-11-16T11:36:39\", \"value\": -22.7}, {\"date\": \"2020-11-16T11:56:23\", \"value\": -24.2}, {\"date\": \"2020-11-16T12:16:29\", \"value\": -22.5}, {\"date\": \"2020-11-16T12:36:56\", \"value\": -24.1}, {\"date\": \"2020-11-16T12:56:21\", \"value\": -24.1}, {\"date\": \"2020-11-16T13:16:30\", \"value\": -23.4}, {\"date\": \"2020-11-16T13:36:37\", \"value\": -24.2}, {\"date\": \"2020-11-16T13:56:23\", \"value\": -22.0}, {\"date\": \"2020-11-16T14:16:37\", \"value\": -24.2}, {\"date\": \"2020-11-16T14:36:44\", \"value\": -23.4}, {\"date\": \"2020-11-16T14:56:23\", \"value\": -22.8}, {\"date\": \"2020-11-16T15:16:50\", \"value\": -23.2}, {\"date\": \"2020-11-16T15:36:32\", \"value\": -23.1}, {\"date\": \"2020-11-16T15:56:22\", \"value\": -23.4}, {\"date\": \"2020-11-16T16:17:03\", \"value\": -24.1}, {\"date\": \"2020-11-16T16:36:41\", \"value\": -23.9}, {\"date\": \"2020-11-16T16:56:21\", \"value\": -22.9}, {\"date\": \"2020-11-16T17:16:38\", \"value\": -23.6}, {\"date\": \"2020-11-16T17:36:27\", \"value\": -23.9}, {\"date\": \"2020-11-16T17:56:23\", \"value\": -24.0}, {\"date\": \"2020-11-16T18:16:25\", \"value\": -24.1}, {\"date\": \"2020-11-16T18:37:01\", \"value\": -23.9}, {\"date\": \"2020-11-16T18:56:20\", \"value\": -23.3}, {\"date\": \"2020-11-16T19:16:44\", \"value\": -22.9}, {\"date\": \"2020-11-16T19:36:54\", \"value\": -24.1}, {\"date\": \"2020-11-16T19:56:22\", \"value\": -24.0}, {\"date\": \"2020-11-16T20:16:50\", \"value\": -24.1}, {\"date\": \"2020-11-16T20:36:45\", \"value\": -24.1}, {\"date\": \"2020-11-16T20:56:20\", \"value\": -24.1}, {\"date\": \"2020-11-16T21:16:45\", \"value\": -22.4}, {\"date\": \"2020-11-16T21:36:52\", \"value\": -23.1}, {\"date\": \"2020-11-16T21:56:21\", \"value\": -1.4}, {\"date\": \"2020-11-16T22:16:59\", \"value\": 4.7}, {\"date\": \"2020-11-16T22:36:43\", \"value\": -14.6}, {\"date\": \"2020-11-16T22:56:20\", \"value\": -23.7}, {\"date\": \"2020-11-16T23:16:37\", \"value\": -22.5}, {\"date\": \"2020-11-16T23:36:33\", \"value\": -24.2}, {\"date\": \"2020-11-16T23:56:20\", \"value\": -21.9}, {\"date\": \"2020-11-17T00:16:35\", \"value\": -23.9}, {\"date\": \"2020-11-17T00:36:38\", \"value\": -23.8}, {\"date\": \"2020-11-17T00:56:23\", \"value\": -22.7}, {\"date\": \"2020-11-17T01:16:24\", \"value\": -24.0}, {\"date\": \"2020-11-17T01:37:05\", \"value\": -24.3}, {\"date\": \"2020-11-17T01:56:20\", \"value\": -23.9}, {\"date\": \"2020-11-17T02:16:18\", \"value\": -5.8}, {\"date\": \"2020-11-17T02:36:52\", \"value\": -1.5}, {\"date\": \"2020-11-17T02:56:20\", \"value\": -21.1}, {\"date\": \"2020-11-17T03:16:50\", \"value\": -23.7}, {\"date\": \"2020-11-17T03:36:51\", \"value\": -23.7}, {\"date\": \"2020-11-17T03:56:21\", \"value\": -24.2}, {\"date\": \"2020-11-17T04:16:25\", \"value\": -22.5}, {\"date\": \"2020-11-17T04:36:34\", \"value\": -23.0}, {\"date\": \"2020-11-17T04:56:20\", \"value\": -24.3}, {\"date\": \"2020-11-17T05:16:51\", \"value\": -22.0}, {\"date\": \"2020-11-17T05:36:56\", \"value\": -23.9}, {\"date\": \"2020-11-17T05:56:21\", \"value\": -23.1}, {\"date\": \"2020-11-17T06:16:41\", \"value\": -22.1}, {\"date\": \"2020-11-17T06:36:38\", \"value\": -22.9}, {\"date\": \"2020-11-17T06:56:22\", \"value\": -23.0}, {\"date\": \"2020-11-17T07:16:32\", \"value\": -23.4}, {\"date\": \"2020-11-17T07:36:35\", \"value\": -23.3}, {\"date\": \"2020-11-17T07:56:23\", \"value\": -23.6}, {\"date\": \"2020-11-17T08:16:50\", \"value\": -24.0}, {\"date\": \"2020-11-17T08:36:53\", \"value\": -23.0}, {\"date\": \"2020-11-17T08:56:23\", \"value\": -22.9}, {\"date\": \"2020-11-17T09:16:41\", \"value\": -23.4}, {\"date\": \"2020-11-17T09:36:44\", \"value\": -23.3}, {\"date\": \"2020-11-17T09:56:22\", \"value\": -24.1}, {\"date\": \"2020-11-17T10:16:38\", \"value\": -23.6}, {\"date\": \"2020-11-17T10:36:52\", \"value\": -22.0}, {\"date\": \"2020-11-17T10:56:23\", \"value\": -22.5}, {\"date\": \"2020-11-17T11:16:30\", \"value\": -22.2}, {\"date\": \"2020-11-17T11:36:36\", \"value\": -22.2}, {\"date\": \"2020-11-17T11:56:20\", \"value\": -23.4}, {\"date\": \"2020-11-17T12:16:56\", \"value\": -23.6}, {\"date\": \"2020-11-17T12:36:56\", \"value\": -23.2}, {\"date\": \"2020-11-17T12:56:19\", \"value\": -23.1}, {\"date\": \"2020-11-17T13:16:52\", \"value\": -22.8}, {\"date\": \"2020-11-17T13:36:43\", \"value\": -23.4}, {\"date\": \"2020-11-17T13:56:23\", \"value\": -23.3}, {\"date\": \"2020-11-17T14:16:32\", \"value\": -22.0}, {\"date\": \"2020-11-17T14:36:31\", \"value\": -24.5}, {\"date\": \"2020-11-17T15:06:21\", \"value\": -24.0}, {\"date\": \"2020-11-17T15:16:49\", \"value\": -23.7}, {\"date\": \"2020-11-17T15:46:46\", \"value\": -23.2}, {\"date\": \"2020-11-17T15:56:24\", \"value\": -23.7}, {\"date\": \"2020-11-17T16:16:50\", \"value\": -24.0}, {\"date\": \"2020-11-17T16:36:50\", \"value\": -23.9}, {\"date\": \"2020-11-17T16:56:23\", \"value\": -23.8}, {\"date\": \"2020-11-17T17:16:59\", \"value\": -24.2}, {\"date\": \"2020-11-17T17:36:54\", \"value\": -23.5}, {\"date\": \"2020-11-17T17:56:21\", \"value\": -23.1}, {\"date\": \"2020-11-17T18:16:33\", \"value\": -22.8}, {\"date\": \"2020-11-17T18:37:00\", \"value\": -22.7}, {\"date\": \"2020-11-17T18:56:20\", \"value\": -22.2}, {\"date\": \"2020-11-17T19:16:50\", \"value\": -23.3}, {\"date\": \"2020-11-17T19:37:06\", \"value\": -23.8}, {\"date\": \"2020-11-17T19:56:24\", \"value\": -23.9}, {\"date\": \"2020-11-17T20:17:00\", \"value\": -22.0}, {\"date\": \"2020-11-17T20:36:44\", \"value\": -24.1}, {\"date\": \"2020-11-17T20:56:24\", \"value\": -23.8}, {\"date\": \"2020-11-17T21:16:52\", \"value\": -22.8}, {\"date\": \"2020-11-17T21:36:54\", \"value\": -22.1}, {\"date\": \"2020-11-17T21:56:21\", \"value\": -22.5}, {\"date\": \"2020-11-17T22:17:00\", \"value\": -23.9}, {\"date\": \"2020-11-17T22:36:31\", \"value\": -22.8}, {\"date\": \"2020-11-17T22:56:20\", \"value\": -23.1}, {\"date\": \"2020-11-17T23:16:52\", \"value\": -23.4}, {\"date\": \"2020-11-17T23:36:33\", \"value\": -23.1}, {\"date\": \"2020-11-17T23:56:21\", \"value\": -1.6}, {\"date\": \"2020-11-18T00:16:54\", \"value\": 5.0}, {\"date\": \"2020-11-18T00:36:39\", \"value\": -20.3}, {\"date\": \"2020-11-18T00:56:20\", \"value\": -23.9}, {\"date\": \"2020-11-18T01:16:51\", \"value\": -23.9}, {\"date\": \"2020-11-18T01:36:35\", \"value\": -24.0}, {\"date\": \"2020-11-18T01:56:21\", \"value\": -23.3}, {\"date\": \"2020-11-18T02:16:37\", \"value\": -6.7}, {\"date\": \"2020-11-18T02:36:23\", \"value\": -1.6}, {\"date\": \"2020-11-18T02:56:20\", \"value\": -20.9}, {\"date\": \"2020-11-18T03:16:58\", \"value\": -23.8}, {\"date\": \"2020-11-18T03:36:44\", \"value\": -23.8}, {\"date\": \"2020-11-18T03:56:21\", \"value\": -22.8}, {\"date\": \"2020-11-18T04:16:21\", \"value\": -23.5}, {\"date\": \"2020-11-18T04:36:25\", \"value\": -22.5}, {\"date\": \"2020-11-18T04:56:20\", \"value\": -22.3}, {\"date\": \"2020-11-18T05:16:54\", \"value\": -23.6}, {\"date\": \"2020-11-18T05:36:44\", \"value\": -23.9}, {\"date\": \"2020-11-18T05:56:20\", \"value\": -23.5}, {\"date\": \"2020-11-18T06:16:31\", \"value\": -24.1}, {\"date\": \"2020-11-18T06:36:37\", \"value\": -23.7}, {\"date\": \"2020-11-18T06:56:20\", \"value\": -22.9}, {\"date\": \"2020-11-18T07:17:00\", \"value\": -22.4}, {\"date\": \"2020-11-18T07:36:41\", \"value\": -21.9}, {\"date\": \"2020-11-18T07:56:23\", \"value\": -22.6}, {\"date\": \"2020-11-18T08:16:56\", \"value\": -22.7}, {\"date\": \"2020-11-18T08:36:44\", \"value\": -22.8}, {\"date\": \"2020-11-18T08:56:23\", \"value\": -22.0}, {\"date\": \"2020-11-18T09:16:53\", \"value\": -23.3}, {\"date\": \"2020-11-18T09:36:44\", \"value\": -23.6}, {\"date\": \"2020-11-18T10:36:31\", \"value\": -23.9}, {\"date\": \"2020-11-18T10:56:13\", \"value\": -23.6}, {\"date\": \"2020-11-18T11:16:22\", \"value\": -24.1}, {\"date\": \"2020-11-18T11:36:42\", \"value\": -22.1}, {\"date\": \"2020-11-18T11:56:22\", \"value\": -22.0}, {\"date\": \"2020-11-18T12:16:53\", \"value\": -24.2}, {\"date\": \"2020-11-18T12:36:53\", \"value\": -24.2}, {\"date\": \"2020-11-18T12:56:23\", \"value\": -23.2}, {\"date\": \"2020-11-18T13:16:42\", \"value\": -23.3}, {\"date\": \"2020-11-18T13:37:02\", \"value\": -23.7}, {\"date\": \"2020-11-18T13:56:21\", \"value\": -23.8}, {\"date\": \"2020-11-18T14:17:01\", \"value\": -24.3}, {\"date\": \"2020-11-18T14:36:54\", \"value\": -23.2}, {\"date\": \"2020-11-18T14:56:24\", \"value\": -23.6}, {\"date\": \"2020-11-18T15:16:49\", \"value\": -23.7}, {\"date\": \"2020-11-18T15:36:39\", \"value\": -24.1}, {\"date\": \"2020-11-18T15:56:25\", \"value\": -23.8}, {\"date\": \"2020-11-18T16:17:03\", \"value\": -24.1}, {\"date\": \"2020-11-18T16:37:02\", \"value\": -23.9}, {\"date\": \"2020-11-18T16:56:24\", \"value\": -23.7}, {\"date\": \"2020-11-18T17:16:47\", \"value\": -23.5}, {\"date\": \"2020-11-18T17:36:47\", \"value\": -22.4}, {\"date\": \"2020-11-18T17:56:23\", \"value\": -22.0}, {\"date\": \"2020-11-18T18:16:40\", \"value\": -22.8}, {\"date\": \"2020-11-18T18:36:56\", \"value\": -22.1}, {\"date\": \"2020-11-18T18:56:23\", \"value\": -23.8}, {\"date\": \"2020-11-18T19:16:59\", \"value\": -23.8}, {\"date\": \"2020-11-18T19:36:31\", \"value\": -22.8}, {\"date\": \"2020-11-18T19:56:23\", \"value\": -22.9}, {\"date\": \"2020-11-18T20:16:59\", \"value\": -24.2}, {\"date\": \"2020-11-18T20:36:58\", \"value\": -23.6}, {\"date\": \"2020-11-18T20:56:23\", \"value\": -23.8}, {\"date\": \"2020-11-18T21:17:02\", \"value\": -23.1}, {\"date\": \"2020-11-18T21:37:00\", \"value\": -22.6}, {\"date\": \"2020-11-18T21:56:23\", \"value\": -22.9}, {\"date\": \"2020-11-18T22:17:08\", \"value\": -23.1}, {\"date\": \"2020-11-18T22:36:47\", \"value\": -24.2}, {\"date\": \"2020-11-18T22:56:24\", \"value\": -22.1}, {\"date\": \"2020-11-18T23:16:39\", \"value\": -23.9}, {\"date\": \"2020-11-18T23:36:40\", \"value\": -23.6}, {\"date\": \"2020-11-18T23:56:23\", \"value\": -24.0}, {\"date\": \"2020-11-19T00:16:53\", \"value\": -22.0}, {\"date\": \"2020-11-19T00:37:02\", \"value\": -23.3}, {\"date\": \"2020-11-19T00:56:23\", \"value\": -24.1}, {\"date\": \"2020-11-19T01:17:08\", \"value\": -23.5}, {\"date\": \"2020-11-19T01:36:27\", \"value\": -23.9}, {\"date\": \"2020-11-19T01:56:23\", \"value\": 2.6}, {\"date\": \"2020-11-19T02:16:57\", \"value\": 0.6}, {\"date\": \"2020-11-19T02:36:52\", \"value\": -20.3}, {\"date\": \"2020-11-19T02:56:23\", \"value\": -21.4}, {\"date\": \"2020-11-19T03:17:03\", \"value\": -23.8}, {\"date\": \"2020-11-19T03:36:43\", \"value\": -23.9}, {\"date\": \"2020-11-19T03:56:22\", \"value\": -22.9}, {\"date\": \"2020-11-19T04:16:54\", \"value\": -23.1}, {\"date\": \"2020-11-19T04:36:59\", \"value\": -22.7}, {\"date\": \"2020-11-19T04:56:23\", \"value\": -22.9}, {\"date\": \"2020-11-19T05:16:35\", \"value\": -22.5}, {\"date\": \"2020-11-19T05:36:46\", \"value\": -22.9}, {\"date\": \"2020-11-19T05:56:24\", \"value\": -24.1}, {\"date\": \"2020-11-19T06:17:07\", \"value\": -24.0}, {\"date\": \"2020-11-19T06:36:43\", \"value\": -23.9}, {\"date\": \"2020-11-19T06:56:23\", \"value\": -23.5}, {\"date\": \"2020-11-19T07:16:57\", \"value\": -23.0}, {\"date\": \"2020-11-19T07:37:03\", \"value\": -22.6}, {\"date\": \"2020-11-19T07:56:24\", \"value\": -22.5}, {\"date\": \"2020-11-19T08:16:51\", \"value\": -23.6}, {\"date\": \"2020-11-19T08:36:49\", \"value\": -22.9}, {\"date\": \"2020-11-19T08:56:24\", \"value\": -23.0}, {\"date\": \"2020-11-19T09:16:46\", \"value\": -22.5}, {\"date\": \"2020-11-19T09:37:05\", \"value\": -23.4}, {\"date\": \"2020-11-19T09:56:24\", \"value\": -22.7}, {\"date\": \"2020-11-19T10:16:45\", \"value\": -22.0}, {\"date\": \"2020-11-19T10:36:39\", \"value\": -23.3}, {\"date\": \"2020-11-19T10:56:24\", \"value\": -23.6}, {\"date\": \"2020-11-19T11:17:07\", \"value\": -22.7}, {\"date\": \"2020-11-19T11:37:00\", \"value\": -22.8}, {\"date\": \"2020-11-19T11:56:22\", \"value\": -22.6}, {\"date\": \"2020-11-19T12:17:07\", \"value\": -22.8}, {\"date\": \"2020-11-19T12:37:02\", \"value\": -24.0}, {\"date\": \"2020-11-19T12:56:23\", \"value\": -24.1}, {\"date\": \"2020-11-19T13:16:25\", \"value\": -22.9}, {\"date\": \"2020-11-19T13:37:02\", \"value\": -24.1}, {\"date\": \"2020-11-19T14:06:23\", \"value\": -23.7}, {\"date\": \"2020-11-19T14:17:06\", \"value\": -22.8}, {\"date\": \"2020-11-19T14:36:45\", \"value\": -22.7}, {\"date\": \"2020-11-19T14:56:22\", \"value\": -23.4}, {\"date\": \"2020-11-19T15:16:42\", \"value\": -22.4}, {\"date\": \"2020-11-19T15:36:52\", \"value\": -22.2}, {\"date\": \"2020-11-19T15:56:24\", \"value\": -23.6}, {\"date\": \"2020-11-19T16:17:06\", \"value\": -23.8}, {\"date\": \"2020-11-19T16:36:47\", \"value\": -23.9}, {\"date\": \"2020-11-19T16:56:23\", \"value\": -23.5}, {\"date\": \"2020-11-19T17:16:47\", \"value\": -23.8}, {\"date\": \"2020-11-19T17:37:03\", \"value\": -23.1}, {\"date\": \"2020-11-19T17:56:22\", \"value\": -22.0}, {\"date\": \"2020-11-19T18:16:52\", \"value\": -22.3}, {\"date\": \"2020-11-19T18:36:44\", \"value\": -22.4}, {\"date\": \"2020-11-19T18:56:22\", \"value\": -22.9}, {\"date\": \"2020-11-19T19:17:05\", \"value\": -23.9}, {\"date\": \"2020-11-19T19:37:00\", \"value\": -23.4}, {\"date\": \"2020-11-19T19:56:22\", \"value\": -23.0}, {\"date\": \"2020-11-19T20:16:58\", \"value\": -24.0}, {\"date\": \"2020-11-19T20:36:41\", \"value\": -23.9}, {\"date\": \"2020-11-19T20:56:22\", \"value\": -23.4}, {\"date\": \"2020-11-19T21:16:51\", \"value\": -22.3}, {\"date\": \"2020-11-19T21:37:02\", \"value\": -23.4}, {\"date\": \"2020-11-19T21:56:21\", \"value\": -22.0}, {\"date\": \"2020-11-19T22:17:03\", \"value\": -22.8}, {\"date\": \"2020-11-19T22:36:59\", \"value\": -22.8}, {\"date\": \"2020-11-19T22:56:22\", \"value\": -23.9}, {\"date\": \"2020-11-19T23:17:03\", \"value\": -24.3}, {\"date\": \"2020-11-19T23:37:04\", \"value\": -24.3}, {\"date\": \"2020-11-19T23:56:22\", \"value\": -24.4}, {\"date\": \"2020-11-20T00:16:43\", \"value\": -22.1}, {\"date\": \"2020-11-20T00:37:09\", \"value\": -22.3}, {\"date\": \"2020-11-20T00:56:23\", \"value\": -23.3}, {\"date\": \"2020-11-20T01:16:27\", \"value\": -24.1}, {\"date\": \"2020-11-20T01:36:29\", \"value\": -22.1}, {\"date\": \"2020-11-20T01:56:23\", \"value\": -22.8}, {\"date\": \"2020-11-20T02:16:52\", \"value\": -7.2}, {\"date\": \"2020-11-20T02:36:47\", \"value\": -2.1}, {\"date\": \"2020-11-20T02:56:23\", \"value\": -20.8}, {\"date\": \"2020-11-20T03:16:42\", \"value\": -23.0}, {\"date\": \"2020-11-20T03:36:40\", \"value\": -15.5}, {\"date\": \"2020-11-20T03:56:26\", \"value\": 5.8}, {\"date\": \"2020-11-20T04:16:40\", \"value\": -4.2}, {\"date\": \"2020-11-20T04:36:53\", \"value\": -20.7}, {\"date\": \"2020-11-20T04:56:22\", \"value\": -23.7}, {\"date\": \"2020-11-20T05:16:50\", \"value\": -23.3}, {\"date\": \"2020-11-20T05:36:42\", \"value\": -23.3}, {\"date\": \"2020-11-20T05:56:22\", \"value\": -23.6}, {\"date\": \"2020-11-20T06:16:32\", \"value\": -23.6}, {\"date\": \"2020-11-20T06:36:48\", \"value\": -23.6}, {\"date\": \"2020-11-20T06:56:28\", \"value\": -23.9}, {\"date\": \"2020-11-20T07:16:49\", \"value\": -22.8}, {\"date\": \"2020-11-20T07:36:53\", \"value\": -23.1}, {\"date\": \"2020-11-20T07:56:22\", \"value\": -23.7}, {\"date\": \"2020-11-20T08:17:02\", \"value\": -23.9}, {\"date\": \"2020-11-20T08:36:53\", \"value\": -23.7}, {\"date\": \"2020-11-20T08:56:24\", \"value\": -23.7}, {\"date\": \"2020-11-20T09:17:09\", \"value\": -24.0}, {\"date\": \"2020-11-20T09:36:46\", \"value\": -23.2}, {\"date\": \"2020-11-20T09:56:22\", \"value\": -23.7}, {\"date\": \"2020-11-20T10:16:44\", \"value\": -24.0}, {\"date\": \"2020-11-20T10:37:04\", \"value\": -23.6}, {\"date\": \"2020-11-20T10:56:23\", \"value\": -23.3}, {\"date\": \"2020-11-20T11:16:48\", \"value\": -24.0}, {\"date\": \"2020-11-20T11:36:38\", \"value\": -22.1}, {\"date\": \"2020-11-20T11:56:23\", \"value\": -22.1}, {\"date\": \"2020-11-20T12:16:55\", \"value\": -23.4}, {\"date\": \"2020-11-20T12:37:01\", \"value\": -22.7}, {\"date\": \"2020-11-20T12:56:23\", \"value\": -22.1}, {\"date\": \"2020-11-20T13:16:51\", \"value\": -23.3}, {\"date\": \"2020-11-20T13:37:04\", \"value\": -22.4}, {\"date\": \"2020-11-20T13:56:23\", \"value\": -23.7}, {\"date\": \"2020-11-20T14:17:03\", \"value\": -22.7}, {\"date\": \"2020-11-20T14:37:07\", \"value\": -22.8}, {\"date\": \"2020-11-20T14:56:20\", \"value\": -24.5}, {\"date\": \"2020-11-20T15:16:56\", \"value\": -24.0}, {\"date\": \"2020-11-20T15:36:44\", \"value\": -23.6}, {\"date\": \"2020-11-20T15:56:23\", \"value\": -23.1}, {\"date\": \"2020-11-20T16:17:07\", \"value\": -22.7}, {\"date\": \"2020-11-20T16:36:40\", \"value\": -23.3}, {\"date\": \"2020-11-20T16:56:21\", \"value\": -23.6}, {\"date\": \"2020-11-20T17:16:57\", \"value\": -24.1}, {\"date\": \"2020-11-20T17:36:48\", \"value\": -23.6}, {\"date\": \"2020-11-20T17:56:22\", \"value\": -22.3}, {\"date\": \"2020-11-20T18:16:56\", \"value\": -23.5}, {\"date\": \"2020-11-20T18:37:05\", \"value\": -23.6}, {\"date\": \"2020-11-20T18:56:24\", \"value\": -23.7}, {\"date\": \"2020-11-20T19:16:54\", \"value\": -23.3}, {\"date\": \"2020-11-20T19:36:48\", \"value\": -22.7}, {\"date\": \"2020-11-20T19:56:22\", \"value\": -22.0}, {\"date\": \"2020-11-20T20:16:46\", \"value\": -22.9}, {\"date\": \"2020-11-20T20:37:03\", \"value\": -22.2}, {\"date\": \"2020-11-20T20:56:21\", \"value\": -22.8}, {\"date\": \"2020-11-20T21:16:55\", \"value\": -23.3}, {\"date\": \"2020-11-20T21:36:48\", \"value\": -23.4}, {\"date\": \"2020-11-20T21:56:23\", \"value\": -23.4}, {\"date\": \"2020-11-20T22:16:45\", \"value\": -24.2}, {\"date\": \"2020-11-20T22:36:49\", \"value\": -22.7}, {\"date\": \"2020-11-20T22:56:23\", \"value\": -22.8}, {\"date\": \"2020-11-20T23:16:39\", \"value\": -23.9}, {\"date\": \"2020-11-20T23:36:58\", \"value\": -24.3}, {\"date\": \"2020-11-20T23:56:23\", \"value\": -24.3}, {\"date\": \"2020-11-21T00:17:05\", \"value\": -24.3}, {\"date\": \"2020-11-21T00:36:33\", \"value\": -24.0}, {\"date\": \"2020-11-21T00:56:22\", \"value\": -24.2}, {\"date\": \"2020-11-21T01:17:02\", \"value\": -22.4}, {\"date\": \"2020-11-21T01:36:55\", \"value\": -22.4}, {\"date\": \"2020-11-21T01:56:22\", \"value\": -22.9}, {\"date\": \"2020-11-21T02:16:56\", \"value\": -6.7}, {\"date\": \"2020-11-21T02:36:52\", \"value\": -2.1}, {\"date\": \"2020-11-21T02:56:23\", \"value\": -20.7}, {\"date\": \"2020-11-21T03:17:05\", \"value\": -23.9}, {\"date\": \"2020-11-21T03:37:03\", \"value\": -24.0}, {\"date\": \"2020-11-21T03:56:23\", \"value\": -23.4}, {\"date\": \"2020-11-21T04:16:49\", \"value\": -22.9}, {\"date\": \"2020-11-21T04:36:44\", \"value\": -23.9}, {\"date\": \"2020-11-21T04:56:23\", \"value\": -22.8}]}}, {\"mode\": \"vega-lite\"});\n",
              "</script>"
            ]
          },
          "metadata": {
            "tags": []
          },
          "execution_count": 194
        }
      ]
    },
    {
      "cell_type": "markdown",
      "metadata": {
        "id": "iV5B9BQacL1b"
      },
      "source": [
        "Draw everything in a chart using the Plotly library (i haven't used this library since it doesn't have any support for return the data selected, an exemption is DASH that is the framework built-on this library, but using this, require a few tweaks)"
      ]
    },
    {
      "cell_type": "code",
      "metadata": {
        "id": "rXneVPkaGCrA",
        "colab": {
          "base_uri": "https://localhost:8080/",
          "height": 0
        },
        "outputId": "fb749ab5-54e6-4668-8ec4-29259ffc70cb"
      },
      "source": [
        "import plotly.graph_objects as go\n",
        "\n",
        "fig = go.Figure(go.Scatter(x=data.date, y=data.value, mode=\"markers+lines\"))\n",
        "\n",
        "scatter = fig.data[0]\n",
        "\n",
        "def update_point(trace, points, selector):\n",
        "  print(\"Sleeping\")\n",
        "scatter.on_click(update_point)\n",
        "\n",
        "fig.show(renderer=\"colab\")"
      ],
      "execution_count": 195,
      "outputs": [
        {
          "output_type": "display_data",
          "data": {
            "text/html": [
              "<html>\n",
              "<head><meta charset=\"utf-8\" /></head>\n",
              "<body>\n",
              "    <div>\n",
              "            <script src=\"https://cdnjs.cloudflare.com/ajax/libs/mathjax/2.7.5/MathJax.js?config=TeX-AMS-MML_SVG\"></script><script type=\"text/javascript\">if (window.MathJax) {MathJax.Hub.Config({SVG: {font: \"STIX-Web\"}});}</script>\n",
              "                <script type=\"text/javascript\">window.PlotlyConfig = {MathJaxConfig: 'local'};</script>\n",
              "        <script src=\"https://cdn.plot.ly/plotly-latest.min.js\"></script>    \n",
              "            <div id=\"1c9e0280-330a-48a0-b987-70a020406f8e\" class=\"plotly-graph-div\" style=\"height:525px; width:100%;\"></div>\n",
              "            <script type=\"text/javascript\">\n",
              "                \n",
              "                    window.PLOTLYENV=window.PLOTLYENV || {};\n",
              "                    \n",
              "                if (document.getElementById(\"1c9e0280-330a-48a0-b987-70a020406f8e\")) {\n",
              "                    Plotly.newPlot(\n",
              "                        '1c9e0280-330a-48a0-b987-70a020406f8e',\n",
              "                        [{\"mode\": \"markers+lines\", \"type\": \"scatter\", \"x\": [\"2020-11-08T00:17:06\", \"2020-11-08T00:37:04\", \"2020-11-08T00:56:20\", \"2020-11-08T01:17:05\", \"2020-11-08T01:37:03\", \"2020-11-08T01:56:21\", \"2020-11-08T02:17:05\", \"2020-11-08T02:37:02\", \"2020-11-08T02:56:20\", \"2020-11-08T03:17:05\", \"2020-11-08T03:37:03\", \"2020-11-08T03:56:25\", \"2020-11-08T04:17:06\", \"2020-11-08T04:37:04\", \"2020-11-08T04:56:20\", \"2020-11-08T05:17:06\", \"2020-11-08T05:37:02\", \"2020-11-08T05:56:20\", \"2020-11-08T06:17:05\", \"2020-11-08T06:36:59\", \"2020-11-08T06:56:21\", \"2020-11-08T07:17:05\", \"2020-11-08T07:36:57\", \"2020-11-08T07:56:22\", \"2020-11-08T08:17:06\", \"2020-11-08T08:37:02\", \"2020-11-08T08:56:21\", \"2020-11-08T09:16:46\", \"2020-11-08T09:37:03\", \"2020-11-08T09:56:22\", \"2020-11-08T10:17:05\", \"2020-11-08T10:37:01\", \"2020-11-08T10:56:23\", \"2020-11-08T11:17:05\", \"2020-11-08T11:37:00\", \"2020-11-08T11:56:22\", \"2020-11-08T12:17:06\", \"2020-11-08T12:37:02\", \"2020-11-08T12:56:24\", \"2020-11-08T13:17:05\", \"2020-11-08T13:37:01\", \"2020-11-08T13:56:21\", \"2020-11-08T14:17:05\", \"2020-11-08T14:36:50\", \"2020-11-08T14:56:23\", \"2020-11-08T15:17:05\", \"2020-11-08T15:36:58\", \"2020-11-08T15:56:22\", \"2020-11-08T16:16:53\", \"2020-11-08T16:37:02\", \"2020-11-08T17:07:03\", \"2020-11-08T17:16:57\", \"2020-11-08T17:37:01\", \"2020-11-08T17:56:20\", \"2020-11-08T18:17:06\", \"2020-11-08T18:37:03\", \"2020-11-08T18:56:23\", \"2020-11-08T19:17:05\", \"2020-11-08T19:37:03\", \"2020-11-08T19:56:23\", \"2020-11-08T20:17:06\", \"2020-11-08T20:37:01\", \"2020-11-08T20:56:21\", \"2020-11-08T21:17:06\", \"2020-11-08T21:37:02\", \"2020-11-08T21:56:24\", \"2020-11-08T22:17:02\", \"2020-11-08T22:37:02\", \"2020-11-08T22:56:20\", \"2020-11-08T23:17:02\", \"2020-11-08T23:37:02\", \"2020-11-08T23:56:25\", \"2020-11-09T00:17:03\", \"2020-11-09T00:37:01\", \"2020-11-09T00:56:22\", \"2020-11-09T01:17:05\", \"2020-11-09T01:37:02\", \"2020-11-09T01:56:21\", \"2020-11-09T02:17:02\", \"2020-11-09T02:37:02\", \"2020-11-09T02:56:20\", \"2020-11-09T03:17:05\", \"2020-11-09T03:37:00\", \"2020-11-09T03:56:24\", \"2020-11-09T04:17:04\", \"2020-11-09T04:37:02\", \"2020-11-09T04:56:20\", \"2020-11-09T05:17:05\", \"2020-11-09T05:37:01\", \"2020-11-09T05:56:22\", \"2020-11-09T06:17:06\", \"2020-11-09T06:37:03\", \"2020-11-09T06:56:23\", \"2020-11-09T07:17:06\", \"2020-11-09T07:37:03\", \"2020-11-09T07:56:22\", \"2020-11-09T08:17:05\", \"2020-11-09T08:37:02\", \"2020-11-09T08:56:23\", \"2020-11-09T09:17:01\", \"2020-11-09T09:37:04\", \"2020-11-09T09:56:20\", \"2020-11-09T10:17:05\", \"2020-11-09T10:37:01\", \"2020-11-09T10:56:24\", \"2020-11-09T11:17:04\", \"2020-11-09T11:36:57\", \"2020-11-09T11:56:23\", \"2020-11-09T12:17:01\", \"2020-11-09T12:37:01\", \"2020-11-09T12:56:21\", \"2020-11-09T13:17:06\", \"2020-11-09T13:36:58\", \"2020-11-09T13:56:23\", \"2020-11-09T14:17:02\", \"2020-11-09T14:36:39\", \"2020-11-09T15:07:06\", \"2020-11-09T15:57:30\", \"2020-11-09T16:16:25\", \"2020-11-09T16:36:14\", \"2020-11-09T16:56:21\", \"2020-11-09T17:16:43\", \"2020-11-09T17:36:38\", \"2020-11-09T17:56:23\", \"2020-11-09T18:16:41\", \"2020-11-09T18:36:58\", \"2020-11-09T18:56:23\", \"2020-11-09T19:16:47\", \"2020-11-09T19:36:51\", \"2020-11-09T19:56:21\", \"2020-11-09T20:16:35\", \"2020-11-09T20:36:43\", \"2020-11-09T20:56:21\", \"2020-11-09T21:16:40\", \"2020-11-09T21:36:51\", \"2020-11-09T21:56:22\", \"2020-11-09T22:16:36\", \"2020-11-09T22:36:29\", \"2020-11-09T22:56:21\", \"2020-11-09T23:16:54\", \"2020-11-09T23:36:44\", \"2020-11-09T23:56:22\", \"2020-11-10T00:16:57\", \"2020-11-10T00:36:29\", \"2020-11-10T00:56:20\", \"2020-11-10T01:17:00\", \"2020-11-10T01:36:53\", \"2020-11-10T01:56:22\", \"2020-11-10T02:16:44\", \"2020-11-10T02:36:37\", \"2020-11-10T02:56:20\", \"2020-11-10T03:17:05\", \"2020-11-10T03:37:02\", \"2020-11-10T03:56:21\", \"2020-11-10T04:16:48\", \"2020-11-10T04:36:23\", \"2020-11-10T04:56:21\", \"2020-11-10T05:16:56\", \"2020-11-10T05:36:48\", \"2020-11-10T05:56:21\", \"2020-11-10T06:16:31\", \"2020-11-10T06:36:28\", \"2020-11-10T06:56:23\", \"2020-11-10T07:16:46\", \"2020-11-10T07:36:50\", \"2020-11-10T07:56:24\", \"2020-11-10T08:16:36\", \"2020-11-10T08:36:42\", \"2020-11-10T08:56:23\", \"2020-11-10T09:16:35\", \"2020-11-10T09:36:30\", \"2020-11-10T09:56:22\", \"2020-11-10T10:16:19\", \"2020-11-10T10:36:51\", \"2020-11-10T10:56:23\", \"2020-11-10T11:16:46\", \"2020-11-10T11:36:48\", \"2020-11-10T11:56:22\", \"2020-11-10T12:16:52\", \"2020-11-10T12:36:43\", \"2020-11-10T12:56:24\", \"2020-11-10T13:16:40\", \"2020-11-10T13:36:41\", \"2020-11-10T13:56:23\", \"2020-11-10T14:16:28\", \"2020-11-10T14:36:29\", \"2020-11-10T14:56:22\", \"2020-11-10T15:16:30\", \"2020-11-10T15:36:50\", \"2020-11-10T15:56:23\", \"2020-11-10T16:16:41\", \"2020-11-10T16:36:42\", \"2020-11-10T16:56:23\", \"2020-11-10T17:16:23\", \"2020-11-10T17:36:24\", \"2020-11-10T17:56:23\", \"2020-11-10T18:16:40\", \"2020-11-10T18:36:45\", \"2020-11-10T18:56:22\", \"2020-11-10T19:16:39\", \"2020-11-10T19:36:29\", \"2020-11-10T19:56:22\", \"2020-11-10T20:16:55\", \"2020-11-10T20:36:53\", \"2020-11-10T20:56:23\", \"2020-11-10T21:16:33\", \"2020-11-10T21:36:35\", \"2020-11-10T21:56:20\", \"2020-11-10T22:17:05\", \"2020-11-10T22:36:44\", \"2020-11-10T22:56:21\", \"2020-11-10T23:16:53\", \"2020-11-10T23:36:49\", \"2020-11-10T23:56:21\", \"2020-11-11T00:16:49\", \"2020-11-11T00:37:04\", \"2020-11-11T00:56:21\", \"2020-11-11T01:16:43\", \"2020-11-11T01:37:01\", \"2020-11-11T01:56:20\", \"2020-11-11T02:17:04\", \"2020-11-11T02:36:45\", \"2020-11-11T02:56:20\", \"2020-11-11T03:16:57\", \"2020-11-11T03:36:38\", \"2020-11-11T03:56:19\", \"2020-11-11T04:16:45\", \"2020-11-11T04:36:50\", \"2020-11-11T04:56:20\", \"2020-11-11T05:16:34\", \"2020-11-11T05:36:32\", \"2020-11-11T05:56:21\", \"2020-11-11T06:17:02\", \"2020-11-11T06:36:50\", \"2020-11-11T06:56:21\", \"2020-11-11T07:16:55\", \"2020-11-11T07:36:26\", \"2020-11-11T07:56:22\", \"2020-11-11T08:16:54\", \"2020-11-11T08:36:44\", \"2020-11-11T08:56:22\", \"2020-11-11T09:16:52\", \"2020-11-11T09:36:26\", \"2020-11-11T09:56:22\", \"2020-11-11T10:16:58\", \"2020-11-11T10:36:51\", \"2020-11-11T10:56:23\", \"2020-11-11T11:16:36\", \"2020-11-11T11:36:39\", \"2020-11-11T11:56:24\", \"2020-11-11T12:16:42\", \"2020-11-11T12:36:58\", \"2020-11-11T12:56:22\", \"2020-11-11T13:17:02\", \"2020-11-11T13:36:37\", \"2020-11-11T13:56:21\", \"2020-11-11T14:16:54\", \"2020-11-11T14:36:56\", \"2020-11-11T14:56:21\", \"2020-11-11T15:16:38\", \"2020-11-11T15:36:32\", \"2020-11-11T15:56:23\", \"2020-11-11T16:16:48\", \"2020-11-11T16:36:55\", \"2020-11-11T16:56:23\", \"2020-11-11T17:17:00\", \"2020-11-11T17:36:29\", \"2020-11-11T17:56:21\", \"2020-11-11T18:16:17\", \"2020-11-11T18:36:53\", \"2020-11-11T18:56:23\", \"2020-11-11T19:16:46\", \"2020-11-11T19:36:41\", \"2020-11-11T19:56:21\", \"2020-11-11T20:16:30\", \"2020-11-11T20:36:28\", \"2020-11-11T20:56:21\", \"2020-11-11T21:16:26\", \"2020-11-11T21:36:48\", \"2020-11-11T21:56:22\", \"2020-11-11T22:16:40\", \"2020-11-11T22:36:47\", \"2020-11-11T22:56:22\", \"2020-11-11T23:16:56\", \"2020-11-11T23:36:42\", \"2020-11-11T23:56:20\", \"2020-11-12T00:16:40\", \"2020-11-12T00:36:38\", \"2020-11-12T00:56:22\", \"2020-11-12T01:16:26\", \"2020-11-12T01:36:48\", \"2020-11-12T01:56:21\", \"2020-11-12T02:16:29\", \"2020-11-12T02:36:34\", \"2020-11-12T02:56:20\", \"2020-11-12T03:16:49\", \"2020-11-12T03:36:41\", \"2020-11-12T03:56:23\", \"2020-11-12T04:16:38\", \"2020-11-12T04:36:31\", \"2020-11-12T04:56:21\", \"2020-11-12T05:16:25\", \"2020-11-12T05:36:21\", \"2020-11-12T05:56:21\", \"2020-11-12T06:16:55\", \"2020-11-12T06:36:56\", \"2020-11-12T06:56:21\", \"2020-11-12T07:16:43\", \"2020-11-12T07:36:36\", \"2020-11-12T07:56:22\", \"2020-11-12T08:16:39\", \"2020-11-12T08:36:28\", \"2020-11-12T08:56:22\", \"2020-11-12T09:16:45\", \"2020-11-12T09:36:35\", \"2020-11-12T09:56:24\", \"2020-11-12T10:16:37\", \"2020-11-12T10:36:54\", \"2020-11-12T10:56:22\", \"2020-11-12T11:17:00\", \"2020-11-12T11:36:23\", \"2020-11-12T11:56:21\", \"2020-11-12T12:16:19\", \"2020-11-12T12:36:31\", \"2020-11-12T12:56:23\", \"2020-11-12T13:16:51\", \"2020-11-12T13:37:02\", \"2020-11-12T13:56:23\", \"2020-11-12T14:17:04\", \"2020-11-12T14:36:45\", \"2020-11-12T14:56:20\", \"2020-11-12T15:16:27\", \"2020-11-12T15:36:22\", \"2020-11-12T16:06:22\", \"2020-11-12T16:16:53\", \"2020-11-12T16:36:56\", \"2020-11-12T16:56:21\", \"2020-11-12T17:16:40\", \"2020-11-12T17:36:38\", \"2020-11-12T17:56:22\", \"2020-11-12T18:16:28\", \"2020-11-12T18:36:36\", \"2020-11-12T18:56:20\", \"2020-11-12T19:16:36\", \"2020-11-12T19:36:59\", \"2020-11-12T19:56:20\", \"2020-11-12T20:16:47\", \"2020-11-12T20:36:46\", \"2020-11-12T20:56:24\", \"2020-11-12T21:16:41\", \"2020-11-12T21:36:40\", \"2020-11-12T21:56:20\", \"2020-11-12T22:16:24\", \"2020-11-12T22:36:51\", \"2020-11-12T22:56:20\", \"2020-11-12T23:17:04\", \"2020-11-12T23:36:50\", \"2020-11-12T23:56:21\", \"2020-11-13T00:16:47\", \"2020-11-13T00:37:06\", \"2020-11-13T00:56:20\", \"2020-11-13T01:16:43\", \"2020-11-13T01:36:37\", \"2020-11-13T01:56:21\", \"2020-11-13T02:16:56\", \"2020-11-13T02:36:59\", \"2020-11-13T02:56:20\", \"2020-11-13T03:16:30\", \"2020-11-13T03:36:50\", \"2020-11-13T03:56:20\", \"2020-11-13T04:16:53\", \"2020-11-13T04:36:47\", \"2020-11-13T04:56:20\", \"2020-11-13T05:16:28\", \"2020-11-13T05:36:25\", \"2020-11-13T05:56:20\", \"2020-11-13T06:16:54\", \"2020-11-13T06:36:49\", \"2020-11-13T06:56:20\", \"2020-11-13T07:17:05\", \"2020-11-13T07:36:37\", \"2020-11-13T07:56:23\", \"2020-11-13T08:16:33\", \"2020-11-13T08:36:51\", \"2020-11-13T08:56:21\", \"2020-11-13T09:16:54\", \"2020-11-13T09:36:53\", \"2020-11-13T09:56:23\", \"2020-11-13T10:16:58\", \"2020-11-13T10:37:05\", \"2020-11-13T10:56:22\", \"2020-11-13T11:16:50\", \"2020-11-13T11:36:44\", \"2020-11-13T11:56:21\", \"2020-11-13T12:16:58\", \"2020-11-13T12:37:02\", \"2020-11-13T12:56:23\", \"2020-11-13T13:16:58\", \"2020-11-13T13:37:01\", \"2020-11-13T13:56:24\", \"2020-11-13T14:16:55\", \"2020-11-13T14:36:47\", \"2020-11-13T15:16:59\", \"2020-11-13T15:36:41\", \"2020-11-13T15:56:23\", \"2020-11-13T16:16:33\", \"2020-11-13T16:36:53\", \"2020-11-13T16:56:24\", \"2020-11-13T17:16:39\", \"2020-11-13T17:36:46\", \"2020-11-13T17:56:20\", \"2020-11-13T18:16:41\", \"2020-11-13T18:36:44\", \"2020-11-13T18:56:21\", \"2020-11-13T19:16:47\", \"2020-11-13T19:36:41\", \"2020-11-13T19:56:23\", \"2020-11-13T20:16:38\", \"2020-11-13T20:36:26\", \"2020-11-13T20:56:22\", \"2020-11-13T21:16:32\", \"2020-11-13T21:36:51\", \"2020-11-13T21:56:21\", \"2020-11-13T22:16:49\", \"2020-11-13T22:36:43\", \"2020-11-13T22:56:23\", \"2020-11-13T23:16:54\", \"2020-11-13T23:36:26\", \"2020-11-13T23:56:21\", \"2020-11-14T00:16:21\", \"2020-11-14T00:36:40\", \"2020-11-14T00:56:20\", \"2020-11-14T01:16:56\", \"2020-11-14T01:36:45\", \"2020-11-14T01:56:23\", \"2020-11-14T02:16:41\", \"2020-11-14T02:36:37\", \"2020-11-14T02:56:21\", \"2020-11-14T03:16:36\", \"2020-11-14T03:36:49\", \"2020-11-14T03:56:21\", \"2020-11-14T04:16:50\", \"2020-11-14T04:36:43\", \"2020-11-14T04:56:22\", \"2020-11-14T05:16:32\", \"2020-11-14T05:36:43\", \"2020-11-14T05:56:20\", \"2020-11-14T06:17:02\", \"2020-11-14T06:36:55\", \"2020-11-14T06:56:21\", \"2020-11-14T07:16:42\", \"2020-11-14T07:36:42\", \"2020-11-14T07:56:25\", \"2020-11-14T08:16:32\", \"2020-11-14T08:36:37\", \"2020-11-14T08:56:23\", \"2020-11-14T09:16:24\", \"2020-11-14T09:36:57\", \"2020-11-14T09:56:23\", \"2020-11-14T10:16:46\", \"2020-11-14T10:36:51\", \"2020-11-14T10:56:23\", \"2020-11-14T11:16:41\", \"2020-11-14T11:37:02\", \"2020-11-14T11:56:24\", \"2020-11-14T12:16:28\", \"2020-11-14T12:37:00\", \"2020-11-14T12:56:22\", \"2020-11-14T13:16:45\", \"2020-11-14T13:36:53\", \"2020-11-14T13:56:22\", \"2020-11-14T14:16:49\", \"2020-11-14T14:36:40\", \"2020-11-14T15:16:28\", \"2020-11-14T15:36:17\", \"2020-11-14T15:56:24\", \"2020-11-14T16:16:22\", \"2020-11-14T16:36:49\", \"2020-11-14T16:56:21\", \"2020-11-14T17:16:54\", \"2020-11-14T17:36:42\", \"2020-11-14T17:56:24\", \"2020-11-14T18:16:31\", \"2020-11-14T18:36:34\", \"2020-11-14T18:56:25\", \"2020-11-14T19:16:27\", \"2020-11-14T19:36:25\", \"2020-11-14T19:56:20\", \"2020-11-14T20:17:02\", \"2020-11-14T20:36:47\", \"2020-11-14T20:56:20\", \"2020-11-14T21:16:59\", \"2020-11-14T21:36:34\", \"2020-11-14T21:56:27\", \"2020-11-14T22:16:34\", \"2020-11-14T22:36:44\", \"2020-11-14T22:56:21\", \"2020-11-14T23:16:58\", \"2020-11-14T23:36:57\", \"2020-11-14T23:56:21\", \"2020-11-15T00:16:46\", \"2020-11-15T00:36:31\", \"2020-11-15T00:56:22\", \"2020-11-15T01:16:24\", \"2020-11-15T01:36:51\", \"2020-11-15T01:56:20\", \"2020-11-15T02:16:58\", \"2020-11-15T02:36:48\", \"2020-11-15T02:56:21\", \"2020-11-15T03:16:30\", \"2020-11-15T03:36:32\", \"2020-11-15T03:56:25\", \"2020-11-15T04:16:58\", \"2020-11-15T04:36:58\", \"2020-11-15T04:56:20\", \"2020-11-15T05:16:54\", \"2020-11-15T05:36:53\", \"2020-11-15T05:56:20\", \"2020-11-15T06:16:39\", \"2020-11-15T06:36:32\", \"2020-11-15T06:56:21\", \"2020-11-15T07:16:38\", \"2020-11-15T07:36:29\", \"2020-11-15T07:56:22\", \"2020-11-15T08:16:49\", \"2020-11-15T08:36:52\", \"2020-11-15T08:56:23\", \"2020-11-15T09:16:52\", \"2020-11-15T09:36:50\", \"2020-11-15T09:56:23\", \"2020-11-15T10:16:57\", \"2020-11-15T10:36:37\", \"2020-11-15T10:56:20\", \"2020-11-15T11:16:44\", \"2020-11-15T11:36:21\", \"2020-11-15T11:56:22\", \"2020-11-15T12:16:54\", \"2020-11-15T12:36:49\", \"2020-11-15T12:56:21\", \"2020-11-15T13:16:43\", \"2020-11-15T13:36:42\", \"2020-11-15T13:56:20\", \"2020-11-15T14:16:35\", \"2020-11-15T14:36:20\", \"2020-11-15T14:56:26\", \"2020-11-15T15:16:44\", \"2020-11-15T15:46:32\", \"2020-11-15T15:56:21\", \"2020-11-15T16:16:45\", \"2020-11-15T16:36:48\", \"2020-11-15T16:56:21\", \"2020-11-15T17:16:36\", \"2020-11-15T17:36:36\", \"2020-11-15T17:56:23\", \"2020-11-15T18:16:27\", \"2020-11-15T18:36:32\", \"2020-11-15T18:56:20\", \"2020-11-15T19:16:42\", \"2020-11-15T19:36:43\", \"2020-11-15T19:56:20\", \"2020-11-15T20:16:21\", \"2020-11-15T20:36:49\", \"2020-11-15T20:56:23\", \"2020-11-15T21:16:47\", \"2020-11-15T21:36:54\", \"2020-11-15T21:56:24\", \"2020-11-15T22:16:50\", \"2020-11-15T22:36:35\", \"2020-11-15T22:56:21\", \"2020-11-15T23:16:46\", \"2020-11-15T23:36:36\", \"2020-11-15T23:56:21\", \"2020-11-16T00:16:49\", \"2020-11-16T00:36:47\", \"2020-11-16T00:56:20\", \"2020-11-16T01:17:04\", \"2020-11-16T01:36:48\", \"2020-11-16T01:56:26\", \"2020-11-16T02:16:47\", \"2020-11-16T02:36:49\", \"2020-11-16T02:56:21\", \"2020-11-16T03:16:47\", \"2020-11-16T03:36:48\", \"2020-11-16T03:56:21\", \"2020-11-16T04:16:49\", \"2020-11-16T04:36:51\", \"2020-11-16T04:56:21\", \"2020-11-16T05:16:48\", \"2020-11-16T05:36:52\", \"2020-11-16T05:56:22\", \"2020-11-16T06:17:02\", \"2020-11-16T06:36:56\", \"2020-11-16T06:56:21\", \"2020-11-16T07:16:53\", \"2020-11-16T07:36:51\", \"2020-11-16T07:56:24\", \"2020-11-16T08:16:59\", \"2020-11-16T08:36:37\", \"2020-11-16T08:56:24\", \"2020-11-16T09:16:41\", \"2020-11-16T09:36:50\", \"2020-11-16T09:56:27\", \"2020-11-16T10:16:42\", \"2020-11-16T10:36:44\", \"2020-11-16T10:56:23\", \"2020-11-16T11:16:36\", \"2020-11-16T11:36:39\", \"2020-11-16T11:56:23\", \"2020-11-16T12:16:29\", \"2020-11-16T12:36:56\", \"2020-11-16T12:56:21\", \"2020-11-16T13:16:30\", \"2020-11-16T13:36:37\", \"2020-11-16T13:56:23\", \"2020-11-16T14:16:37\", \"2020-11-16T14:36:44\", \"2020-11-16T14:56:23\", \"2020-11-16T15:16:50\", \"2020-11-16T15:36:32\", \"2020-11-16T15:56:22\", \"2020-11-16T16:17:03\", \"2020-11-16T16:36:41\", \"2020-11-16T16:56:21\", \"2020-11-16T17:16:38\", \"2020-11-16T17:36:27\", \"2020-11-16T17:56:23\", \"2020-11-16T18:16:25\", \"2020-11-16T18:37:01\", \"2020-11-16T18:56:20\", \"2020-11-16T19:16:44\", \"2020-11-16T19:36:54\", \"2020-11-16T19:56:22\", \"2020-11-16T20:16:50\", \"2020-11-16T20:36:45\", \"2020-11-16T20:56:20\", \"2020-11-16T21:16:45\", \"2020-11-16T21:36:52\", \"2020-11-16T21:56:21\", \"2020-11-16T22:16:59\", \"2020-11-16T22:36:43\", \"2020-11-16T22:56:20\", \"2020-11-16T23:16:37\", \"2020-11-16T23:36:33\", \"2020-11-16T23:56:20\", \"2020-11-17T00:16:35\", \"2020-11-17T00:36:38\", \"2020-11-17T00:56:23\", \"2020-11-17T01:16:24\", \"2020-11-17T01:37:05\", \"2020-11-17T01:56:20\", \"2020-11-17T02:16:18\", \"2020-11-17T02:36:52\", \"2020-11-17T02:56:20\", \"2020-11-17T03:16:50\", \"2020-11-17T03:36:51\", \"2020-11-17T03:56:21\", \"2020-11-17T04:16:25\", \"2020-11-17T04:36:34\", \"2020-11-17T04:56:20\", \"2020-11-17T05:16:51\", \"2020-11-17T05:36:56\", \"2020-11-17T05:56:21\", \"2020-11-17T06:16:41\", \"2020-11-17T06:36:38\", \"2020-11-17T06:56:22\", \"2020-11-17T07:16:32\", \"2020-11-17T07:36:35\", \"2020-11-17T07:56:23\", \"2020-11-17T08:16:50\", \"2020-11-17T08:36:53\", \"2020-11-17T08:56:23\", \"2020-11-17T09:16:41\", \"2020-11-17T09:36:44\", \"2020-11-17T09:56:22\", \"2020-11-17T10:16:38\", \"2020-11-17T10:36:52\", \"2020-11-17T10:56:23\", \"2020-11-17T11:16:30\", \"2020-11-17T11:36:36\", \"2020-11-17T11:56:20\", \"2020-11-17T12:16:56\", \"2020-11-17T12:36:56\", \"2020-11-17T12:56:19\", \"2020-11-17T13:16:52\", \"2020-11-17T13:36:43\", \"2020-11-17T13:56:23\", \"2020-11-17T14:16:32\", \"2020-11-17T14:36:31\", \"2020-11-17T15:06:21\", \"2020-11-17T15:16:49\", \"2020-11-17T15:46:46\", \"2020-11-17T15:56:24\", \"2020-11-17T16:16:50\", \"2020-11-17T16:36:50\", \"2020-11-17T16:56:23\", \"2020-11-17T17:16:59\", \"2020-11-17T17:36:54\", \"2020-11-17T17:56:21\", \"2020-11-17T18:16:33\", \"2020-11-17T18:37:00\", \"2020-11-17T18:56:20\", \"2020-11-17T19:16:50\", \"2020-11-17T19:37:06\", \"2020-11-17T19:56:24\", \"2020-11-17T20:17:00\", \"2020-11-17T20:36:44\", \"2020-11-17T20:56:24\", \"2020-11-17T21:16:52\", \"2020-11-17T21:36:54\", \"2020-11-17T21:56:21\", \"2020-11-17T22:17:00\", \"2020-11-17T22:36:31\", \"2020-11-17T22:56:20\", \"2020-11-17T23:16:52\", \"2020-11-17T23:36:33\", \"2020-11-17T23:56:21\", \"2020-11-18T00:16:54\", \"2020-11-18T00:36:39\", \"2020-11-18T00:56:20\", \"2020-11-18T01:16:51\", \"2020-11-18T01:36:35\", \"2020-11-18T01:56:21\", \"2020-11-18T02:16:37\", \"2020-11-18T02:36:23\", \"2020-11-18T02:56:20\", \"2020-11-18T03:16:58\", \"2020-11-18T03:36:44\", \"2020-11-18T03:56:21\", \"2020-11-18T04:16:21\", \"2020-11-18T04:36:25\", \"2020-11-18T04:56:20\", \"2020-11-18T05:16:54\", \"2020-11-18T05:36:44\", \"2020-11-18T05:56:20\", \"2020-11-18T06:16:31\", \"2020-11-18T06:36:37\", \"2020-11-18T06:56:20\", \"2020-11-18T07:17:00\", \"2020-11-18T07:36:41\", \"2020-11-18T07:56:23\", \"2020-11-18T08:16:56\", \"2020-11-18T08:36:44\", \"2020-11-18T08:56:23\", \"2020-11-18T09:16:53\", \"2020-11-18T09:36:44\", \"2020-11-18T10:36:31\", \"2020-11-18T10:56:13\", \"2020-11-18T11:16:22\", \"2020-11-18T11:36:42\", \"2020-11-18T11:56:22\", \"2020-11-18T12:16:53\", \"2020-11-18T12:36:53\", \"2020-11-18T12:56:23\", \"2020-11-18T13:16:42\", \"2020-11-18T13:37:02\", \"2020-11-18T13:56:21\", \"2020-11-18T14:17:01\", \"2020-11-18T14:36:54\", \"2020-11-18T14:56:24\", \"2020-11-18T15:16:49\", \"2020-11-18T15:36:39\", \"2020-11-18T15:56:25\", \"2020-11-18T16:17:03\", \"2020-11-18T16:37:02\", \"2020-11-18T16:56:24\", \"2020-11-18T17:16:47\", \"2020-11-18T17:36:47\", \"2020-11-18T17:56:23\", \"2020-11-18T18:16:40\", \"2020-11-18T18:36:56\", \"2020-11-18T18:56:23\", \"2020-11-18T19:16:59\", \"2020-11-18T19:36:31\", \"2020-11-18T19:56:23\", \"2020-11-18T20:16:59\", \"2020-11-18T20:36:58\", \"2020-11-18T20:56:23\", \"2020-11-18T21:17:02\", \"2020-11-18T21:37:00\", \"2020-11-18T21:56:23\", \"2020-11-18T22:17:08\", \"2020-11-18T22:36:47\", \"2020-11-18T22:56:24\", \"2020-11-18T23:16:39\", \"2020-11-18T23:36:40\", \"2020-11-18T23:56:23\", \"2020-11-19T00:16:53\", \"2020-11-19T00:37:02\", \"2020-11-19T00:56:23\", \"2020-11-19T01:17:08\", \"2020-11-19T01:36:27\", \"2020-11-19T01:56:23\", \"2020-11-19T02:16:57\", \"2020-11-19T02:36:52\", \"2020-11-19T02:56:23\", \"2020-11-19T03:17:03\", \"2020-11-19T03:36:43\", \"2020-11-19T03:56:22\", \"2020-11-19T04:16:54\", \"2020-11-19T04:36:59\", \"2020-11-19T04:56:23\", \"2020-11-19T05:16:35\", \"2020-11-19T05:36:46\", \"2020-11-19T05:56:24\", \"2020-11-19T06:17:07\", \"2020-11-19T06:36:43\", \"2020-11-19T06:56:23\", \"2020-11-19T07:16:57\", \"2020-11-19T07:37:03\", \"2020-11-19T07:56:24\", \"2020-11-19T08:16:51\", \"2020-11-19T08:36:49\", \"2020-11-19T08:56:24\", \"2020-11-19T09:16:46\", \"2020-11-19T09:37:05\", \"2020-11-19T09:56:24\", \"2020-11-19T10:16:45\", \"2020-11-19T10:36:39\", \"2020-11-19T10:56:24\", \"2020-11-19T11:17:07\", \"2020-11-19T11:37:00\", \"2020-11-19T11:56:22\", \"2020-11-19T12:17:07\", \"2020-11-19T12:37:02\", \"2020-11-19T12:56:23\", \"2020-11-19T13:16:25\", \"2020-11-19T13:37:02\", \"2020-11-19T14:06:23\", \"2020-11-19T14:17:06\", \"2020-11-19T14:36:45\", \"2020-11-19T14:56:22\", \"2020-11-19T15:16:42\", \"2020-11-19T15:36:52\", \"2020-11-19T15:56:24\", \"2020-11-19T16:17:06\", \"2020-11-19T16:36:47\", \"2020-11-19T16:56:23\", \"2020-11-19T17:16:47\", \"2020-11-19T17:37:03\", \"2020-11-19T17:56:22\", \"2020-11-19T18:16:52\", \"2020-11-19T18:36:44\", \"2020-11-19T18:56:22\", \"2020-11-19T19:17:05\", \"2020-11-19T19:37:00\", \"2020-11-19T19:56:22\", \"2020-11-19T20:16:58\", \"2020-11-19T20:36:41\", \"2020-11-19T20:56:22\", \"2020-11-19T21:16:51\", \"2020-11-19T21:37:02\", \"2020-11-19T21:56:21\", \"2020-11-19T22:17:03\", \"2020-11-19T22:36:59\", \"2020-11-19T22:56:22\", \"2020-11-19T23:17:03\", \"2020-11-19T23:37:04\", \"2020-11-19T23:56:22\", \"2020-11-20T00:16:43\", \"2020-11-20T00:37:09\", \"2020-11-20T00:56:23\", \"2020-11-20T01:16:27\", \"2020-11-20T01:36:29\", \"2020-11-20T01:56:23\", \"2020-11-20T02:16:52\", \"2020-11-20T02:36:47\", \"2020-11-20T02:56:23\", \"2020-11-20T03:16:42\", \"2020-11-20T03:36:40\", \"2020-11-20T03:56:26\", \"2020-11-20T04:16:40\", \"2020-11-20T04:36:53\", \"2020-11-20T04:56:22\", \"2020-11-20T05:16:50\", \"2020-11-20T05:36:42\", \"2020-11-20T05:56:22\", \"2020-11-20T06:16:32\", \"2020-11-20T06:36:48\", \"2020-11-20T06:56:28\", \"2020-11-20T07:16:49\", \"2020-11-20T07:36:53\", \"2020-11-20T07:56:22\", \"2020-11-20T08:17:02\", \"2020-11-20T08:36:53\", \"2020-11-20T08:56:24\", \"2020-11-20T09:17:09\", \"2020-11-20T09:36:46\", \"2020-11-20T09:56:22\", \"2020-11-20T10:16:44\", \"2020-11-20T10:37:04\", \"2020-11-20T10:56:23\", \"2020-11-20T11:16:48\", \"2020-11-20T11:36:38\", \"2020-11-20T11:56:23\", \"2020-11-20T12:16:55\", \"2020-11-20T12:37:01\", \"2020-11-20T12:56:23\", \"2020-11-20T13:16:51\", \"2020-11-20T13:37:04\", \"2020-11-20T13:56:23\", \"2020-11-20T14:17:03\", \"2020-11-20T14:37:07\", \"2020-11-20T14:56:20\", \"2020-11-20T15:16:56\", \"2020-11-20T15:36:44\", \"2020-11-20T15:56:23\", \"2020-11-20T16:17:07\", \"2020-11-20T16:36:40\", \"2020-11-20T16:56:21\", \"2020-11-20T17:16:57\", \"2020-11-20T17:36:48\", \"2020-11-20T17:56:22\", \"2020-11-20T18:16:56\", \"2020-11-20T18:37:05\", \"2020-11-20T18:56:24\", \"2020-11-20T19:16:54\", \"2020-11-20T19:36:48\", \"2020-11-20T19:56:22\", \"2020-11-20T20:16:46\", \"2020-11-20T20:37:03\", \"2020-11-20T20:56:21\", \"2020-11-20T21:16:55\", \"2020-11-20T21:36:48\", \"2020-11-20T21:56:23\", \"2020-11-20T22:16:45\", \"2020-11-20T22:36:49\", \"2020-11-20T22:56:23\", \"2020-11-20T23:16:39\", \"2020-11-20T23:36:58\", \"2020-11-20T23:56:23\", \"2020-11-21T00:17:05\", \"2020-11-21T00:36:33\", \"2020-11-21T00:56:22\", \"2020-11-21T01:17:02\", \"2020-11-21T01:36:55\", \"2020-11-21T01:56:22\", \"2020-11-21T02:16:56\", \"2020-11-21T02:36:52\", \"2020-11-21T02:56:23\", \"2020-11-21T03:17:05\", \"2020-11-21T03:37:03\", \"2020-11-21T03:56:23\", \"2020-11-21T04:16:49\", \"2020-11-21T04:36:44\", \"2020-11-21T04:56:23\"], \"y\": [-23.9, -23.8, -22.7, -23.2, -22.1, -22.1, -6.7, -1.2, -20.8, -23.6, -24.3, -22.1, -22.2, -22.5, -24.2, -24.0, -22.9, -23.9, -22.7, -19.7, -15.7, -20.7, -24.0, -22.2, -24.2, -22.5, -23.6, -24.1, -22.3, -22.7, -23.6, -24.3, -23.9, -24.2, -24.0, -23.1, -22.2, -23.6, -24.1, -24.3, -24.1, -24.2, -23.0, -21.9, -23.0, -24.1, -23.5, -24.1, -23.8, -23.5, -23.5, -22.0, -23.7, -22.5, -23.3, -23.3, -24.2, -22.6, -23.7, -23.3, -23.3, -22.8, -23.9, -23.2, -23.7, -24.3, -22.8, -22.4, -22.7, -23.6, -24.6, -24.1, -24.4, -24.5, -24.1, -23.1, -21.9, -22.4, -6.1, -2.5, -20.8, -22.5, -23.1, -23.4, -23.7, -23.4, -24.4, -24.1, -23.0, -23.5, -23.4, -24.0, -23.2, -24.0, -23.0, -23.6, -22.4, -18.8, -15.5, -23.0, -23.3, -22.6, -22.6, -24.4, -23.7, -24.2, -24.2, -23.2, -22.2, -23.9, -23.9, -24.2, -24.2, -23.9, -24.2, -23.7, -22.8, -22.0, -22.2, -24.1, -23.5, -22.8, -23.5, -24.2, -23.4, -22.3, -24.2, -23.4, -23.0, -24.2, -22.6, -22.4, -22.5, -23.4, -24.0, -23.4, -22.5, -22.1, -22.0, -22.6, -22.5, -22.0, -22.1, -22.9, -23.7, -23.2, -22.0, -22.5, -6.6, -1.4, -20.3, -23.9, -24.1, -23.9, -21.9, -22.6, -23.4, -22.2, -23.9, -24.1, -23.1, -21.9, -22.9, -23.9, -23.9, -23.4, -23.3, -22.5, -22.2, -24.0, -23.9, -23.5, -23.0, -7.5, 0.9, -21.9, -23.6, -21.9, -24.1, -22.4, -24.1, -23.6, -23.9, -24.2, -22.8, -22.6, -24.1, -24.0, -23.9, -22.4, -24.1, -23.4, -22.0, -24.0, -22.4, -23.2, -23.7, -23.1, -24.1, -22.6, -21.9, -23.2, -23.1, -23.1, -22.9, -23.5, -24.3, -24.0, -22.4, -22.4, -22.4, -23.0, -23.6, -24.6, -24.4, -24.0, -23.9, -22.2, -22.4, -23.0, -6.8, -2.7, -21.1, -23.9, -23.7, -24.0, -24.0, -23.1, -24.2, -22.9, -24.1, -23.0, -23.4, -24.2, -23.5, -23.4, -24.1, -23.5, -22.0, -23.8, -23.6, -22.4, -24.0, -23.3, -23.2, -23.8, -23.2, -23.0, -23.9, -23.3, -16.1, 5.3, 0.6, -22.5, -23.5, -22.3, -24.1, -23.7, -22.1, -23.1, -23.0, -24.0, -23.3, -23.5, -23.4, -24.0, -22.9, -23.9, -22.4, -23.7, -22.6, -23.6, -23.6, -23.5, -23.2, -23.0, -23.1, -24.2, -23.9, -24.0, -22.1, -22.6, -23.9, -24.5, -24.3, -23.3, -22.9, -22.9, -22.7, -22.9, -22.3, -22.4, -5.6, -2.0, -21.9, -23.6, -22.3, -24.3, -23.6, -24.1, -23.2, -23.4, -24.1, -23.0, -24.1, -22.0, -23.8, -23.3, -23.6, -23.0, -23.3, -23.8, -23.4, -24.1, -21.9, -23.9, -22.4, -24.0, -23.3, -24.1, -24.2, -22.8, -22.1, -24.4, -23.2, -21.9, -22.3, -23.1, -2.1, 8.5, -10.8, -23.3, -22.5, -22.6, -22.1, -23.3, -23.4, -22.3, -23.4, -22.8, -22.6, -23.5, -22.3, -23.9, -23.6, -23.3, -22.0, -23.3, -24.4, -23.8, -22.9, -22.6, -24.4, -22.7, -22.1, -24.1, -23.9, -23.0, -23.4, -23.5, -22.0, -24.3, -23.2, -22.8, -5.8, -1.3, -21.1, -21.9, -23.7, -24.0, -23.5, -22.3, -24.2, -23.1, -22.3, -23.5, -23.1, -23.5, -24.0, -21.9, -24.0, -22.6, -24.2, -22.5, -24.2, -23.3, -24.0, -22.7, -23.6, -23.0, -22.0, -22.4, -22.2, -24.4, -22.8, -22.7, -24.4, -22.9, -23.9, -24.5, -23.6, -22.0, -22.9, -22.4, -23.9, -22.8, -17.9, -23.7, -23.8, -22.2, -24.1, -22.2, -23.4, -24.0, -22.9, -23.9, -23.8, -23.4, -22.4, -23.1, -22.8, -22.9, -23.7, -23.3, -22.0, -24.3, -24.0, -23.4, -22.2, -23.1, -24.4, -24.2, -24.3, -23.9, -23.2, -6.4, -2.4, -21.2, -23.0, -23.2, -22.5, -24.0, -23.1, -24.2, -23.6, -23.1, -23.5, -24.0, -23.4, -23.0, -23.6, -22.3, -24.1, -23.4, -22.1, -23.9, -23.7, -23.1, -24.1, -22.9, -22.9, -23.6, -23.3, -23.4, -23.5, -22.7, -23.4, -23.8, -24.4, -23.9, -22.3, -22.8, -24.1, -24.4, -24.1, -22.5, -23.5, -24.1, -21.9, -24.1, -22.4, -23.4, -23.2, -17.0, -23.7, -24.2, -23.6, -22.3, -24.1, -23.4, -23.2, -23.7, -24.3, -23.7, -22.5, -22.4, -23.8, -24.5, -24.4, -24.6, -22.0, -22.5, -22.4, -23.3, -23.5, -24.1, -6.4, -1.9, -20.9, -24.1, -23.7, -24.2, -23.0, -23.7, -24.3, -22.4, -23.7, -24.0, -24.0, -24.0, -23.8, -22.8, -23.7, -23.7, -23.0, -23.7, -23.4, -22.8, -24.0, -23.7, -23.3, -22.8, -23.2, -23.0, -23.9, -24.4, -23.1, -22.7, -23.4, -23.9, -23.3, -23.0, -23.2, -22.4, -22.5, -22.1, -24.1, -22.5, -23.8, -24.0, -23.5, -22.9, -23.1, -23.3, -24.1, -23.8, -23.8, -23.0, -22.9, -21.0, -0.2, -4.7, -23.5, -22.7, -23.7, -22.2, -23.9, -23.4, -24.0, -22.4, -24.5, -22.4, -23.7, -23.5, -23.1, -23.9, -24.3, -23.1, -5.7, -2.0, -21.2, -23.3, -24.1, -23.0, -24.0, -23.2, -23.7, -22.3, -24.1, -22.8, -22.7, -21.9, -23.9, -23.4, -22.7, -23.6, -23.5, -23.0, -23.6, -24.2, -22.2, -24.0, -23.2, -24.3, -23.5, -23.6, -22.7, -24.2, -22.5, -24.1, -24.1, -23.4, -24.2, -22.0, -24.2, -23.4, -22.8, -23.2, -23.1, -23.4, -24.1, -23.9, -22.9, -23.6, -23.9, -24.0, -24.1, -23.9, -23.3, -22.9, -24.1, -24.0, -24.1, -24.1, -24.1, -22.4, -23.1, -1.4, 4.7, -14.6, -23.7, -22.5, -24.2, -21.9, -23.9, -23.8, -22.7, -24.0, -24.3, -23.9, -5.8, -1.5, -21.1, -23.7, -23.7, -24.2, -22.5, -23.0, -24.3, -22.0, -23.9, -23.1, -22.1, -22.9, -23.0, -23.4, -23.3, -23.6, -24.0, -23.0, -22.9, -23.4, -23.3, -24.1, -23.6, -22.0, -22.5, -22.2, -22.2, -23.4, -23.6, -23.2, -23.1, -22.8, -23.4, -23.3, -22.0, -24.5, -24.0, -23.7, -23.2, -23.7, -24.0, -23.9, -23.8, -24.2, -23.5, -23.1, -22.8, -22.7, -22.2, -23.3, -23.8, -23.9, -22.0, -24.1, -23.8, -22.8, -22.1, -22.5, -23.9, -22.8, -23.1, -23.4, -23.1, -1.6, 5.0, -20.3, -23.9, -23.9, -24.0, -23.3, -6.7, -1.6, -20.9, -23.8, -23.8, -22.8, -23.5, -22.5, -22.3, -23.6, -23.9, -23.5, -24.1, -23.7, -22.9, -22.4, -21.9, -22.6, -22.7, -22.8, -22.0, -23.3, -23.6, -23.9, -23.6, -24.1, -22.1, -22.0, -24.2, -24.2, -23.2, -23.3, -23.7, -23.8, -24.3, -23.2, -23.6, -23.7, -24.1, -23.8, -24.1, -23.9, -23.7, -23.5, -22.4, -22.0, -22.8, -22.1, -23.8, -23.8, -22.8, -22.9, -24.2, -23.6, -23.8, -23.1, -22.6, -22.9, -23.1, -24.2, -22.1, -23.9, -23.6, -24.0, -22.0, -23.3, -24.1, -23.5, -23.9, 2.6, 0.6, -20.3, -21.4, -23.8, -23.9, -22.9, -23.1, -22.7, -22.9, -22.5, -22.9, -24.1, -24.0, -23.9, -23.5, -23.0, -22.6, -22.5, -23.6, -22.9, -23.0, -22.5, -23.4, -22.7, -22.0, -23.3, -23.6, -22.7, -22.8, -22.6, -22.8, -24.0, -24.1, -22.9, -24.1, -23.7, -22.8, -22.7, -23.4, -22.4, -22.2, -23.6, -23.8, -23.9, -23.5, -23.8, -23.1, -22.0, -22.3, -22.4, -22.9, -23.9, -23.4, -23.0, -24.0, -23.9, -23.4, -22.3, -23.4, -22.0, -22.8, -22.8, -23.9, -24.3, -24.3, -24.4, -22.1, -22.3, -23.3, -24.1, -22.1, -22.8, -7.2, -2.1, -20.8, -23.0, -15.5, 5.8, -4.2, -20.7, -23.7, -23.3, -23.3, -23.6, -23.6, -23.6, -23.9, -22.8, -23.1, -23.7, -23.9, -23.7, -23.7, -24.0, -23.2, -23.7, -24.0, -23.6, -23.3, -24.0, -22.1, -22.1, -23.4, -22.7, -22.1, -23.3, -22.4, -23.7, -22.7, -22.8, -24.5, -24.0, -23.6, -23.1, -22.7, -23.3, -23.6, -24.1, -23.6, -22.3, -23.5, -23.6, -23.7, -23.3, -22.7, -22.0, -22.9, -22.2, -22.8, -23.3, -23.4, -23.4, -24.2, -22.7, -22.8, -23.9, -24.3, -24.3, -24.3, -24.0, -24.2, -22.4, -22.4, -22.9, -6.7, -2.1, -20.7, -23.9, -24.0, -23.4, -22.9, -23.9, -22.8]}],\n",
              "                        {\"template\": {\"data\": {\"bar\": [{\"error_x\": {\"color\": \"#2a3f5f\"}, \"error_y\": {\"color\": \"#2a3f5f\"}, \"marker\": {\"line\": {\"color\": \"#E5ECF6\", \"width\": 0.5}}, \"type\": \"bar\"}], \"barpolar\": [{\"marker\": {\"line\": {\"color\": \"#E5ECF6\", \"width\": 0.5}}, \"type\": \"barpolar\"}], \"carpet\": [{\"aaxis\": {\"endlinecolor\": \"#2a3f5f\", \"gridcolor\": \"white\", \"linecolor\": \"white\", \"minorgridcolor\": \"white\", \"startlinecolor\": \"#2a3f5f\"}, \"baxis\": {\"endlinecolor\": \"#2a3f5f\", \"gridcolor\": \"white\", \"linecolor\": \"white\", \"minorgridcolor\": \"white\", \"startlinecolor\": \"#2a3f5f\"}, \"type\": \"carpet\"}], \"choropleth\": [{\"colorbar\": {\"outlinewidth\": 0, \"ticks\": \"\"}, \"type\": \"choropleth\"}], \"contour\": [{\"colorbar\": {\"outlinewidth\": 0, \"ticks\": \"\"}, \"colorscale\": [[0.0, \"#0d0887\"], [0.1111111111111111, \"#46039f\"], [0.2222222222222222, \"#7201a8\"], [0.3333333333333333, \"#9c179e\"], [0.4444444444444444, \"#bd3786\"], [0.5555555555555556, \"#d8576b\"], [0.6666666666666666, \"#ed7953\"], [0.7777777777777778, \"#fb9f3a\"], [0.8888888888888888, \"#fdca26\"], [1.0, \"#f0f921\"]], \"type\": \"contour\"}], \"contourcarpet\": [{\"colorbar\": {\"outlinewidth\": 0, \"ticks\": \"\"}, \"type\": \"contourcarpet\"}], \"heatmap\": [{\"colorbar\": {\"outlinewidth\": 0, \"ticks\": \"\"}, \"colorscale\": [[0.0, \"#0d0887\"], [0.1111111111111111, \"#46039f\"], [0.2222222222222222, \"#7201a8\"], [0.3333333333333333, \"#9c179e\"], [0.4444444444444444, \"#bd3786\"], [0.5555555555555556, \"#d8576b\"], [0.6666666666666666, \"#ed7953\"], [0.7777777777777778, \"#fb9f3a\"], [0.8888888888888888, \"#fdca26\"], [1.0, \"#f0f921\"]], \"type\": \"heatmap\"}], \"heatmapgl\": [{\"colorbar\": {\"outlinewidth\": 0, \"ticks\": \"\"}, \"colorscale\": [[0.0, \"#0d0887\"], [0.1111111111111111, \"#46039f\"], [0.2222222222222222, \"#7201a8\"], [0.3333333333333333, \"#9c179e\"], [0.4444444444444444, \"#bd3786\"], [0.5555555555555556, \"#d8576b\"], [0.6666666666666666, \"#ed7953\"], [0.7777777777777778, \"#fb9f3a\"], [0.8888888888888888, \"#fdca26\"], [1.0, \"#f0f921\"]], \"type\": \"heatmapgl\"}], \"histogram\": [{\"marker\": {\"colorbar\": {\"outlinewidth\": 0, \"ticks\": \"\"}}, \"type\": \"histogram\"}], \"histogram2d\": [{\"colorbar\": {\"outlinewidth\": 0, \"ticks\": \"\"}, \"colorscale\": [[0.0, \"#0d0887\"], [0.1111111111111111, \"#46039f\"], [0.2222222222222222, \"#7201a8\"], [0.3333333333333333, \"#9c179e\"], [0.4444444444444444, \"#bd3786\"], [0.5555555555555556, \"#d8576b\"], [0.6666666666666666, \"#ed7953\"], [0.7777777777777778, \"#fb9f3a\"], [0.8888888888888888, \"#fdca26\"], [1.0, \"#f0f921\"]], \"type\": \"histogram2d\"}], \"histogram2dcontour\": [{\"colorbar\": {\"outlinewidth\": 0, \"ticks\": \"\"}, \"colorscale\": [[0.0, \"#0d0887\"], [0.1111111111111111, \"#46039f\"], [0.2222222222222222, \"#7201a8\"], [0.3333333333333333, \"#9c179e\"], [0.4444444444444444, \"#bd3786\"], [0.5555555555555556, \"#d8576b\"], [0.6666666666666666, \"#ed7953\"], [0.7777777777777778, \"#fb9f3a\"], [0.8888888888888888, \"#fdca26\"], [1.0, \"#f0f921\"]], \"type\": \"histogram2dcontour\"}], \"mesh3d\": [{\"colorbar\": {\"outlinewidth\": 0, \"ticks\": \"\"}, \"type\": \"mesh3d\"}], \"parcoords\": [{\"line\": {\"colorbar\": {\"outlinewidth\": 0, \"ticks\": \"\"}}, \"type\": \"parcoords\"}], \"pie\": [{\"automargin\": true, \"type\": \"pie\"}], \"scatter\": [{\"marker\": {\"colorbar\": {\"outlinewidth\": 0, \"ticks\": \"\"}}, \"type\": \"scatter\"}], \"scatter3d\": [{\"line\": {\"colorbar\": {\"outlinewidth\": 0, \"ticks\": \"\"}}, \"marker\": {\"colorbar\": {\"outlinewidth\": 0, \"ticks\": \"\"}}, \"type\": \"scatter3d\"}], \"scattercarpet\": [{\"marker\": {\"colorbar\": {\"outlinewidth\": 0, \"ticks\": \"\"}}, \"type\": \"scattercarpet\"}], \"scattergeo\": [{\"marker\": {\"colorbar\": {\"outlinewidth\": 0, \"ticks\": \"\"}}, \"type\": \"scattergeo\"}], \"scattergl\": [{\"marker\": {\"colorbar\": {\"outlinewidth\": 0, \"ticks\": \"\"}}, \"type\": \"scattergl\"}], \"scattermapbox\": [{\"marker\": {\"colorbar\": {\"outlinewidth\": 0, \"ticks\": \"\"}}, \"type\": \"scattermapbox\"}], \"scatterpolar\": [{\"marker\": {\"colorbar\": {\"outlinewidth\": 0, \"ticks\": \"\"}}, \"type\": \"scatterpolar\"}], \"scatterpolargl\": [{\"marker\": {\"colorbar\": {\"outlinewidth\": 0, \"ticks\": \"\"}}, \"type\": \"scatterpolargl\"}], \"scatterternary\": [{\"marker\": {\"colorbar\": {\"outlinewidth\": 0, \"ticks\": \"\"}}, \"type\": \"scatterternary\"}], \"surface\": [{\"colorbar\": {\"outlinewidth\": 0, \"ticks\": \"\"}, \"colorscale\": [[0.0, \"#0d0887\"], [0.1111111111111111, \"#46039f\"], [0.2222222222222222, \"#7201a8\"], [0.3333333333333333, \"#9c179e\"], [0.4444444444444444, \"#bd3786\"], [0.5555555555555556, \"#d8576b\"], [0.6666666666666666, \"#ed7953\"], [0.7777777777777778, \"#fb9f3a\"], [0.8888888888888888, \"#fdca26\"], [1.0, \"#f0f921\"]], \"type\": \"surface\"}], \"table\": [{\"cells\": {\"fill\": {\"color\": \"#EBF0F8\"}, \"line\": {\"color\": \"white\"}}, \"header\": {\"fill\": {\"color\": \"#C8D4E3\"}, \"line\": {\"color\": \"white\"}}, \"type\": \"table\"}]}, \"layout\": {\"annotationdefaults\": {\"arrowcolor\": \"#2a3f5f\", \"arrowhead\": 0, \"arrowwidth\": 1}, \"coloraxis\": {\"colorbar\": {\"outlinewidth\": 0, \"ticks\": \"\"}}, \"colorscale\": {\"diverging\": [[0, \"#8e0152\"], [0.1, \"#c51b7d\"], [0.2, \"#de77ae\"], [0.3, \"#f1b6da\"], [0.4, \"#fde0ef\"], [0.5, \"#f7f7f7\"], [0.6, \"#e6f5d0\"], [0.7, \"#b8e186\"], [0.8, \"#7fbc41\"], [0.9, \"#4d9221\"], [1, \"#276419\"]], \"sequential\": [[0.0, \"#0d0887\"], [0.1111111111111111, \"#46039f\"], [0.2222222222222222, \"#7201a8\"], [0.3333333333333333, \"#9c179e\"], [0.4444444444444444, \"#bd3786\"], [0.5555555555555556, \"#d8576b\"], [0.6666666666666666, \"#ed7953\"], [0.7777777777777778, \"#fb9f3a\"], [0.8888888888888888, \"#fdca26\"], [1.0, \"#f0f921\"]], \"sequentialminus\": [[0.0, \"#0d0887\"], [0.1111111111111111, \"#46039f\"], [0.2222222222222222, \"#7201a8\"], [0.3333333333333333, \"#9c179e\"], [0.4444444444444444, \"#bd3786\"], [0.5555555555555556, \"#d8576b\"], [0.6666666666666666, \"#ed7953\"], [0.7777777777777778, \"#fb9f3a\"], [0.8888888888888888, \"#fdca26\"], [1.0, \"#f0f921\"]]}, \"colorway\": [\"#636efa\", \"#EF553B\", \"#00cc96\", \"#ab63fa\", \"#FFA15A\", \"#19d3f3\", \"#FF6692\", \"#B6E880\", \"#FF97FF\", \"#FECB52\"], \"font\": {\"color\": \"#2a3f5f\"}, \"geo\": {\"bgcolor\": \"white\", \"lakecolor\": \"white\", \"landcolor\": \"#E5ECF6\", \"showlakes\": true, \"showland\": true, \"subunitcolor\": \"white\"}, \"hoverlabel\": {\"align\": \"left\"}, \"hovermode\": \"closest\", \"mapbox\": {\"style\": \"light\"}, \"paper_bgcolor\": \"white\", \"plot_bgcolor\": \"#E5ECF6\", \"polar\": {\"angularaxis\": {\"gridcolor\": \"white\", \"linecolor\": \"white\", \"ticks\": \"\"}, \"bgcolor\": \"#E5ECF6\", \"radialaxis\": {\"gridcolor\": \"white\", \"linecolor\": \"white\", \"ticks\": \"\"}}, \"scene\": {\"xaxis\": {\"backgroundcolor\": \"#E5ECF6\", \"gridcolor\": \"white\", \"gridwidth\": 2, \"linecolor\": \"white\", \"showbackground\": true, \"ticks\": \"\", \"zerolinecolor\": \"white\"}, \"yaxis\": {\"backgroundcolor\": \"#E5ECF6\", \"gridcolor\": \"white\", \"gridwidth\": 2, \"linecolor\": \"white\", \"showbackground\": true, \"ticks\": \"\", \"zerolinecolor\": \"white\"}, \"zaxis\": {\"backgroundcolor\": \"#E5ECF6\", \"gridcolor\": \"white\", \"gridwidth\": 2, \"linecolor\": \"white\", \"showbackground\": true, \"ticks\": \"\", \"zerolinecolor\": \"white\"}}, \"shapedefaults\": {\"line\": {\"color\": \"#2a3f5f\"}}, \"ternary\": {\"aaxis\": {\"gridcolor\": \"white\", \"linecolor\": \"white\", \"ticks\": \"\"}, \"baxis\": {\"gridcolor\": \"white\", \"linecolor\": \"white\", \"ticks\": \"\"}, \"bgcolor\": \"#E5ECF6\", \"caxis\": {\"gridcolor\": \"white\", \"linecolor\": \"white\", \"ticks\": \"\"}}, \"title\": {\"x\": 0.05}, \"xaxis\": {\"automargin\": true, \"gridcolor\": \"white\", \"linecolor\": \"white\", \"ticks\": \"\", \"title\": {\"standoff\": 15}, \"zerolinecolor\": \"white\", \"zerolinewidth\": 2}, \"yaxis\": {\"automargin\": true, \"gridcolor\": \"white\", \"linecolor\": \"white\", \"ticks\": \"\", \"title\": {\"standoff\": 15}, \"zerolinecolor\": \"white\", \"zerolinewidth\": 2}}}},\n",
              "                        {\"responsive\": true}\n",
              "                    ).then(function(){\n",
              "                            \n",
              "var gd = document.getElementById('1c9e0280-330a-48a0-b987-70a020406f8e');\n",
              "var x = new MutationObserver(function (mutations, observer) {{\n",
              "        var display = window.getComputedStyle(gd).display;\n",
              "        if (!display || display === 'none') {{\n",
              "            console.log([gd, 'removed!']);\n",
              "            Plotly.purge(gd);\n",
              "            observer.disconnect();\n",
              "        }}\n",
              "}});\n",
              "\n",
              "// Listen for the removal of the full notebook cells\n",
              "var notebookContainer = gd.closest('#notebook-container');\n",
              "if (notebookContainer) {{\n",
              "    x.observe(notebookContainer, {childList: true});\n",
              "}}\n",
              "\n",
              "// Listen for the clearing of the current output cell\n",
              "var outputEl = gd.closest('.output');\n",
              "if (outputEl) {{\n",
              "    x.observe(outputEl, {childList: true});\n",
              "}}\n",
              "\n",
              "                        })\n",
              "                };\n",
              "                \n",
              "            </script>\n",
              "        </div>\n",
              "</body>\n",
              "</html>"
            ]
          },
          "metadata": {
            "tags": []
          }
        }
      ]
    },
    {
      "cell_type": "code",
      "metadata": {
        "id": "Yt1L1XrvSkQs"
      },
      "source": [
        ""
      ],
      "execution_count": 195,
      "outputs": []
    }
  ]
}