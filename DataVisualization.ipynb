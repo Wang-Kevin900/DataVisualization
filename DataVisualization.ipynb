{
  "nbformat": 4,
  "nbformat_minor": 0,
  "metadata": {
    "colab": {
      "name": "DataVisualization.ipynb",
      "provenance": [],
      "collapsed_sections": [
        "LXiGzH3ubsQF"
      ],
      "include_colab_link": true
    },
    "kernelspec": {
      "name": "python3",
      "display_name": "Python 3"
    },
    "accelerator": "GPU"
  },
  "cells": [
    {
      "cell_type": "markdown",
      "metadata": {
        "id": "view-in-github",
        "colab_type": "text"
      },
      "source": [
        "<a href=\"https://colab.research.google.com/github/Wang-Kevin900/DataVisualization/blob/main/DataVisualization.ipynb\" target=\"_parent\"><img src=\"https://colab.research.google.com/assets/colab-badge.svg\" alt=\"Open In Colab\"/></a>"
      ]
    },
    {
      "cell_type": "markdown",
      "metadata": {
        "id": "GUDrvVDi65qA"
      },
      "source": [
        "# Setup libraries"
      ]
    },
    {
      "cell_type": "markdown",
      "metadata": {
        "id": "hI8t0qKzeCcq"
      },
      "source": [
        "Donwloading the various library needed to use the program using the console thanks to the symbol \"!\""
      ]
    },
    {
      "cell_type": "code",
      "metadata": {
        "id": "OY_oA_b-6-z4",
        "colab": {
          "base_uri": "https://localhost:8080/"
        },
        "outputId": "38957007-579c-4afd-d651-6fa0cc719c3d"
      },
      "source": [
        "!pip install bokeh\n",
        "!pip install altair\n",
        "!pip install plotly\n",
        "!pip install pandas\n",
        "!pip install datetime"
      ],
      "execution_count": 2,
      "outputs": [
        {
          "output_type": "stream",
          "text": [
            "Requirement already satisfied: bokeh in /usr/local/lib/python3.7/dist-packages (2.1.1)\n",
            "Requirement already satisfied: python-dateutil>=2.1 in /usr/local/lib/python3.7/dist-packages (from bokeh) (2.8.1)\n",
            "Requirement already satisfied: numpy>=1.11.3 in /usr/local/lib/python3.7/dist-packages (from bokeh) (1.19.5)\n",
            "Requirement already satisfied: tornado>=5.1 in /usr/local/lib/python3.7/dist-packages (from bokeh) (5.1.1)\n",
            "Requirement already satisfied: typing-extensions>=3.7.4 in /usr/local/lib/python3.7/dist-packages (from bokeh) (3.7.4.3)\n",
            "Requirement already satisfied: Jinja2>=2.7 in /usr/local/lib/python3.7/dist-packages (from bokeh) (2.11.3)\n",
            "Requirement already satisfied: pillow>=4.0 in /usr/local/lib/python3.7/dist-packages (from bokeh) (7.0.0)\n",
            "Requirement already satisfied: packaging>=16.8 in /usr/local/lib/python3.7/dist-packages (from bokeh) (20.9)\n",
            "Requirement already satisfied: PyYAML>=3.10 in /usr/local/lib/python3.7/dist-packages (from bokeh) (3.13)\n",
            "Requirement already satisfied: six>=1.5 in /usr/local/lib/python3.7/dist-packages (from python-dateutil>=2.1->bokeh) (1.15.0)\n",
            "Requirement already satisfied: MarkupSafe>=0.23 in /usr/local/lib/python3.7/dist-packages (from Jinja2>=2.7->bokeh) (1.1.1)\n",
            "Requirement already satisfied: pyparsing>=2.0.2 in /usr/local/lib/python3.7/dist-packages (from packaging>=16.8->bokeh) (2.4.7)\n",
            "Requirement already satisfied: altair in /usr/local/lib/python3.7/dist-packages (4.1.0)\n",
            "Requirement already satisfied: toolz in /usr/local/lib/python3.7/dist-packages (from altair) (0.11.1)\n",
            "Requirement already satisfied: jinja2 in /usr/local/lib/python3.7/dist-packages (from altair) (2.11.3)\n",
            "Requirement already satisfied: numpy in /usr/local/lib/python3.7/dist-packages (from altair) (1.19.5)\n",
            "Requirement already satisfied: pandas>=0.18 in /usr/local/lib/python3.7/dist-packages (from altair) (1.1.5)\n",
            "Requirement already satisfied: jsonschema in /usr/local/lib/python3.7/dist-packages (from altair) (2.6.0)\n",
            "Requirement already satisfied: entrypoints in /usr/local/lib/python3.7/dist-packages (from altair) (0.3)\n",
            "Requirement already satisfied: MarkupSafe>=0.23 in /usr/local/lib/python3.7/dist-packages (from jinja2->altair) (1.1.1)\n",
            "Requirement already satisfied: python-dateutil>=2.7.3 in /usr/local/lib/python3.7/dist-packages (from pandas>=0.18->altair) (2.8.1)\n",
            "Requirement already satisfied: pytz>=2017.2 in /usr/local/lib/python3.7/dist-packages (from pandas>=0.18->altair) (2018.9)\n",
            "Requirement already satisfied: six>=1.5 in /usr/local/lib/python3.7/dist-packages (from python-dateutil>=2.7.3->pandas>=0.18->altair) (1.15.0)\n",
            "Requirement already satisfied: plotly in /usr/local/lib/python3.7/dist-packages (4.4.1)\n",
            "Requirement already satisfied: retrying>=1.3.3 in /usr/local/lib/python3.7/dist-packages (from plotly) (1.3.3)\n",
            "Requirement already satisfied: six in /usr/local/lib/python3.7/dist-packages (from plotly) (1.15.0)\n",
            "Requirement already satisfied: pandas in /usr/local/lib/python3.7/dist-packages (1.1.5)\n",
            "Requirement already satisfied: pytz>=2017.2 in /usr/local/lib/python3.7/dist-packages (from pandas) (2018.9)\n",
            "Requirement already satisfied: python-dateutil>=2.7.3 in /usr/local/lib/python3.7/dist-packages (from pandas) (2.8.1)\n",
            "Requirement already satisfied: numpy>=1.15.4 in /usr/local/lib/python3.7/dist-packages (from pandas) (1.19.5)\n",
            "Requirement already satisfied: six>=1.5 in /usr/local/lib/python3.7/dist-packages (from python-dateutil>=2.7.3->pandas) (1.15.0)\n",
            "Collecting datetime\n",
            "\u001b[?25l  Downloading https://files.pythonhosted.org/packages/73/22/a5297f3a1f92468cc737f8ce7ba6e5f245fcfafeae810ba37bd1039ea01c/DateTime-4.3-py2.py3-none-any.whl (60kB)\n",
            "\u001b[K     |████████████████████████████████| 61kB 7.8MB/s \n",
            "\u001b[?25hRequirement already satisfied: pytz in /usr/local/lib/python3.7/dist-packages (from datetime) (2018.9)\n",
            "Collecting zope.interface\n",
            "\u001b[?25l  Downloading https://files.pythonhosted.org/packages/f8/42/d8f11eaef844bee267821281fffe445e49cf31b486d72a81821a9d45cd0a/zope.interface-5.2.0-cp37-cp37m-manylinux2010_x86_64.whl (237kB)\n",
            "\u001b[K     |████████████████████████████████| 245kB 20.2MB/s \n",
            "\u001b[?25hRequirement already satisfied: setuptools in /usr/local/lib/python3.7/dist-packages (from zope.interface->datetime) (54.1.2)\n",
            "Installing collected packages: zope.interface, datetime\n",
            "Successfully installed datetime-4.3 zope.interface-5.2.0\n"
          ],
          "name": "stdout"
        }
      ]
    },
    {
      "cell_type": "markdown",
      "metadata": {
        "id": "PMMQ_L7Qb6Vu"
      },
      "source": [
        "# Get data and setup"
      ]
    },
    {
      "cell_type": "markdown",
      "metadata": {
        "id": "ytCkpOk9_thE"
      },
      "source": [
        "Importing the txt sheet where all the data are (format: date - hour - value) (as long there's new line to indicate that a set of value is done, the program will work no matter how the data is placed in the datasheet, it is fault resistant) and lastly creating all the needed variable"
      ]
    },
    {
      "cell_type": "code",
      "metadata": {
        "id": "p97s3MLTysk0",
        "colab": {
          "resources": {
            "http://localhost:8080/nbextensions/google.colab/files.js": {
              "data": "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",
              "ok": true,
              "headers": [
                [
                  "content-type",
                  "application/javascript"
                ]
              ],
              "status": 200,
              "status_text": ""
            }
          },
          "base_uri": "https://localhost:8080/",
          "height": 160
        },
        "outputId": "bba0eb19-caa7-44a0-cfba-631a10a6ff32"
      },
      "source": [
        "from google.colab import files\n",
        "from datetime import datetime\n",
        "\n",
        "# get the data from the text fi le\n",
        "file_data = files.upload()\n",
        "# trasform the data got from the txt file to list, \n",
        "# so that in the next FOR cyclefor trasforming the data is easier to read letter per letter\n",
        "list_of_data_file = list(file_data.values());\n",
        "\n",
        "for single_data_file in list_of_data_file:\n",
        "  print(single_data_file)"
      ],
      "execution_count": 80,
      "outputs": [
        {
          "output_type": "display_data",
          "data": {
            "text/html": [
              "\n",
              "     <input type=\"file\" id=\"files-9e7403fa-7727-41cb-89aa-b0bd1f5a20dd\" name=\"files[]\" multiple disabled\n",
              "        style=\"border:none\" />\n",
              "     <output id=\"result-9e7403fa-7727-41cb-89aa-b0bd1f5a20dd\">\n",
              "      Upload widget is only available when the cell has been executed in the\n",
              "      current browser session. Please rerun this cell to enable.\n",
              "      </output>\n",
              "      <script src=\"/nbextensions/google.colab/files.js\"></script> "
            ],
            "text/plain": [
              "<IPython.core.display.HTML object>"
            ]
          },
          "metadata": {
            "tags": []
          }
        },
        {
          "output_type": "stream",
          "text": [
            "Saving DummyData.txt to DummyData (6).txt\n",
            "Saving DummyData2.txt to DummyData2 (8).txt\n",
            "b'Temperatura ripresa (Sr)\\r\\n08-11-2020 00:07:00\\t7,40\\r\\n08-11-2020 00:27:00\\t2,60\\r\\n08-11-2020 00:47:00\\t0,80\\r\\n08-11-2020 01:07:00\\t0,00\\r\\n08-11-2020 01:27:00\\t0,20\\r\\n08-11-2020 01:47:00\\t-0,20\\r\\n08-11-2020 02:07:00\\t-0,20\\r\\n08-11-2020 02:27:00\\t-0,40\\r\\n08-11-2020 02:47:00\\t-0,20\\r\\n08-11-2020 03:07:00\\t-0,40\\r\\n08-11-2020 03:27:00\\t-0,20\\r\\n08-11-2020 03:47:00\\t-0,20\\r\\n08-11-2020 04:07:00\\t-0,80\\r\\n\\r\\nTemperatura mandata (Sm)\\r\\n08-11-2020 00:07:00\\t9,90\\r\\n08-11-2020 00:27:00\\t3,30\\r\\n08-11-2020 00:47:00\\t1,70\\r\\n08-11-2020 01:07:00\\t1,70\\r\\n08-11-2020 01:27:00\\t2,70\\r\\n08-11-2020 01:47:00\\t1,10\\r\\n08-11-2020 02:07:00\\t1,30\\r\\n08-11-2020 02:27:00\\t0,70\\r\\n08-11-2020 02:47:00\\t1,50\\r\\n08-11-2020 03:07:00\\t0,30\\r\\n08-11-2020 03:27:00\\t2,50\\r\\n08-11-2020 03:47:00\\t2,10\\r\\n08-11-2020 04:07:00\\t2,70\\r\\n08-11-2020 04:27:00\\t13,10\\r\\n\\r\\nTemperatura sbrinamento (Sd)\\r\\n08-11-2020 00:07:00\\t9,90\\r\\n08-11-2020 00:27:00\\t3,30\\r\\n08-11-2020 00:47:00\\t1,70\\r\\n08-11-2020 01:07:00\\t1,70\\r\\n08-11-2020 01:27:00\\t2,70\\r\\n08-11-2020 01:47:00\\t1,10\\r\\n08-11-2020 02:07:00\\t1,50\\r\\n08-11-2020 02:27:00\\t0,70\\r\\n08-11-2020 02:47:00\\t1,50\\r\\n08-11-2020 03:07:00\\t0,30\\r\\n08-11-2020 03:27:00\\t2,50\\r\\n08-11-2020 03:47:00\\t2,10\\r\\n08-11-2020 04:07:00\\t2,70\\r\\n08-11-2020 04:27:00\\t13,10\\r\\n\\r\\nStato di defrost\\r\\n08-11-2020 00:07:00\\t0,00\\r\\n08-11-2020 00:27:00\\t0,00\\r\\n08-11-2020 00:47:00\\t0,00\\r\\n08-11-2020 01:07:00\\t0,00\\r\\n08-11-2020 01:27:00\\t0,00\\r\\n08-11-2020 01:47:00\\t0,00\\r\\n08-11-2020 02:07:00\\t0,00\\r\\n08-11-2020 02:27:00\\t0,00\\r\\n08-11-2020 02:47:00\\t0,00\\r\\n08-11-2020 03:07:00\\t0,00\\r\\n08-11-2020 03:27:00\\t0,00\\r\\n\\r\\nStato porta\\r\\n08-11-2020 00:07:00\\t0,00\\r\\n08-11-2020 00:27:00\\t0,00\\r\\n08-11-2020 00:47:00\\t0,00\\r\\n08-11-2020 01:07:00\\t0,00\\r\\n08-11-2020 01:27:00\\t0,00\\r\\n08-11-2020 01:47:00\\t0,00\\r\\n08-11-2020 02:07:00\\t0,00\\r\\n08-11-2020 02:27:00\\t0,00\\r\\n08-11-2020 02:47:00\\t0,00\\r\\n'\n",
            "b'Temperatura ripresa1 (Sr)\\r\\n08-11-2020 00:07:00\\t7,40\\r\\n08-11-2020 00:27:00\\t2,60\\r\\n08-11-2020 00:47:00\\t0,80\\r\\n08-11-2020 01:07:00\\t0,00\\r\\n08-11-2020 01:27:00\\t0,20\\r\\n08-11-2020 01:47:00\\t-0,20\\r\\n08-11-2020 02:07:00\\t-0,20\\r\\n08-11-2020 02:27:00\\t-0,40\\r\\n08-11-2020 02:47:00\\t-0,20\\r\\n08-11-2020 03:07:00\\t-0,40\\r\\n08-11-2020 03:27:00\\t-0,20\\r\\n08-11-2020 03:47:00\\t-0,20\\r\\n08-11-2020 04:07:00\\t-0,80\\r\\n\\r\\nTemperatura mandata1 (Sm)\\r\\n08-11-2020 00:07:00\\t9,90\\r\\n08-11-2020 00:27:00\\t3,30\\r\\n08-11-2020 00:47:00\\t1,70\\r\\n08-11-2020 01:07:00\\t1,70\\r\\n08-11-2020 01:27:00\\t2,70\\r\\n08-11-2020 01:47:00\\t1,10\\r\\n08-11-2020 02:07:00\\t1,30\\r\\n08-11-2020 02:27:00\\t0,70\\r\\n08-11-2020 02:47:00\\t1,50\\r\\n08-11-2020 03:07:00\\t0,30\\r\\n08-11-2020 03:27:00\\t2,50\\r\\n08-11-2020 03:47:00\\t2,10\\r\\n08-11-2020 04:07:00\\t2,70\\r\\n08-11-2020 04:27:00\\t13,10\\r\\n\\r\\nTemperatura sbrinamento1 (Sd)\\r\\n08-11-2020 00:07:00\\t9,90\\r\\n08-11-2020 00:27:00\\t3,30\\r\\n08-11-2020 00:47:00\\t1,70\\r\\n08-11-2020 01:07:00\\t1,70\\r\\n08-11-2020 01:27:00\\t2,70\\r\\n08-11-2020 01:47:00\\t1,10\\r\\n08-11-2020 02:07:00\\t1,50\\r\\n08-11-2020 02:27:00\\t0,70\\r\\n08-11-2020 02:47:00\\t1,50\\r\\n08-11-2020 03:07:00\\t0,30\\r\\n08-11-2020 03:27:00\\t2,50\\r\\n08-11-2020 03:47:00\\t2,10\\r\\n08-11-2020 04:07:00\\t2,70\\r\\n08-11-2020 04:27:00\\t13,10\\r\\n\\r\\nStato di defrost1\\r\\n08-11-2020 00:07:00\\t0,00\\r\\n08-11-2020 00:27:00\\t0,00\\r\\n08-11-2020 00:47:00\\t0,00\\r\\n08-11-2020 01:07:00\\t0,00\\r\\n08-11-2020 01:27:00\\t0,00\\r\\n08-11-2020 01:47:00\\t0,00\\r\\n08-11-2020 02:07:00\\t0,00\\r\\n08-11-2020 02:27:00\\t0,00\\r\\n08-11-2020 02:47:00\\t0,00\\r\\n08-11-2020 03:07:00\\t0,00\\r\\n08-11-2020 03:27:00\\t0,00\\r\\n\\r\\nStato porta1\\r\\n08-11-2020 00:07:00\\t0,00\\r\\n08-11-2020 00:27:00\\t0,00\\r\\n08-11-2020 00:47:00\\t0,00\\r\\n08-11-2020 01:07:00\\t0,00\\r\\n08-11-2020 01:27:00\\t0,00\\r\\n08-11-2020 01:47:00\\t0,00\\r\\n08-11-2020 02:07:00\\t0,00\\r\\n08-11-2020 02:27:00\\t0,00\\r\\n08-11-2020 02:47:00\\t0,00\\r\\n'\n"
          ],
          "name": "stdout"
        }
      ]
    },
    {
      "cell_type": "markdown",
      "metadata": {
        "id": "cOUkzqrgdYH4"
      },
      "source": [
        "Preparing the needed variable to trasform the data read from the datasheet to usable data (in lists)"
      ]
    },
    {
      "cell_type": "code",
      "metadata": {
        "id": "6fQWTMrNdXVg"
      },
      "source": [
        "# variable that indicate the number of symbols that compose a date&time\n",
        "date_format = 10\n",
        "time_format = 8\n",
        "\n",
        "# variable that will store every symbol read from the datasheet\n",
        "buffer_of_data = \"\"\n",
        "\n",
        "# variable that will store the name/title of the various group of data \n",
        "# (it has:\"No Name\" value in case the file is missing a title for the group of data)\n",
        "element_name = \"No Name\"\n",
        "\n",
        "# variable that control if the line that the program is reading, is a data line or group title line\n",
        "control_name_line = False\n",
        "\n",
        "# variable that will store any complete data with any of the following format (date, time, float)\n",
        "single_string_list_of_data = []\n",
        "\n",
        "# once a single line of data (couple of data) is done being stored, \n",
        "# divide them (these 2 list are not really needed in the program, they are here only for code cleaness sake)\n",
        "list_of_datetime = []\n",
        "list_of_float = []\n",
        "\n",
        "# a general list where the complete data (by group) will be stored\n",
        "data_list = []\n",
        "\n",
        "# variable that checks if it's the first cycle inside the for loop since it started reading \n",
        "# (this is useful for avoiding adding data to the data list when it encounters the first title)\n",
        "# (since the program add to the data list before each title read)\n",
        "first_read = True\n",
        "\n",
        "# divide a single line of data of the datasheet in 3 section, where each section has the following meaning,\n",
        "# Date, Time, Float; what this variable do, is basically acting as index \n",
        "# to indicate wich section we are currently reading in the datasheet\n",
        "section_index = 0"
      ],
      "execution_count": 73,
      "outputs": []
    },
    {
      "cell_type": "markdown",
      "metadata": {
        "id": "C490lpURb-UK"
      },
      "source": [
        "# Trasform Data"
      ]
    },
    {
      "cell_type": "markdown",
      "metadata": {
        "id": "Jf69MNz7ASNJ"
      },
      "source": [
        "Rearranging all the data so that it returns a general list where all the data are stored, while also doing the casting from string to the needed type (for example string to datatime format)"
      ]
    },
    {
      "cell_type": "code",
      "metadata": {
        "id": "hpksqVJpLDG2",
        "outputId": "742cd9b5-9687-48ed-f539-6643dee3fe11",
        "colab": {
          "base_uri": "https://localhost:8080/"
        }
      },
      "source": [
        "from datetime import datetime\n",
        "\n",
        "# go through all the data that were in the datasheet, and return a general list where are stored all the data (sorted by group)\n",
        "# the that reading actually works is that we divide each line of data in 3 section, and each section has different meaning\n",
        "# the order of meaning of each section is: data, time, value (this is useful so that we know what we are actually reading)\n",
        "for i in string_datatext_value[0]:\n",
        "  # 32 is a value ascii that means \"Space\"\n",
        "  # 9  is a value ascii that means \"Tab\"\n",
        "  # 13 is a value ascii that means \"Carriage Return\"\n",
        "  # 10 is a value ascii that means \"New Line\"\n",
        "  # Ignore all the \"special symbols\" (expect 10 since it is the last symbol before the new line is complete, \n",
        "  # and it is needed to know when the program is done reading a single line of data), and just get all the \"interesting\" data\n",
        "  if i != 32 and i != 9 and i != 13:\n",
        "    # read a single symbol (convert it from ASCII to string) from string of data (taken from the datasheet) and store it\n",
        "    buffer_of_data = buffer_of_data + chr(i);\n",
        "\n",
        "    # if we are currently in the first section (date section)...\n",
        "    if section_index == 0:\n",
        "      # if the lenght of the collected data reached the date format, that means that we are done with the date section,\n",
        "      # also it means that the casting mey be possible (it can fail in case the line read is a \"Title\" line)\n",
        "      if len(buffer_of_data) == date_format or control_name_line == True:\n",
        "        # if the line read is not a \"title\" line...\n",
        "        if control_name_line == False:\n",
        "          # try to do the casting (from string to datetime), and if it fail, it means that we are currently in a \"title\" line \n",
        "          # (since in the first section there could be only a date format or string format (that is the title))\n",
        "          try:\n",
        "            single_string_list_of_data.append(datetime.strptime(buffer_of_data, \"%d-%m-%Y\").date())\n",
        "\n",
        "            # if the read is successful, that means we are done reading the first data\n",
        "            first_read = False\n",
        "\n",
        "            # reset the buffer and pass to the next section\n",
        "            buffer_of_data = \"\"\n",
        "            section_index+=1\n",
        "          except:\n",
        "            # if the casting failed, that means we're in the \"title\" line\n",
        "            control_name_line = True\n",
        "\n",
        "        # if we're in the \"title\" line\n",
        "        elif control_name_line:\n",
        "          # wait to gather all the data of the title (we know it's done reading when we encounter the new line symbol)\n",
        "          if i == 10:\n",
        "            # if we've done the first reading, it means that we can add the data of the previous group\n",
        "            # the program add the data by group each time it reads a title \n",
        "            # (the first read variable is useful to ignore the add data during the first reading of the first title)\n",
        "            if first_read == False:\n",
        "              data_list.append([element_name, list_of_datetime.copy(), list_of_float.copy()])\n",
        "              print(data_list)\n",
        "\n",
        "              # clean the 2 lists to prepare them for the upcoming data of other group of data\n",
        "              list_of_datetime.clear()\n",
        "              list_of_float.clear()\n",
        "\n",
        "            # reset all the \"support\" variable\n",
        "            element_name = buffer_of_data\n",
        "            buffer_of_data = \"\"\n",
        "            control_name_line = False\n",
        "\n",
        "      # if the symbol we got from the reading equals 10 (new line), that means that the line we are currently in the file, hasn't any data, so clean the buffer and go on\n",
        "      elif i == 10:\n",
        "        buffer_of_data = \"\"\n",
        "\n",
        "    # if we are currently in the second section (time section)...\n",
        "    elif section_index == 1:\n",
        "      # if the lenght of the collected data reached the time format, that means that we are done with the time section,\n",
        "      # also it means that the casting is possible\n",
        "      if len(buffer_of_data) == time_format:\n",
        "        single_string_list_of_data.append(datetime.strptime(buffer_of_data, \"%H:%M:%S\").time())\n",
        "\n",
        "        # reset the buffer and pass to the next section\n",
        "        buffer_of_data = \"\"\n",
        "        section_index+=1\n",
        "\n",
        "    # if we are currently in the third section (float section)...\n",
        "    elif section_index == 2:\n",
        "      # if we detect a 10 (in ASCII means \"new line\"), that means we're done reading a single line of data\n",
        "      # and that we are done to also reading a single couple of data\n",
        "      if i == 10:\n",
        "        # Add the string to the string of data while also,\n",
        "        # Converting the value from string to float and replacing the \",\" in \".\" so that the casting is possible\n",
        "        single_string_list_of_data.append(float(buffer_of_data.replace(\",\", \".\")))\n",
        "        \n",
        "        # divide the couple of data into 2 different lists to prepare them to be converted into pandas dataframe\n",
        "        list_of_datetime.append(datetime.combine(single_string_list_of_data[0], single_string_list_of_data[1]))\n",
        "        list_of_float.append(single_string_list_of_data[2])\n",
        "\n",
        "        # reset the buffer and the single string of data list and return to the first section to read more data of other lines\n",
        "        buffer_of_data = \"\"\n",
        "        single_string_list_of_data.clear()\n",
        "        section_index = 0\n",
        "\n",
        "# add items for the last time in the list if the last element in the txt file doesn't have \\n \n",
        "# (the consequence is that the for loop is unable to store the last couple of data)\n",
        "if string_datatext_value[0][len(string_datatext_value[0])-1] != 10 and string_datatext_value[0][len(string_datatext_value[0])-1] != 13:\n",
        "  single_string_list_of_data.append(float(buffer_of_data.replace(\",\", \".\")))\n",
        "  list_of_datetime.append(datetime.combine(single_string_list_of_data[0], single_string_list_of_data[1]))\n",
        "  list_of_float.append(single_string_list_of_data[2])\n",
        "\n",
        "# add the last group of data since the for cycle is unable to do it, because it adds to the list only when it encounters a new \"title\" \n",
        "# (and obviously at the end of a datasheet there can't be a title)\n",
        "data_list.append([element_name, list_of_datetime.copy(), list_of_float.copy()])"
      ],
      "execution_count": 76,
      "outputs": [
        {
          "output_type": "stream",
          "text": [
            "[['Temperaturaripresa(Sr)\\n', [datetime.datetime(2020, 11, 8, 0, 7), datetime.datetime(2020, 11, 8, 0, 27), datetime.datetime(2020, 11, 8, 0, 47), datetime.datetime(2020, 11, 8, 1, 7), datetime.datetime(2020, 11, 8, 1, 27), datetime.datetime(2020, 11, 8, 1, 47), datetime.datetime(2020, 11, 8, 2, 7), datetime.datetime(2020, 11, 8, 2, 27), datetime.datetime(2020, 11, 8, 2, 47), datetime.datetime(2020, 11, 8, 3, 7), datetime.datetime(2020, 11, 8, 3, 27), datetime.datetime(2020, 11, 8, 3, 47), datetime.datetime(2020, 11, 8, 4, 7)], [7.4, 2.6, 0.8, 0.0, 0.2, -0.2, -0.2, -0.4, -0.2, -0.4, -0.2, -0.2, -0.8]], ['Temperaturamandata(Sm)\\n', [datetime.datetime(2020, 11, 8, 0, 7), datetime.datetime(2020, 11, 8, 0, 27), datetime.datetime(2020, 11, 8, 0, 47), datetime.datetime(2020, 11, 8, 1, 7), datetime.datetime(2020, 11, 8, 1, 27), datetime.datetime(2020, 11, 8, 1, 47), datetime.datetime(2020, 11, 8, 2, 7), datetime.datetime(2020, 11, 8, 2, 27), datetime.datetime(2020, 11, 8, 2, 47), datetime.datetime(2020, 11, 8, 3, 7), datetime.datetime(2020, 11, 8, 3, 27), datetime.datetime(2020, 11, 8, 3, 47), datetime.datetime(2020, 11, 8, 4, 7), datetime.datetime(2020, 11, 8, 4, 27)], [9.9, 3.3, 1.7, 1.7, 2.7, 1.1, 1.3, 0.7, 1.5, 0.3, 2.5, 2.1, 2.7, 13.1]], ['Temperaturasbrinamento(Sd)\\n', [datetime.datetime(2020, 11, 8, 0, 7), datetime.datetime(2020, 11, 8, 0, 27), datetime.datetime(2020, 11, 8, 0, 47), datetime.datetime(2020, 11, 8, 1, 7), datetime.datetime(2020, 11, 8, 1, 27), datetime.datetime(2020, 11, 8, 1, 47), datetime.datetime(2020, 11, 8, 2, 7), datetime.datetime(2020, 11, 8, 2, 27), datetime.datetime(2020, 11, 8, 2, 47), datetime.datetime(2020, 11, 8, 3, 7), datetime.datetime(2020, 11, 8, 3, 27), datetime.datetime(2020, 11, 8, 3, 47), datetime.datetime(2020, 11, 8, 4, 7), datetime.datetime(2020, 11, 8, 4, 27)], [9.9, 3.3, 1.7, 1.7, 2.7, 1.1, 1.5, 0.7, 1.5, 0.3, 2.5, 2.1, 2.7, 13.1]], ['Statodidefrost\\n', [datetime.datetime(2020, 11, 8, 0, 7), datetime.datetime(2020, 11, 8, 0, 27), datetime.datetime(2020, 11, 8, 0, 47), datetime.datetime(2020, 11, 8, 1, 7), datetime.datetime(2020, 11, 8, 1, 27), datetime.datetime(2020, 11, 8, 1, 47), datetime.datetime(2020, 11, 8, 2, 7), datetime.datetime(2020, 11, 8, 2, 27), datetime.datetime(2020, 11, 8, 2, 47), datetime.datetime(2020, 11, 8, 3, 7), datetime.datetime(2020, 11, 8, 3, 27)], [0.0, 0.0, 0.0, 0.0, 0.0, 0.0, 0.0, 0.0, 0.0, 0.0, 0.0]], ['Statoporta\\n', [datetime.datetime(2020, 11, 8, 0, 7), datetime.datetime(2020, 11, 8, 0, 27), datetime.datetime(2020, 11, 8, 0, 47), datetime.datetime(2020, 11, 8, 1, 7), datetime.datetime(2020, 11, 8, 1, 27), datetime.datetime(2020, 11, 8, 1, 47), datetime.datetime(2020, 11, 8, 2, 7), datetime.datetime(2020, 11, 8, 2, 27), datetime.datetime(2020, 11, 8, 2, 47)], [0.0, 0.0, 0.0, 0.0, 0.0, 0.0, 0.0, 0.0, 0.0]], ['Statoporta\\n', [datetime.datetime(2020, 11, 8, 0, 7), datetime.datetime(2020, 11, 8, 0, 27), datetime.datetime(2020, 11, 8, 0, 47), datetime.datetime(2020, 11, 8, 1, 7), datetime.datetime(2020, 11, 8, 1, 27), datetime.datetime(2020, 11, 8, 1, 47), datetime.datetime(2020, 11, 8, 2, 7), datetime.datetime(2020, 11, 8, 2, 27), datetime.datetime(2020, 11, 8, 2, 47)], [0.0, 0.0, 0.0, 0.0, 0.0, 0.0, 0.0, 0.0, 0.0]]]\n",
            "[['Temperaturaripresa(Sr)\\n', [datetime.datetime(2020, 11, 8, 0, 7), datetime.datetime(2020, 11, 8, 0, 27), datetime.datetime(2020, 11, 8, 0, 47), datetime.datetime(2020, 11, 8, 1, 7), datetime.datetime(2020, 11, 8, 1, 27), datetime.datetime(2020, 11, 8, 1, 47), datetime.datetime(2020, 11, 8, 2, 7), datetime.datetime(2020, 11, 8, 2, 27), datetime.datetime(2020, 11, 8, 2, 47), datetime.datetime(2020, 11, 8, 3, 7), datetime.datetime(2020, 11, 8, 3, 27), datetime.datetime(2020, 11, 8, 3, 47), datetime.datetime(2020, 11, 8, 4, 7)], [7.4, 2.6, 0.8, 0.0, 0.2, -0.2, -0.2, -0.4, -0.2, -0.4, -0.2, -0.2, -0.8]], ['Temperaturamandata(Sm)\\n', [datetime.datetime(2020, 11, 8, 0, 7), datetime.datetime(2020, 11, 8, 0, 27), datetime.datetime(2020, 11, 8, 0, 47), datetime.datetime(2020, 11, 8, 1, 7), datetime.datetime(2020, 11, 8, 1, 27), datetime.datetime(2020, 11, 8, 1, 47), datetime.datetime(2020, 11, 8, 2, 7), datetime.datetime(2020, 11, 8, 2, 27), datetime.datetime(2020, 11, 8, 2, 47), datetime.datetime(2020, 11, 8, 3, 7), datetime.datetime(2020, 11, 8, 3, 27), datetime.datetime(2020, 11, 8, 3, 47), datetime.datetime(2020, 11, 8, 4, 7), datetime.datetime(2020, 11, 8, 4, 27)], [9.9, 3.3, 1.7, 1.7, 2.7, 1.1, 1.3, 0.7, 1.5, 0.3, 2.5, 2.1, 2.7, 13.1]], ['Temperaturasbrinamento(Sd)\\n', [datetime.datetime(2020, 11, 8, 0, 7), datetime.datetime(2020, 11, 8, 0, 27), datetime.datetime(2020, 11, 8, 0, 47), datetime.datetime(2020, 11, 8, 1, 7), datetime.datetime(2020, 11, 8, 1, 27), datetime.datetime(2020, 11, 8, 1, 47), datetime.datetime(2020, 11, 8, 2, 7), datetime.datetime(2020, 11, 8, 2, 27), datetime.datetime(2020, 11, 8, 2, 47), datetime.datetime(2020, 11, 8, 3, 7), datetime.datetime(2020, 11, 8, 3, 27), datetime.datetime(2020, 11, 8, 3, 47), datetime.datetime(2020, 11, 8, 4, 7), datetime.datetime(2020, 11, 8, 4, 27)], [9.9, 3.3, 1.7, 1.7, 2.7, 1.1, 1.5, 0.7, 1.5, 0.3, 2.5, 2.1, 2.7, 13.1]], ['Statodidefrost\\n', [datetime.datetime(2020, 11, 8, 0, 7), datetime.datetime(2020, 11, 8, 0, 27), datetime.datetime(2020, 11, 8, 0, 47), datetime.datetime(2020, 11, 8, 1, 7), datetime.datetime(2020, 11, 8, 1, 27), datetime.datetime(2020, 11, 8, 1, 47), datetime.datetime(2020, 11, 8, 2, 7), datetime.datetime(2020, 11, 8, 2, 27), datetime.datetime(2020, 11, 8, 2, 47), datetime.datetime(2020, 11, 8, 3, 7), datetime.datetime(2020, 11, 8, 3, 27)], [0.0, 0.0, 0.0, 0.0, 0.0, 0.0, 0.0, 0.0, 0.0, 0.0, 0.0]], ['Statoporta\\n', [datetime.datetime(2020, 11, 8, 0, 7), datetime.datetime(2020, 11, 8, 0, 27), datetime.datetime(2020, 11, 8, 0, 47), datetime.datetime(2020, 11, 8, 1, 7), datetime.datetime(2020, 11, 8, 1, 27), datetime.datetime(2020, 11, 8, 1, 47), datetime.datetime(2020, 11, 8, 2, 7), datetime.datetime(2020, 11, 8, 2, 27), datetime.datetime(2020, 11, 8, 2, 47)], [0.0, 0.0, 0.0, 0.0, 0.0, 0.0, 0.0, 0.0, 0.0]], ['Statoporta\\n', [datetime.datetime(2020, 11, 8, 0, 7), datetime.datetime(2020, 11, 8, 0, 27), datetime.datetime(2020, 11, 8, 0, 47), datetime.datetime(2020, 11, 8, 1, 7), datetime.datetime(2020, 11, 8, 1, 27), datetime.datetime(2020, 11, 8, 1, 47), datetime.datetime(2020, 11, 8, 2, 7), datetime.datetime(2020, 11, 8, 2, 27), datetime.datetime(2020, 11, 8, 2, 47)], [0.0, 0.0, 0.0, 0.0, 0.0, 0.0, 0.0, 0.0, 0.0]], ['Temperaturaripresa(Sr)\\n', [datetime.datetime(2020, 11, 8, 0, 7), datetime.datetime(2020, 11, 8, 0, 27), datetime.datetime(2020, 11, 8, 0, 47), datetime.datetime(2020, 11, 8, 1, 7), datetime.datetime(2020, 11, 8, 1, 27), datetime.datetime(2020, 11, 8, 1, 47), datetime.datetime(2020, 11, 8, 2, 7), datetime.datetime(2020, 11, 8, 2, 27), datetime.datetime(2020, 11, 8, 2, 47), datetime.datetime(2020, 11, 8, 3, 7), datetime.datetime(2020, 11, 8, 3, 27), datetime.datetime(2020, 11, 8, 3, 47), datetime.datetime(2020, 11, 8, 4, 7)], [7.4, 2.6, 0.8, 0.0, 0.2, -0.2, -0.2, -0.4, -0.2, -0.4, -0.2, -0.2, -0.8]]]\n",
            "[['Temperaturaripresa(Sr)\\n', [datetime.datetime(2020, 11, 8, 0, 7), datetime.datetime(2020, 11, 8, 0, 27), datetime.datetime(2020, 11, 8, 0, 47), datetime.datetime(2020, 11, 8, 1, 7), datetime.datetime(2020, 11, 8, 1, 27), datetime.datetime(2020, 11, 8, 1, 47), datetime.datetime(2020, 11, 8, 2, 7), datetime.datetime(2020, 11, 8, 2, 27), datetime.datetime(2020, 11, 8, 2, 47), datetime.datetime(2020, 11, 8, 3, 7), datetime.datetime(2020, 11, 8, 3, 27), datetime.datetime(2020, 11, 8, 3, 47), datetime.datetime(2020, 11, 8, 4, 7)], [7.4, 2.6, 0.8, 0.0, 0.2, -0.2, -0.2, -0.4, -0.2, -0.4, -0.2, -0.2, -0.8]], ['Temperaturamandata(Sm)\\n', [datetime.datetime(2020, 11, 8, 0, 7), datetime.datetime(2020, 11, 8, 0, 27), datetime.datetime(2020, 11, 8, 0, 47), datetime.datetime(2020, 11, 8, 1, 7), datetime.datetime(2020, 11, 8, 1, 27), datetime.datetime(2020, 11, 8, 1, 47), datetime.datetime(2020, 11, 8, 2, 7), datetime.datetime(2020, 11, 8, 2, 27), datetime.datetime(2020, 11, 8, 2, 47), datetime.datetime(2020, 11, 8, 3, 7), datetime.datetime(2020, 11, 8, 3, 27), datetime.datetime(2020, 11, 8, 3, 47), datetime.datetime(2020, 11, 8, 4, 7), datetime.datetime(2020, 11, 8, 4, 27)], [9.9, 3.3, 1.7, 1.7, 2.7, 1.1, 1.3, 0.7, 1.5, 0.3, 2.5, 2.1, 2.7, 13.1]], ['Temperaturasbrinamento(Sd)\\n', [datetime.datetime(2020, 11, 8, 0, 7), datetime.datetime(2020, 11, 8, 0, 27), datetime.datetime(2020, 11, 8, 0, 47), datetime.datetime(2020, 11, 8, 1, 7), datetime.datetime(2020, 11, 8, 1, 27), datetime.datetime(2020, 11, 8, 1, 47), datetime.datetime(2020, 11, 8, 2, 7), datetime.datetime(2020, 11, 8, 2, 27), datetime.datetime(2020, 11, 8, 2, 47), datetime.datetime(2020, 11, 8, 3, 7), datetime.datetime(2020, 11, 8, 3, 27), datetime.datetime(2020, 11, 8, 3, 47), datetime.datetime(2020, 11, 8, 4, 7), datetime.datetime(2020, 11, 8, 4, 27)], [9.9, 3.3, 1.7, 1.7, 2.7, 1.1, 1.5, 0.7, 1.5, 0.3, 2.5, 2.1, 2.7, 13.1]], ['Statodidefrost\\n', [datetime.datetime(2020, 11, 8, 0, 7), datetime.datetime(2020, 11, 8, 0, 27), datetime.datetime(2020, 11, 8, 0, 47), datetime.datetime(2020, 11, 8, 1, 7), datetime.datetime(2020, 11, 8, 1, 27), datetime.datetime(2020, 11, 8, 1, 47), datetime.datetime(2020, 11, 8, 2, 7), datetime.datetime(2020, 11, 8, 2, 27), datetime.datetime(2020, 11, 8, 2, 47), datetime.datetime(2020, 11, 8, 3, 7), datetime.datetime(2020, 11, 8, 3, 27)], [0.0, 0.0, 0.0, 0.0, 0.0, 0.0, 0.0, 0.0, 0.0, 0.0, 0.0]], ['Statoporta\\n', [datetime.datetime(2020, 11, 8, 0, 7), datetime.datetime(2020, 11, 8, 0, 27), datetime.datetime(2020, 11, 8, 0, 47), datetime.datetime(2020, 11, 8, 1, 7), datetime.datetime(2020, 11, 8, 1, 27), datetime.datetime(2020, 11, 8, 1, 47), datetime.datetime(2020, 11, 8, 2, 7), datetime.datetime(2020, 11, 8, 2, 27), datetime.datetime(2020, 11, 8, 2, 47)], [0.0, 0.0, 0.0, 0.0, 0.0, 0.0, 0.0, 0.0, 0.0]], ['Statoporta\\n', [datetime.datetime(2020, 11, 8, 0, 7), datetime.datetime(2020, 11, 8, 0, 27), datetime.datetime(2020, 11, 8, 0, 47), datetime.datetime(2020, 11, 8, 1, 7), datetime.datetime(2020, 11, 8, 1, 27), datetime.datetime(2020, 11, 8, 1, 47), datetime.datetime(2020, 11, 8, 2, 7), datetime.datetime(2020, 11, 8, 2, 27), datetime.datetime(2020, 11, 8, 2, 47)], [0.0, 0.0, 0.0, 0.0, 0.0, 0.0, 0.0, 0.0, 0.0]], ['Temperaturaripresa(Sr)\\n', [datetime.datetime(2020, 11, 8, 0, 7), datetime.datetime(2020, 11, 8, 0, 27), datetime.datetime(2020, 11, 8, 0, 47), datetime.datetime(2020, 11, 8, 1, 7), datetime.datetime(2020, 11, 8, 1, 27), datetime.datetime(2020, 11, 8, 1, 47), datetime.datetime(2020, 11, 8, 2, 7), datetime.datetime(2020, 11, 8, 2, 27), datetime.datetime(2020, 11, 8, 2, 47), datetime.datetime(2020, 11, 8, 3, 7), datetime.datetime(2020, 11, 8, 3, 27), datetime.datetime(2020, 11, 8, 3, 47), datetime.datetime(2020, 11, 8, 4, 7)], [7.4, 2.6, 0.8, 0.0, 0.2, -0.2, -0.2, -0.4, -0.2, -0.4, -0.2, -0.2, -0.8]], ['Temperaturamandata(Sm)\\n', [datetime.datetime(2020, 11, 8, 0, 7), datetime.datetime(2020, 11, 8, 0, 27), datetime.datetime(2020, 11, 8, 0, 47), datetime.datetime(2020, 11, 8, 1, 7), datetime.datetime(2020, 11, 8, 1, 27), datetime.datetime(2020, 11, 8, 1, 47), datetime.datetime(2020, 11, 8, 2, 7), datetime.datetime(2020, 11, 8, 2, 27), datetime.datetime(2020, 11, 8, 2, 47), datetime.datetime(2020, 11, 8, 3, 7), datetime.datetime(2020, 11, 8, 3, 27), datetime.datetime(2020, 11, 8, 3, 47), datetime.datetime(2020, 11, 8, 4, 7), datetime.datetime(2020, 11, 8, 4, 27)], [9.9, 3.3, 1.7, 1.7, 2.7, 1.1, 1.3, 0.7, 1.5, 0.3, 2.5, 2.1, 2.7, 13.1]]]\n",
            "[['Temperaturaripresa(Sr)\\n', [datetime.datetime(2020, 11, 8, 0, 7), datetime.datetime(2020, 11, 8, 0, 27), datetime.datetime(2020, 11, 8, 0, 47), datetime.datetime(2020, 11, 8, 1, 7), datetime.datetime(2020, 11, 8, 1, 27), datetime.datetime(2020, 11, 8, 1, 47), datetime.datetime(2020, 11, 8, 2, 7), datetime.datetime(2020, 11, 8, 2, 27), datetime.datetime(2020, 11, 8, 2, 47), datetime.datetime(2020, 11, 8, 3, 7), datetime.datetime(2020, 11, 8, 3, 27), datetime.datetime(2020, 11, 8, 3, 47), datetime.datetime(2020, 11, 8, 4, 7)], [7.4, 2.6, 0.8, 0.0, 0.2, -0.2, -0.2, -0.4, -0.2, -0.4, -0.2, -0.2, -0.8]], ['Temperaturamandata(Sm)\\n', [datetime.datetime(2020, 11, 8, 0, 7), datetime.datetime(2020, 11, 8, 0, 27), datetime.datetime(2020, 11, 8, 0, 47), datetime.datetime(2020, 11, 8, 1, 7), datetime.datetime(2020, 11, 8, 1, 27), datetime.datetime(2020, 11, 8, 1, 47), datetime.datetime(2020, 11, 8, 2, 7), datetime.datetime(2020, 11, 8, 2, 27), datetime.datetime(2020, 11, 8, 2, 47), datetime.datetime(2020, 11, 8, 3, 7), datetime.datetime(2020, 11, 8, 3, 27), datetime.datetime(2020, 11, 8, 3, 47), datetime.datetime(2020, 11, 8, 4, 7), datetime.datetime(2020, 11, 8, 4, 27)], [9.9, 3.3, 1.7, 1.7, 2.7, 1.1, 1.3, 0.7, 1.5, 0.3, 2.5, 2.1, 2.7, 13.1]], ['Temperaturasbrinamento(Sd)\\n', [datetime.datetime(2020, 11, 8, 0, 7), datetime.datetime(2020, 11, 8, 0, 27), datetime.datetime(2020, 11, 8, 0, 47), datetime.datetime(2020, 11, 8, 1, 7), datetime.datetime(2020, 11, 8, 1, 27), datetime.datetime(2020, 11, 8, 1, 47), datetime.datetime(2020, 11, 8, 2, 7), datetime.datetime(2020, 11, 8, 2, 27), datetime.datetime(2020, 11, 8, 2, 47), datetime.datetime(2020, 11, 8, 3, 7), datetime.datetime(2020, 11, 8, 3, 27), datetime.datetime(2020, 11, 8, 3, 47), datetime.datetime(2020, 11, 8, 4, 7), datetime.datetime(2020, 11, 8, 4, 27)], [9.9, 3.3, 1.7, 1.7, 2.7, 1.1, 1.5, 0.7, 1.5, 0.3, 2.5, 2.1, 2.7, 13.1]], ['Statodidefrost\\n', [datetime.datetime(2020, 11, 8, 0, 7), datetime.datetime(2020, 11, 8, 0, 27), datetime.datetime(2020, 11, 8, 0, 47), datetime.datetime(2020, 11, 8, 1, 7), datetime.datetime(2020, 11, 8, 1, 27), datetime.datetime(2020, 11, 8, 1, 47), datetime.datetime(2020, 11, 8, 2, 7), datetime.datetime(2020, 11, 8, 2, 27), datetime.datetime(2020, 11, 8, 2, 47), datetime.datetime(2020, 11, 8, 3, 7), datetime.datetime(2020, 11, 8, 3, 27)], [0.0, 0.0, 0.0, 0.0, 0.0, 0.0, 0.0, 0.0, 0.0, 0.0, 0.0]], ['Statoporta\\n', [datetime.datetime(2020, 11, 8, 0, 7), datetime.datetime(2020, 11, 8, 0, 27), datetime.datetime(2020, 11, 8, 0, 47), datetime.datetime(2020, 11, 8, 1, 7), datetime.datetime(2020, 11, 8, 1, 27), datetime.datetime(2020, 11, 8, 1, 47), datetime.datetime(2020, 11, 8, 2, 7), datetime.datetime(2020, 11, 8, 2, 27), datetime.datetime(2020, 11, 8, 2, 47)], [0.0, 0.0, 0.0, 0.0, 0.0, 0.0, 0.0, 0.0, 0.0]], ['Statoporta\\n', [datetime.datetime(2020, 11, 8, 0, 7), datetime.datetime(2020, 11, 8, 0, 27), datetime.datetime(2020, 11, 8, 0, 47), datetime.datetime(2020, 11, 8, 1, 7), datetime.datetime(2020, 11, 8, 1, 27), datetime.datetime(2020, 11, 8, 1, 47), datetime.datetime(2020, 11, 8, 2, 7), datetime.datetime(2020, 11, 8, 2, 27), datetime.datetime(2020, 11, 8, 2, 47)], [0.0, 0.0, 0.0, 0.0, 0.0, 0.0, 0.0, 0.0, 0.0]], ['Temperaturaripresa(Sr)\\n', [datetime.datetime(2020, 11, 8, 0, 7), datetime.datetime(2020, 11, 8, 0, 27), datetime.datetime(2020, 11, 8, 0, 47), datetime.datetime(2020, 11, 8, 1, 7), datetime.datetime(2020, 11, 8, 1, 27), datetime.datetime(2020, 11, 8, 1, 47), datetime.datetime(2020, 11, 8, 2, 7), datetime.datetime(2020, 11, 8, 2, 27), datetime.datetime(2020, 11, 8, 2, 47), datetime.datetime(2020, 11, 8, 3, 7), datetime.datetime(2020, 11, 8, 3, 27), datetime.datetime(2020, 11, 8, 3, 47), datetime.datetime(2020, 11, 8, 4, 7)], [7.4, 2.6, 0.8, 0.0, 0.2, -0.2, -0.2, -0.4, -0.2, -0.4, -0.2, -0.2, -0.8]], ['Temperaturamandata(Sm)\\n', [datetime.datetime(2020, 11, 8, 0, 7), datetime.datetime(2020, 11, 8, 0, 27), datetime.datetime(2020, 11, 8, 0, 47), datetime.datetime(2020, 11, 8, 1, 7), datetime.datetime(2020, 11, 8, 1, 27), datetime.datetime(2020, 11, 8, 1, 47), datetime.datetime(2020, 11, 8, 2, 7), datetime.datetime(2020, 11, 8, 2, 27), datetime.datetime(2020, 11, 8, 2, 47), datetime.datetime(2020, 11, 8, 3, 7), datetime.datetime(2020, 11, 8, 3, 27), datetime.datetime(2020, 11, 8, 3, 47), datetime.datetime(2020, 11, 8, 4, 7), datetime.datetime(2020, 11, 8, 4, 27)], [9.9, 3.3, 1.7, 1.7, 2.7, 1.1, 1.3, 0.7, 1.5, 0.3, 2.5, 2.1, 2.7, 13.1]], ['Temperaturasbrinamento(Sd)\\n', [datetime.datetime(2020, 11, 8, 0, 7), datetime.datetime(2020, 11, 8, 0, 27), datetime.datetime(2020, 11, 8, 0, 47), datetime.datetime(2020, 11, 8, 1, 7), datetime.datetime(2020, 11, 8, 1, 27), datetime.datetime(2020, 11, 8, 1, 47), datetime.datetime(2020, 11, 8, 2, 7), datetime.datetime(2020, 11, 8, 2, 27), datetime.datetime(2020, 11, 8, 2, 47), datetime.datetime(2020, 11, 8, 3, 7), datetime.datetime(2020, 11, 8, 3, 27), datetime.datetime(2020, 11, 8, 3, 47), datetime.datetime(2020, 11, 8, 4, 7), datetime.datetime(2020, 11, 8, 4, 27)], [9.9, 3.3, 1.7, 1.7, 2.7, 1.1, 1.5, 0.7, 1.5, 0.3, 2.5, 2.1, 2.7, 13.1]]]\n",
            "[['Temperaturaripresa(Sr)\\n', [datetime.datetime(2020, 11, 8, 0, 7), datetime.datetime(2020, 11, 8, 0, 27), datetime.datetime(2020, 11, 8, 0, 47), datetime.datetime(2020, 11, 8, 1, 7), datetime.datetime(2020, 11, 8, 1, 27), datetime.datetime(2020, 11, 8, 1, 47), datetime.datetime(2020, 11, 8, 2, 7), datetime.datetime(2020, 11, 8, 2, 27), datetime.datetime(2020, 11, 8, 2, 47), datetime.datetime(2020, 11, 8, 3, 7), datetime.datetime(2020, 11, 8, 3, 27), datetime.datetime(2020, 11, 8, 3, 47), datetime.datetime(2020, 11, 8, 4, 7)], [7.4, 2.6, 0.8, 0.0, 0.2, -0.2, -0.2, -0.4, -0.2, -0.4, -0.2, -0.2, -0.8]], ['Temperaturamandata(Sm)\\n', [datetime.datetime(2020, 11, 8, 0, 7), datetime.datetime(2020, 11, 8, 0, 27), datetime.datetime(2020, 11, 8, 0, 47), datetime.datetime(2020, 11, 8, 1, 7), datetime.datetime(2020, 11, 8, 1, 27), datetime.datetime(2020, 11, 8, 1, 47), datetime.datetime(2020, 11, 8, 2, 7), datetime.datetime(2020, 11, 8, 2, 27), datetime.datetime(2020, 11, 8, 2, 47), datetime.datetime(2020, 11, 8, 3, 7), datetime.datetime(2020, 11, 8, 3, 27), datetime.datetime(2020, 11, 8, 3, 47), datetime.datetime(2020, 11, 8, 4, 7), datetime.datetime(2020, 11, 8, 4, 27)], [9.9, 3.3, 1.7, 1.7, 2.7, 1.1, 1.3, 0.7, 1.5, 0.3, 2.5, 2.1, 2.7, 13.1]], ['Temperaturasbrinamento(Sd)\\n', [datetime.datetime(2020, 11, 8, 0, 7), datetime.datetime(2020, 11, 8, 0, 27), datetime.datetime(2020, 11, 8, 0, 47), datetime.datetime(2020, 11, 8, 1, 7), datetime.datetime(2020, 11, 8, 1, 27), datetime.datetime(2020, 11, 8, 1, 47), datetime.datetime(2020, 11, 8, 2, 7), datetime.datetime(2020, 11, 8, 2, 27), datetime.datetime(2020, 11, 8, 2, 47), datetime.datetime(2020, 11, 8, 3, 7), datetime.datetime(2020, 11, 8, 3, 27), datetime.datetime(2020, 11, 8, 3, 47), datetime.datetime(2020, 11, 8, 4, 7), datetime.datetime(2020, 11, 8, 4, 27)], [9.9, 3.3, 1.7, 1.7, 2.7, 1.1, 1.5, 0.7, 1.5, 0.3, 2.5, 2.1, 2.7, 13.1]], ['Statodidefrost\\n', [datetime.datetime(2020, 11, 8, 0, 7), datetime.datetime(2020, 11, 8, 0, 27), datetime.datetime(2020, 11, 8, 0, 47), datetime.datetime(2020, 11, 8, 1, 7), datetime.datetime(2020, 11, 8, 1, 27), datetime.datetime(2020, 11, 8, 1, 47), datetime.datetime(2020, 11, 8, 2, 7), datetime.datetime(2020, 11, 8, 2, 27), datetime.datetime(2020, 11, 8, 2, 47), datetime.datetime(2020, 11, 8, 3, 7), datetime.datetime(2020, 11, 8, 3, 27)], [0.0, 0.0, 0.0, 0.0, 0.0, 0.0, 0.0, 0.0, 0.0, 0.0, 0.0]], ['Statoporta\\n', [datetime.datetime(2020, 11, 8, 0, 7), datetime.datetime(2020, 11, 8, 0, 27), datetime.datetime(2020, 11, 8, 0, 47), datetime.datetime(2020, 11, 8, 1, 7), datetime.datetime(2020, 11, 8, 1, 27), datetime.datetime(2020, 11, 8, 1, 47), datetime.datetime(2020, 11, 8, 2, 7), datetime.datetime(2020, 11, 8, 2, 27), datetime.datetime(2020, 11, 8, 2, 47)], [0.0, 0.0, 0.0, 0.0, 0.0, 0.0, 0.0, 0.0, 0.0]], ['Statoporta\\n', [datetime.datetime(2020, 11, 8, 0, 7), datetime.datetime(2020, 11, 8, 0, 27), datetime.datetime(2020, 11, 8, 0, 47), datetime.datetime(2020, 11, 8, 1, 7), datetime.datetime(2020, 11, 8, 1, 27), datetime.datetime(2020, 11, 8, 1, 47), datetime.datetime(2020, 11, 8, 2, 7), datetime.datetime(2020, 11, 8, 2, 27), datetime.datetime(2020, 11, 8, 2, 47)], [0.0, 0.0, 0.0, 0.0, 0.0, 0.0, 0.0, 0.0, 0.0]], ['Temperaturaripresa(Sr)\\n', [datetime.datetime(2020, 11, 8, 0, 7), datetime.datetime(2020, 11, 8, 0, 27), datetime.datetime(2020, 11, 8, 0, 47), datetime.datetime(2020, 11, 8, 1, 7), datetime.datetime(2020, 11, 8, 1, 27), datetime.datetime(2020, 11, 8, 1, 47), datetime.datetime(2020, 11, 8, 2, 7), datetime.datetime(2020, 11, 8, 2, 27), datetime.datetime(2020, 11, 8, 2, 47), datetime.datetime(2020, 11, 8, 3, 7), datetime.datetime(2020, 11, 8, 3, 27), datetime.datetime(2020, 11, 8, 3, 47), datetime.datetime(2020, 11, 8, 4, 7)], [7.4, 2.6, 0.8, 0.0, 0.2, -0.2, -0.2, -0.4, -0.2, -0.4, -0.2, -0.2, -0.8]], ['Temperaturamandata(Sm)\\n', [datetime.datetime(2020, 11, 8, 0, 7), datetime.datetime(2020, 11, 8, 0, 27), datetime.datetime(2020, 11, 8, 0, 47), datetime.datetime(2020, 11, 8, 1, 7), datetime.datetime(2020, 11, 8, 1, 27), datetime.datetime(2020, 11, 8, 1, 47), datetime.datetime(2020, 11, 8, 2, 7), datetime.datetime(2020, 11, 8, 2, 27), datetime.datetime(2020, 11, 8, 2, 47), datetime.datetime(2020, 11, 8, 3, 7), datetime.datetime(2020, 11, 8, 3, 27), datetime.datetime(2020, 11, 8, 3, 47), datetime.datetime(2020, 11, 8, 4, 7), datetime.datetime(2020, 11, 8, 4, 27)], [9.9, 3.3, 1.7, 1.7, 2.7, 1.1, 1.3, 0.7, 1.5, 0.3, 2.5, 2.1, 2.7, 13.1]], ['Temperaturasbrinamento(Sd)\\n', [datetime.datetime(2020, 11, 8, 0, 7), datetime.datetime(2020, 11, 8, 0, 27), datetime.datetime(2020, 11, 8, 0, 47), datetime.datetime(2020, 11, 8, 1, 7), datetime.datetime(2020, 11, 8, 1, 27), datetime.datetime(2020, 11, 8, 1, 47), datetime.datetime(2020, 11, 8, 2, 7), datetime.datetime(2020, 11, 8, 2, 27), datetime.datetime(2020, 11, 8, 2, 47), datetime.datetime(2020, 11, 8, 3, 7), datetime.datetime(2020, 11, 8, 3, 27), datetime.datetime(2020, 11, 8, 3, 47), datetime.datetime(2020, 11, 8, 4, 7), datetime.datetime(2020, 11, 8, 4, 27)], [9.9, 3.3, 1.7, 1.7, 2.7, 1.1, 1.5, 0.7, 1.5, 0.3, 2.5, 2.1, 2.7, 13.1]], ['Statodidefrost\\n', [datetime.datetime(2020, 11, 8, 0, 7), datetime.datetime(2020, 11, 8, 0, 27), datetime.datetime(2020, 11, 8, 0, 47), datetime.datetime(2020, 11, 8, 1, 7), datetime.datetime(2020, 11, 8, 1, 27), datetime.datetime(2020, 11, 8, 1, 47), datetime.datetime(2020, 11, 8, 2, 7), datetime.datetime(2020, 11, 8, 2, 27), datetime.datetime(2020, 11, 8, 2, 47), datetime.datetime(2020, 11, 8, 3, 7), datetime.datetime(2020, 11, 8, 3, 27)], [0.0, 0.0, 0.0, 0.0, 0.0, 0.0, 0.0, 0.0, 0.0, 0.0, 0.0]]]\n"
          ],
          "name": "stdout"
        }
      ]
    },
    {
      "cell_type": "markdown",
      "metadata": {
        "id": "h0vh01Q6cv0s"
      },
      "source": [
        "# Choosing and Organizing the data\n"
      ]
    },
    {
      "cell_type": "code",
      "metadata": {
        "colab": {
          "base_uri": "https://localhost:8080/",
          "height": 714
        },
        "id": "5K-HHSVZ6CXY",
        "outputId": "49365c70-a505-447c-9b5c-9ab9abae3ff8"
      },
      "source": [
        "# a variable that keeps track of the cycle number of the for cycle\n",
        "i = 0\n",
        "\n",
        "# display to the user the possible choices\n",
        "print(\"Choose one of the following group of data to visualize (by inserting the number of the group):\")\n",
        "for data in data_list:\n",
        "  print(str(i)+ \") \"+ data[0])\n",
        "  i+=1\n",
        "\n",
        "# get from the user it's choice, and if it's valid, get the group of data selected\n",
        "while(True):\n",
        "  console_input = input()\n",
        "\n",
        "  if 0 <= int(console_input) and int(console_input) < len(data_list):\n",
        "    data_list = data_list[int(console_input)].copy()\n",
        "    break\n",
        "  else:\n",
        "    print(\"Please Insert a valid choice/number\")"
      ],
      "execution_count": 75,
      "outputs": [
        {
          "output_type": "stream",
          "text": [
            "Choose one of the following group of data to visualize (by inserting the number of the group):\n",
            "0) Temperaturaripresa(Sr)\n",
            "\n",
            "1) Temperaturamandata(Sm)\n",
            "\n",
            "2) Temperaturasbrinamento(Sd)\n",
            "\n",
            "3) Statodidefrost\n",
            "\n",
            "4) Statoporta\n",
            "\n"
          ],
          "name": "stdout"
        },
        {
          "output_type": "error",
          "ename": "KeyboardInterrupt",
          "evalue": "ignored",
          "traceback": [
            "\u001b[0;31m---------------------------------------------------------------------------\u001b[0m",
            "\u001b[0;31mKeyboardInterrupt\u001b[0m                         Traceback (most recent call last)",
            "\u001b[0;32m/usr/local/lib/python3.7/dist-packages/ipykernel/kernelbase.py\u001b[0m in \u001b[0;36m_input_request\u001b[0;34m(self, prompt, ident, parent, password)\u001b[0m\n\u001b[1;32m    728\u001b[0m             \u001b[0;32mtry\u001b[0m\u001b[0;34m:\u001b[0m\u001b[0;34m\u001b[0m\u001b[0;34m\u001b[0m\u001b[0m\n\u001b[0;32m--> 729\u001b[0;31m                 \u001b[0mident\u001b[0m\u001b[0;34m,\u001b[0m \u001b[0mreply\u001b[0m \u001b[0;34m=\u001b[0m \u001b[0mself\u001b[0m\u001b[0;34m.\u001b[0m\u001b[0msession\u001b[0m\u001b[0;34m.\u001b[0m\u001b[0mrecv\u001b[0m\u001b[0;34m(\u001b[0m\u001b[0mself\u001b[0m\u001b[0;34m.\u001b[0m\u001b[0mstdin_socket\u001b[0m\u001b[0;34m,\u001b[0m \u001b[0;36m0\u001b[0m\u001b[0;34m)\u001b[0m\u001b[0;34m\u001b[0m\u001b[0;34m\u001b[0m\u001b[0m\n\u001b[0m\u001b[1;32m    730\u001b[0m             \u001b[0;32mexcept\u001b[0m \u001b[0mException\u001b[0m\u001b[0;34m:\u001b[0m\u001b[0;34m\u001b[0m\u001b[0;34m\u001b[0m\u001b[0m\n",
            "\u001b[0;32m/usr/local/lib/python3.7/dist-packages/jupyter_client/session.py\u001b[0m in \u001b[0;36mrecv\u001b[0;34m(self, socket, mode, content, copy)\u001b[0m\n\u001b[1;32m    802\u001b[0m         \u001b[0;32mtry\u001b[0m\u001b[0;34m:\u001b[0m\u001b[0;34m\u001b[0m\u001b[0;34m\u001b[0m\u001b[0m\n\u001b[0;32m--> 803\u001b[0;31m             \u001b[0mmsg_list\u001b[0m \u001b[0;34m=\u001b[0m \u001b[0msocket\u001b[0m\u001b[0;34m.\u001b[0m\u001b[0mrecv_multipart\u001b[0m\u001b[0;34m(\u001b[0m\u001b[0mmode\u001b[0m\u001b[0;34m,\u001b[0m \u001b[0mcopy\u001b[0m\u001b[0;34m=\u001b[0m\u001b[0mcopy\u001b[0m\u001b[0;34m)\u001b[0m\u001b[0;34m\u001b[0m\u001b[0;34m\u001b[0m\u001b[0m\n\u001b[0m\u001b[1;32m    804\u001b[0m         \u001b[0;32mexcept\u001b[0m \u001b[0mzmq\u001b[0m\u001b[0;34m.\u001b[0m\u001b[0mZMQError\u001b[0m \u001b[0;32mas\u001b[0m \u001b[0me\u001b[0m\u001b[0;34m:\u001b[0m\u001b[0;34m\u001b[0m\u001b[0;34m\u001b[0m\u001b[0m\n",
            "\u001b[0;32m/usr/local/lib/python3.7/dist-packages/zmq/sugar/socket.py\u001b[0m in \u001b[0;36mrecv_multipart\u001b[0;34m(self, flags, copy, track)\u001b[0m\n\u001b[1;32m    582\u001b[0m         \"\"\"\n\u001b[0;32m--> 583\u001b[0;31m         \u001b[0mparts\u001b[0m \u001b[0;34m=\u001b[0m \u001b[0;34m[\u001b[0m\u001b[0mself\u001b[0m\u001b[0;34m.\u001b[0m\u001b[0mrecv\u001b[0m\u001b[0;34m(\u001b[0m\u001b[0mflags\u001b[0m\u001b[0;34m,\u001b[0m \u001b[0mcopy\u001b[0m\u001b[0;34m=\u001b[0m\u001b[0mcopy\u001b[0m\u001b[0;34m,\u001b[0m \u001b[0mtrack\u001b[0m\u001b[0;34m=\u001b[0m\u001b[0mtrack\u001b[0m\u001b[0;34m)\u001b[0m\u001b[0;34m]\u001b[0m\u001b[0;34m\u001b[0m\u001b[0;34m\u001b[0m\u001b[0m\n\u001b[0m\u001b[1;32m    584\u001b[0m         \u001b[0;31m# have first part already, only loop while more to receive\u001b[0m\u001b[0;34m\u001b[0m\u001b[0;34m\u001b[0m\u001b[0;34m\u001b[0m\u001b[0m\n",
            "\u001b[0;32mzmq/backend/cython/socket.pyx\u001b[0m in \u001b[0;36mzmq.backend.cython.socket.Socket.recv\u001b[0;34m()\u001b[0m\n",
            "\u001b[0;32mzmq/backend/cython/socket.pyx\u001b[0m in \u001b[0;36mzmq.backend.cython.socket.Socket.recv\u001b[0;34m()\u001b[0m\n",
            "\u001b[0;32mzmq/backend/cython/socket.pyx\u001b[0m in \u001b[0;36mzmq.backend.cython.socket._recv_copy\u001b[0;34m()\u001b[0m\n",
            "\u001b[0;32m/usr/local/lib/python3.7/dist-packages/zmq/backend/cython/checkrc.pxd\u001b[0m in \u001b[0;36mzmq.backend.cython.checkrc._check_rc\u001b[0;34m()\u001b[0m\n",
            "\u001b[0;31mKeyboardInterrupt\u001b[0m: ",
            "\nDuring handling of the above exception, another exception occurred:\n",
            "\u001b[0;31mKeyboardInterrupt\u001b[0m                         Traceback (most recent call last)",
            "\u001b[0;32m<ipython-input-75-c57dd5795154>\u001b[0m in \u001b[0;36m<module>\u001b[0;34m()\u001b[0m\n\u001b[1;32m     10\u001b[0m \u001b[0;31m# get from the user it's choice, and if it's valid, get the group of data selected\u001b[0m\u001b[0;34m\u001b[0m\u001b[0;34m\u001b[0m\u001b[0;34m\u001b[0m\u001b[0m\n\u001b[1;32m     11\u001b[0m \u001b[0;32mwhile\u001b[0m\u001b[0;34m(\u001b[0m\u001b[0;32mTrue\u001b[0m\u001b[0;34m)\u001b[0m\u001b[0;34m:\u001b[0m\u001b[0;34m\u001b[0m\u001b[0;34m\u001b[0m\u001b[0m\n\u001b[0;32m---> 12\u001b[0;31m   \u001b[0mconsole_input\u001b[0m \u001b[0;34m=\u001b[0m \u001b[0minput\u001b[0m\u001b[0;34m(\u001b[0m\u001b[0;34m)\u001b[0m\u001b[0;34m\u001b[0m\u001b[0;34m\u001b[0m\u001b[0m\n\u001b[0m\u001b[1;32m     13\u001b[0m \u001b[0;34m\u001b[0m\u001b[0m\n\u001b[1;32m     14\u001b[0m   \u001b[0;32mif\u001b[0m \u001b[0;36m0\u001b[0m \u001b[0;34m<=\u001b[0m \u001b[0mint\u001b[0m\u001b[0;34m(\u001b[0m\u001b[0mconsole_input\u001b[0m\u001b[0;34m)\u001b[0m \u001b[0;32mand\u001b[0m \u001b[0mint\u001b[0m\u001b[0;34m(\u001b[0m\u001b[0mconsole_input\u001b[0m\u001b[0;34m)\u001b[0m \u001b[0;34m<\u001b[0m \u001b[0mlen\u001b[0m\u001b[0;34m(\u001b[0m\u001b[0mdata_list\u001b[0m\u001b[0;34m)\u001b[0m\u001b[0;34m:\u001b[0m\u001b[0;34m\u001b[0m\u001b[0;34m\u001b[0m\u001b[0m\n",
            "\u001b[0;32m/usr/local/lib/python3.7/dist-packages/ipykernel/kernelbase.py\u001b[0m in \u001b[0;36mraw_input\u001b[0;34m(self, prompt)\u001b[0m\n\u001b[1;32m    702\u001b[0m             \u001b[0mself\u001b[0m\u001b[0;34m.\u001b[0m\u001b[0m_parent_ident\u001b[0m\u001b[0;34m,\u001b[0m\u001b[0;34m\u001b[0m\u001b[0;34m\u001b[0m\u001b[0m\n\u001b[1;32m    703\u001b[0m             \u001b[0mself\u001b[0m\u001b[0;34m.\u001b[0m\u001b[0m_parent_header\u001b[0m\u001b[0;34m,\u001b[0m\u001b[0;34m\u001b[0m\u001b[0;34m\u001b[0m\u001b[0m\n\u001b[0;32m--> 704\u001b[0;31m             \u001b[0mpassword\u001b[0m\u001b[0;34m=\u001b[0m\u001b[0;32mFalse\u001b[0m\u001b[0;34m,\u001b[0m\u001b[0;34m\u001b[0m\u001b[0;34m\u001b[0m\u001b[0m\n\u001b[0m\u001b[1;32m    705\u001b[0m         )\n\u001b[1;32m    706\u001b[0m \u001b[0;34m\u001b[0m\u001b[0m\n",
            "\u001b[0;32m/usr/local/lib/python3.7/dist-packages/ipykernel/kernelbase.py\u001b[0m in \u001b[0;36m_input_request\u001b[0;34m(self, prompt, ident, parent, password)\u001b[0m\n\u001b[1;32m    732\u001b[0m             \u001b[0;32mexcept\u001b[0m \u001b[0mKeyboardInterrupt\u001b[0m\u001b[0;34m:\u001b[0m\u001b[0;34m\u001b[0m\u001b[0;34m\u001b[0m\u001b[0m\n\u001b[1;32m    733\u001b[0m                 \u001b[0;31m# re-raise KeyboardInterrupt, to truncate traceback\u001b[0m\u001b[0;34m\u001b[0m\u001b[0;34m\u001b[0m\u001b[0;34m\u001b[0m\u001b[0m\n\u001b[0;32m--> 734\u001b[0;31m                 \u001b[0;32mraise\u001b[0m \u001b[0mKeyboardInterrupt\u001b[0m\u001b[0;34m\u001b[0m\u001b[0;34m\u001b[0m\u001b[0m\n\u001b[0m\u001b[1;32m    735\u001b[0m             \u001b[0;32melse\u001b[0m\u001b[0;34m:\u001b[0m\u001b[0;34m\u001b[0m\u001b[0;34m\u001b[0m\u001b[0m\n\u001b[1;32m    736\u001b[0m                 \u001b[0;32mbreak\u001b[0m\u001b[0;34m\u001b[0m\u001b[0;34m\u001b[0m\u001b[0m\n",
            "\u001b[0;31mKeyboardInterrupt\u001b[0m: "
          ]
        }
      ]
    },
    {
      "cell_type": "markdown",
      "metadata": {
        "id": "Ul_RHsHNogdw"
      },
      "source": [
        "Convert all the lists (date list and value list) in Pandas DataFrame, then, visualize the list created"
      ]
    },
    {
      "cell_type": "code",
      "metadata": {
        "id": "sJ88MkFqoaz0",
        "colab": {
          "base_uri": "https://localhost:8080/",
          "height": 419
        },
        "outputId": "a1285860-fdda-422c-ed14-42383cc3b771"
      },
      "source": [
        "import pandas as pd\n",
        "\n",
        "# convert the 2 lists in a pandas dataframe (order of the list is: Title, Date, Value)\n",
        "data = pd.DataFrame({'date': data_list[1],\n",
        "                     'value': data_list[2]})\n",
        "\n",
        "# print out the datagram\n",
        "data"
      ],
      "execution_count": 12,
      "outputs": [
        {
          "output_type": "execute_result",
          "data": {
            "text/html": [
              "<div>\n",
              "<style scoped>\n",
              "    .dataframe tbody tr th:only-of-type {\n",
              "        vertical-align: middle;\n",
              "    }\n",
              "\n",
              "    .dataframe tbody tr th {\n",
              "        vertical-align: top;\n",
              "    }\n",
              "\n",
              "    .dataframe thead th {\n",
              "        text-align: right;\n",
              "    }\n",
              "</style>\n",
              "<table border=\"1\" class=\"dataframe\">\n",
              "  <thead>\n",
              "    <tr style=\"text-align: right;\">\n",
              "      <th></th>\n",
              "      <th>date</th>\n",
              "      <th>value</th>\n",
              "    </tr>\n",
              "  </thead>\n",
              "  <tbody>\n",
              "    <tr>\n",
              "      <th>0</th>\n",
              "      <td>2020-11-08 00:07:00</td>\n",
              "      <td>0.0</td>\n",
              "    </tr>\n",
              "    <tr>\n",
              "      <th>1</th>\n",
              "      <td>2020-11-08 00:27:00</td>\n",
              "      <td>0.0</td>\n",
              "    </tr>\n",
              "    <tr>\n",
              "      <th>2</th>\n",
              "      <td>2020-11-08 00:47:00</td>\n",
              "      <td>0.0</td>\n",
              "    </tr>\n",
              "    <tr>\n",
              "      <th>3</th>\n",
              "      <td>2020-11-08 01:07:00</td>\n",
              "      <td>0.0</td>\n",
              "    </tr>\n",
              "    <tr>\n",
              "      <th>4</th>\n",
              "      <td>2020-11-08 01:27:00</td>\n",
              "      <td>0.0</td>\n",
              "    </tr>\n",
              "    <tr>\n",
              "      <th>...</th>\n",
              "      <td>...</td>\n",
              "      <td>...</td>\n",
              "    </tr>\n",
              "    <tr>\n",
              "      <th>933</th>\n",
              "      <td>2020-11-21 00:27:00</td>\n",
              "      <td>0.0</td>\n",
              "    </tr>\n",
              "    <tr>\n",
              "      <th>934</th>\n",
              "      <td>2020-11-21 00:47:00</td>\n",
              "      <td>0.0</td>\n",
              "    </tr>\n",
              "    <tr>\n",
              "      <th>935</th>\n",
              "      <td>2020-11-21 01:07:00</td>\n",
              "      <td>0.0</td>\n",
              "    </tr>\n",
              "    <tr>\n",
              "      <th>936</th>\n",
              "      <td>2020-11-21 01:27:00</td>\n",
              "      <td>0.0</td>\n",
              "    </tr>\n",
              "    <tr>\n",
              "      <th>937</th>\n",
              "      <td>2020-11-21 01:47:00</td>\n",
              "      <td>0.0</td>\n",
              "    </tr>\n",
              "  </tbody>\n",
              "</table>\n",
              "<p>938 rows × 2 columns</p>\n",
              "</div>"
            ],
            "text/plain": [
              "                   date  value\n",
              "0   2020-11-08 00:07:00    0.0\n",
              "1   2020-11-08 00:27:00    0.0\n",
              "2   2020-11-08 00:47:00    0.0\n",
              "3   2020-11-08 01:07:00    0.0\n",
              "4   2020-11-08 01:27:00    0.0\n",
              "..                  ...    ...\n",
              "933 2020-11-21 00:27:00    0.0\n",
              "934 2020-11-21 00:47:00    0.0\n",
              "935 2020-11-21 01:07:00    0.0\n",
              "936 2020-11-21 01:27:00    0.0\n",
              "937 2020-11-21 01:47:00    0.0\n",
              "\n",
              "[938 rows x 2 columns]"
            ]
          },
          "metadata": {
            "tags": []
          },
          "execution_count": 12
        }
      ]
    },
    {
      "cell_type": "markdown",
      "metadata": {
        "id": "QdWeg8krcwVE"
      },
      "source": [
        "# Draw Chart"
      ]
    },
    {
      "cell_type": "markdown",
      "metadata": {
        "id": "ZurDLmLdckQa"
      },
      "source": [
        "Draw the Chart using the Bokeh library (the reason why i used this library is because it is easily customizable and it supports the callback event, in wich though, you have to write the code in JS; there is a method to convert some data from JS data kernel to Python data kernel by using IPython, but because of google colab enviroment (which do not support the Jupyter Notebook enviroment very well), it is not possible.\n",
        "Also note that the Google Colab enviroment restrict a lot of interactivity possibilities (for example we are unable to create a bokeh server with the consequences of inability to use curdoc, that is important to add interactive feature to the program).\n",
        "(a solution is to install and use a local Jupyter Notebook))"
      ]
    },
    {
      "cell_type": "code",
      "metadata": {
        "id": "jByfhOKU01MO"
      },
      "source": [
        "from bokeh.plotting import figure, output_file, show\n",
        "from bokeh.io import output_notebook\n",
        "from bokeh.models import ColumnDataSource, CustomJS, Button\n",
        "from bokeh.models.tools import *\n",
        "from bokeh.models.widgets import DataTable, TableColumn, DateFormatter\n",
        "from bokeh.layouts import row, column\n",
        "\n",
        "\n",
        "# Configure the default output state to generate output in notebook cells when show() is called. \n",
        "output_notebook()"
      ],
      "execution_count": 13,
      "outputs": []
    },
    {
      "cell_type": "markdown",
      "metadata": {
        "id": "bQagyvbgsx-8"
      },
      "source": [
        "Create and setup the Main Plot whereas the various data will be displayed and interacted with"
      ]
    },
    {
      "cell_type": "code",
      "metadata": {
        "id": "F-ngYpkVVSZM"
      },
      "source": [
        "# ColumnDataSource is a special object, wich it is easy to share data between multiple plots and widgets\n",
        "# Also the same ColumnDataSource is used to drive multiple renderers, selections of the data source are also shared.\n",
        "main_source = ColumnDataSource(data)\n",
        "\n",
        "# select the desired tool that can be used with the chart\n",
        "chart_tools=\"pan, wheel_zoom, reset, hover, poly_select, box_select\"\n",
        "tooltip = HoverTool(\n",
        "    # specify wich type of info i want to show\n",
        "    tooltips=[\n",
        "        (\"index\", \"$index\"),\n",
        "        (\"Value\", \"@value{0.2f}\"),\n",
        "        (\"Date\", \"@date{%F}\"),\n",
        "    ],\n",
        "    # format the date in datetime type (the default is numerical format)\n",
        "    formatters={\n",
        "        '@date': 'datetime'\n",
        "    },\n",
        "    # display a tooltip whenever the cursor is vertically in line with a data point\n",
        "    mode='vline'\n",
        ")\n",
        "\n",
        "# add the title to the plot (order of the list: title, date, value) and also\n",
        "# prepare the chart with the selected options, and add the tooltip too while also activating wheel zoom tool by default\n",
        "main_chart = figure(title=data_list[0]+\" chart\", plot_width=1500, plot_height=400, y_axis_label='Values', x_axis_label='Date', x_axis_type='datetime',\n",
        "           tools=chart_tools, toolbar_location='above', tooltips=\"\", sizing_mode=\"scale_width\")\n",
        "main_chart.add_tools(tooltip)\n",
        "main_chart.toolbar.active_scroll = main_chart.select_one(WheelZoomTool)\n",
        "\n",
        "# draw in the chart both line and circle, so that the obtained effect is that of linked points\n",
        "symbol1 = main_chart.line(x='date', y='value', line_width=2, source=main_source)\n",
        "symbol2 = main_chart.circle(x='date', y='value', fill_color=\"white\", size=6, source=main_source)"
      ],
      "execution_count": 14,
      "outputs": []
    },
    {
      "cell_type": "markdown",
      "metadata": {
        "id": "b95J86wqtDZa"
      },
      "source": [
        "Create and setup the Table Plot that will display a log that keeps track of all actions (select) done by the user (while also adding extra info)"
      ]
    },
    {
      "cell_type": "code",
      "metadata": {
        "id": "Zaemh2dwVQnn"
      },
      "source": [
        "# create the source for table obj\n",
        "source_table = ColumnDataSource(data=dict(\n",
        "    Start_date=[],\n",
        "    End_date=[],\n",
        "    Max_value=[],\n",
        "    Average_value=[],\n",
        "    Area=[]\n",
        "))\n",
        "\n",
        "# specify the each column property of the dataTable obj\n",
        "columns = [\n",
        "    TableColumn(field=\"Start_date\", title=\"Start_date\", formatter=DateFormatter(format=\"%m/%d/%Y - %H:%M:%S\")),\n",
        "    TableColumn(field=\"End_date\", title=\"End_date\", formatter=DateFormatter(format=\"%m/%d/%Y - %H:%M:%S\")),\n",
        "    TableColumn(field=\"Max_value\", title=\"Max_value\"),\n",
        "    TableColumn(field=\"Average_value\", title=\"Average_value\"),\n",
        "    TableColumn(field=\"Area\", title=\"Area\")\n",
        "]\n",
        "\n",
        "data_table = DataTable(columns=columns, source=source_table, width=700, height=250)"
      ],
      "execution_count": 15,
      "outputs": []
    },
    {
      "cell_type": "markdown",
      "metadata": {
        "id": "4EWHzZfdtclm"
      },
      "source": [
        "Create and setup the Bar Plot that will display certain info (Max Value, Avarage Value, Area) whenever the user select some data from the main plot"
      ]
    },
    {
      "cell_type": "code",
      "metadata": {
        "id": "cPi1QhfaVOBV"
      },
      "source": [
        "# create the source for bar plot obj\n",
        "source_barplot = ColumnDataSource(data=dict(\n",
        "    name_bar=[\"Max Value\", \"Avarage Value\", \"Area\"],\n",
        "    value=[0, 0, 0]\n",
        "))\n",
        "bar_plot = figure(title=\"General Info\", y_range=source_barplot.data[\"name_bar\"], height=300, toolbar_location=None, tools=\"\")\n",
        "bar_plot.hbar(y=\"name_bar\", right=\"value\", source=source_barplot, width=20)\n",
        "bar_plot.ygrid.grid_line_color = None"
      ],
      "execution_count": 16,
      "outputs": []
    },
    {
      "cell_type": "markdown",
      "metadata": {
        "id": "aZpofamNts4G"
      },
      "source": [
        "Create and setup a button that has the job to save the log of the data table in a txt file"
      ]
    },
    {
      "cell_type": "code",
      "metadata": {
        "id": "e-0-VKo7U_MG"
      },
      "source": [
        "# create a variable that simulate the \\n function, it gets passed as parameter in the save button \n",
        "# because in the customJS enviroment, the kernel can't read corretly \\n because it execute its function diretly in the code\n",
        "# instead of passing it as value, so we just pass its value in a variable so that the kernel doesn't read \\n directly\n",
        "break_lines = \"\\r\\n\"\n",
        "save_button = Button(label=\"Save Data!\", button_type=\"success\", height=50)"
      ],
      "execution_count": 17,
      "outputs": []
    },
    {
      "cell_type": "markdown",
      "metadata": {
        "id": "wFTuAMVNuESJ"
      },
      "source": [
        "Specify how the Main Plot will behave when it gets the event that user has selected some of its data (we have to specify by writing in js code); it has to write down the selected data in the table data & bar plot for display purposes"
      ]
    },
    {
      "cell_type": "code",
      "metadata": {
        "id": "bok6o_sAU9W6"
      },
      "source": [
        "# Execute the JS code when the user select any data in the chart with the box select tool\n",
        "main_source.selected.js_on_change(\"indices\", CustomJS(args=dict(main_source=main_source, source_table=source_table, source_barplot=source_barplot), code=\"\"\"\n",
        "        // get the indices of the selectd data and sort them in ascending order\n",
        "        var inds = cb_obj.indices\n",
        "        inds.sort(function(a, b){return a-b})\n",
        "\n",
        "\n",
        "        // if the array is not empty (if it is empy, it means that no elements has been selected (occurs when the user select no element after having selected some element), \n",
        "        // with the consequence of not adding any element)\n",
        "        if (inds.length != 0){\n",
        "          // create various variable to store the data from the various sources (ColumnDataSource object)\n",
        "          var d1 = main_source.data\n",
        "          var d2 = source_table.data\n",
        "          var d3 = source_barplot.data\n",
        "\n",
        "\n",
        "          // get the first and end date (no need to any particular calculus because each data is already in order and unique)\n",
        "          var start_date = new Date(d1[\"date\"][inds[0]])\n",
        "          var end_date = new Date(d1[\"date\"][inds[inds.length-1]])\n",
        "\n",
        "\n",
        "          // get max value (and set it to max 2 decimals)\n",
        "          var max_value\n",
        "          for(var i = 0; i < inds.length; i++) {\n",
        "              if(i == 0) {\n",
        "                max_value = d1[\"value\"][inds[i]]\n",
        "              } else {\n",
        "                if(max_value < d1[\"value\"][inds[i]]){\n",
        "                  max_value = (d1[\"value\"][inds[i]]).toFixed(2)\n",
        "                }\n",
        "              }\n",
        "          }\n",
        "\n",
        "\n",
        "          // get average value (and set it to max 2 decimals)\n",
        "          var avarage_value = 0.00\n",
        "          for(var i = 0; i < inds.length; i++) {\n",
        "              avarage_value = avarage_value + d1[\"value\"][inds[i]]\n",
        "          }\n",
        "          avarage_value = (avarage_value/inds.length).toFixed(2)\n",
        "\n",
        "\n",
        "          // calculate the area of the trapezoid (the sum of the two bases (we count the value as minutes) * h (difference between the dates in minutess) / 2)\n",
        "          var area = 0.00\n",
        "          for(var i = 0; i < (inds.length-1); i++) {\n",
        "              var sum_bases = Math.abs(d1[\"value\"][inds[i]]) + Math.abs(d1[\"value\"][inds[i+1]])\n",
        "              console.log(Math.abs(d1[\"value\"][inds[i]]))\n",
        "              console.log(Math.abs(d1[\"value\"][inds[i+1]]))\n",
        "              console.log(sum_bases)\n",
        "              var height = ((new Date(d1[\"date\"][inds[i+1]])).getTime() - (new Date(d1[\"date\"][inds[i]])).getTime()) / 60000\n",
        "\n",
        "              area = area + (sum_bases * height) / 2\n",
        "          }\n",
        "          // set the number of decimals to 2 \n",
        "          area = parseFloat(area).toFixed(2);\n",
        "\n",
        "\n",
        "          // push all the data in the source of the data_table\n",
        "          d2[\"Start_date\"].push(start_date)\n",
        "          d2[\"End_date\"].push(end_date)\n",
        "          d2[\"Max_value\"].push(max_value)\n",
        "          d2[\"Average_value\"].push(avarage_value)\n",
        "          d2[\"Area\"].push(area)\n",
        "\n",
        "\n",
        "          // reset the values of the bar plot and update them (order of values is: Max Value, Avarage Value, Area)\n",
        "          d3[\"value\"] = []\n",
        "          d3[\"value\"].push(max_value)\n",
        "          d3[\"value\"].push(avarage_value)\n",
        "          d3[\"value\"].push(area)\n",
        "\n",
        "\n",
        "          // update the Table and Bar plot (this function notify that something has changed, and to immediately update the values and UI)\n",
        "          source_table.change.emit()\n",
        "          source_barplot.change.emit()\n",
        "        }\n",
        "        \"\"\"\n",
        "))"
      ],
      "execution_count": 18,
      "outputs": []
    },
    {
      "cell_type": "markdown",
      "metadata": {
        "id": "f_6QgRKLwRJw"
      },
      "source": [
        "Specify how the Save Button will behave when it gets pressed by the user (we have to specify by writing in js code); it has to get the data from the table data and write it down in a txt file and donwload it"
      ]
    },
    {
      "cell_type": "code",
      "metadata": {
        "id": "WgU3W1SRU7ra"
      },
      "source": [
        "save_button.js_on_click(CustomJS(args=dict(source_table=source_table, break_lines=break_lines), code=\"\"\"\n",
        "        // get the data from the source of the table\n",
        "        var data = source_table.data\n",
        "\n",
        "        // get the length of the list \n",
        "        var number_of_data = data[\"Start_date\"].length\n",
        "\n",
        "        // order the data\n",
        "        var start_date_list = data[\"Start_date\"]\n",
        "        var end_date_list = data[\"End_date\"]\n",
        "        var max_value_list = data[\"Max_value\"]\n",
        "        var avarage_value_list = data[\"Average_value\"]\n",
        "        var area_list = data[\"Area\"]\n",
        "\n",
        "        // fill the string with the data (while also modifying the data of date format of: hour,minute and seconds to 2 digit string)\n",
        "        var out = \"\";\n",
        "        for (var i = 0; i < number_of_data; i++) {\n",
        "          out += i+ \")\" +break_lines+ \n",
        "                 \"Start Date:    \"  +start_date_list[i]+ \"\" +break_lines+\n",
        "                 \"End Date:      \"  +end_date_list[i]+ \"\" +break_lines+\n",
        "                 \"Max Value:     \"  +max_value_list[i]+ \"\" +break_lines+\n",
        "                 \"Avarage Value: \"  +avarage_value_list[i]+ \"\" +break_lines+\n",
        "                 \"Area:          \"  +area_list[i]+ \"\" +break_lines+ \"\" +break_lines\n",
        "        }\n",
        "\n",
        "\n",
        "        // write the data in the file\n",
        "        var file = new Blob([out], {type: 'text/plain'});\n",
        "        var elem = window.document.createElement('a');\n",
        "        elem.href = window.URL.createObjectURL(file);\n",
        "        elem.download = 'selected_data.txt';\n",
        "        document.body.appendChild(elem);\n",
        "        elem.click();\n",
        "        document.body.removeChild(elem);\n",
        "    \"\"\"\n",
        "))"
      ],
      "execution_count": 19,
      "outputs": []
    },
    {
      "cell_type": "markdown",
      "metadata": {
        "id": "SYR1MSIbwyUG"
      },
      "source": [
        "And finally display all the various elements in a certain layout"
      ]
    },
    {
      "cell_type": "code",
      "metadata": {
        "colab": {
          "base_uri": "https://localhost:8080/",
          "height": 737
        },
        "id": "vDKFRKhCU5aT",
        "outputId": "589f3729-1de6-4a0d-c8f8-dde95b59fde8"
      },
      "source": [
        "# visualize the chart in the output\n",
        "layout = column(main_chart, row(bar_plot,  column(data_table, save_button)))\n",
        "show(layout)"
      ],
      "execution_count": 20,
      "outputs": [
        {
          "output_type": "display_data",
          "data": {
            "application/javascript": [
              "\n",
              "(function(root) {\n",
              "  function now() {\n",
              "    return new Date();\n",
              "  }\n",
              "\n",
              "  var force = true;\n",
              "\n",
              "  if (typeof root._bokeh_onload_callbacks === \"undefined\" || force === true) {\n",
              "    root._bokeh_onload_callbacks = [];\n",
              "    root._bokeh_is_loading = undefined;\n",
              "  }\n",
              "\n",
              "  var JS_MIME_TYPE = 'application/javascript';\n",
              "  var HTML_MIME_TYPE = 'text/html';\n",
              "  var EXEC_MIME_TYPE = 'application/vnd.bokehjs_exec.v0+json';\n",
              "  var CLASS_NAME = 'output_bokeh rendered_html';\n",
              "\n",
              "  /**\n",
              "   * Render data to the DOM node\n",
              "   */\n",
              "  function render(props, node) {\n",
              "    var script = document.createElement(\"script\");\n",
              "    node.appendChild(script);\n",
              "  }\n",
              "\n",
              "  /**\n",
              "   * Handle when an output is cleared or removed\n",
              "   */\n",
              "  function handleClearOutput(event, handle) {\n",
              "    var cell = handle.cell;\n",
              "\n",
              "    var id = cell.output_area._bokeh_element_id;\n",
              "    var server_id = cell.output_area._bokeh_server_id;\n",
              "    // Clean up Bokeh references\n",
              "    if (id != null && id in Bokeh.index) {\n",
              "      Bokeh.index[id].model.document.clear();\n",
              "      delete Bokeh.index[id];\n",
              "    }\n",
              "\n",
              "    if (server_id !== undefined) {\n",
              "      // Clean up Bokeh references\n",
              "      var cmd = \"from bokeh.io.state import curstate; print(curstate().uuid_to_server['\" + server_id + \"'].get_sessions()[0].document.roots[0]._id)\";\n",
              "      cell.notebook.kernel.execute(cmd, {\n",
              "        iopub: {\n",
              "          output: function(msg) {\n",
              "            var id = msg.content.text.trim();\n",
              "            if (id in Bokeh.index) {\n",
              "              Bokeh.index[id].model.document.clear();\n",
              "              delete Bokeh.index[id];\n",
              "            }\n",
              "          }\n",
              "        }\n",
              "      });\n",
              "      // Destroy server and session\n",
              "      var cmd = \"import bokeh.io.notebook as ion; ion.destroy_server('\" + server_id + \"')\";\n",
              "      cell.notebook.kernel.execute(cmd);\n",
              "    }\n",
              "  }\n",
              "\n",
              "  /**\n",
              "   * Handle when a new output is added\n",
              "   */\n",
              "  function handleAddOutput(event, handle) {\n",
              "    var output_area = handle.output_area;\n",
              "    var output = handle.output;\n",
              "\n",
              "    // limit handleAddOutput to display_data with EXEC_MIME_TYPE content only\n",
              "    if ((output.output_type != \"display_data\") || (!output.data.hasOwnProperty(EXEC_MIME_TYPE))) {\n",
              "      return\n",
              "    }\n",
              "\n",
              "    var toinsert = output_area.element.find(\".\" + CLASS_NAME.split(' ')[0]);\n",
              "\n",
              "    if (output.metadata[EXEC_MIME_TYPE][\"id\"] !== undefined) {\n",
              "      toinsert[toinsert.length - 1].firstChild.textContent = output.data[JS_MIME_TYPE];\n",
              "      // store reference to embed id on output_area\n",
              "      output_area._bokeh_element_id = output.metadata[EXEC_MIME_TYPE][\"id\"];\n",
              "    }\n",
              "    if (output.metadata[EXEC_MIME_TYPE][\"server_id\"] !== undefined) {\n",
              "      var bk_div = document.createElement(\"div\");\n",
              "      bk_div.innerHTML = output.data[HTML_MIME_TYPE];\n",
              "      var script_attrs = bk_div.children[0].attributes;\n",
              "      for (var i = 0; i < script_attrs.length; i++) {\n",
              "        toinsert[toinsert.length - 1].firstChild.setAttribute(script_attrs[i].name, script_attrs[i].value);\n",
              "        toinsert[toinsert.length - 1].firstChild.textContent = bk_div.children[0].textContent\n",
              "      }\n",
              "      // store reference to server id on output_area\n",
              "      output_area._bokeh_server_id = output.metadata[EXEC_MIME_TYPE][\"server_id\"];\n",
              "    }\n",
              "  }\n",
              "\n",
              "  function register_renderer(events, OutputArea) {\n",
              "\n",
              "    function append_mime(data, metadata, element) {\n",
              "      // create a DOM node to render to\n",
              "      var toinsert = this.create_output_subarea(\n",
              "        metadata,\n",
              "        CLASS_NAME,\n",
              "        EXEC_MIME_TYPE\n",
              "      );\n",
              "      this.keyboard_manager.register_events(toinsert);\n",
              "      // Render to node\n",
              "      var props = {data: data, metadata: metadata[EXEC_MIME_TYPE]};\n",
              "      render(props, toinsert[toinsert.length - 1]);\n",
              "      element.append(toinsert);\n",
              "      return toinsert\n",
              "    }\n",
              "\n",
              "    /* Handle when an output is cleared or removed */\n",
              "    events.on('clear_output.CodeCell', handleClearOutput);\n",
              "    events.on('delete.Cell', handleClearOutput);\n",
              "\n",
              "    /* Handle when a new output is added */\n",
              "    events.on('output_added.OutputArea', handleAddOutput);\n",
              "\n",
              "    /**\n",
              "     * Register the mime type and append_mime function with output_area\n",
              "     */\n",
              "    OutputArea.prototype.register_mime_type(EXEC_MIME_TYPE, append_mime, {\n",
              "      /* Is output safe? */\n",
              "      safe: true,\n",
              "      /* Index of renderer in `output_area.display_order` */\n",
              "      index: 0\n",
              "    });\n",
              "  }\n",
              "\n",
              "  // register the mime type if in Jupyter Notebook environment and previously unregistered\n",
              "  if (root.Jupyter !== undefined) {\n",
              "    var events = require('base/js/events');\n",
              "    var OutputArea = require('notebook/js/outputarea').OutputArea;\n",
              "\n",
              "    if (OutputArea.prototype.mime_types().indexOf(EXEC_MIME_TYPE) == -1) {\n",
              "      register_renderer(events, OutputArea);\n",
              "    }\n",
              "  }\n",
              "\n",
              "  \n",
              "  if (typeof (root._bokeh_timeout) === \"undefined\" || force === true) {\n",
              "    root._bokeh_timeout = Date.now() + 5000;\n",
              "    root._bokeh_failed_load = false;\n",
              "  }\n",
              "\n",
              "  var NB_LOAD_WARNING = {'data': {'text/html':\n",
              "     \"<div style='background-color: #fdd'>\\n\"+\n",
              "     \"<p>\\n\"+\n",
              "     \"BokehJS does not appear to have successfully loaded. If loading BokehJS from CDN, this \\n\"+\n",
              "     \"may be due to a slow or bad network connection. Possible fixes:\\n\"+\n",
              "     \"</p>\\n\"+\n",
              "     \"<ul>\\n\"+\n",
              "     \"<li>re-rerun `output_notebook()` to attempt to load from CDN again, or</li>\\n\"+\n",
              "     \"<li>use INLINE resources instead, as so:</li>\\n\"+\n",
              "     \"</ul>\\n\"+\n",
              "     \"<code>\\n\"+\n",
              "     \"from bokeh.resources import INLINE\\n\"+\n",
              "     \"output_notebook(resources=INLINE)\\n\"+\n",
              "     \"</code>\\n\"+\n",
              "     \"</div>\"}};\n",
              "\n",
              "  function display_loaded() {\n",
              "    var el = document.getElementById(null);\n",
              "    if (el != null) {\n",
              "      el.textContent = \"BokehJS is loading...\";\n",
              "    }\n",
              "    if (root.Bokeh !== undefined) {\n",
              "      if (el != null) {\n",
              "        el.textContent = \"BokehJS \" + root.Bokeh.version + \" successfully loaded.\";\n",
              "      }\n",
              "    } else if (Date.now() < root._bokeh_timeout) {\n",
              "      setTimeout(display_loaded, 100)\n",
              "    }\n",
              "  }\n",
              "\n",
              "\n",
              "  function run_callbacks() {\n",
              "    try {\n",
              "      root._bokeh_onload_callbacks.forEach(function(callback) {\n",
              "        if (callback != null)\n",
              "          callback();\n",
              "      });\n",
              "    } finally {\n",
              "      delete root._bokeh_onload_callbacks\n",
              "    }\n",
              "    console.debug(\"Bokeh: all callbacks have finished\");\n",
              "  }\n",
              "\n",
              "  function load_libs(css_urls, js_urls, callback) {\n",
              "    if (css_urls == null) css_urls = [];\n",
              "    if (js_urls == null) js_urls = [];\n",
              "\n",
              "    root._bokeh_onload_callbacks.push(callback);\n",
              "    if (root._bokeh_is_loading > 0) {\n",
              "      console.debug(\"Bokeh: BokehJS is being loaded, scheduling callback at\", now());\n",
              "      return null;\n",
              "    }\n",
              "    if (js_urls == null || js_urls.length === 0) {\n",
              "      run_callbacks();\n",
              "      return null;\n",
              "    }\n",
              "    console.debug(\"Bokeh: BokehJS not loaded, scheduling load and callback at\", now());\n",
              "    root._bokeh_is_loading = css_urls.length + js_urls.length;\n",
              "\n",
              "    function on_load() {\n",
              "      root._bokeh_is_loading--;\n",
              "      if (root._bokeh_is_loading === 0) {\n",
              "        console.debug(\"Bokeh: all BokehJS libraries/stylesheets loaded\");\n",
              "        run_callbacks()\n",
              "      }\n",
              "    }\n",
              "\n",
              "    function on_error() {\n",
              "      console.error(\"failed to load \" + url);\n",
              "    }\n",
              "\n",
              "    for (var i = 0; i < css_urls.length; i++) {\n",
              "      var url = css_urls[i];\n",
              "      const element = document.createElement(\"link\");\n",
              "      element.onload = on_load;\n",
              "      element.onerror = on_error;\n",
              "      element.rel = \"stylesheet\";\n",
              "      element.type = \"text/css\";\n",
              "      element.href = url;\n",
              "      console.debug(\"Bokeh: injecting link tag for BokehJS stylesheet: \", url);\n",
              "      document.body.appendChild(element);\n",
              "    }\n",
              "\n",
              "    const hashes = {\"https://cdn.bokeh.org/bokeh/release/bokeh-2.1.1.min.js\": \"kLr4fYcqcSpbuI95brIH3vnnYCquzzSxHPU6XGQCIkQRGJwhg0StNbj1eegrHs12\", \"https://cdn.bokeh.org/bokeh/release/bokeh-widgets-2.1.1.min.js\": \"xIGPmVtaOm+z0BqfSOMn4lOR6ciex448GIKG4eE61LsAvmGj48XcMQZtKcE/UXZe\", \"https://cdn.bokeh.org/bokeh/release/bokeh-tables-2.1.1.min.js\": \"Dc9u1wF/0zApGIWoBbH77iWEHtdmkuYWG839Uzmv8y8yBLXebjO9ZnERsde5Ln/P\", \"https://cdn.bokeh.org/bokeh/release/bokeh-gl-2.1.1.min.js\": \"cT9JaBz7GiRXdENrJLZNSC6eMNF3nh3fa5fTF51Svp+ukxPdwcU5kGXGPBgDCa2j\"};\n",
              "\n",
              "    for (var i = 0; i < js_urls.length; i++) {\n",
              "      var url = js_urls[i];\n",
              "      var element = document.createElement('script');\n",
              "      element.onload = on_load;\n",
              "      element.onerror = on_error;\n",
              "      element.async = false;\n",
              "      element.src = url;\n",
              "      if (url in hashes) {\n",
              "        element.crossOrigin = \"anonymous\";\n",
              "        element.integrity = \"sha384-\" + hashes[url];\n",
              "      }\n",
              "      console.debug(\"Bokeh: injecting script tag for BokehJS library: \", url);\n",
              "      document.head.appendChild(element);\n",
              "    }\n",
              "  };\n",
              "\n",
              "  function inject_raw_css(css) {\n",
              "    const element = document.createElement(\"style\");\n",
              "    element.appendChild(document.createTextNode(css));\n",
              "    document.body.appendChild(element);\n",
              "  }\n",
              "\n",
              "  \n",
              "  var js_urls = [\"https://cdn.bokeh.org/bokeh/release/bokeh-2.1.1.min.js\", \"https://cdn.bokeh.org/bokeh/release/bokeh-widgets-2.1.1.min.js\", \"https://cdn.bokeh.org/bokeh/release/bokeh-tables-2.1.1.min.js\", \"https://cdn.bokeh.org/bokeh/release/bokeh-gl-2.1.1.min.js\"];\n",
              "  var css_urls = [];\n",
              "  \n",
              "\n",
              "  var inline_js = [\n",
              "    function(Bokeh) {\n",
              "      Bokeh.set_log_level(\"info\");\n",
              "    },\n",
              "    function(Bokeh) {\n",
              "    \n",
              "    \n",
              "    }\n",
              "  ];\n",
              "\n",
              "  function run_inline_js() {\n",
              "    \n",
              "    if (root.Bokeh !== undefined || force === true) {\n",
              "      \n",
              "    for (var i = 0; i < inline_js.length; i++) {\n",
              "      inline_js[i].call(root, root.Bokeh);\n",
              "    }\n",
              "    } else if (Date.now() < root._bokeh_timeout) {\n",
              "      setTimeout(run_inline_js, 100);\n",
              "    } else if (!root._bokeh_failed_load) {\n",
              "      console.log(\"Bokeh: BokehJS failed to load within specified timeout.\");\n",
              "      root._bokeh_failed_load = true;\n",
              "    } else if (force !== true) {\n",
              "      var cell = $(document.getElementById(null)).parents('.cell').data().cell;\n",
              "      cell.output_area.append_execute_result(NB_LOAD_WARNING)\n",
              "    }\n",
              "\n",
              "  }\n",
              "\n",
              "  if (root._bokeh_is_loading === 0) {\n",
              "    console.debug(\"Bokeh: BokehJS loaded, going straight to plotting\");\n",
              "    run_inline_js();\n",
              "  } else {\n",
              "    load_libs(css_urls, js_urls, function() {\n",
              "      console.debug(\"Bokeh: BokehJS plotting callback run at\", now());\n",
              "      run_inline_js();\n",
              "    });\n",
              "  }\n",
              "}(window));"
            ],
            "application/vnd.bokehjs_load.v0+json": "\n(function(root) {\n  function now() {\n    return new Date();\n  }\n\n  var force = true;\n\n  if (typeof root._bokeh_onload_callbacks === \"undefined\" || force === true) {\n    root._bokeh_onload_callbacks = [];\n    root._bokeh_is_loading = undefined;\n  }\n\n  \n\n  \n  if (typeof (root._bokeh_timeout) === \"undefined\" || force === true) {\n    root._bokeh_timeout = Date.now() + 5000;\n    root._bokeh_failed_load = false;\n  }\n\n  var NB_LOAD_WARNING = {'data': {'text/html':\n     \"<div style='background-color: #fdd'>\\n\"+\n     \"<p>\\n\"+\n     \"BokehJS does not appear to have successfully loaded. If loading BokehJS from CDN, this \\n\"+\n     \"may be due to a slow or bad network connection. Possible fixes:\\n\"+\n     \"</p>\\n\"+\n     \"<ul>\\n\"+\n     \"<li>re-rerun `output_notebook()` to attempt to load from CDN again, or</li>\\n\"+\n     \"<li>use INLINE resources instead, as so:</li>\\n\"+\n     \"</ul>\\n\"+\n     \"<code>\\n\"+\n     \"from bokeh.resources import INLINE\\n\"+\n     \"output_notebook(resources=INLINE)\\n\"+\n     \"</code>\\n\"+\n     \"</div>\"}};\n\n  function display_loaded() {\n    var el = document.getElementById(null);\n    if (el != null) {\n      el.textContent = \"BokehJS is loading...\";\n    }\n    if (root.Bokeh !== undefined) {\n      if (el != null) {\n        el.textContent = \"BokehJS \" + root.Bokeh.version + \" successfully loaded.\";\n      }\n    } else if (Date.now() < root._bokeh_timeout) {\n      setTimeout(display_loaded, 100)\n    }\n  }\n\n\n  function run_callbacks() {\n    try {\n      root._bokeh_onload_callbacks.forEach(function(callback) {\n        if (callback != null)\n          callback();\n      });\n    } finally {\n      delete root._bokeh_onload_callbacks\n    }\n    console.debug(\"Bokeh: all callbacks have finished\");\n  }\n\n  function load_libs(css_urls, js_urls, callback) {\n    if (css_urls == null) css_urls = [];\n    if (js_urls == null) js_urls = [];\n\n    root._bokeh_onload_callbacks.push(callback);\n    if (root._bokeh_is_loading > 0) {\n      console.debug(\"Bokeh: BokehJS is being loaded, scheduling callback at\", now());\n      return null;\n    }\n    if (js_urls == null || js_urls.length === 0) {\n      run_callbacks();\n      return null;\n    }\n    console.debug(\"Bokeh: BokehJS not loaded, scheduling load and callback at\", now());\n    root._bokeh_is_loading = css_urls.length + js_urls.length;\n\n    function on_load() {\n      root._bokeh_is_loading--;\n      if (root._bokeh_is_loading === 0) {\n        console.debug(\"Bokeh: all BokehJS libraries/stylesheets loaded\");\n        run_callbacks()\n      }\n    }\n\n    function on_error() {\n      console.error(\"failed to load \" + url);\n    }\n\n    for (var i = 0; i < css_urls.length; i++) {\n      var url = css_urls[i];\n      const element = document.createElement(\"link\");\n      element.onload = on_load;\n      element.onerror = on_error;\n      element.rel = \"stylesheet\";\n      element.type = \"text/css\";\n      element.href = url;\n      console.debug(\"Bokeh: injecting link tag for BokehJS stylesheet: \", url);\n      document.body.appendChild(element);\n    }\n\n    const hashes = {\"https://cdn.bokeh.org/bokeh/release/bokeh-2.1.1.min.js\": \"kLr4fYcqcSpbuI95brIH3vnnYCquzzSxHPU6XGQCIkQRGJwhg0StNbj1eegrHs12\", \"https://cdn.bokeh.org/bokeh/release/bokeh-widgets-2.1.1.min.js\": \"xIGPmVtaOm+z0BqfSOMn4lOR6ciex448GIKG4eE61LsAvmGj48XcMQZtKcE/UXZe\", \"https://cdn.bokeh.org/bokeh/release/bokeh-tables-2.1.1.min.js\": \"Dc9u1wF/0zApGIWoBbH77iWEHtdmkuYWG839Uzmv8y8yBLXebjO9ZnERsde5Ln/P\", \"https://cdn.bokeh.org/bokeh/release/bokeh-gl-2.1.1.min.js\": \"cT9JaBz7GiRXdENrJLZNSC6eMNF3nh3fa5fTF51Svp+ukxPdwcU5kGXGPBgDCa2j\"};\n\n    for (var i = 0; i < js_urls.length; i++) {\n      var url = js_urls[i];\n      var element = document.createElement('script');\n      element.onload = on_load;\n      element.onerror = on_error;\n      element.async = false;\n      element.src = url;\n      if (url in hashes) {\n        element.crossOrigin = \"anonymous\";\n        element.integrity = \"sha384-\" + hashes[url];\n      }\n      console.debug(\"Bokeh: injecting script tag for BokehJS library: \", url);\n      document.head.appendChild(element);\n    }\n  };\n\n  function inject_raw_css(css) {\n    const element = document.createElement(\"style\");\n    element.appendChild(document.createTextNode(css));\n    document.body.appendChild(element);\n  }\n\n  \n  var js_urls = [\"https://cdn.bokeh.org/bokeh/release/bokeh-2.1.1.min.js\", \"https://cdn.bokeh.org/bokeh/release/bokeh-widgets-2.1.1.min.js\", \"https://cdn.bokeh.org/bokeh/release/bokeh-tables-2.1.1.min.js\", \"https://cdn.bokeh.org/bokeh/release/bokeh-gl-2.1.1.min.js\"];\n  var css_urls = [];\n  \n\n  var inline_js = [\n    function(Bokeh) {\n      Bokeh.set_log_level(\"info\");\n    },\n    function(Bokeh) {\n    \n    \n    }\n  ];\n\n  function run_inline_js() {\n    \n    if (root.Bokeh !== undefined || force === true) {\n      \n    for (var i = 0; i < inline_js.length; i++) {\n      inline_js[i].call(root, root.Bokeh);\n    }\n    } else if (Date.now() < root._bokeh_timeout) {\n      setTimeout(run_inline_js, 100);\n    } else if (!root._bokeh_failed_load) {\n      console.log(\"Bokeh: BokehJS failed to load within specified timeout.\");\n      root._bokeh_failed_load = true;\n    } else if (force !== true) {\n      var cell = $(document.getElementById(null)).parents('.cell').data().cell;\n      cell.output_area.append_execute_result(NB_LOAD_WARNING)\n    }\n\n  }\n\n  if (root._bokeh_is_loading === 0) {\n    console.debug(\"Bokeh: BokehJS loaded, going straight to plotting\");\n    run_inline_js();\n  } else {\n    load_libs(css_urls, js_urls, function() {\n      console.debug(\"Bokeh: BokehJS plotting callback run at\", now());\n      run_inline_js();\n    });\n  }\n}(window));"
          },
          "metadata": {
            "tags": []
          }
        },
        {
          "output_type": "display_data",
          "data": {
            "text/html": [
              "\n",
              "\n",
              "\n",
              "\n",
              "\n",
              "\n",
              "  <div class=\"bk-root\" id=\"39db2283-6ba7-48c4-8b63-204b2490af6d\" data-root-id=\"1111\"></div>\n"
            ]
          },
          "metadata": {
            "tags": []
          }
        },
        {
          "output_type": "display_data",
          "data": {
            "application/javascript": [
              "(function(root) {\n",
              "  function embed_document(root) {\n",
              "    \n",
              "  var docs_json = {\"d2933c2b-94c5-44e5-ba69-194c582cc3f9\":{\"roots\":{\"references\":[{\"attributes\":{\"children\":[{\"id\":\"1003\"},{\"id\":\"1110\"}]},\"id\":\"1111\",\"type\":\"Column\"},{\"attributes\":{\"text\":\"General Info\"},\"id\":\"1082\",\"type\":\"Title\"},{\"attributes\":{},\"id\":\"1135\",\"type\":\"CategoricalTickFormatter\"},{\"attributes\":{},\"id\":\"1145\",\"type\":\"StringFormatter\"},{\"attributes\":{\"args\":{\"main_source\":{\"id\":\"1001\"},\"source_barplot\":{\"id\":\"1080\"},\"source_table\":{\"id\":\"1068\"}},\"code\":\"\\n        // get the indices of the selectd data and sort them in ascending order\\n        var inds = cb_obj.indices\\n        inds.sort(function(a, b){return a-b})\\n\\n\\n        // if the array is not empty (if it is empy, it means that no elements has been selected (occurs when the user select no element after having selected some element), \\n        // with the consequence of not adding any element)\\n        if (inds.length != 0){\\n          // create various variable to store the data from the various sources (ColumnDataSource object)\\n          var d1 = main_source.data\\n          var d2 = source_table.data\\n          var d3 = source_barplot.data\\n\\n\\n          // get the first and end date (no need to any particular calculus because each data is already in order and unique)\\n          var start_date = new Date(d1[\\\"date\\\"][inds[0]])\\n          var end_date = new Date(d1[\\\"date\\\"][inds[inds.length-1]])\\n\\n\\n          // get max value (and set it to max 2 decimals)\\n          var max_value\\n          for(var i = 0; i < inds.length; i++) {\\n              if(i == 0) {\\n                max_value = d1[\\\"value\\\"][inds[i]]\\n              } else {\\n                if(max_value < d1[\\\"value\\\"][inds[i]]){\\n                  max_value = (d1[\\\"value\\\"][inds[i]]).toFixed(2)\\n                }\\n              }\\n          }\\n\\n\\n          // get average value (and set it to max 2 decimals)\\n          var avarage_value = 0.00\\n          for(var i = 0; i < inds.length; i++) {\\n              avarage_value = avarage_value + d1[\\\"value\\\"][inds[i]]\\n          }\\n          avarage_value = (avarage_value/inds.length).toFixed(2)\\n\\n\\n          // calculate the area of the trapezoid (the sum of the two bases (we count the value as minutes) * h (difference between the dates in minutess) / 2)\\n          var area = 0.00\\n          for(var i = 0; i < (inds.length-1); i++) {\\n              var sum_bases = Math.abs(d1[\\\"value\\\"][inds[i]]) + Math.abs(d1[\\\"value\\\"][inds[i+1]])\\n              console.log(Math.abs(d1[\\\"value\\\"][inds[i]]))\\n              console.log(Math.abs(d1[\\\"value\\\"][inds[i+1]]))\\n              console.log(sum_bases)\\n              var height = ((new Date(d1[\\\"date\\\"][inds[i+1]])).getTime() - (new Date(d1[\\\"date\\\"][inds[i]])).getTime()) / 60000\\n\\n              area = area + (sum_bases * height) / 2\\n          }\\n          // set the number of decimals to 2 \\n          area = parseFloat(area).toFixed(2);\\n\\n\\n          // push all the data in the source of the data_table\\n          d2[\\\"Start_date\\\"].push(start_date)\\n          d2[\\\"End_date\\\"].push(end_date)\\n          d2[\\\"Max_value\\\"].push(max_value)\\n          d2[\\\"Average_value\\\"].push(avarage_value)\\n          d2[\\\"Area\\\"].push(area)\\n\\n\\n          // reset the values of the bar plot and update them (order of values is: Max Value, Avarage Value, Area)\\n          d3[\\\"value\\\"] = []\\n          d3[\\\"value\\\"].push(max_value)\\n          d3[\\\"value\\\"].push(avarage_value)\\n          d3[\\\"value\\\"].push(area)\\n\\n\\n          // update the Table and Bar plot (this function notify that something has changed, and to immediately update the values and UI)\\n          source_table.change.emit()\\n          source_barplot.change.emit()\\n        }\\n        \"},\"id\":\"1107\",\"type\":\"CustomJS\"},{\"attributes\":{},\"id\":\"1084\",\"type\":\"DataRange1d\"},{\"attributes\":{},\"id\":\"1090\",\"type\":\"CategoricalScale\"},{\"attributes\":{\"factors\":[\"Max Value\",\"Avarage Value\",\"Area\"]},\"id\":\"1086\",\"type\":\"FactorRange\"},{\"attributes\":{\"overlay\":{\"id\":\"1029\"}},\"id\":\"1026\",\"type\":\"PolySelectTool\"},{\"attributes\":{},\"id\":\"1088\",\"type\":\"LinearScale\"},{\"attributes\":{\"data\":{\"date\":{\"__ndarray__\":\"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\",\"dtype\":\"float64\",\"order\":\"little\",\"shape\":[938]},\"index\":[0,1,2,3,4,5,6,7,8,9,10,11,12,13,14,15,16,17,18,19,20,21,22,23,24,25,26,27,28,29,30,31,32,33,34,35,36,37,38,39,40,41,42,43,44,45,46,47,48,49,50,51,52,53,54,55,56,57,58,59,60,61,62,63,64,65,66,67,68,69,70,71,72,73,74,75,76,77,78,79,80,81,82,83,84,85,86,87,88,89,90,91,92,93,94,95,96,97,98,99,100,101,102,103,104,105,106,107,108,109,110,111,112,113,114,115,116,117,118,119,120,121,122,123,124,125,126,127,128,129,130,131,132,133,134,135,136,137,138,139,140,141,142,143,144,145,146,147,148,149,150,151,152,153,154,155,156,157,158,159,160,161,162,163,164,165,166,167,168,169,170,171,172,173,174,175,176,177,178,179,180,181,182,183,184,185,186,187,188,189,190,191,192,193,194,195,196,197,198,199,200,201,202,203,204,205,206,207,208,209,210,211,212,213,214,215,216,217,218,219,220,221,222,223,224,225,226,227,228,229,230,231,232,233,234,235,236,237,238,239,240,241,242,243,244,245,246,247,248,249,250,251,252,253,254,255,256,257,258,259,260,261,262,263,264,265,266,267,268,269,270,271,272,273,274,275,276,277,278,279,280,281,282,283,284,285,286,287,288,289,290,291,292,293,294,295,296,297,298,299,300,301,302,303,304,305,306,307,308,309,310,311,312,313,314,315,316,317,318,319,320,321,322,323,324,325,326,327,328,329,330,331,332,333,334,335,336,337,338,339,340,341,342,343,344,345,346,347,348,349,350,351,352,353,354,355,356,357,358,359,360,361,362,363,364,365,366,367,368,369,370,371,372,373,374,375,376,377,378,379,380,381,382,383,384,385,386,387,388,389,390,391,392,393,394,395,396,397,398,399,400,401,402,403,404,405,406,407,408,409,410,411,412,413,414,415,416,417,418,419,420,421,422,423,424,425,426,427,428,429,430,431,432,433,434,435,436,437,438,439,440,441,442,443,444,445,446,447,448,449,450,451,452,453,454,455,456,457,458,459,460,461,462,463,464,465,466,467,468,469,470,471,472,473,474,475,476,477,478,479,480,481,482,483,484,485,486,487,488,489,490,491,492,493,494,495,496,497,498,499,500,501,502,503,504,505,506,507,508,509,510,511,512,513,514,515,516,517,518,519,520,521,522,523,524,525,526,527,528,529,530,531,532,533,534,535,536,537,538,539,540,541,542,543,544,545,546,547,548,549,550,551,552,553,554,555,556,557,558,559,560,561,562,563,564,565,566,567,568,569,570,571,572,573,574,575,576,577,578,579,580,581,582,583,584,585,586,587,588,589,590,591,592,593,594,595,596,597,598,599,600,601,602,603,604,605,606,607,608,609,610,611,612,613,614,615,616,617,618,619,620,621,622,623,624,625,626,627,628,629,630,631,632,633,634,635,636,637,638,639,640,641,642,643,644,645,646,647,648,649,650,651,652,653,654,655,656,657,658,659,660,661,662,663,664,665,666,667,668,669,670,671,672,673,674,675,676,677,678,679,680,681,682,683,684,685,686,687,688,689,690,691,692,693,694,695,696,697,698,699,700,701,702,703,704,705,706,707,708,709,710,711,712,713,714,715,716,717,718,719,720,721,722,723,724,725,726,727,728,729,730,731,732,733,734,735,736,737,738,739,740,741,742,743,744,745,746,747,748,749,750,751,752,753,754,755,756,757,758,759,760,761,762,763,764,765,766,767,768,769,770,771,772,773,774,775,776,777,778,779,780,781,782,783,784,785,786,787,788,789,790,791,792,793,794,795,796,797,798,799,800,801,802,803,804,805,806,807,808,809,810,811,812,813,814,815,816,817,818,819,820,821,822,823,824,825,826,827,828,829,830,831,832,833,834,835,836,837,838,839,840,841,842,843,844,845,846,847,848,849,850,851,852,853,854,855,856,857,858,859,860,861,862,863,864,865,866,867,868,869,870,871,872,873,874,875,876,877,878,879,880,881,882,883,884,885,886,887,888,889,890,891,892,893,894,895,896,897,898,899,900,901,902,903,904,905,906,907,908,909,910,911,912,913,914,915,916,917,918,919,920,921,922,923,924,925,926,927,928,929,930,931,932,933,934,935,936,937],\"value\":{\"__ndarray__\":\"AAAAAAAAAAAAAAAAAAAAAAAAAAAAAAAAAAAAAAAAAAAAAAAAAAAAAAAAAAAAAAAAAAAAAAAAAAAAAAAAAAAAAAAAAAAAAAAAAAAAAAAAAAAAAAAAAAAAAAAAAAAAAAAAAAAAAAAAAAAAAAAAAAAAAAAAAAAAAAAAAAAAAAAAAAAAAAAAAAAAAAAAAAAAAAAAAAAAAAAAAAAAAAAAAAAAAAAAAAAAAAAAAAAAAAAAAAAAAAAAAAAAAAAAAAAAAAAAAAAAAAAAAAAAAAAAAAAAAAAAAAAAAAAAAAAAAAAAAAAAAAAAAAAAAAAAAAAAAAAAAAAAAAAAAAAAAAAAAAAAAAAAAAAAAAAAAAAAAAAAAAAAAAAAAAAAAAAAAAAAAAAAAAAAAAAAAAAAAAAAAAAAAAAAAAAAAAAAAAAAAAAAAAAAAAAAAAAAAAAAAAAAAAAAAAAAAAAAAAAAAAAAAAAAAAAAAAAAAAAAAAAAAAAAAAAAAAAAAAAAAAAAAAAAAAAAAAAAAAAAAAAAAAAAAAAAAAAAAAAAAAAAAAAAAAAAAAAAAAAAAAAAAAAAAAAAAAAAAAAAAAAAAAAAAAAAAAAAAAAAAAAAAAAAAAAAAAAAAAAAAAAAAAAAAAAAAAAAAAAAAAAAAAAAAAAAAAAAAAAAAAAAAAAAAAAAAAAAAAAAAAAAAAAAAAAAAAAAAAAAAAAAAAAAAAAAAAAAAAAAAAAAAAAAAAAAAAAAAAAAAAAAAAAAAAAAAAAAAAAAAAAAAAAAAAAAAAAAAAAAAAAAAAAAAAAAAAAAAAAAAAAAAAAAAAAAAAAAAAAAAAAAAAAAAAAAAAAAAAAAAAAAAAAAAAAAAAAAAAAAAAAAAAAAAAAAAAAAAAAAAAAAAAAAAAAAAAAAAAAAAAAAAAAAAAAAAAAAAAAAAAAAAAAAAAAAAAAAAAAAAAAAAAAAAAAAAAAAAAAAAAAAAAAAAAAAAAAAAAAAAAAAAAAAAAAAAAAAAAAAAAAAAAAAAAAAAAAAAAAAAAAAAAAAAAAAAAAAAAAAAAAAAAAAAAAAAAAAAAAAAAAAAAAAAAAAAAAAAAAAAAAAAAAAAAAAAAAAAAAAAAAAAAAAAAAAAAAAAAAAAAAAAAAAAAAAAAAAAAAAAAAAAAAAAAAAAAAAAAAAAAAAAAAAAAAAAAAAAAAAAAAAAAAAAAAAAAAAAAAAAAAAAAAAAAAAAAAAAAAAAAAAAAAAAAAAAAAAAAAAAAAAAAAAAAAAAAAAAAAAAAAAAAAAAAAAAAAAAAAAAAAAAAAAAAAAAAAAAAAAAAAAAAAAAAAAAAAAAAAAAAAAAAAAAAAAAAAAAAAAAAAAAAAAAAAAAAAAAAAAAAAAAAAAAAAAAAAAAAAAAAAAAAAAAAAAAAAAAAAAAAAAAAAAAAAAAAAAAAAAAAAAAAAAAAAAAAAAAAAAAAAAAAAAAAAAAAAAAAAAAAAAAAAAAAAAAAAAAAAAAAAAAAAAAAAAAAAAAAAAAAAAAAAAAAAAAAAAAAAAAAAAAAAAAAAAAAAAAAAAAAAAAAAAAAAAAAAAAAAAAAAAAAAAAAAAAAAAAAAAAAAAAAAAAAAAAAAAAAAAAAAAAAAAAAAAAAAAAAAAAAAAAAAAAAAAAAAAAAAAAAAAAAAAAAAAAAAAAAAAAAAAAAAAAAAAAAAAAAAAAAAAAAAAAAAAAAAAAAAAAAAAAAAAAAAAAAAAAAAAAAAAAAAAAAAAAAAAAAAAAAAAAAAAAAAAAAAAAAAAAAAAAAAAAAAAAAAAAAAAAAAAAAAAAAAAAAAAAAAAAAAAAAAAAAAAAAAAAAAAAAAAAAAAAAAAAAAAAAAAAAAAAAAAAAAAAAAAAAAAAAAAAAAAAAAAAAAAAAAAAAAAAAAAAAAAAAAAAAAAAAAAAAAAAAAAAAAAAAAAAAAAAAAAAAAAAAAAAAAAAAAAAAAAAAAAAAAAAAAAAAAAAAAAAAAAAAAAAAAAAAAAAAAAAAAAAAAAAAAAAAAAAAAAAAAAAAAAAAAAAAAAAAAAAAAAAAAAAAAAAAAAAAAAAAAAAAAAAAAAAAAAAAAAAAAAAAAAAAAAAAAAAAAAAAAAAAAAAAAAAAAAAAAAAAAAAAAAAAAAAAAAAAAAAAAAAAAAAAAAAAAAAAAAAAAAAAAAAAAAAAAAAAAAAAAAAAAAAAAAAAAAAAAAAAAAAAAAAAAAAAAAAAAAAAAAAAAAAAAAAAAAAAAAAAAAAAAAAAAAAAAAAAAAAAAAAAAAAAAAAAAAAAAAAAAAAAAAAAAAAAAAAAAAAAAAAAAAAAAAAAAAAAAAAAAAAAAAAAAAAAAAAAAAAAAAAAAAAAAAAAAAAAAAAAAAAAAAAAAAAAAAAAAAAAAAAAAAAAAAAAAAAAAAAAAAAAAAAAAAAAAAAAAAAAAAAAAAAAAAAAAAAAAAAAAAAAAAAAAAAAAAAAAAAAAAAAAAAAAAAAAAAAAAAAAAAAAAAAAAAAAAAAAAAAAAAAAAAAAAAAAAAAAAAAAAAAAAAAAAAAAAAAAAAAAAAAAAAAAAAAAAAAAAAAAAAAAAAAAAAAAAAAAAAAAAAAAAAAAAAAAAAAAAAAAAAAAAAAAAAAAAAAAAAAAAAAAAAAAAAAAAAAAAAAAAAAAAAAAAAAAAAAAAAAAAAAAAAAAAAAAAAAAAAAAAAAAAAAAAAAAAAAAAAAAAAAAAAAAAAAAAAAAAAAAAAAAAAAAAAAAAAAAAAAAAAAAAAAAAAAAAAAAAAAAAAAAAAAAAAAAAAAAAAAAAAAAAAAAAAAAAAAAAAAAAAAAAAAAAAAAAAAAAAAAAAAAAAAAAAAAAAAAAAAAAAAAAAAAAAAAAAAAAAAAAAAAAAAAAAAAAAAAAAAAAAAAAAAAAAAAAAAAAAAAAAAAAAAAAAAAAAAAAAAAAAAAAAAAAAAAAAAAAAAAAAAAAAAAAAAAAAAAAAAAAAAAAAAAAAAAAAAAAAAAAAAAAAAAAAAAAAAAAAAAAAAAAAAAAAAAAAAAAAAAAAAAAAAAAAAAAAAAAAAAAAAAAAAAAAAAAAAAAAAAAAAAAAAAAAAAAAAAAAAAAAAAAAAAAAAAAAAAAAAAAAAAAAAAAAAAAAAAAAAAAAAAAAAAAAAAAAAAAAAAAAAAAAAAAAAAAAAAAAAAAAAAAAAAAAAAAAAAAAAAAAAAAAAAAAAAAAAAAAAAAAAAAAAAAAAAAAAAAAAAAAAAAAAAAAAAAAAAAAAAAAAAAAAAAAAAAAAAAAAAAAAAAAAAAAAAAAAAAAAAAAAAAAAAAAAAAAAAAAAAAAAAAAAAAAAAAAAAAAAAAAAAAAAAAAAAAAAAAAAAAAAAAAAAAAAAAAAAAAAAAAAAAAAAAAAAAAAAAAAAAAAAAAAAAAAAAAAAAAAAAAAAAAAAAAAAAAAAAAAAAAAAAAAAAAAAAAAAAAAAAAAAAAAAAAAAAAAAAAAAAAAAAAAAAAAAAAAAAAAAAAAAAAAAAAAAAAAAAAAAAAAAAAAAAAAAAAAAAAAAAAAAAAAAAAAAAAAAAAAAAAAAAAAAAAAAAAAAAAAAAAAAAAAAAAAAAAAAAAAAAAAAAAAAAAAAAAAAAAAAAAAAAAAAAAAAAAAAAAAAAAAAAAAAAAAAAAAAAAAAAAAAAAAAAAAAAAAAAAAAAAAAAAAAAAAAAAAAAAAAAAAAAAAAAAAAAAAAAAAAAAAAAAAAAAAAAAAAAAAAAAAAAAAAAAAAAAAAAAAAAAAAAAAAAAAAAAAAAAAAAAAAAAAAAAAAAAAAAAAAAAAAAAAAAAAAAAAAAAAAAAAAAAAAAAAAAAAAAAAAAAAAAAAAAAAAAAAAAAAAAAAAAAAAAAAAAAAAAAAAAAAAAAAAAAAAAAAAAAAAAAAAAAAAAAAAAAAAAAAAAAAAAAAAAAAAAAAAAAAAAAAAAAAAAAAAAAAAAAAAAAAAAAAAAAAAAAAAAAAAAAAAAAAAAAAAAAAAAAAAAAAAAAAAAAAAAAAAAAAAAAAAAAAAAAAAAAAAAAAAAAAAAAAAAAAAAAAAAAAAAAAAAAAAAAAAAAAAAAAAAAAAAAAAAAAAAAAAAAAAAAAAAAAAAAAAAAAAAAAAAAAAAAAAAAAAAAAAAAAAAAAAAAAAAAAAAAAAAAAAAAAAAAAAAAAAAAAAAAAAAAAAAAAAAAAAAAAAAAAAAAAAAAAAAAAAAAAAAAAAAAAAAAAAAAAAAAAAAAAAAAAAAAAAAAAAAAAAAAAAAAAAAAAAAAAAAAAAAAAAAAAAAAAAAAAAAAAAAAAAAAAAAAAAAAAAAAAAAAAAAAAAAAAAAAAAAAAAAAAAAAAAAAAAAAAAAAAAAAAAAAAAAAAAAAAAAAAAAAAAAAAAAAAAAAAAAAAAAAAAAAAAAAAAAAAAAAAAAAAAAAAAAAAAAAAAAAAAAAAAAAAAAAAAAAAAAAAAAAAAAAAAAAAAAAAAAAAAAAAAAAAAAAAAAAAAAAAAAAAAAAAAAAAAAAAAAAAAAAAAAAAAAAAAAAAAAAAAAAAAAAAAAAAAAAAAAAAAAAAAAAAAAAAAAAAAAAAAAAAAAAAAAAAAAAAAAAAAAAAAAAAAAAAAAAAAAAAAAAAAAAAAAAAAAAAAAAAAAAAAAAAAAAAAAAAAAAAAAAAAAAAAAAAAAAAAAAAAAAAAAAAAAAAAAAAAAAAAAAAAAAAAAAAAAAAAAAAAAAAAAAAAAAAAAAAAAAAAAAAAAAAAAAAAAAAAAAAAAAAAAAAAAAAAAAAAAAAAAAAAAAAAAAAAAAAAAAAAAAAAAAAAAAAAAAAAAAAAAAAAAAAAAAAAAAAAAAAAAAAAAAAAAAAAAAAAAAAAAAAAAAAAAAAAAAAAAAAAAAAAAAAAAAAAAAAAAAAAAAAAAAAAAAAAAAAAAAAAAAAAAAAAAAAAAAAAAAAAAAAAAAAAAAAAAAAAAAAAAAAAAAAAAAAAAAAAAAAAAAAAAAAAAAAAAAAAAAAAAAAAAAAAAAAAAAAAAAAAAAAAAAAAAAAAAAAAAAAAAAAAAAAAAAAAAAAAAAAAAAAAAAAAAAAAAAAAAAAAAAAAAAAAAAAAAAAAAAAAAAAAAAAAAAAAAAAAAAAAAAAAAAAAAAAAAAAAAAAAAAAAAAAAAAAAAAAAAAAAAAAAAAAAAAAAAAAAAAAAAAAAAAAAAAAAAAAAAAAAAAAAAAAAAAAAAAAAAAAAAAAAAAAAAAAAAAAAAAAAAAAAAAAAAAAAAAAAAAAAAAAAAAAAAAAAAAAAAAAAAAAAAAAAAAAAAAAAAAAAAAAAAAAAAAAAAAAAAAAAAAAAAAAAAAAAAAAAAAAAAAAAAAAAAAAAAAAAAAAAAAAAAAAAAAAAAAAAAAAAAAAAAAAAAAAAAAAAAAAAAAAAAAAAAAAAAAAAAAAAAAAAAAAAAAAAAAAAAAAAAAAAAAAAAAAAAAAAAAAAAAAAAAAAAAAAAAAAAAAAAAAAAAAAAAAAAAAAAAAAAAAAAAAAAAAAAAAAAAAAAAAAAAAAAAAAAAAAAAAAAAAAAAAAAAAAAAAAAAAAAAAAAAAAAAAAAAAAAAAAAAAAAAAAAAAAAAAAAAAAAAAAAAAAAAAAAAAAAAAAAAAAAAAAAAAAAAAAAAAAAAAAAAAAAAAAAAAAAAAAAAAAAAAAAAAAAAAAAAAAAAAAAAAAAAAAAAAAAAAAAAAAAAAAAAAAAAAAAAAAAAAAAAAAAAAAAAAAAAAAAAAAAAAAAAAAAAAAAAAAAAAAAAAAAAAAAAAAAAAAAAAAAAAAAAAAAAAAAAAAAAAAAAAAAAAAAAAAAAAAAAAAAAAAAAAAAAAAAAAAAAAAAAAAAAAAAAAAAAAAAAAAAAAAAAAAAAAAAAAAAAAAAAAAAAAAAAAAAAAAAAAAAAAAAAAAAAAAAAAAAAAAAAAAAAAAAAAAAAAAAAAAAAAAAAAAAAAAAAAAAAAAAAAAAAAAAAAAAAAAAAAAAAAAAAAAAAAAAAAAAAAAAAAAAAAAAAAAAAAAAAAAAAAAAAAAAAAAAAAAAAAAAAAAAAAAAAAAAAAAAAAAAAAAAAAAAAAAAAAAAAAAAAAAAAAAAAAAAAAAAAAAAAAAAAAAAAAAAAAAAAAAAAAAAAAAAAAAAAAAAAAAAAAAAAAAAAAAAAAAAAAAAAAAAAAAAAAAAAAAAAAAAAAAAAAAAAAAAAAAAAAAAAAAAAAAAAAAAAAAAAAAAAAAAAAAAAAAAAAAAAAAAAAAAAAAAAAAAAAAAAAAAAAAAAAAAAAAAAAAAAAAAAAAAAAAAAAAAAAAAAAAAAAAAAAAAAAAAAAAAAAAAAAAAAAAAAAAAAAAAAAAAAAAAAAAAAAAAAAAAAAAAAAAAAAAAAAAAAAAAAAAAAAAAAAAAAAAAAAAAAAAAAAAAAAAAAAAAAAAAAAAAAAAAAAAAAAAAAAAAAAAAAAAAAAAAAAAAAAAAAAAAAAAAAAAAAAAAAAAAAAAAAAAAAAAAAAAAAAAAAAAAAAAAAAAAAAAAAAAAAAAAAAAAAAAAAAAAAAAAAAAAAAAAAAAAAAAAAAAAAAAAAAAAAAAAAAAAAAAAAAAAAAAAAAAAAAAAAAAAAAAAAAAAAAAAAAAAAAAAAAAAAAAAAAAAAAAAAAAAAAAAAAAAAAAAAAAAAAAAAAAAAAAAAAAAAAAAAAAAAAAAAAAAAAAAAAAAAAAAAAAAAAAAAAAAAAAAAAAAAAAAAAAAAAAAAAAAAAAAAAAAAAAAAAAAAAAAAAAAAAAAAAAAAAAAAAAAAAAAAAAAAAAAAAAAAAAAAAAAAAAAAAAAAAAAAAAAAAAAAAAAAAAAAAAAAAAAAAAAAAAAAAAAAAAAAAAAAAAAAAAAAAAAAAAAAAAAAAAAAAAAAAAAAAAAAAAAAAAAAAAAAAAAAAAAAAAAAAAAAAAAAAAAAAAAAAAAAAAAAAAAAAAAAAAAAAAAAAAAAAAAAAAAAAAAAAAAAAAAAAAAAAAAAAAAAAAAAAAAAAAAAAAAAAAAAAAAAAAAAAAAAAAAAAAAAAAAAAAAAAAAAAAAAAAAAAAAAAAAAAAAAAAAAAAAAAAAAAAAAAAAAAAAAAAAAAAAAAAAAAAAAAAAAAAAAAAAAAAAAAAAAAAAAAAAAAAAAAAAAAAAAAAAAAAAAAAAAAAAAAAAAAAAAAAAAAAAAAAAAAAAAAAAAAAAAAAAAAAAAAAAAAAAAAAAAAAAAAAAAAAAAAAAAAAAAAAAAAAAAAAAAAAAAAAAAAAAAAAAAAAAAAAAAAAAAAAAAAAAAAAAAAAAAAAAAAAAAAAAAAAAAAAAAAAAAAAAAAAAAAAAAAAAAAAAAAAAAAAAAAAAAAAAAAAAAAAAAAAAAAAAAAAAAAAAAAAAAAAAAAAAAAAAAAAAAAAAAAAAAAAAAAAAAAAAAAAAAAAAAAAAAAAAAAAAAAAAAAAAAAAAAAAAAAAAAAAAAAAAAAAAAAAAAAAAAAAAAAAAAAAAAAAAAAAAAAAAAAAAAAAAAAAAAAAAAAAAAAAAAAAAAAAAAAAAAAAAAAAAAAAAAAAAAAAAAAAAAAAAAAAAAAAAAAAAAAAAAAAAAAAAAAAAAAAAAAAAAAAAAAAAAAAAAAAAAAAAAAAAAAAAAAAAAAAAAAAAAAAAAAAAAAAAAAAAAAAAAAAAAAAAAAAAAAAAAAAAAAAAAAAAAAAAAAAAAAAAAAAAAAAAAAAAAAAAAAAAAAAAAAAAAAAAAAAAAAAAAAAAAAAAAAAAAAAAAAAAAAAAAAAAAAAAAAAAAAAAAAAAAAAAAAAAAAAAAAAAAAAAAAAAAAAAAAAAAAAAAAAAAAAAAAAAAAAAAAAAAAAAAAAAAAAAAAAAAAAAAAAAAAAAAAAAAAAAAAAAAAAAAAAAAAAAAAAAAAAAAAAAAAAAAAAAAAAAAAAAAAAAAAAAAAAAAAAAAAAAAAAAAAAAAAAAAAAAAAAAAAAAAAAAAAAAAAAAAAAAAAAAAAAAAAAAAAAAAAAAAAAAAAAAAAAAAAAAAAAAAAAAAAAAAAAAAAAAAAAAAAAAAAAAAAAAAAAAAAAAAAAAAAAAAAAAAAAAAAAAAAAAAAAAAAAAAAAAAAAAAAAAAAAAAAAAAAAAAAAAAAAAAAAAAAAAAAAAAAAAAAAAAAAAAAAAAAAAAAAAAAAAAAAAAAAAAAAAAAAAAAAAAAAAAAAAAAAAAAAAAAAAAAAAAAAAAAAAAAAAAAAAAAAAAAAAAAAAAAAAAAAAAAAAAAAAAAAAAAAAAAAAAAAAAAAAAAAAAAAAAAAAAAAAAAAAAAAAAAAAAAAAAAAAAAAAAAAAAAAAAAAAAAAAAAAAAAAAAAAAAAAAAAAAAAAAAAAAAAAAAAAAAAAAAAAAAAAAAAAAAAAAAAAAAAAAAAAAAAAAAAAAAAAAAAAAAAAAAAAAAAAAAAAAAAAAAAAAAAAAAAAAAAAAAAAAAAAAAAAAAAAAAAAAAAAAAAAAAAAAAAAAAAAAAAAAAAAAAAAAAAAAAAAAAAAAAAAAAAAAAAAAAAAAAAAAAAAAAAAAAAAAAAAAAAAAAAAAAAAAAAAAAAAAAAAAAAAAAAAAAAAAAAAAAAAAAAAAAAAAAAAAAAAAAAAAAAAAAAAAAAAAAAAAAAAAAAAAAAAAAAAAAAAAAAAAAAAAAAAAAAAAAAAAAAAAAAAAAAAAAAAAAAAAAAAAAAAAAAAAAAAAAAAAAAAAAAAAAAAAAAAAAAAAAAAAAAAAAAAAAAAAAAAAAAAAAAAAAAAAAAAAAAAAAAAAAAAAAAAAAAAAAAAAAAAAAAAAAAAAAAAAAAAAAAAAAAAAAAAAAAAAAAAAAAAAAAAAAAAAAAAAAAAAAAAAAAAAAAAAAAAAAAAAAAAAAAAAAAAAAAAAAAAAAAAAAAAAAAAAAAAAAAAAAAAAAAAAAAAAAAAAAAAAAAAAAAAAAAAAAAAAAAAAAAAAAAAAAAAAAAAAAAAAAAAAAAAAAAAAAAAAAAAAAAAAAAAAAAAAAAAAAAAAAAAAAAAAAAAAAAAAAAAAAAAAAAAAAAAAAAAAAAAAAAAAAAAAAAAAAAAAAAAAAAAAAAAAAAAAAAAAAAAAAAAAAAAAAAAAAAAAAAAAAAAAAAAAAAAAAAAAAAAAAAAAAAAAAAAAAAAAAAAAAAAAAAAAAAAAAAAAAAAAAAAAAAAAAAAAAAAAAAAAAAAAAAAAAAAAAAAAAAAAAAAAAAAAAAAAAAAAAAAAAAAAAAAAAAAAAAAAAAAAAAAAAAAAAAAAAAAAAAAAAAAAAAAAAAAAAAAAAAAAAAAAAAAAAAAAAAAAAAAAAAAAAAAAAAAAAAAAAAAAAAAAAAAAAAAAAAAAAAAAAAAAAAAAAAAAAAAAAAAAAAAAAAAAAAAAAAAAAAAAAAAAAAAAAAAAAAAAAAAAAAAAAAAAAAAAAAAAAAAAAAAAAAAAAAAAAAAAAAAAAAAAAAAAAAAAAAAAAAAAAAAAAAAAAAAAAAAAAAAAAAAAAAAAAAAAAAAAAAAAAAAAAAAAAAAAAAAAAAAAAAAAAAAAAAAAAAAAAAAAAAAAAAAAAAAAAAAAAAAAAAAAAAAAAAAAAAAAAAAAAAAAAAAAAAAAAAAAAAAAAAAAAAAAAAAAAAAAAAAAAAAAAAAAAAAAAAAAAAAAAAAAAAAAAAAAAAAAAAAAAAAAAAAAAAAAAAAAAAAAAAAAAAAAAAAAAAAAAAAAAAAAAAAAAAAAAAAAAAAAAAAAAAAAAAAAAAAAAAAAAAAAAAAAAAAAAAAAAAAAAAAAAAAAAAAAAAAAAAAAAAAAAAAAAAAAAAAAAAAAAAAAAAAAAAAAAAAAAAAAAAAAAAAAAAAAAAAAAAAAAAAAAAAAAAAAAAAAAAAAAAAAAAAAAAAAAAAAAAAAAAAAAAAAAAAAAAAAAAAAAAAAAAAAAAAAAAAAAAAAAAAAAAAAAAAAAAAAAAAAAAAAAAAAAAAAAAAAAAAAAAAAAAAAAAAAAAAAAAAAAAAAAAAAAAAAAAAAAAAAAAAAAAAAAAAAAAAAAAAAAAAAAAAAAAAAAA==\",\"dtype\":\"float64\",\"order\":\"little\",\"shape\":[938]}},\"selected\":{\"id\":\"1106\"},\"selection_policy\":{\"id\":\"1119\"}},\"id\":\"1001\",\"type\":\"ColumnDataSource\"},{\"attributes\":{\"overlay\":{\"id\":\"1028\"}},\"id\":\"1027\",\"type\":\"BoxSelectTool\"},{\"attributes\":{\"formatter\":{\"id\":\"1137\"},\"ticker\":{\"id\":\"1093\"}},\"id\":\"1092\",\"type\":\"LinearAxis\"},{\"attributes\":{\"base\":24,\"mantissas\":[1,2,4,6,8,12],\"max_interval\":43200000.0,\"min_interval\":3600000.0,\"num_minor_ticks\":0},\"id\":\"1047\",\"type\":\"AdaptiveTicker\"},{\"attributes\":{},\"id\":\"1097\",\"type\":\"CategoricalTicker\"},{\"attributes\":{},\"id\":\"1006\",\"type\":\"DataRange1d\"},{\"attributes\":{},\"id\":\"1093\",\"type\":\"BasicTicker\"},{\"attributes\":{\"below\":[{\"id\":\"1014\"}],\"center\":[{\"id\":\"1017\"},{\"id\":\"1021\"}],\"left\":[{\"id\":\"1018\"}],\"plot_height\":400,\"plot_width\":1500,\"renderers\":[{\"id\":\"1061\"},{\"id\":\"1066\"}],\"sizing_mode\":\"scale_width\",\"title\":{\"id\":\"1004\"},\"toolbar\":{\"id\":\"1030\"},\"toolbar_location\":\"above\",\"x_range\":{\"id\":\"1006\"},\"x_scale\":{\"id\":\"1010\"},\"y_range\":{\"id\":\"1008\"},\"y_scale\":{\"id\":\"1012\"}},\"id\":\"1003\",\"subtype\":\"Figure\",\"type\":\"Plot\"},{\"attributes\":{\"axis\":{\"id\":\"1092\"},\"ticker\":null},\"id\":\"1095\",\"type\":\"Grid\"},{\"attributes\":{},\"id\":\"1148\",\"type\":\"StringEditor\"},{\"attributes\":{\"axis\":{\"id\":\"1096\"},\"dimension\":1,\"grid_line_color\":null,\"ticker\":null},\"id\":\"1098\",\"type\":\"Grid\"},{\"attributes\":{\"source\":{\"id\":\"1001\"}},\"id\":\"1062\",\"type\":\"CDSView\"},{\"attributes\":{\"formatter\":{\"id\":\"1135\"},\"ticker\":{\"id\":\"1097\"}},\"id\":\"1096\",\"type\":\"CategoricalAxis\"},{\"attributes\":{},\"id\":\"1010\",\"type\":\"LinearScale\"},{\"attributes\":{\"fill_alpha\":{\"value\":0.1},\"fill_color\":{\"value\":\"white\"},\"line_alpha\":{\"value\":0.1},\"line_color\":{\"value\":\"#1f77b4\"},\"size\":{\"units\":\"screen\",\"value\":6},\"x\":{\"field\":\"date\"},\"y\":{\"field\":\"value\"}},\"id\":\"1065\",\"type\":\"Circle\"},{\"attributes\":{},\"id\":\"1149\",\"type\":\"StringFormatter\"},{\"attributes\":{},\"id\":\"1147\",\"type\":\"StringFormatter\"},{\"attributes\":{\"js_property_callbacks\":{\"change:indices\":[{\"id\":\"1107\"}]}},\"id\":\"1106\",\"type\":\"Selection\"},{\"attributes\":{\"line_alpha\":0.1,\"line_color\":\"#1f77b4\",\"line_width\":2,\"x\":{\"field\":\"date\"},\"y\":{\"field\":\"value\"}},\"id\":\"1060\",\"type\":\"Line\"},{\"attributes\":{},\"id\":\"1143\",\"type\":\"StringEditor\"},{\"attributes\":{\"axis_label\":\"Values\",\"formatter\":{\"id\":\"1040\"},\"ticker\":{\"id\":\"1019\"}},\"id\":\"1018\",\"type\":\"LinearAxis\"},{\"attributes\":{},\"id\":\"1146\",\"type\":\"StringEditor\"},{\"attributes\":{\"data_source\":{\"id\":\"1001\"},\"glyph\":{\"id\":\"1059\"},\"hover_glyph\":null,\"muted_glyph\":null,\"nonselection_glyph\":{\"id\":\"1060\"},\"selection_glyph\":null,\"view\":{\"id\":\"1062\"}},\"id\":\"1061\",\"type\":\"GlyphRenderer\"},{\"attributes\":{\"fill_color\":{\"value\":\"white\"},\"line_color\":{\"value\":\"#1f77b4\"},\"size\":{\"units\":\"screen\",\"value\":6},\"x\":{\"field\":\"date\"},\"y\":{\"field\":\"value\"}},\"id\":\"1064\",\"type\":\"Circle\"},{\"attributes\":{},\"id\":\"1144\",\"type\":\"StringEditor\"},{\"attributes\":{\"mantissas\":[1,2,5],\"max_interval\":500.0,\"num_minor_ticks\":0},\"id\":\"1045\",\"type\":\"AdaptiveTicker\"},{\"attributes\":{},\"id\":\"1042\",\"type\":\"DatetimeTickFormatter\"},{\"attributes\":{\"base\":60,\"mantissas\":[1,2,5,10,15,20,30],\"max_interval\":1800000.0,\"min_interval\":1000.0,\"num_minor_ticks\":0},\"id\":\"1046\",\"type\":\"AdaptiveTicker\"},{\"attributes\":{\"days\":[1,2,3,4,5,6,7,8,9,10,11,12,13,14,15,16,17,18,19,20,21,22,23,24,25,26,27,28,29,30,31]},\"id\":\"1048\",\"type\":\"DaysTicker\"},{\"attributes\":{\"days\":[1,4,7,10,13,16,19,22,25,28]},\"id\":\"1049\",\"type\":\"DaysTicker\"},{\"attributes\":{},\"id\":\"1022\",\"type\":\"PanTool\"},{\"attributes\":{},\"id\":\"1142\",\"type\":\"StringEditor\"},{\"attributes\":{},\"id\":\"1040\",\"type\":\"BasicTickFormatter\"},{\"attributes\":{\"days\":[1,8,15,22]},\"id\":\"1050\",\"type\":\"DaysTicker\"},{\"attributes\":{\"active_drag\":\"auto\",\"active_inspect\":\"auto\",\"active_multi\":null,\"active_scroll\":{\"id\":\"1023\"},\"active_tap\":\"auto\",\"tools\":[{\"id\":\"1022\"},{\"id\":\"1023\"},{\"id\":\"1024\"},{\"id\":\"1025\"},{\"id\":\"1026\"},{\"id\":\"1027\"},{\"id\":\"1002\"}]},\"id\":\"1030\",\"type\":\"Toolbar\"},{\"attributes\":{\"bottom_units\":\"screen\",\"fill_alpha\":0.5,\"fill_color\":\"lightgrey\",\"left_units\":\"screen\",\"level\":\"overlay\",\"line_alpha\":1.0,\"line_color\":\"black\",\"line_dash\":[4,4],\"line_width\":2,\"right_units\":\"screen\",\"top_units\":\"screen\"},\"id\":\"1028\",\"type\":\"BoxAnnotation\"},{\"attributes\":{\"days\":[1,15]},\"id\":\"1051\",\"type\":\"DaysTicker\"},{\"attributes\":{\"axis\":{\"id\":\"1018\"},\"dimension\":1,\"ticker\":null},\"id\":\"1021\",\"type\":\"Grid\"},{\"attributes\":{\"months\":[0,1,2,3,4,5,6,7,8,9,10,11]},\"id\":\"1052\",\"type\":\"MonthsTicker\"},{\"attributes\":{\"months\":[0,2,4,6,8,10]},\"id\":\"1053\",\"type\":\"MonthsTicker\"},{\"attributes\":{},\"id\":\"1139\",\"type\":\"UnionRenderers\"},{\"attributes\":{},\"id\":\"1008\",\"type\":\"DataRange1d\"},{\"attributes\":{\"months\":[0,4,8]},\"id\":\"1054\",\"type\":\"MonthsTicker\"},{\"attributes\":{},\"id\":\"1137\",\"type\":\"BasicTickFormatter\"},{\"attributes\":{},\"id\":\"1119\",\"type\":\"UnionRenderers\"},{\"attributes\":{\"months\":[0,6]},\"id\":\"1055\",\"type\":\"MonthsTicker\"},{\"attributes\":{\"data\":{\"name_bar\":[\"Max Value\",\"Avarage Value\",\"Area\"],\"value\":[0,0,0]},\"selected\":{\"id\":\"1138\"},\"selection_policy\":{\"id\":\"1139\"}},\"id\":\"1080\",\"type\":\"ColumnDataSource\"},{\"attributes\":{},\"id\":\"1019\",\"type\":\"BasicTicker\"},{\"attributes\":{},\"id\":\"1141\",\"type\":\"UnionRenderers\"},{\"attributes\":{},\"id\":\"1056\",\"type\":\"YearsTicker\"},{\"attributes\":{\"data_source\":{\"id\":\"1001\"},\"glyph\":{\"id\":\"1064\"},\"hover_glyph\":null,\"muted_glyph\":null,\"nonselection_glyph\":{\"id\":\"1065\"},\"selection_glyph\":null,\"view\":{\"id\":\"1067\"}},\"id\":\"1066\",\"type\":\"GlyphRenderer\"},{\"attributes\":{\"source\":{\"id\":\"1001\"}},\"id\":\"1067\",\"type\":\"CDSView\"},{\"attributes\":{},\"id\":\"1140\",\"type\":\"Selection\"},{\"attributes\":{\"args\":{\"break_lines\":\"\\r\\n\",\"source_table\":{\"id\":\"1068\"}},\"code\":\"\\n        // get the data from the source of the table\\n        var data = source_table.data\\n\\n        // get the length of the list \\n        var number_of_data = data[\\\"Start_date\\\"].length\\n\\n        // order the data\\n        var start_date_list = data[\\\"Start_date\\\"]\\n        var end_date_list = data[\\\"End_date\\\"]\\n        var max_value_list = data[\\\"Max_value\\\"]\\n        var avarage_value_list = data[\\\"Average_value\\\"]\\n        var area_list = data[\\\"Area\\\"]\\n\\n        // fill the string with the data (while also modifying the data of date format of: hour,minute and seconds to 2 digit string)\\n        var out = \\\"\\\";\\n        for (var i = 0; i < number_of_data; i++) {\\n          out += i+ \\\")\\\" +break_lines+ \\n                 \\\"Start Date:    \\\"  +start_date_list[i]+ \\\"\\\" +break_lines+\\n                 \\\"End Date:      \\\"  +end_date_list[i]+ \\\"\\\" +break_lines+\\n                 \\\"Max Value:     \\\"  +max_value_list[i]+ \\\"\\\" +break_lines+\\n                 \\\"Avarage Value: \\\"  +avarage_value_list[i]+ \\\"\\\" +break_lines+\\n                 \\\"Area:          \\\"  +area_list[i]+ \\\"\\\" +break_lines+ \\\"\\\" +break_lines\\n        }\\n\\n\\n        // write the data in the file\\n        var file = new Blob([out], {type: 'text/plain'});\\n        var elem = window.document.createElement('a');\\n        elem.href = window.URL.createObjectURL(file);\\n        elem.download = 'selected_data.txt';\\n        document.body.appendChild(elem);\\n        elem.click();\\n        document.body.removeChild(elem);\\n    \"},\"id\":\"1108\",\"type\":\"CustomJS\"},{\"attributes\":{\"fill_color\":{\"value\":\"#1f77b4\"},\"line_color\":{\"value\":\"#1f77b4\"},\"line_width\":{\"value\":20},\"right\":{\"field\":\"value\"},\"y\":{\"field\":\"name_bar\"}},\"id\":\"1101\",\"type\":\"HBar\"},{\"attributes\":{\"data\":{\"Area\":[],\"Average_value\":[],\"End_date\":[],\"Max_value\":[],\"Start_date\":[]},\"selected\":{\"id\":\"1140\"},\"selection_policy\":{\"id\":\"1141\"}},\"id\":\"1068\",\"type\":\"ColumnDataSource\"},{\"attributes\":{\"format\":\"%m/%d/%Y - %H:%M:%S\"},\"id\":\"1069\",\"type\":\"DateFormatter\"},{\"attributes\":{\"axis_label\":\"Date\",\"formatter\":{\"id\":\"1042\"},\"ticker\":{\"id\":\"1015\"}},\"id\":\"1014\",\"type\":\"DatetimeAxis\"},{\"attributes\":{\"editor\":{\"id\":\"1142\"},\"field\":\"Start_date\",\"formatter\":{\"id\":\"1069\"},\"title\":\"Start_date\"},\"id\":\"1070\",\"type\":\"TableColumn\"},{\"attributes\":{\"columns\":[{\"id\":\"1070\"},{\"id\":\"1073\"},{\"id\":\"1075\"},{\"id\":\"1076\"},{\"id\":\"1077\"}],\"height\":250,\"source\":{\"id\":\"1068\"},\"view\":{\"id\":\"1079\"},\"width\":700},\"id\":\"1078\",\"type\":\"DataTable\"},{\"attributes\":{},\"id\":\"1012\",\"type\":\"LinearScale\"},{\"attributes\":{\"format\":\"%m/%d/%Y - %H:%M:%S\"},\"id\":\"1072\",\"type\":\"DateFormatter\"},{\"attributes\":{\"editor\":{\"id\":\"1143\"},\"field\":\"End_date\",\"formatter\":{\"id\":\"1072\"},\"title\":\"End_date\"},\"id\":\"1073\",\"type\":\"TableColumn\"},{\"attributes\":{\"editor\":{\"id\":\"1144\"},\"field\":\"Max_value\",\"formatter\":{\"id\":\"1145\"},\"title\":\"Max_value\"},\"id\":\"1075\",\"type\":\"TableColumn\"},{\"attributes\":{\"editor\":{\"id\":\"1146\"},\"field\":\"Average_value\",\"formatter\":{\"id\":\"1147\"},\"title\":\"Average_value\"},\"id\":\"1076\",\"type\":\"TableColumn\"},{\"attributes\":{\"fill_alpha\":0.5,\"fill_color\":\"lightgrey\",\"level\":\"overlay\",\"line_alpha\":1.0,\"line_color\":\"black\",\"line_dash\":[4,4],\"line_width\":2,\"xs_units\":\"screen\",\"ys_units\":\"screen\"},\"id\":\"1029\",\"type\":\"PolyAnnotation\"},{\"attributes\":{},\"id\":\"1024\",\"type\":\"ResetTool\"},{\"attributes\":{\"axis\":{\"id\":\"1014\"},\"ticker\":null},\"id\":\"1017\",\"type\":\"Grid\"},{\"attributes\":{\"source\":{\"id\":\"1080\"}},\"id\":\"1104\",\"type\":\"CDSView\"},{\"attributes\":{\"source\":{\"id\":\"1068\"}},\"id\":\"1079\",\"type\":\"CDSView\"},{\"attributes\":{\"fill_alpha\":{\"value\":0.1},\"fill_color\":{\"value\":\"#1f77b4\"},\"line_alpha\":{\"value\":0.1},\"line_color\":{\"value\":\"#1f77b4\"},\"line_width\":{\"value\":20},\"right\":{\"field\":\"value\"},\"y\":{\"field\":\"name_bar\"}},\"id\":\"1102\",\"type\":\"HBar\"},{\"attributes\":{\"editor\":{\"id\":\"1148\"},\"field\":\"Area\",\"formatter\":{\"id\":\"1149\"},\"title\":\"Area\"},\"id\":\"1077\",\"type\":\"TableColumn\"},{\"attributes\":{\"line_color\":\"#1f77b4\",\"line_width\":2,\"x\":{\"field\":\"date\"},\"y\":{\"field\":\"value\"}},\"id\":\"1059\",\"type\":\"Line\"},{\"attributes\":{\"text\":\"Statoporta\\n chart\"},\"id\":\"1004\",\"type\":\"Title\"},{\"attributes\":{\"active_drag\":\"auto\",\"active_inspect\":\"auto\",\"active_multi\":null,\"active_scroll\":\"auto\",\"active_tap\":\"auto\"},\"id\":\"1099\",\"type\":\"Toolbar\"},{\"attributes\":{},\"id\":\"1023\",\"type\":\"WheelZoomTool\"},{\"attributes\":{\"button_type\":\"success\",\"height\":50,\"icon\":null,\"js_event_callbacks\":{\"button_click\":[{\"id\":\"1108\"}]},\"label\":\"Save Data!\"},\"id\":\"1105\",\"type\":\"Button\"},{\"attributes\":{\"callback\":null,\"formatters\":{\"@date\":\"datetime\"},\"mode\":\"vline\",\"tooltips\":[[\"index\",\"$index\"],[\"Value\",\"@value{0.2f}\"],[\"Date\",\"@date{%F}\"]]},\"id\":\"1002\",\"type\":\"HoverTool\"},{\"attributes\":{\"num_minor_ticks\":5,\"tickers\":[{\"id\":\"1045\"},{\"id\":\"1046\"},{\"id\":\"1047\"},{\"id\":\"1048\"},{\"id\":\"1049\"},{\"id\":\"1050\"},{\"id\":\"1051\"},{\"id\":\"1052\"},{\"id\":\"1053\"},{\"id\":\"1054\"},{\"id\":\"1055\"},{\"id\":\"1056\"}]},\"id\":\"1015\",\"type\":\"DatetimeTicker\"},{\"attributes\":{\"children\":[{\"id\":\"1078\"},{\"id\":\"1105\"}]},\"id\":\"1109\",\"type\":\"Column\"},{\"attributes\":{\"children\":[{\"id\":\"1081\"},{\"id\":\"1109\"}]},\"id\":\"1110\",\"type\":\"Row\"},{\"attributes\":{\"callback\":null,\"tooltips\":\"\"},\"id\":\"1025\",\"type\":\"HoverTool\"},{\"attributes\":{},\"id\":\"1138\",\"type\":\"Selection\"},{\"attributes\":{\"below\":[{\"id\":\"1092\"}],\"center\":[{\"id\":\"1095\"},{\"id\":\"1098\"}],\"left\":[{\"id\":\"1096\"}],\"plot_height\":300,\"renderers\":[{\"id\":\"1103\"}],\"title\":{\"id\":\"1082\"},\"toolbar\":{\"id\":\"1099\"},\"toolbar_location\":null,\"x_range\":{\"id\":\"1084\"},\"x_scale\":{\"id\":\"1088\"},\"y_range\":{\"id\":\"1086\"},\"y_scale\":{\"id\":\"1090\"}},\"id\":\"1081\",\"subtype\":\"Figure\",\"type\":\"Plot\"},{\"attributes\":{\"data_source\":{\"id\":\"1080\"},\"glyph\":{\"id\":\"1101\"},\"hover_glyph\":null,\"muted_glyph\":null,\"nonselection_glyph\":{\"id\":\"1102\"},\"selection_glyph\":null,\"view\":{\"id\":\"1104\"}},\"id\":\"1103\",\"type\":\"GlyphRenderer\"}],\"root_ids\":[\"1111\"]},\"title\":\"Bokeh Application\",\"version\":\"2.1.1\"}};\n",
              "  var render_items = [{\"docid\":\"d2933c2b-94c5-44e5-ba69-194c582cc3f9\",\"root_ids\":[\"1111\"],\"roots\":{\"1111\":\"39db2283-6ba7-48c4-8b63-204b2490af6d\"}}];\n",
              "  root.Bokeh.embed.embed_items_notebook(docs_json, render_items);\n",
              "\n",
              "  }\n",
              "  if (root.Bokeh !== undefined) {\n",
              "    embed_document(root);\n",
              "  } else {\n",
              "    var attempts = 0;\n",
              "    var timer = setInterval(function(root) {\n",
              "      if (root.Bokeh !== undefined) {\n",
              "        clearInterval(timer);\n",
              "        embed_document(root);\n",
              "      } else {\n",
              "        attempts++;\n",
              "        if (attempts > 100) {\n",
              "          clearInterval(timer);\n",
              "          console.log(\"Bokeh: ERROR: Unable to run BokehJS code because BokehJS library is missing\");\n",
              "        }\n",
              "      }\n",
              "    }, 10, root)\n",
              "  }\n",
              "})(window);"
            ],
            "application/vnd.bokehjs_exec.v0+json": ""
          },
          "metadata": {
            "tags": [],
            "application/vnd.bokehjs_exec.v0+json": {
              "id": "1111"
            }
          }
        }
      ]
    },
    {
      "cell_type": "markdown",
      "metadata": {
        "id": "LXiGzH3ubsQF"
      },
      "source": [
        "# Other Library used to visualize data\n"
      ]
    },
    {
      "cell_type": "markdown",
      "metadata": {
        "id": "ZzsMtRJibjHH"
      },
      "source": [
        "Test of creating the chart using various libraries...\n"
      ]
    },
    {
      "cell_type": "markdown",
      "metadata": {
        "id": "MZPO-mU3cKR-"
      },
      "source": [
        "Draw everything in a chart using the altair library (i haven't used this library since it doesn't have any support for return the data selected)"
      ]
    },
    {
      "cell_type": "code",
      "metadata": {
        "id": "AIgHNcl2pJOj"
      },
      "source": [
        "import altair as alt\n",
        "\n",
        "brush = alt.selection_interval(encodings=['x'])\n",
        "\n",
        "color = alt.condition(brush, alt.value('blue'), alt.value('lightgray'))\n",
        "\n",
        "chart = alt.Chart(data).mark_line(point={\n",
        "    \"filled\": False,\n",
        "    \"fill\": 'white'\n",
        "    }).encode(\n",
        "        y=alt.Y('value', sort=alt.EncodingSortField('value', order='descending')),\n",
        "        x='date',\n",
        "        color=color\n",
        ").add_selection(\n",
        "    brush\n",
        ")\n",
        "\n",
        "chart "
      ],
      "execution_count": null,
      "outputs": []
    },
    {
      "cell_type": "markdown",
      "metadata": {
        "id": "iV5B9BQacL1b"
      },
      "source": [
        "Draw everything in a chart using the Plotly library (i haven't used this library since it doesn't have any support for return the data selected, an exemption is DASH that is the framework built-on this library, but using this, require a few tweaks)"
      ]
    },
    {
      "cell_type": "code",
      "metadata": {
        "id": "rXneVPkaGCrA"
      },
      "source": [
        "import plotly.graph_objects as go\n",
        "\n",
        "fig = go.Figure(go.Scatter(x=data.date, y=data.value, mode=\"markers+lines\"))\n",
        "\n",
        "scatter = fig.data[0]\n",
        "\n",
        "def update_point(trace, points, selector):\n",
        "  print(\"Sleeping\")\n",
        "scatter.on_click(update_point)\n",
        "\n",
        "fig.show(renderer=\"colab\")"
      ],
      "execution_count": null,
      "outputs": []
    },
    {
      "cell_type": "code",
      "metadata": {
        "id": "Yt1L1XrvSkQs"
      },
      "source": [
        ""
      ],
      "execution_count": null,
      "outputs": []
    }
  ]
}