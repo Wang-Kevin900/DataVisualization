{
  "nbformat": 4,
  "nbformat_minor": 0,
  "metadata": {
    "colab": {
      "name": "DataVisualization.ipynb",
      "provenance": [],
      "collapsed_sections": [
        "LXiGzH3ubsQF"
      ],
      "include_colab_link": true
    },
    "kernelspec": {
      "name": "python3",
      "display_name": "Python 3"
    },
    "accelerator": "GPU"
  },
  "cells": [
    {
      "cell_type": "markdown",
      "metadata": {
        "id": "view-in-github",
        "colab_type": "text"
      },
      "source": [
        "<a href=\"https://colab.research.google.com/github/Wang-Kevin900/DataVisualization/blob/main/DataVisualization.ipynb\" target=\"_parent\"><img src=\"https://colab.research.google.com/assets/colab-badge.svg\" alt=\"Open In Colab\"/></a>"
      ]
    },
    {
      "cell_type": "markdown",
      "metadata": {
        "id": "GUDrvVDi65qA"
      },
      "source": [
        "# Setup libraries"
      ]
    },
    {
      "cell_type": "markdown",
      "metadata": {
        "id": "hI8t0qKzeCcq"
      },
      "source": [
        "Donwloading the various library needed to use the program using the console thanks to the symbol \"!\""
      ]
    },
    {
      "cell_type": "code",
      "metadata": {
        "id": "OY_oA_b-6-z4",
        "colab": {
          "base_uri": "https://localhost:8080/"
        },
        "outputId": "89d50fda-5e8f-472c-c24c-750cf9855e7a"
      },
      "source": [
        "!pip install bokeh\n",
        "!pip install altair\n",
        "!pip install plotly\n",
        "!pip install pandas\n",
        "!pip install datetime"
      ],
      "execution_count": 144,
      "outputs": [
        {
          "output_type": "stream",
          "text": [
            "Requirement already satisfied: bokeh in /usr/local/lib/python3.7/dist-packages (2.1.1)\n",
            "Requirement already satisfied: numpy>=1.11.3 in /usr/local/lib/python3.7/dist-packages (from bokeh) (1.19.5)\n",
            "Requirement already satisfied: pillow>=4.0 in /usr/local/lib/python3.7/dist-packages (from bokeh) (7.0.0)\n",
            "Requirement already satisfied: tornado>=5.1 in /usr/local/lib/python3.7/dist-packages (from bokeh) (5.1.1)\n",
            "Requirement already satisfied: Jinja2>=2.7 in /usr/local/lib/python3.7/dist-packages (from bokeh) (2.11.3)\n",
            "Requirement already satisfied: PyYAML>=3.10 in /usr/local/lib/python3.7/dist-packages (from bokeh) (3.13)\n",
            "Requirement already satisfied: python-dateutil>=2.1 in /usr/local/lib/python3.7/dist-packages (from bokeh) (2.8.1)\n",
            "Requirement already satisfied: typing-extensions>=3.7.4 in /usr/local/lib/python3.7/dist-packages (from bokeh) (3.7.4.3)\n",
            "Requirement already satisfied: packaging>=16.8 in /usr/local/lib/python3.7/dist-packages (from bokeh) (20.9)\n",
            "Requirement already satisfied: MarkupSafe>=0.23 in /usr/local/lib/python3.7/dist-packages (from Jinja2>=2.7->bokeh) (1.1.1)\n",
            "Requirement already satisfied: six>=1.5 in /usr/local/lib/python3.7/dist-packages (from python-dateutil>=2.1->bokeh) (1.15.0)\n",
            "Requirement already satisfied: pyparsing>=2.0.2 in /usr/local/lib/python3.7/dist-packages (from packaging>=16.8->bokeh) (2.4.7)\n",
            "Requirement already satisfied: altair in /usr/local/lib/python3.7/dist-packages (4.1.0)\n",
            "Requirement already satisfied: numpy in /usr/local/lib/python3.7/dist-packages (from altair) (1.19.5)\n",
            "Requirement already satisfied: jsonschema in /usr/local/lib/python3.7/dist-packages (from altair) (2.6.0)\n",
            "Requirement already satisfied: jinja2 in /usr/local/lib/python3.7/dist-packages (from altair) (2.11.3)\n",
            "Requirement already satisfied: pandas>=0.18 in /usr/local/lib/python3.7/dist-packages (from altair) (1.1.5)\n",
            "Requirement already satisfied: entrypoints in /usr/local/lib/python3.7/dist-packages (from altair) (0.3)\n",
            "Requirement already satisfied: toolz in /usr/local/lib/python3.7/dist-packages (from altair) (0.11.1)\n",
            "Requirement already satisfied: MarkupSafe>=0.23 in /usr/local/lib/python3.7/dist-packages (from jinja2->altair) (1.1.1)\n",
            "Requirement already satisfied: pytz>=2017.2 in /usr/local/lib/python3.7/dist-packages (from pandas>=0.18->altair) (2018.9)\n",
            "Requirement already satisfied: python-dateutil>=2.7.3 in /usr/local/lib/python3.7/dist-packages (from pandas>=0.18->altair) (2.8.1)\n",
            "Requirement already satisfied: six>=1.5 in /usr/local/lib/python3.7/dist-packages (from python-dateutil>=2.7.3->pandas>=0.18->altair) (1.15.0)\n",
            "Requirement already satisfied: plotly in /usr/local/lib/python3.7/dist-packages (4.4.1)\n",
            "Requirement already satisfied: retrying>=1.3.3 in /usr/local/lib/python3.7/dist-packages (from plotly) (1.3.3)\n",
            "Requirement already satisfied: six in /usr/local/lib/python3.7/dist-packages (from plotly) (1.15.0)\n",
            "Requirement already satisfied: pandas in /usr/local/lib/python3.7/dist-packages (1.1.5)\n",
            "Requirement already satisfied: python-dateutil>=2.7.3 in /usr/local/lib/python3.7/dist-packages (from pandas) (2.8.1)\n",
            "Requirement already satisfied: pytz>=2017.2 in /usr/local/lib/python3.7/dist-packages (from pandas) (2018.9)\n",
            "Requirement already satisfied: numpy>=1.15.4 in /usr/local/lib/python3.7/dist-packages (from pandas) (1.19.5)\n",
            "Requirement already satisfied: six>=1.5 in /usr/local/lib/python3.7/dist-packages (from python-dateutil>=2.7.3->pandas) (1.15.0)\n",
            "Requirement already satisfied: datetime in /usr/local/lib/python3.7/dist-packages (4.3)\n",
            "Requirement already satisfied: pytz in /usr/local/lib/python3.7/dist-packages (from datetime) (2018.9)\n",
            "Requirement already satisfied: zope.interface in /usr/local/lib/python3.7/dist-packages (from datetime) (5.2.0)\n",
            "Requirement already satisfied: setuptools in /usr/local/lib/python3.7/dist-packages (from zope.interface->datetime) (54.1.2)\n"
          ],
          "name": "stdout"
        }
      ]
    },
    {
      "cell_type": "markdown",
      "metadata": {
        "id": "PMMQ_L7Qb6Vu"
      },
      "source": [
        "# Get data and setup"
      ]
    },
    {
      "cell_type": "markdown",
      "metadata": {
        "id": "ytCkpOk9_thE"
      },
      "source": [
        "Importing the txt sheet where all the data are (format: date - hour - value) (as long there's new line to indicate that a set of value is done, the program will work no matter how the data is placed in the datasheet, it is fault resistant) and lastly creating all the needed variable"
      ]
    },
    {
      "cell_type": "code",
      "metadata": {
        "id": "p97s3MLTysk0",
        "colab": {
          "resources": {
            "http://localhost:8080/nbextensions/google.colab/files.js": {
              "data": "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",
              "ok": true,
              "headers": [
                [
                  "content-type",
                  "application/javascript"
                ]
              ],
              "status": 200,
              "status_text": ""
            }
          },
          "base_uri": "https://localhost:8080/",
          "height": 480
        },
        "outputId": "4363455c-3364-411f-9dc5-d32e0f5f4a9f"
      },
      "source": [
        "from google.colab import files\n",
        "from datetime import datetime\n",
        "\n",
        "# get the data from the text fi le\n",
        "file_data = files.upload()\n",
        "\n",
        "# trasform the data (dictionary) got from the txt file to list, \n",
        "# so that in the next FOR cyclefor trasforming the data is easier to read letter per letter\n",
        "list_of_data_file = list(file_data.values());\n",
        "\n",
        "# get file name (the key) from the dictionary file_data\n",
        "list_file_name = list(file_data.keys())"
      ],
      "execution_count": 145,
      "outputs": [
        {
          "output_type": "display_data",
          "data": {
            "text/html": [
              "\n",
              "     <input type=\"file\" id=\"files-65bc631d-8333-436c-b2e8-2917778a0e98\" name=\"files[]\" multiple disabled\n",
              "        style=\"border:none\" />\n",
              "     <output id=\"result-65bc631d-8333-436c-b2e8-2917778a0e98\">\n",
              "      Upload widget is only available when the cell has been executed in the\n",
              "      current browser session. Please rerun this cell to enable.\n",
              "      </output>\n",
              "      <script src=\"/nbextensions/google.colab/files.js\"></script> "
            ],
            "text/plain": [
              "<IPython.core.display.HTML object>"
            ]
          },
          "metadata": {
            "tags": []
          }
        },
        {
          "output_type": "stream",
          "text": [
            "Saving ABT_002_BS 11 VASCA SURGELATI EsempioUtilePerAndamentoRipetitivoPulitoTESTATA.txt to ABT_002_BS 11 VASCA SURGELATI EsempioUtilePerAndamentoRipetitivoPulitoTESTATA (4).txt\n",
            "Saving ABT_003_AndamentoConProblemiDiGas ma non critico  BF 32H VASCA BT.txt to ABT_003_AndamentoConProblemiDiGas ma non critico  BF 32H VASCA BT (4).txt\n",
            "Saving ABT_004_EsempioDiPeggioramentoUltimogiorno 76 TEST.IRIOS SURGELATI.txt to ABT_004_EsempioDiPeggioramentoUltimogiorno 76 TEST.IRIOS SURGELATI (4).txt\n",
            "Saving ABT_005_SegnaleMoltoCanonico 30S VASCA SURGELATI.txt to ABT_005_SegnaleMoltoCanonico 30S VASCA SURGELATI (4).txt\n",
            "Saving ABT_006_AndamentoCheEvidenziaRipresaInSalitaSuDueSettimane BF 36B VETRINA BT.txt to ABT_006_AndamentoCheEvidenziaRipresaInSalitaSuDueSettimane BF 36B VETRINA BT (4).txt\n",
            "Saving ABT_007_AndamentoRegolareMaConAlcuneVariazioni RS1-030 15M VASCA SURGELATI.txt to ABT_007_AndamentoRegolareMaConAlcuneVariazioni RS1-030 15M VASCA SURGELATI (4).txt\n",
            "Saving ABT_008_AndamentoNonCanonicoMaACSNonCriticoBF 15 SEMIM. PESCE.txt to ABT_008_AndamentoNonCanonicoMaACSNonCriticoBF 15 SEMIM. PESCE (4).txt\n",
            "Saving ABT_009_RipetitivoRegolare71S VETRINA SURGELATI.txt to ABT_009_RipetitivoRegolare71S VETRINA SURGELATI (4).txt\n",
            "Saving ANT_001_MoltoOscilante ma non criticaIperTESTATA MURALE DLS 028.txt to ANT_001_MoltoOscilante ma non criticaIperTESTATA MURALE DLS 028 (4).txt\n",
            "Saving ANT_002_PLUG-IN SA.FO. POS. 01AndamentoRegolareCanonico5.txt to ANT_002_PLUG-IN SA.FO. POS. 01AndamentoRegolareCanonico5 (4).txt\n",
            "Saving ANT_003_NonCanoniciMaRipetitiviGRANAI Murale Dls 024.txt to ANT_003_NonCanoniciMaRipetitiviGRANAI Murale Dls 024 (5).txt\n",
            "Saving ANT_004_PAM_BF08 SEMIVERTICALE NUOVO CARNAndamentoNonCanonicoMaNonCriticoE.txt to ANT_004_PAM_BF08 SEMIVERTICALE NUOVO CARNAndamentoNonCanonicoMaNonCriticoE (7).txt\n",
            "Saving ABT_001_BT_def_estesi 85M-S VASCA SURGELATI.txt to ABT_001_BT_def_estesi 85M-S VASCA SURGELATI (4).txt\n"
          ],
          "name": "stdout"
        }
      ]
    },
    {
      "cell_type": "markdown",
      "metadata": {
        "id": "cOUkzqrgdYH4"
      },
      "source": [
        "Preparing the needed variable to trasform the data read from the datasheet to usable data (in lists)"
      ]
    },
    {
      "cell_type": "code",
      "metadata": {
        "id": "6fQWTMrNdXVg"
      },
      "source": [
        "# variable that indicate the number of symbols that compose a date&time\n",
        "date_format = 10\n",
        "time_format = 8\n",
        "\n",
        "# variable that will store every symbol read from the datasheet\n",
        "buffer_of_data = \"\"\n",
        "\n",
        "# variable that will store the name/title of the various group of data \n",
        "# (it has:\"No Name\" value in case the file is missing a title for the group of data)\n",
        "element_name = \"No Name\"\n",
        "\n",
        "# variable that control if the line that the program is reading, is a data line or group title line\n",
        "control_name_line = False\n",
        "\n",
        "# variable that will store any complete data with any of the following format (date, time, float)\n",
        "single_string_list_of_data = []\n",
        "\n",
        "# once a single line of data (couple of data) is done being stored, \n",
        "# divide them (these 2 list are not really needed in the program, they are here only for code cleaness sake)\n",
        "list_of_datetime = []\n",
        "list_of_float = []\n",
        "\n",
        "# a general list where the complete data (by group) will be stored\n",
        "data_list = []\n",
        "\n",
        "# variable that checks if it's the first cycle inside the for loop since it started reading \n",
        "# (this is useful for avoiding adding data to the data list when it encounters the first title)\n",
        "# (since the program add to the data list before each title read)\n",
        "first_read = True\n",
        "\n",
        "# divide a single line of data of the datasheet in 3 section, where each section has the following meaning,\n",
        "# Date, Time, Float; what this variable do, is basically acting as index \n",
        "# to indicate wich section we are currently reading in the datasheet\n",
        "section_index = 0\n",
        "\n",
        "# variable that keeps track of the file index we are currently reading from the list\n",
        "index_file = 0"
      ],
      "execution_count": 166,
      "outputs": []
    },
    {
      "cell_type": "markdown",
      "metadata": {
        "id": "C490lpURb-UK"
      },
      "source": [
        "# Trasform Data"
      ]
    },
    {
      "cell_type": "markdown",
      "metadata": {
        "id": "Jf69MNz7ASNJ"
      },
      "source": [
        "Divide the string of data of a single file in 3 section (Date, Time, Float) to easily read the data and do the casting of the type of data.\n",
        "\n",
        "Then rearrange all the data so that it returns a general list where all the data are stored with the following format: \n",
        "- Title; \n",
        "-NameOfTheFile; \n",
        "- DateTime;\n",
        "- Value.\n",
        "\n",
        "while also doing the casting from string to the needed type (for example string to datatime format)"
      ]
    },
    {
      "cell_type": "code",
      "metadata": {
        "id": "hpksqVJpLDG2"
      },
      "source": [
        "from datetime import datetime\n",
        "\n",
        "for single_data_file in list_of_data_file:\n",
        "  # go through all the data that were in the datasheet, and return a general list where are stored all the data (sorted by group)\n",
        "  # the that reading actually works is that we divide each line of data in 3 section, and each section has different meaning\n",
        "  # the order of meaning of each section is: data, time, value (this is useful so that we know what we are actually reading)\n",
        "  for i in single_data_file:\n",
        "    # 32 is a value ascii that means \"Space\"\n",
        "    # 9  is a value ascii that means \"Tab\"\n",
        "    # 13 is a value ascii that means \"Carriage Return\"\n",
        "    # 10 is a value ascii that means \"New Line\"\n",
        "    # Ignore all the \"special symbols\" (expect 10 since it is the last symbol before the new line is complete, \n",
        "    # and it is needed to know when the program is done reading a single line of data), and just get all the \"interesting\" data\n",
        "    if i != 32 and i != 9 and i != 13:\n",
        "      # read a single symbol (convert it from ASCII to string) from string of data (taken from the datasheet) and store it\n",
        "      buffer_of_data = buffer_of_data + chr(i);\n",
        "\n",
        "      # if we are currently in the first section (date section)...\n",
        "      if section_index == 0:\n",
        "        # if the lenght of the collected data reached the date format, that means that we are done with the date section,\n",
        "        # also it means that the casting mey be possible (it can fail in case the line read is a \"Title\" line)\n",
        "        if len(buffer_of_data) == date_format or control_name_line == True:\n",
        "          # if the line read is not a \"title\" line...\n",
        "          if control_name_line == False:\n",
        "            # try to do the casting (from string to datetime), and if it fail, it means that we are currently in a \"title\" line \n",
        "            # (since in the first section there could be only a date format or string format (that is the title))\n",
        "            try:\n",
        "              single_string_list_of_data.append(datetime.strptime(buffer_of_data, \"%d-%m-%Y\").date())\n",
        "\n",
        "              # if the read is successful, that means we are done reading the first data\n",
        "              first_read = False\n",
        "\n",
        "              # reset the buffer and pass to the next section\n",
        "              buffer_of_data = \"\"\n",
        "              section_index+=1\n",
        "            except:\n",
        "              # if the casting failed, that means we're in the \"title\" line\n",
        "              control_name_line = True\n",
        "\n",
        "          # if we're in the \"title\" line\n",
        "          elif control_name_line:\n",
        "            # wait to gather all the data of the title (we know it's done reading when we encounter the new line symbol)\n",
        "            if i == 10:\n",
        "              # if we've done the first reading, it means that we can add the data of the previous group \n",
        "              # (this will implicate that outside of the for, we need to add another function to add the data of the last list of data)\n",
        "              # the program add the data by group each time it reads a title \n",
        "              # (the first read variable is useful to ignore the add data during the first reading of the first title)\n",
        "              if first_read == False:\n",
        "\n",
        "                data_list.append([element_name, list_file_name[index_file], list_of_datetime.copy(), list_of_float.copy()])\n",
        "\n",
        "                # clean the 2 lists to prepare them for the upcoming data of other group of data\n",
        "                list_of_datetime.clear()\n",
        "                list_of_float.clear()\n",
        "\n",
        "              # reset all the \"support\" variable\n",
        "              element_name = buffer_of_data\n",
        "              buffer_of_data = \"\"\n",
        "              control_name_line = False\n",
        "\n",
        "        # if the symbol we got from the reading equals 10 (new line), that means that the line we are currently in the file, hasn't any data, so clean the buffer and go on\n",
        "        elif i == 10:\n",
        "          buffer_of_data = \"\"\n",
        "\n",
        "      # if we are currently in the second section (time section)...\n",
        "      elif section_index == 1:\n",
        "        # if the lenght of the collected data reached the time format, that means that we are done with the time section,\n",
        "        # also it means that the casting is possible\n",
        "        if len(buffer_of_data) == time_format:\n",
        "          single_string_list_of_data.append(datetime.strptime(buffer_of_data, \"%H:%M:%S\").time())\n",
        "\n",
        "          # reset the buffer and pass to the next section\n",
        "          buffer_of_data = \"\"\n",
        "          section_index+=1\n",
        "\n",
        "      # if we are currently in the third section (float section)...\n",
        "      elif section_index == 2:\n",
        "        # if we detect a 10 (in ASCII means \"new line\"), that means we're done reading a single line of data\n",
        "        # and that we are done to also reading a single couple of data\n",
        "        if i == 10:\n",
        "          # Add the string to the string of data while also,\n",
        "          # Converting the value from string to float and replacing the \",\" in \".\" so that the casting is possible\n",
        "          single_string_list_of_data.append(float(buffer_of_data.replace(\",\", \".\")))\n",
        "          \n",
        "          # divide the couple of data into 2 different lists to prepare them to be converted into pandas dataframe\n",
        "          list_of_datetime.append(datetime.combine(single_string_list_of_data[0], single_string_list_of_data[1]))\n",
        "          list_of_float.append(single_string_list_of_data[2])\n",
        "\n",
        "          # reset the buffer and the single string of data list and return to the first section to read more data of other lines\n",
        "          buffer_of_data = \"\"\n",
        "          single_string_list_of_data.clear()\n",
        "          section_index = 0\n",
        "\n",
        "  # add 1, to indicate that we're going to read the next file (if it exist)\n",
        "  index_file+=1\n",
        "\n",
        "# add items for the last time in the list if the last element in the txt file doesn't have \\n \n",
        "# (the consequence is that the for loop is unable to store the last couple of data)\n",
        "if single_data_file[-1] != 10 and single_data_file[-1] != 13:\n",
        "  single_string_list_of_data.append(float(buffer_of_data.replace(\",\", \".\")))\n",
        "  list_of_datetime.append(datetime.combine(single_string_list_of_data[0], single_string_list_of_data[1]))\n",
        "  list_of_float.append(single_string_list_of_data[2])\n",
        "\n",
        "# add the last group of data since the for cycle is unable to do it, because it adds to the list only when it encounters a new \"title\" \n",
        "# (and obviously at the end of a datasheet there can't be a title)\n",
        "data_list.append([element_name, list_file_name[-1], list_of_datetime.copy(), list_of_float.copy()])"
      ],
      "execution_count": 167,
      "outputs": []
    },
    {
      "cell_type": "markdown",
      "metadata": {
        "id": "h0vh01Q6cv0s"
      },
      "source": [
        "# Choosing and Organizing the data\n"
      ]
    },
    {
      "cell_type": "markdown",
      "metadata": {
        "id": "3VNAUuow5QoO"
      },
      "source": [
        "Let the user choose which type of data he/she wants to see"
      ]
    },
    {
      "cell_type": "code",
      "metadata": {
        "colab": {
          "base_uri": "https://localhost:8080/",
          "height": 1000
        },
        "id": "5K-HHSVZ6CXY",
        "outputId": "bfb87ba6-9821-481b-8cc9-ac6bf6c999bb"
      },
      "source": [
        "# a variable that keeps track of the cycle number of the for cycle\n",
        "i = 0\n",
        "\n",
        "# Escape Values for highlighting the important data for the user to see\n",
        "OKBLUE = '\\033[34m'\n",
        "NormalColor = '\\033[0m'\n",
        "\n",
        "# display to the user the possible choices\n",
        "print(\"Choose one of the following group of data to visualize (by inserting the number of the group):\")\n",
        "for data in data_list:\n",
        "  print(str(i)+ \") \"+OKBLUE+ data[0] + NormalColor + \"File - \" + data[1])\n",
        "  i+=1\n",
        "\n",
        "# get from the user it's choice, and if it's valid, get the group of data selected\n",
        "while(True):\n",
        "  console_input = input()\n",
        "\n",
        "  if 0 <= int(console_input) and int(console_input) < len(data_list):\n",
        "    data_list = data_list[int(console_input)].copy()\n",
        "    break\n",
        "  else:\n",
        "    print(\"Please Insert a valid choice/number\")"
      ],
      "execution_count": 178,
      "outputs": [
        {
          "output_type": "stream",
          "text": [
            "Choose one of the following group of data to visualize (by inserting the number of the group):\n",
            "0) \u001b[34mTemperaturaripresa(Sr)\n",
            "\u001b[0mFile - ABT_002_BS 11 VASCA SURGELATI EsempioUtilePerAndamentoRipetitivoPulitoTESTATA.txt\n",
            "1) \u001b[34mTemperaturamandata(Sm)\n",
            "\u001b[0mFile - ABT_002_BS 11 VASCA SURGELATI EsempioUtilePerAndamentoRipetitivoPulitoTESTATA.txt\n",
            "2) \u001b[34mTemperaturasbrinamento(Sd)\n",
            "\u001b[0mFile - ABT_002_BS 11 VASCA SURGELATI EsempioUtilePerAndamentoRipetitivoPulitoTESTATA.txt\n",
            "3) \u001b[34mStatodidefrost\n",
            "\u001b[0mFile - ABT_002_BS 11 VASCA SURGELATI EsempioUtilePerAndamentoRipetitivoPulitoTESTATA.txt\n",
            "4) \u001b[34mStatoporta\n",
            "\u001b[0mFile - ABT_003_AndamentoConProblemiDiGas ma non critico  BF 32H VASCA BT.txt\n",
            "5) \u001b[34mTemp.Ripresa\n",
            "\u001b[0mFile - ABT_003_AndamentoConProblemiDiGas ma non critico  BF 32H VASCA BT.txt\n",
            "6) \u001b[34mTemp.Regolazione\n",
            "\u001b[0mFile - ABT_003_AndamentoConProblemiDiGas ma non critico  BF 32H VASCA BT.txt\n",
            "7) \u001b[34mTemp.Sbrinamento\n",
            "\u001b[0mFile - ABT_003_AndamentoConProblemiDiGas ma non critico  BF 32H VASCA BT.txt\n",
            "8) \u001b[34mSbrinamento1\n",
            "\u001b[0mFile - ABT_004_EsempioDiPeggioramentoUltimogiorno 76 TEST.IRIOS SURGELATI.txt\n",
            "9) \u001b[34mTemperaturaripresa(Sr)\n",
            "\u001b[0mFile - ABT_004_EsempioDiPeggioramentoUltimogiorno 76 TEST.IRIOS SURGELATI.txt\n",
            "10) \u001b[34mTemperaturamandata(Sm)\n",
            "\u001b[0mFile - ABT_004_EsempioDiPeggioramentoUltimogiorno 76 TEST.IRIOS SURGELATI.txt\n",
            "11) \u001b[34mTemperaturasbrinamento(Sd)\n",
            "\u001b[0mFile - ABT_004_EsempioDiPeggioramentoUltimogiorno 76 TEST.IRIOS SURGELATI.txt\n",
            "12) \u001b[34mStatodidefrost\n",
            "\u001b[0mFile - ABT_005_SegnaleMoltoCanonico 30S VASCA SURGELATI.txt\n",
            "13) \u001b[34mTemp.Mandata\n",
            "\u001b[0mFile - ABT_005_SegnaleMoltoCanonico 30S VASCA SURGELATI.txt\n",
            "14) \u001b[34mSbrinamento1\n",
            "\u001b[0mFile - ABT_006_AndamentoCheEvidenziaRipresaInSalitaSuDueSettimane BF 36B VETRINA BT.txt\n",
            "15) \u001b[34mTemp.Ripresa\n",
            "\u001b[0mFile - ABT_006_AndamentoCheEvidenziaRipresaInSalitaSuDueSettimane BF 36B VETRINA BT.txt\n",
            "16) \u001b[34mTemp.Regolazione\n",
            "\u001b[0mFile - ABT_006_AndamentoCheEvidenziaRipresaInSalitaSuDueSettimane BF 36B VETRINA BT.txt\n",
            "17) \u001b[34mTemp.Sbrinamento\n",
            "\u001b[0mFile - ABT_006_AndamentoCheEvidenziaRipresaInSalitaSuDueSettimane BF 36B VETRINA BT.txt\n",
            "18) \u001b[34mSbrinamento1\n",
            "\u001b[0mFile - ABT_007_AndamentoRegolareMaConAlcuneVariazioni RS1-030 15M VASCA SURGELATI.txt\n",
            "19) \u001b[34mP3sondaripresa\n",
            "\u001b[0mFile - ABT_007_AndamentoRegolareMaConAlcuneVariazioni RS1-030 15M VASCA SURGELATI.txt\n",
            "20) \u001b[34mP1sondareg_aria\n",
            "\u001b[0mFile - ABT_007_AndamentoRegolareMaConAlcuneVariazioni RS1-030 15M VASCA SURGELATI.txt\n",
            "21) \u001b[34mP2sondaEvaporatore\n",
            "\u001b[0mFile - ABT_007_AndamentoRegolareMaConAlcuneVariazioni RS1-030 15M VASCA SURGELATI.txt\n",
            "22) \u001b[34mSbrinamento\n",
            "\u001b[0mFile - ABT_008_AndamentoNonCanonicoMaACSNonCriticoBF 15 SEMIM. PESCE.txt\n",
            "23) \u001b[34mIngressoanalogico(visualizzazione)1\n",
            "\u001b[0mFile - ABT_008_AndamentoNonCanonicoMaACSNonCriticoBF 15 SEMIM. PESCE.txt\n",
            "24) \u001b[34mSbrinamento1\n",
            "\u001b[0mFile - ABT_009_RipetitivoRegolare71S VETRINA SURGELATI.txt\n",
            "25) \u001b[34mTemperaturaripresa(Sr)\n",
            "\u001b[0mFile - ABT_009_RipetitivoRegolare71S VETRINA SURGELATI.txt\n",
            "26) \u001b[34mTemperaturasbrinamento(Sd)\n",
            "\u001b[0mFile - ABT_009_RipetitivoRegolare71S VETRINA SURGELATI.txt\n",
            "27) \u001b[34mStatodidefrost\n",
            "\u001b[0mFile - ANT_001_MoltoOscilante ma non criticaIperTESTATA MURALE DLS 028.txt\n",
            "28) \u001b[34mDisplay(Pb3)\n",
            "\u001b[0mFile - ANT_001_MoltoOscilante ma non criticaIperTESTATA MURALE DLS 028.txt\n",
            "29) \u001b[34mRoom(Pb1)\n",
            "08-11-202000:12:137,80\n",
            "\u001b[0mFile - ANT_002_PLUG-IN SA.FO. POS. 01AndamentoRegolareCanonico5.txt\n",
            "30) \u001b[34mTemperaturaMandata(S1)\n",
            "\u001b[0mFile - ANT_002_PLUG-IN SA.FO. POS. 01AndamentoRegolareCanonico5.txt\n",
            "31) \u001b[34mTemperaturaEvaporatore(S2)\n",
            "\u001b[0mFile - ANT_003_NonCanoniciMaRipetitiviGRANAI Murale Dls 024.txt\n",
            "32) \u001b[34mEvaporatore\n",
            "\u001b[0mFile - ANT_003_NonCanoniciMaRipetitiviGRANAI Murale Dls 024.txt\n",
            "33) \u001b[34mSbrinamento\n",
            "\u001b[0mFile - ANT_004_PAM_BF08 SEMIVERTICALE NUOVO CARNAndamentoNonCanonicoMaNonCriticoE.txt\n",
            "34) \u001b[34mTemperaturaripresa(Sr)\n",
            "\u001b[0mFile - ANT_004_PAM_BF08 SEMIVERTICALE NUOVO CARNAndamentoNonCanonicoMaNonCriticoE.txt\n",
            "35) \u001b[34mTemperaturamandata(Sm)\n",
            "\u001b[0mFile - ANT_004_PAM_BF08 SEMIVERTICALE NUOVO CARNAndamentoNonCanonicoMaNonCriticoE.txt\n",
            "36) \u001b[34mTemperaturasbrinamento(Sd)\n",
            "\u001b[0mFile - ANT_004_PAM_BF08 SEMIVERTICALE NUOVO CARNAndamentoNonCanonicoMaNonCriticoE.txt\n",
            "37) \u001b[34mStatodidefrost\n",
            "\u001b[0mFile - ANT_004_PAM_BF08 SEMIVERTICALE NUOVO CARNAndamentoNonCanonicoMaNonCriticoE.txt\n",
            "38) \u001b[34mStatoporta\n",
            "\u001b[0mFile - ABT_001_BT_def_estesi 85M-S VASCA SURGELATI.txt\n",
            "39) \u001b[34mSondaripresaMaster\n",
            "\u001b[0mFile - ABT_001_BT_def_estesi 85M-S VASCA SURGELATI.txt\n",
            "40) \u001b[34mSondaripresaSlave\n",
            "\u001b[0mFile - ABT_001_BT_def_estesi 85M-S VASCA SURGELATI.txt\n"
          ],
          "name": "stdout"
        },
        {
          "output_type": "error",
          "ename": "KeyboardInterrupt",
          "evalue": "ignored",
          "traceback": [
            "\u001b[0;31m---------------------------------------------------------------------------\u001b[0m",
            "\u001b[0;31mKeyboardInterrupt\u001b[0m                         Traceback (most recent call last)",
            "\u001b[0;32m/usr/local/lib/python3.7/dist-packages/ipykernel/kernelbase.py\u001b[0m in \u001b[0;36m_input_request\u001b[0;34m(self, prompt, ident, parent, password)\u001b[0m\n\u001b[1;32m    728\u001b[0m             \u001b[0;32mtry\u001b[0m\u001b[0;34m:\u001b[0m\u001b[0;34m\u001b[0m\u001b[0;34m\u001b[0m\u001b[0m\n\u001b[0;32m--> 729\u001b[0;31m                 \u001b[0mident\u001b[0m\u001b[0;34m,\u001b[0m \u001b[0mreply\u001b[0m \u001b[0;34m=\u001b[0m \u001b[0mself\u001b[0m\u001b[0;34m.\u001b[0m\u001b[0msession\u001b[0m\u001b[0;34m.\u001b[0m\u001b[0mrecv\u001b[0m\u001b[0;34m(\u001b[0m\u001b[0mself\u001b[0m\u001b[0;34m.\u001b[0m\u001b[0mstdin_socket\u001b[0m\u001b[0;34m,\u001b[0m \u001b[0;36m0\u001b[0m\u001b[0;34m)\u001b[0m\u001b[0;34m\u001b[0m\u001b[0;34m\u001b[0m\u001b[0m\n\u001b[0m\u001b[1;32m    730\u001b[0m             \u001b[0;32mexcept\u001b[0m \u001b[0mException\u001b[0m\u001b[0;34m:\u001b[0m\u001b[0;34m\u001b[0m\u001b[0;34m\u001b[0m\u001b[0m\n",
            "\u001b[0;32m/usr/local/lib/python3.7/dist-packages/jupyter_client/session.py\u001b[0m in \u001b[0;36mrecv\u001b[0;34m(self, socket, mode, content, copy)\u001b[0m\n\u001b[1;32m    802\u001b[0m         \u001b[0;32mtry\u001b[0m\u001b[0;34m:\u001b[0m\u001b[0;34m\u001b[0m\u001b[0;34m\u001b[0m\u001b[0m\n\u001b[0;32m--> 803\u001b[0;31m             \u001b[0mmsg_list\u001b[0m \u001b[0;34m=\u001b[0m \u001b[0msocket\u001b[0m\u001b[0;34m.\u001b[0m\u001b[0mrecv_multipart\u001b[0m\u001b[0;34m(\u001b[0m\u001b[0mmode\u001b[0m\u001b[0;34m,\u001b[0m \u001b[0mcopy\u001b[0m\u001b[0;34m=\u001b[0m\u001b[0mcopy\u001b[0m\u001b[0;34m)\u001b[0m\u001b[0;34m\u001b[0m\u001b[0;34m\u001b[0m\u001b[0m\n\u001b[0m\u001b[1;32m    804\u001b[0m         \u001b[0;32mexcept\u001b[0m \u001b[0mzmq\u001b[0m\u001b[0;34m.\u001b[0m\u001b[0mZMQError\u001b[0m \u001b[0;32mas\u001b[0m \u001b[0me\u001b[0m\u001b[0;34m:\u001b[0m\u001b[0;34m\u001b[0m\u001b[0;34m\u001b[0m\u001b[0m\n",
            "\u001b[0;32m/usr/local/lib/python3.7/dist-packages/zmq/sugar/socket.py\u001b[0m in \u001b[0;36mrecv_multipart\u001b[0;34m(self, flags, copy, track)\u001b[0m\n\u001b[1;32m    582\u001b[0m         \"\"\"\n\u001b[0;32m--> 583\u001b[0;31m         \u001b[0mparts\u001b[0m \u001b[0;34m=\u001b[0m \u001b[0;34m[\u001b[0m\u001b[0mself\u001b[0m\u001b[0;34m.\u001b[0m\u001b[0mrecv\u001b[0m\u001b[0;34m(\u001b[0m\u001b[0mflags\u001b[0m\u001b[0;34m,\u001b[0m \u001b[0mcopy\u001b[0m\u001b[0;34m=\u001b[0m\u001b[0mcopy\u001b[0m\u001b[0;34m,\u001b[0m \u001b[0mtrack\u001b[0m\u001b[0;34m=\u001b[0m\u001b[0mtrack\u001b[0m\u001b[0;34m)\u001b[0m\u001b[0;34m]\u001b[0m\u001b[0;34m\u001b[0m\u001b[0;34m\u001b[0m\u001b[0m\n\u001b[0m\u001b[1;32m    584\u001b[0m         \u001b[0;31m# have first part already, only loop while more to receive\u001b[0m\u001b[0;34m\u001b[0m\u001b[0;34m\u001b[0m\u001b[0;34m\u001b[0m\u001b[0m\n",
            "\u001b[0;32mzmq/backend/cython/socket.pyx\u001b[0m in \u001b[0;36mzmq.backend.cython.socket.Socket.recv\u001b[0;34m()\u001b[0m\n",
            "\u001b[0;32mzmq/backend/cython/socket.pyx\u001b[0m in \u001b[0;36mzmq.backend.cython.socket.Socket.recv\u001b[0;34m()\u001b[0m\n",
            "\u001b[0;32mzmq/backend/cython/socket.pyx\u001b[0m in \u001b[0;36mzmq.backend.cython.socket._recv_copy\u001b[0;34m()\u001b[0m\n",
            "\u001b[0;32m/usr/local/lib/python3.7/dist-packages/zmq/backend/cython/checkrc.pxd\u001b[0m in \u001b[0;36mzmq.backend.cython.checkrc._check_rc\u001b[0;34m()\u001b[0m\n",
            "\u001b[0;31mKeyboardInterrupt\u001b[0m: ",
            "\nDuring handling of the above exception, another exception occurred:\n",
            "\u001b[0;31mKeyboardInterrupt\u001b[0m                         Traceback (most recent call last)",
            "\u001b[0;32m<ipython-input-178-27cf9fee3260>\u001b[0m in \u001b[0;36m<module>\u001b[0;34m()\u001b[0m\n\u001b[1;32m     14\u001b[0m \u001b[0;31m# get from the user it's choice, and if it's valid, get the group of data selected\u001b[0m\u001b[0;34m\u001b[0m\u001b[0;34m\u001b[0m\u001b[0;34m\u001b[0m\u001b[0m\n\u001b[1;32m     15\u001b[0m \u001b[0;32mwhile\u001b[0m\u001b[0;34m(\u001b[0m\u001b[0;32mTrue\u001b[0m\u001b[0;34m)\u001b[0m\u001b[0;34m:\u001b[0m\u001b[0;34m\u001b[0m\u001b[0;34m\u001b[0m\u001b[0m\n\u001b[0;32m---> 16\u001b[0;31m   \u001b[0mconsole_input\u001b[0m \u001b[0;34m=\u001b[0m \u001b[0minput\u001b[0m\u001b[0;34m(\u001b[0m\u001b[0;34m)\u001b[0m\u001b[0;34m\u001b[0m\u001b[0;34m\u001b[0m\u001b[0m\n\u001b[0m\u001b[1;32m     17\u001b[0m \u001b[0;34m\u001b[0m\u001b[0m\n\u001b[1;32m     18\u001b[0m   \u001b[0;32mif\u001b[0m \u001b[0;36m0\u001b[0m \u001b[0;34m<=\u001b[0m \u001b[0mint\u001b[0m\u001b[0;34m(\u001b[0m\u001b[0mconsole_input\u001b[0m\u001b[0;34m)\u001b[0m \u001b[0;32mand\u001b[0m \u001b[0mint\u001b[0m\u001b[0;34m(\u001b[0m\u001b[0mconsole_input\u001b[0m\u001b[0;34m)\u001b[0m \u001b[0;34m<\u001b[0m \u001b[0mlen\u001b[0m\u001b[0;34m(\u001b[0m\u001b[0mdata_list\u001b[0m\u001b[0;34m)\u001b[0m\u001b[0;34m:\u001b[0m\u001b[0;34m\u001b[0m\u001b[0;34m\u001b[0m\u001b[0m\n",
            "\u001b[0;32m/usr/local/lib/python3.7/dist-packages/ipykernel/kernelbase.py\u001b[0m in \u001b[0;36mraw_input\u001b[0;34m(self, prompt)\u001b[0m\n\u001b[1;32m    702\u001b[0m             \u001b[0mself\u001b[0m\u001b[0;34m.\u001b[0m\u001b[0m_parent_ident\u001b[0m\u001b[0;34m,\u001b[0m\u001b[0;34m\u001b[0m\u001b[0;34m\u001b[0m\u001b[0m\n\u001b[1;32m    703\u001b[0m             \u001b[0mself\u001b[0m\u001b[0;34m.\u001b[0m\u001b[0m_parent_header\u001b[0m\u001b[0;34m,\u001b[0m\u001b[0;34m\u001b[0m\u001b[0;34m\u001b[0m\u001b[0m\n\u001b[0;32m--> 704\u001b[0;31m             \u001b[0mpassword\u001b[0m\u001b[0;34m=\u001b[0m\u001b[0;32mFalse\u001b[0m\u001b[0;34m,\u001b[0m\u001b[0;34m\u001b[0m\u001b[0;34m\u001b[0m\u001b[0m\n\u001b[0m\u001b[1;32m    705\u001b[0m         )\n\u001b[1;32m    706\u001b[0m \u001b[0;34m\u001b[0m\u001b[0m\n",
            "\u001b[0;32m/usr/local/lib/python3.7/dist-packages/ipykernel/kernelbase.py\u001b[0m in \u001b[0;36m_input_request\u001b[0;34m(self, prompt, ident, parent, password)\u001b[0m\n\u001b[1;32m    732\u001b[0m             \u001b[0;32mexcept\u001b[0m \u001b[0mKeyboardInterrupt\u001b[0m\u001b[0;34m:\u001b[0m\u001b[0;34m\u001b[0m\u001b[0;34m\u001b[0m\u001b[0m\n\u001b[1;32m    733\u001b[0m                 \u001b[0;31m# re-raise KeyboardInterrupt, to truncate traceback\u001b[0m\u001b[0;34m\u001b[0m\u001b[0;34m\u001b[0m\u001b[0;34m\u001b[0m\u001b[0m\n\u001b[0;32m--> 734\u001b[0;31m                 \u001b[0;32mraise\u001b[0m \u001b[0mKeyboardInterrupt\u001b[0m\u001b[0;34m\u001b[0m\u001b[0;34m\u001b[0m\u001b[0m\n\u001b[0m\u001b[1;32m    735\u001b[0m             \u001b[0;32melse\u001b[0m\u001b[0;34m:\u001b[0m\u001b[0;34m\u001b[0m\u001b[0;34m\u001b[0m\u001b[0m\n\u001b[1;32m    736\u001b[0m                 \u001b[0;32mbreak\u001b[0m\u001b[0;34m\u001b[0m\u001b[0;34m\u001b[0m\u001b[0m\n",
            "\u001b[0;31mKeyboardInterrupt\u001b[0m: "
          ]
        }
      ]
    },
    {
      "cell_type": "markdown",
      "metadata": {
        "id": "Ul_RHsHNogdw"
      },
      "source": [
        "Convert all the lists (date list and value list) in Pandas DataFrame, then, visualize the list created"
      ]
    },
    {
      "cell_type": "code",
      "metadata": {
        "id": "sJ88MkFqoaz0",
        "colab": {
          "base_uri": "https://localhost:8080/",
          "height": 419
        },
        "outputId": "691996d7-473b-47d6-b197-58726cf8abca"
      },
      "source": [
        "import pandas as pd\n",
        "\n",
        "# convert the 2 lists in a pandas dataframe (order of the list is: Title, Date, Value)\n",
        "data = pd.DataFrame({'date': data_list[2],\n",
        "                     'value': data_list[3]})\n",
        "\n",
        "# print out the datagram\n",
        "data"
      ],
      "execution_count": 150,
      "outputs": [
        {
          "output_type": "execute_result",
          "data": {
            "text/html": [
              "<div>\n",
              "<style scoped>\n",
              "    .dataframe tbody tr th:only-of-type {\n",
              "        vertical-align: middle;\n",
              "    }\n",
              "\n",
              "    .dataframe tbody tr th {\n",
              "        vertical-align: top;\n",
              "    }\n",
              "\n",
              "    .dataframe thead th {\n",
              "        text-align: right;\n",
              "    }\n",
              "</style>\n",
              "<table border=\"1\" class=\"dataframe\">\n",
              "  <thead>\n",
              "    <tr style=\"text-align: right;\">\n",
              "      <th></th>\n",
              "      <th>date</th>\n",
              "      <th>value</th>\n",
              "    </tr>\n",
              "  </thead>\n",
              "  <tbody>\n",
              "    <tr>\n",
              "      <th>0</th>\n",
              "      <td>2020-11-08 00:06:22</td>\n",
              "      <td>-19.6</td>\n",
              "    </tr>\n",
              "    <tr>\n",
              "      <th>1</th>\n",
              "      <td>2020-11-08 00:26:21</td>\n",
              "      <td>-19.9</td>\n",
              "    </tr>\n",
              "    <tr>\n",
              "      <th>2</th>\n",
              "      <td>2020-11-08 00:46:16</td>\n",
              "      <td>-19.6</td>\n",
              "    </tr>\n",
              "    <tr>\n",
              "      <th>3</th>\n",
              "      <td>2020-11-08 01:06:16</td>\n",
              "      <td>-19.7</td>\n",
              "    </tr>\n",
              "    <tr>\n",
              "      <th>4</th>\n",
              "      <td>2020-11-08 01:26:21</td>\n",
              "      <td>-19.9</td>\n",
              "    </tr>\n",
              "    <tr>\n",
              "      <th>...</th>\n",
              "      <td>...</td>\n",
              "      <td>...</td>\n",
              "    </tr>\n",
              "    <tr>\n",
              "      <th>945</th>\n",
              "      <td>2020-11-21 03:06:24</td>\n",
              "      <td>-20.1</td>\n",
              "    </tr>\n",
              "    <tr>\n",
              "      <th>946</th>\n",
              "      <td>2020-11-21 03:26:22</td>\n",
              "      <td>14.7</td>\n",
              "    </tr>\n",
              "    <tr>\n",
              "      <th>947</th>\n",
              "      <td>2020-11-21 03:46:24</td>\n",
              "      <td>6.7</td>\n",
              "    </tr>\n",
              "    <tr>\n",
              "      <th>948</th>\n",
              "      <td>2020-11-21 04:06:23</td>\n",
              "      <td>-11.1</td>\n",
              "    </tr>\n",
              "    <tr>\n",
              "      <th>949</th>\n",
              "      <td>2020-11-21 04:26:22</td>\n",
              "      <td>-16.5</td>\n",
              "    </tr>\n",
              "  </tbody>\n",
              "</table>\n",
              "<p>950 rows × 2 columns</p>\n",
              "</div>"
            ],
            "text/plain": [
              "                   date  value\n",
              "0   2020-11-08 00:06:22  -19.6\n",
              "1   2020-11-08 00:26:21  -19.9\n",
              "2   2020-11-08 00:46:16  -19.6\n",
              "3   2020-11-08 01:06:16  -19.7\n",
              "4   2020-11-08 01:26:21  -19.9\n",
              "..                  ...    ...\n",
              "945 2020-11-21 03:06:24  -20.1\n",
              "946 2020-11-21 03:26:22   14.7\n",
              "947 2020-11-21 03:46:24    6.7\n",
              "948 2020-11-21 04:06:23  -11.1\n",
              "949 2020-11-21 04:26:22  -16.5\n",
              "\n",
              "[950 rows x 2 columns]"
            ]
          },
          "metadata": {
            "tags": []
          },
          "execution_count": 150
        }
      ]
    },
    {
      "cell_type": "markdown",
      "metadata": {
        "id": "QdWeg8krcwVE"
      },
      "source": [
        "# Draw Chart"
      ]
    },
    {
      "cell_type": "markdown",
      "metadata": {
        "id": "ZurDLmLdckQa"
      },
      "source": [
        "Draw the Chart using the Bokeh library (the reason why i used this library is because it is easily customizable and it supports the callback event, in wich though, you have to write the code in JS; there is a method to convert some data from JS data kernel to Python data kernel by using IPython, but because of google colab enviroment (which do not support the Jupyter Notebook enviroment very well), it is not possible.\n",
        "Also note that the Google Colab enviroment restrict a lot of interactivity possibilities (for example we are unable to create a bokeh server with the consequences of inability to use curdoc, that is important to add interactive feature to the program).\n",
        "(a solution is to install and use a local Jupyter Notebook))"
      ]
    },
    {
      "cell_type": "code",
      "metadata": {
        "id": "jByfhOKU01MO"
      },
      "source": [
        "from bokeh.plotting import figure, output_file, show\n",
        "from bokeh.io import output_notebook\n",
        "from bokeh.models import ColumnDataSource, CustomJS, Button\n",
        "from bokeh.models.tools import *\n",
        "from bokeh.models.widgets import DataTable, TableColumn, DateFormatter\n",
        "from bokeh.layouts import row, column\n",
        "\n",
        "\n",
        "# Configure the default output state to generate output in notebook cells when show() is called. \n",
        "output_notebook()"
      ],
      "execution_count": 151,
      "outputs": []
    },
    {
      "cell_type": "markdown",
      "metadata": {
        "id": "bQagyvbgsx-8"
      },
      "source": [
        "Create and setup the Main Plot whereas the various data will be displayed and interacted with"
      ]
    },
    {
      "cell_type": "code",
      "metadata": {
        "id": "F-ngYpkVVSZM"
      },
      "source": [
        "# ColumnDataSource is a special object, wich it is easy to share data between multiple plots and widgets\n",
        "# Also the same ColumnDataSource is used to drive multiple renderers, selections of the data source are also shared.\n",
        "main_source = ColumnDataSource(data)\n",
        "\n",
        "# select the desired tool that can be used with the chart\n",
        "chart_tools=\"pan, wheel_zoom, reset, hover, poly_select, box_select\"\n",
        "tooltip = HoverTool(\n",
        "    # specify wich type of info i want to show\n",
        "    tooltips=[\n",
        "        (\"index\", \"$index\"),\n",
        "        (\"Value\", \"@value{0.2f}\"),\n",
        "        (\"Date\", \"@date{%F}\"),\n",
        "    ],\n",
        "    # format the date in datetime type (the default is numerical format)\n",
        "    formatters={\n",
        "        '@date': 'datetime'\n",
        "    },\n",
        "    # display a tooltip whenever the cursor is vertically in line with a data point\n",
        "    mode='vline'\n",
        ")\n",
        "\n",
        "# add the title to the plot (order of the list: title, date, value) and also\n",
        "# prepare the chart with the selected options, and add the tooltip too while also activating wheel zoom tool by default\n",
        "main_chart = figure(title=data_list[0]+\" chart\", plot_width=1500, plot_height=400, y_axis_label='Values', x_axis_label='Date', x_axis_type='datetime',\n",
        "           tools=chart_tools, toolbar_location='above', tooltips=\"\", sizing_mode=\"scale_width\")\n",
        "main_chart.add_tools(tooltip)\n",
        "main_chart.toolbar.active_scroll = main_chart.select_one(WheelZoomTool)\n",
        "\n",
        "# draw in the chart both line and circle, so that the obtained effect is that of linked points\n",
        "symbol1 = main_chart.line(x='date', y='value', line_width=2, source=main_source)\n",
        "symbol2 = main_chart.circle(x='date', y='value', fill_color=\"white\", size=6, source=main_source)"
      ],
      "execution_count": 152,
      "outputs": []
    },
    {
      "cell_type": "markdown",
      "metadata": {
        "id": "b95J86wqtDZa"
      },
      "source": [
        "Create and setup the Table Plot that will display a log that keeps track of all actions (select) done by the user (while also adding extra info)"
      ]
    },
    {
      "cell_type": "code",
      "metadata": {
        "id": "Zaemh2dwVQnn"
      },
      "source": [
        "# create the source for table obj\n",
        "source_table = ColumnDataSource(data=dict(\n",
        "    Start_date=[],\n",
        "    End_date=[],\n",
        "    Max_value=[],\n",
        "    Average_value=[],\n",
        "    Area=[]\n",
        "))\n",
        "\n",
        "# specify the each column property of the dataTable obj\n",
        "columns = [\n",
        "    TableColumn(field=\"Start_date\", title=\"Start_date\", formatter=DateFormatter(format=\"%m/%d/%Y - %H:%M:%S\")),\n",
        "    TableColumn(field=\"End_date\", title=\"End_date\", formatter=DateFormatter(format=\"%m/%d/%Y - %H:%M:%S\")),\n",
        "    TableColumn(field=\"Max_value\", title=\"Max_value\"),\n",
        "    TableColumn(field=\"Average_value\", title=\"Average_value\"),\n",
        "    TableColumn(field=\"Area\", title=\"Area\")\n",
        "]\n",
        "\n",
        "data_table = DataTable(columns=columns, source=source_table, width=700, height=250)"
      ],
      "execution_count": 153,
      "outputs": []
    },
    {
      "cell_type": "markdown",
      "metadata": {
        "id": "4EWHzZfdtclm"
      },
      "source": [
        "Create and setup the Bar Plot that will display certain info (Max Value, Avarage Value, Area) whenever the user select some data from the main plot"
      ]
    },
    {
      "cell_type": "code",
      "metadata": {
        "id": "cPi1QhfaVOBV"
      },
      "source": [
        "# create the source for bar plot obj\n",
        "source_barplot = ColumnDataSource(data=dict(\n",
        "    name_bar=[\"Max Value\", \"Avarage Value\", \"Area\"],\n",
        "    value=[0, 0, 0]\n",
        "))\n",
        "bar_plot = figure(title=\"General Info\", y_range=source_barplot.data[\"name_bar\"], height=300, toolbar_location=None, tools=\"\")\n",
        "bar_plot.hbar(y=\"name_bar\", right=\"value\", source=source_barplot, width=20)\n",
        "bar_plot.ygrid.grid_line_color = None"
      ],
      "execution_count": 154,
      "outputs": []
    },
    {
      "cell_type": "markdown",
      "metadata": {
        "id": "aZpofamNts4G"
      },
      "source": [
        "Create and setup a button that has the job to save the log of the data table in a txt file"
      ]
    },
    {
      "cell_type": "code",
      "metadata": {
        "id": "e-0-VKo7U_MG"
      },
      "source": [
        "# create a variable that simulate the \\n function, it gets passed as parameter in the save button \n",
        "# because in the customJS enviroment, the kernel can't read corretly \\n because it execute its function diretly in the code\n",
        "# instead of passing it as value, so we just pass its value in a variable so that the kernel doesn't read \\n directly\n",
        "break_lines = \"\\r\\n\"\n",
        "save_button = Button(label=\"Save Data!\", button_type=\"success\", height=50)"
      ],
      "execution_count": 155,
      "outputs": []
    },
    {
      "cell_type": "markdown",
      "metadata": {
        "id": "wFTuAMVNuESJ"
      },
      "source": [
        "Specify how the Main Plot will behave when it gets the event that user has selected some of its data (we have to specify by writing in js code); it has to write down the selected data in the table data & bar plot for display purposes"
      ]
    },
    {
      "cell_type": "code",
      "metadata": {
        "id": "bok6o_sAU9W6"
      },
      "source": [
        "# Execute the JS code when the user select any data in the chart with the box select tool\n",
        "main_source.selected.js_on_change(\"indices\", CustomJS(args=dict(main_source=main_source, source_table=source_table, source_barplot=source_barplot), code=\"\"\"\n",
        "        // get the indices of the selectd data and sort them in ascending order\n",
        "        var inds = cb_obj.indices\n",
        "        inds.sort(function(a, b){return a-b})\n",
        "\n",
        "\n",
        "        // if the array is not empty (if it is empy, it means that no elements has been selected (occurs when the user select no element after having selected some element), \n",
        "        // with the consequence of not adding any element)\n",
        "        if (inds.length != 0){\n",
        "          // create various variable to store the data from the various sources (ColumnDataSource object)\n",
        "          var d1 = main_source.data\n",
        "          var d2 = source_table.data\n",
        "          var d3 = source_barplot.data\n",
        "\n",
        "\n",
        "          // get the first and end date (no need to any particular calculus because each data is already in order and unique)\n",
        "          var start_date = new Date(d1[\"date\"][inds[0]])\n",
        "          var end_date = new Date(d1[\"date\"][inds[inds.length-1]])\n",
        "\n",
        "\n",
        "          // get max value (and set it to max 2 decimals)\n",
        "          var max_value\n",
        "          for(var i = 0; i < inds.length; i++) {\n",
        "              if(i == 0) {\n",
        "                max_value = d1[\"value\"][inds[i]]\n",
        "              } else {\n",
        "                if(max_value < d1[\"value\"][inds[i]]){\n",
        "                  max_value = (d1[\"value\"][inds[i]]).toFixed(2)\n",
        "                }\n",
        "              }\n",
        "          }\n",
        "\n",
        "\n",
        "          // get average value (and set it to max 2 decimals)\n",
        "          var avarage_value = 0.00\n",
        "          for(var i = 0; i < inds.length; i++) {\n",
        "              avarage_value = avarage_value + d1[\"value\"][inds[i]]\n",
        "          }\n",
        "          avarage_value = (avarage_value/inds.length).toFixed(2)\n",
        "\n",
        "\n",
        "          // calculate the area of the trapezoid (the sum of the two bases (we count the value as minutes) * h (difference between the dates in minutess) / 2)\n",
        "          var area = 0.00\n",
        "          for(var i = 0; i < (inds.length-1); i++) {\n",
        "              var sum_bases = Math.abs(d1[\"value\"][inds[i]]) + Math.abs(d1[\"value\"][inds[i+1]])\n",
        "              console.log(Math.abs(d1[\"value\"][inds[i]]))\n",
        "              console.log(Math.abs(d1[\"value\"][inds[i+1]]))\n",
        "              console.log(sum_bases)\n",
        "              var height = ((new Date(d1[\"date\"][inds[i+1]])).getTime() - (new Date(d1[\"date\"][inds[i]])).getTime()) / 60000\n",
        "\n",
        "              area = area + (sum_bases * height) / 2\n",
        "          }\n",
        "          // set the number of decimals to 2 \n",
        "          area = parseFloat(area).toFixed(2);\n",
        "\n",
        "\n",
        "          // push all the data in the source of the data_table\n",
        "          d2[\"Start_date\"].push(start_date)\n",
        "          d2[\"End_date\"].push(end_date)\n",
        "          d2[\"Max_value\"].push(max_value)\n",
        "          d2[\"Average_value\"].push(avarage_value)\n",
        "          d2[\"Area\"].push(area)\n",
        "\n",
        "\n",
        "          // reset the values of the bar plot and update them (order of values is: Max Value, Avarage Value, Area)\n",
        "          d3[\"value\"] = []\n",
        "          d3[\"value\"].push(max_value)\n",
        "          d3[\"value\"].push(avarage_value)\n",
        "          d3[\"value\"].push(area)\n",
        "\n",
        "\n",
        "          // update the Table and Bar plot (this function notify that something has changed, and to immediately update the values and UI)\n",
        "          source_table.change.emit()\n",
        "          source_barplot.change.emit()\n",
        "        }\n",
        "        \"\"\"\n",
        "))"
      ],
      "execution_count": 156,
      "outputs": []
    },
    {
      "cell_type": "markdown",
      "metadata": {
        "id": "f_6QgRKLwRJw"
      },
      "source": [
        "Specify how the Save Button will behave when it gets pressed by the user (we have to specify by writing in js code); it has to get the data from the table data and write it down in a txt file and donwload it"
      ]
    },
    {
      "cell_type": "code",
      "metadata": {
        "id": "WgU3W1SRU7ra"
      },
      "source": [
        "save_button.js_on_click(CustomJS(args=dict(source_table=source_table, break_lines=break_lines), code=\"\"\"\n",
        "        // get the data from the source of the table\n",
        "        var data = source_table.data\n",
        "\n",
        "        // get the length of the list \n",
        "        var number_of_data = data[\"Start_date\"].length\n",
        "\n",
        "        // order the data\n",
        "        var start_date_list = data[\"Start_date\"]\n",
        "        var end_date_list = data[\"End_date\"]\n",
        "        var max_value_list = data[\"Max_value\"]\n",
        "        var avarage_value_list = data[\"Average_value\"]\n",
        "        var area_list = data[\"Area\"]\n",
        "\n",
        "        // fill the string with the data (while also modifying the data of date format of: hour,minute and seconds to 2 digit string)\n",
        "        var out = \"\";\n",
        "        for (var i = 0; i < number_of_data; i++) {\n",
        "          out += i+ \")\" +break_lines+ \n",
        "                 \"Start Date:    \"  +start_date_list[i]+ \"\" +break_lines+\n",
        "                 \"End Date:      \"  +end_date_list[i]+ \"\" +break_lines+\n",
        "                 \"Max Value:     \"  +max_value_list[i]+ \"\" +break_lines+\n",
        "                 \"Avarage Value: \"  +avarage_value_list[i]+ \"\" +break_lines+\n",
        "                 \"Area:          \"  +area_list[i]+ \"\" +break_lines+ \"\" +break_lines\n",
        "        }\n",
        "\n",
        "\n",
        "        // write the data in the file\n",
        "        var file = new Blob([out], {type: 'text/plain'});\n",
        "        var elem = window.document.createElement('a');\n",
        "        elem.href = window.URL.createObjectURL(file);\n",
        "        elem.download = 'selected_data.txt';\n",
        "        document.body.appendChild(elem);\n",
        "        elem.click();\n",
        "        document.body.removeChild(elem);\n",
        "    \"\"\"\n",
        "))"
      ],
      "execution_count": 157,
      "outputs": []
    },
    {
      "cell_type": "markdown",
      "metadata": {
        "id": "SYR1MSIbwyUG"
      },
      "source": [
        "And finally display all the various elements in a certain layout"
      ]
    },
    {
      "cell_type": "code",
      "metadata": {
        "colab": {
          "base_uri": "https://localhost:8080/",
          "height": 737
        },
        "id": "vDKFRKhCU5aT",
        "outputId": "1d320e86-2fa5-49c1-f3c7-9abd4ba3001c"
      },
      "source": [
        "# visualize the chart in the output\n",
        "layout = column(main_chart, row(bar_plot,  column(data_table, save_button)))\n",
        "show(layout)"
      ],
      "execution_count": 158,
      "outputs": [
        {
          "output_type": "display_data",
          "data": {
            "application/javascript": [
              "\n",
              "(function(root) {\n",
              "  function now() {\n",
              "    return new Date();\n",
              "  }\n",
              "\n",
              "  var force = true;\n",
              "\n",
              "  if (typeof root._bokeh_onload_callbacks === \"undefined\" || force === true) {\n",
              "    root._bokeh_onload_callbacks = [];\n",
              "    root._bokeh_is_loading = undefined;\n",
              "  }\n",
              "\n",
              "  var JS_MIME_TYPE = 'application/javascript';\n",
              "  var HTML_MIME_TYPE = 'text/html';\n",
              "  var EXEC_MIME_TYPE = 'application/vnd.bokehjs_exec.v0+json';\n",
              "  var CLASS_NAME = 'output_bokeh rendered_html';\n",
              "\n",
              "  /**\n",
              "   * Render data to the DOM node\n",
              "   */\n",
              "  function render(props, node) {\n",
              "    var script = document.createElement(\"script\");\n",
              "    node.appendChild(script);\n",
              "  }\n",
              "\n",
              "  /**\n",
              "   * Handle when an output is cleared or removed\n",
              "   */\n",
              "  function handleClearOutput(event, handle) {\n",
              "    var cell = handle.cell;\n",
              "\n",
              "    var id = cell.output_area._bokeh_element_id;\n",
              "    var server_id = cell.output_area._bokeh_server_id;\n",
              "    // Clean up Bokeh references\n",
              "    if (id != null && id in Bokeh.index) {\n",
              "      Bokeh.index[id].model.document.clear();\n",
              "      delete Bokeh.index[id];\n",
              "    }\n",
              "\n",
              "    if (server_id !== undefined) {\n",
              "      // Clean up Bokeh references\n",
              "      var cmd = \"from bokeh.io.state import curstate; print(curstate().uuid_to_server['\" + server_id + \"'].get_sessions()[0].document.roots[0]._id)\";\n",
              "      cell.notebook.kernel.execute(cmd, {\n",
              "        iopub: {\n",
              "          output: function(msg) {\n",
              "            var id = msg.content.text.trim();\n",
              "            if (id in Bokeh.index) {\n",
              "              Bokeh.index[id].model.document.clear();\n",
              "              delete Bokeh.index[id];\n",
              "            }\n",
              "          }\n",
              "        }\n",
              "      });\n",
              "      // Destroy server and session\n",
              "      var cmd = \"import bokeh.io.notebook as ion; ion.destroy_server('\" + server_id + \"')\";\n",
              "      cell.notebook.kernel.execute(cmd);\n",
              "    }\n",
              "  }\n",
              "\n",
              "  /**\n",
              "   * Handle when a new output is added\n",
              "   */\n",
              "  function handleAddOutput(event, handle) {\n",
              "    var output_area = handle.output_area;\n",
              "    var output = handle.output;\n",
              "\n",
              "    // limit handleAddOutput to display_data with EXEC_MIME_TYPE content only\n",
              "    if ((output.output_type != \"display_data\") || (!output.data.hasOwnProperty(EXEC_MIME_TYPE))) {\n",
              "      return\n",
              "    }\n",
              "\n",
              "    var toinsert = output_area.element.find(\".\" + CLASS_NAME.split(' ')[0]);\n",
              "\n",
              "    if (output.metadata[EXEC_MIME_TYPE][\"id\"] !== undefined) {\n",
              "      toinsert[toinsert.length - 1].firstChild.textContent = output.data[JS_MIME_TYPE];\n",
              "      // store reference to embed id on output_area\n",
              "      output_area._bokeh_element_id = output.metadata[EXEC_MIME_TYPE][\"id\"];\n",
              "    }\n",
              "    if (output.metadata[EXEC_MIME_TYPE][\"server_id\"] !== undefined) {\n",
              "      var bk_div = document.createElement(\"div\");\n",
              "      bk_div.innerHTML = output.data[HTML_MIME_TYPE];\n",
              "      var script_attrs = bk_div.children[0].attributes;\n",
              "      for (var i = 0; i < script_attrs.length; i++) {\n",
              "        toinsert[toinsert.length - 1].firstChild.setAttribute(script_attrs[i].name, script_attrs[i].value);\n",
              "        toinsert[toinsert.length - 1].firstChild.textContent = bk_div.children[0].textContent\n",
              "      }\n",
              "      // store reference to server id on output_area\n",
              "      output_area._bokeh_server_id = output.metadata[EXEC_MIME_TYPE][\"server_id\"];\n",
              "    }\n",
              "  }\n",
              "\n",
              "  function register_renderer(events, OutputArea) {\n",
              "\n",
              "    function append_mime(data, metadata, element) {\n",
              "      // create a DOM node to render to\n",
              "      var toinsert = this.create_output_subarea(\n",
              "        metadata,\n",
              "        CLASS_NAME,\n",
              "        EXEC_MIME_TYPE\n",
              "      );\n",
              "      this.keyboard_manager.register_events(toinsert);\n",
              "      // Render to node\n",
              "      var props = {data: data, metadata: metadata[EXEC_MIME_TYPE]};\n",
              "      render(props, toinsert[toinsert.length - 1]);\n",
              "      element.append(toinsert);\n",
              "      return toinsert\n",
              "    }\n",
              "\n",
              "    /* Handle when an output is cleared or removed */\n",
              "    events.on('clear_output.CodeCell', handleClearOutput);\n",
              "    events.on('delete.Cell', handleClearOutput);\n",
              "\n",
              "    /* Handle when a new output is added */\n",
              "    events.on('output_added.OutputArea', handleAddOutput);\n",
              "\n",
              "    /**\n",
              "     * Register the mime type and append_mime function with output_area\n",
              "     */\n",
              "    OutputArea.prototype.register_mime_type(EXEC_MIME_TYPE, append_mime, {\n",
              "      /* Is output safe? */\n",
              "      safe: true,\n",
              "      /* Index of renderer in `output_area.display_order` */\n",
              "      index: 0\n",
              "    });\n",
              "  }\n",
              "\n",
              "  // register the mime type if in Jupyter Notebook environment and previously unregistered\n",
              "  if (root.Jupyter !== undefined) {\n",
              "    var events = require('base/js/events');\n",
              "    var OutputArea = require('notebook/js/outputarea').OutputArea;\n",
              "\n",
              "    if (OutputArea.prototype.mime_types().indexOf(EXEC_MIME_TYPE) == -1) {\n",
              "      register_renderer(events, OutputArea);\n",
              "    }\n",
              "  }\n",
              "\n",
              "  \n",
              "  if (typeof (root._bokeh_timeout) === \"undefined\" || force === true) {\n",
              "    root._bokeh_timeout = Date.now() + 5000;\n",
              "    root._bokeh_failed_load = false;\n",
              "  }\n",
              "\n",
              "  var NB_LOAD_WARNING = {'data': {'text/html':\n",
              "     \"<div style='background-color: #fdd'>\\n\"+\n",
              "     \"<p>\\n\"+\n",
              "     \"BokehJS does not appear to have successfully loaded. If loading BokehJS from CDN, this \\n\"+\n",
              "     \"may be due to a slow or bad network connection. Possible fixes:\\n\"+\n",
              "     \"</p>\\n\"+\n",
              "     \"<ul>\\n\"+\n",
              "     \"<li>re-rerun `output_notebook()` to attempt to load from CDN again, or</li>\\n\"+\n",
              "     \"<li>use INLINE resources instead, as so:</li>\\n\"+\n",
              "     \"</ul>\\n\"+\n",
              "     \"<code>\\n\"+\n",
              "     \"from bokeh.resources import INLINE\\n\"+\n",
              "     \"output_notebook(resources=INLINE)\\n\"+\n",
              "     \"</code>\\n\"+\n",
              "     \"</div>\"}};\n",
              "\n",
              "  function display_loaded() {\n",
              "    var el = document.getElementById(null);\n",
              "    if (el != null) {\n",
              "      el.textContent = \"BokehJS is loading...\";\n",
              "    }\n",
              "    if (root.Bokeh !== undefined) {\n",
              "      if (el != null) {\n",
              "        el.textContent = \"BokehJS \" + root.Bokeh.version + \" successfully loaded.\";\n",
              "      }\n",
              "    } else if (Date.now() < root._bokeh_timeout) {\n",
              "      setTimeout(display_loaded, 100)\n",
              "    }\n",
              "  }\n",
              "\n",
              "\n",
              "  function run_callbacks() {\n",
              "    try {\n",
              "      root._bokeh_onload_callbacks.forEach(function(callback) {\n",
              "        if (callback != null)\n",
              "          callback();\n",
              "      });\n",
              "    } finally {\n",
              "      delete root._bokeh_onload_callbacks\n",
              "    }\n",
              "    console.debug(\"Bokeh: all callbacks have finished\");\n",
              "  }\n",
              "\n",
              "  function load_libs(css_urls, js_urls, callback) {\n",
              "    if (css_urls == null) css_urls = [];\n",
              "    if (js_urls == null) js_urls = [];\n",
              "\n",
              "    root._bokeh_onload_callbacks.push(callback);\n",
              "    if (root._bokeh_is_loading > 0) {\n",
              "      console.debug(\"Bokeh: BokehJS is being loaded, scheduling callback at\", now());\n",
              "      return null;\n",
              "    }\n",
              "    if (js_urls == null || js_urls.length === 0) {\n",
              "      run_callbacks();\n",
              "      return null;\n",
              "    }\n",
              "    console.debug(\"Bokeh: BokehJS not loaded, scheduling load and callback at\", now());\n",
              "    root._bokeh_is_loading = css_urls.length + js_urls.length;\n",
              "\n",
              "    function on_load() {\n",
              "      root._bokeh_is_loading--;\n",
              "      if (root._bokeh_is_loading === 0) {\n",
              "        console.debug(\"Bokeh: all BokehJS libraries/stylesheets loaded\");\n",
              "        run_callbacks()\n",
              "      }\n",
              "    }\n",
              "\n",
              "    function on_error() {\n",
              "      console.error(\"failed to load \" + url);\n",
              "    }\n",
              "\n",
              "    for (var i = 0; i < css_urls.length; i++) {\n",
              "      var url = css_urls[i];\n",
              "      const element = document.createElement(\"link\");\n",
              "      element.onload = on_load;\n",
              "      element.onerror = on_error;\n",
              "      element.rel = \"stylesheet\";\n",
              "      element.type = \"text/css\";\n",
              "      element.href = url;\n",
              "      console.debug(\"Bokeh: injecting link tag for BokehJS stylesheet: \", url);\n",
              "      document.body.appendChild(element);\n",
              "    }\n",
              "\n",
              "    const hashes = {\"https://cdn.bokeh.org/bokeh/release/bokeh-2.1.1.min.js\": \"kLr4fYcqcSpbuI95brIH3vnnYCquzzSxHPU6XGQCIkQRGJwhg0StNbj1eegrHs12\", \"https://cdn.bokeh.org/bokeh/release/bokeh-widgets-2.1.1.min.js\": \"xIGPmVtaOm+z0BqfSOMn4lOR6ciex448GIKG4eE61LsAvmGj48XcMQZtKcE/UXZe\", \"https://cdn.bokeh.org/bokeh/release/bokeh-tables-2.1.1.min.js\": \"Dc9u1wF/0zApGIWoBbH77iWEHtdmkuYWG839Uzmv8y8yBLXebjO9ZnERsde5Ln/P\", \"https://cdn.bokeh.org/bokeh/release/bokeh-gl-2.1.1.min.js\": \"cT9JaBz7GiRXdENrJLZNSC6eMNF3nh3fa5fTF51Svp+ukxPdwcU5kGXGPBgDCa2j\"};\n",
              "\n",
              "    for (var i = 0; i < js_urls.length; i++) {\n",
              "      var url = js_urls[i];\n",
              "      var element = document.createElement('script');\n",
              "      element.onload = on_load;\n",
              "      element.onerror = on_error;\n",
              "      element.async = false;\n",
              "      element.src = url;\n",
              "      if (url in hashes) {\n",
              "        element.crossOrigin = \"anonymous\";\n",
              "        element.integrity = \"sha384-\" + hashes[url];\n",
              "      }\n",
              "      console.debug(\"Bokeh: injecting script tag for BokehJS library: \", url);\n",
              "      document.head.appendChild(element);\n",
              "    }\n",
              "  };\n",
              "\n",
              "  function inject_raw_css(css) {\n",
              "    const element = document.createElement(\"style\");\n",
              "    element.appendChild(document.createTextNode(css));\n",
              "    document.body.appendChild(element);\n",
              "  }\n",
              "\n",
              "  \n",
              "  var js_urls = [\"https://cdn.bokeh.org/bokeh/release/bokeh-2.1.1.min.js\", \"https://cdn.bokeh.org/bokeh/release/bokeh-widgets-2.1.1.min.js\", \"https://cdn.bokeh.org/bokeh/release/bokeh-tables-2.1.1.min.js\", \"https://cdn.bokeh.org/bokeh/release/bokeh-gl-2.1.1.min.js\"];\n",
              "  var css_urls = [];\n",
              "  \n",
              "\n",
              "  var inline_js = [\n",
              "    function(Bokeh) {\n",
              "      Bokeh.set_log_level(\"info\");\n",
              "    },\n",
              "    function(Bokeh) {\n",
              "    \n",
              "    \n",
              "    }\n",
              "  ];\n",
              "\n",
              "  function run_inline_js() {\n",
              "    \n",
              "    if (root.Bokeh !== undefined || force === true) {\n",
              "      \n",
              "    for (var i = 0; i < inline_js.length; i++) {\n",
              "      inline_js[i].call(root, root.Bokeh);\n",
              "    }\n",
              "    } else if (Date.now() < root._bokeh_timeout) {\n",
              "      setTimeout(run_inline_js, 100);\n",
              "    } else if (!root._bokeh_failed_load) {\n",
              "      console.log(\"Bokeh: BokehJS failed to load within specified timeout.\");\n",
              "      root._bokeh_failed_load = true;\n",
              "    } else if (force !== true) {\n",
              "      var cell = $(document.getElementById(null)).parents('.cell').data().cell;\n",
              "      cell.output_area.append_execute_result(NB_LOAD_WARNING)\n",
              "    }\n",
              "\n",
              "  }\n",
              "\n",
              "  if (root._bokeh_is_loading === 0) {\n",
              "    console.debug(\"Bokeh: BokehJS loaded, going straight to plotting\");\n",
              "    run_inline_js();\n",
              "  } else {\n",
              "    load_libs(css_urls, js_urls, function() {\n",
              "      console.debug(\"Bokeh: BokehJS plotting callback run at\", now());\n",
              "      run_inline_js();\n",
              "    });\n",
              "  }\n",
              "}(window));"
            ],
            "application/vnd.bokehjs_load.v0+json": "\n(function(root) {\n  function now() {\n    return new Date();\n  }\n\n  var force = true;\n\n  if (typeof root._bokeh_onload_callbacks === \"undefined\" || force === true) {\n    root._bokeh_onload_callbacks = [];\n    root._bokeh_is_loading = undefined;\n  }\n\n  \n\n  \n  if (typeof (root._bokeh_timeout) === \"undefined\" || force === true) {\n    root._bokeh_timeout = Date.now() + 5000;\n    root._bokeh_failed_load = false;\n  }\n\n  var NB_LOAD_WARNING = {'data': {'text/html':\n     \"<div style='background-color: #fdd'>\\n\"+\n     \"<p>\\n\"+\n     \"BokehJS does not appear to have successfully loaded. If loading BokehJS from CDN, this \\n\"+\n     \"may be due to a slow or bad network connection. Possible fixes:\\n\"+\n     \"</p>\\n\"+\n     \"<ul>\\n\"+\n     \"<li>re-rerun `output_notebook()` to attempt to load from CDN again, or</li>\\n\"+\n     \"<li>use INLINE resources instead, as so:</li>\\n\"+\n     \"</ul>\\n\"+\n     \"<code>\\n\"+\n     \"from bokeh.resources import INLINE\\n\"+\n     \"output_notebook(resources=INLINE)\\n\"+\n     \"</code>\\n\"+\n     \"</div>\"}};\n\n  function display_loaded() {\n    var el = document.getElementById(null);\n    if (el != null) {\n      el.textContent = \"BokehJS is loading...\";\n    }\n    if (root.Bokeh !== undefined) {\n      if (el != null) {\n        el.textContent = \"BokehJS \" + root.Bokeh.version + \" successfully loaded.\";\n      }\n    } else if (Date.now() < root._bokeh_timeout) {\n      setTimeout(display_loaded, 100)\n    }\n  }\n\n\n  function run_callbacks() {\n    try {\n      root._bokeh_onload_callbacks.forEach(function(callback) {\n        if (callback != null)\n          callback();\n      });\n    } finally {\n      delete root._bokeh_onload_callbacks\n    }\n    console.debug(\"Bokeh: all callbacks have finished\");\n  }\n\n  function load_libs(css_urls, js_urls, callback) {\n    if (css_urls == null) css_urls = [];\n    if (js_urls == null) js_urls = [];\n\n    root._bokeh_onload_callbacks.push(callback);\n    if (root._bokeh_is_loading > 0) {\n      console.debug(\"Bokeh: BokehJS is being loaded, scheduling callback at\", now());\n      return null;\n    }\n    if (js_urls == null || js_urls.length === 0) {\n      run_callbacks();\n      return null;\n    }\n    console.debug(\"Bokeh: BokehJS not loaded, scheduling load and callback at\", now());\n    root._bokeh_is_loading = css_urls.length + js_urls.length;\n\n    function on_load() {\n      root._bokeh_is_loading--;\n      if (root._bokeh_is_loading === 0) {\n        console.debug(\"Bokeh: all BokehJS libraries/stylesheets loaded\");\n        run_callbacks()\n      }\n    }\n\n    function on_error() {\n      console.error(\"failed to load \" + url);\n    }\n\n    for (var i = 0; i < css_urls.length; i++) {\n      var url = css_urls[i];\n      const element = document.createElement(\"link\");\n      element.onload = on_load;\n      element.onerror = on_error;\n      element.rel = \"stylesheet\";\n      element.type = \"text/css\";\n      element.href = url;\n      console.debug(\"Bokeh: injecting link tag for BokehJS stylesheet: \", url);\n      document.body.appendChild(element);\n    }\n\n    const hashes = {\"https://cdn.bokeh.org/bokeh/release/bokeh-2.1.1.min.js\": \"kLr4fYcqcSpbuI95brIH3vnnYCquzzSxHPU6XGQCIkQRGJwhg0StNbj1eegrHs12\", \"https://cdn.bokeh.org/bokeh/release/bokeh-widgets-2.1.1.min.js\": \"xIGPmVtaOm+z0BqfSOMn4lOR6ciex448GIKG4eE61LsAvmGj48XcMQZtKcE/UXZe\", \"https://cdn.bokeh.org/bokeh/release/bokeh-tables-2.1.1.min.js\": \"Dc9u1wF/0zApGIWoBbH77iWEHtdmkuYWG839Uzmv8y8yBLXebjO9ZnERsde5Ln/P\", \"https://cdn.bokeh.org/bokeh/release/bokeh-gl-2.1.1.min.js\": \"cT9JaBz7GiRXdENrJLZNSC6eMNF3nh3fa5fTF51Svp+ukxPdwcU5kGXGPBgDCa2j\"};\n\n    for (var i = 0; i < js_urls.length; i++) {\n      var url = js_urls[i];\n      var element = document.createElement('script');\n      element.onload = on_load;\n      element.onerror = on_error;\n      element.async = false;\n      element.src = url;\n      if (url in hashes) {\n        element.crossOrigin = \"anonymous\";\n        element.integrity = \"sha384-\" + hashes[url];\n      }\n      console.debug(\"Bokeh: injecting script tag for BokehJS library: \", url);\n      document.head.appendChild(element);\n    }\n  };\n\n  function inject_raw_css(css) {\n    const element = document.createElement(\"style\");\n    element.appendChild(document.createTextNode(css));\n    document.body.appendChild(element);\n  }\n\n  \n  var js_urls = [\"https://cdn.bokeh.org/bokeh/release/bokeh-2.1.1.min.js\", \"https://cdn.bokeh.org/bokeh/release/bokeh-widgets-2.1.1.min.js\", \"https://cdn.bokeh.org/bokeh/release/bokeh-tables-2.1.1.min.js\", \"https://cdn.bokeh.org/bokeh/release/bokeh-gl-2.1.1.min.js\"];\n  var css_urls = [];\n  \n\n  var inline_js = [\n    function(Bokeh) {\n      Bokeh.set_log_level(\"info\");\n    },\n    function(Bokeh) {\n    \n    \n    }\n  ];\n\n  function run_inline_js() {\n    \n    if (root.Bokeh !== undefined || force === true) {\n      \n    for (var i = 0; i < inline_js.length; i++) {\n      inline_js[i].call(root, root.Bokeh);\n    }\n    } else if (Date.now() < root._bokeh_timeout) {\n      setTimeout(run_inline_js, 100);\n    } else if (!root._bokeh_failed_load) {\n      console.log(\"Bokeh: BokehJS failed to load within specified timeout.\");\n      root._bokeh_failed_load = true;\n    } else if (force !== true) {\n      var cell = $(document.getElementById(null)).parents('.cell').data().cell;\n      cell.output_area.append_execute_result(NB_LOAD_WARNING)\n    }\n\n  }\n\n  if (root._bokeh_is_loading === 0) {\n    console.debug(\"Bokeh: BokehJS loaded, going straight to plotting\");\n    run_inline_js();\n  } else {\n    load_libs(css_urls, js_urls, function() {\n      console.debug(\"Bokeh: BokehJS plotting callback run at\", now());\n      run_inline_js();\n    });\n  }\n}(window));"
          },
          "metadata": {
            "tags": []
          }
        },
        {
          "output_type": "display_data",
          "data": {
            "text/html": [
              "\n",
              "\n",
              "\n",
              "\n",
              "\n",
              "\n",
              "  <div class=\"bk-root\" id=\"6a8460e6-0a8f-461f-a177-873fada5961e\" data-root-id=\"2338\"></div>\n"
            ]
          },
          "metadata": {
            "tags": []
          }
        },
        {
          "output_type": "display_data",
          "data": {
            "application/javascript": [
              "(function(root) {\n",
              "  function embed_document(root) {\n",
              "    \n",
              "  var docs_json = {\"172dd640-c961-4a97-bf2e-1b4d2fea92be\":{\"roots\":{\"references\":[{\"attributes\":{\"children\":[{\"id\":\"2230\"},{\"id\":\"2337\"}]},\"id\":\"2338\",\"type\":\"Column\"},{\"attributes\":{\"overlay\":{\"id\":\"2256\"}},\"id\":\"2253\",\"type\":\"PolySelectTool\"},{\"attributes\":{\"button_type\":\"success\",\"height\":50,\"icon\":null,\"js_event_callbacks\":{\"button_click\":[{\"id\":\"2335\"}]},\"label\":\"Save Data!\"},\"id\":\"2332\",\"type\":\"Button\"},{\"attributes\":{\"active_drag\":\"auto\",\"active_inspect\":\"auto\",\"active_multi\":null,\"active_scroll\":\"auto\",\"active_tap\":\"auto\"},\"id\":\"2326\",\"type\":\"Toolbar\"},{\"attributes\":{\"source\":{\"id\":\"2228\"}},\"id\":\"2294\",\"type\":\"CDSView\"},{\"attributes\":{\"fill_alpha\":0.5,\"fill_color\":\"lightgrey\",\"level\":\"overlay\",\"line_alpha\":1.0,\"line_color\":\"black\",\"line_dash\":[4,4],\"line_width\":2,\"xs_units\":\"screen\",\"ys_units\":\"screen\"},\"id\":\"2256\",\"type\":\"PolyAnnotation\"},{\"attributes\":{\"source\":{\"id\":\"2228\"}},\"id\":\"2289\",\"type\":\"CDSView\"},{\"attributes\":{\"line_color\":\"#1f77b4\",\"line_width\":2,\"x\":{\"field\":\"date\"},\"y\":{\"field\":\"value\"}},\"id\":\"2286\",\"type\":\"Line\"},{\"attributes\":{\"months\":[0,2,4,6,8,10]},\"id\":\"2280\",\"type\":\"MonthsTicker\"},{\"attributes\":{\"days\":[1,8,15,22]},\"id\":\"2277\",\"type\":\"DaysTicker\"},{\"attributes\":{\"data_source\":{\"id\":\"2228\"},\"glyph\":{\"id\":\"2286\"},\"hover_glyph\":null,\"muted_glyph\":null,\"nonselection_glyph\":{\"id\":\"2287\"},\"selection_glyph\":null,\"view\":{\"id\":\"2289\"}},\"id\":\"2288\",\"type\":\"GlyphRenderer\"},{\"attributes\":{\"days\":[1,2,3,4,5,6,7,8,9,10,11,12,13,14,15,16,17,18,19,20,21,22,23,24,25,26,27,28,29,30,31]},\"id\":\"2275\",\"type\":\"DaysTicker\"},{\"attributes\":{},\"id\":\"2269\",\"type\":\"DatetimeTickFormatter\"},{\"attributes\":{\"overlay\":{\"id\":\"2255\"}},\"id\":\"2254\",\"type\":\"BoxSelectTool\"},{\"attributes\":{\"base\":24,\"mantissas\":[1,2,4,6,8,12],\"max_interval\":43200000.0,\"min_interval\":3600000.0,\"num_minor_ticks\":0},\"id\":\"2274\",\"type\":\"AdaptiveTicker\"},{\"attributes\":{\"months\":[0,4,8]},\"id\":\"2281\",\"type\":\"MonthsTicker\"},{\"attributes\":{\"data_source\":{\"id\":\"2228\"},\"glyph\":{\"id\":\"2291\"},\"hover_glyph\":null,\"muted_glyph\":null,\"nonselection_glyph\":{\"id\":\"2292\"},\"selection_glyph\":null,\"view\":{\"id\":\"2294\"}},\"id\":\"2293\",\"type\":\"GlyphRenderer\"},{\"attributes\":{\"data\":{\"date\":{\"__ndarray__\":\"AADDzVJad0IAgHzyU1p3QgAAPBZVWndCAAA0O1Zad0IAgGRhV1p3QgCAVodYWndCAIBUq1lad0IAAA7QWlp3QgCAx/RbWndCAAD+GV1ad0IAAHk+Xlp3QgCAJmVfWndCAIAkiWBad0IAAFuuYVp3QgAAWdJiWndCAABL+GNad0IAgAQdZVp3QgCAiz9mWndCAAC2Zmdad0IAgOyLaFp3QgCA3rFpWndCAIBf1Wpad0IAABP7a1p3QgCAxiBtWndCAAAJRG5ad0IAAPtpb1p3QgAAcI9wWndCAICss3Fad0IAgCfYclp3QgAA1f5zWndCAIARI3Vad0IAgIxHdlp3QgCAfm13WndCAID/kHhad0IAgPG2eVp3QgCAZtx6WndCAACjAHxad0IAAJslfVp3QgAAjUt+WndCAIBMb39ad0IAAIOUgFp3QgCAubmBWndCAIA03oJad0IAgKkDhFp3QgCAHimFWndCAABbTYZad0IAgJdxh1p3QgCAiZeIWndCAABDvIlad0IAAL7gilp3QgAAMwaMWndCAIBpK41ad0IAgGFQjlp3QgCA1nWPWndCAAAZmZBad0IAAAu/kVp3QgAAgOSSWndCAAABCJRad0IAgDEulVp3QgAA8VGWWndCAADjd5dad0IAgJycmFp3QgAAzcKZWndCAIAJ55pad0IAAMMLnFp3QgCAdjGdWndCAIB0VZ5ad0IAAKt6n1p3QgAAnaCgWndCAACbxKFad0IAgFTpolp3QgCATA6kWndCAACDM6Vad0IAgLlYplp3QgCAOnynWndCAADuoahad0IAgCTHqVp3QgAAVe2qWndCAABfD6xad0IAgBI1rVp3QgAAQ1uuWndCAAA7gK9ad0IAgHeksFp3QgCA5sqxWndCAIBn7rJad0IAAJ4TtFp3QgAAkDm1WndCAIBJXrZad0IAgEGDt1p3QgCAS6W4WndCAIC0zLlad0IAAOvxulp3QgCAJxa8WndCAICiOr1ad0IAgJRgvlp3QgAAxYa/WndCAICEqsBad0IAgPnPwVp3QgCAbvXCWndCAIBsGcRad0IAAKM+xVp3QgCAXGPGWndCAIDdhsdad0IAAIutyFp3QgCAwdLJWndCAAB798pad0IAgDQczFp3QgAAZULNWndCAADmZc5ad0IAAN6Kz1p3QgAATbHQWndCAICJ1dFad0IAAMb50lp3QgCA9h/UWndCAAAzRNVad0IAACtp1lp3QgCA5I3XWndCAACesthad0IAABPY2Vp3QgAAiP3aWndCAAADItxad0IAgLxG3Vp3QgAA7WzeWndCAADrkN9ad0IAgKS14Fp3QgAA1dvhWndCAABW/+Jad0IAgIwk5Fp3QgCAfkrlWndCAIAFbeZad0IAgHST51p3QgCA6bjoWndCAIBk3elad0IAgNkC61p3QgAAECjsWndCAACLTO1ad0IAAAZx7lp3QgCANpfvWndCAABzu/Bad0IAAO7f8Vp3QgAAXQbzWndCAABhKfRad0IAAFNP9Vp3QgAAznP2WndCAABDmfdad0IAAEG9+Fp3QgCAd+L5WndCAAA3Bvtad0IAAKYs/Fp3QgAAmFL9WndCAIDUdv5ad0IAAAuc/1p3QgAAhsAAW3dCAACE5AFbd0IAAPMKA1t3QgCApjAEW3dCAADjVAVbd0IAgJx5Blt3QgCAjp8HW3dCAICMwwhbd0IAAMPoCVt3QgCACwsLW3dCAACzMgxbd0IAAKtXDVt3QgCAXn0OW3dCAIBcoQ9bd0IAABzFEFt3QgCARuwRW3dCAACDEBNbd0IAAHs1FFt3QgCALlsVW3dCAIAsfxZbd0IAAGOkF1t3QgCAFsoYW3dCAICX7Rlbd0IAgIkTG1t3QgAAPTkcW3dCAIB5XR1bd0IAADOCHlt3QgCAY6gfW3dCAIBhzCBbd0IAgFnxIVt3QgCASxcjW3dCAIBJOyRbd0IAgEFgJVt3QgAA9YUmW3dCAABwqidbd0IAgCnPKFt3QgAA3fQpW3dCAICcGCtbd0IAANM9LFt3QgCAA2QtW3dCAABAiC5bd0IAgPmsL1t3QgCA69IwW3dCAIBs9jFbd0IAgOEbM1t3QgAAlUE0W3dCAACTZTVbd0IAgMmKNlt3QgAAfbA3W3dCAAD41Dhbd0IAAHP5OVt3QgCAJh87W3dCAADgQzxbd0IAgJloPVt3QgCAi44+W3dCAICJsj9bd0IAgIHXQFt3QgAANf1BW3dCAIBxIUNbd0IAgGlGRFt3QgAAHWxFW3dCAACYkEZbd0IAgFG1R1t3QgCAT9lIW3dCAAAD/0lbd0IAgDkkS1t3QgAAfEdMW3dCAADrbU1bd0IAgKSSTlt3QgCAlrhPW3dCAIAX3FBbd0IAAMsBUlt3QgAAySVTW3dCAIB8S1Rbd0IAADZwVVt3QgAApZZWW3dCAIBkuldbd0IAgFzfWFt3QgCATgVaW3dCAIDJKVtbd0IAAINOXFt3QgCAy3BdW3dCAICxmF5bd0IAgCy9X1t3QgAA4OJgW3dCAIAcB2Jbd0IAAFkrY1t3QgAAyFFkW3dCAADGdWVbd0IAADubZlt3QgCA7sBnW3dCAAAr5Whbd0IAgGEKalt3QgCA1i9rW3dCAIDUU2xbd0IAAAt5bVt3QgAAA55uW3dCAIA5w29bd0IAgDHocFt3QgAA5Q1yW3dCAIAhMnNbd0IAANtWdFt3QgAAzXx1W3dCAIAJoXZbd0IAgAHGd1t3QgCA8+t4W3dCAIDxD3pbd0IAgGw0e1t3QgCA21p8W3dCAIDZfn1bd0IAABCkflt3QgAAhcl/W3dCAAAA7oBbd0IAgLkSglt3QgAAbTiDW3dCAICpXIRbd0IAgKGBhVt3QgCAk6eGW3dCAICRy4dbd0IAgInwiFt3QgCAexaKW3dCAIB5Ootbd0IAgPRejFt3QgAAJYWNW3dCAIBhqY5bd0IAAJjOj1t3QgAADfSQW3dCAACIGJJbd0IAgEE9k1t3QgAAeGKUW3dCAABwh5Vbd0IAAGisllt3QgAA3dGXW3dCAIAZ9phbd0IAAFAbmlt3QgCADz+bW3dCAADJY5xbd0IAALuJnVt3QgAAs66eW3dCAIBs059bd0IAAKP4oFt3QgAAGB6iW3dCAACTQqNbd0IAAItnpFt3QgCASoulW3dCAACBsKZbd0IAAHPWp1t3QgAA6PuoW3dCAABjIKpbd0IAAFtFq1t3QgAA0GqsW3dCAABLj61bd0IAAEO0rlt3QgAAytavW3dCAIBx/rBbd0IAgG8islt3QgCA3kizW3dCAIBZbbRbd0IAABOStVt3QgAAjra2W3dCAACG27dbd0IAgLwAuVt3QgCAMSa6W3dCAADrSrtbd0IAAONvvFt3QgCAlpW9W3dCAICUub5bd0IAAMvev1t3QgAAvQTBW3dCAAA+KMJbd0IAgHpMw1t3QgCA43PEW3dCAIDhl8Vbd0IAABi9xlt3QgAAjeLHW3dCAACRBclbd0IAgMErylt3QgAAdVHLW3dCAADwdcxbd0IAAGuazVt3QgCAm8DOW3dCAICZ5M9bd0IAgBQJ0Vt3QgCAgy/SW3dCAICBU9Nbd0IAALh41Ft3QgCAa57VW3dCAAArwtZbd0IAgOTm11t3QgAAFQ3ZW3dCAACQMdpbd0IAgElW21t3QgCAO3zcW3dCAAB4oN1bd0IAgDHF3lt3QgCAI+vfW3dCAIAhD+Fbd0IAAF4z4lt3QgAAzVnjW3dCAIAJfuRbd0IAAECj5Vt3QgAAtcjmW3dCAACz7Odbd0IAgOkR6Vt3QgAAnTfqW3dCAAAYXOtbd0IAgNGA7Ft3QgAADqXtW3dCAACDyu5bd0IAAP7u71t3QgAAeRPxW3dCAABrOfJbd0IAgCRe81t3QgAA2IP0W3dCAADWp/Vbd0IAAEvN9lt3QgCAh/H3W3dCAAC+Fvlbd0IAgPQ7+lt3QgAAqGH7W3dCAAAjhvxbd0IAgFmr/Vt3QgCAUdD+W3dCAIBJ9f9bd0IAAAMaAVx3QgAAijwCXHdCAIAxZANcd0IAAOuIBFx3QgCAnq4FXHdCAICc0gZcd0IAANP3B1x3QgAAxR0JXHdCAADDQQpcd0IAALtmC1x3QgAAMIwMXHdCAAAosQ1cd0IAgOHVDlx3QgCAVvsPXHdCAIDRHxFcd0IAAItEElx3QgAAfWoTXHdCAIC5jhRcd0IAAPayFVx3QgCAqdgWXHdCAABj/Rdcd0IAAFsiGVx3QgAATUgaXHdCAICJbBtcd0IAgIGRHFx3QgCAc7cdXHdCAAAz2x5cd0IAAK7/H1x3QgCA3iUhXHdCAAAbSiJcd0IAABNvI1x3QgCAQ5UkXHdCAIBBuSVcd0IAgDneJlx3QgCAKwQoXHdCAADrJylcd0IAgCFNKlx3QgAA1XIrXHdCAIARlyxcd0IAAEi8LVx3QgAAQOEuXHdCAID5BTBcd0IAALMqMVx3QgAApVAyXHdCAACjdDNcd0IAAJuZNFx3QgAAEL81XHdCAIBM4zZcd0IAgMEIOFx3QgAA+C05XHdCAAB5UTpcd0IAAGt3O1x3QgAA4Jw8XHdCAIAcwT1cd0IAAFPmPlx3QgAAzgpAXHdCAABDMEFcd0IAgHlVQlx3QgAAsHpDXHdCAAArn0Rcd0IAgGHERVx3QgAAFepGXHdCAIDUDUhcd0IAgEkzSVx3QgCAQVhKXHdCAIC8fEtcd0IAgDGiTFx3QgCAKcdNXHdCAICk605cd0IAANsQUFx3QgCAETZRXHdCAICMWlJcd0IAgAGAU1x3QgAASqJUXHdCAACzyVVcd0IAAKvuVlx3QgCAXhRYXHdCAIDfN1lcd0IAAJNdWlx3QgCAyYJbXHdCAACDp1xcd0IAgLnMXVx3QgCALvJeXHdCAICpFmBcd0IAgKE7YVx3QgAAVWFiXHdCAADcg2Ncd0IAgIg8ZVx3QgAAwM9lXHdCAIB59GZcd0IAgHEZaFx3QgAAJT9pXHdCAIDkYmpcd0IAABuIa1x3QgAAkK1sXHdCAAAL0m1cd0IAAID3blx3QgAA9RxwXHdCAIAxQXFcd0IAAOtlclx3QgAA3YtzXHdCAIAZsHRcd0IAgBHVdVx3QgAAxfp2XHdCAIABH3hcd0IAALtDeVx3QgAAs2h6XHdCAACrjXtcd0IAgOGyfFx3QgAAGNh9XHdCAIDd+n5cd0IAgMkhgFx3QgAAAEeBXHdCAACBaoJcd0IAgDSQg1x3QgAAZbaEXHdCAABj2oVcd0IAAFv/hlx3QgCADiWIXHdCAADUR4lcd0IAgIFuilx3QgCA/JKLXHdCAID0t4xcd0IAAK7cjVx3QgAAoAKPXHdCAIDcJpBcd0IAABNMkVx3QgAAjnCSXHdCAIBBlpNcd0IAgLy6lFx3QgAAfN6VXHdCAICsBJdcd0IAgKQpmFx3QgAAWE+ZXHdCAICUc5pcd0IAAMuYm1x3QgCAirycXHdCAAA4451cd0IAALkGn1x3QgCA6SygXHdCAIDhUaFcd0IAAJt2olx3QgCAVJujXHdCAACLwKRcd0IAAIPlpVx3QgAACginXHdCAAD2Lqhcd0IAgKlUqVx3QgAA4HmqXHdCAIAinatcd0IAgBTDrFx3QgAAyOitXHdCAABDDa9cd0IAAMQwsFx3QgAALVixXHdCAIBpfLJcd0IAACOhs1x3QgAAmMa0XHdCAIBX6rVcd0IAAI4Pt1x3QgAA/TW4XHdCAIA5Wrlcd0IAgDF/ulx3QgAA5aS7XHdCAICkyLxcd0IAANvtvVx3QgCAjhO/XHdCAABON8Bcd0IAAMNcwVx3QgAAtYLCXHdCAIB0psNcd0IAgGzLxFx3QgAAnfHFXHdCAIDZFcdcd0IAAJM6yFx3QgCARmDJXHdCAIBEhMpcd0IAgDypy1x3QgCANM7MXHdCAADu8s1cd0IAgKcXz1x3QgAAVT7QXHdCAICRYtFcd0IAAM6G0lx3QgCA/qzTXHdCAABB0NRcd0IAALb11Vx3QgAAKxvXXHdCAIDkP9hcd0IAAJ5k2Vx3QgAAkIraXHdCAACOrttcd0IAgMrS3Fx3QgCAtvndXHdCAIAxHt9cd0IAAOtC4Fx3QgCAnmjhXHdCAADbjOJcd0IAgBGy41x3QgAAy9bkXHdCAIAB/OVcd0IAALsg51x3QgAAuUToXHdCAAAuaulcd0IAAKOP6lx3QgAAGLXrXHdCAIBa2Oxcd0IAAA7+7Vx3QgAAgyPvXHdCAIC5SPBcd0IAgLFt8Vx3QgAAZZPyXHdCAIAkt/Ncd0IAAFvc9Fx3QgAATQL2XHdCAABLJvdcd0IAAMZK+Fx3QgCAi235XHdCAAAzlfpcd0IAgGm6+1x3QgCA3t/8XHdCAIDcA/5cd0IAABMp/1x3QgCAxk4AXXdCAIBHcgFdd0IAAH6XAl13QgAA7b0DXXdCAADr4QRdd0IAAOMGBl13QgCAliwHXXdCAADTUAhdd0IAgIx1CV13QgAAQJsKXXdCAADBvgtdd0IAALPkDF13QgAAKAoOXXdCAIDnLQ9dd0IAgN9SEF13QgAAEHkRXXdCAACLnRJdd0IAAIPCE113QgCAuecUXXdCAIA0DBZdd0IAAGsxF113QgCAHlcYXXdCAADeehldd0IAgJGgGl13QgCABsYbXXdCAABD6hxdd0IAgPwOHl13QgAAsDQfXXdCAAArWSBdd0IAgGd9IV13QgCAWaMiXXdCAIDUxyNdd0IAAI7sJF13QgAAAxImXXdCAAD7Niddd0IAAHZbKF13QgCApoEpXXdCAADjpSpdd0IAANvKK113QgCAEfAsXXdCAICMFC5dd0IAgIQ5L113QgCAdl8wXXdCAIB0gzFdd0IAgOmoMl13QgCAXs4zXXdCAIBc8jRdd0IAABAYNl13QgCAyTw3XXdCAACDYThdd0IAgDyGOV13QgAAeao6XXdCAABr0Dtdd0IAgKH1PF13QgCAFhs+XXdCAABTPz9dd0IAAEtkQF13QgCABIlBXXdCAIB5rkJdd0IAADnSQ113QgAAqPhEXXdCAAAjHUZdd0IAgFlCR113QgAAlmZIXXdCAIDMi0ldd0IAgEGxSl13QgCAS9NLXXdCAAB2+kxdd0IAgKwfTl13QgAAYEVPXXdCAICcaVBdd0IAANOOUV13QgCAhrRSXXdCAADD2FNdd0IAALv9VF13QgCAbiNWXXdCAAAuR1ddd0IAgOFsWF13QgCAVpJZXXdCAIDRtlpdd0IAgEzbW113QgCAPgFdXXdCAIC5JV5dd0IAgLFKX113QgAA6G9gXXdCAABjlGFdd0IAgJm5Yl13QgCADt9jXXdCAADOAmVdd0IAgIEoZl13QgAANU5nXXdCAAAzcmhdd0IAACuXaV13QgCA3rxqXXdCAAAb4Wtdd0IAgFEGbV13QgCAxituXXdCAIBBUG9dd0IAgDl1cF13QgAAcJpxXXdCAIApv3Jdd0IAAOPjc113QgAA1Ql1XXdCAADTLXZdd0IAgIxSd113QgCAfnh4XXdCAID5nHldd0IAgPHBel13QgCAZud7XXdCAACjC31dd0IAgNkwfl13QgAAEFZ/XXdCAIDJeoBdd0IAgMeegV13QgCAucSCXXdCAABz6YNdd0IAAGsOhV13QgCAHjSGXXdCAABbWIddd0IAAFN9iF13QgCAiaKJXXdCAABDx4pdd0IAgHnsi113QgCAdxCNXXdCAIBpNo5dd0IAgGFbj113QgAAG4CQXXdCAACWpJFdd0IAAAvKkl13QgCATe2TXXdCAIC8E5Vdd0IAAP82ll13QgCAI1+XXXdCAADjgphdd0IAANunmV13QgCAjs2aXXdCAIAP8Ztdd0IAgAEXnV13QgAASjmeXXdCAACzYJ9dd0IAAKuFoF13QgAALKmhXXdCAIDZz6Jdd0IAAJP0o113QgCATBmlXXdCAIDBPqZdd0IAAHtjp113QgAAbYmoXXdCAIAsraldd0IAgCTSql13QgCAk/irXXdCAABTHK1dd0IAAEtBrl13QgAAwGavXXdCAAA7i7Bdd0IAgHGwsV13QgCA5tWyXXdCAAAj+rNdd0IAAJ4etV13QgAADUW2XXdCAACIabddd0IAAAOOuF13QgAA9bO5XXdCAIC017pdd0IAgKz8u113QgAA3SK9XXdCAADbRr5dd0IAgBFsv113QgCAhpHAXXdCAIABtsFdd0IAgPnawl13QgAAMADEXXdCAAAuJMVdd0IAAKlIxl13QgCA02/HXXdCAIDRk8hdd0IAgEy4yV13QgCAPt7KXXdCAIDFAMxdd0IAgDomzV13QgAAcUvOXXdCAICncM9dd0IAgJmW0F13QgCADrzRXXdCAABL4NJdd0IAAEMF1F13QgCA9irVXXdCAIBxT9Zdd0IAACt01113QgCAYZnYXXdCAIBZvtldd0IAgFHj2l13QgCAVQbcXXdCAAADLd1dd0IAgDlS3l13QgAA83bfXXdCAADrm+Bdd0IAAGbA4V13QgAA1ebiXXdCAIARC+Rdd0IAAMsv5V13QgCAB1TmXXdCAID5eeddd0IAADCf6F13QgAApcTpXXdCAIBe6epdd0IAABgO7F13QgCATjPtXXdCAACRVu5dd0IAAIN87113QgCAy57wXXdCAICxxvFdd0IAgKnr8l13QgAAXRH0XXdCAICZNfVdd0IAANZZ9l13QgAAyH/3XXdCAICBpPhdd0IAADvJ+V13QgAALe/6XXdCAIBpE/xdd0IAAKY3/V13QgCA1l3+XXdCAACWgf9dd0IAAAunAF53QgAA/cwBXndCAIA58QJed0IAAPMVBF53QgCApjsFXndCAIAhYAZed0IAANuEB153QgCAEaoIXndCAABOzgled0IAgITzCl53QgCA+RgMXndCAACzPQ1ed0IAAKtiDl53QgCAXogPXndCAACbrBBed0IAABbREV53QgCARvcSXndCAIBEGxRed0IAAPhAFV53QgAAbWYWXndCAABrihded0IAAGOvGF53QgCAFtUZXndCAIAa+Bped0IAAEseHF53QgCA/kMdXndCAIB5aB5ed0IAgPSMH153QgCA5rIgXndCAAAj1yFed0IAgNz7Il53QgAADSIkXndCAAALRiVed0IAgEFrJl53QgAA9ZAnXndCAIC0tChed0IAgCnaKV53QgAAYP8qXndCAICcIyxed0IAgBFJLV53QgAATm0uXndCAADDki9ed0IAAMe1MF53QgCA8dwxXndCAACrATNed0IAgOEmNF53QgAAlUw1XndCAACTcDZed0IAgMmVN153QgAABro4XndCAIC53zled0IAAHMEO153QgAAZSo8XndCAIChTj1ed0IAAFtzPl53QgAA0Jg/XndCAABLvUBed0IAgATiQV53QgAAygRDXndCAID0K0Red0IAgOxQRV53QgCA3nZGXndCAIBZm0ded0IAgFHASF53QgAABeZJXndCAIDECUted0IAAPsuTF53QgCArlRNXndCAIApeU5ed0IAgKSdT153QgCAE8RQXndCAABW51Fed0IAAEgNU153QgAAvTJUXndCAID5VlVed0IAgHR7Vl53QgAApaFXXndCAACjxVhed0IAAJvqWV53QgAAjRBbXndCAIDJNFxed0IAAINZXV53QgCANn9eXndCAAD2ol9ed0IAgKnIYF53QgCAHu5hXndCAADeEWNed0IAAFM3ZF53QgAAyFxlXndCAICBgWZed0IAgH+lZ153QgAAM8toXndCAACo8Gled0IAACMVa153QgCAUztsXndCAIBRX21ed0IAAAuEbl53QgAA/alvXndCAAD7zXBed0IAAHDzcV53QgCAphhzXndCAADjPHRed0IAgBlidV53QgAAzYd2XndCAIAJrHded0IAAEbQeF53QgAAOPZ5XndCAACzGnted0IAgO8+fF53QgCA22V9XndCAIDZiX5ed0IAgNGuf153QgAADtOAXndCAIDB+IFed0IAAHsdg153QgAAeUGEXndCAICpZ4Ved0IAAOaLhl53QgAAVbKHXndCAADQ1ohed0IAAEv7iV53QgCABCCLXndCAAC4RYxed0IAADNqjV53QgAAqI+OXndCAIBhtI9ed0IAABvZkF53Qg==\",\"dtype\":\"float64\",\"order\":\"little\",\"shape\":[950]},\"index\":[0,1,2,3,4,5,6,7,8,9,10,11,12,13,14,15,16,17,18,19,20,21,22,23,24,25,26,27,28,29,30,31,32,33,34,35,36,37,38,39,40,41,42,43,44,45,46,47,48,49,50,51,52,53,54,55,56,57,58,59,60,61,62,63,64,65,66,67,68,69,70,71,72,73,74,75,76,77,78,79,80,81,82,83,84,85,86,87,88,89,90,91,92,93,94,95,96,97,98,99,100,101,102,103,104,105,106,107,108,109,110,111,112,113,114,115,116,117,118,119,120,121,122,123,124,125,126,127,128,129,130,131,132,133,134,135,136,137,138,139,140,141,142,143,144,145,146,147,148,149,150,151,152,153,154,155,156,157,158,159,160,161,162,163,164,165,166,167,168,169,170,171,172,173,174,175,176,177,178,179,180,181,182,183,184,185,186,187,188,189,190,191,192,193,194,195,196,197,198,199,200,201,202,203,204,205,206,207,208,209,210,211,212,213,214,215,216,217,218,219,220,221,222,223,224,225,226,227,228,229,230,231,232,233,234,235,236,237,238,239,240,241,242,243,244,245,246,247,248,249,250,251,252,253,254,255,256,257,258,259,260,261,262,263,264,265,266,267,268,269,270,271,272,273,274,275,276,277,278,279,280,281,282,283,284,285,286,287,288,289,290,291,292,293,294,295,296,297,298,299,300,301,302,303,304,305,306,307,308,309,310,311,312,313,314,315,316,317,318,319,320,321,322,323,324,325,326,327,328,329,330,331,332,333,334,335,336,337,338,339,340,341,342,343,344,345,346,347,348,349,350,351,352,353,354,355,356,357,358,359,360,361,362,363,364,365,366,367,368,369,370,371,372,373,374,375,376,377,378,379,380,381,382,383,384,385,386,387,388,389,390,391,392,393,394,395,396,397,398,399,400,401,402,403,404,405,406,407,408,409,410,411,412,413,414,415,416,417,418,419,420,421,422,423,424,425,426,427,428,429,430,431,432,433,434,435,436,437,438,439,440,441,442,443,444,445,446,447,448,449,450,451,452,453,454,455,456,457,458,459,460,461,462,463,464,465,466,467,468,469,470,471,472,473,474,475,476,477,478,479,480,481,482,483,484,485,486,487,488,489,490,491,492,493,494,495,496,497,498,499,500,501,502,503,504,505,506,507,508,509,510,511,512,513,514,515,516,517,518,519,520,521,522,523,524,525,526,527,528,529,530,531,532,533,534,535,536,537,538,539,540,541,542,543,544,545,546,547,548,549,550,551,552,553,554,555,556,557,558,559,560,561,562,563,564,565,566,567,568,569,570,571,572,573,574,575,576,577,578,579,580,581,582,583,584,585,586,587,588,589,590,591,592,593,594,595,596,597,598,599,600,601,602,603,604,605,606,607,608,609,610,611,612,613,614,615,616,617,618,619,620,621,622,623,624,625,626,627,628,629,630,631,632,633,634,635,636,637,638,639,640,641,642,643,644,645,646,647,648,649,650,651,652,653,654,655,656,657,658,659,660,661,662,663,664,665,666,667,668,669,670,671,672,673,674,675,676,677,678,679,680,681,682,683,684,685,686,687,688,689,690,691,692,693,694,695,696,697,698,699,700,701,702,703,704,705,706,707,708,709,710,711,712,713,714,715,716,717,718,719,720,721,722,723,724,725,726,727,728,729,730,731,732,733,734,735,736,737,738,739,740,741,742,743,744,745,746,747,748,749,750,751,752,753,754,755,756,757,758,759,760,761,762,763,764,765,766,767,768,769,770,771,772,773,774,775,776,777,778,779,780,781,782,783,784,785,786,787,788,789,790,791,792,793,794,795,796,797,798,799,800,801,802,803,804,805,806,807,808,809,810,811,812,813,814,815,816,817,818,819,820,821,822,823,824,825,826,827,828,829,830,831,832,833,834,835,836,837,838,839,840,841,842,843,844,845,846,847,848,849,850,851,852,853,854,855,856,857,858,859,860,861,862,863,864,865,866,867,868,869,870,871,872,873,874,875,876,877,878,879,880,881,882,883,884,885,886,887,888,889,890,891,892,893,894,895,896,897,898,899,900,901,902,903,904,905,906,907,908,909,910,911,912,913,914,915,916,917,918,919,920,921,922,923,924,925,926,927,928,929,930,931,932,933,934,935,936,937,938,939,940,941,942,943,944,945,946,947,948,949],\"value\":{\"__ndarray__\":\"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\",\"dtype\":\"float64\",\"order\":\"little\",\"shape\":[950]}},\"selected\":{\"id\":\"2333\"},\"selection_policy\":{\"id\":\"2460\"}},\"id\":\"2228\",\"type\":\"ColumnDataSource\"},{\"attributes\":{\"mantissas\":[1,2,5],\"max_interval\":500.0,\"num_minor_ticks\":0},\"id\":\"2272\",\"type\":\"AdaptiveTicker\"},{\"attributes\":{\"days\":[1,4,7,10,13,16,19,22,25,28]},\"id\":\"2276\",\"type\":\"DaysTicker\"},{\"attributes\":{\"below\":[{\"id\":\"2241\"}],\"center\":[{\"id\":\"2244\"},{\"id\":\"2248\"}],\"left\":[{\"id\":\"2245\"}],\"plot_height\":400,\"plot_width\":1500,\"renderers\":[{\"id\":\"2288\"},{\"id\":\"2293\"}],\"sizing_mode\":\"scale_width\",\"title\":{\"id\":\"2231\"},\"toolbar\":{\"id\":\"2257\"},\"toolbar_location\":\"above\",\"x_range\":{\"id\":\"2233\"},\"x_scale\":{\"id\":\"2237\"},\"y_range\":{\"id\":\"2235\"},\"y_scale\":{\"id\":\"2239\"}},\"id\":\"2230\",\"subtype\":\"Figure\",\"type\":\"Plot\"},{\"attributes\":{\"bottom_units\":\"screen\",\"fill_alpha\":0.5,\"fill_color\":\"lightgrey\",\"left_units\":\"screen\",\"level\":\"overlay\",\"line_alpha\":1.0,\"line_color\":\"black\",\"line_dash\":[4,4],\"line_width\":2,\"right_units\":\"screen\",\"top_units\":\"screen\"},\"id\":\"2255\",\"type\":\"BoxAnnotation\"},{\"attributes\":{\"months\":[0,6]},\"id\":\"2282\",\"type\":\"MonthsTicker\"},{\"attributes\":{\"active_drag\":\"auto\",\"active_inspect\":\"auto\",\"active_multi\":null,\"active_scroll\":{\"id\":\"2250\"},\"active_tap\":\"auto\",\"tools\":[{\"id\":\"2249\"},{\"id\":\"2250\"},{\"id\":\"2251\"},{\"id\":\"2252\"},{\"id\":\"2253\"},{\"id\":\"2254\"},{\"id\":\"2229\"}]},\"id\":\"2257\",\"type\":\"Toolbar\"},{\"attributes\":{},\"id\":\"2233\",\"type\":\"DataRange1d\"},{\"attributes\":{\"text\":\"Temp.Mandata\\n chart\"},\"id\":\"2231\",\"type\":\"Title\"},{\"attributes\":{},\"id\":\"2237\",\"type\":\"LinearScale\"},{\"attributes\":{},\"id\":\"2283\",\"type\":\"YearsTicker\"},{\"attributes\":{},\"id\":\"2235\",\"type\":\"DataRange1d\"},{\"attributes\":{\"callback\":null,\"tooltips\":\"\"},\"id\":\"2252\",\"type\":\"HoverTool\"},{\"attributes\":{\"months\":[0,1,2,3,4,5,6,7,8,9,10,11]},\"id\":\"2279\",\"type\":\"MonthsTicker\"},{\"attributes\":{},\"id\":\"2239\",\"type\":\"LinearScale\"},{\"attributes\":{\"line_alpha\":0.1,\"line_color\":\"#1f77b4\",\"line_width\":2,\"x\":{\"field\":\"date\"},\"y\":{\"field\":\"value\"}},\"id\":\"2287\",\"type\":\"Line\"},{\"attributes\":{\"axis_label\":\"Date\",\"formatter\":{\"id\":\"2269\"},\"ticker\":{\"id\":\"2242\"}},\"id\":\"2241\",\"type\":\"DatetimeAxis\"},{\"attributes\":{},\"id\":\"2246\",\"type\":\"BasicTicker\"},{\"attributes\":{\"num_minor_ticks\":5,\"tickers\":[{\"id\":\"2272\"},{\"id\":\"2273\"},{\"id\":\"2274\"},{\"id\":\"2275\"},{\"id\":\"2276\"},{\"id\":\"2277\"},{\"id\":\"2278\"},{\"id\":\"2279\"},{\"id\":\"2280\"},{\"id\":\"2281\"},{\"id\":\"2282\"},{\"id\":\"2283\"}]},\"id\":\"2242\",\"type\":\"DatetimeTicker\"},{\"attributes\":{\"axis\":{\"id\":\"2241\"},\"ticker\":null},\"id\":\"2244\",\"type\":\"Grid\"},{\"attributes\":{\"axis\":{\"id\":\"2245\"},\"dimension\":1,\"ticker\":null},\"id\":\"2248\",\"type\":\"Grid\"},{\"attributes\":{\"base\":60,\"mantissas\":[1,2,5,10,15,20,30],\"max_interval\":1800000.0,\"min_interval\":1000.0,\"num_minor_ticks\":0},\"id\":\"2273\",\"type\":\"AdaptiveTicker\"},{\"attributes\":{\"axis_label\":\"Values\",\"formatter\":{\"id\":\"2267\"},\"ticker\":{\"id\":\"2246\"}},\"id\":\"2245\",\"type\":\"LinearAxis\"},{\"attributes\":{\"days\":[1,15]},\"id\":\"2278\",\"type\":\"DaysTicker\"},{\"attributes\":{\"fill_color\":{\"value\":\"white\"},\"line_color\":{\"value\":\"#1f77b4\"},\"size\":{\"units\":\"screen\",\"value\":6},\"x\":{\"field\":\"date\"},\"y\":{\"field\":\"value\"}},\"id\":\"2291\",\"type\":\"Circle\"},{\"attributes\":{},\"id\":\"2267\",\"type\":\"BasicTickFormatter\"},{\"attributes\":{\"format\":\"%m/%d/%Y - %H:%M:%S\"},\"id\":\"2296\",\"type\":\"DateFormatter\"},{\"attributes\":{},\"id\":\"2486\",\"type\":\"StringFormatter\"},{\"attributes\":{},\"id\":\"2478\",\"type\":\"BasicTickFormatter\"},{\"attributes\":{},\"id\":\"2490\",\"type\":\"StringFormatter\"},{\"attributes\":{},\"id\":\"2476\",\"type\":\"CategoricalTickFormatter\"},{\"attributes\":{},\"id\":\"2324\",\"type\":\"CategoricalTicker\"},{\"attributes\":{},\"id\":\"2485\",\"type\":\"StringEditor\"},{\"attributes\":{},\"id\":\"2482\",\"type\":\"UnionRenderers\"},{\"attributes\":{\"below\":[{\"id\":\"2319\"}],\"center\":[{\"id\":\"2322\"},{\"id\":\"2325\"}],\"left\":[{\"id\":\"2323\"}],\"plot_height\":300,\"renderers\":[{\"id\":\"2330\"}],\"title\":{\"id\":\"2309\"},\"toolbar\":{\"id\":\"2326\"},\"toolbar_location\":null,\"x_range\":{\"id\":\"2311\"},\"x_scale\":{\"id\":\"2315\"},\"y_range\":{\"id\":\"2313\"},\"y_scale\":{\"id\":\"2317\"}},\"id\":\"2308\",\"subtype\":\"Figure\",\"type\":\"Plot\"},{\"attributes\":{},\"id\":\"2249\",\"type\":\"PanTool\"},{\"attributes\":{\"data\":{\"name_bar\":[\"Max Value\",\"Avarage Value\",\"Area\"],\"value\":[0,0,0]},\"selected\":{\"id\":\"2479\"},\"selection_policy\":{\"id\":\"2480\"}},\"id\":\"2307\",\"type\":\"ColumnDataSource\"},{\"attributes\":{\"data\":{\"Area\":[],\"Average_value\":[],\"End_date\":[],\"Max_value\":[],\"Start_date\":[]},\"selected\":{\"id\":\"2481\"},\"selection_policy\":{\"id\":\"2482\"}},\"id\":\"2295\",\"type\":\"ColumnDataSource\"},{\"attributes\":{},\"id\":\"2250\",\"type\":\"WheelZoomTool\"},{\"attributes\":{\"editor\":{\"id\":\"2483\"},\"field\":\"Start_date\",\"formatter\":{\"id\":\"2296\"},\"title\":\"Start_date\"},\"id\":\"2297\",\"type\":\"TableColumn\"},{\"attributes\":{},\"id\":\"2479\",\"type\":\"Selection\"},{\"attributes\":{},\"id\":\"2251\",\"type\":\"ResetTool\"},{\"attributes\":{},\"id\":\"2460\",\"type\":\"UnionRenderers\"},{\"attributes\":{\"args\":{\"main_source\":{\"id\":\"2228\"},\"source_barplot\":{\"id\":\"2307\"},\"source_table\":{\"id\":\"2295\"}},\"code\":\"\\n        // get the indices of the selectd data and sort them in ascending order\\n        var inds = cb_obj.indices\\n        inds.sort(function(a, b){return a-b})\\n\\n\\n        // if the array is not empty (if it is empy, it means that no elements has been selected (occurs when the user select no element after having selected some element), \\n        // with the consequence of not adding any element)\\n        if (inds.length != 0){\\n          // create various variable to store the data from the various sources (ColumnDataSource object)\\n          var d1 = main_source.data\\n          var d2 = source_table.data\\n          var d3 = source_barplot.data\\n\\n\\n          // get the first and end date (no need to any particular calculus because each data is already in order and unique)\\n          var start_date = new Date(d1[\\\"date\\\"][inds[0]])\\n          var end_date = new Date(d1[\\\"date\\\"][inds[inds.length-1]])\\n\\n\\n          // get max value (and set it to max 2 decimals)\\n          var max_value\\n          for(var i = 0; i < inds.length; i++) {\\n              if(i == 0) {\\n                max_value = d1[\\\"value\\\"][inds[i]]\\n              } else {\\n                if(max_value < d1[\\\"value\\\"][inds[i]]){\\n                  max_value = (d1[\\\"value\\\"][inds[i]]).toFixed(2)\\n                }\\n              }\\n          }\\n\\n\\n          // get average value (and set it to max 2 decimals)\\n          var avarage_value = 0.00\\n          for(var i = 0; i < inds.length; i++) {\\n              avarage_value = avarage_value + d1[\\\"value\\\"][inds[i]]\\n          }\\n          avarage_value = (avarage_value/inds.length).toFixed(2)\\n\\n\\n          // calculate the area of the trapezoid (the sum of the two bases (we count the value as minutes) * h (difference between the dates in minutess) / 2)\\n          var area = 0.00\\n          for(var i = 0; i < (inds.length-1); i++) {\\n              var sum_bases = Math.abs(d1[\\\"value\\\"][inds[i]]) + Math.abs(d1[\\\"value\\\"][inds[i+1]])\\n              console.log(Math.abs(d1[\\\"value\\\"][inds[i]]))\\n              console.log(Math.abs(d1[\\\"value\\\"][inds[i+1]]))\\n              console.log(sum_bases)\\n              var height = ((new Date(d1[\\\"date\\\"][inds[i+1]])).getTime() - (new Date(d1[\\\"date\\\"][inds[i]])).getTime()) / 60000\\n\\n              area = area + (sum_bases * height) / 2\\n          }\\n          // set the number of decimals to 2 \\n          area = parseFloat(area).toFixed(2);\\n\\n\\n          // push all the data in the source of the data_table\\n          d2[\\\"Start_date\\\"].push(start_date)\\n          d2[\\\"End_date\\\"].push(end_date)\\n          d2[\\\"Max_value\\\"].push(max_value)\\n          d2[\\\"Average_value\\\"].push(avarage_value)\\n          d2[\\\"Area\\\"].push(area)\\n\\n\\n          // reset the values of the bar plot and update them (order of values is: Max Value, Avarage Value, Area)\\n          d3[\\\"value\\\"] = []\\n          d3[\\\"value\\\"].push(max_value)\\n          d3[\\\"value\\\"].push(avarage_value)\\n          d3[\\\"value\\\"].push(area)\\n\\n\\n          // update the Table and Bar plot (this function notify that something has changed, and to immediately update the values and UI)\\n          source_table.change.emit()\\n          source_barplot.change.emit()\\n        }\\n        \"},\"id\":\"2334\",\"type\":\"CustomJS\"},{\"attributes\":{\"editor\":{\"id\":\"2485\"},\"field\":\"Max_value\",\"formatter\":{\"id\":\"2486\"},\"title\":\"Max_value\"},\"id\":\"2302\",\"type\":\"TableColumn\"},{\"attributes\":{\"args\":{\"break_lines\":\"\\r\\n\",\"source_table\":{\"id\":\"2295\"}},\"code\":\"\\n        // get the data from the source of the table\\n        var data = source_table.data\\n\\n        // get the length of the list \\n        var number_of_data = data[\\\"Start_date\\\"].length\\n\\n        // order the data\\n        var start_date_list = data[\\\"Start_date\\\"]\\n        var end_date_list = data[\\\"End_date\\\"]\\n        var max_value_list = data[\\\"Max_value\\\"]\\n        var avarage_value_list = data[\\\"Average_value\\\"]\\n        var area_list = data[\\\"Area\\\"]\\n\\n        // fill the string with the data (while also modifying the data of date format of: hour,minute and seconds to 2 digit string)\\n        var out = \\\"\\\";\\n        for (var i = 0; i < number_of_data; i++) {\\n          out += i+ \\\")\\\" +break_lines+ \\n                 \\\"Start Date:    \\\"  +start_date_list[i]+ \\\"\\\" +break_lines+\\n                 \\\"End Date:      \\\"  +end_date_list[i]+ \\\"\\\" +break_lines+\\n                 \\\"Max Value:     \\\"  +max_value_list[i]+ \\\"\\\" +break_lines+\\n                 \\\"Avarage Value: \\\"  +avarage_value_list[i]+ \\\"\\\" +break_lines+\\n                 \\\"Area:          \\\"  +area_list[i]+ \\\"\\\" +break_lines+ \\\"\\\" +break_lines\\n        }\\n\\n\\n        // write the data in the file\\n        var file = new Blob([out], {type: 'text/plain'});\\n        var elem = window.document.createElement('a');\\n        elem.href = window.URL.createObjectURL(file);\\n        elem.download = 'selected_data.txt';\\n        document.body.appendChild(elem);\\n        elem.click();\\n        document.body.removeChild(elem);\\n    \"},\"id\":\"2335\",\"type\":\"CustomJS\"},{\"attributes\":{},\"id\":\"2488\",\"type\":\"StringFormatter\"},{\"attributes\":{\"factors\":[\"Max Value\",\"Avarage Value\",\"Area\"]},\"id\":\"2313\",\"type\":\"FactorRange\"},{\"attributes\":{\"source\":{\"id\":\"2295\"}},\"id\":\"2306\",\"type\":\"CDSView\"},{\"attributes\":{\"fill_alpha\":{\"value\":0.1},\"fill_color\":{\"value\":\"white\"},\"line_alpha\":{\"value\":0.1},\"line_color\":{\"value\":\"#1f77b4\"},\"size\":{\"units\":\"screen\",\"value\":6},\"x\":{\"field\":\"date\"},\"y\":{\"field\":\"value\"}},\"id\":\"2292\",\"type\":\"Circle\"},{\"attributes\":{},\"id\":\"2483\",\"type\":\"StringEditor\"},{\"attributes\":{},\"id\":\"2320\",\"type\":\"BasicTicker\"},{\"attributes\":{},\"id\":\"2484\",\"type\":\"StringEditor\"},{\"attributes\":{},\"id\":\"2317\",\"type\":\"CategoricalScale\"},{\"attributes\":{\"formatter\":{\"id\":\"2478\"},\"ticker\":{\"id\":\"2320\"}},\"id\":\"2319\",\"type\":\"LinearAxis\"},{\"attributes\":{\"fill_alpha\":{\"value\":0.1},\"fill_color\":{\"value\":\"#1f77b4\"},\"line_alpha\":{\"value\":0.1},\"line_color\":{\"value\":\"#1f77b4\"},\"line_width\":{\"value\":20},\"right\":{\"field\":\"value\"},\"y\":{\"field\":\"name_bar\"}},\"id\":\"2329\",\"type\":\"HBar\"},{\"attributes\":{\"axis\":{\"id\":\"2323\"},\"dimension\":1,\"grid_line_color\":null,\"ticker\":null},\"id\":\"2325\",\"type\":\"Grid\"},{\"attributes\":{},\"id\":\"2489\",\"type\":\"StringEditor\"},{\"attributes\":{\"source\":{\"id\":\"2307\"}},\"id\":\"2331\",\"type\":\"CDSView\"},{\"attributes\":{\"text\":\"General Info\"},\"id\":\"2309\",\"type\":\"Title\"},{\"attributes\":{\"format\":\"%m/%d/%Y - %H:%M:%S\"},\"id\":\"2299\",\"type\":\"DateFormatter\"},{\"attributes\":{},\"id\":\"2315\",\"type\":\"LinearScale\"},{\"attributes\":{\"columns\":[{\"id\":\"2297\"},{\"id\":\"2300\"},{\"id\":\"2302\"},{\"id\":\"2303\"},{\"id\":\"2304\"}],\"height\":250,\"source\":{\"id\":\"2295\"},\"view\":{\"id\":\"2306\"},\"width\":700},\"id\":\"2305\",\"type\":\"DataTable\"},{\"attributes\":{\"data_source\":{\"id\":\"2307\"},\"glyph\":{\"id\":\"2328\"},\"hover_glyph\":null,\"muted_glyph\":null,\"nonselection_glyph\":{\"id\":\"2329\"},\"selection_glyph\":null,\"view\":{\"id\":\"2331\"}},\"id\":\"2330\",\"type\":\"GlyphRenderer\"},{\"attributes\":{},\"id\":\"2481\",\"type\":\"Selection\"},{\"attributes\":{\"js_property_callbacks\":{\"change:indices\":[{\"id\":\"2334\"}]}},\"id\":\"2333\",\"type\":\"Selection\"},{\"attributes\":{\"fill_color\":{\"value\":\"#1f77b4\"},\"line_color\":{\"value\":\"#1f77b4\"},\"line_width\":{\"value\":20},\"right\":{\"field\":\"value\"},\"y\":{\"field\":\"name_bar\"}},\"id\":\"2328\",\"type\":\"HBar\"},{\"attributes\":{\"axis\":{\"id\":\"2319\"},\"ticker\":null},\"id\":\"2322\",\"type\":\"Grid\"},{\"attributes\":{\"editor\":{\"id\":\"2484\"},\"field\":\"End_date\",\"formatter\":{\"id\":\"2299\"},\"title\":\"End_date\"},\"id\":\"2300\",\"type\":\"TableColumn\"},{\"attributes\":{\"editor\":{\"id\":\"2489\"},\"field\":\"Area\",\"formatter\":{\"id\":\"2490\"},\"title\":\"Area\"},\"id\":\"2304\",\"type\":\"TableColumn\"},{\"attributes\":{\"callback\":null,\"formatters\":{\"@date\":\"datetime\"},\"mode\":\"vline\",\"tooltips\":[[\"index\",\"$index\"],[\"Value\",\"@value{0.2f}\"],[\"Date\",\"@date{%F}\"]]},\"id\":\"2229\",\"type\":\"HoverTool\"},{\"attributes\":{},\"id\":\"2311\",\"type\":\"DataRange1d\"},{\"attributes\":{\"children\":[{\"id\":\"2305\"},{\"id\":\"2332\"}]},\"id\":\"2336\",\"type\":\"Column\"},{\"attributes\":{\"formatter\":{\"id\":\"2476\"},\"ticker\":{\"id\":\"2324\"}},\"id\":\"2323\",\"type\":\"CategoricalAxis\"},{\"attributes\":{\"editor\":{\"id\":\"2487\"},\"field\":\"Average_value\",\"formatter\":{\"id\":\"2488\"},\"title\":\"Average_value\"},\"id\":\"2303\",\"type\":\"TableColumn\"},{\"attributes\":{},\"id\":\"2487\",\"type\":\"StringEditor\"},{\"attributes\":{\"children\":[{\"id\":\"2308\"},{\"id\":\"2336\"}]},\"id\":\"2337\",\"type\":\"Row\"},{\"attributes\":{},\"id\":\"2480\",\"type\":\"UnionRenderers\"}],\"root_ids\":[\"2338\"]},\"title\":\"Bokeh Application\",\"version\":\"2.1.1\"}};\n",
              "  var render_items = [{\"docid\":\"172dd640-c961-4a97-bf2e-1b4d2fea92be\",\"root_ids\":[\"2338\"],\"roots\":{\"2338\":\"6a8460e6-0a8f-461f-a177-873fada5961e\"}}];\n",
              "  root.Bokeh.embed.embed_items_notebook(docs_json, render_items);\n",
              "\n",
              "  }\n",
              "  if (root.Bokeh !== undefined) {\n",
              "    embed_document(root);\n",
              "  } else {\n",
              "    var attempts = 0;\n",
              "    var timer = setInterval(function(root) {\n",
              "      if (root.Bokeh !== undefined) {\n",
              "        clearInterval(timer);\n",
              "        embed_document(root);\n",
              "      } else {\n",
              "        attempts++;\n",
              "        if (attempts > 100) {\n",
              "          clearInterval(timer);\n",
              "          console.log(\"Bokeh: ERROR: Unable to run BokehJS code because BokehJS library is missing\");\n",
              "        }\n",
              "      }\n",
              "    }, 10, root)\n",
              "  }\n",
              "})(window);"
            ],
            "application/vnd.bokehjs_exec.v0+json": ""
          },
          "metadata": {
            "tags": [],
            "application/vnd.bokehjs_exec.v0+json": {
              "id": "2338"
            }
          }
        }
      ]
    },
    {
      "cell_type": "markdown",
      "metadata": {
        "id": "LXiGzH3ubsQF"
      },
      "source": [
        "# Other Library used to visualize data\n"
      ]
    },
    {
      "cell_type": "markdown",
      "metadata": {
        "id": "ZzsMtRJibjHH"
      },
      "source": [
        "Test of creating the chart using various libraries...\n"
      ]
    },
    {
      "cell_type": "markdown",
      "metadata": {
        "id": "MZPO-mU3cKR-"
      },
      "source": [
        "Draw everything in a chart using the altair library (i haven't used this library since it doesn't have any support for return the data selected)"
      ]
    },
    {
      "cell_type": "code",
      "metadata": {
        "id": "AIgHNcl2pJOj"
      },
      "source": [
        "import altair as alt\n",
        "\n",
        "brush = alt.selection_interval(encodings=['x'])\n",
        "\n",
        "color = alt.condition(brush, alt.value('blue'), alt.value('lightgray'))\n",
        "\n",
        "chart = alt.Chart(data).mark_line(point={\n",
        "    \"filled\": False,\n",
        "    \"fill\": 'white'\n",
        "    }).encode(\n",
        "        y=alt.Y('value', sort=alt.EncodingSortField('value', order='descending')),\n",
        "        x='date',\n",
        "        color=color\n",
        ").add_selection(\n",
        "    brush\n",
        ")\n",
        "\n",
        "chart "
      ],
      "execution_count": null,
      "outputs": []
    },
    {
      "cell_type": "markdown",
      "metadata": {
        "id": "iV5B9BQacL1b"
      },
      "source": [
        "Draw everything in a chart using the Plotly library (i haven't used this library since it doesn't have any support for return the data selected, an exemption is DASH that is the framework built-on this library, but using this, require a few tweaks)"
      ]
    },
    {
      "cell_type": "code",
      "metadata": {
        "id": "rXneVPkaGCrA"
      },
      "source": [
        "import plotly.graph_objects as go\n",
        "\n",
        "fig = go.Figure(go.Scatter(x=data.date, y=data.value, mode=\"markers+lines\"))\n",
        "\n",
        "scatter = fig.data[0]\n",
        "\n",
        "def update_point(trace, points, selector):\n",
        "  print(\"Sleeping\")\n",
        "scatter.on_click(update_point)\n",
        "\n",
        "fig.show(renderer=\"colab\")"
      ],
      "execution_count": null,
      "outputs": []
    },
    {
      "cell_type": "code",
      "metadata": {
        "id": "Yt1L1XrvSkQs"
      },
      "source": [
        ""
      ],
      "execution_count": null,
      "outputs": []
    }
  ]
}