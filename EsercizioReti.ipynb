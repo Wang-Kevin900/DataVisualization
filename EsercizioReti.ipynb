{
  "nbformat": 4,
  "nbformat_minor": 0,
  "metadata": {
    "colab": {
      "name": "EsercizioReti.ipynb",
      "private_outputs": true,
      "provenance": [],
      "collapsed_sections": [],
      "authorship_tag": "ABX9TyOVCvq6EQD1bV32uKSrU2CA",
      "include_colab_link": true
    },
    "kernelspec": {
      "name": "python3",
      "display_name": "Python 3"
    },
    "accelerator": "GPU"
  },
  "cells": [
    {
      "cell_type": "markdown",
      "metadata": {
        "id": "view-in-github",
        "colab_type": "text"
      },
      "source": [
        "<a href=\"https://colab.research.google.com/github/Wang-Kevin900/DataVisualization/blob/main/EsercizioReti.ipynb\" target=\"_parent\"><img src=\"https://colab.research.google.com/assets/colab-badge.svg\" alt=\"Open In Colab\"/></a>"
      ]
    },
    {
      "cell_type": "markdown",
      "metadata": {
        "id": "ytCkpOk9_thE"
      },
      "source": [
        "Importing the various library needed to the program, importing the txt sheet where all the data are (format: date - hour - value) and lastly creating all the needed variable"
      ]
    },
    {
      "cell_type": "code",
      "metadata": {
        "id": "p97s3MLTysk0"
      },
      "source": [
        "from google.colab import files\n",
        "from datetime import datetime\n",
        "\n",
        "file_data = files.upload()\n",
        "valori = list(file_data.values());\n",
        "\n",
        "date_list = []\n",
        "value_list = []\n",
        "date_format = 10\n",
        "hour_format = 8\n",
        "\n",
        "string_of_data = \"\""
      ],
      "execution_count": null,
      "outputs": []
    },
    {
      "cell_type": "markdown",
      "metadata": {
        "id": "Jf69MNz7ASNJ"
      },
      "source": [
        "Rearrange all the data in sets of tuples "
      ]
    },
    {
      "cell_type": "code",
      "metadata": {
        "id": "yjp8sHFeASVH"
      },
      "source": [
        "for i in valori[0]:\n",
        "  if i == 13:\n",
        "    pass\n",
        "  elif i != 10:\n",
        "    string_of_data = string_of_data + chr(i);\n",
        "  else:\n",
        "    date_list.append(string_of_data[0:date_format+1+hour_format])\n",
        "    value_list.append(string_of_data[date_format+1+hour_format+1:])\n",
        "    string_of_data = \"\""
      ],
      "execution_count": null,
      "outputs": []
    },
    {
      "cell_type": "markdown",
      "metadata": {
        "id": "W5vdoOzpoNBO"
      },
      "source": [
        "Convert the value from string to float, also replace the \",\" in \".\" so that the casting is possible"
      ]
    },
    {
      "cell_type": "code",
      "metadata": {
        "id": "83POqhx_Mjge"
      },
      "source": [
        "list_of_float_value = []\n",
        "for item in value_list:\n",
        "    value = item.replace(\",\", \".\")\n",
        "    list_of_float_value.append(float(value))\n",
        "\n",
        "value_list = list_of_float_value"
      ],
      "execution_count": null,
      "outputs": []
    },
    {
      "cell_type": "markdown",
      "metadata": {
        "id": "JlH_e6Y9jW-U"
      },
      "source": [
        "Convert the value from string to datetime format\n"
      ]
    },
    {
      "cell_type": "code",
      "metadata": {
        "id": "858gqruXgyh0"
      },
      "source": [
        "from datetime import datetime\n",
        "\n",
        "list_of_date_value = []\n",
        "for item in date_list:\n",
        "    list_of_date_value.append(datetime.strptime(item, '%d-%m-%Y %H:%M:%S'))\n",
        "\n",
        "date_list = list_of_date_value"
      ],
      "execution_count": null,
      "outputs": []
    },
    {
      "cell_type": "markdown",
      "metadata": {
        "id": "Ul_RHsHNogdw"
      },
      "source": [
        "Convert all the lists (date list and value list) in Pandas DataFrame, then, visualize the list created"
      ]
    },
    {
      "cell_type": "code",
      "metadata": {
        "id": "sJ88MkFqoaz0"
      },
      "source": [
        "import pandas as pd\n",
        "\n",
        "data = pd.DataFrame({'date': date_list,\n",
        "                     'value': value_list})\n",
        "\n",
        "data"
      ],
      "execution_count": null,
      "outputs": []
    },
    {
      "cell_type": "markdown",
      "metadata": {
        "id": "CEVg-rWBGkDH"
      },
      "source": [
        "Draw everything in a chart using the altair library"
      ]
    },
    {
      "cell_type": "code",
      "metadata": {
        "id": "AIgHNcl2pJOj"
      },
      "source": [
        "import altair as alt\n",
        "\n",
        "brush = alt.selection_interval(encodings=['x'])\n",
        "\n",
        "color = alt.condition(brush, alt.value('blue'), alt.value('lightgray'))\n",
        "\n",
        "chart = alt.Chart(data).mark_line(point={\n",
        "    \"filled\": False,\n",
        "    \"fill\": 'white'\n",
        "    }).encode(\n",
        "        y=alt.Y('value', sort=alt.EncodingSortField('value', order='descending')),\n",
        "        x='date',\n",
        "        color=color\n",
        ").add_selection(\n",
        "    brush\n",
        ")\n",
        "\n",
        "chart "
      ],
      "execution_count": null,
      "outputs": []
    },
    {
      "cell_type": "code",
      "metadata": {
        "id": "jByfhOKU01MO"
      },
      "source": [
        "from bokeh.plotting import figure, output_file, show\n",
        "from bokeh.io import output_notebook\n",
        "\n",
        "output_notebook()\n",
        "\n",
        "source = ColumnDataSource(data)\n",
        "\n",
        "TOOLS=\"pan,wheel_zoom,reset,hover,poly_select,box_select\"\n",
        "p = figure(plot_width=1500, plot_height=500, tools=TOOLS)\n",
        "\n",
        "# add both a line and circles on the same plot\n",
        "p.line(x='date', y='value', line_width=2, source=source)\n",
        "p.circle(x='date', y='value', fill_color=\"white\", size=5, source=source)\n",
        "\n",
        "select_tool = p.select(dict(type=BoxSelectTool))[0]\n",
        "\n",
        "source.selected.js_on_change(\"indices\", CustomJS(args=dict(p=p), code=\"\"\"\n",
        "        console.log(\"ciao\")\n",
        "        \"\"\"\n",
        "))\n",
        "\n",
        "show(p)"
      ],
      "execution_count": null,
      "outputs": []
    },
    {
      "cell_type": "code",
      "metadata": {
        "id": "un0PON7CusDG"
      },
      "source": [
        "%matplotlib inline\n",
        "import numpy as np\n",
        "from random import choice\n",
        "from string import ascii_lowercase\n",
        "\n",
        "from bokeh.models.tools import *\n",
        "from bokeh.plotting import *\n",
        "from bokeh.models import CustomJS\n",
        "\n",
        "\n",
        "output_notebook()\n",
        "\n",
        "\n",
        "TOOLS=\"pan,wheel_zoom,reset,hover,poly_select,box_select\"\n",
        "p = figure(title = \"My chart\", tools=TOOLS)\n",
        "p.xaxis.axis_label = 'X'\n",
        "p.yaxis.axis_label = 'Y'\n",
        "\n",
        "source = ColumnDataSource(\n",
        "    data=dict(\n",
        "        xvals=list(range(0, 10)),\n",
        "        yvals=list(np.random.normal(0, 1, 10)),\n",
        "        letters = [choice(ascii_lowercase) for _ in range(10)]\n",
        "    )\n",
        ")\n",
        "p.scatter(\"xvals\", \"yvals\",source=source,fill_alpha=0.2, size=5)\n",
        "\n",
        "select_tool = p.select(dict(type=BoxSelectTool))[0]\n",
        "\n",
        "source.callback = CustomJS(args=dict(p=p), code=\"\"\"\n",
        "        var inds = cb_obj.get('selected')['1d'].indices;\n",
        "        var d1 = cb_obj.get('data');\n",
        "        console.log(d1)\n",
        "        var kernel = IPython.notebook.kernel;\n",
        "        IPython.notebook.kernel.execute(\"inds = \" + inds);\n",
        "        \"\"\")\n",
        "\n",
        "show(p)"
      ],
      "execution_count": null,
      "outputs": []
    },
    {
      "cell_type": "code",
      "metadata": {
        "id": "wIM3KYkiyvxF"
      },
      "source": [
        "from random import random\n",
        "\n",
        "from bokeh.io import output_notebook  # prevent opening separate tab with graph\n",
        "from bokeh.io import show\n",
        "\n",
        "from bokeh.events import ButtonClick\n",
        "from bokeh.layouts import row\n",
        "from bokeh.layouts import grid\n",
        "from bokeh.models import CustomJS, ColumnDataSource\n",
        "from bokeh.models import Button  # for saving data\n",
        "from bokeh.models.widgets import DataTable, DateFormatter, TableColumn\n",
        "from bokeh.models import HoverTool\n",
        "from bokeh.plotting import figure\n",
        "\n",
        "\n",
        "# create data\n",
        "x = [random() for x in range(500)]\n",
        "y = [random() for y in range(500)]\n",
        "\n",
        "# create first subplot\n",
        "plot_width = 400\n",
        "plot_height = 400\n",
        "\n",
        "s1 = ColumnDataSource(data=dict(x=x, y=y))\n",
        "fig01 = figure(\n",
        "    plot_width=plot_width,\n",
        "    plot_height=plot_height,\n",
        "    tools=[\"lasso_select\", \"reset\", \"save\"],\n",
        "    title=\"Select Here\",\n",
        ")\n",
        "fig01.circle(\"x\", \"y\", source=s1, alpha=0.6)\n",
        "\n",
        "# create second subplot\n",
        "s2 = ColumnDataSource(data=dict(x=[], y=[]))\n",
        "\n",
        "# demo smart error msg:  `box_zoom`, vs `BoxZoomTool`\n",
        "fig02 = figure(\n",
        "    plot_width=400,\n",
        "    plot_height=400,\n",
        "    x_range=(0, 1),\n",
        "    y_range=(0, 1),\n",
        "    tools=[\"box_zoom\", \"wheel_zoom\", \"reset\", \"save\"],\n",
        "    title=\"Watch Here\",\n",
        ")\n",
        "\n",
        "fig02.circle(\"x\", \"y\", source=s2, alpha=0.6, color=\"firebrick\")\n",
        "\n",
        "# create dynamic table of selected points\n",
        "columns = [\n",
        "    TableColumn(field=\"x\", title=\"X axis\"),\n",
        "    TableColumn(field=\"y\", title=\"Y axis\"),\n",
        "]\n",
        "\n",
        "table = DataTable(\n",
        "    source=s2,\n",
        "    columns=columns,\n",
        "    width=400,\n",
        "    height=600,\n",
        "    sortable=True,\n",
        "    selectable=True,\n",
        "    editable=True,\n",
        ")\n",
        "\n",
        "# fancy javascript to link subplots\n",
        "# js pushes selected points into ColumnDataSource of 2nd plot\n",
        "# inspiration for this from a few sources:\n",
        "# credit: https://stackoverflow.com/users/1097752/iolsmit via: https://stackoverflow.com/questions/48982260/bokeh-lasso-select-to-table-update\n",
        "# credit: https://stackoverflow.com/users/8412027/joris via: https://stackoverflow.com/questions/34164587/get-selected-data-contained-within-box-select-tool-in-bokeh\n",
        "\n",
        "s1.selected.js_on_change(\n",
        "    \"indices\",\n",
        "    CustomJS(\n",
        "        args=dict(s1=s1, s2=s2, table=table),\n",
        "        code=\"\"\"\n",
        "        var inds = cb_obj.indices;\n",
        "        var d1 = s1.data;\n",
        "        var d2 = s2.data;\n",
        "        d2['x'] = []\n",
        "        d2['y'] = []\n",
        "        for (var i = 0; i < inds.length; i++) {\n",
        "            d2['x'].push(d1['x'][inds[i]])\n",
        "            d2['y'].push(d1['y'][inds[i]])\n",
        "        }\n",
        "        s2.change.emit();\n",
        "        table.change.emit();\n",
        "\n",
        "        var inds = source_data.selected.indices;\n",
        "        var data = source_data.data;\n",
        "        var out = \"x, y\\\\n\";\n",
        "        for (i = 0; i < inds.length; i++) {\n",
        "            out += data['x'][inds[i]] + \",\" + data['y'][inds[i]] + \"\\\\n\";\n",
        "        }\n",
        "        var file = new Blob([out], {type: 'text/plain'});\n",
        "\n",
        "    \"\"\",\n",
        "    ),\n",
        ")\n",
        "\n",
        "# create save button - saves selected datapoints to text file onbutton\n",
        "# inspriation for this code:\n",
        "# credit:  https://stackoverflow.com/questions/31824124/is-there-a-way-to-save-bokeh-data-table-content\n",
        "# note: savebutton line `var out = \"x, y\\\\n\";` defines the header of the exported file, helpful to have a header for downstream processing\n",
        "\n",
        "savebutton = Button(label=\"Save\", button_type=\"success\")\n",
        "savebutton.js_on_event(ButtonClick, CustomJS(\n",
        "    args=dict(source_data=s1),\n",
        "    code=\"\"\"\n",
        "        var inds = source_data.selected.indices;\n",
        "        var data = source_data.data;\n",
        "        var out = \"x, y\\\\n\";\n",
        "        for (i = 0; i < inds.length; i++) {\n",
        "            out += data['x'][inds[i]] + \",\" + data['y'][inds[i]] + \"\\\\n\";\n",
        "        }\n",
        "        var file = new Blob([out], {type: 'text/plain'});\n",
        "        var elem = window.document.createElement('a');\n",
        "        elem.href = window.URL.createObjectURL(file);\n",
        "        elem.download = 'selected-data.txt';\n",
        "        document.body.appendChild(elem);\n",
        "        elem.click();\n",
        "        document.body.removeChild(elem);\n",
        "        \"\"\",\n",
        "))\n",
        "\n",
        "# add Hover tool\n",
        "# define what is displayed in the tooltip\n",
        "tooltips = [\n",
        "    (\"X:\", \"@x\"),\n",
        "    (\"Y:\", \"@y\"),\n",
        "    (\"static text\", \"static text\"),\n",
        "]\n",
        "\n",
        "fig02.add_tools(HoverTool(tooltips=tooltips))\n",
        "\n",
        "# display results\n",
        "# demo linked plots\n",
        "# demo zooms and reset\n",
        "# demo hover tool\n",
        "# demo table\n",
        "# demo save selected results to file\n",
        "\n",
        "layout = grid([fig01, fig02, table, savebutton], ncols=3)\n",
        "\n",
        "output_notebook()\n",
        "show(layout)\n",
        "\n",
        "# things to try:\n",
        "# select random shape of blue dots with lasso tool in 'Select Here' graph\n",
        "# only selected points appear as red dots in 'Watch Here' graph -- try zooming, saving that graph separately\n",
        "# selected points also appear in the table, which is sortable\n",
        "# click the 'Save' button to export a csv\n",
        "\n",
        "# TODO:  export from Bokeh to pandas dataframe"
      ],
      "execution_count": null,
      "outputs": []
    },
    {
      "cell_type": "code",
      "metadata": {
        "id": "e5d40UIvzxnM"
      },
      "source": [
        "from bokeh.events import ButtonClick\n",
        "from bokeh.models import Button, CustomJS\n",
        "\n",
        "button = Button()\n",
        "\n",
        "button.js_on_event(ButtonClick, CustomJS(code='console.log(\"JS:Click\")'))\n",
        "\n",
        "show(button)"
      ],
      "execution_count": null,
      "outputs": []
    },
    {
      "cell_type": "code",
      "metadata": {
        "id": "NlOQcMhXv29s"
      },
      "source": [
        "import numpy as np\n",
        "\n",
        "from bokeh import events\n",
        "from bokeh.io import output_file, show\n",
        "from bokeh.layouts import column, row\n",
        "from bokeh.models import Button, CustomJS, Div\n",
        "from bokeh.plotting import figure\n",
        "\n",
        "\n",
        "def display_event(div, attributes=[], style = 'float:left;clear:left;font_size=13px'):\n",
        "    \"Build a suitable CustomJS to display the current event in the div model.\"\n",
        "    return CustomJS(args=dict(div=div), code=\"\"\"\n",
        "        var attrs = %s; var args = [];\n",
        "        for (var i = 0; i<attrs.length; i++) {\n",
        "            args.push(attrs[i] + '=' + Number(cb_obj[attrs[i]]).toFixed(2));\n",
        "        }\n",
        "        var line = \"<span style=%r><b>\" + cb_obj.event_name + \"</b>(\" + args.join(\", \") + \")</span>\\\\n\";\n",
        "        var text = div.text.concat(line);\n",
        "        var lines = text.split(\"\\\\n\")\n",
        "        if (lines.length > 35)\n",
        "            lines.shift();\n",
        "        div.text = lines.join(\"\\\\n\");\n",
        "    \"\"\" % (attributes, style))\n",
        "\n",
        "x = np.random.random(size=4000) * 100\n",
        "y = np.random.random(size=4000) * 100\n",
        "radii = np.random.random(size=4000) * 1.5\n",
        "colors = [\"#%02x%02x%02x\" % (int(r), int(g), 150) for r, g in zip(50+2*x, 30+2*y)]\n",
        "\n",
        "p = figure(tools=\"pan,wheel_zoom,zoom_in,zoom_out,reset\")\n",
        "p.scatter(x, y, radius=np.random.random(size=4000) * 1.5,\n",
        "          fill_color=colors, fill_alpha=0.6, line_color=None)\n",
        "\n",
        "div = Div(width=400, height=p.plot_height, height_policy=\"fixed\")\n",
        "button = Button(label=\"Button\", button_type=\"success\")\n",
        "layout = column(button, row(p, div))\n",
        "\n",
        "## Events with no attributes\n",
        "button.js_on_event(events.ButtonClick, display_event(div)) # Button click\n",
        "p.js_on_event(events.LODStart, display_event(div))         # Start of LOD display\n",
        "p.js_on_event(events.LODEnd, display_event(div))           # End of LOD display\n",
        "\n",
        "## Events with attributes\n",
        "point_attributes = ['x', 'y', 'sx', 'sy']                  # Point events\n",
        "wheel_attributes = point_attributes + ['delta']            # Mouse wheel event\n",
        "pan_attributes = point_attributes + ['delta_x', 'delta_y'] # Pan event\n",
        "pinch_attributes = point_attributes + ['scale']            # Pinch event\n",
        "\n",
        "point_events = [\n",
        "    events.Tap, events.DoubleTap, events.Press, events.PressUp,\n",
        "    events.MouseMove, events.MouseEnter, events.MouseLeave,\n",
        "    events.PanStart, events.PanEnd, events.PinchStart, events.PinchEnd,\n",
        "]\n",
        "\n",
        "for event in point_events:\n",
        "    p.js_on_event(event, display_event(div, attributes=point_attributes))\n",
        "\n",
        "p.js_on_event(events.MouseWheel, display_event(div, attributes=wheel_attributes))\n",
        "p.js_on_event(events.Pan,        display_event(div, attributes=pan_attributes))\n",
        "p.js_on_event(events.Pinch,      display_event(div, attributes=pinch_attributes))\n",
        "\n",
        "output_file(\"js_events.html\", title=\"JS Events Example\")\n",
        "show(layout)"
      ],
      "execution_count": null,
      "outputs": []
    },
    {
      "cell_type": "code",
      "metadata": {
        "id": "rXneVPkaGCrA"
      },
      "source": [
        "import plotly.graph_objects as go\n",
        "\n",
        "fig = go.Figure(go.Scatter(x=date_list, y=list_of_float_value, mode=\"markers+lines\"))\n",
        "\n",
        "scatter = fig.data[0]\n",
        "\n",
        "def update_point(trace, points, selector):\n",
        "  print(\"Sleeping\")\n",
        "scatter.on_click(update_point)\n",
        "\n",
        "fig.show(renderer=\"colab\")"
      ],
      "execution_count": null,
      "outputs": []
    }
  ]
}