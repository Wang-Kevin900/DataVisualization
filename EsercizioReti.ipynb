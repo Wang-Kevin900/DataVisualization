{
  "nbformat": 4,
  "nbformat_minor": 0,
  "metadata": {
    "colab": {
      "name": "EsercizioReti.ipynb",
      "private_outputs": true,
      "provenance": [],
      "collapsed_sections": [],
      "authorship_tag": "ABX9TyO7SZ2oJsX38uPJ7YP4Xpii",
      "include_colab_link": true
    },
    "kernelspec": {
      "name": "python3",
      "display_name": "Python 3"
    },
    "accelerator": "GPU"
  },
  "cells": [
    {
      "cell_type": "markdown",
      "metadata": {
        "id": "view-in-github",
        "colab_type": "text"
      },
      "source": [
        "<a href=\"https://colab.research.google.com/github/Wang-Kevin900/DataVisualization/blob/main/EsercizioReti.ipynb\" target=\"_parent\"><img src=\"https://colab.research.google.com/assets/colab-badge.svg\" alt=\"Open In Colab\"/></a>"
      ]
    },
    {
      "cell_type": "markdown",
      "metadata": {
        "id": "ytCkpOk9_thE"
      },
      "source": [
        "Importing the various library needed to the program, importing the txt sheet where all the data are (format: date - hour - value) and lastly creating all the needed variable"
      ]
    },
    {
      "cell_type": "code",
      "metadata": {
        "id": "p97s3MLTysk0"
      },
      "source": [
        "from google.colab import files\n",
        "from datetime import datetime\n",
        "\n",
        "file_data = files.upload()\n",
        "valori = list(file_data.values());\n",
        "\n",
        "date_list = []\n",
        "value_list = []\n",
        "date_format = 10\n",
        "hour_format = 8\n",
        "\n",
        "string_of_data = \"\""
      ],
      "execution_count": null,
      "outputs": []
    },
    {
      "cell_type": "markdown",
      "metadata": {
        "id": "Jf69MNz7ASNJ"
      },
      "source": [
        "Rearrange all the data in sets of tuples "
      ]
    },
    {
      "cell_type": "code",
      "metadata": {
        "id": "yjp8sHFeASVH"
      },
      "source": [
        "for i in valori[0]:\n",
        "  if i == 13:\n",
        "    pass\n",
        "  elif i != 10:\n",
        "    string_of_data = string_of_data + chr(i);\n",
        "  else:\n",
        "    date_list.append(string_of_data[0:date_format+1+hour_format])\n",
        "    value_list.append(string_of_data[date_format+1+hour_format+1:])\n",
        "    string_of_data = \"\""
      ],
      "execution_count": null,
      "outputs": []
    },
    {
      "cell_type": "markdown",
      "metadata": {
        "id": "W5vdoOzpoNBO"
      },
      "source": [
        "Convert the value from string to float, also replace the \",\" in \".\" so that the casting is possible"
      ]
    },
    {
      "cell_type": "code",
      "metadata": {
        "id": "83POqhx_Mjge"
      },
      "source": [
        "list_of_float_value = []\n",
        "for item in value_list:\n",
        "    value = item.replace(\",\", \".\")\n",
        "    list_of_float_value.append(float(value))\n",
        "\n",
        "value_list = list_of_float_value"
      ],
      "execution_count": null,
      "outputs": []
    },
    {
      "cell_type": "markdown",
      "metadata": {
        "id": "JlH_e6Y9jW-U"
      },
      "source": [
        "Convert the value from string to datetime format\n"
      ]
    },
    {
      "cell_type": "code",
      "metadata": {
        "id": "858gqruXgyh0"
      },
      "source": [
        "#from datetime import datetime\n",
        "\n",
        "#list_of_date_value = []\n",
        "#for item in date_list:\n",
        "#    list_of_date_value.append(datetime.strptime(item, '%d-%m-%Y %H:%M:%S'))\n",
        "\n",
        "#date_list = list_of_date_value"
      ],
      "execution_count": null,
      "outputs": []
    },
    {
      "cell_type": "markdown",
      "metadata": {
        "id": "Ul_RHsHNogdw"
      },
      "source": [
        "Convert all the lists (date list and value list) in Pandas DataFrame, then, visualize the list created"
      ]
    },
    {
      "cell_type": "code",
      "metadata": {
        "id": "sJ88MkFqoaz0"
      },
      "source": [
        "import pandas as pd\n",
        "\n",
        "data = pd.DataFrame({'date': date_list,\n",
        "                     'value': value_list})\n",
        "\n",
        "data"
      ],
      "execution_count": null,
      "outputs": []
    },
    {
      "cell_type": "markdown",
      "metadata": {
        "id": "CEVg-rWBGkDH"
      },
      "source": [
        "Draw everything in a chart using the altair library"
      ]
    },
    {
      "cell_type": "code",
      "metadata": {
        "id": "AIgHNcl2pJOj"
      },
      "source": [
        "import altair as alt\n",
        "\n",
        "brush = alt.selection_interval(encodings=['x'])\n",
        "\n",
        "color = alt.condition(brush, alt.value('blue'), alt.value('lightgray'))\n",
        "\n",
        "chart = alt.Chart(data).mark_line(point={\n",
        "    \"filled\": False,\n",
        "    \"fill\": 'white'\n",
        "    }).encode(\n",
        "        y=alt.Y('value', sort=alt.EncodingSortField('value', order='descending')),\n",
        "        x='date',\n",
        "        color=color\n",
        ").add_selection(\n",
        "    brush\n",
        ")\n",
        "\n",
        "chart "
      ],
      "execution_count": null,
      "outputs": []
    },
    {
      "cell_type": "code",
      "metadata": {
        "id": "nx8IM3ROAIUm"
      },
      "source": [
        "import json\n",
        "\n",
        "import dash\n",
        "import dash_core_components as dcc\n",
        "import dash_html_components as html\n",
        "from dash.dependencies import Input, Output\n",
        "import plotly.express as px\n",
        "import pandas as pd\n",
        "\n",
        "external_stylesheets = ['https://codepen.io/chriddyp/pen/bWLwgP.css']\n",
        "\n",
        "app = dash.Dash(__name__, external_stylesheets=external_stylesheets)\n",
        "\n",
        "styles = {\n",
        "    'pre': {\n",
        "        'border': 'thin lightgrey solid',\n",
        "        'overflowX': 'scroll'\n",
        "    }\n",
        "}\n",
        "\n",
        "df = pd.DataFrame({\n",
        "    \"x\": [1,2,1,2],\n",
        "    \"y\": [1,2,3,4],\n",
        "    \"customdata\": [1,2,3,4],\n",
        "    \"fruit\": [\"apple\", \"apple\", \"orange\", \"orange\"]\n",
        "})\n",
        "\n",
        "fig = px.scatter(df, x=\"x\", y=\"y\", color=\"fruit\", custom_data=[\"customdata\"])\n",
        "\n",
        "fig.update_layout(clickmode='event+select')\n",
        "\n",
        "fig.update_traces(marker_size=20)\n",
        "\n",
        "app.layout = html.Div([\n",
        "    dcc.Graph(\n",
        "        id='basic-interactions',\n",
        "        figure=fig\n",
        "    ),\n",
        "\n",
        "    html.Div(className='row', children=[\n",
        "        html.Div([\n",
        "            dcc.Markdown(\"\"\"\n",
        "                **Hover Data**\n",
        "\n",
        "                Mouse over values in the graph.\n",
        "            \"\"\"),\n",
        "            html.Pre(id='hover-data', style=styles['pre'])\n",
        "        ], className='three columns'),\n",
        "\n",
        "        html.Div([\n",
        "            dcc.Markdown(\"\"\"\n",
        "                **Click Data**\n",
        "\n",
        "                Click on points in the graph.\n",
        "            \"\"\"),\n",
        "            html.Pre(id='click-data', style=styles['pre']),\n",
        "        ], className='three columns'),\n",
        "\n",
        "        html.Div([\n",
        "            dcc.Markdown(\"\"\"\n",
        "                **Selection Data**\n",
        "\n",
        "                Choose the lasso or rectangle tool in the graph's menu\n",
        "                bar and then select points in the graph.\n",
        "\n",
        "                Note that if `layout.clickmode = 'event+select'`, selection data also\n",
        "                accumulates (or un-accumulates) selected data if you hold down the shift\n",
        "                button while clicking.\n",
        "            \"\"\"),\n",
        "            html.Pre(id='selected-data', style=styles['pre']),\n",
        "        ], className='three columns'),\n",
        "\n",
        "        html.Div([\n",
        "            dcc.Markdown(\"\"\"\n",
        "                **Zoom and Relayout Data**\n",
        "\n",
        "                Click and drag on the graph to zoom or click on the zoom\n",
        "                buttons in the graph's menu bar.\n",
        "                Clicking on legend items will also fire\n",
        "                this event.\n",
        "            \"\"\"),\n",
        "            html.Pre(id='relayout-data', style=styles['pre']),\n",
        "        ], className='three columns')\n",
        "    ])\n",
        "])\n",
        "\n",
        "\n",
        "@app.callback(\n",
        "    Output('hover-data', 'children'),\n",
        "    Input('basic-interactions', 'hoverData'))\n",
        "def display_hover_data(hoverData):\n",
        "    return json.dumps(hoverData, indent=2)\n",
        "\n",
        "\n",
        "@app.callback(\n",
        "    Output('click-data', 'children'),\n",
        "    Input('basic-interactions', 'clickData'))\n",
        "def display_click_data(clickData):\n",
        "    return json.dumps(clickData, indent=2)\n",
        "\n",
        "\n",
        "@app.callback(\n",
        "    Output('selected-data', 'children'),\n",
        "    Input('basic-interactions', 'selectedData'))\n",
        "def display_selected_data(selectedData):\n",
        "    return json.dumps(selectedData, indent=2)\n",
        "\n",
        "\n",
        "@app.callback(\n",
        "    Output('relayout-data', 'children'),\n",
        "    Input('basic-interactions', 'relayoutData'))\n",
        "def display_relayout_data(relayoutData):\n",
        "    return json.dumps(relayoutData, indent=2)\n",
        "\n",
        "\n",
        "if __name__ == '__main__':\n",
        "  app.run_server(mode='inline',host=\"0.0.0.0\",port=1005)"
      ],
      "execution_count": null,
      "outputs": []
    },
    {
      "cell_type": "code",
      "metadata": {
        "id": "rXneVPkaGCrA"
      },
      "source": [
        "import plotly.graph_objects as go\n",
        "\n",
        "fig = go.Figure(go.Scatter(x=date_list, y=list_of_float_value, mode=\"markers+lines\"))\n",
        "\n",
        "scatter = fig.data[0]\n",
        "\n",
        "def update_point(trace, points, selector):\n",
        "  print(\"Sleeping\")\n",
        "scatter.on_click(update_point)\n",
        "\n",
        "fig.show(renderer=\"colab\")"
      ],
      "execution_count": null,
      "outputs": []
    },
    {
      "cell_type": "code",
      "metadata": {
        "id": "qRfulk322W8e"
      },
      "source": [
        "print(scatter.selectedpoints)"
      ],
      "execution_count": null,
      "outputs": []
    }
  ]
}