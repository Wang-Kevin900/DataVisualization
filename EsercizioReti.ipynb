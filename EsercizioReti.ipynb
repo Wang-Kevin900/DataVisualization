{
  "nbformat": 4,
  "nbformat_minor": 0,
  "metadata": {
    "colab": {
      "name": "EsercizioReti.ipynb",
      "private_outputs": true,
      "provenance": [],
      "collapsed_sections": [],
      "authorship_tag": "ABX9TyN1G70kc54ou2RuwXzcx/7S",
      "include_colab_link": true
    },
    "kernelspec": {
      "name": "python3",
      "display_name": "Python 3"
    },
    "accelerator": "GPU"
  },
  "cells": [
    {
      "cell_type": "markdown",
      "metadata": {
        "id": "view-in-github",
        "colab_type": "text"
      },
      "source": [
        "<a href=\"https://colab.research.google.com/github/Wang-Kevin900/DataVisualization/blob/main/EsercizioReti.ipynb\" target=\"_parent\"><img src=\"https://colab.research.google.com/assets/colab-badge.svg\" alt=\"Open In Colab\"/></a>"
      ]
    },
    {
      "cell_type": "markdown",
      "metadata": {
        "id": "ytCkpOk9_thE"
      },
      "source": [
        "Importing the various library needed to the program, importing the txt sheet where all the data are (format: date - hour - value) and lastly creating all the needed variable"
      ]
    },
    {
      "cell_type": "code",
      "metadata": {
        "id": "p97s3MLTysk0"
      },
      "source": [
        "from google.colab import files\n",
        "from datetime import datetime\n",
        "\n",
        "file_data = files.upload()\n",
        "valori = list(file_data.values());\n",
        "\n",
        "date_list = []\n",
        "value_list = []\n",
        "date_format = 10\n",
        "hour_format = 8\n",
        "\n",
        "string_of_data = \"\""
      ],
      "execution_count": null,
      "outputs": []
    },
    {
      "cell_type": "markdown",
      "metadata": {
        "id": "Jf69MNz7ASNJ"
      },
      "source": [
        "Rearrange all the data in sets of tuples "
      ]
    },
    {
      "cell_type": "code",
      "metadata": {
        "id": "yjp8sHFeASVH"
      },
      "source": [
        "for i in valori[0]:\n",
        "  if i == 13:\n",
        "    pass\n",
        "  elif i != 10:\n",
        "    string_of_data = string_of_data + chr(i);\n",
        "  else:\n",
        "    date_list.append(string_of_data[0:date_format+1+hour_format])\n",
        "    value_list.append(string_of_data[date_format+1+hour_format+1:])\n",
        "    string_of_data = \"\""
      ],
      "execution_count": null,
      "outputs": []
    },
    {
      "cell_type": "markdown",
      "metadata": {
        "id": "W5vdoOzpoNBO"
      },
      "source": [
        "Convert the value from string to float, also replace the \",\" in \".\" so that the casting is possible"
      ]
    },
    {
      "cell_type": "code",
      "metadata": {
        "id": "83POqhx_Mjge"
      },
      "source": [
        "list_of_float_value = []\n",
        "for item in value_list:\n",
        "    value = item.replace(\",\", \".\")\n",
        "    list_of_float_value.append(float(value))"
      ],
      "execution_count": null,
      "outputs": []
    },
    {
      "cell_type": "markdown",
      "metadata": {
        "id": "Ul_RHsHNogdw"
      },
      "source": [
        "Convert all the lists (date list and value list) in Pandas DataFrame, then, visualize the list created"
      ]
    },
    {
      "cell_type": "code",
      "metadata": {
        "id": "sJ88MkFqoaz0"
      },
      "source": [
        "import pandas as pd\n",
        "\n",
        "data = pd.DataFrame({'date': date_list,\n",
        "                     'value': value_list})\n",
        "data"
      ],
      "execution_count": null,
      "outputs": []
    },
    {
      "cell_type": "markdown",
      "metadata": {
        "id": "CEVg-rWBGkDH"
      },
      "source": [
        "Draw everything in a chart using the altair library"
      ]
    },
    {
      "cell_type": "code",
      "metadata": {
        "id": "AIgHNcl2pJOj"
      },
      "source": [
        "import altair as alt\n",
        "\n",
        "alt.Chart(data).mark_line().encode(\n",
        "    y=alt.Y('value', sort=alt.EncodingSortField('value', order='descending')),\n",
        "    x='date'\n",
        ")"
      ],
      "execution_count": null,
      "outputs": []
    },
    {
      "cell_type": "code",
      "metadata": {
        "id": "lHJ_r7sQqAMI"
      },
      "source": [
        "# load an example dataset\n",
        "from vega_datasets import data\n",
        "cars = data.cars()\n",
        "\n",
        "# plot the dataset, referencing dataframe column names\n",
        "import altair as alt\n",
        "alt.Chart(cars).mark_point().encode(\n",
        "  x='Horsepower',\n",
        "  y='Miles_per_Gallon',\n",
        "  color='Origin'\n",
        ").interactive()"
      ],
      "execution_count": null,
      "outputs": []
    },
    {
      "cell_type": "code",
      "metadata": {
        "id": "rXneVPkaGCrA"
      },
      "source": [
        "import plotly.graph_objects as go\n",
        "\n",
        "fig = go.Figure(go.Scatter(x=date_list, y=list_of_float_value, mode=\"markers+lines\"))\n",
        "\n",
        "scatter = fig.data[0]\n",
        "\n",
        "def update_point(trace, points, selector):\n",
        "  print(\"Sleeping\")\n",
        "scatter.on_click(update_point)\n",
        "\n",
        "fig.show(renderer=\"colab\")"
      ],
      "execution_count": null,
      "outputs": []
    }
  ]
}