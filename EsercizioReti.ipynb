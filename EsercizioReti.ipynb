{
  "nbformat": 4,
  "nbformat_minor": 0,
  "metadata": {
    "colab": {
      "name": "EsercizioReti.ipynb",
      "private_outputs": true,
      "provenance": [],
      "collapsed_sections": [],
      "authorship_tag": "ABX9TyP7QKA0uuItKs5G84Uox8xa",
      "include_colab_link": true
    },
    "kernelspec": {
      "name": "python3",
      "display_name": "Python 3"
    },
    "accelerator": "GPU"
  },
  "cells": [
    {
      "cell_type": "markdown",
      "metadata": {
        "id": "view-in-github",
        "colab_type": "text"
      },
      "source": [
        "<a href=\"https://colab.research.google.com/github/Wang-Kevin900/DataVisualization/blob/main/EsercizioReti.ipynb\" target=\"_parent\"><img src=\"https://colab.research.google.com/assets/colab-badge.svg\" alt=\"Open In Colab\"/></a>"
      ]
    },
    {
      "cell_type": "markdown",
      "metadata": {
        "id": "ytCkpOk9_thE"
      },
      "source": [
        "Importing the various library needed to the program, importing the txt sheet where all the data are (format: date - hour - value) and lastly creating all the needed variable"
      ]
    },
    {
      "cell_type": "code",
      "metadata": {
        "id": "p97s3MLTysk0"
      },
      "source": [
        "from google.colab import files\n",
        "from datetime import datetime\n",
        "\n",
        "file_data = files.upload()\n",
        "valori = list(file_data.values());\n",
        "\n",
        "date_list = []\n",
        "value_list = []\n",
        "date_format = 10\n",
        "hour_format = 8\n",
        "\n",
        "string_of_data = \"\""
      ],
      "execution_count": null,
      "outputs": []
    },
    {
      "cell_type": "markdown",
      "metadata": {
        "id": "Jf69MNz7ASNJ"
      },
      "source": [
        "Rearrange all the data in sets of tuples "
      ]
    },
    {
      "cell_type": "code",
      "metadata": {
        "id": "yjp8sHFeASVH"
      },
      "source": [
        "for i in valori[0]:\n",
        "  if i == 13:\n",
        "    pass\n",
        "  elif i != 10:\n",
        "    string_of_data = string_of_data + chr(i);\n",
        "  else:\n",
        "    date_list.append(string_of_data[0:date_format+1+hour_format])\n",
        "    value_list.append(string_of_data[date_format+1+hour_format+1:])\n",
        "    string_of_data = \"\""
      ],
      "execution_count": null,
      "outputs": []
    },
    {
      "cell_type": "markdown",
      "metadata": {
        "id": "W5vdoOzpoNBO"
      },
      "source": [
        "Convert the value from string to float, also replace the \",\" in \".\" so that the casting is possible"
      ]
    },
    {
      "cell_type": "code",
      "metadata": {
        "id": "83POqhx_Mjge"
      },
      "source": [
        "list_of_float_value = []\n",
        "for item in value_list:\n",
        "    value = item.replace(\",\", \".\")\n",
        "    list_of_float_value.append(float(value))\n",
        "\n",
        "value_list = list_of_float_value"
      ],
      "execution_count": null,
      "outputs": []
    },
    {
      "cell_type": "markdown",
      "metadata": {
        "id": "JlH_e6Y9jW-U"
      },
      "source": [
        "Convert the value from string to datetime format\n"
      ]
    },
    {
      "cell_type": "code",
      "metadata": {
        "id": "858gqruXgyh0"
      },
      "source": [
        "#from datetime import datetime\n",
        "\n",
        "#list_of_date_value = []\n",
        "#for item in date_list:\n",
        "#    list_of_date_value.append(datetime.strptime(item, '%d-%m-%Y %H:%M:%S'))\n",
        "\n",
        "#date_list = list_of_date_value"
      ],
      "execution_count": null,
      "outputs": []
    },
    {
      "cell_type": "markdown",
      "metadata": {
        "id": "Ul_RHsHNogdw"
      },
      "source": [
        "Convert all the lists (date list and value list) in Pandas DataFrame, then, visualize the list created"
      ]
    },
    {
      "cell_type": "code",
      "metadata": {
        "id": "sJ88MkFqoaz0"
      },
      "source": [
        "import pandas as pd\n",
        "\n",
        "data = pd.DataFrame({'date': date_list,\n",
        "                     'value': value_list})\n",
        "\n",
        "data"
      ],
      "execution_count": null,
      "outputs": []
    },
    {
      "cell_type": "markdown",
      "metadata": {
        "id": "CEVg-rWBGkDH"
      },
      "source": [
        "Draw everything in a chart using the altair library"
      ]
    },
    {
      "cell_type": "code",
      "metadata": {
        "id": "AIgHNcl2pJOj"
      },
      "source": [
        "import altair as alt\n",
        "\n",
        "brush = alt.selection_interval(encodings=['x'])\n",
        "\n",
        "color = alt.condition(brush, alt.value('blue'), alt.value('lightgray'))\n",
        "\n",
        "chart = alt.Chart(data).mark_line(point={\n",
        "    \"filled\": False,\n",
        "    \"fill\": 'white'\n",
        "    }).encode(\n",
        "        y=alt.Y('value', sort=alt.EncodingSortField('value', order='descending')),\n",
        "        x='date',\n",
        "        color=color\n",
        ").add_selection(\n",
        "    brush\n",
        ")\n",
        "\n",
        "chart"
      ],
      "execution_count": null,
      "outputs": []
    },
    {
      "cell_type": "code",
      "metadata": {
        "id": "2ULy9Ixrc0cW"
      },
      "source": [
        "def visualize(display_df):\n",
        "        viridis = ['#440154', '#472c7a', '#3b518b', '#2c718e', '#21908d', '#27ad81', '#5cc863', '#aadc32', '#fde725']\n",
        "        import altair as alt\n",
        "        color_scale = alt.Scale(\n",
        "            domain=(display_df.dropna().trending.min(),\n",
        "                    0,\n",
        "                    display_df.dropna().trending.max()),\n",
        "            range=[viridis[0], viridis[len(viridis) // 2], viridis[-1]]\n",
        "        )\n",
        "\n",
        "        return alt.Chart(display_df).mark_circle().encode(\n",
        "            alt.X('variable'),\n",
        "            alt.Y('term'),\n",
        "            size='frequency',\n",
        "            color=alt.Color('trending:Q', scale=color_scale),\n",
        "        ) "
      ],
      "execution_count": null,
      "outputs": []
    },
    {
      "cell_type": "code",
      "metadata": {
        "id": "rXneVPkaGCrA"
      },
      "source": [
        "import plotly.graph_objects as go\n",
        "\n",
        "fig = go.Figure(go.Scatter(x=date_list, y=list_of_float_value, mode=\"markers+lines\"))\n",
        "\n",
        "scatter = fig.data[0]\n",
        "\n",
        "def update_point(trace, points, selector):\n",
        "  print(\"Sleeping\")\n",
        "scatter.on_click(update_point)\n",
        "\n",
        "fig.show(renderer=\"colab\")"
      ],
      "execution_count": null,
      "outputs": []
    }
  ]
}