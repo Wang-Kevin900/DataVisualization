{
  "nbformat": 4,
  "nbformat_minor": 0,
  "metadata": {
    "colab": {
      "name": "EsercizioReti.ipynb",
      "provenance": [],
      "collapsed_sections": [
        "LXiGzH3ubsQF"
      ],
      "include_colab_link": true
    },
    "kernelspec": {
      "name": "python3",
      "display_name": "Python 3"
    },
    "accelerator": "GPU"
  },
  "cells": [
    {
      "cell_type": "markdown",
      "metadata": {
        "id": "view-in-github",
        "colab_type": "text"
      },
      "source": [
        "<a href=\"https://colab.research.google.com/github/Wang-Kevin900/DataVisualization/blob/main/EsercizioReti.ipynb\" target=\"_parent\"><img src=\"https://colab.research.google.com/assets/colab-badge.svg\" alt=\"Open In Colab\"/></a>"
      ]
    },
    {
      "cell_type": "markdown",
      "metadata": {
        "id": "GUDrvVDi65qA"
      },
      "source": [
        "# Setup libraries"
      ]
    },
    {
      "cell_type": "code",
      "metadata": {
        "id": "OY_oA_b-6-z4",
        "colab": {
          "base_uri": "https://localhost:8080/"
        },
        "outputId": "24d853e1-22da-4b1c-8f5b-429e004f9a51"
      },
      "source": [
        "!pip install bokeh\r\n",
        "!pip install altair\r\n",
        "!pip install plotly\r\n",
        "!pip install pandas\r\n",
        "!pip install datetime"
      ],
      "execution_count": 40,
      "outputs": [
        {
          "output_type": "stream",
          "text": [
            "Requirement already satisfied: bokeh in /usr/local/lib/python3.6/dist-packages (2.1.1)\n",
            "Requirement already satisfied: PyYAML>=3.10 in /usr/local/lib/python3.6/dist-packages (from bokeh) (3.13)\n",
            "Requirement already satisfied: tornado>=5.1 in /usr/local/lib/python3.6/dist-packages (from bokeh) (5.1.1)\n",
            "Requirement already satisfied: numpy>=1.11.3 in /usr/local/lib/python3.6/dist-packages (from bokeh) (1.19.4)\n",
            "Requirement already satisfied: python-dateutil>=2.1 in /usr/local/lib/python3.6/dist-packages (from bokeh) (2.8.1)\n",
            "Requirement already satisfied: Jinja2>=2.7 in /usr/local/lib/python3.6/dist-packages (from bokeh) (2.11.2)\n",
            "Requirement already satisfied: pillow>=4.0 in /usr/local/lib/python3.6/dist-packages (from bokeh) (7.0.0)\n",
            "Requirement already satisfied: packaging>=16.8 in /usr/local/lib/python3.6/dist-packages (from bokeh) (20.8)\n",
            "Requirement already satisfied: typing-extensions>=3.7.4 in /usr/local/lib/python3.6/dist-packages (from bokeh) (3.7.4.3)\n",
            "Requirement already satisfied: six>=1.5 in /usr/local/lib/python3.6/dist-packages (from python-dateutil>=2.1->bokeh) (1.15.0)\n",
            "Requirement already satisfied: MarkupSafe>=0.23 in /usr/local/lib/python3.6/dist-packages (from Jinja2>=2.7->bokeh) (1.1.1)\n",
            "Requirement already satisfied: pyparsing>=2.0.2 in /usr/local/lib/python3.6/dist-packages (from packaging>=16.8->bokeh) (2.4.7)\n",
            "Requirement already satisfied: altair in /usr/local/lib/python3.6/dist-packages (4.1.0)\n",
            "Requirement already satisfied: jsonschema in /usr/local/lib/python3.6/dist-packages (from altair) (2.6.0)\n",
            "Requirement already satisfied: numpy in /usr/local/lib/python3.6/dist-packages (from altair) (1.19.4)\n",
            "Requirement already satisfied: toolz in /usr/local/lib/python3.6/dist-packages (from altair) (0.11.1)\n",
            "Requirement already satisfied: jinja2 in /usr/local/lib/python3.6/dist-packages (from altair) (2.11.2)\n",
            "Requirement already satisfied: pandas>=0.18 in /usr/local/lib/python3.6/dist-packages (from altair) (1.1.5)\n",
            "Requirement already satisfied: entrypoints in /usr/local/lib/python3.6/dist-packages (from altair) (0.3)\n",
            "Requirement already satisfied: MarkupSafe>=0.23 in /usr/local/lib/python3.6/dist-packages (from jinja2->altair) (1.1.1)\n",
            "Requirement already satisfied: python-dateutil>=2.7.3 in /usr/local/lib/python3.6/dist-packages (from pandas>=0.18->altair) (2.8.1)\n",
            "Requirement already satisfied: pytz>=2017.2 in /usr/local/lib/python3.6/dist-packages (from pandas>=0.18->altair) (2018.9)\n",
            "Requirement already satisfied: six>=1.5 in /usr/local/lib/python3.6/dist-packages (from python-dateutil>=2.7.3->pandas>=0.18->altair) (1.15.0)\n",
            "Requirement already satisfied: plotly in /usr/local/lib/python3.6/dist-packages (4.4.1)\n",
            "Requirement already satisfied: retrying>=1.3.3 in /usr/local/lib/python3.6/dist-packages (from plotly) (1.3.3)\n",
            "Requirement already satisfied: six in /usr/local/lib/python3.6/dist-packages (from plotly) (1.15.0)\n",
            "Requirement already satisfied: pandas in /usr/local/lib/python3.6/dist-packages (1.1.5)\n",
            "Requirement already satisfied: python-dateutil>=2.7.3 in /usr/local/lib/python3.6/dist-packages (from pandas) (2.8.1)\n",
            "Requirement already satisfied: pytz>=2017.2 in /usr/local/lib/python3.6/dist-packages (from pandas) (2018.9)\n",
            "Requirement already satisfied: numpy>=1.15.4 in /usr/local/lib/python3.6/dist-packages (from pandas) (1.19.4)\n",
            "Requirement already satisfied: six>=1.5 in /usr/local/lib/python3.6/dist-packages (from python-dateutil>=2.7.3->pandas) (1.15.0)\n",
            "Requirement already satisfied: datetime in /usr/local/lib/python3.6/dist-packages (4.3)\n",
            "Requirement already satisfied: pytz in /usr/local/lib/python3.6/dist-packages (from datetime) (2018.9)\n",
            "Requirement already satisfied: zope.interface in /usr/local/lib/python3.6/dist-packages (from datetime) (5.2.0)\n",
            "Requirement already satisfied: setuptools in /usr/local/lib/python3.6/dist-packages (from zope.interface->datetime) (50.3.2)\n"
          ],
          "name": "stdout"
        }
      ]
    },
    {
      "cell_type": "markdown",
      "metadata": {
        "id": "PMMQ_L7Qb6Vu"
      },
      "source": [
        "# Get data"
      ]
    },
    {
      "cell_type": "markdown",
      "metadata": {
        "id": "ytCkpOk9_thE"
      },
      "source": [
        "Importing the various library needed to the program, importing the txt sheet where all the data are (format: date - hour - value) (as long there's new line to indicate that a set of value is done, the program will work no matter how the data is placed in the datasheet, it is fault resistant) and lastly creating all the needed variable"
      ]
    },
    {
      "cell_type": "code",
      "metadata": {
        "id": "p97s3MLTysk0",
        "colab": {
          "resources": {
            "http://localhost:8080/nbextensions/google.colab/files.js": {
              "data": "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",
              "ok": true,
              "headers": [
                [
                  "content-type",
                  "application/javascript"
                ]
              ],
              "status": 200,
              "status_text": ""
            }
          },
          "base_uri": "https://localhost:8080/",
          "height": 72
        },
        "outputId": "3144d738-cf20-4b27-e873-a0ec60e8a104"
      },
      "source": [
        "from google.colab import files\n",
        "from datetime import datetime\n",
        "\n",
        "# get the data from the text file\n",
        "file_data = files.upload()\n",
        "# trasform the data got from the txt file to list, \n",
        "# so that in the next FOR cycle for trasforming the data is easier to read letter per letter\n",
        "string_datatext_value = list(file_data.values());"
      ],
      "execution_count": 41,
      "outputs": [
        {
          "output_type": "display_data",
          "data": {
            "text/html": [
              "\n",
              "     <input type=\"file\" id=\"files-49d63d74-7385-493e-a12c-a09caec7931c\" name=\"files[]\" multiple disabled\n",
              "        style=\"border:none\" />\n",
              "     <output id=\"result-49d63d74-7385-493e-a12c-a09caec7931c\">\n",
              "      Upload widget is only available when the cell has been executed in the\n",
              "      current browser session. Please rerun this cell to enable.\n",
              "      </output>\n",
              "      <script src=\"/nbextensions/google.colab/files.js\"></script> "
            ],
            "text/plain": [
              "<IPython.core.display.HTML object>"
            ]
          },
          "metadata": {
            "tags": []
          }
        },
        {
          "output_type": "stream",
          "text": [
            "Saving Dati1.txt to Dati1 (5).txt\n"
          ],
          "name": "stdout"
        }
      ]
    },
    {
      "cell_type": "markdown",
      "metadata": {
        "id": "C490lpURb-UK"
      },
      "source": [
        "# Trasform Data"
      ]
    },
    {
      "cell_type": "markdown",
      "metadata": {
        "id": "cOUkzqrgdYH4"
      },
      "source": [
        "Preparing the needed variable to trasform the data read from the datasheet, to lists"
      ]
    },
    {
      "cell_type": "code",
      "metadata": {
        "id": "6fQWTMrNdXVg"
      },
      "source": [
        "# variable that indicate the number of symbols that compose a date&time\r\n",
        "date_format = 10\r\n",
        "time_format = 8\r\n",
        "\r\n",
        "# variable that will store every symbol read from the datasheet\r\n",
        "buffer_of_data = \"\"\r\n",
        "\r\n",
        "# variable that will store any complete data with any of the following format (date, time, float)\r\n",
        "single_string_list_of_data = []\r\n",
        "\r\n",
        "# once a single line of data (couple of data) is done being stored, \r\n",
        "# divide them (because later they will be trasformed in a pandas dataframe)\r\n",
        "list_of_datetime = []\r\n",
        "list_of_float = []\r\n",
        "\r\n",
        "# divide a single line of data of the datasheet in 3 section, where each section has the following meaning,\r\n",
        "# Date, Time, Float; what this variable do, is basically acting as index \r\n",
        "# to indicate wich section we are currently reading in the datasheet\r\n",
        "single_index_data_value = 0"
      ],
      "execution_count": 42,
      "outputs": []
    },
    {
      "cell_type": "markdown",
      "metadata": {
        "id": "Jf69MNz7ASNJ"
      },
      "source": [
        "Rearranging all the data in 2 list (datatime and float), while also doing the casting from string to the needed type"
      ]
    },
    {
      "cell_type": "code",
      "metadata": {
        "id": "wM_sz2jfPOdz"
      },
      "source": [
        "from datetime import datetime\r\n",
        "\r\n",
        "# go through all the data, and return a list of the various couples of data\r\n",
        "for i in string_datatext_value[0]:\r\n",
        "  # 32 is a value ascii that means \"Space\"\r\n",
        "  # 9 is a value ascii that means \"Tab\"\r\n",
        "  # 13 is a value ascii that means \"Carriage Return\"\r\n",
        "  # 10 is a value ascii that means \"New Line\"\r\n",
        "  # Ignore all the \"special symbols\", and just get all the \"interesting\" data\r\n",
        "  if i != 32 and i != 9 and i != 13:\r\n",
        "    # read from string of data (taken from the datasheet) and store it\r\n",
        "    buffer_of_data = buffer_of_data + chr(i);\r\n",
        "\r\n",
        "    # if we are currently in the first section (date section)...\r\n",
        "    if single_index_data_value == 0:\r\n",
        "      # if the lenght of the collected data reached the date format, that means that we are done with the date section,\r\n",
        "      # also it means that the casting is possible\r\n",
        "      if len(buffer_of_data) == date_format:\r\n",
        "        single_string_list_of_data.append(datetime.strptime(buffer_of_data, \"%d-%m-%Y\").date())\r\n",
        "\r\n",
        "        # reset the buffer and pass to the next section\r\n",
        "        buffer_of_data = \"\"\r\n",
        "        single_index_data_value+=1\r\n",
        "\r\n",
        "    # if we are currently in the second section (time section)...\r\n",
        "    elif single_index_data_value == 1:\r\n",
        "      # if the lenght of the collected data reached the time format, that means that we are done with the time section,\r\n",
        "      # also it means that the casting is possible\r\n",
        "      if len(buffer_of_data) == time_format:\r\n",
        "        single_string_list_of_data.append(datetime.strptime(buffer_of_data, \"%H:%M:%S\").time())\r\n",
        "\r\n",
        "        # reset the buffer and pass to the next section\r\n",
        "        buffer_of_data = \"\"\r\n",
        "        single_index_data_value+=1\r\n",
        "\r\n",
        "    # if we are currently in the third section (float section)...\r\n",
        "    elif single_index_data_value == 2:\r\n",
        "      # if we detect a 10 (in ASCII means \"new line\"), that means we're done reading a single line of data\r\n",
        "      # and that we are done to also reading a single couple of data\r\n",
        "      if i == 10:\r\n",
        "        # Add the string to the string of data while also,\r\n",
        "        # Converting the value from string to float and replacing the \",\" in \".\" so that the casting is possible\r\n",
        "        single_string_list_of_data.append(float(buffer_of_data.replace(\",\", \".\")))\r\n",
        "\r\n",
        "        # divide the couple of data into 2 different lists to prepare them to be converted into pandas dataframe\r\n",
        "        list_of_datetime.append(datetime.combine(single_string_list_of_data[0], single_string_list_of_data[1]))\r\n",
        "        list_of_float.append(single_string_list_of_data[2])\r\n",
        "\r\n",
        "        # reset the buffer and the single string of data list and return to the first section to read more data of other lines\r\n",
        "        buffer_of_data = \"\"\r\n",
        "        single_string_list_of_data.clear()\r\n",
        "        single_index_data_value = 0\r\n",
        "\r\n",
        "# add items for the last time in the list if the last element in the txt file doesn't have \\n \r\n",
        "# (the consequence is that the for loop is unable to store the last couple of data)\r\n",
        "if string_datatext_value[0][len(string_datatext_value)-1] != 10:\r\n",
        "  single_string_list_of_data.append(float(buffer_of_data.replace(\",\", \".\")))\r\n",
        "  list_of_datetime.append(datetime.combine(single_string_list_of_data[0], single_string_list_of_data[1]))\r\n",
        "  list_of_float.append(single_string_list_of_data[2])"
      ],
      "execution_count": 43,
      "outputs": []
    },
    {
      "cell_type": "markdown",
      "metadata": {
        "id": "Ul_RHsHNogdw"
      },
      "source": [
        "Convert all the lists (date list and value list) in Pandas DataFrame, then, visualize the list created"
      ]
    },
    {
      "cell_type": "code",
      "metadata": {
        "id": "sJ88MkFqoaz0",
        "colab": {
          "base_uri": "https://localhost:8080/",
          "height": 419
        },
        "outputId": "905da349-1125-4a63-f9a7-ba6f1c677c35"
      },
      "source": [
        "import pandas as pd\n",
        "\n",
        "# convert the 2 lists in a pandas dataframe\n",
        "data = pd.DataFrame({'date': list_of_datetime,\n",
        "                     'value': list_of_float})\n",
        "\n",
        "# print out the datagram\n",
        "data"
      ],
      "execution_count": 44,
      "outputs": [
        {
          "output_type": "execute_result",
          "data": {
            "text/html": [
              "<div>\n",
              "<style scoped>\n",
              "    .dataframe tbody tr th:only-of-type {\n",
              "        vertical-align: middle;\n",
              "    }\n",
              "\n",
              "    .dataframe tbody tr th {\n",
              "        vertical-align: top;\n",
              "    }\n",
              "\n",
              "    .dataframe thead th {\n",
              "        text-align: right;\n",
              "    }\n",
              "</style>\n",
              "<table border=\"1\" class=\"dataframe\">\n",
              "  <thead>\n",
              "    <tr style=\"text-align: right;\">\n",
              "      <th></th>\n",
              "      <th>date</th>\n",
              "      <th>value</th>\n",
              "    </tr>\n",
              "  </thead>\n",
              "  <tbody>\n",
              "    <tr>\n",
              "      <th>0</th>\n",
              "      <td>2020-11-08 00:10:03</td>\n",
              "      <td>2.8</td>\n",
              "    </tr>\n",
              "    <tr>\n",
              "      <th>1</th>\n",
              "      <td>2020-11-08 00:30:03</td>\n",
              "      <td>5.2</td>\n",
              "    </tr>\n",
              "    <tr>\n",
              "      <th>2</th>\n",
              "      <td>2020-11-08 00:50:05</td>\n",
              "      <td>6.6</td>\n",
              "    </tr>\n",
              "    <tr>\n",
              "      <th>3</th>\n",
              "      <td>2020-11-08 01:10:03</td>\n",
              "      <td>3.0</td>\n",
              "    </tr>\n",
              "    <tr>\n",
              "      <th>4</th>\n",
              "      <td>2020-11-08 01:30:04</td>\n",
              "      <td>1.5</td>\n",
              "    </tr>\n",
              "    <tr>\n",
              "      <th>...</th>\n",
              "      <td>...</td>\n",
              "      <td>...</td>\n",
              "    </tr>\n",
              "    <tr>\n",
              "      <th>67</th>\n",
              "      <td>2020-11-08 22:30:04</td>\n",
              "      <td>1.4</td>\n",
              "    </tr>\n",
              "    <tr>\n",
              "      <th>68</th>\n",
              "      <td>2020-11-08 22:50:09</td>\n",
              "      <td>1.5</td>\n",
              "    </tr>\n",
              "    <tr>\n",
              "      <th>69</th>\n",
              "      <td>2020-11-08 23:10:02</td>\n",
              "      <td>1.6</td>\n",
              "    </tr>\n",
              "    <tr>\n",
              "      <th>70</th>\n",
              "      <td>2020-11-08 23:30:03</td>\n",
              "      <td>0.5</td>\n",
              "    </tr>\n",
              "    <tr>\n",
              "      <th>71</th>\n",
              "      <td>2020-11-08 23:50:05</td>\n",
              "      <td>1.3</td>\n",
              "    </tr>\n",
              "  </tbody>\n",
              "</table>\n",
              "<p>72 rows × 2 columns</p>\n",
              "</div>"
            ],
            "text/plain": [
              "                  date  value\n",
              "0  2020-11-08 00:10:03    2.8\n",
              "1  2020-11-08 00:30:03    5.2\n",
              "2  2020-11-08 00:50:05    6.6\n",
              "3  2020-11-08 01:10:03    3.0\n",
              "4  2020-11-08 01:30:04    1.5\n",
              "..                 ...    ...\n",
              "67 2020-11-08 22:30:04    1.4\n",
              "68 2020-11-08 22:50:09    1.5\n",
              "69 2020-11-08 23:10:02    1.6\n",
              "70 2020-11-08 23:30:03    0.5\n",
              "71 2020-11-08 23:50:05    1.3\n",
              "\n",
              "[72 rows x 2 columns]"
            ]
          },
          "metadata": {
            "tags": []
          },
          "execution_count": 44
        }
      ]
    },
    {
      "cell_type": "markdown",
      "metadata": {
        "id": "QdWeg8krcwVE"
      },
      "source": [
        "# Draw Chart"
      ]
    },
    {
      "cell_type": "markdown",
      "metadata": {
        "id": "ZurDLmLdckQa"
      },
      "source": [
        "Draw the Chart using the Bokeh library (the reason why i used this library is because it is easily customizable and it supports the callback event, in wich though, you have to write the code in JS; there is a method to convert some data from JS data kernel to Python data kernel by using IPython, but because of google colab enviroment, wich for some reason doesn't work, it is not possible. (a solution is to install and use Jupyter Notebook))"
      ]
    },
    {
      "cell_type": "code",
      "metadata": {
        "id": "jByfhOKU01MO",
        "colab": {
          "base_uri": "https://localhost:8080/",
          "height": 418
        },
        "outputId": "13d60f5e-d7b9-4389-f4ba-e592c531648d"
      },
      "source": [
        "from bokeh.plotting import figure, output_file, show\n",
        "from bokeh.io import output_notebook\n",
        "from bokeh.models import ColumnDataSource, CustomJS, Button\n",
        "from bokeh.models.tools import *\n",
        "from bokeh.models.widgets import DataTable, TableColumn, DateFormatter\n",
        "from bokeh.layouts import row, column\n",
        "\n",
        "\n",
        "# Configure the default output state to generate output in notebook cells when show() is called. \n",
        "output_notebook()\n",
        "\n",
        "# ColumnDataSource is a special object, wich it is easy to share data between multiple plots and widgets\n",
        "# Also the same ColumnDataSource is used to drive multiple renderers, selections of the data source are also shared.\n",
        "source = ColumnDataSource(data)\n",
        "\n",
        "# select the desired tool that can be used with the chart\n",
        "chart_tools=\"pan,wheel_zoom,reset,hover,poly_select,box_select\"\n",
        "tooltip = HoverTool(\n",
        "    # specify wich type of info i want to show\n",
        "    tooltips=[\n",
        "        (\"index\", \"$index\"),\n",
        "        (\"Value\", \"@value{0.2f}\"),\n",
        "        (\"Date\", \"@date{%F}\"),\n",
        "    ],\n",
        "    # format the date in datetime type (the default is numerical format)\n",
        "    formatters={\n",
        "        '@date': 'datetime'\n",
        "    },\n",
        "    # display a tooltip whenever the cursor is vertically in line with a data point\n",
        "    mode='vline'\n",
        ")\n",
        "\n",
        "# prepare the chart with the selected options, and add the tooltip too\n",
        "chart = figure(title='Data Visualization', plot_width=700, plot_height=350, y_axis_label='Values', x_axis_label='Date', x_axis_type='datetime',\n",
        "           tools=chart_tools, toolbar_location='above', tooltips=\"\")\n",
        "chart.add_tools(tooltip)\n",
        "\n",
        "# draw in the chart both line and circle, so that the obtained effect is that of linked points\n",
        "symbol1 = chart.line(x='date', y='value', line_width=2, source=source)\n",
        "symbol2 = chart.circle(x='date', y='value', fill_color=\"white\", size=6, source=source)\n",
        "\n",
        "\n",
        "# create table\n",
        "source_table = ColumnDataSource(data=dict(\n",
        "    Start_date=[],\n",
        "    End_date=[],\n",
        "    Max_value=[],\n",
        "    Average_value=[],\n",
        "    Area=[]\n",
        "))\n",
        "\n",
        "columns = [\n",
        "        TableColumn(field=\"Start_date\", title=\"Start_date\", formatter=DateFormatter(format=\"%m/%d/%Y - %H:%M:%S\")),\n",
        "        TableColumn(field=\"End_date\", title=\"End_date\", formatter=DateFormatter(format=\"%m/%d/%Y - %H:%M:%S\")),\n",
        "        TableColumn(field=\"Max_value\", title=\"Max_value\"),\n",
        "        TableColumn(field=\"Average_value\", title=\"Average_value\"),\n",
        "        TableColumn(field=\"Area\", title=\"Area\")\n",
        "    ]\n",
        "\n",
        "data_table = DataTable(columns=columns, source=source_table, width=700, height=300)\n",
        "\n",
        "# Execute the JS code when the user select any data in the chart with the box select tool\n",
        "source.selected.js_on_change(\"indices\", CustomJS(args=dict(source=source, source_table=source_table), code=\"\"\"\n",
        "        // get the indices of the selectd data and sort them in ascending order\n",
        "        var inds = cb_obj.indices\n",
        "        inds.sort(function(a, b){return a-b})\n",
        "\n",
        "\n",
        "        // if the array is not empty (if it is empy, it means that no elements has been selected (occurs when the user select no element after having selected some element), \n",
        "        // with the consequence of not adding any element)\n",
        "        if (inds.length != 0){\n",
        "          // create various variable to store the data from the source (ColumnDataSource object)\n",
        "          var d1 = source.data\n",
        "          var d2 = source_table.data\n",
        "\n",
        "\n",
        "          // get the first and end date (no need to any particular calculus because each data is already in order and unique)\n",
        "          // (for some reason the converted date has 1 hour added to it, but in this program, it isn't a problem)\n",
        "          var start_date = new Date(d1[\"date\"][0])\n",
        "          var end_date = new Date(d1[\"date\"][inds.length-1])\n",
        "\n",
        "\n",
        "          // get max value\n",
        "          var max_value\n",
        "          for(var i = 0; i < inds.length; i++) {\n",
        "              if(i == 0) {\n",
        "                max_value = d1[\"value\"][inds[i]]\n",
        "              } else {\n",
        "                if(max_value < d1[\"value\"][inds[i]]){\n",
        "                  max_value = (d1[\"value\"][inds[i]]).toFixed(2)\n",
        "                }\n",
        "              }\n",
        "          }\n",
        "\n",
        "\n",
        "          // get average value\n",
        "          var avarage_value = 0.00\n",
        "          for(var i = 0; i < inds.length; i++) {\n",
        "              avarage_value = avarage_value + d1[\"value\"][inds[i]]\n",
        "          }\n",
        "          avarage_value = (avarage_value/inds.length).toFixed(2)\n",
        "\n",
        "\n",
        "          // calculate the area (by using trapezoid)(consider the value in minutes)\n",
        "          var area = 0.00\n",
        "          var minute_list = []\n",
        "          \n",
        "          // for loop to get the minute value of each element\n",
        "          // (for some reason the converted date has 1 hour added to it, and in the seconds section, 2 seconds added so we remove them)\n",
        "          for(var i = 0; i < inds.length; i++) {\n",
        "              var date = new Date(d1[\"date\"][inds[i]])\n",
        "              var total_minutes = ((date.getHours()-1) * 60) + date.getMinutes() + ((date.getSeconds()-2) / 60)\n",
        "\n",
        "              minute_list.push((total_minutes).toFixed(2))\n",
        "          }\n",
        "\n",
        "          // calculate the area of the trapezoid (the sum of the two bases (we count the value as minutes) * h (difference between the dates in minutess) / 2)\n",
        "          for(var i = 0; i < (inds.length-1); i++) {\n",
        "              area = area + ((d1[\"value\"][inds[i]] + d1[\"value\"][inds[i+1]]) * (minute_list[i+1] - minute_list[i])) / 2\n",
        "          }\n",
        "          // set the number of decimals to 2\n",
        "          area = parseFloat(area).toFixed(2);\n",
        "\n",
        "\n",
        "          // push all the data in the source of the data_table\n",
        "          d2[\"Start_date\"].push(start_date)\n",
        "          d2[\"End_date\"].push(end_date)\n",
        "          d2[\"Max_value\"].push(max_value)\n",
        "          d2[\"Average_value\"].push(avarage_value)\n",
        "          d2[\"Area\"].push(area)\n",
        "\n",
        "\n",
        "          // update the table (this function notify that something has changed, and to immediately update the values and UI)\n",
        "          source_table.change.emit()\n",
        "        }\n",
        "        \"\"\"\n",
        "))\n",
        "\n",
        "save_button = Button(label=\"Save Data!\", button_type=\"success\", height=50)\n",
        "save_button.js_on_click(CustomJS(code=\"console.log('button: click!', this.toString())\"))\n",
        "\n",
        "\n",
        "# visualize the chart in the output\n",
        "layout = row(chart, column(data_table, save_button))\n",
        "show(layout)"
      ],
      "execution_count": 60,
      "outputs": [
        {
          "output_type": "stream",
          "text": [
            "ERROR:root:An unexpected error occurred while tokenizing input\n",
            "The following traceback may be corrupted or invalid\n",
            "The error message is: ('EOF in multi-line string', (1, 4))\n",
            "\n"
          ],
          "name": "stderr"
        },
        {
          "output_type": "error",
          "ename": "AttributeError",
          "evalue": "ignored",
          "traceback": [
            "\u001b[0;31m---------------------------------------------------------------------------\u001b[0m",
            "\u001b[0;31mAttributeError\u001b[0m                            Traceback (most recent call last)",
            "\u001b[0;32m<ipython-input-60-a43aacfb7664>\u001b[0m in \u001b[0;36m<module>\u001b[0;34m()\u001b[0m\n\u001b[1;32m    153\u001b[0m     \u001b[0melem\u001b[0m\u001b[0;34m.\u001b[0m\u001b[0mclick\u001b[0m\u001b[0;34m(\u001b[0m\u001b[0;34m)\u001b[0m\u001b[0;34m;\u001b[0m\u001b[0;34m\u001b[0m\u001b[0;34m\u001b[0m\u001b[0m\n\u001b[1;32m    154\u001b[0m     \u001b[0mdocument\u001b[0m\u001b[0;34m.\u001b[0m\u001b[0mbody\u001b[0m\u001b[0;34m.\u001b[0m\u001b[0mremoveChild\u001b[0m\u001b[0;34m(\u001b[0m\u001b[0melem\u001b[0m\u001b[0;34m)\u001b[0m\u001b[0;34m;\u001b[0m\u001b[0;34m\u001b[0m\u001b[0;34m\u001b[0m\u001b[0m\n\u001b[0;32m--> 155\u001b[0;31m     \"\"\"\n\u001b[0m\u001b[1;32m    156\u001b[0m )\n\u001b[1;32m    157\u001b[0m \u001b[0;34m\u001b[0m\u001b[0m\n",
            "\u001b[0;32m/usr/local/lib/python3.6/dist-packages/bokeh/core/has_props.py\u001b[0m in \u001b[0;36m__setattr__\u001b[0;34m(self, name, value)\u001b[0m\n\u001b[1;32m    280\u001b[0m \u001b[0;34m\u001b[0m\u001b[0m\n\u001b[1;32m    281\u001b[0m             raise AttributeError(\"unexpected attribute '%s' to %s, %s attributes are %s\" %\n\u001b[0;32m--> 282\u001b[0;31m                 (name, self.__class__.__name__, text, nice_join(matches)))\n\u001b[0m\u001b[1;32m    283\u001b[0m \u001b[0;34m\u001b[0m\u001b[0m\n\u001b[1;32m    284\u001b[0m     \u001b[0;32mdef\u001b[0m \u001b[0m__str__\u001b[0m\u001b[0;34m(\u001b[0m\u001b[0mself\u001b[0m\u001b[0;34m)\u001b[0m\u001b[0;34m:\u001b[0m\u001b[0;34m\u001b[0m\u001b[0;34m\u001b[0m\u001b[0m\n",
            "\u001b[0;31mAttributeError\u001b[0m: unexpected attribute 'callback' to Button, similar attributes are js_event_callbacks"
          ]
        }
      ]
    },
    {
      "cell_type": "markdown",
      "metadata": {
        "id": "LXiGzH3ubsQF"
      },
      "source": [
        "# Other Library used to visualize data\r\n"
      ]
    },
    {
      "cell_type": "markdown",
      "metadata": {
        "id": "ZzsMtRJibjHH"
      },
      "source": [
        "Test of creating the chart using various libraries...\r\n"
      ]
    },
    {
      "cell_type": "markdown",
      "metadata": {
        "id": "MZPO-mU3cKR-"
      },
      "source": [
        "Draw everything in a chart using the altair library (i haven't used this library since it doesn't have any support for return the data selected)"
      ]
    },
    {
      "cell_type": "code",
      "metadata": {
        "id": "AIgHNcl2pJOj",
        "colab": {
          "base_uri": "https://localhost:8080/",
          "height": 0
        },
        "outputId": "df500039-8a99-4316-b01b-9988de1118f1"
      },
      "source": [
        "import altair as alt\n",
        "\n",
        "brush = alt.selection_interval(encodings=['x'])\n",
        "\n",
        "color = alt.condition(brush, alt.value('blue'), alt.value('lightgray'))\n",
        "\n",
        "chart = alt.Chart(data).mark_line(point={\n",
        "    \"filled\": False,\n",
        "    \"fill\": 'white'\n",
        "    }).encode(\n",
        "        y=alt.Y('value', sort=alt.EncodingSortField('value', order='descending')),\n",
        "        x='date',\n",
        "        color=color\n",
        ").add_selection(\n",
        "    brush\n",
        ")\n",
        "\n",
        "chart "
      ],
      "execution_count": 46,
      "outputs": [
        {
          "output_type": "execute_result",
          "data": {
            "text/plain": [
              "alt.Chart(...)"
            ],
            "text/html": [
              "\n",
              "<div id=\"altair-viz-59630c67afab4a5bb5fcb5c69ae27d92\"></div>\n",
              "<script type=\"text/javascript\">\n",
              "  (function(spec, embedOpt){\n",
              "    let outputDiv = document.currentScript.previousElementSibling;\n",
              "    if (outputDiv.id !== \"altair-viz-59630c67afab4a5bb5fcb5c69ae27d92\") {\n",
              "      outputDiv = document.getElementById(\"altair-viz-59630c67afab4a5bb5fcb5c69ae27d92\");\n",
              "    }\n",
              "    const paths = {\n",
              "      \"vega\": \"https://cdn.jsdelivr.net/npm//vega@5?noext\",\n",
              "      \"vega-lib\": \"https://cdn.jsdelivr.net/npm//vega-lib?noext\",\n",
              "      \"vega-lite\": \"https://cdn.jsdelivr.net/npm//vega-lite@4.8.1?noext\",\n",
              "      \"vega-embed\": \"https://cdn.jsdelivr.net/npm//vega-embed@6?noext\",\n",
              "    };\n",
              "\n",
              "    function loadScript(lib) {\n",
              "      return new Promise(function(resolve, reject) {\n",
              "        var s = document.createElement('script');\n",
              "        s.src = paths[lib];\n",
              "        s.async = true;\n",
              "        s.onload = () => resolve(paths[lib]);\n",
              "        s.onerror = () => reject(`Error loading script: ${paths[lib]}`);\n",
              "        document.getElementsByTagName(\"head\")[0].appendChild(s);\n",
              "      });\n",
              "    }\n",
              "\n",
              "    function showError(err) {\n",
              "      outputDiv.innerHTML = `<div class=\"error\" style=\"color:red;\">${err}</div>`;\n",
              "      throw err;\n",
              "    }\n",
              "\n",
              "    function displayChart(vegaEmbed) {\n",
              "      vegaEmbed(outputDiv, spec, embedOpt)\n",
              "        .catch(err => showError(`Javascript Error: ${err.message}<br>This usually means there's a typo in your chart specification. See the javascript console for the full traceback.`));\n",
              "    }\n",
              "\n",
              "    if(typeof define === \"function\" && define.amd) {\n",
              "      requirejs.config({paths});\n",
              "      require([\"vega-embed\"], displayChart, err => showError(`Error loading script: ${err.message}`));\n",
              "    } else if (typeof vegaEmbed === \"function\") {\n",
              "      displayChart(vegaEmbed);\n",
              "    } else {\n",
              "      loadScript(\"vega\")\n",
              "        .then(() => loadScript(\"vega-lite\"))\n",
              "        .then(() => loadScript(\"vega-embed\"))\n",
              "        .catch(showError)\n",
              "        .then(() => displayChart(vegaEmbed));\n",
              "    }\n",
              "  })({\"config\": {\"view\": {\"continuousWidth\": 400, \"continuousHeight\": 300}}, \"data\": {\"name\": \"data-3feda49fd5ca203eb0252c7aaacc324f\"}, \"mark\": {\"type\": \"line\", \"point\": {\"filled\": false, \"fill\": \"white\"}}, \"encoding\": {\"color\": {\"condition\": {\"value\": \"blue\", \"selection\": \"selector004\"}, \"value\": \"lightgray\"}, \"x\": {\"type\": \"temporal\", \"field\": \"date\"}, \"y\": {\"type\": \"quantitative\", \"field\": \"value\", \"sort\": {\"field\": \"value\", \"order\": \"descending\"}}}, \"selection\": {\"selector004\": {\"type\": \"interval\", \"encodings\": [\"x\"]}}, \"$schema\": \"https://vega.github.io/schema/vega-lite/v4.8.1.json\", \"datasets\": {\"data-3feda49fd5ca203eb0252c7aaacc324f\": [{\"date\": \"2020-11-08T00:10:03\", \"value\": 2.8}, {\"date\": \"2020-11-08T00:30:03\", \"value\": 5.2}, {\"date\": \"2020-11-08T00:50:05\", \"value\": 6.6}, {\"date\": \"2020-11-08T01:10:03\", \"value\": 3.0}, {\"date\": \"2020-11-08T01:30:04\", \"value\": 1.5}, {\"date\": \"2020-11-08T01:50:05\", \"value\": 3.6}, {\"date\": \"2020-11-08T02:10:02\", \"value\": 5.4}, {\"date\": \"2020-11-08T02:30:04\", \"value\": 6.9}, {\"date\": \"2020-11-08T02:50:08\", \"value\": 7.0}, {\"date\": \"2020-11-08T03:10:02\", \"value\": 2.2}, {\"date\": \"2020-11-08T03:30:04\", \"value\": 4.0}, {\"date\": \"2020-11-08T03:50:08\", \"value\": 5.3}, {\"date\": \"2020-11-08T04:10:02\", \"value\": 6.9}, {\"date\": \"2020-11-08T04:30:03\", \"value\": 6.4}, {\"date\": \"2020-11-08T04:50:09\", \"value\": 2.8}, {\"date\": \"2020-11-08T05:10:02\", \"value\": 4.7}, {\"date\": \"2020-11-08T05:30:03\", \"value\": 4.7}, {\"date\": \"2020-11-08T05:50:09\", \"value\": 6.7}, {\"date\": \"2020-11-08T06:10:03\", \"value\": 2.0}, {\"date\": \"2020-11-08T06:30:04\", \"value\": 4.4}, {\"date\": \"2020-11-08T06:50:04\", \"value\": 4.6}, {\"date\": \"2020-11-08T07:10:03\", \"value\": 5.1}, {\"date\": \"2020-11-08T07:30:04\", \"value\": 6.8}, {\"date\": \"2020-11-08T07:50:05\", \"value\": 1.6}, {\"date\": \"2020-11-08T08:10:03\", \"value\": 4.9}, {\"date\": \"2020-11-08T08:30:03\", \"value\": 6.9}, {\"date\": \"2020-11-08T08:50:05\", \"value\": 3.6}, {\"date\": \"2020-11-08T09:10:03\", \"value\": 5.2}, {\"date\": \"2020-11-08T09:30:03\", \"value\": 2.7}, {\"date\": \"2020-11-08T09:50:05\", \"value\": 4.4}, {\"date\": \"2020-11-08T10:10:03\", \"value\": 2.3}, {\"date\": \"2020-11-08T10:30:04\", \"value\": 6.5}, {\"date\": \"2020-11-08T10:50:09\", \"value\": 5.5}, {\"date\": \"2020-11-08T11:10:03\", \"value\": 6.5}, {\"date\": \"2020-11-08T11:30:04\", \"value\": 2.3}, {\"date\": \"2020-11-08T11:50:05\", \"value\": 3.1}, {\"date\": \"2020-11-08T12:10:04\", \"value\": 2.9}, {\"date\": \"2020-11-08T12:30:04\", \"value\": 5.6}, {\"date\": \"2020-11-08T12:50:05\", \"value\": 6.9}, {\"date\": \"2020-11-08T13:10:03\", \"value\": 5.5}, {\"date\": \"2020-11-08T13:30:03\", \"value\": 6.6}, {\"date\": \"2020-11-08T13:50:04\", \"value\": 1.9}, {\"date\": \"2020-11-08T14:10:02\", \"value\": 4.9}, {\"date\": \"2020-11-08T14:30:03\", \"value\": 6.5}, {\"date\": \"2020-11-08T14:50:05\", \"value\": 3.8}, {\"date\": \"2020-11-08T15:10:03\", \"value\": 5.3}, {\"date\": \"2020-11-08T15:30:03\", \"value\": 4.8}, {\"date\": \"2020-11-08T15:50:08\", \"value\": 2.3}, {\"date\": \"2020-11-08T16:10:03\", \"value\": 2.0}, {\"date\": \"2020-11-08T16:30:04\", \"value\": 4.4}, {\"date\": \"2020-11-08T16:50:09\", \"value\": 5.4}, {\"date\": \"2020-11-08T17:10:03\", \"value\": 4.7}, {\"date\": \"2020-11-08T17:30:05\", \"value\": 3.8}, {\"date\": \"2020-11-08T17:50:05\", \"value\": 7.0}, {\"date\": \"2020-11-08T18:10:04\", \"value\": 6.6}, {\"date\": \"2020-11-08T18:30:04\", \"value\": 2.0}, {\"date\": \"2020-11-08T18:50:06\", \"value\": 5.3}, {\"date\": \"2020-11-08T19:10:03\", \"value\": 7.0}, {\"date\": \"2020-11-08T19:30:04\", \"value\": 2.2}, {\"date\": \"2020-11-08T19:50:09\", \"value\": 2.7}, {\"date\": \"2020-11-08T20:10:03\", \"value\": 4.2}, {\"date\": \"2020-11-08T20:30:05\", \"value\": 1.5}, {\"date\": \"2020-11-08T20:50:10\", \"value\": -0.2}, {\"date\": \"2020-11-08T21:10:03\", \"value\": 2.5}, {\"date\": \"2020-11-08T21:30:03\", \"value\": 1.6}, {\"date\": \"2020-11-08T21:50:08\", \"value\": 1.6}, {\"date\": \"2020-11-08T22:10:03\", \"value\": 9.9}, {\"date\": \"2020-11-08T22:30:04\", \"value\": 1.4}, {\"date\": \"2020-11-08T22:50:09\", \"value\": 1.5}, {\"date\": \"2020-11-08T23:10:02\", \"value\": 1.6}, {\"date\": \"2020-11-08T23:30:03\", \"value\": 0.5}, {\"date\": \"2020-11-08T23:50:05\", \"value\": 1.3}]}}, {\"mode\": \"vega-lite\"});\n",
              "</script>"
            ]
          },
          "metadata": {
            "tags": []
          },
          "execution_count": 46
        }
      ]
    },
    {
      "cell_type": "markdown",
      "metadata": {
        "id": "iV5B9BQacL1b"
      },
      "source": [
        "Draw everything in a chart using the Plotly library (i haven't used this library since it doesn't have any support for return the data selected, an exemption is DASH that is the framework built-on this library, but using this, require a few tweaks)"
      ]
    },
    {
      "cell_type": "code",
      "metadata": {
        "id": "rXneVPkaGCrA",
        "colab": {
          "base_uri": "https://localhost:8080/",
          "height": 0
        },
        "outputId": "a3082abf-ab48-4704-f74a-87f13c937d81"
      },
      "source": [
        "import plotly.graph_objects as go\n",
        "\n",
        "fig = go.Figure(go.Scatter(x=data.date, y=data.value, mode=\"markers+lines\"))\n",
        "\n",
        "scatter = fig.data[0]\n",
        "\n",
        "def update_point(trace, points, selector):\n",
        "  print(\"Sleeping\")\n",
        "scatter.on_click(update_point)\n",
        "\n",
        "fig.show(renderer=\"colab\")"
      ],
      "execution_count": 47,
      "outputs": [
        {
          "output_type": "display_data",
          "data": {
            "text/html": [
              "<html>\n",
              "<head><meta charset=\"utf-8\" /></head>\n",
              "<body>\n",
              "    <div>\n",
              "            <script src=\"https://cdnjs.cloudflare.com/ajax/libs/mathjax/2.7.5/MathJax.js?config=TeX-AMS-MML_SVG\"></script><script type=\"text/javascript\">if (window.MathJax) {MathJax.Hub.Config({SVG: {font: \"STIX-Web\"}});}</script>\n",
              "                <script type=\"text/javascript\">window.PlotlyConfig = {MathJaxConfig: 'local'};</script>\n",
              "        <script src=\"https://cdn.plot.ly/plotly-latest.min.js\"></script>    \n",
              "            <div id=\"d7bea1c6-b45f-4497-8495-ba51841710db\" class=\"plotly-graph-div\" style=\"height:525px; width:100%;\"></div>\n",
              "            <script type=\"text/javascript\">\n",
              "                \n",
              "                    window.PLOTLYENV=window.PLOTLYENV || {};\n",
              "                    \n",
              "                if (document.getElementById(\"d7bea1c6-b45f-4497-8495-ba51841710db\")) {\n",
              "                    Plotly.newPlot(\n",
              "                        'd7bea1c6-b45f-4497-8495-ba51841710db',\n",
              "                        [{\"mode\": \"markers+lines\", \"type\": \"scatter\", \"x\": [\"2020-11-08T00:10:03\", \"2020-11-08T00:30:03\", \"2020-11-08T00:50:05\", \"2020-11-08T01:10:03\", \"2020-11-08T01:30:04\", \"2020-11-08T01:50:05\", \"2020-11-08T02:10:02\", \"2020-11-08T02:30:04\", \"2020-11-08T02:50:08\", \"2020-11-08T03:10:02\", \"2020-11-08T03:30:04\", \"2020-11-08T03:50:08\", \"2020-11-08T04:10:02\", \"2020-11-08T04:30:03\", \"2020-11-08T04:50:09\", \"2020-11-08T05:10:02\", \"2020-11-08T05:30:03\", \"2020-11-08T05:50:09\", \"2020-11-08T06:10:03\", \"2020-11-08T06:30:04\", \"2020-11-08T06:50:04\", \"2020-11-08T07:10:03\", \"2020-11-08T07:30:04\", \"2020-11-08T07:50:05\", \"2020-11-08T08:10:03\", \"2020-11-08T08:30:03\", \"2020-11-08T08:50:05\", \"2020-11-08T09:10:03\", \"2020-11-08T09:30:03\", \"2020-11-08T09:50:05\", \"2020-11-08T10:10:03\", \"2020-11-08T10:30:04\", \"2020-11-08T10:50:09\", \"2020-11-08T11:10:03\", \"2020-11-08T11:30:04\", \"2020-11-08T11:50:05\", \"2020-11-08T12:10:04\", \"2020-11-08T12:30:04\", \"2020-11-08T12:50:05\", \"2020-11-08T13:10:03\", \"2020-11-08T13:30:03\", \"2020-11-08T13:50:04\", \"2020-11-08T14:10:02\", \"2020-11-08T14:30:03\", \"2020-11-08T14:50:05\", \"2020-11-08T15:10:03\", \"2020-11-08T15:30:03\", \"2020-11-08T15:50:08\", \"2020-11-08T16:10:03\", \"2020-11-08T16:30:04\", \"2020-11-08T16:50:09\", \"2020-11-08T17:10:03\", \"2020-11-08T17:30:05\", \"2020-11-08T17:50:05\", \"2020-11-08T18:10:04\", \"2020-11-08T18:30:04\", \"2020-11-08T18:50:06\", \"2020-11-08T19:10:03\", \"2020-11-08T19:30:04\", \"2020-11-08T19:50:09\", \"2020-11-08T20:10:03\", \"2020-11-08T20:30:05\", \"2020-11-08T20:50:10\", \"2020-11-08T21:10:03\", \"2020-11-08T21:30:03\", \"2020-11-08T21:50:08\", \"2020-11-08T22:10:03\", \"2020-11-08T22:30:04\", \"2020-11-08T22:50:09\", \"2020-11-08T23:10:02\", \"2020-11-08T23:30:03\", \"2020-11-08T23:50:05\"], \"y\": [2.8, 5.2, 6.6, 3.0, 1.5, 3.6, 5.4, 6.9, 7.0, 2.2, 4.0, 5.3, 6.9, 6.4, 2.8, 4.7, 4.7, 6.7, 2.0, 4.4, 4.6, 5.1, 6.8, 1.6, 4.9, 6.9, 3.6, 5.2, 2.7, 4.4, 2.3, 6.5, 5.5, 6.5, 2.3, 3.1, 2.9, 5.6, 6.9, 5.5, 6.6, 1.9, 4.9, 6.5, 3.8, 5.3, 4.8, 2.3, 2.0, 4.4, 5.4, 4.7, 3.8, 7.0, 6.6, 2.0, 5.3, 7.0, 2.2, 2.7, 4.2, 1.5, -0.2, 2.5, 1.6, 1.6, 9.9, 1.4, 1.5, 1.6, 0.5, 1.3]}],\n",
              "                        {\"template\": {\"data\": {\"bar\": [{\"error_x\": {\"color\": \"#2a3f5f\"}, \"error_y\": {\"color\": \"#2a3f5f\"}, \"marker\": {\"line\": {\"color\": \"#E5ECF6\", \"width\": 0.5}}, \"type\": \"bar\"}], \"barpolar\": [{\"marker\": {\"line\": {\"color\": \"#E5ECF6\", \"width\": 0.5}}, \"type\": \"barpolar\"}], \"carpet\": [{\"aaxis\": {\"endlinecolor\": \"#2a3f5f\", \"gridcolor\": \"white\", \"linecolor\": \"white\", \"minorgridcolor\": \"white\", \"startlinecolor\": \"#2a3f5f\"}, \"baxis\": {\"endlinecolor\": \"#2a3f5f\", \"gridcolor\": \"white\", \"linecolor\": \"white\", \"minorgridcolor\": \"white\", \"startlinecolor\": \"#2a3f5f\"}, \"type\": \"carpet\"}], \"choropleth\": [{\"colorbar\": {\"outlinewidth\": 0, \"ticks\": \"\"}, \"type\": \"choropleth\"}], \"contour\": [{\"colorbar\": {\"outlinewidth\": 0, \"ticks\": \"\"}, \"colorscale\": [[0.0, \"#0d0887\"], [0.1111111111111111, \"#46039f\"], [0.2222222222222222, \"#7201a8\"], [0.3333333333333333, \"#9c179e\"], [0.4444444444444444, \"#bd3786\"], [0.5555555555555556, \"#d8576b\"], [0.6666666666666666, \"#ed7953\"], [0.7777777777777778, \"#fb9f3a\"], [0.8888888888888888, \"#fdca26\"], [1.0, \"#f0f921\"]], \"type\": \"contour\"}], \"contourcarpet\": [{\"colorbar\": {\"outlinewidth\": 0, \"ticks\": \"\"}, \"type\": \"contourcarpet\"}], \"heatmap\": [{\"colorbar\": {\"outlinewidth\": 0, \"ticks\": \"\"}, \"colorscale\": [[0.0, \"#0d0887\"], [0.1111111111111111, \"#46039f\"], [0.2222222222222222, \"#7201a8\"], [0.3333333333333333, \"#9c179e\"], [0.4444444444444444, \"#bd3786\"], [0.5555555555555556, \"#d8576b\"], [0.6666666666666666, \"#ed7953\"], [0.7777777777777778, \"#fb9f3a\"], [0.8888888888888888, \"#fdca26\"], [1.0, \"#f0f921\"]], \"type\": \"heatmap\"}], \"heatmapgl\": [{\"colorbar\": {\"outlinewidth\": 0, \"ticks\": \"\"}, \"colorscale\": [[0.0, \"#0d0887\"], [0.1111111111111111, \"#46039f\"], [0.2222222222222222, \"#7201a8\"], [0.3333333333333333, \"#9c179e\"], [0.4444444444444444, \"#bd3786\"], [0.5555555555555556, \"#d8576b\"], [0.6666666666666666, \"#ed7953\"], [0.7777777777777778, \"#fb9f3a\"], [0.8888888888888888, \"#fdca26\"], [1.0, \"#f0f921\"]], \"type\": \"heatmapgl\"}], \"histogram\": [{\"marker\": {\"colorbar\": {\"outlinewidth\": 0, \"ticks\": \"\"}}, \"type\": \"histogram\"}], \"histogram2d\": [{\"colorbar\": {\"outlinewidth\": 0, \"ticks\": \"\"}, \"colorscale\": [[0.0, \"#0d0887\"], [0.1111111111111111, \"#46039f\"], [0.2222222222222222, \"#7201a8\"], [0.3333333333333333, \"#9c179e\"], [0.4444444444444444, \"#bd3786\"], [0.5555555555555556, \"#d8576b\"], [0.6666666666666666, \"#ed7953\"], [0.7777777777777778, \"#fb9f3a\"], [0.8888888888888888, \"#fdca26\"], [1.0, \"#f0f921\"]], \"type\": \"histogram2d\"}], \"histogram2dcontour\": [{\"colorbar\": {\"outlinewidth\": 0, \"ticks\": \"\"}, \"colorscale\": [[0.0, \"#0d0887\"], [0.1111111111111111, \"#46039f\"], [0.2222222222222222, \"#7201a8\"], [0.3333333333333333, \"#9c179e\"], [0.4444444444444444, \"#bd3786\"], [0.5555555555555556, \"#d8576b\"], [0.6666666666666666, \"#ed7953\"], [0.7777777777777778, \"#fb9f3a\"], [0.8888888888888888, \"#fdca26\"], [1.0, \"#f0f921\"]], \"type\": \"histogram2dcontour\"}], \"mesh3d\": [{\"colorbar\": {\"outlinewidth\": 0, \"ticks\": \"\"}, \"type\": \"mesh3d\"}], \"parcoords\": [{\"line\": {\"colorbar\": {\"outlinewidth\": 0, \"ticks\": \"\"}}, \"type\": \"parcoords\"}], \"pie\": [{\"automargin\": true, \"type\": \"pie\"}], \"scatter\": [{\"marker\": {\"colorbar\": {\"outlinewidth\": 0, \"ticks\": \"\"}}, \"type\": \"scatter\"}], \"scatter3d\": [{\"line\": {\"colorbar\": {\"outlinewidth\": 0, \"ticks\": \"\"}}, \"marker\": {\"colorbar\": {\"outlinewidth\": 0, \"ticks\": \"\"}}, \"type\": \"scatter3d\"}], \"scattercarpet\": [{\"marker\": {\"colorbar\": {\"outlinewidth\": 0, \"ticks\": \"\"}}, \"type\": \"scattercarpet\"}], \"scattergeo\": [{\"marker\": {\"colorbar\": {\"outlinewidth\": 0, \"ticks\": \"\"}}, \"type\": \"scattergeo\"}], \"scattergl\": [{\"marker\": {\"colorbar\": {\"outlinewidth\": 0, \"ticks\": \"\"}}, \"type\": \"scattergl\"}], \"scattermapbox\": [{\"marker\": {\"colorbar\": {\"outlinewidth\": 0, \"ticks\": \"\"}}, \"type\": \"scattermapbox\"}], \"scatterpolar\": [{\"marker\": {\"colorbar\": {\"outlinewidth\": 0, \"ticks\": \"\"}}, \"type\": \"scatterpolar\"}], \"scatterpolargl\": [{\"marker\": {\"colorbar\": {\"outlinewidth\": 0, \"ticks\": \"\"}}, \"type\": \"scatterpolargl\"}], \"scatterternary\": [{\"marker\": {\"colorbar\": {\"outlinewidth\": 0, \"ticks\": \"\"}}, \"type\": \"scatterternary\"}], \"surface\": [{\"colorbar\": {\"outlinewidth\": 0, \"ticks\": \"\"}, \"colorscale\": [[0.0, \"#0d0887\"], [0.1111111111111111, \"#46039f\"], [0.2222222222222222, \"#7201a8\"], [0.3333333333333333, \"#9c179e\"], [0.4444444444444444, \"#bd3786\"], [0.5555555555555556, \"#d8576b\"], [0.6666666666666666, \"#ed7953\"], [0.7777777777777778, \"#fb9f3a\"], [0.8888888888888888, \"#fdca26\"], [1.0, \"#f0f921\"]], \"type\": \"surface\"}], \"table\": [{\"cells\": {\"fill\": {\"color\": \"#EBF0F8\"}, \"line\": {\"color\": \"white\"}}, \"header\": {\"fill\": {\"color\": \"#C8D4E3\"}, \"line\": {\"color\": \"white\"}}, \"type\": \"table\"}]}, \"layout\": {\"annotationdefaults\": {\"arrowcolor\": \"#2a3f5f\", \"arrowhead\": 0, \"arrowwidth\": 1}, \"coloraxis\": {\"colorbar\": {\"outlinewidth\": 0, \"ticks\": \"\"}}, \"colorscale\": {\"diverging\": [[0, \"#8e0152\"], [0.1, \"#c51b7d\"], [0.2, \"#de77ae\"], [0.3, \"#f1b6da\"], [0.4, \"#fde0ef\"], [0.5, \"#f7f7f7\"], [0.6, \"#e6f5d0\"], [0.7, \"#b8e186\"], [0.8, \"#7fbc41\"], [0.9, \"#4d9221\"], [1, \"#276419\"]], \"sequential\": [[0.0, \"#0d0887\"], [0.1111111111111111, \"#46039f\"], [0.2222222222222222, \"#7201a8\"], [0.3333333333333333, \"#9c179e\"], [0.4444444444444444, \"#bd3786\"], [0.5555555555555556, \"#d8576b\"], [0.6666666666666666, \"#ed7953\"], [0.7777777777777778, \"#fb9f3a\"], [0.8888888888888888, \"#fdca26\"], [1.0, \"#f0f921\"]], \"sequentialminus\": [[0.0, \"#0d0887\"], [0.1111111111111111, \"#46039f\"], [0.2222222222222222, \"#7201a8\"], [0.3333333333333333, \"#9c179e\"], [0.4444444444444444, \"#bd3786\"], [0.5555555555555556, \"#d8576b\"], [0.6666666666666666, \"#ed7953\"], [0.7777777777777778, \"#fb9f3a\"], [0.8888888888888888, \"#fdca26\"], [1.0, \"#f0f921\"]]}, \"colorway\": [\"#636efa\", \"#EF553B\", \"#00cc96\", \"#ab63fa\", \"#FFA15A\", \"#19d3f3\", \"#FF6692\", \"#B6E880\", \"#FF97FF\", \"#FECB52\"], \"font\": {\"color\": \"#2a3f5f\"}, \"geo\": {\"bgcolor\": \"white\", \"lakecolor\": \"white\", \"landcolor\": \"#E5ECF6\", \"showlakes\": true, \"showland\": true, \"subunitcolor\": \"white\"}, \"hoverlabel\": {\"align\": \"left\"}, \"hovermode\": \"closest\", \"mapbox\": {\"style\": \"light\"}, \"paper_bgcolor\": \"white\", \"plot_bgcolor\": \"#E5ECF6\", \"polar\": {\"angularaxis\": {\"gridcolor\": \"white\", \"linecolor\": \"white\", \"ticks\": \"\"}, \"bgcolor\": \"#E5ECF6\", \"radialaxis\": {\"gridcolor\": \"white\", \"linecolor\": \"white\", \"ticks\": \"\"}}, \"scene\": {\"xaxis\": {\"backgroundcolor\": \"#E5ECF6\", \"gridcolor\": \"white\", \"gridwidth\": 2, \"linecolor\": \"white\", \"showbackground\": true, \"ticks\": \"\", \"zerolinecolor\": \"white\"}, \"yaxis\": {\"backgroundcolor\": \"#E5ECF6\", \"gridcolor\": \"white\", \"gridwidth\": 2, \"linecolor\": \"white\", \"showbackground\": true, \"ticks\": \"\", \"zerolinecolor\": \"white\"}, \"zaxis\": {\"backgroundcolor\": \"#E5ECF6\", \"gridcolor\": \"white\", \"gridwidth\": 2, \"linecolor\": \"white\", \"showbackground\": true, \"ticks\": \"\", \"zerolinecolor\": \"white\"}}, \"shapedefaults\": {\"line\": {\"color\": \"#2a3f5f\"}}, \"ternary\": {\"aaxis\": {\"gridcolor\": \"white\", \"linecolor\": \"white\", \"ticks\": \"\"}, \"baxis\": {\"gridcolor\": \"white\", \"linecolor\": \"white\", \"ticks\": \"\"}, \"bgcolor\": \"#E5ECF6\", \"caxis\": {\"gridcolor\": \"white\", \"linecolor\": \"white\", \"ticks\": \"\"}}, \"title\": {\"x\": 0.05}, \"xaxis\": {\"automargin\": true, \"gridcolor\": \"white\", \"linecolor\": \"white\", \"ticks\": \"\", \"title\": {\"standoff\": 15}, \"zerolinecolor\": \"white\", \"zerolinewidth\": 2}, \"yaxis\": {\"automargin\": true, \"gridcolor\": \"white\", \"linecolor\": \"white\", \"ticks\": \"\", \"title\": {\"standoff\": 15}, \"zerolinecolor\": \"white\", \"zerolinewidth\": 2}}}},\n",
              "                        {\"responsive\": true}\n",
              "                    ).then(function(){\n",
              "                            \n",
              "var gd = document.getElementById('d7bea1c6-b45f-4497-8495-ba51841710db');\n",
              "var x = new MutationObserver(function (mutations, observer) {{\n",
              "        var display = window.getComputedStyle(gd).display;\n",
              "        if (!display || display === 'none') {{\n",
              "            console.log([gd, 'removed!']);\n",
              "            Plotly.purge(gd);\n",
              "            observer.disconnect();\n",
              "        }}\n",
              "}});\n",
              "\n",
              "// Listen for the removal of the full notebook cells\n",
              "var notebookContainer = gd.closest('#notebook-container');\n",
              "if (notebookContainer) {{\n",
              "    x.observe(notebookContainer, {childList: true});\n",
              "}}\n",
              "\n",
              "// Listen for the clearing of the current output cell\n",
              "var outputEl = gd.closest('.output');\n",
              "if (outputEl) {{\n",
              "    x.observe(outputEl, {childList: true});\n",
              "}}\n",
              "\n",
              "                        })\n",
              "                };\n",
              "                \n",
              "            </script>\n",
              "        </div>\n",
              "</body>\n",
              "</html>"
            ]
          },
          "metadata": {
            "tags": []
          }
        }
      ]
    }
  ]
}